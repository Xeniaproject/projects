{
 "cells": [
  {
   "cell_type": "markdown",
   "metadata": {},
   "source": [
    "Дашборд"
   ]
  },
  {
   "cell_type": "markdown",
   "metadata": {},
   "source": [
    "https://public.tableau.com/app/profile/ksenia7929/viz/Retailproject_16534869050960/Dashboard1?publish=yes"
   ]
  },
  {
   "cell_type": "markdown",
   "metadata": {},
   "source": [
    "Презентация"
   ]
  },
  {
   "cell_type": "markdown",
   "metadata": {},
   "source": [
    "https://disk.yandex.ru/d/MO5_3libfG7_RA"
   ]
  },
  {
   "cell_type": "markdown",
   "metadata": {},
   "source": [
    "# Анализ программы лояльности "
   ]
  },
  {
   "cell_type": "markdown",
   "metadata": {},
   "source": [
    "## Описание проекта"
   ]
  },
  {
   "cell_type": "markdown",
   "metadata": {},
   "source": [
    "Датасет содержит данные о покупках в магазине строительных материалов «Строили, строили и наконец построили». Все покупатели могут получить доступ в магазин с использованием персональных карт. За 200 рублей в месяц они могут стать участниками программы лояльности. В программу включены скидки, специальные предложения, подарки."
   ]
  },
  {
   "cell_type": "markdown",
   "metadata": {},
   "source": [
    "Цель:"
   ]
  },
  {
   "cell_type": "markdown",
   "metadata": {},
   "source": [
    "* Дать рекомендации к программе лояльности магазина"
   ]
  },
  {
   "cell_type": "markdown",
   "metadata": {},
   "source": [
    "Задачи:"
   ]
  },
  {
   "cell_type": "markdown",
   "metadata": {},
   "source": [
    "* Провести анализ программы лояльности на основании данных о покупках клиентов"
   ]
  },
  {
   "cell_type": "markdown",
   "metadata": {},
   "source": [
    "## Изучение и предобработка данных"
   ]
  },
  {
   "cell_type": "code",
   "execution_count": 1,
   "metadata": {},
   "outputs": [],
   "source": [
    "import pandas as pd\n",
    "import numpy as np\n",
    "import matplotlib.pyplot as plt\n",
    "import seaborn as sns\n",
    "import math as mth\n",
    "sns.set(rc = {'figure.figsize':(10, 7)}) \n",
    "import warnings\n",
    "warnings.filterwarnings('ignore')\n",
    "from scipy import stats as st"
   ]
  },
  {
   "cell_type": "code",
   "execution_count": 2,
   "metadata": {},
   "outputs": [],
   "source": [
    "pd.set_option('display.float_format', '{:.2f}'.format)"
   ]
  },
  {
   "cell_type": "code",
   "execution_count": 3,
   "metadata": {
    "scrolled": false
   },
   "outputs": [
    {
     "data": {
      "text/html": [
       "<div>\n",
       "<style scoped>\n",
       "    .dataframe tbody tr th:only-of-type {\n",
       "        vertical-align: middle;\n",
       "    }\n",
       "\n",
       "    .dataframe tbody tr th {\n",
       "        vertical-align: top;\n",
       "    }\n",
       "\n",
       "    .dataframe thead th {\n",
       "        text-align: right;\n",
       "    }\n",
       "</style>\n",
       "<table border=\"1\" class=\"dataframe\">\n",
       "  <thead>\n",
       "    <tr style=\"text-align: right;\">\n",
       "      <th></th>\n",
       "      <th>purchaseid</th>\n",
       "      <th>item_ID</th>\n",
       "      <th>Quantity</th>\n",
       "      <th>purchasedate</th>\n",
       "      <th>CustomerID</th>\n",
       "      <th>ShopID</th>\n",
       "      <th>loyalty_program</th>\n",
       "    </tr>\n",
       "  </thead>\n",
       "  <tbody>\n",
       "    <tr>\n",
       "      <th>0</th>\n",
       "      <td>538280</td>\n",
       "      <td>21873</td>\n",
       "      <td>11</td>\n",
       "      <td>2016-12-10 12:50:00</td>\n",
       "      <td>18427.00</td>\n",
       "      <td>Shop 0</td>\n",
       "      <td>0.00</td>\n",
       "    </tr>\n",
       "    <tr>\n",
       "      <th>1</th>\n",
       "      <td>538862</td>\n",
       "      <td>22195</td>\n",
       "      <td>0</td>\n",
       "      <td>2016-12-14 14:11:00</td>\n",
       "      <td>22389.00</td>\n",
       "      <td>Shop 0</td>\n",
       "      <td>1.00</td>\n",
       "    </tr>\n",
       "    <tr>\n",
       "      <th>2</th>\n",
       "      <td>538855</td>\n",
       "      <td>21239</td>\n",
       "      <td>7</td>\n",
       "      <td>2016-12-14 13:50:00</td>\n",
       "      <td>22182.00</td>\n",
       "      <td>Shop 0</td>\n",
       "      <td>1.00</td>\n",
       "    </tr>\n",
       "    <tr>\n",
       "      <th>3</th>\n",
       "      <td>543543</td>\n",
       "      <td>22271</td>\n",
       "      <td>0</td>\n",
       "      <td>2017-02-09 15:33:00</td>\n",
       "      <td>23522.00</td>\n",
       "      <td>Shop 0</td>\n",
       "      <td>1.00</td>\n",
       "    </tr>\n",
       "    <tr>\n",
       "      <th>4</th>\n",
       "      <td>543812</td>\n",
       "      <td>79321</td>\n",
       "      <td>0</td>\n",
       "      <td>2017-02-13 14:40:00</td>\n",
       "      <td>23151.00</td>\n",
       "      <td>Shop 0</td>\n",
       "      <td>1.00</td>\n",
       "    </tr>\n",
       "    <tr>\n",
       "      <th>5</th>\n",
       "      <td>538379</td>\n",
       "      <td>22965</td>\n",
       "      <td>0</td>\n",
       "      <td>2016-12-12 11:26:00</td>\n",
       "      <td>22805.00</td>\n",
       "      <td>Shop 0</td>\n",
       "      <td>1.00</td>\n",
       "    </tr>\n",
       "    <tr>\n",
       "      <th>6</th>\n",
       "      <td>540468</td>\n",
       "      <td>22189</td>\n",
       "      <td>0</td>\n",
       "      <td>2017-01-07 13:55:00</td>\n",
       "      <td>NaN</td>\n",
       "      <td>Shop 0</td>\n",
       "      <td>0.00</td>\n",
       "    </tr>\n",
       "    <tr>\n",
       "      <th>7</th>\n",
       "      <td>541424</td>\n",
       "      <td>79321</td>\n",
       "      <td>1</td>\n",
       "      <td>2017-01-17 17:57:00</td>\n",
       "      <td>NaN</td>\n",
       "      <td>Shop 0</td>\n",
       "      <td>0.00</td>\n",
       "    </tr>\n",
       "    <tr>\n",
       "      <th>8</th>\n",
       "      <td>538883</td>\n",
       "      <td>22891</td>\n",
       "      <td>0</td>\n",
       "      <td>2016-12-14 15:56:00</td>\n",
       "      <td>NaN</td>\n",
       "      <td>Shop 0</td>\n",
       "      <td>0.00</td>\n",
       "    </tr>\n",
       "    <tr>\n",
       "      <th>9</th>\n",
       "      <td>539501</td>\n",
       "      <td>22372</td>\n",
       "      <td>0</td>\n",
       "      <td>2016-12-20 11:08:00</td>\n",
       "      <td>22764.00</td>\n",
       "      <td>Shop 0</td>\n",
       "      <td>1.00</td>\n",
       "    </tr>\n",
       "  </tbody>\n",
       "</table>\n",
       "</div>"
      ],
      "text/plain": [
       "  purchaseid item_ID  Quantity         purchasedate  CustomerID  ShopID  \\\n",
       "0     538280   21873        11  2016-12-10 12:50:00    18427.00  Shop 0   \n",
       "1     538862   22195         0  2016-12-14 14:11:00    22389.00  Shop 0   \n",
       "2     538855   21239         7  2016-12-14 13:50:00    22182.00  Shop 0   \n",
       "3     543543   22271         0  2017-02-09 15:33:00    23522.00  Shop 0   \n",
       "4     543812   79321         0  2017-02-13 14:40:00    23151.00  Shop 0   \n",
       "5     538379   22965         0  2016-12-12 11:26:00    22805.00  Shop 0   \n",
       "6     540468   22189         0  2017-01-07 13:55:00         NaN  Shop 0   \n",
       "7     541424   79321         1  2017-01-17 17:57:00         NaN  Shop 0   \n",
       "8     538883   22891         0  2016-12-14 15:56:00         NaN  Shop 0   \n",
       "9     539501   22372         0  2016-12-20 11:08:00    22764.00  Shop 0   \n",
       "\n",
       "   loyalty_program  \n",
       "0             0.00  \n",
       "1             1.00  \n",
       "2             1.00  \n",
       "3             1.00  \n",
       "4             1.00  \n",
       "5             1.00  \n",
       "6             0.00  \n",
       "7             0.00  \n",
       "8             0.00  \n",
       "9             1.00  "
      ]
     },
     "execution_count": 3,
     "metadata": {},
     "output_type": "execute_result"
    }
   ],
   "source": [
    "retail = pd.read_csv('/datasets/retail_dataset.csv')\n",
    "retail.head(10)"
   ]
  },
  {
   "cell_type": "code",
   "execution_count": 4,
   "metadata": {
    "scrolled": true
   },
   "outputs": [
    {
     "name": "stdout",
     "output_type": "stream",
     "text": [
      "<class 'pandas.core.frame.DataFrame'>\n",
      "RangeIndex: 105335 entries, 0 to 105334\n",
      "Data columns (total 7 columns):\n",
      " #   Column           Non-Null Count   Dtype  \n",
      "---  ------           --------------   -----  \n",
      " 0   purchaseid       105335 non-null  object \n",
      " 1   item_ID          105335 non-null  object \n",
      " 2   Quantity         105335 non-null  int64  \n",
      " 3   purchasedate     105335 non-null  object \n",
      " 4   CustomerID       69125 non-null   float64\n",
      " 5   ShopID           105335 non-null  object \n",
      " 6   loyalty_program  105335 non-null  float64\n",
      "dtypes: float64(2), int64(1), object(4)\n",
      "memory usage: 5.6+ MB\n"
     ]
    }
   ],
   "source": [
    "retail.info()"
   ]
  },
  {
   "cell_type": "code",
   "execution_count": 5,
   "metadata": {},
   "outputs": [
    {
     "data": {
      "text/html": [
       "<div>\n",
       "<style scoped>\n",
       "    .dataframe tbody tr th:only-of-type {\n",
       "        vertical-align: middle;\n",
       "    }\n",
       "\n",
       "    .dataframe tbody tr th {\n",
       "        vertical-align: top;\n",
       "    }\n",
       "\n",
       "    .dataframe thead th {\n",
       "        text-align: right;\n",
       "    }\n",
       "</style>\n",
       "<table border=\"1\" class=\"dataframe\">\n",
       "  <thead>\n",
       "    <tr style=\"text-align: right;\">\n",
       "      <th></th>\n",
       "      <th>productID</th>\n",
       "      <th>price_per_one</th>\n",
       "    </tr>\n",
       "  </thead>\n",
       "  <tbody>\n",
       "    <tr>\n",
       "      <th>0</th>\n",
       "      <td>85123A</td>\n",
       "      <td>2.55</td>\n",
       "    </tr>\n",
       "    <tr>\n",
       "      <th>1</th>\n",
       "      <td>71053</td>\n",
       "      <td>3.39</td>\n",
       "    </tr>\n",
       "    <tr>\n",
       "      <th>2</th>\n",
       "      <td>84406B</td>\n",
       "      <td>2.75</td>\n",
       "    </tr>\n",
       "    <tr>\n",
       "      <th>3</th>\n",
       "      <td>84029G</td>\n",
       "      <td>3.39</td>\n",
       "    </tr>\n",
       "    <tr>\n",
       "      <th>4</th>\n",
       "      <td>84029E</td>\n",
       "      <td>3.39</td>\n",
       "    </tr>\n",
       "    <tr>\n",
       "      <th>5</th>\n",
       "      <td>22752</td>\n",
       "      <td>7.65</td>\n",
       "    </tr>\n",
       "    <tr>\n",
       "      <th>6</th>\n",
       "      <td>21730</td>\n",
       "      <td>4.25</td>\n",
       "    </tr>\n",
       "    <tr>\n",
       "      <th>7</th>\n",
       "      <td>22633</td>\n",
       "      <td>1.85</td>\n",
       "    </tr>\n",
       "    <tr>\n",
       "      <th>8</th>\n",
       "      <td>22632</td>\n",
       "      <td>1.85</td>\n",
       "    </tr>\n",
       "    <tr>\n",
       "      <th>9</th>\n",
       "      <td>84879</td>\n",
       "      <td>1.69</td>\n",
       "    </tr>\n",
       "  </tbody>\n",
       "</table>\n",
       "</div>"
      ],
      "text/plain": [
       "  productID  price_per_one\n",
       "0    85123A           2.55\n",
       "1     71053           3.39\n",
       "2    84406B           2.75\n",
       "3    84029G           3.39\n",
       "4    84029E           3.39\n",
       "5     22752           7.65\n",
       "6     21730           4.25\n",
       "7     22633           1.85\n",
       "8     22632           1.85\n",
       "9     84879           1.69"
      ]
     },
     "execution_count": 5,
     "metadata": {},
     "output_type": "execute_result"
    }
   ],
   "source": [
    "product = pd.read_csv('/datasets/product_codes.csv')\n",
    "product.head(10)"
   ]
  },
  {
   "cell_type": "code",
   "execution_count": 6,
   "metadata": {},
   "outputs": [
    {
     "name": "stdout",
     "output_type": "stream",
     "text": [
      "<class 'pandas.core.frame.DataFrame'>\n",
      "RangeIndex: 9969 entries, 0 to 9968\n",
      "Data columns (total 2 columns):\n",
      " #   Column         Non-Null Count  Dtype  \n",
      "---  ------         --------------  -----  \n",
      " 0   productID      9969 non-null   object \n",
      " 1   price_per_one  9969 non-null   float64\n",
      "dtypes: float64(1), object(1)\n",
      "memory usage: 155.9+ KB\n"
     ]
    }
   ],
   "source": [
    "product.info()"
   ]
  },
  {
   "cell_type": "markdown",
   "metadata": {},
   "source": [
    "Первое, что надо исправить - записать название столбцов в едином регистре. Поменять тип данных в столбцах. Также у нас есть пропуски в столбце CustomerID. Надо выяснить причину и принять решение, что с ними делать."
   ]
  },
  {
   "cell_type": "markdown",
   "metadata": {},
   "source": [
    "### Работа с названием колонок"
   ]
  },
  {
   "cell_type": "markdown",
   "metadata": {},
   "source": [
    "Для удобства дальнейшей работы переименуем название столбцов. Приведем их к \"змеиному\" регистру"
   ]
  },
  {
   "cell_type": "code",
   "execution_count": 7,
   "metadata": {},
   "outputs": [
    {
     "data": {
      "text/plain": [
       "Index(['purchaseid', 'item_ID', 'Quantity', 'purchasedate', 'CustomerID',\n",
       "       'ShopID', 'loyalty_program'],\n",
       "      dtype='object')"
      ]
     },
     "execution_count": 7,
     "metadata": {},
     "output_type": "execute_result"
    }
   ],
   "source": [
    "retail.columns"
   ]
  },
  {
   "cell_type": "code",
   "execution_count": 8,
   "metadata": {
    "scrolled": true
   },
   "outputs": [
    {
     "data": {
      "text/html": [
       "<div>\n",
       "<style scoped>\n",
       "    .dataframe tbody tr th:only-of-type {\n",
       "        vertical-align: middle;\n",
       "    }\n",
       "\n",
       "    .dataframe tbody tr th {\n",
       "        vertical-align: top;\n",
       "    }\n",
       "\n",
       "    .dataframe thead th {\n",
       "        text-align: right;\n",
       "    }\n",
       "</style>\n",
       "<table border=\"1\" class=\"dataframe\">\n",
       "  <thead>\n",
       "    <tr style=\"text-align: right;\">\n",
       "      <th></th>\n",
       "      <th>purchase_id</th>\n",
       "      <th>product_id</th>\n",
       "      <th>quantity</th>\n",
       "      <th>purchase_date</th>\n",
       "      <th>customer_id</th>\n",
       "      <th>shop_id</th>\n",
       "      <th>loyalty_program</th>\n",
       "    </tr>\n",
       "  </thead>\n",
       "  <tbody>\n",
       "    <tr>\n",
       "      <th>0</th>\n",
       "      <td>538280</td>\n",
       "      <td>21873</td>\n",
       "      <td>11</td>\n",
       "      <td>2016-12-10 12:50:00</td>\n",
       "      <td>18427.00</td>\n",
       "      <td>Shop 0</td>\n",
       "      <td>0.00</td>\n",
       "    </tr>\n",
       "    <tr>\n",
       "      <th>1</th>\n",
       "      <td>538862</td>\n",
       "      <td>22195</td>\n",
       "      <td>0</td>\n",
       "      <td>2016-12-14 14:11:00</td>\n",
       "      <td>22389.00</td>\n",
       "      <td>Shop 0</td>\n",
       "      <td>1.00</td>\n",
       "    </tr>\n",
       "    <tr>\n",
       "      <th>2</th>\n",
       "      <td>538855</td>\n",
       "      <td>21239</td>\n",
       "      <td>7</td>\n",
       "      <td>2016-12-14 13:50:00</td>\n",
       "      <td>22182.00</td>\n",
       "      <td>Shop 0</td>\n",
       "      <td>1.00</td>\n",
       "    </tr>\n",
       "    <tr>\n",
       "      <th>3</th>\n",
       "      <td>543543</td>\n",
       "      <td>22271</td>\n",
       "      <td>0</td>\n",
       "      <td>2017-02-09 15:33:00</td>\n",
       "      <td>23522.00</td>\n",
       "      <td>Shop 0</td>\n",
       "      <td>1.00</td>\n",
       "    </tr>\n",
       "    <tr>\n",
       "      <th>4</th>\n",
       "      <td>543812</td>\n",
       "      <td>79321</td>\n",
       "      <td>0</td>\n",
       "      <td>2017-02-13 14:40:00</td>\n",
       "      <td>23151.00</td>\n",
       "      <td>Shop 0</td>\n",
       "      <td>1.00</td>\n",
       "    </tr>\n",
       "  </tbody>\n",
       "</table>\n",
       "</div>"
      ],
      "text/plain": [
       "  purchase_id product_id  quantity        purchase_date  customer_id shop_id  \\\n",
       "0      538280      21873        11  2016-12-10 12:50:00     18427.00  Shop 0   \n",
       "1      538862      22195         0  2016-12-14 14:11:00     22389.00  Shop 0   \n",
       "2      538855      21239         7  2016-12-14 13:50:00     22182.00  Shop 0   \n",
       "3      543543      22271         0  2017-02-09 15:33:00     23522.00  Shop 0   \n",
       "4      543812      79321         0  2017-02-13 14:40:00     23151.00  Shop 0   \n",
       "\n",
       "   loyalty_program  \n",
       "0             0.00  \n",
       "1             1.00  \n",
       "2             1.00  \n",
       "3             1.00  \n",
       "4             1.00  "
      ]
     },
     "execution_count": 8,
     "metadata": {},
     "output_type": "execute_result"
    }
   ],
   "source": [
    "retail.columns = ['purchase_id', 'product_id', 'quantity', 'purchase_date', 'customer_id',\n",
    "       'shop_id', 'loyalty_program']\n",
    "retail.head()"
   ]
  },
  {
   "cell_type": "code",
   "execution_count": 9,
   "metadata": {},
   "outputs": [
    {
     "data": {
      "text/plain": [
       "Index(['productID', 'price_per_one'], dtype='object')"
      ]
     },
     "execution_count": 9,
     "metadata": {},
     "output_type": "execute_result"
    }
   ],
   "source": [
    "product.columns"
   ]
  },
  {
   "cell_type": "code",
   "execution_count": 10,
   "metadata": {},
   "outputs": [
    {
     "data": {
      "text/html": [
       "<div>\n",
       "<style scoped>\n",
       "    .dataframe tbody tr th:only-of-type {\n",
       "        vertical-align: middle;\n",
       "    }\n",
       "\n",
       "    .dataframe tbody tr th {\n",
       "        vertical-align: top;\n",
       "    }\n",
       "\n",
       "    .dataframe thead th {\n",
       "        text-align: right;\n",
       "    }\n",
       "</style>\n",
       "<table border=\"1\" class=\"dataframe\">\n",
       "  <thead>\n",
       "    <tr style=\"text-align: right;\">\n",
       "      <th></th>\n",
       "      <th>product_id</th>\n",
       "      <th>price_per_one</th>\n",
       "    </tr>\n",
       "  </thead>\n",
       "  <tbody>\n",
       "    <tr>\n",
       "      <th>0</th>\n",
       "      <td>85123A</td>\n",
       "      <td>2.55</td>\n",
       "    </tr>\n",
       "    <tr>\n",
       "      <th>1</th>\n",
       "      <td>71053</td>\n",
       "      <td>3.39</td>\n",
       "    </tr>\n",
       "    <tr>\n",
       "      <th>2</th>\n",
       "      <td>84406B</td>\n",
       "      <td>2.75</td>\n",
       "    </tr>\n",
       "    <tr>\n",
       "      <th>3</th>\n",
       "      <td>84029G</td>\n",
       "      <td>3.39</td>\n",
       "    </tr>\n",
       "    <tr>\n",
       "      <th>4</th>\n",
       "      <td>84029E</td>\n",
       "      <td>3.39</td>\n",
       "    </tr>\n",
       "  </tbody>\n",
       "</table>\n",
       "</div>"
      ],
      "text/plain": [
       "  product_id  price_per_one\n",
       "0     85123A           2.55\n",
       "1      71053           3.39\n",
       "2     84406B           2.75\n",
       "3     84029G           3.39\n",
       "4     84029E           3.39"
      ]
     },
     "execution_count": 10,
     "metadata": {},
     "output_type": "execute_result"
    }
   ],
   "source": [
    "product.columns = ['product_id', 'price_per_one']\n",
    "product.head()"
   ]
  },
  {
   "cell_type": "markdown",
   "metadata": {},
   "source": [
    "### Работа с пропущенными значений"
   ]
  },
  {
   "cell_type": "markdown",
   "metadata": {},
   "source": [
    "Посчитаем общее количество и процент пропусков в столбце customer_id"
   ]
  },
  {
   "cell_type": "code",
   "execution_count": 11,
   "metadata": {
    "scrolled": true
   },
   "outputs": [
    {
     "data": {
      "text/plain": [
       "36210"
      ]
     },
     "metadata": {},
     "output_type": "display_data"
    },
    {
     "data": {
      "text/plain": [
       "34.38"
      ]
     },
     "metadata": {},
     "output_type": "display_data"
    }
   ],
   "source": [
    "total = retail['customer_id'].isnull().sum()\n",
    "display(total)\n",
    "percent = ((retail['customer_id'].isnull().sum() / retail['customer_id'].isnull().count())*100).round(2)\n",
    "display(percent)"
   ]
  },
  {
   "cell_type": "markdown",
   "metadata": {},
   "source": [
    "У нас 34% пропущенных значений в столбце customer_id. Это достаточно много для удаления. "
   ]
  },
  {
   "cell_type": "markdown",
   "metadata": {},
   "source": [
    "Посмотрим записи, где есть пропущенные значения. Возможно пропуски у того, кто не является участником программы лояльности?"
   ]
  },
  {
   "cell_type": "code",
   "execution_count": 12,
   "metadata": {},
   "outputs": [
    {
     "data": {
      "text/html": [
       "<div>\n",
       "<style scoped>\n",
       "    .dataframe tbody tr th:only-of-type {\n",
       "        vertical-align: middle;\n",
       "    }\n",
       "\n",
       "    .dataframe tbody tr th {\n",
       "        vertical-align: top;\n",
       "    }\n",
       "\n",
       "    .dataframe thead th {\n",
       "        text-align: right;\n",
       "    }\n",
       "</style>\n",
       "<table border=\"1\" class=\"dataframe\">\n",
       "  <thead>\n",
       "    <tr style=\"text-align: right;\">\n",
       "      <th></th>\n",
       "      <th>purchase_id</th>\n",
       "      <th>product_id</th>\n",
       "      <th>quantity</th>\n",
       "      <th>purchase_date</th>\n",
       "      <th>customer_id</th>\n",
       "      <th>shop_id</th>\n",
       "      <th>loyalty_program</th>\n",
       "    </tr>\n",
       "  </thead>\n",
       "  <tbody>\n",
       "    <tr>\n",
       "      <th>6</th>\n",
       "      <td>540468</td>\n",
       "      <td>22189</td>\n",
       "      <td>0</td>\n",
       "      <td>2017-01-07 13:55:00</td>\n",
       "      <td>NaN</td>\n",
       "      <td>Shop 0</td>\n",
       "      <td>0.00</td>\n",
       "    </tr>\n",
       "    <tr>\n",
       "      <th>7</th>\n",
       "      <td>541424</td>\n",
       "      <td>79321</td>\n",
       "      <td>1</td>\n",
       "      <td>2017-01-17 17:57:00</td>\n",
       "      <td>NaN</td>\n",
       "      <td>Shop 0</td>\n",
       "      <td>0.00</td>\n",
       "    </tr>\n",
       "    <tr>\n",
       "      <th>8</th>\n",
       "      <td>538883</td>\n",
       "      <td>22891</td>\n",
       "      <td>0</td>\n",
       "      <td>2016-12-14 15:56:00</td>\n",
       "      <td>NaN</td>\n",
       "      <td>Shop 0</td>\n",
       "      <td>0.00</td>\n",
       "    </tr>\n",
       "    <tr>\n",
       "      <th>11</th>\n",
       "      <td>541696</td>\n",
       "      <td>22197</td>\n",
       "      <td>4</td>\n",
       "      <td>2017-01-20 18:08:00</td>\n",
       "      <td>NaN</td>\n",
       "      <td>Shop 0</td>\n",
       "      <td>0.00</td>\n",
       "    </tr>\n",
       "    <tr>\n",
       "      <th>16</th>\n",
       "      <td>539744</td>\n",
       "      <td>22300</td>\n",
       "      <td>5</td>\n",
       "      <td>2016-12-21 15:21:00</td>\n",
       "      <td>NaN</td>\n",
       "      <td>Shop 0</td>\n",
       "      <td>0.00</td>\n",
       "    </tr>\n",
       "    <tr>\n",
       "      <th>...</th>\n",
       "      <td>...</td>\n",
       "      <td>...</td>\n",
       "      <td>...</td>\n",
       "      <td>...</td>\n",
       "      <td>...</td>\n",
       "      <td>...</td>\n",
       "      <td>...</td>\n",
       "    </tr>\n",
       "    <tr>\n",
       "      <th>105325</th>\n",
       "      <td>536982</td>\n",
       "      <td>20719</td>\n",
       "      <td>69</td>\n",
       "      <td>2016-12-03 14:27:00</td>\n",
       "      <td>NaN</td>\n",
       "      <td>Shop 0</td>\n",
       "      <td>0.00</td>\n",
       "    </tr>\n",
       "    <tr>\n",
       "      <th>105326</th>\n",
       "      <td>540681</td>\n",
       "      <td>22227</td>\n",
       "      <td>1</td>\n",
       "      <td>2017-01-10 16:25:00</td>\n",
       "      <td>NaN</td>\n",
       "      <td>Shop 0</td>\n",
       "      <td>0.00</td>\n",
       "    </tr>\n",
       "    <tr>\n",
       "      <th>105327</th>\n",
       "      <td>538349</td>\n",
       "      <td>22625</td>\n",
       "      <td>0</td>\n",
       "      <td>2016-12-10 14:59:00</td>\n",
       "      <td>NaN</td>\n",
       "      <td>Shop 0</td>\n",
       "      <td>0.00</td>\n",
       "    </tr>\n",
       "    <tr>\n",
       "      <th>105329</th>\n",
       "      <td>540154</td>\n",
       "      <td>22134</td>\n",
       "      <td>3</td>\n",
       "      <td>2017-01-05 11:30:00</td>\n",
       "      <td>NaN</td>\n",
       "      <td>Shop 0</td>\n",
       "      <td>0.00</td>\n",
       "    </tr>\n",
       "    <tr>\n",
       "      <th>105330</th>\n",
       "      <td>538566</td>\n",
       "      <td>21826</td>\n",
       "      <td>1</td>\n",
       "      <td>2016-12-13 11:21:00</td>\n",
       "      <td>NaN</td>\n",
       "      <td>Shop 0</td>\n",
       "      <td>0.00</td>\n",
       "    </tr>\n",
       "  </tbody>\n",
       "</table>\n",
       "<p>36210 rows × 7 columns</p>\n",
       "</div>"
      ],
      "text/plain": [
       "       purchase_id product_id  quantity        purchase_date  customer_id  \\\n",
       "6           540468      22189         0  2017-01-07 13:55:00          NaN   \n",
       "7           541424      79321         1  2017-01-17 17:57:00          NaN   \n",
       "8           538883      22891         0  2016-12-14 15:56:00          NaN   \n",
       "11          541696      22197         4  2017-01-20 18:08:00          NaN   \n",
       "16          539744      22300         5  2016-12-21 15:21:00          NaN   \n",
       "...            ...        ...       ...                  ...          ...   \n",
       "105325      536982      20719        69  2016-12-03 14:27:00          NaN   \n",
       "105326      540681      22227         1  2017-01-10 16:25:00          NaN   \n",
       "105327      538349      22625         0  2016-12-10 14:59:00          NaN   \n",
       "105329      540154      22134         3  2017-01-05 11:30:00          NaN   \n",
       "105330      538566      21826         1  2016-12-13 11:21:00          NaN   \n",
       "\n",
       "       shop_id  loyalty_program  \n",
       "6       Shop 0             0.00  \n",
       "7       Shop 0             0.00  \n",
       "8       Shop 0             0.00  \n",
       "11      Shop 0             0.00  \n",
       "16      Shop 0             0.00  \n",
       "...        ...              ...  \n",
       "105325  Shop 0             0.00  \n",
       "105326  Shop 0             0.00  \n",
       "105327  Shop 0             0.00  \n",
       "105329  Shop 0             0.00  \n",
       "105330  Shop 0             0.00  \n",
       "\n",
       "[36210 rows x 7 columns]"
      ]
     },
     "execution_count": 12,
     "metadata": {},
     "output_type": "execute_result"
    }
   ],
   "source": [
    "retail.loc[retail['customer_id'].isnull()]"
   ]
  },
  {
   "cell_type": "code",
   "execution_count": 13,
   "metadata": {
    "scrolled": false
   },
   "outputs": [
    {
     "name": "stdout",
     "output_type": "stream",
     "text": [
      "0.00    36210\n",
      "Name: loyalty_program, dtype: int64\n"
     ]
    }
   ],
   "source": [
    "print(retail.loc[retail['customer_id'].isnull()]['loyalty_program'].value_counts())"
   ]
  },
  {
   "cell_type": "markdown",
   "metadata": {},
   "source": [
    "Везде, где есть пропуски в customer_id - покупка осуществлена покупателем не из программы лояльности. Но если посмотреть все данные, то можно увидеть, что даже тот, кто имеет customer_id - может не являться участником программы лояльности."
   ]
  },
  {
   "cell_type": "code",
   "execution_count": 14,
   "metadata": {},
   "outputs": [
    {
     "data": {
      "text/html": [
       "<div>\n",
       "<style scoped>\n",
       "    .dataframe tbody tr th:only-of-type {\n",
       "        vertical-align: middle;\n",
       "    }\n",
       "\n",
       "    .dataframe tbody tr th {\n",
       "        vertical-align: top;\n",
       "    }\n",
       "\n",
       "    .dataframe thead th {\n",
       "        text-align: right;\n",
       "    }\n",
       "</style>\n",
       "<table border=\"1\" class=\"dataframe\">\n",
       "  <thead>\n",
       "    <tr style=\"text-align: right;\">\n",
       "      <th></th>\n",
       "      <th>purchase_id</th>\n",
       "      <th>product_id</th>\n",
       "      <th>quantity</th>\n",
       "      <th>purchase_date</th>\n",
       "      <th>customer_id</th>\n",
       "      <th>shop_id</th>\n",
       "      <th>loyalty_program</th>\n",
       "    </tr>\n",
       "  </thead>\n",
       "  <tbody>\n",
       "    <tr>\n",
       "      <th>11019</th>\n",
       "      <td>542812</td>\n",
       "      <td>21355</td>\n",
       "      <td>0</td>\n",
       "      <td>2017-02-01 11:21:00</td>\n",
       "      <td>20529.00</td>\n",
       "      <td>Shop 0</td>\n",
       "      <td>0.00</td>\n",
       "    </tr>\n",
       "    <tr>\n",
       "      <th>46032</th>\n",
       "      <td>536762</td>\n",
       "      <td>20971</td>\n",
       "      <td>11</td>\n",
       "      <td>2016-12-02 14:40:00</td>\n",
       "      <td>21865.00</td>\n",
       "      <td>Shop 0</td>\n",
       "      <td>0.00</td>\n",
       "    </tr>\n",
       "    <tr>\n",
       "      <th>99385</th>\n",
       "      <td>541104</td>\n",
       "      <td>21993</td>\n",
       "      <td>1</td>\n",
       "      <td>2017-01-13 14:29:00</td>\n",
       "      <td>NaN</td>\n",
       "      <td>Shop 0</td>\n",
       "      <td>0.00</td>\n",
       "    </tr>\n",
       "    <tr>\n",
       "      <th>90882</th>\n",
       "      <td>536971</td>\n",
       "      <td>22969</td>\n",
       "      <td>11</td>\n",
       "      <td>2016-12-03 13:40:00</td>\n",
       "      <td>18458.00</td>\n",
       "      <td>Shop 9</td>\n",
       "      <td>0.00</td>\n",
       "    </tr>\n",
       "    <tr>\n",
       "      <th>14977</th>\n",
       "      <td>537153</td>\n",
       "      <td>22975</td>\n",
       "      <td>11</td>\n",
       "      <td>2016-12-05 13:03:00</td>\n",
       "      <td>22397.00</td>\n",
       "      <td>Shop 0</td>\n",
       "      <td>1.00</td>\n",
       "    </tr>\n",
       "  </tbody>\n",
       "</table>\n",
       "</div>"
      ],
      "text/plain": [
       "      purchase_id product_id  quantity        purchase_date  customer_id  \\\n",
       "11019      542812      21355         0  2017-02-01 11:21:00     20529.00   \n",
       "46032      536762      20971        11  2016-12-02 14:40:00     21865.00   \n",
       "99385      541104      21993         1  2017-01-13 14:29:00          NaN   \n",
       "90882      536971      22969        11  2016-12-03 13:40:00     18458.00   \n",
       "14977      537153      22975        11  2016-12-05 13:03:00     22397.00   \n",
       "\n",
       "      shop_id  loyalty_program  \n",
       "11019  Shop 0             0.00  \n",
       "46032  Shop 0             0.00  \n",
       "99385  Shop 0             0.00  \n",
       "90882  Shop 9             0.00  \n",
       "14977  Shop 0             1.00  "
      ]
     },
     "execution_count": 14,
     "metadata": {},
     "output_type": "execute_result"
    }
   ],
   "source": [
    "retail.sample(5)"
   ]
  },
  {
   "cell_type": "markdown",
   "metadata": {},
   "source": [
    "Возможно, что действительно тот, кто не имеет customer_id - не является участником программы лояльности. А причина, почему у тех customer_id есть, а признак участия в проограмме отсутствует, может объясняться тем, что товар, который они приобрели не участвует в никаких акциях и участие в программе никак не повлияло на стоимость товара."
   ]
  },
  {
   "cell_type": "markdown",
   "metadata": {},
   "source": [
    "Для нашего исследования эти пропуски не столь важны, но удалять записи с ними нежелательно, поэтому заменим пропущенные id покупателей на единицы."
   ]
  },
  {
   "cell_type": "code",
   "execution_count": 15,
   "metadata": {},
   "outputs": [
    {
     "data": {
      "text/html": [
       "<div>\n",
       "<style scoped>\n",
       "    .dataframe tbody tr th:only-of-type {\n",
       "        vertical-align: middle;\n",
       "    }\n",
       "\n",
       "    .dataframe tbody tr th {\n",
       "        vertical-align: top;\n",
       "    }\n",
       "\n",
       "    .dataframe thead th {\n",
       "        text-align: right;\n",
       "    }\n",
       "</style>\n",
       "<table border=\"1\" class=\"dataframe\">\n",
       "  <thead>\n",
       "    <tr style=\"text-align: right;\">\n",
       "      <th></th>\n",
       "      <th>purchase_id</th>\n",
       "      <th>product_id</th>\n",
       "      <th>quantity</th>\n",
       "      <th>purchase_date</th>\n",
       "      <th>customer_id</th>\n",
       "      <th>shop_id</th>\n",
       "      <th>loyalty_program</th>\n",
       "    </tr>\n",
       "  </thead>\n",
       "  <tbody>\n",
       "    <tr>\n",
       "      <th>36104</th>\n",
       "      <td>542777</td>\n",
       "      <td>21259</td>\n",
       "      <td>1</td>\n",
       "      <td>2017-02-01 08:31:00</td>\n",
       "      <td>20590.00</td>\n",
       "      <td>Shop 6</td>\n",
       "      <td>0.00</td>\n",
       "    </tr>\n",
       "    <tr>\n",
       "      <th>50339</th>\n",
       "      <td>541002</td>\n",
       "      <td>21380</td>\n",
       "      <td>5</td>\n",
       "      <td>2017-01-13 10:33:00</td>\n",
       "      <td>18630.00</td>\n",
       "      <td>Shop 0</td>\n",
       "      <td>0.00</td>\n",
       "    </tr>\n",
       "    <tr>\n",
       "      <th>87840</th>\n",
       "      <td>537382</td>\n",
       "      <td>85199S</td>\n",
       "      <td>1</td>\n",
       "      <td>2016-12-06 13:13:00</td>\n",
       "      <td>22389.00</td>\n",
       "      <td>Shop 0</td>\n",
       "      <td>1.00</td>\n",
       "    </tr>\n",
       "    <tr>\n",
       "      <th>43407</th>\n",
       "      <td>541008</td>\n",
       "      <td>21084</td>\n",
       "      <td>2</td>\n",
       "      <td>2017-01-13 10:48:00</td>\n",
       "      <td>23527.00</td>\n",
       "      <td>Shop 0</td>\n",
       "      <td>1.00</td>\n",
       "    </tr>\n",
       "    <tr>\n",
       "      <th>48976</th>\n",
       "      <td>539933</td>\n",
       "      <td>72741</td>\n",
       "      <td>8</td>\n",
       "      <td>2016-12-23 11:24:00</td>\n",
       "      <td>20914.00</td>\n",
       "      <td>Shop 0</td>\n",
       "      <td>0.00</td>\n",
       "    </tr>\n",
       "    <tr>\n",
       "      <th>75899</th>\n",
       "      <td>540551</td>\n",
       "      <td>21555</td>\n",
       "      <td>2</td>\n",
       "      <td>2017-01-10 09:43:00</td>\n",
       "      <td>1.00</td>\n",
       "      <td>Shop 0</td>\n",
       "      <td>0.00</td>\n",
       "    </tr>\n",
       "    <tr>\n",
       "      <th>59539</th>\n",
       "      <td>539750</td>\n",
       "      <td>22728</td>\n",
       "      <td>1</td>\n",
       "      <td>2016-12-21 15:40:00</td>\n",
       "      <td>1.00</td>\n",
       "      <td>Shop 0</td>\n",
       "      <td>0.00</td>\n",
       "    </tr>\n",
       "    <tr>\n",
       "      <th>23399</th>\n",
       "      <td>537880</td>\n",
       "      <td>21588</td>\n",
       "      <td>11</td>\n",
       "      <td>2016-12-09 09:14:00</td>\n",
       "      <td>18642.00</td>\n",
       "      <td>Shop 0</td>\n",
       "      <td>0.00</td>\n",
       "    </tr>\n",
       "    <tr>\n",
       "      <th>51065</th>\n",
       "      <td>536544</td>\n",
       "      <td>22560</td>\n",
       "      <td>0</td>\n",
       "      <td>2016-12-01 14:32:00</td>\n",
       "      <td>1.00</td>\n",
       "      <td>Shop 0</td>\n",
       "      <td>0.00</td>\n",
       "    </tr>\n",
       "    <tr>\n",
       "      <th>27159</th>\n",
       "      <td>544180</td>\n",
       "      <td>21071</td>\n",
       "      <td>11</td>\n",
       "      <td>2017-02-16 14:48:00</td>\n",
       "      <td>19988.00</td>\n",
       "      <td>Shop 0</td>\n",
       "      <td>0.00</td>\n",
       "    </tr>\n",
       "  </tbody>\n",
       "</table>\n",
       "</div>"
      ],
      "text/plain": [
       "      purchase_id product_id  quantity        purchase_date  customer_id  \\\n",
       "36104      542777      21259         1  2017-02-01 08:31:00     20590.00   \n",
       "50339      541002      21380         5  2017-01-13 10:33:00     18630.00   \n",
       "87840      537382     85199S         1  2016-12-06 13:13:00     22389.00   \n",
       "43407      541008      21084         2  2017-01-13 10:48:00     23527.00   \n",
       "48976      539933      72741         8  2016-12-23 11:24:00     20914.00   \n",
       "75899      540551      21555         2  2017-01-10 09:43:00         1.00   \n",
       "59539      539750      22728         1  2016-12-21 15:40:00         1.00   \n",
       "23399      537880      21588        11  2016-12-09 09:14:00     18642.00   \n",
       "51065      536544      22560         0  2016-12-01 14:32:00         1.00   \n",
       "27159      544180      21071        11  2017-02-16 14:48:00     19988.00   \n",
       "\n",
       "      shop_id  loyalty_program  \n",
       "36104  Shop 6             0.00  \n",
       "50339  Shop 0             0.00  \n",
       "87840  Shop 0             1.00  \n",
       "43407  Shop 0             1.00  \n",
       "48976  Shop 0             0.00  \n",
       "75899  Shop 0             0.00  \n",
       "59539  Shop 0             0.00  \n",
       "23399  Shop 0             0.00  \n",
       "51065  Shop 0             0.00  \n",
       "27159  Shop 0             0.00  "
      ]
     },
     "execution_count": 15,
     "metadata": {},
     "output_type": "execute_result"
    }
   ],
   "source": [
    "retail['customer_id'] = retail['customer_id'].fillna(1)\n",
    "retail.sample(10)"
   ]
  },
  {
   "cell_type": "markdown",
   "metadata": {},
   "source": [
    "### Работа с соответствием типов данных"
   ]
  },
  {
   "cell_type": "markdown",
   "metadata": {},
   "source": [
    "Следует заменить тип данных в  loyalty_program на int, в customer_id на int, а purchase_date на datetime"
   ]
  },
  {
   "cell_type": "code",
   "execution_count": 16,
   "metadata": {},
   "outputs": [],
   "source": [
    "retail['purchase_date'] = pd.to_datetime(retail['purchase_date'], format='%Y-%m-%dT%H:%M:%S')\n",
    "retail['loyalty_program'] = retail['loyalty_program'].astype('int')\n",
    "retail['customer_id'] = retail['customer_id'].astype('int')"
   ]
  },
  {
   "cell_type": "markdown",
   "metadata": {},
   "source": [
    "Столбцы product_id и purchase_id имеют как цифры, так и буквы, оставляем тип данных изначальный."
   ]
  },
  {
   "cell_type": "code",
   "execution_count": 17,
   "metadata": {
    "scrolled": true
   },
   "outputs": [
    {
     "name": "stdout",
     "output_type": "stream",
     "text": [
      "<class 'pandas.core.frame.DataFrame'>\n",
      "RangeIndex: 105335 entries, 0 to 105334\n",
      "Data columns (total 7 columns):\n",
      " #   Column           Non-Null Count   Dtype         \n",
      "---  ------           --------------   -----         \n",
      " 0   purchase_id      105335 non-null  object        \n",
      " 1   product_id       105335 non-null  object        \n",
      " 2   quantity         105335 non-null  int64         \n",
      " 3   purchase_date    105335 non-null  datetime64[ns]\n",
      " 4   customer_id      105335 non-null  int64         \n",
      " 5   shop_id          105335 non-null  object        \n",
      " 6   loyalty_program  105335 non-null  int64         \n",
      "dtypes: datetime64[ns](1), int64(3), object(3)\n",
      "memory usage: 5.6+ MB\n"
     ]
    }
   ],
   "source": [
    "retail.info()"
   ]
  },
  {
   "cell_type": "markdown",
   "metadata": {},
   "source": [
    "В датафрейме product типы данных корректны"
   ]
  },
  {
   "cell_type": "markdown",
   "metadata": {},
   "source": [
    "### Работа с дубликатами"
   ]
  },
  {
   "cell_type": "markdown",
   "metadata": {},
   "source": [
    "Посмотрим общее количество дубликатов"
   ]
  },
  {
   "cell_type": "code",
   "execution_count": 18,
   "metadata": {},
   "outputs": [
    {
     "data": {
      "text/plain": [
       "1033"
      ]
     },
     "execution_count": 18,
     "metadata": {},
     "output_type": "execute_result"
    }
   ],
   "source": [
    "retail.duplicated().sum()"
   ]
  },
  {
   "cell_type": "markdown",
   "metadata": {},
   "source": [
    "Посмотрим на эти строки"
   ]
  },
  {
   "cell_type": "code",
   "execution_count": 19,
   "metadata": {
    "scrolled": true
   },
   "outputs": [
    {
     "data": {
      "text/html": [
       "<div>\n",
       "<style scoped>\n",
       "    .dataframe tbody tr th:only-of-type {\n",
       "        vertical-align: middle;\n",
       "    }\n",
       "\n",
       "    .dataframe tbody tr th {\n",
       "        vertical-align: top;\n",
       "    }\n",
       "\n",
       "    .dataframe thead th {\n",
       "        text-align: right;\n",
       "    }\n",
       "</style>\n",
       "<table border=\"1\" class=\"dataframe\">\n",
       "  <thead>\n",
       "    <tr style=\"text-align: right;\">\n",
       "      <th></th>\n",
       "      <th>purchase_id</th>\n",
       "      <th>product_id</th>\n",
       "      <th>quantity</th>\n",
       "      <th>purchase_date</th>\n",
       "      <th>customer_id</th>\n",
       "      <th>shop_id</th>\n",
       "      <th>loyalty_program</th>\n",
       "    </tr>\n",
       "  </thead>\n",
       "  <tbody>\n",
       "    <tr>\n",
       "      <th>5345</th>\n",
       "      <td>537265</td>\n",
       "      <td>21499</td>\n",
       "      <td>24</td>\n",
       "      <td>2016-12-06 11:26:00</td>\n",
       "      <td>21598</td>\n",
       "      <td>Shop 0</td>\n",
       "      <td>0</td>\n",
       "    </tr>\n",
       "    <tr>\n",
       "      <th>5863</th>\n",
       "      <td>540803</td>\n",
       "      <td>21485</td>\n",
       "      <td>0</td>\n",
       "      <td>2017-01-11 12:30:00</td>\n",
       "      <td>20348</td>\n",
       "      <td>Shop 0</td>\n",
       "      <td>0</td>\n",
       "    </tr>\n",
       "    <tr>\n",
       "      <th>6893</th>\n",
       "      <td>540524</td>\n",
       "      <td>21326</td>\n",
       "      <td>11</td>\n",
       "      <td>2017-01-09 12:53:00</td>\n",
       "      <td>22414</td>\n",
       "      <td>Shop 0</td>\n",
       "      <td>1</td>\n",
       "    </tr>\n",
       "    <tr>\n",
       "      <th>7821</th>\n",
       "      <td>537192</td>\n",
       "      <td>22585</td>\n",
       "      <td>0</td>\n",
       "      <td>2016-12-05 13:42:00</td>\n",
       "      <td>22081</td>\n",
       "      <td>Shop 0</td>\n",
       "      <td>1</td>\n",
       "    </tr>\n",
       "    <tr>\n",
       "      <th>10806</th>\n",
       "      <td>537772</td>\n",
       "      <td>22080</td>\n",
       "      <td>4</td>\n",
       "      <td>2016-12-08 12:35:00</td>\n",
       "      <td>23722</td>\n",
       "      <td>Shop 0</td>\n",
       "      <td>1</td>\n",
       "    </tr>\n",
       "    <tr>\n",
       "      <th>...</th>\n",
       "      <td>...</td>\n",
       "      <td>...</td>\n",
       "      <td>...</td>\n",
       "      <td>...</td>\n",
       "      <td>...</td>\n",
       "      <td>...</td>\n",
       "      <td>...</td>\n",
       "    </tr>\n",
       "    <tr>\n",
       "      <th>105164</th>\n",
       "      <td>542224</td>\n",
       "      <td>22178</td>\n",
       "      <td>5</td>\n",
       "      <td>2017-01-26 12:45:00</td>\n",
       "      <td>23567</td>\n",
       "      <td>Shop 0</td>\n",
       "      <td>1</td>\n",
       "    </tr>\n",
       "    <tr>\n",
       "      <th>105173</th>\n",
       "      <td>544153</td>\n",
       "      <td>82552</td>\n",
       "      <td>1</td>\n",
       "      <td>2017-02-16 12:11:00</td>\n",
       "      <td>21035</td>\n",
       "      <td>Shop 0</td>\n",
       "      <td>0</td>\n",
       "    </tr>\n",
       "    <tr>\n",
       "      <th>105178</th>\n",
       "      <td>540839</td>\n",
       "      <td>21123</td>\n",
       "      <td>0</td>\n",
       "      <td>2017-01-11 15:42:00</td>\n",
       "      <td>22470</td>\n",
       "      <td>Shop 0</td>\n",
       "      <td>1</td>\n",
       "    </tr>\n",
       "    <tr>\n",
       "      <th>105229</th>\n",
       "      <td>543277</td>\n",
       "      <td>21533</td>\n",
       "      <td>0</td>\n",
       "      <td>2017-02-06 14:33:00</td>\n",
       "      <td>21487</td>\n",
       "      <td>Shop 0</td>\n",
       "      <td>0</td>\n",
       "    </tr>\n",
       "    <tr>\n",
       "      <th>105233</th>\n",
       "      <td>538313</td>\n",
       "      <td>22725</td>\n",
       "      <td>0</td>\n",
       "      <td>2016-12-10 13:50:00</td>\n",
       "      <td>21193</td>\n",
       "      <td>Shop 0</td>\n",
       "      <td>0</td>\n",
       "    </tr>\n",
       "  </tbody>\n",
       "</table>\n",
       "<p>1033 rows × 7 columns</p>\n",
       "</div>"
      ],
      "text/plain": [
       "       purchase_id product_id  quantity       purchase_date  customer_id  \\\n",
       "5345        537265      21499        24 2016-12-06 11:26:00        21598   \n",
       "5863        540803      21485         0 2017-01-11 12:30:00        20348   \n",
       "6893        540524      21326        11 2017-01-09 12:53:00        22414   \n",
       "7821        537192      22585         0 2016-12-05 13:42:00        22081   \n",
       "10806       537772      22080         4 2016-12-08 12:35:00        23722   \n",
       "...            ...        ...       ...                 ...          ...   \n",
       "105164      542224      22178         5 2017-01-26 12:45:00        23567   \n",
       "105173      544153      82552         1 2017-02-16 12:11:00        21035   \n",
       "105178      540839      21123         0 2017-01-11 15:42:00        22470   \n",
       "105229      543277      21533         0 2017-02-06 14:33:00        21487   \n",
       "105233      538313      22725         0 2016-12-10 13:50:00        21193   \n",
       "\n",
       "       shop_id  loyalty_program  \n",
       "5345    Shop 0                0  \n",
       "5863    Shop 0                0  \n",
       "6893    Shop 0                1  \n",
       "7821    Shop 0                1  \n",
       "10806   Shop 0                1  \n",
       "...        ...              ...  \n",
       "105164  Shop 0                1  \n",
       "105173  Shop 0                0  \n",
       "105178  Shop 0                1  \n",
       "105229  Shop 0                0  \n",
       "105233  Shop 0                0  \n",
       "\n",
       "[1033 rows x 7 columns]"
      ]
     },
     "execution_count": 19,
     "metadata": {},
     "output_type": "execute_result"
    }
   ],
   "source": [
    "retail.loc[retail.duplicated(), :]"
   ]
  },
  {
   "cell_type": "code",
   "execution_count": 20,
   "metadata": {},
   "outputs": [
    {
     "data": {
      "text/html": [
       "<div>\n",
       "<style scoped>\n",
       "    .dataframe tbody tr th:only-of-type {\n",
       "        vertical-align: middle;\n",
       "    }\n",
       "\n",
       "    .dataframe tbody tr th {\n",
       "        vertical-align: top;\n",
       "    }\n",
       "\n",
       "    .dataframe thead th {\n",
       "        text-align: right;\n",
       "    }\n",
       "</style>\n",
       "<table border=\"1\" class=\"dataframe\">\n",
       "  <thead>\n",
       "    <tr style=\"text-align: right;\">\n",
       "      <th></th>\n",
       "      <th>purchase_id</th>\n",
       "      <th>product_id</th>\n",
       "      <th>quantity</th>\n",
       "      <th>purchase_date</th>\n",
       "      <th>customer_id</th>\n",
       "      <th>shop_id</th>\n",
       "      <th>loyalty_program</th>\n",
       "    </tr>\n",
       "  </thead>\n",
       "  <tbody>\n",
       "    <tr>\n",
       "      <th>1700</th>\n",
       "      <td>537265</td>\n",
       "      <td>21499</td>\n",
       "      <td>24</td>\n",
       "      <td>2016-12-06 11:26:00</td>\n",
       "      <td>21598</td>\n",
       "      <td>Shop 0</td>\n",
       "      <td>0</td>\n",
       "    </tr>\n",
       "    <tr>\n",
       "      <th>5345</th>\n",
       "      <td>537265</td>\n",
       "      <td>21499</td>\n",
       "      <td>24</td>\n",
       "      <td>2016-12-06 11:26:00</td>\n",
       "      <td>21598</td>\n",
       "      <td>Shop 0</td>\n",
       "      <td>0</td>\n",
       "    </tr>\n",
       "  </tbody>\n",
       "</table>\n",
       "</div>"
      ],
      "text/plain": [
       "     purchase_id product_id  quantity       purchase_date  customer_id  \\\n",
       "1700      537265      21499        24 2016-12-06 11:26:00        21598   \n",
       "5345      537265      21499        24 2016-12-06 11:26:00        21598   \n",
       "\n",
       "     shop_id  loyalty_program  \n",
       "1700  Shop 0                0  \n",
       "5345  Shop 0                0  "
      ]
     },
     "execution_count": 20,
     "metadata": {},
     "output_type": "execute_result"
    }
   ],
   "source": [
    "retail.query('product_id==\"21499\" and purchase_id==\"537265\"')"
   ]
  },
  {
   "cell_type": "markdown",
   "metadata": {},
   "source": [
    "Дубликаты могли возникнуть из-за того, что продавец пробивал каждый товар, даже если он был одинаковый. Или отсчитывал частями, писал количество и пробивал."
   ]
  },
  {
   "cell_type": "code",
   "execution_count": 21,
   "metadata": {},
   "outputs": [
    {
     "data": {
      "text/plain": [
       "0"
      ]
     },
     "execution_count": 21,
     "metadata": {},
     "output_type": "execute_result"
    }
   ],
   "source": [
    "product.duplicated().sum()"
   ]
  },
  {
   "cell_type": "markdown",
   "metadata": {},
   "source": [
    "В данным датафрейме нет дубликатов."
   ]
  },
  {
   "cell_type": "markdown",
   "metadata": {},
   "source": [
    "Добавим дату покупки, это должно быть удобнее, чем использовать дату со временем"
   ]
  },
  {
   "cell_type": "code",
   "execution_count": 22,
   "metadata": {
    "scrolled": true
   },
   "outputs": [
    {
     "data": {
      "text/html": [
       "<div>\n",
       "<style scoped>\n",
       "    .dataframe tbody tr th:only-of-type {\n",
       "        vertical-align: middle;\n",
       "    }\n",
       "\n",
       "    .dataframe tbody tr th {\n",
       "        vertical-align: top;\n",
       "    }\n",
       "\n",
       "    .dataframe thead th {\n",
       "        text-align: right;\n",
       "    }\n",
       "</style>\n",
       "<table border=\"1\" class=\"dataframe\">\n",
       "  <thead>\n",
       "    <tr style=\"text-align: right;\">\n",
       "      <th></th>\n",
       "      <th>purchase_id</th>\n",
       "      <th>product_id</th>\n",
       "      <th>quantity</th>\n",
       "      <th>purchase_date</th>\n",
       "      <th>customer_id</th>\n",
       "      <th>shop_id</th>\n",
       "      <th>loyalty_program</th>\n",
       "      <th>date</th>\n",
       "    </tr>\n",
       "  </thead>\n",
       "  <tbody>\n",
       "    <tr>\n",
       "      <th>0</th>\n",
       "      <td>538280</td>\n",
       "      <td>21873</td>\n",
       "      <td>11</td>\n",
       "      <td>2016-12-10 12:50:00</td>\n",
       "      <td>18427</td>\n",
       "      <td>Shop 0</td>\n",
       "      <td>0</td>\n",
       "      <td>2016-12-10</td>\n",
       "    </tr>\n",
       "    <tr>\n",
       "      <th>1</th>\n",
       "      <td>538862</td>\n",
       "      <td>22195</td>\n",
       "      <td>0</td>\n",
       "      <td>2016-12-14 14:11:00</td>\n",
       "      <td>22389</td>\n",
       "      <td>Shop 0</td>\n",
       "      <td>1</td>\n",
       "      <td>2016-12-14</td>\n",
       "    </tr>\n",
       "    <tr>\n",
       "      <th>2</th>\n",
       "      <td>538855</td>\n",
       "      <td>21239</td>\n",
       "      <td>7</td>\n",
       "      <td>2016-12-14 13:50:00</td>\n",
       "      <td>22182</td>\n",
       "      <td>Shop 0</td>\n",
       "      <td>1</td>\n",
       "      <td>2016-12-14</td>\n",
       "    </tr>\n",
       "    <tr>\n",
       "      <th>3</th>\n",
       "      <td>543543</td>\n",
       "      <td>22271</td>\n",
       "      <td>0</td>\n",
       "      <td>2017-02-09 15:33:00</td>\n",
       "      <td>23522</td>\n",
       "      <td>Shop 0</td>\n",
       "      <td>1</td>\n",
       "      <td>2017-02-09</td>\n",
       "    </tr>\n",
       "    <tr>\n",
       "      <th>4</th>\n",
       "      <td>543812</td>\n",
       "      <td>79321</td>\n",
       "      <td>0</td>\n",
       "      <td>2017-02-13 14:40:00</td>\n",
       "      <td>23151</td>\n",
       "      <td>Shop 0</td>\n",
       "      <td>1</td>\n",
       "      <td>2017-02-13</td>\n",
       "    </tr>\n",
       "  </tbody>\n",
       "</table>\n",
       "</div>"
      ],
      "text/plain": [
       "  purchase_id product_id  quantity       purchase_date  customer_id shop_id  \\\n",
       "0      538280      21873        11 2016-12-10 12:50:00        18427  Shop 0   \n",
       "1      538862      22195         0 2016-12-14 14:11:00        22389  Shop 0   \n",
       "2      538855      21239         7 2016-12-14 13:50:00        22182  Shop 0   \n",
       "3      543543      22271         0 2017-02-09 15:33:00        23522  Shop 0   \n",
       "4      543812      79321         0 2017-02-13 14:40:00        23151  Shop 0   \n",
       "\n",
       "   loyalty_program       date  \n",
       "0                0 2016-12-10  \n",
       "1                1 2016-12-14  \n",
       "2                1 2016-12-14  \n",
       "3                1 2017-02-09  \n",
       "4                1 2017-02-13  "
      ]
     },
     "execution_count": 22,
     "metadata": {},
     "output_type": "execute_result"
    }
   ],
   "source": [
    "retail['date'] = retail['purchase_date'].values.astype('datetime64[D]')\n",
    "retail.head()"
   ]
  },
  {
   "cell_type": "markdown",
   "metadata": {},
   "source": [
    "### Вывод"
   ]
  },
  {
   "cell_type": "markdown",
   "metadata": {},
   "source": [
    "Данные обработаны и готовы к дальнейшему анализу"
   ]
  },
  {
   "cell_type": "markdown",
   "metadata": {},
   "source": [
    "## Исследовательский анализ данных"
   ]
  },
  {
   "cell_type": "markdown",
   "metadata": {},
   "source": [
    "### Работа с выбросами"
   ]
  },
  {
   "cell_type": "markdown",
   "metadata": {},
   "source": [
    "Рассмотрим датафрейм retail при помощи метода describe. Может увидим что-то интересное"
   ]
  },
  {
   "cell_type": "code",
   "execution_count": 23,
   "metadata": {
    "scrolled": false
   },
   "outputs": [
    {
     "data": {
      "text/html": [
       "<div>\n",
       "<style scoped>\n",
       "    .dataframe tbody tr th:only-of-type {\n",
       "        vertical-align: middle;\n",
       "    }\n",
       "\n",
       "    .dataframe tbody tr th {\n",
       "        vertical-align: top;\n",
       "    }\n",
       "\n",
       "    .dataframe thead th {\n",
       "        text-align: right;\n",
       "    }\n",
       "</style>\n",
       "<table border=\"1\" class=\"dataframe\">\n",
       "  <thead>\n",
       "    <tr style=\"text-align: right;\">\n",
       "      <th></th>\n",
       "      <th>purchase_id</th>\n",
       "      <th>product_id</th>\n",
       "      <th>quantity</th>\n",
       "      <th>purchase_date</th>\n",
       "      <th>customer_id</th>\n",
       "      <th>shop_id</th>\n",
       "      <th>loyalty_program</th>\n",
       "      <th>date</th>\n",
       "    </tr>\n",
       "  </thead>\n",
       "  <tbody>\n",
       "    <tr>\n",
       "      <th>count</th>\n",
       "      <td>105335</td>\n",
       "      <td>105335</td>\n",
       "      <td>105335.00</td>\n",
       "      <td>105335</td>\n",
       "      <td>105335.00</td>\n",
       "      <td>105335</td>\n",
       "      <td>105335.00</td>\n",
       "      <td>105335</td>\n",
       "    </tr>\n",
       "    <tr>\n",
       "      <th>unique</th>\n",
       "      <td>4894</td>\n",
       "      <td>3159</td>\n",
       "      <td>NaN</td>\n",
       "      <td>4430</td>\n",
       "      <td>NaN</td>\n",
       "      <td>31</td>\n",
       "      <td>NaN</td>\n",
       "      <td>68</td>\n",
       "    </tr>\n",
       "    <tr>\n",
       "      <th>top</th>\n",
       "      <td>537434</td>\n",
       "      <td>85123A</td>\n",
       "      <td>NaN</td>\n",
       "      <td>2016-12-06 16:57:00</td>\n",
       "      <td>NaN</td>\n",
       "      <td>Shop 0</td>\n",
       "      <td>NaN</td>\n",
       "      <td>2016-12-06 00:00:00</td>\n",
       "    </tr>\n",
       "    <tr>\n",
       "      <th>freq</th>\n",
       "      <td>675</td>\n",
       "      <td>565</td>\n",
       "      <td>NaN</td>\n",
       "      <td>675</td>\n",
       "      <td>NaN</td>\n",
       "      <td>97393</td>\n",
       "      <td>NaN</td>\n",
       "      <td>3878</td>\n",
       "    </tr>\n",
       "    <tr>\n",
       "      <th>first</th>\n",
       "      <td>NaN</td>\n",
       "      <td>NaN</td>\n",
       "      <td>NaN</td>\n",
       "      <td>2016-12-01 08:26:00</td>\n",
       "      <td>NaN</td>\n",
       "      <td>NaN</td>\n",
       "      <td>NaN</td>\n",
       "      <td>2016-12-01 00:00:00</td>\n",
       "    </tr>\n",
       "    <tr>\n",
       "      <th>last</th>\n",
       "      <td>NaN</td>\n",
       "      <td>NaN</td>\n",
       "      <td>NaN</td>\n",
       "      <td>2017-02-28 17:04:00</td>\n",
       "      <td>NaN</td>\n",
       "      <td>NaN</td>\n",
       "      <td>NaN</td>\n",
       "      <td>2017-02-28 00:00:00</td>\n",
       "    </tr>\n",
       "    <tr>\n",
       "      <th>mean</th>\n",
       "      <td>NaN</td>\n",
       "      <td>NaN</td>\n",
       "      <td>7.82</td>\n",
       "      <td>NaN</td>\n",
       "      <td>13794.04</td>\n",
       "      <td>NaN</td>\n",
       "      <td>0.23</td>\n",
       "      <td>NaN</td>\n",
       "    </tr>\n",
       "    <tr>\n",
       "      <th>std</th>\n",
       "      <td>NaN</td>\n",
       "      <td>NaN</td>\n",
       "      <td>327.95</td>\n",
       "      <td>NaN</td>\n",
       "      <td>10084.87</td>\n",
       "      <td>NaN</td>\n",
       "      <td>0.42</td>\n",
       "      <td>NaN</td>\n",
       "    </tr>\n",
       "    <tr>\n",
       "      <th>min</th>\n",
       "      <td>NaN</td>\n",
       "      <td>NaN</td>\n",
       "      <td>-74216.00</td>\n",
       "      <td>NaN</td>\n",
       "      <td>1.00</td>\n",
       "      <td>NaN</td>\n",
       "      <td>0.00</td>\n",
       "      <td>NaN</td>\n",
       "    </tr>\n",
       "    <tr>\n",
       "      <th>25%</th>\n",
       "      <td>NaN</td>\n",
       "      <td>NaN</td>\n",
       "      <td>0.00</td>\n",
       "      <td>NaN</td>\n",
       "      <td>1.00</td>\n",
       "      <td>NaN</td>\n",
       "      <td>0.00</td>\n",
       "      <td>NaN</td>\n",
       "    </tr>\n",
       "    <tr>\n",
       "      <th>50%</th>\n",
       "      <td>NaN</td>\n",
       "      <td>NaN</td>\n",
       "      <td>2.00</td>\n",
       "      <td>NaN</td>\n",
       "      <td>19448.00</td>\n",
       "      <td>NaN</td>\n",
       "      <td>0.00</td>\n",
       "      <td>NaN</td>\n",
       "    </tr>\n",
       "    <tr>\n",
       "      <th>75%</th>\n",
       "      <td>NaN</td>\n",
       "      <td>NaN</td>\n",
       "      <td>7.00</td>\n",
       "      <td>NaN</td>\n",
       "      <td>21706.00</td>\n",
       "      <td>NaN</td>\n",
       "      <td>0.00</td>\n",
       "      <td>NaN</td>\n",
       "    </tr>\n",
       "    <tr>\n",
       "      <th>max</th>\n",
       "      <td>NaN</td>\n",
       "      <td>NaN</td>\n",
       "      <td>74214.00</td>\n",
       "      <td>NaN</td>\n",
       "      <td>23962.00</td>\n",
       "      <td>NaN</td>\n",
       "      <td>1.00</td>\n",
       "      <td>NaN</td>\n",
       "    </tr>\n",
       "  </tbody>\n",
       "</table>\n",
       "</div>"
      ],
      "text/plain": [
       "       purchase_id product_id  quantity        purchase_date  customer_id  \\\n",
       "count       105335     105335 105335.00               105335    105335.00   \n",
       "unique        4894       3159       NaN                 4430          NaN   \n",
       "top         537434     85123A       NaN  2016-12-06 16:57:00          NaN   \n",
       "freq           675        565       NaN                  675          NaN   \n",
       "first          NaN        NaN       NaN  2016-12-01 08:26:00          NaN   \n",
       "last           NaN        NaN       NaN  2017-02-28 17:04:00          NaN   \n",
       "mean           NaN        NaN      7.82                  NaN     13794.04   \n",
       "std            NaN        NaN    327.95                  NaN     10084.87   \n",
       "min            NaN        NaN -74216.00                  NaN         1.00   \n",
       "25%            NaN        NaN      0.00                  NaN         1.00   \n",
       "50%            NaN        NaN      2.00                  NaN     19448.00   \n",
       "75%            NaN        NaN      7.00                  NaN     21706.00   \n",
       "max            NaN        NaN  74214.00                  NaN     23962.00   \n",
       "\n",
       "       shop_id  loyalty_program                 date  \n",
       "count   105335        105335.00               105335  \n",
       "unique      31              NaN                   68  \n",
       "top     Shop 0              NaN  2016-12-06 00:00:00  \n",
       "freq     97393              NaN                 3878  \n",
       "first      NaN              NaN  2016-12-01 00:00:00  \n",
       "last       NaN              NaN  2017-02-28 00:00:00  \n",
       "mean       NaN             0.23                  NaN  \n",
       "std        NaN             0.42                  NaN  \n",
       "min        NaN             0.00                  NaN  \n",
       "25%        NaN             0.00                  NaN  \n",
       "50%        NaN             0.00                  NaN  \n",
       "75%        NaN             0.00                  NaN  \n",
       "max        NaN             1.00                  NaN  "
      ]
     },
     "execution_count": 23,
     "metadata": {},
     "output_type": "execute_result"
    }
   ],
   "source": [
    "retail.describe(include = \"all\")"
   ]
  },
  {
   "cell_type": "markdown",
   "metadata": {},
   "source": [
    "По столбцу quantity мы видим очень большое максимальнок количество. Как будто кто-то поштучно купил гвоздики или винтики. И при этом вернул их. Также надо заметить, что у нас достаточно много количества товра со значением \"0\"."
   ]
  },
  {
   "cell_type": "markdown",
   "metadata": {},
   "source": [
    "В данных представлен период за декабрь 2016, январь и февраль 2017. Максимальное количество покупок было 06.12.2016"
   ]
  },
  {
   "cell_type": "markdown",
   "metadata": {},
   "source": [
    "Самое большое количество товара продано в Shop 0, а всего представлен 31 магазин."
   ]
  },
  {
   "cell_type": "markdown",
   "metadata": {},
   "source": [
    "Построим график"
   ]
  },
  {
   "cell_type": "code",
   "execution_count": 24,
   "metadata": {
    "scrolled": false
   },
   "outputs": [
    {
     "data": {
      "image/png": "[encoded data removed]",
      "text/plain": [
       "<Figure size 720x504 with 1 Axes>"
      ]
     },
     "metadata": {},
     "output_type": "display_data"
    }
   ],
   "source": [
    "ax = sns.boxplot(y=retail['quantity'])\n",
    "ax.set(ylim = (-30, 40))\n",
    "ax.set_title('Распределение количества товара одной единицы в чеке')\n",
    "plt.ylabel('Количество товара одной единицы в чеке')\n",
    "plt.show()"
   ]
  },
  {
   "cell_type": "markdown",
   "metadata": {},
   "source": [
    "Посчитаем кваритили"
   ]
  },
  {
   "cell_type": "code",
   "execution_count": 25,
   "metadata": {},
   "outputs": [
    {
     "name": "stdout",
     "output_type": "stream",
     "text": [
      "Первый квартиль: 0\n",
      "Третий квартиль: 7\n",
      "Межквартильный размах: 7\n"
     ]
    }
   ],
   "source": [
    "Q1 = retail['quantity'].quantile(0.25)\n",
    "Q3 = retail['quantity'].quantile(0.75)\n",
    "IQR = Q3 - Q1\n",
    "print('Первый квартиль: {:.0f}'.format(Q1))\n",
    "print('Третий квартиль: {:.0f}'.format(Q3))\n",
    "print('Межквартильный размах: {:.0f}'.format(IQR))"
   ]
  },
  {
   "cell_type": "markdown",
   "metadata": {},
   "source": [
    "Посчитала квартили и еще раз убедились, что у нас достаточно товаров в чеке с количеством \"0\". Возможно это товары по акции и подарки по программе лояльности или ошибка в системе.Эти товары стоит оставить, при удалении изменится количество позиций в чеке."
   ]
  },
  {
   "cell_type": "markdown",
   "metadata": {},
   "source": [
    "Так как хвосты у распределений длинные, примем за выбросы наблюдения, выходящие за 3 IQR от Q1 и Q3:"
   ]
  },
  {
   "cell_type": "code",
   "execution_count": 26,
   "metadata": {},
   "outputs": [
    {
     "name": "stdout",
     "output_type": "stream",
     "text": [
      "Верхний порог: 28 единиц\n"
     ]
    }
   ],
   "source": [
    "print('Верхний порог: {:.0f} единиц'.format(Q3 + 3*IQR))"
   ]
  },
  {
   "cell_type": "markdown",
   "metadata": {},
   "source": [
    "Отфилитруем датафрейм по верхней границе. Берем как положительный, так и отрицательный порог, так как у нас есть возвраты."
   ]
  },
  {
   "cell_type": "code",
   "execution_count": 27,
   "metadata": {},
   "outputs": [
    {
     "data": {
      "text/html": [
       "<div>\n",
       "<style scoped>\n",
       "    .dataframe tbody tr th:only-of-type {\n",
       "        vertical-align: middle;\n",
       "    }\n",
       "\n",
       "    .dataframe tbody tr th {\n",
       "        vertical-align: top;\n",
       "    }\n",
       "\n",
       "    .dataframe thead th {\n",
       "        text-align: right;\n",
       "    }\n",
       "</style>\n",
       "<table border=\"1\" class=\"dataframe\">\n",
       "  <thead>\n",
       "    <tr style=\"text-align: right;\">\n",
       "      <th></th>\n",
       "      <th>purchase_id</th>\n",
       "      <th>product_id</th>\n",
       "      <th>quantity</th>\n",
       "      <th>purchase_date</th>\n",
       "      <th>customer_id</th>\n",
       "      <th>shop_id</th>\n",
       "      <th>loyalty_program</th>\n",
       "      <th>date</th>\n",
       "    </tr>\n",
       "  </thead>\n",
       "  <tbody>\n",
       "    <tr>\n",
       "      <th>0</th>\n",
       "      <td>538280</td>\n",
       "      <td>21873</td>\n",
       "      <td>11</td>\n",
       "      <td>2016-12-10 12:50:00</td>\n",
       "      <td>18427</td>\n",
       "      <td>Shop 0</td>\n",
       "      <td>0</td>\n",
       "      <td>2016-12-10</td>\n",
       "    </tr>\n",
       "    <tr>\n",
       "      <th>1</th>\n",
       "      <td>538862</td>\n",
       "      <td>22195</td>\n",
       "      <td>0</td>\n",
       "      <td>2016-12-14 14:11:00</td>\n",
       "      <td>22389</td>\n",
       "      <td>Shop 0</td>\n",
       "      <td>1</td>\n",
       "      <td>2016-12-14</td>\n",
       "    </tr>\n",
       "    <tr>\n",
       "      <th>2</th>\n",
       "      <td>538855</td>\n",
       "      <td>21239</td>\n",
       "      <td>7</td>\n",
       "      <td>2016-12-14 13:50:00</td>\n",
       "      <td>22182</td>\n",
       "      <td>Shop 0</td>\n",
       "      <td>1</td>\n",
       "      <td>2016-12-14</td>\n",
       "    </tr>\n",
       "    <tr>\n",
       "      <th>3</th>\n",
       "      <td>543543</td>\n",
       "      <td>22271</td>\n",
       "      <td>0</td>\n",
       "      <td>2017-02-09 15:33:00</td>\n",
       "      <td>23522</td>\n",
       "      <td>Shop 0</td>\n",
       "      <td>1</td>\n",
       "      <td>2017-02-09</td>\n",
       "    </tr>\n",
       "    <tr>\n",
       "      <th>4</th>\n",
       "      <td>543812</td>\n",
       "      <td>79321</td>\n",
       "      <td>0</td>\n",
       "      <td>2017-02-13 14:40:00</td>\n",
       "      <td>23151</td>\n",
       "      <td>Shop 0</td>\n",
       "      <td>1</td>\n",
       "      <td>2017-02-13</td>\n",
       "    </tr>\n",
       "    <tr>\n",
       "      <th>...</th>\n",
       "      <td>...</td>\n",
       "      <td>...</td>\n",
       "      <td>...</td>\n",
       "      <td>...</td>\n",
       "      <td>...</td>\n",
       "      <td>...</td>\n",
       "      <td>...</td>\n",
       "      <td>...</td>\n",
       "    </tr>\n",
       "    <tr>\n",
       "      <th>105330</th>\n",
       "      <td>538566</td>\n",
       "      <td>21826</td>\n",
       "      <td>1</td>\n",
       "      <td>2016-12-13 11:21:00</td>\n",
       "      <td>1</td>\n",
       "      <td>Shop 0</td>\n",
       "      <td>0</td>\n",
       "      <td>2016-12-13</td>\n",
       "    </tr>\n",
       "    <tr>\n",
       "      <th>105331</th>\n",
       "      <td>540247</td>\n",
       "      <td>21742</td>\n",
       "      <td>0</td>\n",
       "      <td>2017-01-05 15:56:00</td>\n",
       "      <td>21143</td>\n",
       "      <td>Shop 0</td>\n",
       "      <td>0</td>\n",
       "      <td>2017-01-05</td>\n",
       "    </tr>\n",
       "    <tr>\n",
       "      <th>105332</th>\n",
       "      <td>538068</td>\n",
       "      <td>85048</td>\n",
       "      <td>1</td>\n",
       "      <td>2016-12-09 14:05:00</td>\n",
       "      <td>23657</td>\n",
       "      <td>Shop 0</td>\n",
       "      <td>1</td>\n",
       "      <td>2016-12-09</td>\n",
       "    </tr>\n",
       "    <tr>\n",
       "      <th>105333</th>\n",
       "      <td>538207</td>\n",
       "      <td>22818</td>\n",
       "      <td>11</td>\n",
       "      <td>2016-12-10 11:33:00</td>\n",
       "      <td>18427</td>\n",
       "      <td>Shop 0</td>\n",
       "      <td>0</td>\n",
       "      <td>2016-12-10</td>\n",
       "    </tr>\n",
       "    <tr>\n",
       "      <th>105334</th>\n",
       "      <td>543977</td>\n",
       "      <td>22384</td>\n",
       "      <td>9</td>\n",
       "      <td>2017-02-14 15:35:00</td>\n",
       "      <td>21294</td>\n",
       "      <td>Shop 0</td>\n",
       "      <td>0</td>\n",
       "      <td>2017-02-14</td>\n",
       "    </tr>\n",
       "  </tbody>\n",
       "</table>\n",
       "<p>100430 rows × 8 columns</p>\n",
       "</div>"
      ],
      "text/plain": [
       "       purchase_id product_id  quantity       purchase_date  customer_id  \\\n",
       "0           538280      21873        11 2016-12-10 12:50:00        18427   \n",
       "1           538862      22195         0 2016-12-14 14:11:00        22389   \n",
       "2           538855      21239         7 2016-12-14 13:50:00        22182   \n",
       "3           543543      22271         0 2017-02-09 15:33:00        23522   \n",
       "4           543812      79321         0 2017-02-13 14:40:00        23151   \n",
       "...            ...        ...       ...                 ...          ...   \n",
       "105330      538566      21826         1 2016-12-13 11:21:00            1   \n",
       "105331      540247      21742         0 2017-01-05 15:56:00        21143   \n",
       "105332      538068      85048         1 2016-12-09 14:05:00        23657   \n",
       "105333      538207      22818        11 2016-12-10 11:33:00        18427   \n",
       "105334      543977      22384         9 2017-02-14 15:35:00        21294   \n",
       "\n",
       "       shop_id  loyalty_program       date  \n",
       "0       Shop 0                0 2016-12-10  \n",
       "1       Shop 0                1 2016-12-14  \n",
       "2       Shop 0                1 2016-12-14  \n",
       "3       Shop 0                1 2017-02-09  \n",
       "4       Shop 0                1 2017-02-13  \n",
       "...        ...              ...        ...  \n",
       "105330  Shop 0                0 2016-12-13  \n",
       "105331  Shop 0                0 2017-01-05  \n",
       "105332  Shop 0                1 2016-12-09  \n",
       "105333  Shop 0                0 2016-12-10  \n",
       "105334  Shop 0                0 2017-02-14  \n",
       "\n",
       "[100430 rows x 8 columns]"
      ]
     },
     "execution_count": 27,
     "metadata": {},
     "output_type": "execute_result"
    }
   ],
   "source": [
    "retail_filter = retail.query('quantity > -28 & quantity < 28')\n",
    "retail_filter"
   ]
  },
  {
   "cell_type": "markdown",
   "metadata": {},
   "source": [
    "Удалили около 5% записей, это достаточно много.  \"Очищенный\" датафрейм будем использовать при статистической проверке гипотез."
   ]
  },
  {
   "cell_type": "markdown",
   "metadata": {},
   "source": [
    "Рассмотрим другой датафрейм"
   ]
  },
  {
   "cell_type": "code",
   "execution_count": 28,
   "metadata": {
    "scrolled": true
   },
   "outputs": [
    {
     "data": {
      "text/html": [
       "<div>\n",
       "<style scoped>\n",
       "    .dataframe tbody tr th:only-of-type {\n",
       "        vertical-align: middle;\n",
       "    }\n",
       "\n",
       "    .dataframe tbody tr th {\n",
       "        vertical-align: top;\n",
       "    }\n",
       "\n",
       "    .dataframe thead th {\n",
       "        text-align: right;\n",
       "    }\n",
       "</style>\n",
       "<table border=\"1\" class=\"dataframe\">\n",
       "  <thead>\n",
       "    <tr style=\"text-align: right;\">\n",
       "      <th></th>\n",
       "      <th>price_per_one</th>\n",
       "    </tr>\n",
       "  </thead>\n",
       "  <tbody>\n",
       "    <tr>\n",
       "      <th>count</th>\n",
       "      <td>9969.00</td>\n",
       "    </tr>\n",
       "    <tr>\n",
       "      <th>mean</th>\n",
       "      <td>19.50</td>\n",
       "    </tr>\n",
       "    <tr>\n",
       "      <th>std</th>\n",
       "      <td>330.88</td>\n",
       "    </tr>\n",
       "    <tr>\n",
       "      <th>min</th>\n",
       "      <td>0.00</td>\n",
       "    </tr>\n",
       "    <tr>\n",
       "      <th>25%</th>\n",
       "      <td>1.25</td>\n",
       "    </tr>\n",
       "    <tr>\n",
       "      <th>50%</th>\n",
       "      <td>2.55</td>\n",
       "    </tr>\n",
       "    <tr>\n",
       "      <th>75%</th>\n",
       "      <td>5.51</td>\n",
       "    </tr>\n",
       "    <tr>\n",
       "      <th>max</th>\n",
       "      <td>16888.02</td>\n",
       "    </tr>\n",
       "  </tbody>\n",
       "</table>\n",
       "</div>"
      ],
      "text/plain": [
       "       price_per_one\n",
       "count        9969.00\n",
       "mean           19.50\n",
       "std           330.88\n",
       "min             0.00\n",
       "25%             1.25\n",
       "50%             2.55\n",
       "75%             5.51\n",
       "max         16888.02"
      ]
     },
     "execution_count": 28,
     "metadata": {},
     "output_type": "execute_result"
    }
   ],
   "source": [
    "product.describe()"
   ]
  },
  {
   "cell_type": "markdown",
   "metadata": {},
   "source": [
    "Максимальная стоимость товара почти 17000 при средней цене 19.50."
   ]
  },
  {
   "cell_type": "markdown",
   "metadata": {},
   "source": [
    "Построим график"
   ]
  },
  {
   "cell_type": "code",
   "execution_count": 29,
   "metadata": {},
   "outputs": [
    {
     "data": {
      "image/png": "[encoded data removed]",
      "text/plain": [
       "<Figure size 720x504 with 1 Axes>"
      ]
     },
     "metadata": {},
     "output_type": "display_data"
    }
   ],
   "source": [
    "ax = sns.boxplot(y=product['price_per_one'])\n",
    "ax.set(ylim = (-5, 50))\n",
    "ax.set_title('Распределение цен на товары')\n",
    "plt.ylabel('Цена одного товара')\n",
    "plt.show()"
   ]
  },
  {
   "cell_type": "markdown",
   "metadata": {},
   "source": [
    "Также у нас есть стоимость товара \"0\"."
   ]
  },
  {
   "cell_type": "code",
   "execution_count": 30,
   "metadata": {
    "scrolled": true
   },
   "outputs": [
    {
     "data": {
      "text/plain": [
       "1.25       504\n",
       "0.85       493\n",
       "0.00       382\n",
       "2.51       371\n",
       "2.46       329\n",
       "          ... \n",
       "1126.00      1\n",
       "8.15         1\n",
       "50.60        1\n",
       "32.69        1\n",
       "324.43       1\n",
       "Name: price_per_one, Length: 586, dtype: int64"
      ]
     },
     "execution_count": 30,
     "metadata": {},
     "output_type": "execute_result"
    }
   ],
   "source": [
    "product['price_per_one'].value_counts()"
   ]
  },
  {
   "cell_type": "markdown",
   "metadata": {},
   "source": [
    "Товаров с ценой ноль - 382 штуки."
   ]
  },
  {
   "cell_type": "markdown",
   "metadata": {},
   "source": [
    "Проверим соответствие количества цен количеству товаров"
   ]
  },
  {
   "cell_type": "code",
   "execution_count": 31,
   "metadata": {},
   "outputs": [
    {
     "name": "stdout",
     "output_type": "stream",
     "text": [
      "Кол-во записей с ценами: 9969\n",
      "Кол-во уникальных товаров: 3159\n"
     ]
    }
   ],
   "source": [
    "print('Кол-во записей с ценами: {:}'.format(product['price_per_one'].count()))\n",
    "print('Кол-во уникальных товаров: {:}'.format(product['product_id'].nunique()))"
   ]
  },
  {
   "cell_type": "markdown",
   "metadata": {},
   "source": [
    "Понимаем, что есть товары с разной ценой. Посмотрим один из:"
   ]
  },
  {
   "cell_type": "code",
   "execution_count": 32,
   "metadata": {},
   "outputs": [
    {
     "data": {
      "text/html": [
       "<div>\n",
       "<style scoped>\n",
       "    .dataframe tbody tr th:only-of-type {\n",
       "        vertical-align: middle;\n",
       "    }\n",
       "\n",
       "    .dataframe tbody tr th {\n",
       "        vertical-align: top;\n",
       "    }\n",
       "\n",
       "    .dataframe thead th {\n",
       "        text-align: right;\n",
       "    }\n",
       "</style>\n",
       "<table border=\"1\" class=\"dataframe\">\n",
       "  <thead>\n",
       "    <tr style=\"text-align: right;\">\n",
       "      <th></th>\n",
       "      <th>product_id</th>\n",
       "      <th>price_per_one</th>\n",
       "    </tr>\n",
       "  </thead>\n",
       "  <tbody>\n",
       "    <tr>\n",
       "      <th>144</th>\n",
       "      <td>79321</td>\n",
       "      <td>3.82</td>\n",
       "    </tr>\n",
       "    <tr>\n",
       "      <th>484</th>\n",
       "      <td>79321</td>\n",
       "      <td>4.95</td>\n",
       "    </tr>\n",
       "    <tr>\n",
       "      <th>1134</th>\n",
       "      <td>79321</td>\n",
       "      <td>10.17</td>\n",
       "    </tr>\n",
       "    <tr>\n",
       "      <th>1404</th>\n",
       "      <td>79321</td>\n",
       "      <td>4.25</td>\n",
       "    </tr>\n",
       "    <tr>\n",
       "      <th>2882</th>\n",
       "      <td>79321</td>\n",
       "      <td>11.02</td>\n",
       "    </tr>\n",
       "    <tr>\n",
       "      <th>5781</th>\n",
       "      <td>79321</td>\n",
       "      <td>0.00</td>\n",
       "    </tr>\n",
       "    <tr>\n",
       "      <th>6164</th>\n",
       "      <td>79321</td>\n",
       "      <td>3.98</td>\n",
       "    </tr>\n",
       "    <tr>\n",
       "      <th>7915</th>\n",
       "      <td>79321</td>\n",
       "      <td>9.96</td>\n",
       "    </tr>\n",
       "    <tr>\n",
       "      <th>8572</th>\n",
       "      <td>79321</td>\n",
       "      <td>10.79</td>\n",
       "    </tr>\n",
       "    <tr>\n",
       "      <th>9186</th>\n",
       "      <td>79321</td>\n",
       "      <td>5.75</td>\n",
       "    </tr>\n",
       "    <tr>\n",
       "      <th>9227</th>\n",
       "      <td>79321</td>\n",
       "      <td>12.46</td>\n",
       "    </tr>\n",
       "  </tbody>\n",
       "</table>\n",
       "</div>"
      ],
      "text/plain": [
       "     product_id  price_per_one\n",
       "144       79321           3.82\n",
       "484       79321           4.95\n",
       "1134      79321          10.17\n",
       "1404      79321           4.25\n",
       "2882      79321          11.02\n",
       "5781      79321           0.00\n",
       "6164      79321           3.98\n",
       "7915      79321           9.96\n",
       "8572      79321          10.79\n",
       "9186      79321           5.75\n",
       "9227      79321          12.46"
      ]
     },
     "execution_count": 32,
     "metadata": {},
     "output_type": "execute_result"
    }
   ],
   "source": [
    "product.loc[product['product_id'] == '79321']"
   ]
  },
  {
   "cell_type": "markdown",
   "metadata": {},
   "source": [
    "На товар 79321 11 разных цен. Неизвестно причина этого. Возможно просто изменение цены, акции, цена по программе лояльности, товар в подарок. Оптимальный вариант - усреднить."
   ]
  },
  {
   "cell_type": "code",
   "execution_count": 33,
   "metadata": {},
   "outputs": [
    {
     "data": {
      "text/html": [
       "<div>\n",
       "<style scoped>\n",
       "    .dataframe tbody tr th:only-of-type {\n",
       "        vertical-align: middle;\n",
       "    }\n",
       "\n",
       "    .dataframe tbody tr th {\n",
       "        vertical-align: top;\n",
       "    }\n",
       "\n",
       "    .dataframe thead th {\n",
       "        text-align: right;\n",
       "    }\n",
       "</style>\n",
       "<table border=\"1\" class=\"dataframe\">\n",
       "  <thead>\n",
       "    <tr style=\"text-align: right;\">\n",
       "      <th></th>\n",
       "      <th>product_id</th>\n",
       "      <th>mean_price</th>\n",
       "    </tr>\n",
       "  </thead>\n",
       "  <tbody>\n",
       "    <tr>\n",
       "      <th>0</th>\n",
       "      <td>10002</td>\n",
       "      <td>1.38</td>\n",
       "    </tr>\n",
       "    <tr>\n",
       "      <th>1</th>\n",
       "      <td>10080</td>\n",
       "      <td>0.85</td>\n",
       "    </tr>\n",
       "    <tr>\n",
       "      <th>2</th>\n",
       "      <td>10120</td>\n",
       "      <td>0.21</td>\n",
       "    </tr>\n",
       "    <tr>\n",
       "      <th>3</th>\n",
       "      <td>10123C</td>\n",
       "      <td>0.65</td>\n",
       "    </tr>\n",
       "    <tr>\n",
       "      <th>4</th>\n",
       "      <td>10124A</td>\n",
       "      <td>0.42</td>\n",
       "    </tr>\n",
       "  </tbody>\n",
       "</table>\n",
       "</div>"
      ],
      "text/plain": [
       "  product_id  mean_price\n",
       "0      10002        1.38\n",
       "1      10080        0.85\n",
       "2      10120        0.21\n",
       "3     10123C        0.65\n",
       "4     10124A        0.42"
      ]
     },
     "execution_count": 33,
     "metadata": {},
     "output_type": "execute_result"
    }
   ],
   "source": [
    "product_mean = product.groupby('product_id').agg(mean_price = ('price_per_one', 'mean')).reset_index()\n",
    "product_mean.head()"
   ]
  },
  {
   "cell_type": "markdown",
   "metadata": {},
   "source": [
    "Еще мы помним, что есть высокие цены на товары - выбросы. Посмотрим на товары с ценой больше 50"
   ]
  },
  {
   "cell_type": "code",
   "execution_count": 34,
   "metadata": {
    "scrolled": false
   },
   "outputs": [
    {
     "data": {
      "text/html": [
       "<div>\n",
       "<style scoped>\n",
       "    .dataframe tbody tr th:only-of-type {\n",
       "        vertical-align: middle;\n",
       "    }\n",
       "\n",
       "    .dataframe tbody tr th {\n",
       "        vertical-align: top;\n",
       "    }\n",
       "\n",
       "    .dataframe thead th {\n",
       "        text-align: right;\n",
       "    }\n",
       "</style>\n",
       "<table border=\"1\" class=\"dataframe\">\n",
       "  <thead>\n",
       "    <tr style=\"text-align: right;\">\n",
       "      <th></th>\n",
       "      <th>product_id</th>\n",
       "      <th>mean_price</th>\n",
       "    </tr>\n",
       "  </thead>\n",
       "  <tbody>\n",
       "    <tr>\n",
       "      <th>773</th>\n",
       "      <td>21769</td>\n",
       "      <td>66.36</td>\n",
       "    </tr>\n",
       "    <tr>\n",
       "      <th>1507</th>\n",
       "      <td>22655</td>\n",
       "      <td>228.50</td>\n",
       "    </tr>\n",
       "    <tr>\n",
       "      <th>1508</th>\n",
       "      <td>22656</td>\n",
       "      <td>150.00</td>\n",
       "    </tr>\n",
       "    <tr>\n",
       "      <th>1668</th>\n",
       "      <td>22823</td>\n",
       "      <td>117.50</td>\n",
       "    </tr>\n",
       "    <tr>\n",
       "      <th>1671</th>\n",
       "      <td>22826</td>\n",
       "      <td>175.00</td>\n",
       "    </tr>\n",
       "    <tr>\n",
       "      <th>1672</th>\n",
       "      <td>22827</td>\n",
       "      <td>155.00</td>\n",
       "    </tr>\n",
       "    <tr>\n",
       "      <th>1673</th>\n",
       "      <td>22828</td>\n",
       "      <td>155.00</td>\n",
       "    </tr>\n",
       "    <tr>\n",
       "      <th>1770</th>\n",
       "      <td>22929</td>\n",
       "      <td>61.48</td>\n",
       "    </tr>\n",
       "    <tr>\n",
       "      <th>2241</th>\n",
       "      <td>84078A</td>\n",
       "      <td>56.60</td>\n",
       "    </tr>\n",
       "    <tr>\n",
       "      <th>2374</th>\n",
       "      <td>84632</td>\n",
       "      <td>59.95</td>\n",
       "    </tr>\n",
       "    <tr>\n",
       "      <th>3136</th>\n",
       "      <td>AMAZONFEE</td>\n",
       "      <td>9268.76</td>\n",
       "    </tr>\n",
       "    <tr>\n",
       "      <th>3137</th>\n",
       "      <td>BANK CHARGES</td>\n",
       "      <td>385.95</td>\n",
       "    </tr>\n",
       "    <tr>\n",
       "      <th>3138</th>\n",
       "      <td>C2</td>\n",
       "      <td>71.67</td>\n",
       "    </tr>\n",
       "    <tr>\n",
       "      <th>3139</th>\n",
       "      <td>D</td>\n",
       "      <td>77.07</td>\n",
       "    </tr>\n",
       "    <tr>\n",
       "      <th>3150</th>\n",
       "      <td>DOT</td>\n",
       "      <td>278.73</td>\n",
       "    </tr>\n",
       "    <tr>\n",
       "      <th>3151</th>\n",
       "      <td>M</td>\n",
       "      <td>253.77</td>\n",
       "    </tr>\n",
       "  </tbody>\n",
       "</table>\n",
       "</div>"
      ],
      "text/plain": [
       "        product_id  mean_price\n",
       "773          21769       66.36\n",
       "1507         22655      228.50\n",
       "1508         22656      150.00\n",
       "1668         22823      117.50\n",
       "1671         22826      175.00\n",
       "1672         22827      155.00\n",
       "1673         22828      155.00\n",
       "1770         22929       61.48\n",
       "2241        84078A       56.60\n",
       "2374         84632       59.95\n",
       "3136     AMAZONFEE     9268.76\n",
       "3137  BANK CHARGES      385.95\n",
       "3138            C2       71.67\n",
       "3139             D       77.07\n",
       "3150           DOT      278.73\n",
       "3151             M      253.77"
      ]
     },
     "execution_count": 34,
     "metadata": {},
     "output_type": "execute_result"
    }
   ],
   "source": [
    "product_mean.loc[product_mean['mean_price'] > 50]"
   ]
  },
  {
   "cell_type": "markdown",
   "metadata": {},
   "source": [
    "AMAZONFEE, BANK CHARGES,DOT лидирует по средней стоимости товара."
   ]
  },
  {
   "cell_type": "code",
   "execution_count": 35,
   "metadata": {
    "scrolled": true
   },
   "outputs": [
    {
     "data": {
      "text/html": [
       "<div>\n",
       "<style scoped>\n",
       "    .dataframe tbody tr th:only-of-type {\n",
       "        vertical-align: middle;\n",
       "    }\n",
       "\n",
       "    .dataframe tbody tr th {\n",
       "        vertical-align: top;\n",
       "    }\n",
       "\n",
       "    .dataframe thead th {\n",
       "        text-align: right;\n",
       "    }\n",
       "</style>\n",
       "<table border=\"1\" class=\"dataframe\">\n",
       "  <thead>\n",
       "    <tr style=\"text-align: right;\">\n",
       "      <th></th>\n",
       "      <th>purchase_id</th>\n",
       "      <th>product_id</th>\n",
       "      <th>quantity</th>\n",
       "      <th>purchase_date</th>\n",
       "      <th>customer_id</th>\n",
       "      <th>shop_id</th>\n",
       "      <th>loyalty_program</th>\n",
       "      <th>date</th>\n",
       "    </tr>\n",
       "  </thead>\n",
       "  <tbody>\n",
       "    <tr>\n",
       "      <th>1181</th>\n",
       "      <td>C537652</td>\n",
       "      <td>AMAZONFEE</td>\n",
       "      <td>-2</td>\n",
       "      <td>2016-12-07 15:51:00</td>\n",
       "      <td>1</td>\n",
       "      <td>Shop 0</td>\n",
       "      <td>0</td>\n",
       "      <td>2016-12-07</td>\n",
       "    </tr>\n",
       "    <tr>\n",
       "      <th>2637</th>\n",
       "      <td>C544589</td>\n",
       "      <td>AMAZONFEE</td>\n",
       "      <td>-2</td>\n",
       "      <td>2017-02-21 15:11:00</td>\n",
       "      <td>1</td>\n",
       "      <td>Shop 0</td>\n",
       "      <td>0</td>\n",
       "      <td>2017-02-21</td>\n",
       "    </tr>\n",
       "    <tr>\n",
       "      <th>8119</th>\n",
       "      <td>C540117</td>\n",
       "      <td>AMAZONFEE</td>\n",
       "      <td>-2</td>\n",
       "      <td>2017-01-05 09:55:00</td>\n",
       "      <td>1</td>\n",
       "      <td>Shop 0</td>\n",
       "      <td>0</td>\n",
       "      <td>2017-01-05</td>\n",
       "    </tr>\n",
       "    <tr>\n",
       "      <th>12550</th>\n",
       "      <td>537632</td>\n",
       "      <td>AMAZONFEE</td>\n",
       "      <td>0</td>\n",
       "      <td>2016-12-07 15:08:00</td>\n",
       "      <td>1</td>\n",
       "      <td>Shop 0</td>\n",
       "      <td>0</td>\n",
       "      <td>2016-12-07</td>\n",
       "    </tr>\n",
       "    <tr>\n",
       "      <th>24571</th>\n",
       "      <td>C537630</td>\n",
       "      <td>AMAZONFEE</td>\n",
       "      <td>-2</td>\n",
       "      <td>2016-12-07 15:04:00</td>\n",
       "      <td>1</td>\n",
       "      <td>Shop 0</td>\n",
       "      <td>0</td>\n",
       "      <td>2016-12-07</td>\n",
       "    </tr>\n",
       "    <tr>\n",
       "      <th>34815</th>\n",
       "      <td>C537651</td>\n",
       "      <td>AMAZONFEE</td>\n",
       "      <td>-2</td>\n",
       "      <td>2016-12-07 15:49:00</td>\n",
       "      <td>1</td>\n",
       "      <td>Shop 0</td>\n",
       "      <td>0</td>\n",
       "      <td>2016-12-07</td>\n",
       "    </tr>\n",
       "    <tr>\n",
       "      <th>35911</th>\n",
       "      <td>C537644</td>\n",
       "      <td>AMAZONFEE</td>\n",
       "      <td>-2</td>\n",
       "      <td>2016-12-07 15:34:00</td>\n",
       "      <td>1</td>\n",
       "      <td>Shop 0</td>\n",
       "      <td>0</td>\n",
       "      <td>2016-12-07</td>\n",
       "    </tr>\n",
       "    <tr>\n",
       "      <th>58981</th>\n",
       "      <td>C540118</td>\n",
       "      <td>AMAZONFEE</td>\n",
       "      <td>-2</td>\n",
       "      <td>2017-01-05 09:57:00</td>\n",
       "      <td>1</td>\n",
       "      <td>Shop 0</td>\n",
       "      <td>0</td>\n",
       "      <td>2017-01-05</td>\n",
       "    </tr>\n",
       "    <tr>\n",
       "      <th>59911</th>\n",
       "      <td>C537647</td>\n",
       "      <td>AMAZONFEE</td>\n",
       "      <td>-2</td>\n",
       "      <td>2016-12-07 15:41:00</td>\n",
       "      <td>1</td>\n",
       "      <td>Shop 0</td>\n",
       "      <td>0</td>\n",
       "      <td>2016-12-07</td>\n",
       "    </tr>\n",
       "    <tr>\n",
       "      <th>63101</th>\n",
       "      <td>C544587</td>\n",
       "      <td>AMAZONFEE</td>\n",
       "      <td>-2</td>\n",
       "      <td>2017-02-21 15:07:00</td>\n",
       "      <td>1</td>\n",
       "      <td>Shop 0</td>\n",
       "      <td>0</td>\n",
       "      <td>2017-02-21</td>\n",
       "    </tr>\n",
       "    <tr>\n",
       "      <th>67898</th>\n",
       "      <td>C537600</td>\n",
       "      <td>AMAZONFEE</td>\n",
       "      <td>-2</td>\n",
       "      <td>2016-12-07 12:41:00</td>\n",
       "      <td>1</td>\n",
       "      <td>Shop 0</td>\n",
       "      <td>0</td>\n",
       "      <td>2016-12-07</td>\n",
       "    </tr>\n",
       "  </tbody>\n",
       "</table>\n",
       "</div>"
      ],
      "text/plain": [
       "      purchase_id product_id  quantity       purchase_date  customer_id  \\\n",
       "1181      C537652  AMAZONFEE        -2 2016-12-07 15:51:00            1   \n",
       "2637      C544589  AMAZONFEE        -2 2017-02-21 15:11:00            1   \n",
       "8119      C540117  AMAZONFEE        -2 2017-01-05 09:55:00            1   \n",
       "12550      537632  AMAZONFEE         0 2016-12-07 15:08:00            1   \n",
       "24571     C537630  AMAZONFEE        -2 2016-12-07 15:04:00            1   \n",
       "34815     C537651  AMAZONFEE        -2 2016-12-07 15:49:00            1   \n",
       "35911     C537644  AMAZONFEE        -2 2016-12-07 15:34:00            1   \n",
       "58981     C540118  AMAZONFEE        -2 2017-01-05 09:57:00            1   \n",
       "59911     C537647  AMAZONFEE        -2 2016-12-07 15:41:00            1   \n",
       "63101     C544587  AMAZONFEE        -2 2017-02-21 15:07:00            1   \n",
       "67898     C537600  AMAZONFEE        -2 2016-12-07 12:41:00            1   \n",
       "\n",
       "      shop_id  loyalty_program       date  \n",
       "1181   Shop 0                0 2016-12-07  \n",
       "2637   Shop 0                0 2017-02-21  \n",
       "8119   Shop 0                0 2017-01-05  \n",
       "12550  Shop 0                0 2016-12-07  \n",
       "24571  Shop 0                0 2016-12-07  \n",
       "34815  Shop 0                0 2016-12-07  \n",
       "35911  Shop 0                0 2016-12-07  \n",
       "58981  Shop 0                0 2017-01-05  \n",
       "59911  Shop 0                0 2016-12-07  \n",
       "63101  Shop 0                0 2017-02-21  \n",
       "67898  Shop 0                0 2016-12-07  "
      ]
     },
     "execution_count": 35,
     "metadata": {},
     "output_type": "execute_result"
    }
   ],
   "source": [
    "retail.loc[retail['product_id'].isin(['AMAZONFEE'])]"
   ]
  },
  {
   "cell_type": "markdown",
   "metadata": {},
   "source": [
    "Видимо магазин продает на маркетплейсе Amazon. И в данных мы видим только возвраты и одну покупку с количеством товара \"0\""
   ]
  },
  {
   "cell_type": "code",
   "execution_count": 36,
   "metadata": {
    "scrolled": true
   },
   "outputs": [
    {
     "data": {
      "text/html": [
       "<div>\n",
       "<style scoped>\n",
       "    .dataframe tbody tr th:only-of-type {\n",
       "        vertical-align: middle;\n",
       "    }\n",
       "\n",
       "    .dataframe tbody tr th {\n",
       "        vertical-align: top;\n",
       "    }\n",
       "\n",
       "    .dataframe thead th {\n",
       "        text-align: right;\n",
       "    }\n",
       "</style>\n",
       "<table border=\"1\" class=\"dataframe\">\n",
       "  <thead>\n",
       "    <tr style=\"text-align: right;\">\n",
       "      <th></th>\n",
       "      <th>purchase_id</th>\n",
       "      <th>product_id</th>\n",
       "      <th>quantity</th>\n",
       "      <th>purchase_date</th>\n",
       "      <th>customer_id</th>\n",
       "      <th>shop_id</th>\n",
       "      <th>loyalty_program</th>\n",
       "      <th>date</th>\n",
       "    </tr>\n",
       "  </thead>\n",
       "  <tbody>\n",
       "    <tr>\n",
       "      <th>1514</th>\n",
       "      <td>C544575</td>\n",
       "      <td>BANK CHARGES</td>\n",
       "      <td>-2</td>\n",
       "      <td>2017-02-21 13:58:00</td>\n",
       "      <td>1</td>\n",
       "      <td>Shop 0</td>\n",
       "      <td>0</td>\n",
       "      <td>2017-02-21</td>\n",
       "    </tr>\n",
       "    <tr>\n",
       "      <th>5032</th>\n",
       "      <td>C538680</td>\n",
       "      <td>BANK CHARGES</td>\n",
       "      <td>-2</td>\n",
       "      <td>2016-12-13 17:10:00</td>\n",
       "      <td>1</td>\n",
       "      <td>Shop 0</td>\n",
       "      <td>0</td>\n",
       "      <td>2016-12-13</td>\n",
       "    </tr>\n",
       "    <tr>\n",
       "      <th>10771</th>\n",
       "      <td>541505</td>\n",
       "      <td>BANK CHARGES</td>\n",
       "      <td>0</td>\n",
       "      <td>2017-01-18 15:58:00</td>\n",
       "      <td>21618</td>\n",
       "      <td>Shop 0</td>\n",
       "      <td>0</td>\n",
       "      <td>2017-01-18</td>\n",
       "    </tr>\n",
       "    <tr>\n",
       "      <th>49870</th>\n",
       "      <td>C544049</td>\n",
       "      <td>BANK CHARGES</td>\n",
       "      <td>-2</td>\n",
       "      <td>2017-02-15 12:39:00</td>\n",
       "      <td>1</td>\n",
       "      <td>Shop 0</td>\n",
       "      <td>0</td>\n",
       "      <td>2017-02-15</td>\n",
       "    </tr>\n",
       "    <tr>\n",
       "      <th>55236</th>\n",
       "      <td>C537572</td>\n",
       "      <td>BANK CHARGES</td>\n",
       "      <td>-2</td>\n",
       "      <td>2016-12-07 12:00:00</td>\n",
       "      <td>1</td>\n",
       "      <td>Shop 0</td>\n",
       "      <td>0</td>\n",
       "      <td>2016-12-07</td>\n",
       "    </tr>\n",
       "    <tr>\n",
       "      <th>75879</th>\n",
       "      <td>C541653</td>\n",
       "      <td>BANK CHARGES</td>\n",
       "      <td>-2</td>\n",
       "      <td>2017-01-20 11:50:00</td>\n",
       "      <td>1</td>\n",
       "      <td>Shop 0</td>\n",
       "      <td>0</td>\n",
       "      <td>2017-01-20</td>\n",
       "    </tr>\n",
       "    <tr>\n",
       "      <th>81548</th>\n",
       "      <td>536779</td>\n",
       "      <td>BANK CHARGES</td>\n",
       "      <td>0</td>\n",
       "      <td>2016-12-02 15:08:00</td>\n",
       "      <td>21502</td>\n",
       "      <td>Shop 0</td>\n",
       "      <td>0</td>\n",
       "      <td>2016-12-02</td>\n",
       "    </tr>\n",
       "    <tr>\n",
       "      <th>87595</th>\n",
       "      <td>C544584</td>\n",
       "      <td>BANK CHARGES</td>\n",
       "      <td>-2</td>\n",
       "      <td>2017-02-21 14:52:00</td>\n",
       "      <td>1</td>\n",
       "      <td>Shop 0</td>\n",
       "      <td>0</td>\n",
       "      <td>2017-02-21</td>\n",
       "    </tr>\n",
       "    <tr>\n",
       "      <th>104690</th>\n",
       "      <td>C544576</td>\n",
       "      <td>BANK CHARGES</td>\n",
       "      <td>-2</td>\n",
       "      <td>2017-02-21 14:01:00</td>\n",
       "      <td>1</td>\n",
       "      <td>Shop 0</td>\n",
       "      <td>0</td>\n",
       "      <td>2017-02-21</td>\n",
       "    </tr>\n",
       "  </tbody>\n",
       "</table>\n",
       "</div>"
      ],
      "text/plain": [
       "       purchase_id    product_id  quantity       purchase_date  customer_id  \\\n",
       "1514       C544575  BANK CHARGES        -2 2017-02-21 13:58:00            1   \n",
       "5032       C538680  BANK CHARGES        -2 2016-12-13 17:10:00            1   \n",
       "10771       541505  BANK CHARGES         0 2017-01-18 15:58:00        21618   \n",
       "49870      C544049  BANK CHARGES        -2 2017-02-15 12:39:00            1   \n",
       "55236      C537572  BANK CHARGES        -2 2016-12-07 12:00:00            1   \n",
       "75879      C541653  BANK CHARGES        -2 2017-01-20 11:50:00            1   \n",
       "81548       536779  BANK CHARGES         0 2016-12-02 15:08:00        21502   \n",
       "87595      C544584  BANK CHARGES        -2 2017-02-21 14:52:00            1   \n",
       "104690     C544576  BANK CHARGES        -2 2017-02-21 14:01:00            1   \n",
       "\n",
       "       shop_id  loyalty_program       date  \n",
       "1514    Shop 0                0 2017-02-21  \n",
       "5032    Shop 0                0 2016-12-13  \n",
       "10771   Shop 0                0 2017-01-18  \n",
       "49870   Shop 0                0 2017-02-15  \n",
       "55236   Shop 0                0 2016-12-07  \n",
       "75879   Shop 0                0 2017-01-20  \n",
       "81548   Shop 0                0 2016-12-02  \n",
       "87595   Shop 0                0 2017-02-21  \n",
       "104690  Shop 0                0 2017-02-21  "
      ]
     },
     "execution_count": 36,
     "metadata": {},
     "output_type": "execute_result"
    }
   ],
   "source": [
    "retail.loc[retail['product_id'].isin([\"BANK CHARGES\"])]"
   ]
  },
  {
   "cell_type": "markdown",
   "metadata": {},
   "source": [
    "BANK CHARGES- это банковская комиссия, но также еть строчки, как с возратом, так и покупкой товара в количестве \"0\""
   ]
  },
  {
   "cell_type": "code",
   "execution_count": 37,
   "metadata": {},
   "outputs": [
    {
     "data": {
      "text/html": [
       "<div>\n",
       "<style scoped>\n",
       "    .dataframe tbody tr th:only-of-type {\n",
       "        vertical-align: middle;\n",
       "    }\n",
       "\n",
       "    .dataframe tbody tr th {\n",
       "        vertical-align: top;\n",
       "    }\n",
       "\n",
       "    .dataframe thead th {\n",
       "        text-align: right;\n",
       "    }\n",
       "</style>\n",
       "<table border=\"1\" class=\"dataframe\">\n",
       "  <thead>\n",
       "    <tr style=\"text-align: right;\">\n",
       "      <th></th>\n",
       "      <th>purchase_id</th>\n",
       "      <th>product_id</th>\n",
       "      <th>quantity</th>\n",
       "      <th>purchase_date</th>\n",
       "      <th>customer_id</th>\n",
       "      <th>shop_id</th>\n",
       "      <th>loyalty_program</th>\n",
       "      <th>date</th>\n",
       "    </tr>\n",
       "  </thead>\n",
       "  <tbody>\n",
       "    <tr>\n",
       "      <th>97684</th>\n",
       "      <td>540551</td>\n",
       "      <td>DOT</td>\n",
       "      <td>0</td>\n",
       "      <td>2017-01-10 09:43:00</td>\n",
       "      <td>1</td>\n",
       "      <td>Shop 0</td>\n",
       "      <td>0</td>\n",
       "      <td>2017-01-10</td>\n",
       "    </tr>\n",
       "    <tr>\n",
       "      <th>99742</th>\n",
       "      <td>539738</td>\n",
       "      <td>DOT</td>\n",
       "      <td>0</td>\n",
       "      <td>2016-12-21 15:19:00</td>\n",
       "      <td>1</td>\n",
       "      <td>Shop 0</td>\n",
       "      <td>0</td>\n",
       "      <td>2016-12-21</td>\n",
       "    </tr>\n",
       "    <tr>\n",
       "      <th>100587</th>\n",
       "      <td>541827</td>\n",
       "      <td>DOT</td>\n",
       "      <td>0</td>\n",
       "      <td>2017-01-21 17:05:00</td>\n",
       "      <td>1</td>\n",
       "      <td>Shop 0</td>\n",
       "      <td>0</td>\n",
       "      <td>2017-01-21</td>\n",
       "    </tr>\n",
       "    <tr>\n",
       "      <th>100749</th>\n",
       "      <td>539748</td>\n",
       "      <td>DOT</td>\n",
       "      <td>0</td>\n",
       "      <td>2016-12-21 15:23:00</td>\n",
       "      <td>1</td>\n",
       "      <td>Shop 0</td>\n",
       "      <td>0</td>\n",
       "      <td>2016-12-21</td>\n",
       "    </tr>\n",
       "    <tr>\n",
       "      <th>101479</th>\n",
       "      <td>539434</td>\n",
       "      <td>DOT</td>\n",
       "      <td>0</td>\n",
       "      <td>2016-12-17 14:41:00</td>\n",
       "      <td>1</td>\n",
       "      <td>Shop 0</td>\n",
       "      <td>0</td>\n",
       "      <td>2016-12-17</td>\n",
       "    </tr>\n",
       "    <tr>\n",
       "      <th>101675</th>\n",
       "      <td>544812</td>\n",
       "      <td>DOT</td>\n",
       "      <td>0</td>\n",
       "      <td>2017-02-23 15:58:00</td>\n",
       "      <td>1</td>\n",
       "      <td>Shop 0</td>\n",
       "      <td>0</td>\n",
       "      <td>2017-02-23</td>\n",
       "    </tr>\n",
       "    <tr>\n",
       "      <th>102383</th>\n",
       "      <td>537645</td>\n",
       "      <td>DOT</td>\n",
       "      <td>0</td>\n",
       "      <td>2016-12-07 15:34:00</td>\n",
       "      <td>1</td>\n",
       "      <td>Shop 0</td>\n",
       "      <td>0</td>\n",
       "      <td>2016-12-07</td>\n",
       "    </tr>\n",
       "    <tr>\n",
       "      <th>103270</th>\n",
       "      <td>544771</td>\n",
       "      <td>DOT</td>\n",
       "      <td>0</td>\n",
       "      <td>2017-02-23 11:12:00</td>\n",
       "      <td>1</td>\n",
       "      <td>Shop 0</td>\n",
       "      <td>0</td>\n",
       "      <td>2017-02-23</td>\n",
       "    </tr>\n",
       "    <tr>\n",
       "      <th>103294</th>\n",
       "      <td>544204</td>\n",
       "      <td>DOT</td>\n",
       "      <td>0</td>\n",
       "      <td>2017-02-17 10:30:00</td>\n",
       "      <td>1</td>\n",
       "      <td>Shop 0</td>\n",
       "      <td>0</td>\n",
       "      <td>2017-02-17</td>\n",
       "    </tr>\n",
       "    <tr>\n",
       "      <th>103374</th>\n",
       "      <td>544767</td>\n",
       "      <td>DOT</td>\n",
       "      <td>0</td>\n",
       "      <td>2017-02-23 11:10:00</td>\n",
       "      <td>1</td>\n",
       "      <td>Shop 0</td>\n",
       "      <td>0</td>\n",
       "      <td>2017-02-23</td>\n",
       "    </tr>\n",
       "  </tbody>\n",
       "</table>\n",
       "</div>"
      ],
      "text/plain": [
       "       purchase_id product_id  quantity       purchase_date  customer_id  \\\n",
       "97684       540551        DOT         0 2017-01-10 09:43:00            1   \n",
       "99742       539738        DOT         0 2016-12-21 15:19:00            1   \n",
       "100587      541827        DOT         0 2017-01-21 17:05:00            1   \n",
       "100749      539748        DOT         0 2016-12-21 15:23:00            1   \n",
       "101479      539434        DOT         0 2016-12-17 14:41:00            1   \n",
       "101675      544812        DOT         0 2017-02-23 15:58:00            1   \n",
       "102383      537645        DOT         0 2016-12-07 15:34:00            1   \n",
       "103270      544771        DOT         0 2017-02-23 11:12:00            1   \n",
       "103294      544204        DOT         0 2017-02-17 10:30:00            1   \n",
       "103374      544767        DOT         0 2017-02-23 11:10:00            1   \n",
       "\n",
       "       shop_id  loyalty_program       date  \n",
       "97684   Shop 0                0 2017-01-10  \n",
       "99742   Shop 0                0 2016-12-21  \n",
       "100587  Shop 0                0 2017-01-21  \n",
       "100749  Shop 0                0 2016-12-21  \n",
       "101479  Shop 0                0 2016-12-17  \n",
       "101675  Shop 0                0 2017-02-23  \n",
       "102383  Shop 0                0 2016-12-07  \n",
       "103270  Shop 0                0 2017-02-23  \n",
       "103294  Shop 0                0 2017-02-17  \n",
       "103374  Shop 0                0 2017-02-23  "
      ]
     },
     "execution_count": 37,
     "metadata": {},
     "output_type": "execute_result"
    }
   ],
   "source": [
    "retail.loc[retail['product_id'].isin([\"DOT\"])].tail(10)"
   ]
  },
  {
   "cell_type": "markdown",
   "metadata": {},
   "source": [
    "Товары DOT по количеству \"нулевые\". При расчете мало что изменят."
   ]
  },
  {
   "cell_type": "markdown",
   "metadata": {},
   "source": [
    "На расчет среднего чека влияет количетсво позиций в чеке, поэтому я считаю надо оставлять все эти строчки."
   ]
  },
  {
   "cell_type": "markdown",
   "metadata": {},
   "source": [
    "### Расчет выручки по магазинам"
   ]
  },
  {
   "cell_type": "markdown",
   "metadata": {},
   "source": [
    "Объединяем датафреймы retail и product_mean и добавим общую сумму покупки"
   ]
  },
  {
   "cell_type": "code",
   "execution_count": 38,
   "metadata": {},
   "outputs": [
    {
     "data": {
      "text/html": [
       "<div>\n",
       "<style scoped>\n",
       "    .dataframe tbody tr th:only-of-type {\n",
       "        vertical-align: middle;\n",
       "    }\n",
       "\n",
       "    .dataframe tbody tr th {\n",
       "        vertical-align: top;\n",
       "    }\n",
       "\n",
       "    .dataframe thead th {\n",
       "        text-align: right;\n",
       "    }\n",
       "</style>\n",
       "<table border=\"1\" class=\"dataframe\">\n",
       "  <thead>\n",
       "    <tr style=\"text-align: right;\">\n",
       "      <th></th>\n",
       "      <th>purchase_id</th>\n",
       "      <th>product_id</th>\n",
       "      <th>quantity</th>\n",
       "      <th>purchase_date</th>\n",
       "      <th>customer_id</th>\n",
       "      <th>shop_id</th>\n",
       "      <th>loyalty_program</th>\n",
       "      <th>date</th>\n",
       "      <th>mean_price</th>\n",
       "      <th>buy_sum</th>\n",
       "    </tr>\n",
       "  </thead>\n",
       "  <tbody>\n",
       "    <tr>\n",
       "      <th>0</th>\n",
       "      <td>538280</td>\n",
       "      <td>21873</td>\n",
       "      <td>11</td>\n",
       "      <td>2016-12-10 12:50:00</td>\n",
       "      <td>18427</td>\n",
       "      <td>Shop 0</td>\n",
       "      <td>0</td>\n",
       "      <td>2016-12-10</td>\n",
       "      <td>1.81</td>\n",
       "      <td>19.91</td>\n",
       "    </tr>\n",
       "    <tr>\n",
       "      <th>1</th>\n",
       "      <td>538862</td>\n",
       "      <td>22195</td>\n",
       "      <td>0</td>\n",
       "      <td>2016-12-14 14:11:00</td>\n",
       "      <td>22389</td>\n",
       "      <td>Shop 0</td>\n",
       "      <td>1</td>\n",
       "      <td>2016-12-14</td>\n",
       "      <td>2.77</td>\n",
       "      <td>0.00</td>\n",
       "    </tr>\n",
       "    <tr>\n",
       "      <th>2</th>\n",
       "      <td>538855</td>\n",
       "      <td>21239</td>\n",
       "      <td>7</td>\n",
       "      <td>2016-12-14 13:50:00</td>\n",
       "      <td>22182</td>\n",
       "      <td>Shop 0</td>\n",
       "      <td>1</td>\n",
       "      <td>2016-12-14</td>\n",
       "      <td>1.47</td>\n",
       "      <td>10.32</td>\n",
       "    </tr>\n",
       "    <tr>\n",
       "      <th>3</th>\n",
       "      <td>543543</td>\n",
       "      <td>22271</td>\n",
       "      <td>0</td>\n",
       "      <td>2017-02-09 15:33:00</td>\n",
       "      <td>23522</td>\n",
       "      <td>Shop 0</td>\n",
       "      <td>1</td>\n",
       "      <td>2017-02-09</td>\n",
       "      <td>4.30</td>\n",
       "      <td>0.00</td>\n",
       "    </tr>\n",
       "    <tr>\n",
       "      <th>4</th>\n",
       "      <td>543812</td>\n",
       "      <td>79321</td>\n",
       "      <td>0</td>\n",
       "      <td>2017-02-13 14:40:00</td>\n",
       "      <td>23151</td>\n",
       "      <td>Shop 0</td>\n",
       "      <td>1</td>\n",
       "      <td>2017-02-13</td>\n",
       "      <td>7.01</td>\n",
       "      <td>0.00</td>\n",
       "    </tr>\n",
       "  </tbody>\n",
       "</table>\n",
       "</div>"
      ],
      "text/plain": [
       "  purchase_id product_id  quantity       purchase_date  customer_id shop_id  \\\n",
       "0      538280      21873        11 2016-12-10 12:50:00        18427  Shop 0   \n",
       "1      538862      22195         0 2016-12-14 14:11:00        22389  Shop 0   \n",
       "2      538855      21239         7 2016-12-14 13:50:00        22182  Shop 0   \n",
       "3      543543      22271         0 2017-02-09 15:33:00        23522  Shop 0   \n",
       "4      543812      79321         0 2017-02-13 14:40:00        23151  Shop 0   \n",
       "\n",
       "   loyalty_program       date  mean_price  buy_sum  \n",
       "0                0 2016-12-10        1.81    19.91  \n",
       "1                1 2016-12-14        2.77     0.00  \n",
       "2                1 2016-12-14        1.47    10.32  \n",
       "3                1 2017-02-09        4.30     0.00  \n",
       "4                1 2017-02-13        7.01     0.00  "
      ]
     },
     "execution_count": 38,
     "metadata": {},
     "output_type": "execute_result"
    }
   ],
   "source": [
    "#объединим таблицы при помощи функции merge по столбцу 'product_id', сохранив все записи retail\n",
    "retail_df = pd.merge(retail, product_mean, on = 'product_id', how = 'left')\n",
    "retail_df['buy_sum'] = retail_df['quantity'] * retail_df['mean_price']\n",
    "retail_df.head()"
   ]
  },
  {
   "cell_type": "markdown",
   "metadata": {},
   "source": [
    "Делаем сводную таблицу по магазинам с суммарной выручкой по каждому"
   ]
  },
  {
   "cell_type": "code",
   "execution_count": 39,
   "metadata": {},
   "outputs": [
    {
     "data": {
      "text/html": [
       "<div>\n",
       "<style scoped>\n",
       "    .dataframe tbody tr th:only-of-type {\n",
       "        vertical-align: middle;\n",
       "    }\n",
       "\n",
       "    .dataframe tbody tr th {\n",
       "        vertical-align: top;\n",
       "    }\n",
       "\n",
       "    .dataframe thead th {\n",
       "        text-align: right;\n",
       "    }\n",
       "</style>\n",
       "<table border=\"1\" class=\"dataframe\">\n",
       "  <thead>\n",
       "    <tr style=\"text-align: right;\">\n",
       "      <th></th>\n",
       "      <th>shop_id</th>\n",
       "      <th>revenue</th>\n",
       "    </tr>\n",
       "  </thead>\n",
       "  <tbody>\n",
       "    <tr>\n",
       "      <th>0</th>\n",
       "      <td>Shop 0</td>\n",
       "      <td>1577567.47</td>\n",
       "    </tr>\n",
       "    <tr>\n",
       "      <th>1</th>\n",
       "      <td>Shop 3</td>\n",
       "      <td>103976.00</td>\n",
       "    </tr>\n",
       "    <tr>\n",
       "      <th>2</th>\n",
       "      <td>Shop 6</td>\n",
       "      <td>56596.73</td>\n",
       "    </tr>\n",
       "    <tr>\n",
       "      <th>3</th>\n",
       "      <td>Shop 4</td>\n",
       "      <td>51492.39</td>\n",
       "    </tr>\n",
       "    <tr>\n",
       "      <th>4</th>\n",
       "      <td>Shop 1</td>\n",
       "      <td>47599.85</td>\n",
       "    </tr>\n",
       "    <tr>\n",
       "      <th>5</th>\n",
       "      <td>Shop 2</td>\n",
       "      <td>40522.18</td>\n",
       "    </tr>\n",
       "    <tr>\n",
       "      <th>6</th>\n",
       "      <td>Shop 14</td>\n",
       "      <td>22796.61</td>\n",
       "    </tr>\n",
       "    <tr>\n",
       "      <th>7</th>\n",
       "      <td>Shop 8</td>\n",
       "      <td>16173.07</td>\n",
       "    </tr>\n",
       "    <tr>\n",
       "      <th>8</th>\n",
       "      <td>Shop 7</td>\n",
       "      <td>11115.45</td>\n",
       "    </tr>\n",
       "    <tr>\n",
       "      <th>9</th>\n",
       "      <td>Shop 19</td>\n",
       "      <td>10131.93</td>\n",
       "    </tr>\n",
       "  </tbody>\n",
       "</table>\n",
       "</div>"
      ],
      "text/plain": [
       "   shop_id    revenue\n",
       "0   Shop 0 1577567.47\n",
       "1   Shop 3  103976.00\n",
       "2   Shop 6   56596.73\n",
       "3   Shop 4   51492.39\n",
       "4   Shop 1   47599.85\n",
       "5   Shop 2   40522.18\n",
       "6  Shop 14   22796.61\n",
       "7   Shop 8   16173.07\n",
       "8   Shop 7   11115.45\n",
       "9  Shop 19   10131.93"
      ]
     },
     "execution_count": 39,
     "metadata": {},
     "output_type": "execute_result"
    }
   ],
   "source": [
    "#группировка методом groupby по id магазина\n",
    "revenue_grouped = retail_df.groupby('shop_id').agg(revenue = ('buy_sum', 'sum'))\n",
    "revenue_grouped = revenue_grouped.sort_values(by = 'revenue', ascending = False).head(10).reset_index()\n",
    "revenue_grouped"
   ]
  },
  {
   "cell_type": "markdown",
   "metadata": {},
   "source": [
    "Построим график"
   ]
  },
  {
   "cell_type": "code",
   "execution_count": 40,
   "metadata": {
    "scrolled": false
   },
   "outputs": [
    {
     "data": {
      "image/png": "[encoded data removed]",
      "text/plain": [
       "<Figure size 720x504 with 1 Axes>"
      ]
     },
     "metadata": {},
     "output_type": "display_data"
    }
   ],
   "source": [
    "ax = sns.barplot( x = \"shop_id\", y = \"revenue\",data=revenue_grouped)\n",
    "ax.set_title('Топ 10 магазинов по суммарной выручке')\n",
    "plt.xlabel('Магазин')\n",
    "plt.ylabel('Выручка')\n",
    "plt.show()"
   ]
  },
  {
   "cell_type": "markdown",
   "metadata": {},
   "source": [
    "Самый продающий магазин - Shop 0. Возможно самый первый магазин, флагман сети. Его выручка в 15 раз выше следующего по выручке магазина - Shop 3, остальные - сильно отстающие. Возможно некоторые недавно открылись или есть проблемы с продажами."
   ]
  },
  {
   "cell_type": "markdown",
   "metadata": {},
   "source": [
    "### Расчет среднего чека по магазинам"
   ]
  },
  {
   "cell_type": "markdown",
   "metadata": {},
   "source": [
    "При расчете среднего чека оставляем позиции с возвратами, так как они влияют на прибыль магазина."
   ]
  },
  {
   "cell_type": "markdown",
   "metadata": {},
   "source": [
    "У нас есть магазины, в которых небольшая выручка, возможно они недавно открылись. Посмотрим минимальные даты покупок."
   ]
  },
  {
   "cell_type": "code",
   "execution_count": 41,
   "metadata": {},
   "outputs": [
    {
     "data": {
      "text/html": [
       "<div>\n",
       "<style scoped>\n",
       "    .dataframe tbody tr th:only-of-type {\n",
       "        vertical-align: middle;\n",
       "    }\n",
       "\n",
       "    .dataframe tbody tr th {\n",
       "        vertical-align: top;\n",
       "    }\n",
       "\n",
       "    .dataframe thead th {\n",
       "        text-align: right;\n",
       "    }\n",
       "</style>\n",
       "<table border=\"1\" class=\"dataframe\">\n",
       "  <thead>\n",
       "    <tr style=\"text-align: right;\">\n",
       "      <th></th>\n",
       "      <th>date</th>\n",
       "    </tr>\n",
       "    <tr>\n",
       "      <th>shop_id</th>\n",
       "      <th></th>\n",
       "    </tr>\n",
       "  </thead>\n",
       "  <tbody>\n",
       "    <tr>\n",
       "      <th>Shop 0</th>\n",
       "      <td>2016-12-01</td>\n",
       "    </tr>\n",
       "    <tr>\n",
       "      <th>Shop 1</th>\n",
       "      <td>2016-12-01</td>\n",
       "    </tr>\n",
       "    <tr>\n",
       "      <th>Shop 6</th>\n",
       "      <td>2016-12-01</td>\n",
       "    </tr>\n",
       "    <tr>\n",
       "      <th>Shop 5</th>\n",
       "      <td>2016-12-01</td>\n",
       "    </tr>\n",
       "    <tr>\n",
       "      <th>Shop 4</th>\n",
       "      <td>2016-12-01</td>\n",
       "    </tr>\n",
       "    <tr>\n",
       "      <th>Shop 3</th>\n",
       "      <td>2016-12-01</td>\n",
       "    </tr>\n",
       "    <tr>\n",
       "      <th>Shop 2</th>\n",
       "      <td>2016-12-01</td>\n",
       "    </tr>\n",
       "    <tr>\n",
       "      <th>Shop 7</th>\n",
       "      <td>2016-12-03</td>\n",
       "    </tr>\n",
       "    <tr>\n",
       "      <th>Shop 8</th>\n",
       "      <td>2016-12-03</td>\n",
       "    </tr>\n",
       "    <tr>\n",
       "      <th>Shop 9</th>\n",
       "      <td>2016-12-03</td>\n",
       "    </tr>\n",
       "    <tr>\n",
       "      <th>Shop 10</th>\n",
       "      <td>2016-12-03</td>\n",
       "    </tr>\n",
       "    <tr>\n",
       "      <th>Shop 11</th>\n",
       "      <td>2016-12-03</td>\n",
       "    </tr>\n",
       "    <tr>\n",
       "      <th>Shop 12</th>\n",
       "      <td>2016-12-03</td>\n",
       "    </tr>\n",
       "    <tr>\n",
       "      <th>Shop 13</th>\n",
       "      <td>2016-12-05</td>\n",
       "    </tr>\n",
       "    <tr>\n",
       "      <th>Shop 14</th>\n",
       "      <td>2016-12-05</td>\n",
       "    </tr>\n",
       "    <tr>\n",
       "      <th>Shop 15</th>\n",
       "      <td>2016-12-07</td>\n",
       "    </tr>\n",
       "    <tr>\n",
       "      <th>Shop 16</th>\n",
       "      <td>2016-12-09</td>\n",
       "    </tr>\n",
       "    <tr>\n",
       "      <th>Shop 17</th>\n",
       "      <td>2016-12-09</td>\n",
       "    </tr>\n",
       "    <tr>\n",
       "      <th>Shop 18</th>\n",
       "      <td>2016-12-14</td>\n",
       "    </tr>\n",
       "    <tr>\n",
       "      <th>Shop 19</th>\n",
       "      <td>2016-12-14</td>\n",
       "    </tr>\n",
       "    <tr>\n",
       "      <th>Shop 20</th>\n",
       "      <td>2016-12-15</td>\n",
       "    </tr>\n",
       "    <tr>\n",
       "      <th>Shop 21</th>\n",
       "      <td>2016-12-15</td>\n",
       "    </tr>\n",
       "    <tr>\n",
       "      <th>Shop 22</th>\n",
       "      <td>2016-12-16</td>\n",
       "    </tr>\n",
       "    <tr>\n",
       "      <th>Shop 23</th>\n",
       "      <td>2016-12-20</td>\n",
       "    </tr>\n",
       "    <tr>\n",
       "      <th>Shop 25</th>\n",
       "      <td>2017-01-24</td>\n",
       "    </tr>\n",
       "    <tr>\n",
       "      <th>Shop 24</th>\n",
       "      <td>2017-01-24</td>\n",
       "    </tr>\n",
       "    <tr>\n",
       "      <th>Shop 26</th>\n",
       "      <td>2017-01-25</td>\n",
       "    </tr>\n",
       "    <tr>\n",
       "      <th>Shop 27</th>\n",
       "      <td>2017-01-27</td>\n",
       "    </tr>\n",
       "    <tr>\n",
       "      <th>Shop 28</th>\n",
       "      <td>2017-02-14</td>\n",
       "    </tr>\n",
       "    <tr>\n",
       "      <th>Shop 29</th>\n",
       "      <td>2017-02-24</td>\n",
       "    </tr>\n",
       "    <tr>\n",
       "      <th>Shop 30</th>\n",
       "      <td>2017-02-28</td>\n",
       "    </tr>\n",
       "  </tbody>\n",
       "</table>\n",
       "</div>"
      ],
      "text/plain": [
       "              date\n",
       "shop_id           \n",
       "Shop 0  2016-12-01\n",
       "Shop 1  2016-12-01\n",
       "Shop 6  2016-12-01\n",
       "Shop 5  2016-12-01\n",
       "Shop 4  2016-12-01\n",
       "Shop 3  2016-12-01\n",
       "Shop 2  2016-12-01\n",
       "Shop 7  2016-12-03\n",
       "Shop 8  2016-12-03\n",
       "Shop 9  2016-12-03\n",
       "Shop 10 2016-12-03\n",
       "Shop 11 2016-12-03\n",
       "Shop 12 2016-12-03\n",
       "Shop 13 2016-12-05\n",
       "Shop 14 2016-12-05\n",
       "Shop 15 2016-12-07\n",
       "Shop 16 2016-12-09\n",
       "Shop 17 2016-12-09\n",
       "Shop 18 2016-12-14\n",
       "Shop 19 2016-12-14\n",
       "Shop 20 2016-12-15\n",
       "Shop 21 2016-12-15\n",
       "Shop 22 2016-12-16\n",
       "Shop 23 2016-12-20\n",
       "Shop 25 2017-01-24\n",
       "Shop 24 2017-01-24\n",
       "Shop 26 2017-01-25\n",
       "Shop 27 2017-01-27\n",
       "Shop 28 2017-02-14\n",
       "Shop 29 2017-02-24\n",
       "Shop 30 2017-02-28"
      ]
     },
     "execution_count": 41,
     "metadata": {},
     "output_type": "execute_result"
    }
   ],
   "source": [
    "shop = retail.pivot_table(index='shop_id',values='date',aggfunc='min').sort_values(by='date')\n",
    "shop"
   ]
  },
  {
   "cell_type": "markdown",
   "metadata": {},
   "source": [
    "Итак, мы видим, что магазины нумеруются по мере их открытия. На 01.12.2016 были открыты Shop 0,1,2,3,4,5,6. А по Shop 30 в данных представлен только один день продаж."
   ]
  },
  {
   "cell_type": "markdown",
   "metadata": {},
   "source": [
    "Посмотрим магазины, у которых пробито больше 10 чеков"
   ]
  },
  {
   "cell_type": "code",
   "execution_count": 42,
   "metadata": {},
   "outputs": [
    {
     "data": {
      "text/html": [
       "<div>\n",
       "<style scoped>\n",
       "    .dataframe tbody tr th:only-of-type {\n",
       "        vertical-align: middle;\n",
       "    }\n",
       "\n",
       "    .dataframe tbody tr th {\n",
       "        vertical-align: top;\n",
       "    }\n",
       "\n",
       "    .dataframe thead th {\n",
       "        text-align: right;\n",
       "    }\n",
       "</style>\n",
       "<table border=\"1\" class=\"dataframe\">\n",
       "  <thead>\n",
       "    <tr style=\"text-align: right;\">\n",
       "      <th></th>\n",
       "      <th>shop_id</th>\n",
       "      <th>purchase_id</th>\n",
       "    </tr>\n",
       "  </thead>\n",
       "  <tbody>\n",
       "    <tr>\n",
       "      <th>0</th>\n",
       "      <td>Shop 0</td>\n",
       "      <td>4471</td>\n",
       "    </tr>\n",
       "    <tr>\n",
       "      <th>1</th>\n",
       "      <td>Shop 4</td>\n",
       "      <td>114</td>\n",
       "    </tr>\n",
       "    <tr>\n",
       "      <th>2</th>\n",
       "      <td>Shop 1</td>\n",
       "      <td>90</td>\n",
       "    </tr>\n",
       "    <tr>\n",
       "      <th>3</th>\n",
       "      <td>Shop 6</td>\n",
       "      <td>46</td>\n",
       "    </tr>\n",
       "    <tr>\n",
       "      <th>4</th>\n",
       "      <td>Shop 12</td>\n",
       "      <td>21</td>\n",
       "    </tr>\n",
       "    <tr>\n",
       "      <th>5</th>\n",
       "      <td>Shop 8</td>\n",
       "      <td>20</td>\n",
       "    </tr>\n",
       "    <tr>\n",
       "      <th>6</th>\n",
       "      <td>Shop 2</td>\n",
       "      <td>19</td>\n",
       "    </tr>\n",
       "    <tr>\n",
       "      <th>7</th>\n",
       "      <td>Shop 10</td>\n",
       "      <td>15</td>\n",
       "    </tr>\n",
       "    <tr>\n",
       "      <th>8</th>\n",
       "      <td>Shop 3</td>\n",
       "      <td>15</td>\n",
       "    </tr>\n",
       "    <tr>\n",
       "      <th>9</th>\n",
       "      <td>Shop 7</td>\n",
       "      <td>11</td>\n",
       "    </tr>\n",
       "  </tbody>\n",
       "</table>\n",
       "</div>"
      ],
      "text/plain": [
       "   shop_id  purchase_id\n",
       "0   Shop 0         4471\n",
       "1   Shop 4          114\n",
       "2   Shop 1           90\n",
       "3   Shop 6           46\n",
       "4  Shop 12           21\n",
       "5   Shop 8           20\n",
       "6   Shop 2           19\n",
       "7  Shop 10           15\n",
       "8   Shop 3           15\n",
       "9   Shop 7           11"
      ]
     },
     "execution_count": 42,
     "metadata": {},
     "output_type": "execute_result"
    }
   ],
   "source": [
    "bill_grouped = retail_df.pivot_table(index='shop_id',values='purchase_id',aggfunc='nunique').sort_values(by='purchase_id',ascending = False).reset_index().head(10)\n",
    "bill_grouped.reset_index(drop = True)"
   ]
  },
  {
   "cell_type": "markdown",
   "metadata": {},
   "source": [
    "Получились магазины, которые работают давно. Оставим для расчета только эти магазины."
   ]
  },
  {
   "cell_type": "code",
   "execution_count": 43,
   "metadata": {
    "scrolled": false
   },
   "outputs": [
    {
     "data": {
      "text/plain": [
       "0     Shop 0\n",
       "2     Shop 1\n",
       "7    Shop 10\n",
       "4    Shop 12\n",
       "6     Shop 2\n",
       "8     Shop 3\n",
       "1     Shop 4\n",
       "3     Shop 6\n",
       "9     Shop 7\n",
       "5     Shop 8\n",
       "Name: shop_id, dtype: object"
      ]
     },
     "execution_count": 43,
     "metadata": {},
     "output_type": "execute_result"
    }
   ],
   "source": [
    "shop_list = bill_grouped['shop_id'].sort_values()\n",
    "shop_list"
   ]
  },
  {
   "cell_type": "markdown",
   "metadata": {},
   "source": [
    "Создаем сводную таблицу по среднему чеку"
   ]
  },
  {
   "cell_type": "code",
   "execution_count": 44,
   "metadata": {},
   "outputs": [
    {
     "data": {
      "text/html": [
       "<div>\n",
       "<style scoped>\n",
       "    .dataframe tbody tr th:only-of-type {\n",
       "        vertical-align: middle;\n",
       "    }\n",
       "\n",
       "    .dataframe tbody tr th {\n",
       "        vertical-align: top;\n",
       "    }\n",
       "\n",
       "    .dataframe thead th {\n",
       "        text-align: right;\n",
       "    }\n",
       "</style>\n",
       "<table border=\"1\" class=\"dataframe\">\n",
       "  <thead>\n",
       "    <tr style=\"text-align: right;\">\n",
       "      <th></th>\n",
       "      <th>purchase_id</th>\n",
       "      <th>product_id</th>\n",
       "      <th>quantity</th>\n",
       "      <th>purchase_date</th>\n",
       "      <th>customer_id</th>\n",
       "      <th>shop_id</th>\n",
       "      <th>loyalty_program</th>\n",
       "      <th>date</th>\n",
       "      <th>mean_price</th>\n",
       "      <th>buy_sum</th>\n",
       "    </tr>\n",
       "  </thead>\n",
       "  <tbody>\n",
       "    <tr>\n",
       "      <th>0</th>\n",
       "      <td>538280</td>\n",
       "      <td>21873</td>\n",
       "      <td>11</td>\n",
       "      <td>2016-12-10 12:50:00</td>\n",
       "      <td>18427</td>\n",
       "      <td>Shop 0</td>\n",
       "      <td>0</td>\n",
       "      <td>2016-12-10</td>\n",
       "      <td>1.81</td>\n",
       "      <td>19.91</td>\n",
       "    </tr>\n",
       "    <tr>\n",
       "      <th>1</th>\n",
       "      <td>538862</td>\n",
       "      <td>22195</td>\n",
       "      <td>0</td>\n",
       "      <td>2016-12-14 14:11:00</td>\n",
       "      <td>22389</td>\n",
       "      <td>Shop 0</td>\n",
       "      <td>1</td>\n",
       "      <td>2016-12-14</td>\n",
       "      <td>2.77</td>\n",
       "      <td>0.00</td>\n",
       "    </tr>\n",
       "    <tr>\n",
       "      <th>2</th>\n",
       "      <td>538855</td>\n",
       "      <td>21239</td>\n",
       "      <td>7</td>\n",
       "      <td>2016-12-14 13:50:00</td>\n",
       "      <td>22182</td>\n",
       "      <td>Shop 0</td>\n",
       "      <td>1</td>\n",
       "      <td>2016-12-14</td>\n",
       "      <td>1.47</td>\n",
       "      <td>10.32</td>\n",
       "    </tr>\n",
       "    <tr>\n",
       "      <th>3</th>\n",
       "      <td>543543</td>\n",
       "      <td>22271</td>\n",
       "      <td>0</td>\n",
       "      <td>2017-02-09 15:33:00</td>\n",
       "      <td>23522</td>\n",
       "      <td>Shop 0</td>\n",
       "      <td>1</td>\n",
       "      <td>2017-02-09</td>\n",
       "      <td>4.30</td>\n",
       "      <td>0.00</td>\n",
       "    </tr>\n",
       "    <tr>\n",
       "      <th>4</th>\n",
       "      <td>543812</td>\n",
       "      <td>79321</td>\n",
       "      <td>0</td>\n",
       "      <td>2017-02-13 14:40:00</td>\n",
       "      <td>23151</td>\n",
       "      <td>Shop 0</td>\n",
       "      <td>1</td>\n",
       "      <td>2017-02-13</td>\n",
       "      <td>7.01</td>\n",
       "      <td>0.00</td>\n",
       "    </tr>\n",
       "  </tbody>\n",
       "</table>\n",
       "</div>"
      ],
      "text/plain": [
       "  purchase_id product_id  quantity       purchase_date  customer_id shop_id  \\\n",
       "0      538280      21873        11 2016-12-10 12:50:00        18427  Shop 0   \n",
       "1      538862      22195         0 2016-12-14 14:11:00        22389  Shop 0   \n",
       "2      538855      21239         7 2016-12-14 13:50:00        22182  Shop 0   \n",
       "3      543543      22271         0 2017-02-09 15:33:00        23522  Shop 0   \n",
       "4      543812      79321         0 2017-02-13 14:40:00        23151  Shop 0   \n",
       "\n",
       "   loyalty_program       date  mean_price  buy_sum  \n",
       "0                0 2016-12-10        1.81    19.91  \n",
       "1                1 2016-12-14        2.77     0.00  \n",
       "2                1 2016-12-14        1.47    10.32  \n",
       "3                1 2017-02-09        4.30     0.00  \n",
       "4                1 2017-02-13        7.01     0.00  "
      ]
     },
     "execution_count": 44,
     "metadata": {},
     "output_type": "execute_result"
    }
   ],
   "source": [
    "bill_data_filtered = retail_df.loc[retail_df['shop_id'].isin(shop_list)]\n",
    "bill_data_filtered.head()"
   ]
  },
  {
   "cell_type": "code",
   "execution_count": 45,
   "metadata": {
    "scrolled": false
   },
   "outputs": [
    {
     "data": {
      "text/html": [
       "<div>\n",
       "<style scoped>\n",
       "    .dataframe tbody tr th:only-of-type {\n",
       "        vertical-align: middle;\n",
       "    }\n",
       "\n",
       "    .dataframe tbody tr th {\n",
       "        vertical-align: top;\n",
       "    }\n",
       "\n",
       "    .dataframe thead th {\n",
       "        text-align: right;\n",
       "    }\n",
       "</style>\n",
       "<table border=\"1\" class=\"dataframe\">\n",
       "  <thead>\n",
       "    <tr style=\"text-align: right;\">\n",
       "      <th></th>\n",
       "      <th>shop_id</th>\n",
       "      <th>mean_bill</th>\n",
       "    </tr>\n",
       "  </thead>\n",
       "  <tbody>\n",
       "    <tr>\n",
       "      <th>0</th>\n",
       "      <td>Shop 3</td>\n",
       "      <td>6931.73</td>\n",
       "    </tr>\n",
       "    <tr>\n",
       "      <th>1</th>\n",
       "      <td>Shop 2</td>\n",
       "      <td>2132.75</td>\n",
       "    </tr>\n",
       "    <tr>\n",
       "      <th>2</th>\n",
       "      <td>Shop 6</td>\n",
       "      <td>1230.36</td>\n",
       "    </tr>\n",
       "    <tr>\n",
       "      <th>3</th>\n",
       "      <td>Shop 7</td>\n",
       "      <td>1010.50</td>\n",
       "    </tr>\n",
       "    <tr>\n",
       "      <th>4</th>\n",
       "      <td>Shop 8</td>\n",
       "      <td>808.65</td>\n",
       "    </tr>\n",
       "    <tr>\n",
       "      <th>5</th>\n",
       "      <td>Shop 10</td>\n",
       "      <td>655.09</td>\n",
       "    </tr>\n",
       "    <tr>\n",
       "      <th>6</th>\n",
       "      <td>Shop 1</td>\n",
       "      <td>528.89</td>\n",
       "    </tr>\n",
       "    <tr>\n",
       "      <th>7</th>\n",
       "      <td>Shop 4</td>\n",
       "      <td>451.69</td>\n",
       "    </tr>\n",
       "    <tr>\n",
       "      <th>8</th>\n",
       "      <td>Shop 0</td>\n",
       "      <td>352.84</td>\n",
       "    </tr>\n",
       "    <tr>\n",
       "      <th>9</th>\n",
       "      <td>Shop 12</td>\n",
       "      <td>322.64</td>\n",
       "    </tr>\n",
       "  </tbody>\n",
       "</table>\n",
       "</div>"
      ],
      "text/plain": [
       "   shop_id  mean_bill\n",
       "0   Shop 3    6931.73\n",
       "1   Shop 2    2132.75\n",
       "2   Shop 6    1230.36\n",
       "3   Shop 7    1010.50\n",
       "4   Shop 8     808.65\n",
       "5  Shop 10     655.09\n",
       "6   Shop 1     528.89\n",
       "7   Shop 4     451.69\n",
       "8   Shop 0     352.84\n",
       "9  Shop 12     322.64"
      ]
     },
     "execution_count": 45,
     "metadata": {},
     "output_type": "execute_result"
    }
   ],
   "source": [
    "mean_bills = (bill_data_filtered.groupby(['shop_id', 'purchase_id']).agg(bill = ('buy_sum', 'sum')).reset_index())\\\n",
    "    .groupby('shop_id').agg(mean_bill = ('bill', 'mean')).sort_values(by = 'mean_bill', ascending = False)\\\n",
    "    .head(10).reset_index()\n",
    "mean_bills"
   ]
  },
  {
   "cell_type": "markdown",
   "metadata": {},
   "source": [
    "Строим график"
   ]
  },
  {
   "cell_type": "code",
   "execution_count": 46,
   "metadata": {},
   "outputs": [
    {
     "data": {
      "image/png": "[encoded data removed]",
      "text/plain": [
       "<Figure size 720x504 with 1 Axes>"
      ]
     },
     "metadata": {},
     "output_type": "display_data"
    }
   ],
   "source": [
    "ax = sns.barplot( x = \"shop_id\", y = \"mean_bill\",data=mean_bills)\n",
    "ax.set_title('Топ 10 магазинов по среднему чеку')\n",
    "plt.xlabel('Магазин')\n",
    "plt.ylabel('Средний чек')\n",
    "plt.show()"
   ]
  },
  {
   "cell_type": "markdown",
   "metadata": {},
   "source": [
    "Видим, что средний чек намного больше у Shop 3. Shop 0 еле ошел в Топ-10 по среднему чеку, хоть и приносит больше всего выручке. возможно все зависит от представленного ассортимента или места нахождения магазина или его формата."
   ]
  },
  {
   "cell_type": "markdown",
   "metadata": {},
   "source": [
    "### Расчет среднего количества товаров в чеке по магазинам"
   ]
  },
  {
   "cell_type": "markdown",
   "metadata": {},
   "source": [
    "Создаем сводную таблицу по среднему количеству товаров"
   ]
  },
  {
   "cell_type": "code",
   "execution_count": 47,
   "metadata": {},
   "outputs": [
    {
     "data": {
      "text/html": [
       "<div>\n",
       "<style scoped>\n",
       "    .dataframe tbody tr th:only-of-type {\n",
       "        vertical-align: middle;\n",
       "    }\n",
       "\n",
       "    .dataframe tbody tr th {\n",
       "        vertical-align: top;\n",
       "    }\n",
       "\n",
       "    .dataframe thead th {\n",
       "        text-align: right;\n",
       "    }\n",
       "</style>\n",
       "<table border=\"1\" class=\"dataframe\">\n",
       "  <thead>\n",
       "    <tr style=\"text-align: right;\">\n",
       "      <th></th>\n",
       "      <th>shop_id</th>\n",
       "      <th>mean_product</th>\n",
       "    </tr>\n",
       "  </thead>\n",
       "  <tbody>\n",
       "    <tr>\n",
       "      <th>0</th>\n",
       "      <td>Shop 3</td>\n",
       "      <td>32.80</td>\n",
       "    </tr>\n",
       "    <tr>\n",
       "      <th>1</th>\n",
       "      <td>Shop 7</td>\n",
       "      <td>28.36</td>\n",
       "    </tr>\n",
       "    <tr>\n",
       "      <th>2</th>\n",
       "      <td>Shop 8</td>\n",
       "      <td>28.00</td>\n",
       "    </tr>\n",
       "    <tr>\n",
       "      <th>3</th>\n",
       "      <td>Shop 6</td>\n",
       "      <td>22.43</td>\n",
       "    </tr>\n",
       "    <tr>\n",
       "      <th>4</th>\n",
       "      <td>Shop 0</td>\n",
       "      <td>21.78</td>\n",
       "    </tr>\n",
       "    <tr>\n",
       "      <th>5</th>\n",
       "      <td>Shop 10</td>\n",
       "      <td>19.93</td>\n",
       "    </tr>\n",
       "    <tr>\n",
       "      <th>6</th>\n",
       "      <td>Shop 1</td>\n",
       "      <td>17.11</td>\n",
       "    </tr>\n",
       "    <tr>\n",
       "      <th>7</th>\n",
       "      <td>Shop 4</td>\n",
       "      <td>15.27</td>\n",
       "    </tr>\n",
       "    <tr>\n",
       "      <th>8</th>\n",
       "      <td>Shop 2</td>\n",
       "      <td>13.32</td>\n",
       "    </tr>\n",
       "    <tr>\n",
       "      <th>9</th>\n",
       "      <td>Shop 12</td>\n",
       "      <td>13.24</td>\n",
       "    </tr>\n",
       "  </tbody>\n",
       "</table>\n",
       "</div>"
      ],
      "text/plain": [
       "   shop_id  mean_product\n",
       "0   Shop 3         32.80\n",
       "1   Shop 7         28.36\n",
       "2   Shop 8         28.00\n",
       "3   Shop 6         22.43\n",
       "4   Shop 0         21.78\n",
       "5  Shop 10         19.93\n",
       "6   Shop 1         17.11\n",
       "7   Shop 4         15.27\n",
       "8   Shop 2         13.32\n",
       "9  Shop 12         13.24"
      ]
     },
     "execution_count": 47,
     "metadata": {},
     "output_type": "execute_result"
    }
   ],
   "source": [
    "bills_count = (bill_data_filtered.groupby(['shop_id', 'purchase_id']).agg(product = ('product_id', 'count')).reset_index())\\\n",
    "    .groupby('shop_id').agg(mean_product = ('product', 'mean')).sort_values(by = 'mean_product', ascending = False)\\\n",
    "    .head(10).reset_index()\n",
    "bills_count"
   ]
  },
  {
   "cell_type": "code",
   "execution_count": 48,
   "metadata": {
    "scrolled": false
   },
   "outputs": [
    {
     "data": {
      "image/png": "[encoded data removed]",
      "text/plain": [
       "<Figure size 720x504 with 1 Axes>"
      ]
     },
     "metadata": {},
     "output_type": "display_data"
    }
   ],
   "source": [
    "ax = sns.barplot( x = \"shop_id\", y = \"mean_product\",data=bills_count)\n",
    "ax.set_title('Топ 10 магазинов по кол-ву товаров в чеке')\n",
    "plt.xlabel('Магазин')\n",
    "plt.ylabel('Среднее кол-во товаров в чеке')\n",
    "plt.show()"
   ]
  },
  {
   "cell_type": "markdown",
   "metadata": {},
   "source": [
    "Снова лидирует Shop 3, недалеко от него Shop 7,8"
   ]
  },
  {
   "cell_type": "markdown",
   "metadata": {},
   "source": [
    "### Расчет среднего количества возвратов по магазинам"
   ]
  },
  {
   "cell_type": "markdown",
   "metadata": {},
   "source": [
    "Сделаем выборку по отрицательным строчкам и сформируем сводную таблицу"
   ]
  },
  {
   "cell_type": "code",
   "execution_count": 49,
   "metadata": {},
   "outputs": [
    {
     "name": "stdout",
     "output_type": "stream",
     "text": [
      "Количество возвратов: 979\n"
     ]
    }
   ],
   "source": [
    "return_data = retail_df.loc[retail_df['buy_sum'] < 0]\n",
    "print('Количество возвратов:', return_data['purchase_id'].nunique())"
   ]
  },
  {
   "cell_type": "code",
   "execution_count": 50,
   "metadata": {},
   "outputs": [
    {
     "data": {
      "text/html": [
       "<div>\n",
       "<style scoped>\n",
       "    .dataframe tbody tr th:only-of-type {\n",
       "        vertical-align: middle;\n",
       "    }\n",
       "\n",
       "    .dataframe tbody tr th {\n",
       "        vertical-align: top;\n",
       "    }\n",
       "\n",
       "    .dataframe thead th {\n",
       "        text-align: right;\n",
       "    }\n",
       "</style>\n",
       "<table border=\"1\" class=\"dataframe\">\n",
       "  <thead>\n",
       "    <tr style=\"text-align: right;\">\n",
       "      <th></th>\n",
       "      <th>shop_id</th>\n",
       "      <th>count</th>\n",
       "    </tr>\n",
       "  </thead>\n",
       "  <tbody>\n",
       "    <tr>\n",
       "      <th>0</th>\n",
       "      <td>Shop 0</td>\n",
       "      <td>888</td>\n",
       "    </tr>\n",
       "    <tr>\n",
       "      <th>1</th>\n",
       "      <td>Shop 4</td>\n",
       "      <td>34</td>\n",
       "    </tr>\n",
       "    <tr>\n",
       "      <th>2</th>\n",
       "      <td>Shop 1</td>\n",
       "      <td>19</td>\n",
       "    </tr>\n",
       "    <tr>\n",
       "      <th>3</th>\n",
       "      <td>Shop 6</td>\n",
       "      <td>9</td>\n",
       "    </tr>\n",
       "    <tr>\n",
       "      <th>4</th>\n",
       "      <td>Shop 12</td>\n",
       "      <td>5</td>\n",
       "    </tr>\n",
       "  </tbody>\n",
       "</table>\n",
       "</div>"
      ],
      "text/plain": [
       "   shop_id  count\n",
       "0   Shop 0    888\n",
       "1   Shop 4     34\n",
       "2   Shop 1     19\n",
       "3   Shop 6      9\n",
       "4  Shop 12      5"
      ]
     },
     "execution_count": 50,
     "metadata": {},
     "output_type": "execute_result"
    }
   ],
   "source": [
    "mean_return = return_data.groupby(['shop_id']).agg(count = ('purchase_id', 'nunique'))\\\n",
    "    .sort_values(by = 'count', ascending = False).reset_index()\n",
    "mean_return.head()"
   ]
  },
  {
   "cell_type": "markdown",
   "metadata": {},
   "source": [
    "По абсолютному значению лидирует Shop 0. Но стоит посмотреть соотношение возвратов к покупкам"
   ]
  },
  {
   "cell_type": "code",
   "execution_count": 51,
   "metadata": {},
   "outputs": [
    {
     "data": {
      "text/html": [
       "<div>\n",
       "<style scoped>\n",
       "    .dataframe tbody tr th:only-of-type {\n",
       "        vertical-align: middle;\n",
       "    }\n",
       "\n",
       "    .dataframe tbody tr th {\n",
       "        vertical-align: top;\n",
       "    }\n",
       "\n",
       "    .dataframe thead th {\n",
       "        text-align: right;\n",
       "    }\n",
       "</style>\n",
       "<table border=\"1\" class=\"dataframe\">\n",
       "  <thead>\n",
       "    <tr style=\"text-align: right;\">\n",
       "      <th></th>\n",
       "      <th>shop_id</th>\n",
       "      <th>count</th>\n",
       "    </tr>\n",
       "  </thead>\n",
       "  <tbody>\n",
       "    <tr>\n",
       "      <th>0</th>\n",
       "      <td>Shop 0</td>\n",
       "      <td>4471</td>\n",
       "    </tr>\n",
       "    <tr>\n",
       "      <th>1</th>\n",
       "      <td>Shop 4</td>\n",
       "      <td>114</td>\n",
       "    </tr>\n",
       "    <tr>\n",
       "      <th>2</th>\n",
       "      <td>Shop 1</td>\n",
       "      <td>90</td>\n",
       "    </tr>\n",
       "    <tr>\n",
       "      <th>3</th>\n",
       "      <td>Shop 6</td>\n",
       "      <td>46</td>\n",
       "    </tr>\n",
       "    <tr>\n",
       "      <th>4</th>\n",
       "      <td>Shop 12</td>\n",
       "      <td>21</td>\n",
       "    </tr>\n",
       "  </tbody>\n",
       "</table>\n",
       "</div>"
      ],
      "text/plain": [
       "   shop_id  count\n",
       "0   Shop 0   4471\n",
       "1   Shop 4    114\n",
       "2   Shop 1     90\n",
       "3   Shop 6     46\n",
       "4  Shop 12     21"
      ]
     },
     "execution_count": 51,
     "metadata": {},
     "output_type": "execute_result"
    }
   ],
   "source": [
    "mean_buy = retail_df.groupby(['shop_id']).agg(count = ('purchase_id', 'nunique'))\\\n",
    "    .sort_values(by = 'count', ascending = False).reset_index()\n",
    "mean_buy.head()"
   ]
  },
  {
   "cell_type": "markdown",
   "metadata": {},
   "source": [
    "Объединим таблицы методом merge и добавим столбец с соотношением"
   ]
  },
  {
   "cell_type": "code",
   "execution_count": 52,
   "metadata": {},
   "outputs": [
    {
     "data": {
      "text/html": [
       "<div>\n",
       "<style scoped>\n",
       "    .dataframe tbody tr th:only-of-type {\n",
       "        vertical-align: middle;\n",
       "    }\n",
       "\n",
       "    .dataframe tbody tr th {\n",
       "        vertical-align: top;\n",
       "    }\n",
       "\n",
       "    .dataframe thead th {\n",
       "        text-align: right;\n",
       "    }\n",
       "</style>\n",
       "<table border=\"1\" class=\"dataframe\">\n",
       "  <thead>\n",
       "    <tr style=\"text-align: right;\">\n",
       "      <th></th>\n",
       "      <th>index</th>\n",
       "      <th>shop_id</th>\n",
       "      <th>buys</th>\n",
       "      <th>returns</th>\n",
       "      <th>ratio, %</th>\n",
       "    </tr>\n",
       "  </thead>\n",
       "  <tbody>\n",
       "    <tr>\n",
       "      <th>0</th>\n",
       "      <td>21</td>\n",
       "      <td>Shop 23</td>\n",
       "      <td>2</td>\n",
       "      <td>1.00</td>\n",
       "      <td>50.00</td>\n",
       "    </tr>\n",
       "    <tr>\n",
       "      <th>1</th>\n",
       "      <td>10</td>\n",
       "      <td>Shop 11</td>\n",
       "      <td>10</td>\n",
       "      <td>4.00</td>\n",
       "      <td>40.00</td>\n",
       "    </tr>\n",
       "    <tr>\n",
       "      <th>2</th>\n",
       "      <td>20</td>\n",
       "      <td>Shop 21</td>\n",
       "      <td>3</td>\n",
       "      <td>1.00</td>\n",
       "      <td>33.33</td>\n",
       "    </tr>\n",
       "    <tr>\n",
       "      <th>3</th>\n",
       "      <td>1</td>\n",
       "      <td>Shop 4</td>\n",
       "      <td>114</td>\n",
       "      <td>34.00</td>\n",
       "      <td>29.82</td>\n",
       "    </tr>\n",
       "    <tr>\n",
       "      <th>4</th>\n",
       "      <td>12</td>\n",
       "      <td>Shop 19</td>\n",
       "      <td>7</td>\n",
       "      <td>2.00</td>\n",
       "      <td>28.57</td>\n",
       "    </tr>\n",
       "    <tr>\n",
       "      <th>5</th>\n",
       "      <td>17</td>\n",
       "      <td>Shop 16</td>\n",
       "      <td>4</td>\n",
       "      <td>1.00</td>\n",
       "      <td>25.00</td>\n",
       "    </tr>\n",
       "    <tr>\n",
       "      <th>6</th>\n",
       "      <td>16</td>\n",
       "      <td>Shop 20</td>\n",
       "      <td>4</td>\n",
       "      <td>1.00</td>\n",
       "      <td>25.00</td>\n",
       "    </tr>\n",
       "    <tr>\n",
       "      <th>7</th>\n",
       "      <td>4</td>\n",
       "      <td>Shop 12</td>\n",
       "      <td>21</td>\n",
       "      <td>5.00</td>\n",
       "      <td>23.81</td>\n",
       "    </tr>\n",
       "    <tr>\n",
       "      <th>8</th>\n",
       "      <td>2</td>\n",
       "      <td>Shop 1</td>\n",
       "      <td>90</td>\n",
       "      <td>19.00</td>\n",
       "      <td>21.11</td>\n",
       "    </tr>\n",
       "    <tr>\n",
       "      <th>9</th>\n",
       "      <td>5</td>\n",
       "      <td>Shop 8</td>\n",
       "      <td>20</td>\n",
       "      <td>4.00</td>\n",
       "      <td>20.00</td>\n",
       "    </tr>\n",
       "  </tbody>\n",
       "</table>\n",
       "</div>"
      ],
      "text/plain": [
       "   index  shop_id  buys  returns  ratio, %\n",
       "0     21  Shop 23     2     1.00     50.00\n",
       "1     10  Shop 11    10     4.00     40.00\n",
       "2     20  Shop 21     3     1.00     33.33\n",
       "3      1   Shop 4   114    34.00     29.82\n",
       "4     12  Shop 19     7     2.00     28.57\n",
       "5     17  Shop 16     4     1.00     25.00\n",
       "6     16  Shop 20     4     1.00     25.00\n",
       "7      4  Shop 12    21     5.00     23.81\n",
       "8      2   Shop 1    90    19.00     21.11\n",
       "9      5   Shop 8    20     4.00     20.00"
      ]
     },
     "execution_count": 52,
     "metadata": {},
     "output_type": "execute_result"
    }
   ],
   "source": [
    "buy_return_merge = pd.merge(mean_buy, mean_return, on = 'shop_id', how = 'left')\n",
    "buy_return_merge.columns = ['shop_id', 'buys', 'returns']\n",
    "\n",
    "buy_return_merge['ratio, %'] = (buy_return_merge['returns'] / buy_return_merge['buys']) * 100\n",
    "buy_return_merge.sort_values(by = 'ratio, %', ascending = False, inplace = True)\n",
    "buy_return_merge.head(10).reset_index()"
   ]
  },
  {
   "cell_type": "markdown",
   "metadata": {},
   "source": [
    "Посмотрим на возвраты в магазинах из списка, где больше 10 чеков"
   ]
  },
  {
   "cell_type": "code",
   "execution_count": 53,
   "metadata": {},
   "outputs": [
    {
     "data": {
      "text/html": [
       "<div>\n",
       "<style scoped>\n",
       "    .dataframe tbody tr th:only-of-type {\n",
       "        vertical-align: middle;\n",
       "    }\n",
       "\n",
       "    .dataframe tbody tr th {\n",
       "        vertical-align: top;\n",
       "    }\n",
       "\n",
       "    .dataframe thead th {\n",
       "        text-align: right;\n",
       "    }\n",
       "</style>\n",
       "<table border=\"1\" class=\"dataframe\">\n",
       "  <thead>\n",
       "    <tr style=\"text-align: right;\">\n",
       "      <th></th>\n",
       "      <th>shop_id</th>\n",
       "      <th>buys</th>\n",
       "      <th>returns</th>\n",
       "      <th>ratio, %</th>\n",
       "    </tr>\n",
       "  </thead>\n",
       "  <tbody>\n",
       "    <tr>\n",
       "      <th>1</th>\n",
       "      <td>Shop 4</td>\n",
       "      <td>114</td>\n",
       "      <td>34.00</td>\n",
       "      <td>29.82</td>\n",
       "    </tr>\n",
       "    <tr>\n",
       "      <th>4</th>\n",
       "      <td>Shop 12</td>\n",
       "      <td>21</td>\n",
       "      <td>5.00</td>\n",
       "      <td>23.81</td>\n",
       "    </tr>\n",
       "    <tr>\n",
       "      <th>2</th>\n",
       "      <td>Shop 1</td>\n",
       "      <td>90</td>\n",
       "      <td>19.00</td>\n",
       "      <td>21.11</td>\n",
       "    </tr>\n",
       "    <tr>\n",
       "      <th>5</th>\n",
       "      <td>Shop 8</td>\n",
       "      <td>20</td>\n",
       "      <td>4.00</td>\n",
       "      <td>20.00</td>\n",
       "    </tr>\n",
       "    <tr>\n",
       "      <th>7</th>\n",
       "      <td>Shop 10</td>\n",
       "      <td>15</td>\n",
       "      <td>3.00</td>\n",
       "      <td>20.00</td>\n",
       "    </tr>\n",
       "    <tr>\n",
       "      <th>0</th>\n",
       "      <td>Shop 0</td>\n",
       "      <td>4471</td>\n",
       "      <td>888.00</td>\n",
       "      <td>19.86</td>\n",
       "    </tr>\n",
       "    <tr>\n",
       "      <th>3</th>\n",
       "      <td>Shop 6</td>\n",
       "      <td>46</td>\n",
       "      <td>9.00</td>\n",
       "      <td>19.57</td>\n",
       "    </tr>\n",
       "    <tr>\n",
       "      <th>8</th>\n",
       "      <td>Shop 3</td>\n",
       "      <td>15</td>\n",
       "      <td>2.00</td>\n",
       "      <td>13.33</td>\n",
       "    </tr>\n",
       "    <tr>\n",
       "      <th>6</th>\n",
       "      <td>Shop 2</td>\n",
       "      <td>19</td>\n",
       "      <td>2.00</td>\n",
       "      <td>10.53</td>\n",
       "    </tr>\n",
       "    <tr>\n",
       "      <th>9</th>\n",
       "      <td>Shop 7</td>\n",
       "      <td>11</td>\n",
       "      <td>1.00</td>\n",
       "      <td>9.09</td>\n",
       "    </tr>\n",
       "  </tbody>\n",
       "</table>\n",
       "</div>"
      ],
      "text/plain": [
       "   shop_id  buys  returns  ratio, %\n",
       "1   Shop 4   114    34.00     29.82\n",
       "4  Shop 12    21     5.00     23.81\n",
       "2   Shop 1    90    19.00     21.11\n",
       "5   Shop 8    20     4.00     20.00\n",
       "7  Shop 10    15     3.00     20.00\n",
       "0   Shop 0  4471   888.00     19.86\n",
       "3   Shop 6    46     9.00     19.57\n",
       "8   Shop 3    15     2.00     13.33\n",
       "6   Shop 2    19     2.00     10.53\n",
       "9   Shop 7    11     1.00      9.09"
      ]
     },
     "execution_count": 53,
     "metadata": {},
     "output_type": "execute_result"
    }
   ],
   "source": [
    "buy_return_merged = buy_return_merge.loc[buy_return_merge['shop_id'].isin(shop_list)]\n",
    "buy_return_merged"
   ]
  },
  {
   "cell_type": "code",
   "execution_count": 54,
   "metadata": {
    "scrolled": false
   },
   "outputs": [
    {
     "data": {
      "image/png": "[encoded data removed]",
      "text/plain": [
       "<Figure size 720x504 with 1 Axes>"
      ]
     },
     "metadata": {},
     "output_type": "display_data"
    }
   ],
   "source": [
    "ax = sns.barplot( x = \"shop_id\", y = \"ratio, %\",data=buy_return_merged)\n",
    "ax.set_title('Топ 10 магазинов по возвратам')\n",
    "plt.xlabel('Магазин')\n",
    "plt.ylabel('% возврата')\n",
    "plt.show()"
   ]
  },
  {
   "cell_type": "markdown",
   "metadata": {},
   "source": [
    "Лидер по % возврата Shop 4, однако Shop 3 и Shop 0 также входят в топ 10. И надо отметить вцелом по сети достаточно большой процент возврата. "
   ]
  },
  {
   "cell_type": "markdown",
   "metadata": {},
   "source": [
    "### Распределение количества покупок по программе лояльности "
   ]
  },
  {
   "cell_type": "markdown",
   "metadata": {},
   "source": [
    "Построим график распределения покупок с разбивкой на участие в программе лояльности и нет, берем магазины по количеству чека больше 10"
   ]
  },
  {
   "cell_type": "code",
   "execution_count": 55,
   "metadata": {
    "scrolled": false
   },
   "outputs": [
    {
     "data": {
      "image/png": "[encoded data removed]",
      "text/plain": [
       "<Figure size 720x1080 with 1 Axes>"
      ]
     },
     "metadata": {},
     "output_type": "display_data"
    }
   ],
   "source": [
    "plt.figure(figsize=(10, 15))\n",
    "sns.countplot(x = bill_data_filtered['shop_id'], hue='loyalty_program', data=bill_data_filtered)\n",
    "plt.title('Распределение количества покупок с разбивкой по признаку участия в программе лояльности или нет')\n",
    "plt.xlabel('Магазин')\n",
    "plt.ylabel('Количество')\n",
    "plt.show()"
   ]
  },
  {
   "cell_type": "markdown",
   "metadata": {},
   "source": [
    "Видим, что все участники программы лояльности cовершали покупки в Shop 0."
   ]
  },
  {
   "cell_type": "code",
   "execution_count": 56,
   "metadata": {
    "scrolled": false
   },
   "outputs": [
    {
     "data": {
      "text/html": [
       "<div>\n",
       "<style scoped>\n",
       "    .dataframe tbody tr th:only-of-type {\n",
       "        vertical-align: middle;\n",
       "    }\n",
       "\n",
       "    .dataframe tbody tr th {\n",
       "        vertical-align: top;\n",
       "    }\n",
       "\n",
       "    .dataframe thead th {\n",
       "        text-align: right;\n",
       "    }\n",
       "</style>\n",
       "<table border=\"1\" class=\"dataframe\">\n",
       "  <thead>\n",
       "    <tr style=\"text-align: right;\">\n",
       "      <th></th>\n",
       "      <th>loyalty_program</th>\n",
       "    </tr>\n",
       "    <tr>\n",
       "      <th>shop_id</th>\n",
       "      <th></th>\n",
       "    </tr>\n",
       "  </thead>\n",
       "  <tbody>\n",
       "    <tr>\n",
       "      <th>Shop 0</th>\n",
       "      <td>23701</td>\n",
       "    </tr>\n",
       "    <tr>\n",
       "      <th>Shop 8</th>\n",
       "      <td>63</td>\n",
       "    </tr>\n",
       "    <tr>\n",
       "      <th>Shop 1</th>\n",
       "      <td>0</td>\n",
       "    </tr>\n",
       "    <tr>\n",
       "      <th>Shop 10</th>\n",
       "      <td>0</td>\n",
       "    </tr>\n",
       "    <tr>\n",
       "      <th>Shop 12</th>\n",
       "      <td>0</td>\n",
       "    </tr>\n",
       "    <tr>\n",
       "      <th>Shop 2</th>\n",
       "      <td>0</td>\n",
       "    </tr>\n",
       "    <tr>\n",
       "      <th>Shop 3</th>\n",
       "      <td>0</td>\n",
       "    </tr>\n",
       "    <tr>\n",
       "      <th>Shop 4</th>\n",
       "      <td>0</td>\n",
       "    </tr>\n",
       "    <tr>\n",
       "      <th>Shop 6</th>\n",
       "      <td>0</td>\n",
       "    </tr>\n",
       "    <tr>\n",
       "      <th>Shop 7</th>\n",
       "      <td>0</td>\n",
       "    </tr>\n",
       "  </tbody>\n",
       "</table>\n",
       "</div>"
      ],
      "text/plain": [
       "         loyalty_program\n",
       "shop_id                 \n",
       "Shop 0             23701\n",
       "Shop 8                63\n",
       "Shop 1                 0\n",
       "Shop 10                0\n",
       "Shop 12                0\n",
       "Shop 2                 0\n",
       "Shop 3                 0\n",
       "Shop 4                 0\n",
       "Shop 6                 0\n",
       "Shop 7                 0"
      ]
     },
     "execution_count": 56,
     "metadata": {},
     "output_type": "execute_result"
    }
   ],
   "source": [
    "loy = bill_data_filtered.pivot_table(index='shop_id',values='loyalty_program',aggfunc='sum').sort_values(by='loyalty_program',ascending=False)\n",
    "loy"
   ]
  },
  {
   "cell_type": "markdown",
   "metadata": {},
   "source": [
    "Действительно преимущественно покупки по программе лояльности совершались в Shop 0."
   ]
  },
  {
   "cell_type": "markdown",
   "metadata": {},
   "source": [
    "### Вывод"
   ]
  },
  {
   "cell_type": "markdown",
   "metadata": {},
   "source": [
    "Лидером по выручке является магазин Shop 0,в нем совершается большая часть покупок, как вцелом, так и по программе лояльности. В то время Shop 3 лидирует по количеству товаров в чеке и среднему чеке, также имеет низкий процент возврата. По сети очень большой процент возврата, особенно у Shop 4."
   ]
  },
  {
   "cell_type": "markdown",
   "metadata": {},
   "source": [
    "## Проверка гипотез"
   ]
  },
  {
   "cell_type": "markdown",
   "metadata": {},
   "source": [
    "Теперь будем проверять гипотезы как на очищенных данных, так и на нет. Присоединим к очищенному от выбросов датафрейму таблицу product_mean с усредненными ценами:"
   ]
  },
  {
   "cell_type": "code",
   "execution_count": 57,
   "metadata": {},
   "outputs": [
    {
     "data": {
      "text/html": [
       "<div>\n",
       "<style scoped>\n",
       "    .dataframe tbody tr th:only-of-type {\n",
       "        vertical-align: middle;\n",
       "    }\n",
       "\n",
       "    .dataframe tbody tr th {\n",
       "        vertical-align: top;\n",
       "    }\n",
       "\n",
       "    .dataframe thead th {\n",
       "        text-align: right;\n",
       "    }\n",
       "</style>\n",
       "<table border=\"1\" class=\"dataframe\">\n",
       "  <thead>\n",
       "    <tr style=\"text-align: right;\">\n",
       "      <th></th>\n",
       "      <th>purchase_id</th>\n",
       "      <th>product_id</th>\n",
       "      <th>quantity</th>\n",
       "      <th>purchase_date</th>\n",
       "      <th>customer_id</th>\n",
       "      <th>shop_id</th>\n",
       "      <th>loyalty_program</th>\n",
       "      <th>date</th>\n",
       "      <th>mean_price</th>\n",
       "      <th>buy_sum</th>\n",
       "    </tr>\n",
       "  </thead>\n",
       "  <tbody>\n",
       "    <tr>\n",
       "      <th>0</th>\n",
       "      <td>538280</td>\n",
       "      <td>21873</td>\n",
       "      <td>11</td>\n",
       "      <td>2016-12-10 12:50:00</td>\n",
       "      <td>18427</td>\n",
       "      <td>Shop 0</td>\n",
       "      <td>0</td>\n",
       "      <td>2016-12-10</td>\n",
       "      <td>1.81</td>\n",
       "      <td>19.91</td>\n",
       "    </tr>\n",
       "    <tr>\n",
       "      <th>1</th>\n",
       "      <td>538862</td>\n",
       "      <td>22195</td>\n",
       "      <td>0</td>\n",
       "      <td>2016-12-14 14:11:00</td>\n",
       "      <td>22389</td>\n",
       "      <td>Shop 0</td>\n",
       "      <td>1</td>\n",
       "      <td>2016-12-14</td>\n",
       "      <td>2.77</td>\n",
       "      <td>0.00</td>\n",
       "    </tr>\n",
       "    <tr>\n",
       "      <th>2</th>\n",
       "      <td>538855</td>\n",
       "      <td>21239</td>\n",
       "      <td>7</td>\n",
       "      <td>2016-12-14 13:50:00</td>\n",
       "      <td>22182</td>\n",
       "      <td>Shop 0</td>\n",
       "      <td>1</td>\n",
       "      <td>2016-12-14</td>\n",
       "      <td>1.47</td>\n",
       "      <td>10.32</td>\n",
       "    </tr>\n",
       "    <tr>\n",
       "      <th>3</th>\n",
       "      <td>543543</td>\n",
       "      <td>22271</td>\n",
       "      <td>0</td>\n",
       "      <td>2017-02-09 15:33:00</td>\n",
       "      <td>23522</td>\n",
       "      <td>Shop 0</td>\n",
       "      <td>1</td>\n",
       "      <td>2017-02-09</td>\n",
       "      <td>4.30</td>\n",
       "      <td>0.00</td>\n",
       "    </tr>\n",
       "    <tr>\n",
       "      <th>4</th>\n",
       "      <td>543812</td>\n",
       "      <td>79321</td>\n",
       "      <td>0</td>\n",
       "      <td>2017-02-13 14:40:00</td>\n",
       "      <td>23151</td>\n",
       "      <td>Shop 0</td>\n",
       "      <td>1</td>\n",
       "      <td>2017-02-13</td>\n",
       "      <td>7.01</td>\n",
       "      <td>0.00</td>\n",
       "    </tr>\n",
       "  </tbody>\n",
       "</table>\n",
       "</div>"
      ],
      "text/plain": [
       "  purchase_id product_id  quantity       purchase_date  customer_id shop_id  \\\n",
       "0      538280      21873        11 2016-12-10 12:50:00        18427  Shop 0   \n",
       "1      538862      22195         0 2016-12-14 14:11:00        22389  Shop 0   \n",
       "2      538855      21239         7 2016-12-14 13:50:00        22182  Shop 0   \n",
       "3      543543      22271         0 2017-02-09 15:33:00        23522  Shop 0   \n",
       "4      543812      79321         0 2017-02-13 14:40:00        23151  Shop 0   \n",
       "\n",
       "   loyalty_program       date  mean_price  buy_sum  \n",
       "0                0 2016-12-10        1.81    19.91  \n",
       "1                1 2016-12-14        2.77     0.00  \n",
       "2                1 2016-12-14        1.47    10.32  \n",
       "3                1 2017-02-09        4.30     0.00  \n",
       "4                1 2017-02-13        7.01     0.00  "
      ]
     },
     "execution_count": 57,
     "metadata": {},
     "output_type": "execute_result"
    }
   ],
   "source": [
    "retail_data_filtered = pd.merge(retail_filter, product_mean, on = 'product_id', how = 'left')\n",
    "retail_data_filtered['buy_sum'] = retail_data_filtered['quantity'] * retail_data_filtered['mean_price']\n",
    "retail_data_filtered.head()"
   ]
  },
  {
   "cell_type": "markdown",
   "metadata": {},
   "source": [
    "Для каждого набора данных создадим два датафрейма: с магазинами, участвующими в программе эффективности, и не входящими в нее:"
   ]
  },
  {
   "cell_type": "code",
   "execution_count": 58,
   "metadata": {},
   "outputs": [],
   "source": [
    "retail_loyal = retail_df.query('loyalty_program == 1')\n",
    "retail_unloyal = retail_df.query('loyalty_program == 0')\n",
    "retail_filtered_loyal = retail_data_filtered.query('loyalty_program == 1')\n",
    "retail_filtered_unloyal = retail_data_filtered.query('loyalty_program == 0')\n",
    "df_list = [retail_loyal, retail_unloyal, retail_filtered_loyal, retail_filtered_unloyal]"
   ]
  },
  {
   "cell_type": "markdown",
   "metadata": {},
   "source": [
    "Посмотрим полученные датафреймы и информацию о них"
   ]
  },
  {
   "cell_type": "code",
   "execution_count": 59,
   "metadata": {
    "scrolled": false
   },
   "outputs": [
    {
     "data": {
      "text/html": [
       "<div>\n",
       "<style scoped>\n",
       "    .dataframe tbody tr th:only-of-type {\n",
       "        vertical-align: middle;\n",
       "    }\n",
       "\n",
       "    .dataframe tbody tr th {\n",
       "        vertical-align: top;\n",
       "    }\n",
       "\n",
       "    .dataframe thead th {\n",
       "        text-align: right;\n",
       "    }\n",
       "</style>\n",
       "<table border=\"1\" class=\"dataframe\">\n",
       "  <thead>\n",
       "    <tr style=\"text-align: right;\">\n",
       "      <th></th>\n",
       "      <th>purchase_id</th>\n",
       "      <th>product_id</th>\n",
       "      <th>quantity</th>\n",
       "      <th>purchase_date</th>\n",
       "      <th>customer_id</th>\n",
       "      <th>shop_id</th>\n",
       "      <th>loyalty_program</th>\n",
       "      <th>date</th>\n",
       "      <th>mean_price</th>\n",
       "      <th>buy_sum</th>\n",
       "    </tr>\n",
       "  </thead>\n",
       "  <tbody>\n",
       "    <tr>\n",
       "      <th>1</th>\n",
       "      <td>538862</td>\n",
       "      <td>22195</td>\n",
       "      <td>0</td>\n",
       "      <td>2016-12-14 14:11:00</td>\n",
       "      <td>22389</td>\n",
       "      <td>Shop 0</td>\n",
       "      <td>1</td>\n",
       "      <td>2016-12-14</td>\n",
       "      <td>2.77</td>\n",
       "      <td>0.00</td>\n",
       "    </tr>\n",
       "    <tr>\n",
       "      <th>2</th>\n",
       "      <td>538855</td>\n",
       "      <td>21239</td>\n",
       "      <td>7</td>\n",
       "      <td>2016-12-14 13:50:00</td>\n",
       "      <td>22182</td>\n",
       "      <td>Shop 0</td>\n",
       "      <td>1</td>\n",
       "      <td>2016-12-14</td>\n",
       "      <td>1.47</td>\n",
       "      <td>10.32</td>\n",
       "    </tr>\n",
       "    <tr>\n",
       "      <th>3</th>\n",
       "      <td>543543</td>\n",
       "      <td>22271</td>\n",
       "      <td>0</td>\n",
       "      <td>2017-02-09 15:33:00</td>\n",
       "      <td>23522</td>\n",
       "      <td>Shop 0</td>\n",
       "      <td>1</td>\n",
       "      <td>2017-02-09</td>\n",
       "      <td>4.30</td>\n",
       "      <td>0.00</td>\n",
       "    </tr>\n",
       "    <tr>\n",
       "      <th>4</th>\n",
       "      <td>543812</td>\n",
       "      <td>79321</td>\n",
       "      <td>0</td>\n",
       "      <td>2017-02-13 14:40:00</td>\n",
       "      <td>23151</td>\n",
       "      <td>Shop 0</td>\n",
       "      <td>1</td>\n",
       "      <td>2017-02-13</td>\n",
       "      <td>7.01</td>\n",
       "      <td>0.00</td>\n",
       "    </tr>\n",
       "    <tr>\n",
       "      <th>5</th>\n",
       "      <td>538379</td>\n",
       "      <td>22965</td>\n",
       "      <td>0</td>\n",
       "      <td>2016-12-12 11:26:00</td>\n",
       "      <td>22805</td>\n",
       "      <td>Shop 0</td>\n",
       "      <td>1</td>\n",
       "      <td>2016-12-12</td>\n",
       "      <td>3.07</td>\n",
       "      <td>0.00</td>\n",
       "    </tr>\n",
       "  </tbody>\n",
       "</table>\n",
       "</div>"
      ],
      "text/plain": [
       "  purchase_id product_id  quantity       purchase_date  customer_id shop_id  \\\n",
       "1      538862      22195         0 2016-12-14 14:11:00        22389  Shop 0   \n",
       "2      538855      21239         7 2016-12-14 13:50:00        22182  Shop 0   \n",
       "3      543543      22271         0 2017-02-09 15:33:00        23522  Shop 0   \n",
       "4      543812      79321         0 2017-02-13 14:40:00        23151  Shop 0   \n",
       "5      538379      22965         0 2016-12-12 11:26:00        22805  Shop 0   \n",
       "\n",
       "   loyalty_program       date  mean_price  buy_sum  \n",
       "1                1 2016-12-14        2.77     0.00  \n",
       "2                1 2016-12-14        1.47    10.32  \n",
       "3                1 2017-02-09        4.30     0.00  \n",
       "4                1 2017-02-13        7.01     0.00  \n",
       "5                1 2016-12-12        3.07     0.00  "
      ]
     },
     "metadata": {},
     "output_type": "display_data"
    },
    {
     "name": "stdout",
     "output_type": "stream",
     "text": [
      "<class 'pandas.core.frame.DataFrame'>\n",
      "Int64Index: 23842 entries, 1 to 105332\n",
      "Data columns (total 10 columns):\n",
      " #   Column           Non-Null Count  Dtype         \n",
      "---  ------           --------------  -----         \n",
      " 0   purchase_id      23842 non-null  object        \n",
      " 1   product_id       23842 non-null  object        \n",
      " 2   quantity         23842 non-null  int64         \n",
      " 3   purchase_date    23842 non-null  datetime64[ns]\n",
      " 4   customer_id      23842 non-null  int64         \n",
      " 5   shop_id          23842 non-null  object        \n",
      " 6   loyalty_program  23842 non-null  int64         \n",
      " 7   date             23842 non-null  datetime64[ns]\n",
      " 8   mean_price       23842 non-null  float64       \n",
      " 9   buy_sum          23842 non-null  float64       \n",
      "dtypes: datetime64[ns](2), float64(2), int64(3), object(3)\n",
      "memory usage: 2.0+ MB\n"
     ]
    },
    {
     "data": {
      "text/plain": [
       "None"
      ]
     },
     "metadata": {},
     "output_type": "display_data"
    },
    {
     "data": {
      "text/html": [
       "<div>\n",
       "<style scoped>\n",
       "    .dataframe tbody tr th:only-of-type {\n",
       "        vertical-align: middle;\n",
       "    }\n",
       "\n",
       "    .dataframe tbody tr th {\n",
       "        vertical-align: top;\n",
       "    }\n",
       "\n",
       "    .dataframe thead th {\n",
       "        text-align: right;\n",
       "    }\n",
       "</style>\n",
       "<table border=\"1\" class=\"dataframe\">\n",
       "  <thead>\n",
       "    <tr style=\"text-align: right;\">\n",
       "      <th></th>\n",
       "      <th>purchase_id</th>\n",
       "      <th>product_id</th>\n",
       "      <th>quantity</th>\n",
       "      <th>purchase_date</th>\n",
       "      <th>customer_id</th>\n",
       "      <th>shop_id</th>\n",
       "      <th>loyalty_program</th>\n",
       "      <th>date</th>\n",
       "      <th>mean_price</th>\n",
       "      <th>buy_sum</th>\n",
       "    </tr>\n",
       "  </thead>\n",
       "  <tbody>\n",
       "    <tr>\n",
       "      <th>0</th>\n",
       "      <td>538280</td>\n",
       "      <td>21873</td>\n",
       "      <td>11</td>\n",
       "      <td>2016-12-10 12:50:00</td>\n",
       "      <td>18427</td>\n",
       "      <td>Shop 0</td>\n",
       "      <td>0</td>\n",
       "      <td>2016-12-10</td>\n",
       "      <td>1.81</td>\n",
       "      <td>19.91</td>\n",
       "    </tr>\n",
       "    <tr>\n",
       "      <th>6</th>\n",
       "      <td>540468</td>\n",
       "      <td>22189</td>\n",
       "      <td>0</td>\n",
       "      <td>2017-01-07 13:55:00</td>\n",
       "      <td>1</td>\n",
       "      <td>Shop 0</td>\n",
       "      <td>0</td>\n",
       "      <td>2017-01-07</td>\n",
       "      <td>5.28</td>\n",
       "      <td>0.00</td>\n",
       "    </tr>\n",
       "    <tr>\n",
       "      <th>7</th>\n",
       "      <td>541424</td>\n",
       "      <td>79321</td>\n",
       "      <td>1</td>\n",
       "      <td>2017-01-17 17:57:00</td>\n",
       "      <td>1</td>\n",
       "      <td>Shop 0</td>\n",
       "      <td>0</td>\n",
       "      <td>2017-01-17</td>\n",
       "      <td>7.01</td>\n",
       "      <td>7.01</td>\n",
       "    </tr>\n",
       "    <tr>\n",
       "      <th>8</th>\n",
       "      <td>538883</td>\n",
       "      <td>22891</td>\n",
       "      <td>0</td>\n",
       "      <td>2016-12-14 15:56:00</td>\n",
       "      <td>1</td>\n",
       "      <td>Shop 0</td>\n",
       "      <td>0</td>\n",
       "      <td>2016-12-14</td>\n",
       "      <td>6.19</td>\n",
       "      <td>0.00</td>\n",
       "    </tr>\n",
       "    <tr>\n",
       "      <th>11</th>\n",
       "      <td>541696</td>\n",
       "      <td>22197</td>\n",
       "      <td>4</td>\n",
       "      <td>2017-01-20 18:08:00</td>\n",
       "      <td>1</td>\n",
       "      <td>Shop 0</td>\n",
       "      <td>0</td>\n",
       "      <td>2017-01-20</td>\n",
       "      <td>1.21</td>\n",
       "      <td>4.86</td>\n",
       "    </tr>\n",
       "  </tbody>\n",
       "</table>\n",
       "</div>"
      ],
      "text/plain": [
       "   purchase_id product_id  quantity       purchase_date  customer_id shop_id  \\\n",
       "0       538280      21873        11 2016-12-10 12:50:00        18427  Shop 0   \n",
       "6       540468      22189         0 2017-01-07 13:55:00            1  Shop 0   \n",
       "7       541424      79321         1 2017-01-17 17:57:00            1  Shop 0   \n",
       "8       538883      22891         0 2016-12-14 15:56:00            1  Shop 0   \n",
       "11      541696      22197         4 2017-01-20 18:08:00            1  Shop 0   \n",
       "\n",
       "    loyalty_program       date  mean_price  buy_sum  \n",
       "0                 0 2016-12-10        1.81    19.91  \n",
       "6                 0 2017-01-07        5.28     0.00  \n",
       "7                 0 2017-01-17        7.01     7.01  \n",
       "8                 0 2016-12-14        6.19     0.00  \n",
       "11                0 2017-01-20        1.21     4.86  "
      ]
     },
     "metadata": {},
     "output_type": "display_data"
    },
    {
     "name": "stdout",
     "output_type": "stream",
     "text": [
      "<class 'pandas.core.frame.DataFrame'>\n",
      "Int64Index: 81493 entries, 0 to 105334\n",
      "Data columns (total 10 columns):\n",
      " #   Column           Non-Null Count  Dtype         \n",
      "---  ------           --------------  -----         \n",
      " 0   purchase_id      81493 non-null  object        \n",
      " 1   product_id       81493 non-null  object        \n",
      " 2   quantity         81493 non-null  int64         \n",
      " 3   purchase_date    81493 non-null  datetime64[ns]\n",
      " 4   customer_id      81493 non-null  int64         \n",
      " 5   shop_id          81493 non-null  object        \n",
      " 6   loyalty_program  81493 non-null  int64         \n",
      " 7   date             81493 non-null  datetime64[ns]\n",
      " 8   mean_price       81493 non-null  float64       \n",
      " 9   buy_sum          81493 non-null  float64       \n",
      "dtypes: datetime64[ns](2), float64(2), int64(3), object(3)\n",
      "memory usage: 6.8+ MB\n"
     ]
    },
    {
     "data": {
      "text/plain": [
       "None"
      ]
     },
     "metadata": {},
     "output_type": "display_data"
    },
    {
     "data": {
      "text/html": [
       "<div>\n",
       "<style scoped>\n",
       "    .dataframe tbody tr th:only-of-type {\n",
       "        vertical-align: middle;\n",
       "    }\n",
       "\n",
       "    .dataframe tbody tr th {\n",
       "        vertical-align: top;\n",
       "    }\n",
       "\n",
       "    .dataframe thead th {\n",
       "        text-align: right;\n",
       "    }\n",
       "</style>\n",
       "<table border=\"1\" class=\"dataframe\">\n",
       "  <thead>\n",
       "    <tr style=\"text-align: right;\">\n",
       "      <th></th>\n",
       "      <th>purchase_id</th>\n",
       "      <th>product_id</th>\n",
       "      <th>quantity</th>\n",
       "      <th>purchase_date</th>\n",
       "      <th>customer_id</th>\n",
       "      <th>shop_id</th>\n",
       "      <th>loyalty_program</th>\n",
       "      <th>date</th>\n",
       "      <th>mean_price</th>\n",
       "      <th>buy_sum</th>\n",
       "    </tr>\n",
       "  </thead>\n",
       "  <tbody>\n",
       "    <tr>\n",
       "      <th>1</th>\n",
       "      <td>538862</td>\n",
       "      <td>22195</td>\n",
       "      <td>0</td>\n",
       "      <td>2016-12-14 14:11:00</td>\n",
       "      <td>22389</td>\n",
       "      <td>Shop 0</td>\n",
       "      <td>1</td>\n",
       "      <td>2016-12-14</td>\n",
       "      <td>2.77</td>\n",
       "      <td>0.00</td>\n",
       "    </tr>\n",
       "    <tr>\n",
       "      <th>2</th>\n",
       "      <td>538855</td>\n",
       "      <td>21239</td>\n",
       "      <td>7</td>\n",
       "      <td>2016-12-14 13:50:00</td>\n",
       "      <td>22182</td>\n",
       "      <td>Shop 0</td>\n",
       "      <td>1</td>\n",
       "      <td>2016-12-14</td>\n",
       "      <td>1.47</td>\n",
       "      <td>10.32</td>\n",
       "    </tr>\n",
       "    <tr>\n",
       "      <th>3</th>\n",
       "      <td>543543</td>\n",
       "      <td>22271</td>\n",
       "      <td>0</td>\n",
       "      <td>2017-02-09 15:33:00</td>\n",
       "      <td>23522</td>\n",
       "      <td>Shop 0</td>\n",
       "      <td>1</td>\n",
       "      <td>2017-02-09</td>\n",
       "      <td>4.30</td>\n",
       "      <td>0.00</td>\n",
       "    </tr>\n",
       "    <tr>\n",
       "      <th>4</th>\n",
       "      <td>543812</td>\n",
       "      <td>79321</td>\n",
       "      <td>0</td>\n",
       "      <td>2017-02-13 14:40:00</td>\n",
       "      <td>23151</td>\n",
       "      <td>Shop 0</td>\n",
       "      <td>1</td>\n",
       "      <td>2017-02-13</td>\n",
       "      <td>7.01</td>\n",
       "      <td>0.00</td>\n",
       "    </tr>\n",
       "    <tr>\n",
       "      <th>5</th>\n",
       "      <td>538379</td>\n",
       "      <td>22965</td>\n",
       "      <td>0</td>\n",
       "      <td>2016-12-12 11:26:00</td>\n",
       "      <td>22805</td>\n",
       "      <td>Shop 0</td>\n",
       "      <td>1</td>\n",
       "      <td>2016-12-12</td>\n",
       "      <td>3.07</td>\n",
       "      <td>0.00</td>\n",
       "    </tr>\n",
       "  </tbody>\n",
       "</table>\n",
       "</div>"
      ],
      "text/plain": [
       "  purchase_id product_id  quantity       purchase_date  customer_id shop_id  \\\n",
       "1      538862      22195         0 2016-12-14 14:11:00        22389  Shop 0   \n",
       "2      538855      21239         7 2016-12-14 13:50:00        22182  Shop 0   \n",
       "3      543543      22271         0 2017-02-09 15:33:00        23522  Shop 0   \n",
       "4      543812      79321         0 2017-02-13 14:40:00        23151  Shop 0   \n",
       "5      538379      22965         0 2016-12-12 11:26:00        22805  Shop 0   \n",
       "\n",
       "   loyalty_program       date  mean_price  buy_sum  \n",
       "1                1 2016-12-14        2.77     0.00  \n",
       "2                1 2016-12-14        1.47    10.32  \n",
       "3                1 2017-02-09        4.30     0.00  \n",
       "4                1 2017-02-13        7.01     0.00  \n",
       "5                1 2016-12-12        3.07     0.00  "
      ]
     },
     "metadata": {},
     "output_type": "display_data"
    },
    {
     "name": "stdout",
     "output_type": "stream",
     "text": [
      "<class 'pandas.core.frame.DataFrame'>\n",
      "Int64Index: 22641 entries, 1 to 100427\n",
      "Data columns (total 10 columns):\n",
      " #   Column           Non-Null Count  Dtype         \n",
      "---  ------           --------------  -----         \n",
      " 0   purchase_id      22641 non-null  object        \n",
      " 1   product_id       22641 non-null  object        \n",
      " 2   quantity         22641 non-null  int64         \n",
      " 3   purchase_date    22641 non-null  datetime64[ns]\n",
      " 4   customer_id      22641 non-null  int64         \n",
      " 5   shop_id          22641 non-null  object        \n",
      " 6   loyalty_program  22641 non-null  int64         \n",
      " 7   date             22641 non-null  datetime64[ns]\n",
      " 8   mean_price       22641 non-null  float64       \n",
      " 9   buy_sum          22641 non-null  float64       \n",
      "dtypes: datetime64[ns](2), float64(2), int64(3), object(3)\n",
      "memory usage: 1.9+ MB\n"
     ]
    },
    {
     "data": {
      "text/plain": [
       "None"
      ]
     },
     "metadata": {},
     "output_type": "display_data"
    },
    {
     "data": {
      "text/html": [
       "<div>\n",
       "<style scoped>\n",
       "    .dataframe tbody tr th:only-of-type {\n",
       "        vertical-align: middle;\n",
       "    }\n",
       "\n",
       "    .dataframe tbody tr th {\n",
       "        vertical-align: top;\n",
       "    }\n",
       "\n",
       "    .dataframe thead th {\n",
       "        text-align: right;\n",
       "    }\n",
       "</style>\n",
       "<table border=\"1\" class=\"dataframe\">\n",
       "  <thead>\n",
       "    <tr style=\"text-align: right;\">\n",
       "      <th></th>\n",
       "      <th>purchase_id</th>\n",
       "      <th>product_id</th>\n",
       "      <th>quantity</th>\n",
       "      <th>purchase_date</th>\n",
       "      <th>customer_id</th>\n",
       "      <th>shop_id</th>\n",
       "      <th>loyalty_program</th>\n",
       "      <th>date</th>\n",
       "      <th>mean_price</th>\n",
       "      <th>buy_sum</th>\n",
       "    </tr>\n",
       "  </thead>\n",
       "  <tbody>\n",
       "    <tr>\n",
       "      <th>0</th>\n",
       "      <td>538280</td>\n",
       "      <td>21873</td>\n",
       "      <td>11</td>\n",
       "      <td>2016-12-10 12:50:00</td>\n",
       "      <td>18427</td>\n",
       "      <td>Shop 0</td>\n",
       "      <td>0</td>\n",
       "      <td>2016-12-10</td>\n",
       "      <td>1.81</td>\n",
       "      <td>19.91</td>\n",
       "    </tr>\n",
       "    <tr>\n",
       "      <th>6</th>\n",
       "      <td>540468</td>\n",
       "      <td>22189</td>\n",
       "      <td>0</td>\n",
       "      <td>2017-01-07 13:55:00</td>\n",
       "      <td>1</td>\n",
       "      <td>Shop 0</td>\n",
       "      <td>0</td>\n",
       "      <td>2017-01-07</td>\n",
       "      <td>5.28</td>\n",
       "      <td>0.00</td>\n",
       "    </tr>\n",
       "    <tr>\n",
       "      <th>7</th>\n",
       "      <td>541424</td>\n",
       "      <td>79321</td>\n",
       "      <td>1</td>\n",
       "      <td>2017-01-17 17:57:00</td>\n",
       "      <td>1</td>\n",
       "      <td>Shop 0</td>\n",
       "      <td>0</td>\n",
       "      <td>2017-01-17</td>\n",
       "      <td>7.01</td>\n",
       "      <td>7.01</td>\n",
       "    </tr>\n",
       "    <tr>\n",
       "      <th>8</th>\n",
       "      <td>538883</td>\n",
       "      <td>22891</td>\n",
       "      <td>0</td>\n",
       "      <td>2016-12-14 15:56:00</td>\n",
       "      <td>1</td>\n",
       "      <td>Shop 0</td>\n",
       "      <td>0</td>\n",
       "      <td>2016-12-14</td>\n",
       "      <td>6.19</td>\n",
       "      <td>0.00</td>\n",
       "    </tr>\n",
       "    <tr>\n",
       "      <th>11</th>\n",
       "      <td>541696</td>\n",
       "      <td>22197</td>\n",
       "      <td>4</td>\n",
       "      <td>2017-01-20 18:08:00</td>\n",
       "      <td>1</td>\n",
       "      <td>Shop 0</td>\n",
       "      <td>0</td>\n",
       "      <td>2017-01-20</td>\n",
       "      <td>1.21</td>\n",
       "      <td>4.86</td>\n",
       "    </tr>\n",
       "  </tbody>\n",
       "</table>\n",
       "</div>"
      ],
      "text/plain": [
       "   purchase_id product_id  quantity       purchase_date  customer_id shop_id  \\\n",
       "0       538280      21873        11 2016-12-10 12:50:00        18427  Shop 0   \n",
       "6       540468      22189         0 2017-01-07 13:55:00            1  Shop 0   \n",
       "7       541424      79321         1 2017-01-17 17:57:00            1  Shop 0   \n",
       "8       538883      22891         0 2016-12-14 15:56:00            1  Shop 0   \n",
       "11      541696      22197         4 2017-01-20 18:08:00            1  Shop 0   \n",
       "\n",
       "    loyalty_program       date  mean_price  buy_sum  \n",
       "0                 0 2016-12-10        1.81    19.91  \n",
       "6                 0 2017-01-07        5.28     0.00  \n",
       "7                 0 2017-01-17        7.01     7.01  \n",
       "8                 0 2016-12-14        6.19     0.00  \n",
       "11                0 2017-01-20        1.21     4.86  "
      ]
     },
     "metadata": {},
     "output_type": "display_data"
    },
    {
     "name": "stdout",
     "output_type": "stream",
     "text": [
      "<class 'pandas.core.frame.DataFrame'>\n",
      "Int64Index: 77789 entries, 0 to 100429\n",
      "Data columns (total 10 columns):\n",
      " #   Column           Non-Null Count  Dtype         \n",
      "---  ------           --------------  -----         \n",
      " 0   purchase_id      77789 non-null  object        \n",
      " 1   product_id       77789 non-null  object        \n",
      " 2   quantity         77789 non-null  int64         \n",
      " 3   purchase_date    77789 non-null  datetime64[ns]\n",
      " 4   customer_id      77789 non-null  int64         \n",
      " 5   shop_id          77789 non-null  object        \n",
      " 6   loyalty_program  77789 non-null  int64         \n",
      " 7   date             77789 non-null  datetime64[ns]\n",
      " 8   mean_price       77789 non-null  float64       \n",
      " 9   buy_sum          77789 non-null  float64       \n",
      "dtypes: datetime64[ns](2), float64(2), int64(3), object(3)\n",
      "memory usage: 6.5+ MB\n"
     ]
    },
    {
     "data": {
      "text/plain": [
       "None"
      ]
     },
     "metadata": {},
     "output_type": "display_data"
    }
   ],
   "source": [
    "for df in df_list:\n",
    "    display(df.head())\n",
    "    display(df.info())"
   ]
  },
  {
   "cell_type": "markdown",
   "metadata": {},
   "source": [
    "Видим, что строчек в датафреймах о покупках участников программ лояльности меньше в разы.Размеры выборок для тестов будут сильно отличаться, это не очень хорошо, но выбора нет"
   ]
  },
  {
   "cell_type": "code",
   "execution_count": 60,
   "metadata": {},
   "outputs": [],
   "source": [
    "def ttests(loyal, unloyal, filt_loyal, filt_unloyal, equal, equal_filt):\n",
    "    \n",
    "    alpha = .05  \n",
    "    results = st.ttest_ind(loyal, unloyal, equal_var = equal)\n",
    "    results_filt = st.ttest_ind(filt_loyal, filt_unloyal, equal_var = equal_filt)\n",
    "    print('p-значение: {:.3f}'.format(results.pvalue))\n",
    "    if (results.pvalue < alpha):\n",
    "        print('Средние значения выборок по участию в программе лояльности различаются,\\\n",
    " отвергаем нулевую гипотезу.')\n",
    "    else:\n",
    "        print('Средние значения выборок по участию в программе лояльности не различаются,\\\n",
    " не отвергаем нулевую гипотезу.')\n",
    "        \n",
    "    print('p-значение filtered: {:.3f}'.format(results_filt.pvalue))\n",
    "    if (results_filt.pvalue < alpha):\n",
    "        print('Средние значения выборок по участию в программе лояльности различаются,\\\n",
    " отвергаем нулевую гипотезу.')\n",
    "    else:\n",
    "        print('Средние значения выборок по участию в программе лояльности не различаются,\\\n",
    "  не отвергаем нулевую гипотезу.')"
   ]
  },
  {
   "cell_type": "markdown",
   "metadata": {},
   "source": [
    "### Гипотеза о равенстве средних чеков"
   ]
  },
  {
   "cell_type": "markdown",
   "metadata": {},
   "source": [
    "Считаем суммы среднего чека для каждого датафрейма"
   ]
  },
  {
   "cell_type": "code",
   "execution_count": 61,
   "metadata": {},
   "outputs": [],
   "source": [
    "loyal_bill = retail_loyal.groupby('purchase_id')['buy_sum'].sum()\n",
    "unloyal_bill = retail_unloyal.groupby('purchase_id')['buy_sum'].sum()\n",
    "loyal_filtered_bill = retail_filtered_loyal.groupby('purchase_id')['buy_sum'].sum()\n",
    "unloyal_filtered_bill = retail_filtered_unloyal.groupby('purchase_id')['buy_sum'].sum()"
   ]
  },
  {
   "cell_type": "code",
   "execution_count": 62,
   "metadata": {},
   "outputs": [
    {
     "data": {
      "text/plain": [
       "purchase_id\n",
       "536365   184.47\n",
       "536366    20.40\n",
       "536372    20.40\n",
       "536373   384.53\n",
       "536375   384.53\n",
       "Name: buy_sum, dtype: float64"
      ]
     },
     "execution_count": 62,
     "metadata": {},
     "output_type": "execute_result"
    }
   ],
   "source": [
    "loyal_bill.head()"
   ]
  },
  {
   "cell_type": "markdown",
   "metadata": {},
   "source": [
    "Формулируем гипотезы:"
   ]
  },
  {
   "cell_type": "markdown",
   "metadata": {},
   "source": [
    "*Н0: Средние чеки магазинов участвующих в программе лояльности, и не участвующих в ней, не различаются.\n",
    "\n",
    "*Н1: Средние чеки магазинов участвующих в программе лояльности, и не участвующих в ней, различны."
   ]
  },
  {
   "cell_type": "code",
   "execution_count": 63,
   "metadata": {},
   "outputs": [
    {
     "name": "stdout",
     "output_type": "stream",
     "text": [
      "p-значение: 0.211\n",
      "Средние значения выборок по участию в программе лояльности не различаются, не отвергаем нулевую гипотезу.\n",
      "p-значение filtered: 0.176\n",
      "Средние значения выборок по участию в программе лояльности не различаются,  не отвергаем нулевую гипотезу.\n"
     ]
    }
   ],
   "source": [
    "ttests(loyal_bill,unloyal_bill,loyal_filtered_bill ,unloyal_filtered_bill,False,False)"
   ]
  },
  {
   "cell_type": "markdown",
   "metadata": {},
   "source": [
    "По t-test видим, что средний чеки магазинов участвующих в программе лояльности, и не участвующих в ней, не различаются. Посчитаем средние значения"
   ]
  },
  {
   "cell_type": "code",
   "execution_count": 64,
   "metadata": {},
   "outputs": [
    {
     "data": {
      "text/html": [
       "<div>\n",
       "<style scoped>\n",
       "    .dataframe tbody tr th:only-of-type {\n",
       "        vertical-align: middle;\n",
       "    }\n",
       "\n",
       "    .dataframe tbody tr th {\n",
       "        vertical-align: top;\n",
       "    }\n",
       "\n",
       "    .dataframe thead th {\n",
       "        text-align: right;\n",
       "    }\n",
       "</style>\n",
       "<table border=\"1\" class=\"dataframe\">\n",
       "  <thead>\n",
       "    <tr style=\"text-align: right;\">\n",
       "      <th></th>\n",
       "      <th>loyalty_program</th>\n",
       "      <th>mean_bill</th>\n",
       "    </tr>\n",
       "  </thead>\n",
       "  <tbody>\n",
       "    <tr>\n",
       "      <th>0</th>\n",
       "      <td>0</td>\n",
       "      <td>388.82</td>\n",
       "    </tr>\n",
       "    <tr>\n",
       "      <th>1</th>\n",
       "      <td>1</td>\n",
       "      <td>463.05</td>\n",
       "    </tr>\n",
       "  </tbody>\n",
       "</table>\n",
       "</div>"
      ],
      "text/plain": [
       "   loyalty_program  mean_bill\n",
       "0                0     388.82\n",
       "1                1     463.05"
      ]
     },
     "execution_count": 64,
     "metadata": {},
     "output_type": "execute_result"
    }
   ],
   "source": [
    "mean_bill = (retail_df.groupby(['purchase_id', 'loyalty_program']).agg({'buy_sum': 'sum'}).reset_index())\\\n",
    "    .groupby('loyalty_program').agg(mean_bill = ('buy_sum', 'mean')).reset_index()\n",
    "mean_bill"
   ]
  },
  {
   "cell_type": "code",
   "execution_count": 65,
   "metadata": {},
   "outputs": [
    {
     "data": {
      "image/png": "[encoded data removed]",
      "text/plain": [
       "<Figure size 720x504 with 1 Axes>"
      ]
     },
     "metadata": {},
     "output_type": "display_data"
    }
   ],
   "source": [
    "ax = sns.barplot(x='loyalty_program',y='mean_bill',data=mean_bill)\n",
    "ax.set_title('Средний чек в зависимости от признака участия в программе лояльности(неочищенные данные)')\n",
    "plt.xlabel('Признак участия в программе лояльности')\n",
    "plt.ylabel('Средний чек')\n",
    "plt.show()"
   ]
  },
  {
   "cell_type": "code",
   "execution_count": 66,
   "metadata": {},
   "outputs": [
    {
     "data": {
      "text/html": [
       "<div>\n",
       "<style scoped>\n",
       "    .dataframe tbody tr th:only-of-type {\n",
       "        vertical-align: middle;\n",
       "    }\n",
       "\n",
       "    .dataframe tbody tr th {\n",
       "        vertical-align: top;\n",
       "    }\n",
       "\n",
       "    .dataframe thead th {\n",
       "        text-align: right;\n",
       "    }\n",
       "</style>\n",
       "<table border=\"1\" class=\"dataframe\">\n",
       "  <thead>\n",
       "    <tr style=\"text-align: right;\">\n",
       "      <th></th>\n",
       "      <th>loyalty_program</th>\n",
       "      <th>mean_bill</th>\n",
       "    </tr>\n",
       "  </thead>\n",
       "  <tbody>\n",
       "    <tr>\n",
       "      <th>0</th>\n",
       "      <td>0</td>\n",
       "      <td>229.10</td>\n",
       "    </tr>\n",
       "    <tr>\n",
       "      <th>1</th>\n",
       "      <td>1</td>\n",
       "      <td>260.61</td>\n",
       "    </tr>\n",
       "  </tbody>\n",
       "</table>\n",
       "</div>"
      ],
      "text/plain": [
       "   loyalty_program  mean_bill\n",
       "0                0     229.10\n",
       "1                1     260.61"
      ]
     },
     "execution_count": 66,
     "metadata": {},
     "output_type": "execute_result"
    }
   ],
   "source": [
    "mean_bill_fl = (retail_data_filtered.groupby(['purchase_id', 'loyalty_program']).agg({'buy_sum': 'sum'}).reset_index())\\\n",
    "    .groupby('loyalty_program').agg(mean_bill = ('buy_sum', 'mean')).reset_index()\n",
    "mean_bill_fl"
   ]
  },
  {
   "cell_type": "code",
   "execution_count": 67,
   "metadata": {},
   "outputs": [
    {
     "data": {
      "image/png": "[encoded data removed]",
      "text/plain": [
       "<Figure size 720x504 with 1 Axes>"
      ]
     },
     "metadata": {},
     "output_type": "display_data"
    }
   ],
   "source": [
    "ax = sns.barplot(x='loyalty_program',y='mean_bill',data=mean_bill_fl)\n",
    "ax.set_title('Средний чек в зависимости от признака участия в программе лояльности(очищенные данные)')\n",
    "plt.xlabel('Признак участия в программе лояльности')\n",
    "plt.ylabel('Средний чек')\n",
    "plt.show()"
   ]
  },
  {
   "cell_type": "markdown",
   "metadata": {},
   "source": [
    "Судя по полученным средним значениям, мы видим обратную картину, средний чек у участников программы лояльности выше, различия есть."
   ]
  },
  {
   "cell_type": "markdown",
   "metadata": {},
   "source": [
    "Возможно t-test показал некорректный результат из-за того, что выборки разные по размеру. Проведем тест методом Манна-Уитни, напишем функцию "
   ]
  },
  {
   "cell_type": "code",
   "execution_count": 68,
   "metadata": {},
   "outputs": [],
   "source": [
    "def mw(loyal, unloyal, filt_loyal, filt_unloyal):\n",
    "    alpha = .05    \n",
    "    results = st.mannwhitneyu(loyal, unloyal)\n",
    "    results_filt = st.mannwhitneyu(filt_loyal, filt_unloyal)\n",
    "    print('p-значение: {:.3f}'.format(results.pvalue))\n",
    "    if (results.pvalue < alpha):\n",
    "        print('Средние значения выборок по участию в программе лояльности различаются,\\\n",
    "отвергаем нулевую гипотезу.')\n",
    "    else:\n",
    "        print('Средние значения выборок по участию в программе лояльности не различаются,\\\n",
    "  не отвергаем нулевую гипотезу.')\n",
    "        \n",
    "    print('p-значение filtered: {:.3f}'.format(results_filt.pvalue))\n",
    "    if (results_filt.pvalue < alpha):\n",
    "        print('Средние значения выборок по участию в программе лояльности различаются,\\\n",
    " отвергаем нулевую гипотезу.')\n",
    "    else:\n",
    "        print('Средние значения выборок по участию в программе лояльности не различаются,\\\n",
    " не отвергаем нулевую гипотезу.')"
   ]
  },
  {
   "cell_type": "code",
   "execution_count": 69,
   "metadata": {},
   "outputs": [
    {
     "name": "stdout",
     "output_type": "stream",
     "text": [
      "p-значение: 0.000\n",
      "Средние значения выборок по участию в программе лояльности различаются,отвергаем нулевую гипотезу.\n",
      "p-значение filtered: 0.047\n",
      "Средние значения выборок по участию в программе лояльности различаются, отвергаем нулевую гипотезу.\n"
     ]
    }
   ],
   "source": [
    "mw(loyal_bill, unloyal_bill, loyal_filtered_bill, unloyal_filtered_bill)"
   ]
  },
  {
   "cell_type": "markdown",
   "metadata": {},
   "source": [
    "Тест методом Манна-Уитни показывает, что есть статистические различия между среднем чеком участника программы лояльности и не участника"
   ]
  },
  {
   "cell_type": "markdown",
   "metadata": {},
   "source": [
    "### Гипотеза о равенстве среднего количества позиций в чеке"
   ]
  },
  {
   "cell_type": "markdown",
   "metadata": {},
   "source": [
    "Проверим различие в среднем количестве позиции товаров в чеке"
   ]
  },
  {
   "cell_type": "code",
   "execution_count": 70,
   "metadata": {
    "scrolled": true
   },
   "outputs": [
    {
     "data": {
      "text/plain": [
       "purchase_id\n",
       "536365     7\n",
       "536366     2\n",
       "536372     2\n",
       "536373    16\n",
       "536375    16\n",
       "Name: product_id, dtype: int64"
      ]
     },
     "execution_count": 70,
     "metadata": {},
     "output_type": "execute_result"
    }
   ],
   "source": [
    "loyal_pr = retail_loyal.groupby('purchase_id')['product_id'].count()\n",
    "unloyal_pr = retail_unloyal.groupby('purchase_id')['product_id'].count()\n",
    "loyal_filtered_pr = retail_filtered_loyal.groupby('purchase_id')['product_id'].count()\n",
    "unloyal_filtered_pr = retail_filtered_unloyal.groupby('purchase_id')['product_id'].count()\n",
    "#проверим результат на одном из списков\n",
    "loyal_pr.head()"
   ]
  },
  {
   "cell_type": "markdown",
   "metadata": {},
   "source": [
    "Формулируем гипотезы"
   ]
  },
  {
   "cell_type": "markdown",
   "metadata": {},
   "source": [
    "*Н0: Средние количество позиций в чеках магазинов, участвующих в программе лояльности, и не участвующих в ней, не различаются\n",
    "\n",
    "*Н1: Средние количество позиций в чеках магазинов, участвующих в программе лояльности, и не участвующих в ней, различны."
   ]
  },
  {
   "cell_type": "code",
   "execution_count": 71,
   "metadata": {
    "scrolled": true
   },
   "outputs": [
    {
     "name": "stdout",
     "output_type": "stream",
     "text": [
      "p-значение: 0.000\n",
      "Средние значения выборок по участию в программе лояльности различаются, отвергаем нулевую гипотезу.\n",
      "p-значение filtered: 0.000\n",
      "Средние значения выборок по участию в программе лояльности различаются, отвергаем нулевую гипотезу.\n"
     ]
    }
   ],
   "source": [
    "ttests(loyal_pr ,unloyal_pr, loyal_filtered_pr,unloyal_filtered_pr, False, False)"
   ]
  },
  {
   "cell_type": "markdown",
   "metadata": {},
   "source": [
    "Средние количество позиций в чеках магазинов, участвующих в программе лояльности, и не участвующих в ней, различны по итогам теста. Посчитаем средние значения"
   ]
  },
  {
   "cell_type": "code",
   "execution_count": 72,
   "metadata": {},
   "outputs": [
    {
     "data": {
      "text/html": [
       "<div>\n",
       "<style scoped>\n",
       "    .dataframe tbody tr th:only-of-type {\n",
       "        vertical-align: middle;\n",
       "    }\n",
       "\n",
       "    .dataframe tbody tr th {\n",
       "        vertical-align: top;\n",
       "    }\n",
       "\n",
       "    .dataframe thead th {\n",
       "        text-align: right;\n",
       "    }\n",
       "</style>\n",
       "<table border=\"1\" class=\"dataframe\">\n",
       "  <thead>\n",
       "    <tr style=\"text-align: right;\">\n",
       "      <th></th>\n",
       "      <th>loyalty_program</th>\n",
       "      <th>pr_count</th>\n",
       "    </tr>\n",
       "  </thead>\n",
       "  <tbody>\n",
       "    <tr>\n",
       "      <th>0</th>\n",
       "      <td>0</td>\n",
       "      <td>22.96</td>\n",
       "    </tr>\n",
       "    <tr>\n",
       "      <th>1</th>\n",
       "      <td>1</td>\n",
       "      <td>17.74</td>\n",
       "    </tr>\n",
       "  </tbody>\n",
       "</table>\n",
       "</div>"
      ],
      "text/plain": [
       "   loyalty_program  pr_count\n",
       "0                0     22.96\n",
       "1                1     17.74"
      ]
     },
     "execution_count": 72,
     "metadata": {},
     "output_type": "execute_result"
    }
   ],
   "source": [
    "pr_count = (retail_df.groupby(['purchase_id', 'loyalty_program']).agg({'product_id': 'count'}).reset_index())\\\n",
    "    .groupby('loyalty_program').agg(pr_count = ('product_id', 'mean')).reset_index()\n",
    "pr_count"
   ]
  },
  {
   "cell_type": "code",
   "execution_count": 73,
   "metadata": {},
   "outputs": [
    {
     "data": {
      "image/png": "[encoded data removed]",
      "text/plain": [
       "<Figure size 720x504 with 1 Axes>"
      ]
     },
     "metadata": {},
     "output_type": "display_data"
    }
   ],
   "source": [
    "ax = sns.barplot(x='loyalty_program',y='pr_count',data=pr_count)\n",
    "ax.set_title('Средние количество позиций в чеках в зависимости от признака участия в программе лояльности(не очищенные данные)')\n",
    "plt.xlabel('Признак участия в программе лояльности')\n",
    "plt.ylabel('Кол-во позиций')\n",
    "plt.show()"
   ]
  },
  {
   "cell_type": "code",
   "execution_count": 74,
   "metadata": {
    "scrolled": false
   },
   "outputs": [
    {
     "data": {
      "text/html": [
       "<div>\n",
       "<style scoped>\n",
       "    .dataframe tbody tr th:only-of-type {\n",
       "        vertical-align: middle;\n",
       "    }\n",
       "\n",
       "    .dataframe tbody tr th {\n",
       "        vertical-align: top;\n",
       "    }\n",
       "\n",
       "    .dataframe thead th {\n",
       "        text-align: right;\n",
       "    }\n",
       "</style>\n",
       "<table border=\"1\" class=\"dataframe\">\n",
       "  <thead>\n",
       "    <tr style=\"text-align: right;\">\n",
       "      <th></th>\n",
       "      <th>loyalty_program</th>\n",
       "      <th>pr_count</th>\n",
       "    </tr>\n",
       "  </thead>\n",
       "  <tbody>\n",
       "    <tr>\n",
       "      <th>0</th>\n",
       "      <td>0</td>\n",
       "      <td>24.20</td>\n",
       "    </tr>\n",
       "    <tr>\n",
       "      <th>1</th>\n",
       "      <td>1</td>\n",
       "      <td>17.91</td>\n",
       "    </tr>\n",
       "  </tbody>\n",
       "</table>\n",
       "</div>"
      ],
      "text/plain": [
       "   loyalty_program  pr_count\n",
       "0                0     24.20\n",
       "1                1     17.91"
      ]
     },
     "execution_count": 74,
     "metadata": {},
     "output_type": "execute_result"
    }
   ],
   "source": [
    "pr_count_fl = retail_data_filtered.groupby(['purchase_id', 'loyalty_program']).agg({'product_id': 'count'}).reset_index()\\\n",
    "    .groupby('loyalty_program').agg(pr_count = ('product_id', 'mean')).reset_index()\n",
    "pr_count_fl"
   ]
  },
  {
   "cell_type": "code",
   "execution_count": 75,
   "metadata": {},
   "outputs": [
    {
     "data": {
      "image/png": "[encoded data removed]",
      "text/plain": [
       "<Figure size 720x504 with 1 Axes>"
      ]
     },
     "metadata": {},
     "output_type": "display_data"
    }
   ],
   "source": [
    "ax = sns.barplot(x='loyalty_program',y='pr_count',data=pr_count_fl)\n",
    "ax.set_title('Средние количество позиций в чеках в зависимости от признака участия в программе лояльности(очищенные данные)')\n",
    "plt.xlabel('Признак участия в программе лояльности')\n",
    "plt.ylabel('Кол-во позиций')\n",
    "plt.show()"
   ]
  },
  {
   "cell_type": "markdown",
   "metadata": {},
   "source": [
    "Действительно количество товаров в чеках достаточно сильно отличается. И меньше их для участников программы лояльности. По данному критерию программу лояльности можно считать неэффективной."
   ]
  },
  {
   "cell_type": "markdown",
   "metadata": {},
   "source": [
    "### Гипотеза о равенстве среднем количестве позиций в чеке"
   ]
  },
  {
   "cell_type": "markdown",
   "metadata": {},
   "source": [
    "Сгруппируем данные по среднему количетству покупок в чеке по магазинам, удалим пользователя с customer_id = 1:"
   ]
  },
  {
   "cell_type": "code",
   "execution_count": 76,
   "metadata": {
    "scrolled": true
   },
   "outputs": [
    {
     "data": {
      "text/plain": [
       "customer_id\n",
       "22005    2\n",
       "22006    2\n",
       "22011    1\n",
       "22012    3\n",
       "22018    1\n",
       "Name: purchase_id, dtype: int64"
      ]
     },
     "execution_count": 76,
     "metadata": {},
     "output_type": "execute_result"
    }
   ],
   "source": [
    "loyal_buys = retail_loyal.query('customer_id != 1').groupby('customer_id')['purchase_id'].nunique()\n",
    "unloyal_buys = retail_unloyal.query('customer_id != 1').groupby('customer_id')['purchase_id'].nunique()\n",
    "loyal_filtered_buys = retail_filtered_loyal.query('customer_id != 1').groupby('customer_id')['purchase_id'].nunique()\n",
    "unloyal_filtered_buys = retail_filtered_unloyal.query('customer_id != 1').groupby('customer_id')['purchase_id'].nunique()\n",
    "#проверис результат на одном из списков\n",
    "loyal_buys.head()"
   ]
  },
  {
   "cell_type": "markdown",
   "metadata": {},
   "source": [
    "Формулируем гипотезы:"
   ]
  },
  {
   "cell_type": "markdown",
   "metadata": {},
   "source": [
    "*Н0 Среднее количество покупок на одного покупателя в магазинах, участвующих в программе лояльности, и не участвующих в ней, не различаются.\n",
    "\n",
    "*Н1  Среднее количество покупок на одного покупателя в магазинах, участвующих в программе лояльности, и не участвующих в ней, различны."
   ]
  },
  {
   "cell_type": "code",
   "execution_count": 77,
   "metadata": {},
   "outputs": [
    {
     "name": "stdout",
     "output_type": "stream",
     "text": [
      "p-значение: 0.384\n",
      "Средние значения выборок по участию в программе лояльности не различаются, не отвергаем нулевую гипотезу.\n",
      "p-значение filtered: 0.373\n",
      "Средние значения выборок по участию в программе лояльности не различаются,  не отвергаем нулевую гипотезу.\n"
     ]
    }
   ],
   "source": [
    "ttests(loyal_buys, unloyal_buys, loyal_filtered_buys, unloyal_filtered_buys, False, False)"
   ]
  },
  {
   "cell_type": "markdown",
   "metadata": {},
   "source": [
    "Тест показывает, что различий ме;ду средним количеством покупок на одного покупателя нет. Посчитаем среднее"
   ]
  },
  {
   "cell_type": "code",
   "execution_count": 78,
   "metadata": {},
   "outputs": [
    {
     "data": {
      "text/html": [
       "<div>\n",
       "<style scoped>\n",
       "    .dataframe tbody tr th:only-of-type {\n",
       "        vertical-align: middle;\n",
       "    }\n",
       "\n",
       "    .dataframe tbody tr th {\n",
       "        vertical-align: top;\n",
       "    }\n",
       "\n",
       "    .dataframe thead th {\n",
       "        text-align: right;\n",
       "    }\n",
       "</style>\n",
       "<table border=\"1\" class=\"dataframe\">\n",
       "  <thead>\n",
       "    <tr style=\"text-align: right;\">\n",
       "      <th></th>\n",
       "      <th>loyalty_program</th>\n",
       "      <th>mean_buys</th>\n",
       "    </tr>\n",
       "  </thead>\n",
       "  <tbody>\n",
       "    <tr>\n",
       "      <th>0</th>\n",
       "      <td>0</td>\n",
       "      <td>2.41</td>\n",
       "    </tr>\n",
       "    <tr>\n",
       "      <th>1</th>\n",
       "      <td>1</td>\n",
       "      <td>2.29</td>\n",
       "    </tr>\n",
       "  </tbody>\n",
       "</table>\n",
       "</div>"
      ],
      "text/plain": [
       "   loyalty_program  mean_buys\n",
       "0                0       2.41\n",
       "1                1       2.29"
      ]
     },
     "execution_count": 78,
     "metadata": {},
     "output_type": "execute_result"
    }
   ],
   "source": [
    "buy = (retail_df.query('customer_id != 1').groupby(['customer_id', 'loyalty_program']).agg({'purchase_id': 'nunique'})\\\n",
    " .reset_index()).groupby('loyalty_program').agg(mean_buys = ('purchase_id', 'mean')).reset_index()\n",
    "buy"
   ]
  },
  {
   "cell_type": "code",
   "execution_count": 79,
   "metadata": {},
   "outputs": [
    {
     "data": {
      "image/png": "[encoded data removed]",
      "text/plain": [
       "<Figure size 720x504 with 1 Axes>"
      ]
     },
     "metadata": {},
     "output_type": "display_data"
    }
   ],
   "source": [
    "ax = sns.barplot(x='loyalty_program',y='mean_buys',data=buy)\n",
    "ax.set_title('Средние количество покупок на покупателя в зависимости от признака участия в программе лояльности(не очищенные данные)')\n",
    "plt.xlabel('Признак участия в программе лояльности')\n",
    "plt.ylabel('Кол-во покупок')\n",
    "plt.show()"
   ]
  },
  {
   "cell_type": "code",
   "execution_count": 80,
   "metadata": {
    "scrolled": true
   },
   "outputs": [
    {
     "data": {
      "text/html": [
       "<div>\n",
       "<style scoped>\n",
       "    .dataframe tbody tr th:only-of-type {\n",
       "        vertical-align: middle;\n",
       "    }\n",
       "\n",
       "    .dataframe tbody tr th {\n",
       "        vertical-align: top;\n",
       "    }\n",
       "\n",
       "    .dataframe thead th {\n",
       "        text-align: right;\n",
       "    }\n",
       "</style>\n",
       "<table border=\"1\" class=\"dataframe\">\n",
       "  <thead>\n",
       "    <tr style=\"text-align: right;\">\n",
       "      <th></th>\n",
       "      <th>loyalty_program</th>\n",
       "      <th>mean_buys</th>\n",
       "    </tr>\n",
       "  </thead>\n",
       "  <tbody>\n",
       "    <tr>\n",
       "      <th>0</th>\n",
       "      <td>0</td>\n",
       "      <td>2.34</td>\n",
       "    </tr>\n",
       "    <tr>\n",
       "      <th>1</th>\n",
       "      <td>1</td>\n",
       "      <td>2.22</td>\n",
       "    </tr>\n",
       "  </tbody>\n",
       "</table>\n",
       "</div>"
      ],
      "text/plain": [
       "   loyalty_program  mean_buys\n",
       "0                0       2.34\n",
       "1                1       2.22"
      ]
     },
     "execution_count": 80,
     "metadata": {},
     "output_type": "execute_result"
    }
   ],
   "source": [
    "buy_fl = (retail_data_filtered.query('customer_id != 1').groupby(['customer_id', 'loyalty_program']).agg({'purchase_id': 'nunique'})\\\n",
    " .reset_index()).groupby('loyalty_program').agg(mean_buys = ('purchase_id', 'mean')).reset_index()\n",
    "buy_fl"
   ]
  },
  {
   "cell_type": "code",
   "execution_count": 81,
   "metadata": {},
   "outputs": [
    {
     "data": {
      "image/png": "[encoded data removed]",
      "text/plain": [
       "<Figure size 720x504 with 1 Axes>"
      ]
     },
     "metadata": {},
     "output_type": "display_data"
    }
   ],
   "source": [
    "ax = sns.barplot(x='loyalty_program',y='mean_buys',data=buy_fl)\n",
    "ax.set_title('Средние количество покупок на покупателя в зависимости от признака участия в программе лояльности(очищенные данные)')\n",
    "plt.xlabel('Признак участия в программе лояльности')\n",
    "plt.ylabel('Кол-во покупок')\n",
    "plt.show()"
   ]
  },
  {
   "cell_type": "markdown",
   "metadata": {},
   "source": [
    "Среднее количество позиций в чеке не зависит от участия в программе лояльности."
   ]
  },
  {
   "cell_type": "markdown",
   "metadata": {},
   "source": [
    "### Вывод"
   ]
  },
  {
   "cell_type": "markdown",
   "metadata": {},
   "source": [
    "Тесты показали, что у нас есть различия в среднем чеке и в среднем количестве позиций в чеке участника программы лояльности и не участника. При этом количество позиций участника программы ниже, а среднее количество покупок одинаково с не участником программы."
   ]
  },
  {
   "cell_type": "markdown",
   "metadata": {},
   "source": [
    "## Выводы и рекомендации"
   ]
  },
  {
   "cell_type": "markdown",
   "metadata": {},
   "source": [
    "В ходе исследования была проведена работа с исходными данными, удалены выбросы и усреднены цены на товар."
   ]
  },
  {
   "cell_type": "markdown",
   "metadata": {},
   "source": [
    "В ходе анализа данных выявлены лучшие магазины: Shop 0 и Shop 3. Shop 0 - магазин с самой большой выручкой и самым большим количеством покупок по программе лояльности.Shop 3 - лидер по показателям среднего чека, количества позиций в чеке и низким процентом возврата. Следует обратить внимание на этот магазин для дальнейшего развития. Также в сети большой процент возврата, стоит обратить внимание на это, задуматься о качестве товара, о предотвращении покупок не правильных товаров, лучше консультировать покупателя."
   ]
  },
  {
   "cell_type": "markdown",
   "metadata": {},
   "source": [
    "Самый главный показатель эффективности - средний чек, а также количество позиций в чеке. Были проведены статистические тесты, которые показали, что есть статистические различия среднего чека участника программы лояльности от не участника. У участника он выше, что и показал абсолютный показатель.  А вот количество позиций в чеке для участников программы лояльности заметно ниже, чем для обычных покупателей. А среднее количество покупок для обеих групп практически равно."
   ]
  },
  {
   "cell_type": "markdown",
   "metadata": {},
   "source": [
    "Таким образом, считаю, что программа лояльности в магазине малоэффективна. Её стоит доработать, изменить условия, предлагать бонусы для стимулирования покупателей покупать больше товаров и чаще."
   ]
  },
  {
   "cell_type": "markdown",
   "metadata": {},
   "source": [
    "## Дополнительные работы "
   ]
  },
  {
   "cell_type": "code",
   "execution_count": 83,
   "metadata": {
    "scrolled": true
   },
   "outputs": [
    {
     "name": "stdout",
     "output_type": "stream",
     "text": [
      "<class 'pandas.core.frame.DataFrame'>\n",
      "Int64Index: 100430 entries, 0 to 100429\n",
      "Data columns (total 10 columns):\n",
      " #   Column           Non-Null Count   Dtype         \n",
      "---  ------           --------------   -----         \n",
      " 0   purchase_id      100430 non-null  object        \n",
      " 1   product_id       100430 non-null  object        \n",
      " 2   quantity         100430 non-null  int64         \n",
      " 3   purchase_date    100430 non-null  datetime64[ns]\n",
      " 4   customer_id      100430 non-null  int64         \n",
      " 5   shop_id          100430 non-null  object        \n",
      " 6   loyalty_program  100430 non-null  int64         \n",
      " 7   date             100430 non-null  datetime64[ns]\n",
      " 8   mean_price       100430 non-null  float64       \n",
      " 9   buy_sum          100430 non-null  float64       \n",
      "dtypes: datetime64[ns](2), float64(2), int64(3), object(3)\n",
      "memory usage: 8.4+ MB\n"
     ]
    }
   ],
   "source": [
    "retail_data_filtered.info()"
   ]
  },
  {
   "cell_type": "code",
   "execution_count": 92,
   "metadata": {},
   "outputs": [
    {
     "data": {
      "text/html": [
       "<div>\n",
       "<style scoped>\n",
       "    .dataframe tbody tr th:only-of-type {\n",
       "        vertical-align: middle;\n",
       "    }\n",
       "\n",
       "    .dataframe tbody tr th {\n",
       "        vertical-align: top;\n",
       "    }\n",
       "\n",
       "    .dataframe thead th {\n",
       "        text-align: right;\n",
       "    }\n",
       "</style>\n",
       "<table border=\"1\" class=\"dataframe\">\n",
       "  <thead>\n",
       "    <tr style=\"text-align: right;\">\n",
       "      <th></th>\n",
       "      <th>purchase_id</th>\n",
       "      <th>product_id</th>\n",
       "      <th>quantity</th>\n",
       "      <th>purchase_date</th>\n",
       "      <th>customer_id</th>\n",
       "      <th>shop_id</th>\n",
       "      <th>loyalty_program</th>\n",
       "      <th>date</th>\n",
       "      <th>mean_price</th>\n",
       "      <th>buy_sum</th>\n",
       "    </tr>\n",
       "  </thead>\n",
       "  <tbody>\n",
       "    <tr>\n",
       "      <th>62</th>\n",
       "      <td>C539944</td>\n",
       "      <td>22776</td>\n",
       "      <td>-2</td>\n",
       "      <td>2016-12-23 11:38:00</td>\n",
       "      <td>20239</td>\n",
       "      <td>Shop 0</td>\n",
       "      <td>0</td>\n",
       "      <td>2016-12-23</td>\n",
       "      <td>14.70</td>\n",
       "      <td>-29.39</td>\n",
       "    </tr>\n",
       "    <tr>\n",
       "      <th>104</th>\n",
       "      <td>C542910</td>\n",
       "      <td>20726</td>\n",
       "      <td>-2</td>\n",
       "      <td>2017-02-01 15:38:00</td>\n",
       "      <td>23190</td>\n",
       "      <td>Shop 0</td>\n",
       "      <td>1</td>\n",
       "      <td>2017-02-01</td>\n",
       "      <td>3.07</td>\n",
       "      <td>-6.13</td>\n",
       "    </tr>\n",
       "    <tr>\n",
       "      <th>107</th>\n",
       "      <td>C542426</td>\n",
       "      <td>22418</td>\n",
       "      <td>-25</td>\n",
       "      <td>2017-01-28 09:32:00</td>\n",
       "      <td>19825</td>\n",
       "      <td>Shop 0</td>\n",
       "      <td>0</td>\n",
       "      <td>2017-01-28</td>\n",
       "      <td>1.66</td>\n",
       "      <td>-41.56</td>\n",
       "    </tr>\n",
       "    <tr>\n",
       "      <th>243</th>\n",
       "      <td>C539726</td>\n",
       "      <td>22791</td>\n",
       "      <td>-11</td>\n",
       "      <td>2016-12-21 14:24:00</td>\n",
       "      <td>22686</td>\n",
       "      <td>Shop 0</td>\n",
       "      <td>1</td>\n",
       "      <td>2016-12-21</td>\n",
       "      <td>1.82</td>\n",
       "      <td>-20.02</td>\n",
       "    </tr>\n",
       "    <tr>\n",
       "      <th>330</th>\n",
       "      <td>C544034</td>\n",
       "      <td>21878</td>\n",
       "      <td>-2</td>\n",
       "      <td>2017-02-15 11:28:00</td>\n",
       "      <td>20380</td>\n",
       "      <td>Shop 0</td>\n",
       "      <td>0</td>\n",
       "      <td>2017-02-15</td>\n",
       "      <td>1.21</td>\n",
       "      <td>-2.43</td>\n",
       "    </tr>\n",
       "    <tr>\n",
       "      <th>...</th>\n",
       "      <td>...</td>\n",
       "      <td>...</td>\n",
       "      <td>...</td>\n",
       "      <td>...</td>\n",
       "      <td>...</td>\n",
       "      <td>...</td>\n",
       "      <td>...</td>\n",
       "      <td>...</td>\n",
       "      <td>...</td>\n",
       "      <td>...</td>\n",
       "    </tr>\n",
       "    <tr>\n",
       "      <th>100262</th>\n",
       "      <td>C541650</td>\n",
       "      <td>M</td>\n",
       "      <td>-2</td>\n",
       "      <td>2017-01-20 11:44:00</td>\n",
       "      <td>1</td>\n",
       "      <td>Shop 0</td>\n",
       "      <td>0</td>\n",
       "      <td>2017-01-20</td>\n",
       "      <td>253.77</td>\n",
       "      <td>-507.53</td>\n",
       "    </tr>\n",
       "    <tr>\n",
       "      <th>100273</th>\n",
       "      <td>C540246</td>\n",
       "      <td>79320</td>\n",
       "      <td>-2</td>\n",
       "      <td>2017-01-05 15:43:00</td>\n",
       "      <td>18760</td>\n",
       "      <td>Shop 0</td>\n",
       "      <td>0</td>\n",
       "      <td>2017-01-05</td>\n",
       "      <td>4.95</td>\n",
       "      <td>-9.90</td>\n",
       "    </tr>\n",
       "    <tr>\n",
       "      <th>100309</th>\n",
       "      <td>C539467</td>\n",
       "      <td>22801</td>\n",
       "      <td>-2</td>\n",
       "      <td>2016-12-19 12:46:00</td>\n",
       "      <td>20723</td>\n",
       "      <td>Shop 0</td>\n",
       "      <td>0</td>\n",
       "      <td>2016-12-19</td>\n",
       "      <td>5.56</td>\n",
       "      <td>-11.11</td>\n",
       "    </tr>\n",
       "    <tr>\n",
       "      <th>100347</th>\n",
       "      <td>C540847</td>\n",
       "      <td>22197</td>\n",
       "      <td>-3</td>\n",
       "      <td>2017-01-11 17:35:00</td>\n",
       "      <td>19137</td>\n",
       "      <td>Shop 0</td>\n",
       "      <td>0</td>\n",
       "      <td>2017-01-11</td>\n",
       "      <td>1.21</td>\n",
       "      <td>-3.64</td>\n",
       "    </tr>\n",
       "    <tr>\n",
       "      <th>100396</th>\n",
       "      <td>C540164</td>\n",
       "      <td>21144</td>\n",
       "      <td>-13</td>\n",
       "      <td>2017-01-05 12:02:00</td>\n",
       "      <td>20590</td>\n",
       "      <td>Shop 6</td>\n",
       "      <td>0</td>\n",
       "      <td>2017-01-05</td>\n",
       "      <td>1.87</td>\n",
       "      <td>-24.31</td>\n",
       "    </tr>\n",
       "  </tbody>\n",
       "</table>\n",
       "<p>1799 rows × 10 columns</p>\n",
       "</div>"
      ],
      "text/plain": [
       "       purchase_id product_id  quantity       purchase_date  customer_id  \\\n",
       "62         C539944      22776        -2 2016-12-23 11:38:00        20239   \n",
       "104        C542910      20726        -2 2017-02-01 15:38:00        23190   \n",
       "107        C542426      22418       -25 2017-01-28 09:32:00        19825   \n",
       "243        C539726      22791       -11 2016-12-21 14:24:00        22686   \n",
       "330        C544034      21878        -2 2017-02-15 11:28:00        20380   \n",
       "...            ...        ...       ...                 ...          ...   \n",
       "100262     C541650          M        -2 2017-01-20 11:44:00            1   \n",
       "100273     C540246      79320        -2 2017-01-05 15:43:00        18760   \n",
       "100309     C539467      22801        -2 2016-12-19 12:46:00        20723   \n",
       "100347     C540847      22197        -3 2017-01-11 17:35:00        19137   \n",
       "100396     C540164      21144       -13 2017-01-05 12:02:00        20590   \n",
       "\n",
       "       shop_id  loyalty_program       date  mean_price  buy_sum  \n",
       "62      Shop 0                0 2016-12-23       14.70   -29.39  \n",
       "104     Shop 0                1 2017-02-01        3.07    -6.13  \n",
       "107     Shop 0                0 2017-01-28        1.66   -41.56  \n",
       "243     Shop 0                1 2016-12-21        1.82   -20.02  \n",
       "330     Shop 0                0 2017-02-15        1.21    -2.43  \n",
       "...        ...              ...        ...         ...      ...  \n",
       "100262  Shop 0                0 2017-01-20      253.77  -507.53  \n",
       "100273  Shop 0                0 2017-01-05        4.95    -9.90  \n",
       "100309  Shop 0                0 2016-12-19        5.56   -11.11  \n",
       "100347  Shop 0                0 2017-01-11        1.21    -3.64  \n",
       "100396  Shop 6                0 2017-01-05        1.87   -24.31  \n",
       "\n",
       "[1799 rows x 10 columns]"
      ]
     },
     "execution_count": 92,
     "metadata": {},
     "output_type": "execute_result"
    }
   ],
   "source": [
    "retail_data = retail_data_filtered.loc[retail_data_filtered['purchase_id'].str.contains('[A-Z]+'), :]\n",
    "retail_data"
   ]
  },
  {
   "cell_type": "code",
   "execution_count": 97,
   "metadata": {
    "scrolled": true
   },
   "outputs": [
    {
     "data": {
      "text/html": [
       "<div>\n",
       "<style scoped>\n",
       "    .dataframe tbody tr th:only-of-type {\n",
       "        vertical-align: middle;\n",
       "    }\n",
       "\n",
       "    .dataframe tbody tr th {\n",
       "        vertical-align: top;\n",
       "    }\n",
       "\n",
       "    .dataframe thead th {\n",
       "        text-align: right;\n",
       "    }\n",
       "</style>\n",
       "<table border=\"1\" class=\"dataframe\">\n",
       "  <thead>\n",
       "    <tr style=\"text-align: right;\">\n",
       "      <th></th>\n",
       "      <th>purchase_id</th>\n",
       "      <th>product_id</th>\n",
       "      <th>quantity</th>\n",
       "      <th>purchase_date</th>\n",
       "      <th>customer_id</th>\n",
       "      <th>shop_id</th>\n",
       "      <th>loyalty_program</th>\n",
       "      <th>date</th>\n",
       "      <th>mean_price</th>\n",
       "      <th>buy_sum</th>\n",
       "    </tr>\n",
       "  </thead>\n",
       "  <tbody>\n",
       "    <tr>\n",
       "      <th>62</th>\n",
       "      <td>C539944</td>\n",
       "      <td>22776</td>\n",
       "      <td>-2</td>\n",
       "      <td>2016-12-23 11:38:00</td>\n",
       "      <td>20239</td>\n",
       "      <td>Shop 0</td>\n",
       "      <td>0</td>\n",
       "      <td>2016-12-23</td>\n",
       "      <td>14.70</td>\n",
       "      <td>-29.39</td>\n",
       "    </tr>\n",
       "    <tr>\n",
       "      <th>104</th>\n",
       "      <td>C542910</td>\n",
       "      <td>20726</td>\n",
       "      <td>-2</td>\n",
       "      <td>2017-02-01 15:38:00</td>\n",
       "      <td>23190</td>\n",
       "      <td>Shop 0</td>\n",
       "      <td>1</td>\n",
       "      <td>2017-02-01</td>\n",
       "      <td>3.07</td>\n",
       "      <td>-6.13</td>\n",
       "    </tr>\n",
       "    <tr>\n",
       "      <th>107</th>\n",
       "      <td>C542426</td>\n",
       "      <td>22418</td>\n",
       "      <td>-25</td>\n",
       "      <td>2017-01-28 09:32:00</td>\n",
       "      <td>19825</td>\n",
       "      <td>Shop 0</td>\n",
       "      <td>0</td>\n",
       "      <td>2017-01-28</td>\n",
       "      <td>1.66</td>\n",
       "      <td>-41.56</td>\n",
       "    </tr>\n",
       "    <tr>\n",
       "      <th>243</th>\n",
       "      <td>C539726</td>\n",
       "      <td>22791</td>\n",
       "      <td>-11</td>\n",
       "      <td>2016-12-21 14:24:00</td>\n",
       "      <td>22686</td>\n",
       "      <td>Shop 0</td>\n",
       "      <td>1</td>\n",
       "      <td>2016-12-21</td>\n",
       "      <td>1.82</td>\n",
       "      <td>-20.02</td>\n",
       "    </tr>\n",
       "    <tr>\n",
       "      <th>330</th>\n",
       "      <td>C544034</td>\n",
       "      <td>21878</td>\n",
       "      <td>-2</td>\n",
       "      <td>2017-02-15 11:28:00</td>\n",
       "      <td>20380</td>\n",
       "      <td>Shop 0</td>\n",
       "      <td>0</td>\n",
       "      <td>2017-02-15</td>\n",
       "      <td>1.21</td>\n",
       "      <td>-2.43</td>\n",
       "    </tr>\n",
       "    <tr>\n",
       "      <th>...</th>\n",
       "      <td>...</td>\n",
       "      <td>...</td>\n",
       "      <td>...</td>\n",
       "      <td>...</td>\n",
       "      <td>...</td>\n",
       "      <td>...</td>\n",
       "      <td>...</td>\n",
       "      <td>...</td>\n",
       "      <td>...</td>\n",
       "      <td>...</td>\n",
       "    </tr>\n",
       "    <tr>\n",
       "      <th>100262</th>\n",
       "      <td>C541650</td>\n",
       "      <td>M</td>\n",
       "      <td>-2</td>\n",
       "      <td>2017-01-20 11:44:00</td>\n",
       "      <td>1</td>\n",
       "      <td>Shop 0</td>\n",
       "      <td>0</td>\n",
       "      <td>2017-01-20</td>\n",
       "      <td>253.77</td>\n",
       "      <td>-507.53</td>\n",
       "    </tr>\n",
       "    <tr>\n",
       "      <th>100273</th>\n",
       "      <td>C540246</td>\n",
       "      <td>79320</td>\n",
       "      <td>-2</td>\n",
       "      <td>2017-01-05 15:43:00</td>\n",
       "      <td>18760</td>\n",
       "      <td>Shop 0</td>\n",
       "      <td>0</td>\n",
       "      <td>2017-01-05</td>\n",
       "      <td>4.95</td>\n",
       "      <td>-9.90</td>\n",
       "    </tr>\n",
       "    <tr>\n",
       "      <th>100309</th>\n",
       "      <td>C539467</td>\n",
       "      <td>22801</td>\n",
       "      <td>-2</td>\n",
       "      <td>2016-12-19 12:46:00</td>\n",
       "      <td>20723</td>\n",
       "      <td>Shop 0</td>\n",
       "      <td>0</td>\n",
       "      <td>2016-12-19</td>\n",
       "      <td>5.56</td>\n",
       "      <td>-11.11</td>\n",
       "    </tr>\n",
       "    <tr>\n",
       "      <th>100347</th>\n",
       "      <td>C540847</td>\n",
       "      <td>22197</td>\n",
       "      <td>-3</td>\n",
       "      <td>2017-01-11 17:35:00</td>\n",
       "      <td>19137</td>\n",
       "      <td>Shop 0</td>\n",
       "      <td>0</td>\n",
       "      <td>2017-01-11</td>\n",
       "      <td>1.21</td>\n",
       "      <td>-3.64</td>\n",
       "    </tr>\n",
       "    <tr>\n",
       "      <th>100396</th>\n",
       "      <td>C540164</td>\n",
       "      <td>21144</td>\n",
       "      <td>-13</td>\n",
       "      <td>2017-01-05 12:02:00</td>\n",
       "      <td>20590</td>\n",
       "      <td>Shop 6</td>\n",
       "      <td>0</td>\n",
       "      <td>2017-01-05</td>\n",
       "      <td>1.87</td>\n",
       "      <td>-24.31</td>\n",
       "    </tr>\n",
       "  </tbody>\n",
       "</table>\n",
       "<p>1799 rows × 10 columns</p>\n",
       "</div>"
      ],
      "text/plain": [
       "       purchase_id product_id  quantity       purchase_date  customer_id  \\\n",
       "62         C539944      22776        -2 2016-12-23 11:38:00        20239   \n",
       "104        C542910      20726        -2 2017-02-01 15:38:00        23190   \n",
       "107        C542426      22418       -25 2017-01-28 09:32:00        19825   \n",
       "243        C539726      22791       -11 2016-12-21 14:24:00        22686   \n",
       "330        C544034      21878        -2 2017-02-15 11:28:00        20380   \n",
       "...            ...        ...       ...                 ...          ...   \n",
       "100262     C541650          M        -2 2017-01-20 11:44:00            1   \n",
       "100273     C540246      79320        -2 2017-01-05 15:43:00        18760   \n",
       "100309     C539467      22801        -2 2016-12-19 12:46:00        20723   \n",
       "100347     C540847      22197        -3 2017-01-11 17:35:00        19137   \n",
       "100396     C540164      21144       -13 2017-01-05 12:02:00        20590   \n",
       "\n",
       "       shop_id  loyalty_program       date  mean_price  buy_sum  \n",
       "62      Shop 0                0 2016-12-23       14.70   -29.39  \n",
       "104     Shop 0                1 2017-02-01        3.07    -6.13  \n",
       "107     Shop 0                0 2017-01-28        1.66   -41.56  \n",
       "243     Shop 0                1 2016-12-21        1.82   -20.02  \n",
       "330     Shop 0                0 2017-02-15        1.21    -2.43  \n",
       "...        ...              ...        ...         ...      ...  \n",
       "100262  Shop 0                0 2017-01-20      253.77  -507.53  \n",
       "100273  Shop 0                0 2017-01-05        4.95    -9.90  \n",
       "100309  Shop 0                0 2016-12-19        5.56   -11.11  \n",
       "100347  Shop 0                0 2017-01-11        1.21    -3.64  \n",
       "100396  Shop 6                0 2017-01-05        1.87   -24.31  \n",
       "\n",
       "[1799 rows x 10 columns]"
      ]
     },
     "execution_count": 97,
     "metadata": {},
     "output_type": "execute_result"
    }
   ],
   "source": [
    "retail_last = retail_data_filtered.loc[retail_data_filtered['purchase_id'].str.startswith(\"C\")]\n",
    "retail_last"
   ]
  },
  {
   "cell_type": "code",
   "execution_count": 102,
   "metadata": {
    "scrolled": false
   },
   "outputs": [
    {
     "data": {
      "text/html": [
       "<div>\n",
       "<style scoped>\n",
       "    .dataframe tbody tr th:only-of-type {\n",
       "        vertical-align: middle;\n",
       "    }\n",
       "\n",
       "    .dataframe tbody tr th {\n",
       "        vertical-align: top;\n",
       "    }\n",
       "\n",
       "    .dataframe thead th {\n",
       "        text-align: right;\n",
       "    }\n",
       "</style>\n",
       "<table border=\"1\" class=\"dataframe\">\n",
       "  <thead>\n",
       "    <tr style=\"text-align: right;\">\n",
       "      <th></th>\n",
       "      <th>purchase_id</th>\n",
       "      <th>product_id</th>\n",
       "      <th>quantity</th>\n",
       "      <th>purchase_date</th>\n",
       "      <th>customer_id</th>\n",
       "      <th>shop_id</th>\n",
       "      <th>loyalty_program</th>\n",
       "      <th>date</th>\n",
       "      <th>mean_price</th>\n",
       "      <th>buy_sum</th>\n",
       "    </tr>\n",
       "  </thead>\n",
       "  <tbody>\n",
       "    <tr>\n",
       "      <th>0</th>\n",
       "      <td>538280</td>\n",
       "      <td>21873</td>\n",
       "      <td>11</td>\n",
       "      <td>2016-12-10 12:50:00</td>\n",
       "      <td>18427</td>\n",
       "      <td>Shop 0</td>\n",
       "      <td>0</td>\n",
       "      <td>2016-12-10</td>\n",
       "      <td>1.81</td>\n",
       "      <td>19.91</td>\n",
       "    </tr>\n",
       "    <tr>\n",
       "      <th>1</th>\n",
       "      <td>538862</td>\n",
       "      <td>22195</td>\n",
       "      <td>0</td>\n",
       "      <td>2016-12-14 14:11:00</td>\n",
       "      <td>22389</td>\n",
       "      <td>Shop 0</td>\n",
       "      <td>1</td>\n",
       "      <td>2016-12-14</td>\n",
       "      <td>2.77</td>\n",
       "      <td>0.00</td>\n",
       "    </tr>\n",
       "    <tr>\n",
       "      <th>2</th>\n",
       "      <td>538855</td>\n",
       "      <td>21239</td>\n",
       "      <td>7</td>\n",
       "      <td>2016-12-14 13:50:00</td>\n",
       "      <td>22182</td>\n",
       "      <td>Shop 0</td>\n",
       "      <td>1</td>\n",
       "      <td>2016-12-14</td>\n",
       "      <td>1.47</td>\n",
       "      <td>10.32</td>\n",
       "    </tr>\n",
       "    <tr>\n",
       "      <th>3</th>\n",
       "      <td>543543</td>\n",
       "      <td>22271</td>\n",
       "      <td>0</td>\n",
       "      <td>2017-02-09 15:33:00</td>\n",
       "      <td>23522</td>\n",
       "      <td>Shop 0</td>\n",
       "      <td>1</td>\n",
       "      <td>2017-02-09</td>\n",
       "      <td>4.30</td>\n",
       "      <td>0.00</td>\n",
       "    </tr>\n",
       "    <tr>\n",
       "      <th>4</th>\n",
       "      <td>543812</td>\n",
       "      <td>79321</td>\n",
       "      <td>0</td>\n",
       "      <td>2017-02-13 14:40:00</td>\n",
       "      <td>23151</td>\n",
       "      <td>Shop 0</td>\n",
       "      <td>1</td>\n",
       "      <td>2017-02-13</td>\n",
       "      <td>7.01</td>\n",
       "      <td>0.00</td>\n",
       "    </tr>\n",
       "    <tr>\n",
       "      <th>...</th>\n",
       "      <td>...</td>\n",
       "      <td>...</td>\n",
       "      <td>...</td>\n",
       "      <td>...</td>\n",
       "      <td>...</td>\n",
       "      <td>...</td>\n",
       "      <td>...</td>\n",
       "      <td>...</td>\n",
       "      <td>...</td>\n",
       "      <td>...</td>\n",
       "    </tr>\n",
       "    <tr>\n",
       "      <th>100425</th>\n",
       "      <td>538566</td>\n",
       "      <td>21826</td>\n",
       "      <td>1</td>\n",
       "      <td>2016-12-13 11:21:00</td>\n",
       "      <td>1</td>\n",
       "      <td>Shop 0</td>\n",
       "      <td>0</td>\n",
       "      <td>2016-12-13</td>\n",
       "      <td>2.07</td>\n",
       "      <td>2.07</td>\n",
       "    </tr>\n",
       "    <tr>\n",
       "      <th>100426</th>\n",
       "      <td>540247</td>\n",
       "      <td>21742</td>\n",
       "      <td>0</td>\n",
       "      <td>2017-01-05 15:56:00</td>\n",
       "      <td>21143</td>\n",
       "      <td>Shop 0</td>\n",
       "      <td>0</td>\n",
       "      <td>2017-01-05</td>\n",
       "      <td>9.34</td>\n",
       "      <td>0.00</td>\n",
       "    </tr>\n",
       "    <tr>\n",
       "      <th>100427</th>\n",
       "      <td>538068</td>\n",
       "      <td>85048</td>\n",
       "      <td>1</td>\n",
       "      <td>2016-12-09 14:05:00</td>\n",
       "      <td>23657</td>\n",
       "      <td>Shop 0</td>\n",
       "      <td>1</td>\n",
       "      <td>2016-12-09</td>\n",
       "      <td>11.37</td>\n",
       "      <td>11.37</td>\n",
       "    </tr>\n",
       "    <tr>\n",
       "      <th>100428</th>\n",
       "      <td>538207</td>\n",
       "      <td>22818</td>\n",
       "      <td>11</td>\n",
       "      <td>2016-12-10 11:33:00</td>\n",
       "      <td>18427</td>\n",
       "      <td>Shop 0</td>\n",
       "      <td>0</td>\n",
       "      <td>2016-12-10</td>\n",
       "      <td>0.70</td>\n",
       "      <td>7.70</td>\n",
       "    </tr>\n",
       "    <tr>\n",
       "      <th>100429</th>\n",
       "      <td>543977</td>\n",
       "      <td>22384</td>\n",
       "      <td>9</td>\n",
       "      <td>2017-02-14 15:35:00</td>\n",
       "      <td>21294</td>\n",
       "      <td>Shop 0</td>\n",
       "      <td>0</td>\n",
       "      <td>2017-02-14</td>\n",
       "      <td>3.42</td>\n",
       "      <td>30.75</td>\n",
       "    </tr>\n",
       "  </tbody>\n",
       "</table>\n",
       "<p>98631 rows × 10 columns</p>\n",
       "</div>"
      ],
      "text/plain": [
       "       purchase_id product_id  quantity       purchase_date  customer_id  \\\n",
       "0           538280      21873        11 2016-12-10 12:50:00        18427   \n",
       "1           538862      22195         0 2016-12-14 14:11:00        22389   \n",
       "2           538855      21239         7 2016-12-14 13:50:00        22182   \n",
       "3           543543      22271         0 2017-02-09 15:33:00        23522   \n",
       "4           543812      79321         0 2017-02-13 14:40:00        23151   \n",
       "...            ...        ...       ...                 ...          ...   \n",
       "100425      538566      21826         1 2016-12-13 11:21:00            1   \n",
       "100426      540247      21742         0 2017-01-05 15:56:00        21143   \n",
       "100427      538068      85048         1 2016-12-09 14:05:00        23657   \n",
       "100428      538207      22818        11 2016-12-10 11:33:00        18427   \n",
       "100429      543977      22384         9 2017-02-14 15:35:00        21294   \n",
       "\n",
       "       shop_id  loyalty_program       date  mean_price  buy_sum  \n",
       "0       Shop 0                0 2016-12-10        1.81    19.91  \n",
       "1       Shop 0                1 2016-12-14        2.77     0.00  \n",
       "2       Shop 0                1 2016-12-14        1.47    10.32  \n",
       "3       Shop 0                1 2017-02-09        4.30     0.00  \n",
       "4       Shop 0                1 2017-02-13        7.01     0.00  \n",
       "...        ...              ...        ...         ...      ...  \n",
       "100425  Shop 0                0 2016-12-13        2.07     2.07  \n",
       "100426  Shop 0                0 2017-01-05        9.34     0.00  \n",
       "100427  Shop 0                1 2016-12-09       11.37    11.37  \n",
       "100428  Shop 0                0 2016-12-10        0.70     7.70  \n",
       "100429  Shop 0                0 2017-02-14        3.42    30.75  \n",
       "\n",
       "[98631 rows x 10 columns]"
      ]
     },
     "execution_count": 102,
     "metadata": {},
     "output_type": "execute_result"
    }
   ],
   "source": [
    "retail_last = retail_data_filtered[~retail_data_filtered['purchase_id'].str.startswith(\"C\")]\n",
    "retail_last"
   ]
  },
  {
   "cell_type": "code",
   "execution_count": null,
   "metadata": {},
   "outputs": [],
   "source": [
    "(retail_last.query('customer_id != 1').groupby(['customer_id', 'purchase_id']).agg({'purchase_id': 'nunique'})\\\n",
    " .reset_index())"
   ]
  },
  {
   "cell_type": "code",
   "execution_count": 105,
   "metadata": {},
   "outputs": [],
   "source": [
    "retail_last.to_csv('retail_last.csv', index=False)"
   ]
  },
  {
   "cell_type": "code",
   "execution_count": null,
   "metadata": {},
   "outputs": [],
   "source": []
  }
 ],
 "metadata": {
  "ExecuteTimeLog": [
   {
    "duration": 81,
    "start_time": "2022-05-18T09:49:08.214Z"
   },
   {
    "duration": 579,
    "start_time": "2022-05-18T09:49:13.904Z"
   },
   {
    "duration": 38,
    "start_time": "2022-05-18T09:49:15.476Z"
   },
   {
    "duration": 493,
    "start_time": "2022-05-18T09:50:43.421Z"
   },
   {
    "duration": 24,
    "start_time": "2022-05-18T09:51:00.250Z"
   },
   {
    "duration": 122,
    "start_time": "2022-05-18T09:52:00.021Z"
   },
   {
    "duration": 11,
    "start_time": "2022-05-18T09:52:10.085Z"
   },
   {
    "duration": 14,
    "start_time": "2022-05-18T12:54:57.727Z"
   },
   {
    "duration": 17,
    "start_time": "2022-05-18T12:55:24.411Z"
   },
   {
    "duration": 144,
    "start_time": "2022-05-18T12:56:30.901Z"
   },
   {
    "duration": 4,
    "start_time": "2022-05-18T12:56:42.797Z"
   },
   {
    "duration": 501,
    "start_time": "2022-05-18T12:59:11.890Z"
   },
   {
    "duration": 174,
    "start_time": "2022-05-18T12:59:19.801Z"
   },
   {
    "duration": 31,
    "start_time": "2022-05-18T13:02:38.321Z"
   },
   {
    "duration": 446,
    "start_time": "2022-05-18T13:02:47.465Z"
   },
   {
    "duration": 593,
    "start_time": "2022-05-18T13:02:47.913Z"
   },
   {
    "duration": 56,
    "start_time": "2022-05-18T13:02:48.508Z"
   },
   {
    "duration": 108,
    "start_time": "2022-05-18T13:02:48.567Z"
   },
   {
    "duration": 12,
    "start_time": "2022-05-18T13:02:48.677Z"
   },
   {
    "duration": 9,
    "start_time": "2022-05-18T13:02:48.691Z"
   },
   {
    "duration": 59,
    "start_time": "2022-05-18T13:02:48.702Z"
   },
   {
    "duration": 74,
    "start_time": "2022-05-18T13:05:17.589Z"
   },
   {
    "duration": 55,
    "start_time": "2022-05-18T13:05:41.414Z"
   },
   {
    "duration": 9,
    "start_time": "2022-05-18T13:06:02.329Z"
   },
   {
    "duration": 14,
    "start_time": "2022-05-18T13:08:47.284Z"
   },
   {
    "duration": 36,
    "start_time": "2022-05-18T13:08:54.143Z"
   },
   {
    "duration": 492,
    "start_time": "2022-05-18T13:13:39.303Z"
   },
   {
    "duration": 176,
    "start_time": "2022-05-18T13:13:39.798Z"
   },
   {
    "duration": 32,
    "start_time": "2022-05-18T13:13:39.976Z"
   },
   {
    "duration": 46,
    "start_time": "2022-05-18T13:13:40.011Z"
   },
   {
    "duration": 14,
    "start_time": "2022-05-18T13:13:40.059Z"
   },
   {
    "duration": 23,
    "start_time": "2022-05-18T13:13:40.075Z"
   },
   {
    "duration": 46,
    "start_time": "2022-05-18T13:13:40.100Z"
   },
   {
    "duration": 66,
    "start_time": "2022-05-18T13:13:40.149Z"
   },
   {
    "duration": 67,
    "start_time": "2022-05-18T13:13:40.217Z"
   },
   {
    "duration": 8,
    "start_time": "2022-05-18T13:13:40.287Z"
   },
   {
    "duration": 4,
    "start_time": "2022-05-18T13:25:12.638Z"
   },
   {
    "duration": 29,
    "start_time": "2022-05-18T13:29:12.627Z"
   },
   {
    "duration": 78,
    "start_time": "2022-05-18T13:29:32.886Z"
   },
   {
    "duration": 19,
    "start_time": "2022-05-18T13:29:39.781Z"
   },
   {
    "duration": 4,
    "start_time": "2022-05-18T13:29:56.126Z"
   },
   {
    "duration": 11,
    "start_time": "2022-05-18T13:31:05.504Z"
   },
   {
    "duration": 24,
    "start_time": "2022-05-18T13:31:25.420Z"
   },
   {
    "duration": 420,
    "start_time": "2022-05-18T13:41:07.570Z"
   },
   {
    "duration": 400,
    "start_time": "2022-05-18T13:41:07.993Z"
   },
   {
    "duration": 28,
    "start_time": "2022-05-18T13:41:08.394Z"
   },
   {
    "duration": 22,
    "start_time": "2022-05-18T13:41:08.424Z"
   },
   {
    "duration": 11,
    "start_time": "2022-05-18T13:41:08.448Z"
   },
   {
    "duration": 6,
    "start_time": "2022-05-18T13:41:08.461Z"
   },
   {
    "duration": 26,
    "start_time": "2022-05-18T13:41:08.469Z"
   },
   {
    "duration": 11,
    "start_time": "2022-05-18T13:41:08.496Z"
   },
   {
    "duration": 37,
    "start_time": "2022-05-18T13:41:08.508Z"
   },
   {
    "duration": 28,
    "start_time": "2022-05-18T13:41:08.548Z"
   },
   {
    "duration": 50,
    "start_time": "2022-05-18T13:41:08.578Z"
   },
   {
    "duration": 43,
    "start_time": "2022-05-18T13:41:08.630Z"
   },
   {
    "duration": 8,
    "start_time": "2022-05-18T13:41:08.674Z"
   },
   {
    "duration": 68,
    "start_time": "2022-05-18T15:34:41.805Z"
   },
   {
    "duration": 260,
    "start_time": "2022-05-18T15:34:51.706Z"
   },
   {
    "duration": 30,
    "start_time": "2022-05-18T15:35:03.260Z"
   },
   {
    "duration": 10,
    "start_time": "2022-05-18T15:35:10.372Z"
   },
   {
    "duration": 34,
    "start_time": "2022-05-18T15:39:20.837Z"
   },
   {
    "duration": 27,
    "start_time": "2022-05-18T15:39:24.870Z"
   },
   {
    "duration": 438,
    "start_time": "2022-05-18T15:39:47.664Z"
   },
   {
    "duration": 134,
    "start_time": "2022-05-18T15:39:48.104Z"
   },
   {
    "duration": 26,
    "start_time": "2022-05-18T15:39:48.239Z"
   },
   {
    "duration": 22,
    "start_time": "2022-05-18T15:39:48.267Z"
   },
   {
    "duration": 11,
    "start_time": "2022-05-18T15:39:48.291Z"
   },
   {
    "duration": 6,
    "start_time": "2022-05-18T15:39:48.303Z"
   },
   {
    "duration": 35,
    "start_time": "2022-05-18T15:39:48.310Z"
   },
   {
    "duration": 10,
    "start_time": "2022-05-18T15:39:48.347Z"
   },
   {
    "duration": 22,
    "start_time": "2022-05-18T15:39:48.358Z"
   },
   {
    "duration": 48,
    "start_time": "2022-05-18T15:39:48.382Z"
   },
   {
    "duration": 32,
    "start_time": "2022-05-18T15:39:48.432Z"
   },
   {
    "duration": 103,
    "start_time": "2022-05-18T15:39:48.466Z"
   },
   {
    "duration": 0,
    "start_time": "2022-05-18T15:39:48.570Z"
   },
   {
    "duration": 0,
    "start_time": "2022-05-18T15:39:48.572Z"
   },
   {
    "duration": 30,
    "start_time": "2022-05-18T15:40:02.101Z"
   },
   {
    "duration": 11,
    "start_time": "2022-05-18T15:40:52.387Z"
   },
   {
    "duration": 425,
    "start_time": "2022-05-18T15:41:05.656Z"
   },
   {
    "duration": 132,
    "start_time": "2022-05-18T15:41:06.083Z"
   },
   {
    "duration": 31,
    "start_time": "2022-05-18T15:41:06.217Z"
   },
   {
    "duration": 23,
    "start_time": "2022-05-18T15:41:06.250Z"
   },
   {
    "duration": 12,
    "start_time": "2022-05-18T15:41:06.275Z"
   },
   {
    "duration": 5,
    "start_time": "2022-05-18T15:41:06.289Z"
   },
   {
    "duration": 32,
    "start_time": "2022-05-18T15:41:06.295Z"
   },
   {
    "duration": 5,
    "start_time": "2022-05-18T15:41:06.329Z"
   },
   {
    "duration": 146,
    "start_time": "2022-05-18T15:41:06.336Z"
   },
   {
    "duration": 0,
    "start_time": "2022-05-18T15:41:06.484Z"
   },
   {
    "duration": 0,
    "start_time": "2022-05-18T15:41:06.485Z"
   },
   {
    "duration": 0,
    "start_time": "2022-05-18T15:41:06.486Z"
   },
   {
    "duration": 0,
    "start_time": "2022-05-18T15:41:06.487Z"
   },
   {
    "duration": 0,
    "start_time": "2022-05-18T15:41:06.488Z"
   },
   {
    "duration": 24,
    "start_time": "2022-05-18T15:41:25.312Z"
   },
   {
    "duration": 504,
    "start_time": "2022-05-18T15:41:31.622Z"
   },
   {
    "duration": 131,
    "start_time": "2022-05-18T15:41:32.128Z"
   },
   {
    "duration": 28,
    "start_time": "2022-05-18T15:41:32.261Z"
   },
   {
    "duration": 35,
    "start_time": "2022-05-18T15:41:32.291Z"
   },
   {
    "duration": 11,
    "start_time": "2022-05-18T15:41:32.328Z"
   },
   {
    "duration": 6,
    "start_time": "2022-05-18T15:41:32.341Z"
   },
   {
    "duration": 14,
    "start_time": "2022-05-18T15:41:32.349Z"
   },
   {
    "duration": 5,
    "start_time": "2022-05-18T15:41:32.364Z"
   },
   {
    "duration": 23,
    "start_time": "2022-05-18T15:41:32.371Z"
   },
   {
    "duration": 45,
    "start_time": "2022-05-18T15:41:32.397Z"
   },
   {
    "duration": 34,
    "start_time": "2022-05-18T15:41:32.444Z"
   },
   {
    "duration": 113,
    "start_time": "2022-05-18T15:41:32.480Z"
   },
   {
    "duration": 0,
    "start_time": "2022-05-18T15:41:32.595Z"
   },
   {
    "duration": 0,
    "start_time": "2022-05-18T15:41:32.597Z"
   },
   {
    "duration": 16,
    "start_time": "2022-05-18T15:41:45.674Z"
   },
   {
    "duration": 28,
    "start_time": "2022-05-18T15:42:05.327Z"
   },
   {
    "duration": 16,
    "start_time": "2022-05-18T15:42:42.381Z"
   },
   {
    "duration": 14,
    "start_time": "2022-05-18T15:48:01.601Z"
   },
   {
    "duration": 11,
    "start_time": "2022-05-18T15:48:07.241Z"
   },
   {
    "duration": 17,
    "start_time": "2022-05-18T15:48:10.450Z"
   },
   {
    "duration": 442,
    "start_time": "2022-05-18T15:48:23.526Z"
   },
   {
    "duration": 130,
    "start_time": "2022-05-18T15:48:23.970Z"
   },
   {
    "duration": 33,
    "start_time": "2022-05-18T15:48:24.101Z"
   },
   {
    "duration": 23,
    "start_time": "2022-05-18T15:48:24.136Z"
   },
   {
    "duration": 10,
    "start_time": "2022-05-18T15:48:24.160Z"
   },
   {
    "duration": 8,
    "start_time": "2022-05-18T15:48:24.171Z"
   },
   {
    "duration": 13,
    "start_time": "2022-05-18T15:48:24.181Z"
   },
   {
    "duration": 4,
    "start_time": "2022-05-18T15:48:24.195Z"
   },
   {
    "duration": 36,
    "start_time": "2022-05-18T15:48:24.200Z"
   },
   {
    "duration": 22,
    "start_time": "2022-05-18T15:48:24.238Z"
   },
   {
    "duration": 32,
    "start_time": "2022-05-18T15:48:24.262Z"
   },
   {
    "duration": 31,
    "start_time": "2022-05-18T15:48:24.296Z"
   },
   {
    "duration": 79,
    "start_time": "2022-05-18T15:48:24.329Z"
   },
   {
    "duration": 0,
    "start_time": "2022-05-18T15:48:24.410Z"
   },
   {
    "duration": 0,
    "start_time": "2022-05-18T15:48:24.411Z"
   },
   {
    "duration": 22,
    "start_time": "2022-05-18T15:49:24.575Z"
   },
   {
    "duration": 28,
    "start_time": "2022-05-18T15:49:34.017Z"
   },
   {
    "duration": 13,
    "start_time": "2022-05-18T15:49:41.167Z"
   },
   {
    "duration": 28,
    "start_time": "2022-05-18T15:50:06.701Z"
   },
   {
    "duration": 50,
    "start_time": "2022-05-18T15:50:24.070Z"
   },
   {
    "duration": 6,
    "start_time": "2022-05-18T15:50:26.524Z"
   },
   {
    "duration": 75,
    "start_time": "2022-05-18T16:03:42.311Z"
   },
   {
    "duration": 11,
    "start_time": "2022-05-18T16:08:39.769Z"
   },
   {
    "duration": 54,
    "start_time": "2022-05-19T11:34:36.119Z"
   },
   {
    "duration": 442,
    "start_time": "2022-05-19T11:34:44.596Z"
   },
   {
    "duration": 422,
    "start_time": "2022-05-19T11:34:45.041Z"
   },
   {
    "duration": 29,
    "start_time": "2022-05-19T11:34:45.465Z"
   },
   {
    "duration": 67,
    "start_time": "2022-05-19T11:34:45.496Z"
   },
   {
    "duration": 10,
    "start_time": "2022-05-19T11:34:45.565Z"
   },
   {
    "duration": 28,
    "start_time": "2022-05-19T11:34:45.577Z"
   },
   {
    "duration": 14,
    "start_time": "2022-05-19T11:34:45.607Z"
   },
   {
    "duration": 4,
    "start_time": "2022-05-19T11:34:45.622Z"
   },
   {
    "duration": 39,
    "start_time": "2022-05-19T11:34:45.628Z"
   },
   {
    "duration": 23,
    "start_time": "2022-05-19T11:34:45.668Z"
   },
   {
    "duration": 39,
    "start_time": "2022-05-19T11:34:45.693Z"
   },
   {
    "duration": 123,
    "start_time": "2022-05-19T11:34:45.735Z"
   },
   {
    "duration": 12,
    "start_time": "2022-05-19T11:34:45.860Z"
   },
   {
    "duration": 38,
    "start_time": "2022-05-19T11:34:45.875Z"
   },
   {
    "duration": 37,
    "start_time": "2022-05-19T11:34:45.914Z"
   },
   {
    "duration": 6,
    "start_time": "2022-05-19T11:34:45.953Z"
   },
   {
    "duration": 8,
    "start_time": "2022-05-19T11:35:37.776Z"
   },
   {
    "duration": 4,
    "start_time": "2022-05-19T11:38:03.256Z"
   },
   {
    "duration": 5,
    "start_time": "2022-05-19T11:38:30.494Z"
   },
   {
    "duration": 399,
    "start_time": "2022-05-19T11:38:35.153Z"
   },
   {
    "duration": 128,
    "start_time": "2022-05-19T11:38:35.554Z"
   },
   {
    "duration": 33,
    "start_time": "2022-05-19T11:38:35.683Z"
   },
   {
    "duration": 41,
    "start_time": "2022-05-19T11:38:35.718Z"
   },
   {
    "duration": 14,
    "start_time": "2022-05-19T11:38:35.760Z"
   },
   {
    "duration": 9,
    "start_time": "2022-05-19T11:38:35.776Z"
   },
   {
    "duration": 21,
    "start_time": "2022-05-19T11:38:35.788Z"
   },
   {
    "duration": 21,
    "start_time": "2022-05-19T11:38:35.811Z"
   },
   {
    "duration": 16,
    "start_time": "2022-05-19T11:38:35.834Z"
   },
   {
    "duration": 34,
    "start_time": "2022-05-19T11:38:35.852Z"
   },
   {
    "duration": 53,
    "start_time": "2022-05-19T11:38:35.888Z"
   },
   {
    "duration": 38,
    "start_time": "2022-05-19T11:38:35.943Z"
   },
   {
    "duration": 93,
    "start_time": "2022-05-19T11:38:35.983Z"
   },
   {
    "duration": 29,
    "start_time": "2022-05-19T11:38:36.078Z"
   },
   {
    "duration": 38,
    "start_time": "2022-05-19T11:38:36.108Z"
   },
   {
    "duration": 51,
    "start_time": "2022-05-19T11:38:36.148Z"
   },
   {
    "duration": 15,
    "start_time": "2022-05-19T11:38:36.201Z"
   },
   {
    "duration": 556,
    "start_time": "2022-05-19T11:42:29.384Z"
   },
   {
    "duration": 10,
    "start_time": "2022-05-19T11:43:04.273Z"
   },
   {
    "duration": 1196,
    "start_time": "2022-05-19T11:43:38.056Z"
   },
   {
    "duration": 114,
    "start_time": "2022-05-19T11:43:39.254Z"
   },
   {
    "duration": 24,
    "start_time": "2022-05-19T11:43:39.370Z"
   },
   {
    "duration": 21,
    "start_time": "2022-05-19T11:43:39.396Z"
   },
   {
    "duration": 11,
    "start_time": "2022-05-19T11:43:39.418Z"
   },
   {
    "duration": 12,
    "start_time": "2022-05-19T11:43:39.431Z"
   },
   {
    "duration": 18,
    "start_time": "2022-05-19T11:43:39.445Z"
   },
   {
    "duration": 10,
    "start_time": "2022-05-19T11:43:39.465Z"
   },
   {
    "duration": 21,
    "start_time": "2022-05-19T11:43:39.477Z"
   },
   {
    "duration": 114,
    "start_time": "2022-05-19T11:43:39.501Z"
   },
   {
    "duration": 0,
    "start_time": "2022-05-19T11:43:39.616Z"
   },
   {
    "duration": 0,
    "start_time": "2022-05-19T11:43:39.617Z"
   },
   {
    "duration": 0,
    "start_time": "2022-05-19T11:43:39.619Z"
   },
   {
    "duration": 0,
    "start_time": "2022-05-19T11:43:39.620Z"
   },
   {
    "duration": 0,
    "start_time": "2022-05-19T11:43:39.621Z"
   },
   {
    "duration": 0,
    "start_time": "2022-05-19T11:43:39.622Z"
   },
   {
    "duration": 0,
    "start_time": "2022-05-19T11:43:39.624Z"
   },
   {
    "duration": 4,
    "start_time": "2022-05-19T11:44:15.490Z"
   },
   {
    "duration": 4,
    "start_time": "2022-05-19T11:44:19.919Z"
   },
   {
    "duration": 5,
    "start_time": "2022-05-19T11:45:03.306Z"
   },
   {
    "duration": 8,
    "start_time": "2022-05-19T11:45:31.245Z"
   },
   {
    "duration": 35,
    "start_time": "2022-05-19T11:45:39.511Z"
   },
   {
    "duration": 8,
    "start_time": "2022-05-19T11:45:48.743Z"
   },
   {
    "duration": 18,
    "start_time": "2022-05-19T11:46:43.892Z"
   },
   {
    "duration": 19,
    "start_time": "2022-05-19T11:51:01.127Z"
   },
   {
    "duration": 27,
    "start_time": "2022-05-19T11:51:08.323Z"
   },
   {
    "duration": 22,
    "start_time": "2022-05-19T11:51:13.926Z"
   },
   {
    "duration": 9,
    "start_time": "2022-05-19T13:04:00.077Z"
   },
   {
    "duration": 8,
    "start_time": "2022-05-19T13:04:27.539Z"
   },
   {
    "duration": 9,
    "start_time": "2022-05-19T13:04:47.834Z"
   },
   {
    "duration": 13,
    "start_time": "2022-05-19T13:09:35.757Z"
   },
   {
    "duration": 12,
    "start_time": "2022-05-19T13:09:56.791Z"
   },
   {
    "duration": 10,
    "start_time": "2022-05-19T13:21:54.096Z"
   },
   {
    "duration": 20,
    "start_time": "2022-05-19T13:22:02.315Z"
   },
   {
    "duration": 36,
    "start_time": "2022-05-19T13:22:50.054Z"
   },
   {
    "duration": 27,
    "start_time": "2022-05-19T13:24:46.362Z"
   },
   {
    "duration": 22,
    "start_time": "2022-05-19T13:27:02.272Z"
   },
   {
    "duration": 42,
    "start_time": "2022-05-19T13:27:18.715Z"
   },
   {
    "duration": 6,
    "start_time": "2022-05-19T13:27:20.678Z"
   },
   {
    "duration": 53,
    "start_time": "2022-05-19T13:29:06.590Z"
   },
   {
    "duration": 9,
    "start_time": "2022-05-19T15:38:54.630Z"
   },
   {
    "duration": 17,
    "start_time": "2022-05-19T15:39:04.466Z"
   },
   {
    "duration": 325,
    "start_time": "2022-05-19T15:39:09.745Z"
   },
   {
    "duration": 53,
    "start_time": "2022-05-20T12:20:17.556Z"
   },
   {
    "duration": 1242,
    "start_time": "2022-05-20T12:20:22.759Z"
   },
   {
    "duration": 441,
    "start_time": "2022-05-20T12:20:24.003Z"
   },
   {
    "duration": 25,
    "start_time": "2022-05-20T12:20:24.446Z"
   },
   {
    "duration": 73,
    "start_time": "2022-05-20T12:20:24.474Z"
   },
   {
    "duration": 18,
    "start_time": "2022-05-20T12:20:24.549Z"
   },
   {
    "duration": 8,
    "start_time": "2022-05-20T12:20:24.569Z"
   },
   {
    "duration": 14,
    "start_time": "2022-05-20T12:20:24.578Z"
   },
   {
    "duration": 7,
    "start_time": "2022-05-20T12:20:24.594Z"
   },
   {
    "duration": 10,
    "start_time": "2022-05-20T12:20:24.603Z"
   },
   {
    "duration": 10,
    "start_time": "2022-05-20T12:20:24.615Z"
   },
   {
    "duration": 19,
    "start_time": "2022-05-20T12:20:24.626Z"
   },
   {
    "duration": 30,
    "start_time": "2022-05-20T12:20:24.647Z"
   },
   {
    "duration": 13,
    "start_time": "2022-05-20T12:20:24.679Z"
   },
   {
    "duration": 17,
    "start_time": "2022-05-20T12:20:24.694Z"
   },
   {
    "duration": 24,
    "start_time": "2022-05-20T12:20:24.713Z"
   },
   {
    "duration": 44,
    "start_time": "2022-05-20T12:20:24.740Z"
   },
   {
    "duration": 40,
    "start_time": "2022-05-20T12:20:24.786Z"
   },
   {
    "duration": 69,
    "start_time": "2022-05-20T12:20:24.828Z"
   },
   {
    "duration": 6,
    "start_time": "2022-05-20T12:20:24.899Z"
   },
   {
    "duration": 17,
    "start_time": "2022-05-20T12:20:24.906Z"
   },
   {
    "duration": 88,
    "start_time": "2022-05-20T12:20:24.924Z"
   },
   {
    "duration": 107,
    "start_time": "2022-05-20T12:20:25.014Z"
   },
   {
    "duration": 0,
    "start_time": "2022-05-20T12:20:25.123Z"
   },
   {
    "duration": 22,
    "start_time": "2022-05-20T12:20:32.627Z"
   },
   {
    "duration": 18,
    "start_time": "2022-05-20T12:20:45.309Z"
   },
   {
    "duration": 27,
    "start_time": "2022-05-20T12:20:56.261Z"
   },
   {
    "duration": 17,
    "start_time": "2022-05-20T12:21:45.124Z"
   },
   {
    "duration": 14,
    "start_time": "2022-05-20T12:22:19.787Z"
   },
   {
    "duration": 18,
    "start_time": "2022-05-20T12:24:44.984Z"
   },
   {
    "duration": 17,
    "start_time": "2022-05-20T12:24:49.681Z"
   },
   {
    "duration": 16,
    "start_time": "2022-05-20T12:26:45.023Z"
   },
   {
    "duration": 15,
    "start_time": "2022-05-20T12:39:10.658Z"
   },
   {
    "duration": 485,
    "start_time": "2022-05-20T12:46:01.911Z"
   },
   {
    "duration": 112,
    "start_time": "2022-05-20T12:46:38.113Z"
   },
   {
    "duration": 150,
    "start_time": "2022-05-20T12:46:42.673Z"
   },
   {
    "duration": 95,
    "start_time": "2022-05-20T12:46:47.397Z"
   },
   {
    "duration": 32,
    "start_time": "2022-05-20T12:47:22.069Z"
   },
   {
    "duration": 114,
    "start_time": "2022-05-20T12:47:31.955Z"
   },
   {
    "duration": 111,
    "start_time": "2022-05-20T12:47:39.301Z"
   },
   {
    "duration": 4,
    "start_time": "2022-05-20T12:48:18.563Z"
   },
   {
    "duration": 1031,
    "start_time": "2022-05-20T12:48:23.377Z"
   },
   {
    "duration": 111,
    "start_time": "2022-05-20T12:48:24.410Z"
   },
   {
    "duration": 24,
    "start_time": "2022-05-20T12:48:24.522Z"
   },
   {
    "duration": 28,
    "start_time": "2022-05-20T12:48:24.547Z"
   },
   {
    "duration": 10,
    "start_time": "2022-05-20T12:48:24.576Z"
   },
   {
    "duration": 5,
    "start_time": "2022-05-20T12:48:24.588Z"
   },
   {
    "duration": 12,
    "start_time": "2022-05-20T12:48:24.595Z"
   },
   {
    "duration": 8,
    "start_time": "2022-05-20T12:48:24.608Z"
   },
   {
    "duration": 8,
    "start_time": "2022-05-20T12:48:24.618Z"
   },
   {
    "duration": 8,
    "start_time": "2022-05-20T12:48:24.628Z"
   },
   {
    "duration": 47,
    "start_time": "2022-05-20T12:48:24.638Z"
   },
   {
    "duration": 7,
    "start_time": "2022-05-20T12:48:24.687Z"
   },
   {
    "duration": 12,
    "start_time": "2022-05-20T12:48:24.696Z"
   },
   {
    "duration": 16,
    "start_time": "2022-05-20T12:48:24.710Z"
   },
   {
    "duration": 54,
    "start_time": "2022-05-20T12:48:24.727Z"
   },
   {
    "duration": 20,
    "start_time": "2022-05-20T12:48:24.782Z"
   },
   {
    "duration": 36,
    "start_time": "2022-05-20T12:48:24.803Z"
   },
   {
    "duration": 74,
    "start_time": "2022-05-20T12:48:24.841Z"
   },
   {
    "duration": 17,
    "start_time": "2022-05-20T12:48:24.917Z"
   },
   {
    "duration": 5,
    "start_time": "2022-05-20T12:48:24.936Z"
   },
   {
    "duration": 46,
    "start_time": "2022-05-20T12:48:24.942Z"
   },
   {
    "duration": 86,
    "start_time": "2022-05-20T12:48:24.989Z"
   },
   {
    "duration": 201,
    "start_time": "2022-05-20T12:48:25.077Z"
   },
   {
    "duration": 4,
    "start_time": "2022-05-20T12:48:46.864Z"
   },
   {
    "duration": 244,
    "start_time": "2022-05-20T12:48:52.854Z"
   },
   {
    "duration": 4,
    "start_time": "2022-05-20T12:49:08.547Z"
   },
   {
    "duration": 146,
    "start_time": "2022-05-20T12:49:15.008Z"
   },
   {
    "duration": 4,
    "start_time": "2022-05-20T12:49:26.130Z"
   },
   {
    "duration": 126,
    "start_time": "2022-05-20T12:49:41.287Z"
   },
   {
    "duration": 132,
    "start_time": "2022-05-20T12:49:56.413Z"
   },
   {
    "duration": 132,
    "start_time": "2022-05-20T12:50:04.013Z"
   },
   {
    "duration": 4,
    "start_time": "2022-05-20T12:50:25.126Z"
   },
   {
    "duration": 123,
    "start_time": "2022-05-20T12:50:30.034Z"
   },
   {
    "duration": 4,
    "start_time": "2022-05-20T12:50:39.974Z"
   },
   {
    "duration": 147,
    "start_time": "2022-05-20T12:50:44.338Z"
   },
   {
    "duration": 9,
    "start_time": "2022-05-20T12:52:49.786Z"
   },
   {
    "duration": 107,
    "start_time": "2022-05-20T12:55:10.106Z"
   },
   {
    "duration": 22,
    "start_time": "2022-05-20T12:55:29.755Z"
   },
   {
    "duration": 4,
    "start_time": "2022-05-20T12:56:21.057Z"
   },
   {
    "duration": 25,
    "start_time": "2022-05-20T12:56:35.323Z"
   },
   {
    "duration": 28,
    "start_time": "2022-05-20T12:56:43.014Z"
   },
   {
    "duration": 10,
    "start_time": "2022-05-20T12:57:44.237Z"
   },
   {
    "duration": 11,
    "start_time": "2022-05-20T12:57:50.993Z"
   },
   {
    "duration": 9,
    "start_time": "2022-05-20T12:58:47.221Z"
   },
   {
    "duration": 9,
    "start_time": "2022-05-20T12:58:55.385Z"
   },
   {
    "duration": 118,
    "start_time": "2022-05-20T12:59:02.354Z"
   },
   {
    "duration": 7,
    "start_time": "2022-05-20T13:00:16.069Z"
   },
   {
    "duration": 10,
    "start_time": "2022-05-20T13:00:42.520Z"
   },
   {
    "duration": 6,
    "start_time": "2022-05-20T13:00:57.104Z"
   },
   {
    "duration": 10,
    "start_time": "2022-05-20T13:01:44.433Z"
   },
   {
    "duration": 11,
    "start_time": "2022-05-20T13:02:02.931Z"
   },
   {
    "duration": 8,
    "start_time": "2022-05-20T13:02:18.935Z"
   },
   {
    "duration": 15,
    "start_time": "2022-05-20T13:02:58.120Z"
   },
   {
    "duration": 8,
    "start_time": "2022-05-20T13:03:33.924Z"
   },
   {
    "duration": 14,
    "start_time": "2022-05-20T13:11:29.382Z"
   },
   {
    "duration": 14,
    "start_time": "2022-05-20T13:11:40.127Z"
   },
   {
    "duration": 13,
    "start_time": "2022-05-20T13:11:56.904Z"
   },
   {
    "duration": 1132,
    "start_time": "2022-05-20T13:14:13.080Z"
   },
   {
    "duration": 116,
    "start_time": "2022-05-20T13:14:14.214Z"
   },
   {
    "duration": 23,
    "start_time": "2022-05-20T13:14:14.332Z"
   },
   {
    "duration": 21,
    "start_time": "2022-05-20T13:14:14.357Z"
   },
   {
    "duration": 9,
    "start_time": "2022-05-20T13:14:14.380Z"
   },
   {
    "duration": 5,
    "start_time": "2022-05-20T13:14:14.390Z"
   },
   {
    "duration": 16,
    "start_time": "2022-05-20T13:14:14.396Z"
   },
   {
    "duration": 10,
    "start_time": "2022-05-20T13:14:14.414Z"
   },
   {
    "duration": 12,
    "start_time": "2022-05-20T13:14:14.426Z"
   },
   {
    "duration": 9,
    "start_time": "2022-05-20T13:14:14.440Z"
   },
   {
    "duration": 37,
    "start_time": "2022-05-20T13:14:14.451Z"
   },
   {
    "duration": 7,
    "start_time": "2022-05-20T13:14:14.489Z"
   },
   {
    "duration": 13,
    "start_time": "2022-05-20T13:14:14.498Z"
   },
   {
    "duration": 19,
    "start_time": "2022-05-20T13:14:14.514Z"
   },
   {
    "duration": 46,
    "start_time": "2022-05-20T13:14:14.534Z"
   },
   {
    "duration": 19,
    "start_time": "2022-05-20T13:14:14.582Z"
   },
   {
    "duration": 48,
    "start_time": "2022-05-20T13:14:14.602Z"
   },
   {
    "duration": 66,
    "start_time": "2022-05-20T13:14:14.652Z"
   },
   {
    "duration": 15,
    "start_time": "2022-05-20T13:14:14.719Z"
   },
   {
    "duration": 6,
    "start_time": "2022-05-20T13:14:14.736Z"
   },
   {
    "duration": 39,
    "start_time": "2022-05-20T13:14:14.743Z"
   },
   {
    "duration": 67,
    "start_time": "2022-05-20T13:14:14.784Z"
   },
   {
    "duration": 153,
    "start_time": "2022-05-20T13:14:14.852Z"
   },
   {
    "duration": 10,
    "start_time": "2022-05-20T13:14:15.007Z"
   },
   {
    "duration": 5,
    "start_time": "2022-05-20T13:14:15.019Z"
   },
   {
    "duration": 29,
    "start_time": "2022-05-20T13:14:15.025Z"
   },
   {
    "duration": 28,
    "start_time": "2022-05-20T13:14:15.056Z"
   },
   {
    "duration": 182,
    "start_time": "2022-05-20T13:14:15.086Z"
   },
   {
    "duration": 9,
    "start_time": "2022-05-20T13:14:15.269Z"
   },
   {
    "duration": 8,
    "start_time": "2022-05-20T13:14:15.279Z"
   },
   {
    "duration": 12,
    "start_time": "2022-05-20T13:14:15.289Z"
   },
   {
    "duration": 24,
    "start_time": "2022-05-20T13:14:15.303Z"
   },
   {
    "duration": 8,
    "start_time": "2022-05-20T13:14:15.328Z"
   },
   {
    "duration": 61,
    "start_time": "2022-05-20T13:14:15.337Z"
   },
   {
    "duration": 1232,
    "start_time": "2022-05-20T13:17:43.957Z"
   },
   {
    "duration": 4,
    "start_time": "2022-05-20T13:17:45.192Z"
   },
   {
    "duration": 126,
    "start_time": "2022-05-20T13:17:45.197Z"
   },
   {
    "duration": 23,
    "start_time": "2022-05-20T13:17:45.325Z"
   },
   {
    "duration": 22,
    "start_time": "2022-05-20T13:17:45.350Z"
   },
   {
    "duration": 17,
    "start_time": "2022-05-20T13:17:45.374Z"
   },
   {
    "duration": 8,
    "start_time": "2022-05-20T13:17:45.394Z"
   },
   {
    "duration": 11,
    "start_time": "2022-05-20T13:17:45.404Z"
   },
   {
    "duration": 17,
    "start_time": "2022-05-20T13:17:45.417Z"
   },
   {
    "duration": 9,
    "start_time": "2022-05-20T13:17:45.436Z"
   },
   {
    "duration": 9,
    "start_time": "2022-05-20T13:17:45.446Z"
   },
   {
    "duration": 31,
    "start_time": "2022-05-20T13:17:45.456Z"
   },
   {
    "duration": 12,
    "start_time": "2022-05-20T13:17:45.488Z"
   },
   {
    "duration": 19,
    "start_time": "2022-05-20T13:17:45.503Z"
   },
   {
    "duration": 12,
    "start_time": "2022-05-20T13:17:45.524Z"
   },
   {
    "duration": 41,
    "start_time": "2022-05-20T13:17:45.537Z"
   },
   {
    "duration": 25,
    "start_time": "2022-05-20T13:17:45.580Z"
   },
   {
    "duration": 39,
    "start_time": "2022-05-20T13:17:45.606Z"
   },
   {
    "duration": 78,
    "start_time": "2022-05-20T13:17:45.647Z"
   },
   {
    "duration": 15,
    "start_time": "2022-05-20T13:17:45.727Z"
   },
   {
    "duration": 6,
    "start_time": "2022-05-20T13:17:45.743Z"
   },
   {
    "duration": 35,
    "start_time": "2022-05-20T13:17:45.751Z"
   },
   {
    "duration": 65,
    "start_time": "2022-05-20T13:17:45.790Z"
   },
   {
    "duration": 168,
    "start_time": "2022-05-20T13:17:45.856Z"
   },
   {
    "duration": 9,
    "start_time": "2022-05-20T13:17:46.026Z"
   },
   {
    "duration": 4,
    "start_time": "2022-05-20T13:17:46.036Z"
   },
   {
    "duration": 51,
    "start_time": "2022-05-20T13:17:46.042Z"
   },
   {
    "duration": 11,
    "start_time": "2022-05-20T13:17:46.096Z"
   },
   {
    "duration": 207,
    "start_time": "2022-05-20T13:17:46.109Z"
   },
   {
    "duration": 5,
    "start_time": "2022-05-20T13:17:46.318Z"
   },
   {
    "duration": 35,
    "start_time": "2022-05-20T13:17:46.325Z"
   },
   {
    "duration": 9,
    "start_time": "2022-05-20T13:17:46.362Z"
   },
   {
    "duration": 29,
    "start_time": "2022-05-20T13:17:46.372Z"
   },
   {
    "duration": 7,
    "start_time": "2022-05-20T13:17:46.402Z"
   },
   {
    "duration": 40,
    "start_time": "2022-05-20T13:17:46.410Z"
   },
   {
    "duration": 116,
    "start_time": "2022-05-20T13:19:43.901Z"
   },
   {
    "duration": 27,
    "start_time": "2022-05-20T13:20:01.732Z"
   },
   {
    "duration": 19,
    "start_time": "2022-05-20T13:20:16.557Z"
   },
   {
    "duration": 9,
    "start_time": "2022-05-20T13:22:02.290Z"
   },
   {
    "duration": 10,
    "start_time": "2022-05-20T13:22:34.634Z"
   },
   {
    "duration": 8,
    "start_time": "2022-05-20T13:22:57.008Z"
   },
   {
    "duration": 180,
    "start_time": "2022-05-20T13:23:13.542Z"
   },
   {
    "duration": 37,
    "start_time": "2022-05-20T13:25:04.545Z"
   },
   {
    "duration": 200,
    "start_time": "2022-05-20T13:25:14.951Z"
   },
   {
    "duration": 1333,
    "start_time": "2022-05-22T12:39:36.962Z"
   },
   {
    "duration": 3,
    "start_time": "2022-05-22T12:39:38.297Z"
   },
   {
    "duration": 175,
    "start_time": "2022-05-22T12:39:38.301Z"
   },
   {
    "duration": 26,
    "start_time": "2022-05-22T12:39:38.479Z"
   },
   {
    "duration": 40,
    "start_time": "2022-05-22T12:39:38.507Z"
   },
   {
    "duration": 11,
    "start_time": "2022-05-22T12:39:38.549Z"
   },
   {
    "duration": 6,
    "start_time": "2022-05-22T12:39:38.562Z"
   },
   {
    "duration": 11,
    "start_time": "2022-05-22T12:39:38.570Z"
   },
   {
    "duration": 6,
    "start_time": "2022-05-22T12:39:38.583Z"
   },
   {
    "duration": 7,
    "start_time": "2022-05-22T12:39:38.592Z"
   },
   {
    "duration": 22,
    "start_time": "2022-05-22T12:39:38.601Z"
   },
   {
    "duration": 17,
    "start_time": "2022-05-22T12:39:38.624Z"
   },
   {
    "duration": 7,
    "start_time": "2022-05-22T12:39:38.643Z"
   },
   {
    "duration": 11,
    "start_time": "2022-05-22T12:39:38.651Z"
   },
   {
    "duration": 15,
    "start_time": "2022-05-22T12:39:38.664Z"
   },
   {
    "duration": 58,
    "start_time": "2022-05-22T12:39:38.681Z"
   },
   {
    "duration": 23,
    "start_time": "2022-05-22T12:39:38.741Z"
   },
   {
    "duration": 80,
    "start_time": "2022-05-22T12:39:38.765Z"
   },
   {
    "duration": 51,
    "start_time": "2022-05-22T12:39:38.847Z"
   },
   {
    "duration": 36,
    "start_time": "2022-05-22T12:39:38.900Z"
   },
   {
    "duration": 7,
    "start_time": "2022-05-22T12:39:38.938Z"
   },
   {
    "duration": 28,
    "start_time": "2022-05-22T12:39:38.946Z"
   },
   {
    "duration": 103,
    "start_time": "2022-05-22T12:39:38.976Z"
   },
   {
    "duration": 170,
    "start_time": "2022-05-22T12:39:39.081Z"
   },
   {
    "duration": 11,
    "start_time": "2022-05-22T12:39:39.252Z"
   },
   {
    "duration": 6,
    "start_time": "2022-05-22T12:39:39.265Z"
   },
   {
    "duration": 54,
    "start_time": "2022-05-22T12:39:39.273Z"
   },
   {
    "duration": 14,
    "start_time": "2022-05-22T12:39:39.331Z"
   },
   {
    "duration": 202,
    "start_time": "2022-05-22T12:39:39.347Z"
   },
   {
    "duration": 6,
    "start_time": "2022-05-22T12:39:39.551Z"
   },
   {
    "duration": 10,
    "start_time": "2022-05-22T12:39:39.558Z"
   },
   {
    "duration": 9,
    "start_time": "2022-05-22T12:39:39.570Z"
   },
   {
    "duration": 19,
    "start_time": "2022-05-22T12:39:39.581Z"
   },
   {
    "duration": 33,
    "start_time": "2022-05-22T12:39:39.602Z"
   },
   {
    "duration": 47,
    "start_time": "2022-05-22T12:39:39.638Z"
   },
   {
    "duration": 57,
    "start_time": "2022-05-22T12:39:39.687Z"
   },
   {
    "duration": 247,
    "start_time": "2022-05-22T12:39:39.746Z"
   },
   {
    "duration": 139,
    "start_time": "2022-05-22T12:49:10.414Z"
   },
   {
    "duration": 6,
    "start_time": "2022-05-22T13:00:18.933Z"
   },
   {
    "duration": 4,
    "start_time": "2022-05-22T13:01:03.260Z"
   },
   {
    "duration": 1117,
    "start_time": "2022-05-22T13:01:19.251Z"
   },
   {
    "duration": 3,
    "start_time": "2022-05-22T13:01:20.370Z"
   },
   {
    "duration": 125,
    "start_time": "2022-05-22T13:01:20.375Z"
   },
   {
    "duration": 32,
    "start_time": "2022-05-22T13:01:20.502Z"
   },
   {
    "duration": 18,
    "start_time": "2022-05-22T13:01:20.535Z"
   },
   {
    "duration": 11,
    "start_time": "2022-05-22T13:01:20.555Z"
   },
   {
    "duration": 7,
    "start_time": "2022-05-22T13:01:20.568Z"
   },
   {
    "duration": 15,
    "start_time": "2022-05-22T13:01:20.577Z"
   },
   {
    "duration": 30,
    "start_time": "2022-05-22T13:01:20.594Z"
   },
   {
    "duration": 7,
    "start_time": "2022-05-22T13:01:20.627Z"
   },
   {
    "duration": 9,
    "start_time": "2022-05-22T13:01:20.636Z"
   },
   {
    "duration": 17,
    "start_time": "2022-05-22T13:01:20.647Z"
   },
   {
    "duration": 7,
    "start_time": "2022-05-22T13:01:20.666Z"
   },
   {
    "duration": 49,
    "start_time": "2022-05-22T13:01:20.675Z"
   },
   {
    "duration": 19,
    "start_time": "2022-05-22T13:01:20.726Z"
   },
   {
    "duration": 27,
    "start_time": "2022-05-22T13:01:20.747Z"
   },
   {
    "duration": 27,
    "start_time": "2022-05-22T13:01:20.776Z"
   },
   {
    "duration": 58,
    "start_time": "2022-05-22T13:01:20.804Z"
   },
   {
    "duration": 72,
    "start_time": "2022-05-22T13:01:20.864Z"
   },
   {
    "duration": 17,
    "start_time": "2022-05-22T13:01:20.938Z"
   },
   {
    "duration": 6,
    "start_time": "2022-05-22T13:01:20.956Z"
   },
   {
    "duration": 18,
    "start_time": "2022-05-22T13:01:20.964Z"
   },
   {
    "duration": 100,
    "start_time": "2022-05-22T13:01:20.984Z"
   },
   {
    "duration": 173,
    "start_time": "2022-05-22T13:01:21.086Z"
   },
   {
    "duration": 10,
    "start_time": "2022-05-22T13:01:21.261Z"
   },
   {
    "duration": 3,
    "start_time": "2022-05-22T13:01:21.272Z"
   },
   {
    "duration": 54,
    "start_time": "2022-05-22T13:01:21.277Z"
   },
   {
    "duration": 12,
    "start_time": "2022-05-22T13:01:21.335Z"
   },
   {
    "duration": 209,
    "start_time": "2022-05-22T13:01:21.348Z"
   },
   {
    "duration": 6,
    "start_time": "2022-05-22T13:01:21.559Z"
   },
   {
    "duration": 5,
    "start_time": "2022-05-22T13:01:21.567Z"
   },
   {
    "duration": 9,
    "start_time": "2022-05-22T13:01:21.574Z"
   },
   {
    "duration": 49,
    "start_time": "2022-05-22T13:01:21.584Z"
   },
   {
    "duration": 7,
    "start_time": "2022-05-22T13:01:21.635Z"
   },
   {
    "duration": 8,
    "start_time": "2022-05-22T13:01:21.644Z"
   },
   {
    "duration": 10,
    "start_time": "2022-05-22T13:01:21.654Z"
   },
   {
    "duration": 69,
    "start_time": "2022-05-22T13:01:21.666Z"
   },
   {
    "duration": 27,
    "start_time": "2022-05-22T13:01:21.737Z"
   },
   {
    "duration": 252,
    "start_time": "2022-05-22T13:01:21.767Z"
   },
   {
    "duration": 12,
    "start_time": "2022-05-22T13:01:52.179Z"
   },
   {
    "duration": 10,
    "start_time": "2022-05-22T13:02:00.568Z"
   },
   {
    "duration": 9,
    "start_time": "2022-05-22T13:02:23.981Z"
   },
   {
    "duration": 17,
    "start_time": "2022-05-22T13:03:27.018Z"
   },
   {
    "duration": 11,
    "start_time": "2022-05-22T13:03:33.466Z"
   },
   {
    "duration": 10,
    "start_time": "2022-05-22T13:03:48.448Z"
   },
   {
    "duration": 23,
    "start_time": "2022-05-22T13:04:05.260Z"
   },
   {
    "duration": 18,
    "start_time": "2022-05-22T13:04:27.269Z"
   },
   {
    "duration": 18,
    "start_time": "2022-05-22T13:04:33.505Z"
   },
   {
    "duration": 17,
    "start_time": "2022-05-22T13:04:37.313Z"
   },
   {
    "duration": 19,
    "start_time": "2022-05-22T13:04:43.921Z"
   },
   {
    "duration": 17,
    "start_time": "2022-05-22T13:04:54.593Z"
   },
   {
    "duration": 8,
    "start_time": "2022-05-22T13:08:41.312Z"
   },
   {
    "duration": 15,
    "start_time": "2022-05-22T13:12:47.092Z"
   },
   {
    "duration": 14,
    "start_time": "2022-05-22T13:12:56.824Z"
   },
   {
    "duration": 22,
    "start_time": "2022-05-22T13:13:13.262Z"
   },
   {
    "duration": 24,
    "start_time": "2022-05-22T13:13:29.759Z"
   },
   {
    "duration": 16,
    "start_time": "2022-05-22T13:17:17.258Z"
   },
   {
    "duration": 36,
    "start_time": "2022-05-22T13:17:46.261Z"
   },
   {
    "duration": 15,
    "start_time": "2022-05-22T13:18:01.821Z"
   },
   {
    "duration": 19,
    "start_time": "2022-05-22T13:18:24.057Z"
   },
   {
    "duration": 16,
    "start_time": "2022-05-22T13:18:34.711Z"
   },
   {
    "duration": 18,
    "start_time": "2022-05-22T13:18:40.488Z"
   },
   {
    "duration": 18,
    "start_time": "2022-05-22T15:06:55.242Z"
   },
   {
    "duration": 26,
    "start_time": "2022-05-22T15:07:00.950Z"
   },
   {
    "duration": 36,
    "start_time": "2022-05-22T15:07:49.859Z"
   },
   {
    "duration": 107,
    "start_time": "2022-05-22T15:08:35.825Z"
   },
   {
    "duration": 24,
    "start_time": "2022-05-22T15:08:45.066Z"
   },
   {
    "duration": 31,
    "start_time": "2022-05-22T15:10:37.295Z"
   },
   {
    "duration": 24,
    "start_time": "2022-05-22T15:14:59.163Z"
   },
   {
    "duration": 21,
    "start_time": "2022-05-22T15:15:24.610Z"
   },
   {
    "duration": 21,
    "start_time": "2022-05-22T15:15:50.687Z"
   },
   {
    "duration": 49,
    "start_time": "2022-05-22T15:16:30.056Z"
   },
   {
    "duration": 33,
    "start_time": "2022-05-22T15:16:46.946Z"
   },
   {
    "duration": 20,
    "start_time": "2022-05-22T15:16:56.378Z"
   },
   {
    "duration": 21,
    "start_time": "2022-05-22T15:17:06.330Z"
   },
   {
    "duration": 31,
    "start_time": "2022-05-22T15:17:30.257Z"
   },
   {
    "duration": 28,
    "start_time": "2022-05-22T15:17:36.056Z"
   },
   {
    "duration": 44,
    "start_time": "2022-05-22T15:55:38.852Z"
   },
   {
    "duration": 39,
    "start_time": "2022-05-22T15:55:50.146Z"
   },
   {
    "duration": 34,
    "start_time": "2022-05-22T15:56:50.044Z"
   },
   {
    "duration": 44,
    "start_time": "2022-05-22T15:57:02.148Z"
   },
   {
    "duration": 350,
    "start_time": "2022-05-22T16:22:53.637Z"
   },
   {
    "duration": 479,
    "start_time": "2022-05-22T16:23:21.666Z"
   },
   {
    "duration": 38,
    "start_time": "2022-05-22T16:24:47.136Z"
   },
   {
    "duration": 34,
    "start_time": "2022-05-22T16:24:55.190Z"
   },
   {
    "duration": 41,
    "start_time": "2022-05-22T16:25:04.194Z"
   },
   {
    "duration": 369,
    "start_time": "2022-05-22T16:25:26.211Z"
   },
   {
    "duration": 532,
    "start_time": "2022-05-22T16:25:30.340Z"
   },
   {
    "duration": 39,
    "start_time": "2022-05-22T16:25:59.237Z"
   },
   {
    "duration": 39,
    "start_time": "2022-05-22T16:26:15.152Z"
   },
   {
    "duration": 4,
    "start_time": "2022-05-22T16:26:18.964Z"
   },
   {
    "duration": 4,
    "start_time": "2022-05-22T16:26:31.586Z"
   },
   {
    "duration": 6,
    "start_time": "2022-05-22T16:26:43.714Z"
   },
   {
    "duration": 20,
    "start_time": "2022-05-22T16:27:28.582Z"
   },
   {
    "duration": 55,
    "start_time": "2022-05-22T16:28:24.389Z"
   },
   {
    "duration": 219,
    "start_time": "2022-05-22T16:29:46.790Z"
   },
   {
    "duration": 44,
    "start_time": "2022-05-22T16:36:15.016Z"
   },
   {
    "duration": 41,
    "start_time": "2022-05-22T16:41:37.384Z"
   },
   {
    "duration": 211,
    "start_time": "2022-05-22T16:42:48.636Z"
   },
   {
    "duration": 9,
    "start_time": "2022-05-22T16:45:39.146Z"
   },
   {
    "duration": 7,
    "start_time": "2022-05-22T16:46:07.826Z"
   },
   {
    "duration": 18,
    "start_time": "2022-05-22T16:46:30.291Z"
   },
   {
    "duration": 14,
    "start_time": "2022-05-22T16:46:40.139Z"
   },
   {
    "duration": 37,
    "start_time": "2022-05-22T16:48:40.325Z"
   },
   {
    "duration": 10,
    "start_time": "2022-05-22T16:49:53.133Z"
   },
   {
    "duration": 37,
    "start_time": "2022-05-22T16:50:08.525Z"
   },
   {
    "duration": 16,
    "start_time": "2022-05-22T16:50:24.332Z"
   },
   {
    "duration": 16,
    "start_time": "2022-05-22T16:50:31.405Z"
   },
   {
    "duration": 9,
    "start_time": "2022-05-22T16:52:24.069Z"
   },
   {
    "duration": 195,
    "start_time": "2022-05-22T16:53:33.304Z"
   },
   {
    "duration": 13,
    "start_time": "2022-05-22T18:22:11.178Z"
   },
   {
    "duration": 348,
    "start_time": "2022-05-22T18:22:25.977Z"
   },
   {
    "duration": 349,
    "start_time": "2022-05-22T18:22:37.832Z"
   },
   {
    "duration": 412,
    "start_time": "2022-05-22T18:23:01.879Z"
   },
   {
    "duration": 359,
    "start_time": "2022-05-22T18:23:11.790Z"
   },
   {
    "duration": 380,
    "start_time": "2022-05-22T18:23:21.093Z"
   },
   {
    "duration": 511,
    "start_time": "2022-05-22T18:29:16.862Z"
   },
   {
    "duration": 196,
    "start_time": "2022-05-22T18:29:45.053Z"
   },
   {
    "duration": 207,
    "start_time": "2022-05-22T18:29:55.136Z"
   },
   {
    "duration": 196,
    "start_time": "2022-05-22T18:30:04.174Z"
   },
   {
    "duration": 207,
    "start_time": "2022-05-22T18:30:14.372Z"
   },
   {
    "duration": 115,
    "start_time": "2022-05-22T18:30:26.977Z"
   },
   {
    "duration": 147,
    "start_time": "2022-05-22T18:30:36.323Z"
   },
   {
    "duration": 373,
    "start_time": "2022-05-22T18:31:04.155Z"
   },
   {
    "duration": 19,
    "start_time": "2022-05-22T18:46:47.607Z"
   },
   {
    "duration": 24,
    "start_time": "2022-05-22T18:46:52.375Z"
   },
   {
    "duration": 495,
    "start_time": "2022-05-22T18:47:37.355Z"
   },
   {
    "duration": 387,
    "start_time": "2022-05-22T18:47:53.838Z"
   },
   {
    "duration": 23,
    "start_time": "2022-05-22T18:48:38.935Z"
   },
   {
    "duration": 19,
    "start_time": "2022-05-22T18:49:26.156Z"
   },
   {
    "duration": 761,
    "start_time": "2022-05-22T18:50:17.437Z"
   },
   {
    "duration": 613,
    "start_time": "2022-05-22T18:50:26.114Z"
   },
   {
    "duration": 20,
    "start_time": "2022-05-22T18:51:00.016Z"
   },
   {
    "duration": 406,
    "start_time": "2022-05-22T18:51:39.863Z"
   },
   {
    "duration": 21,
    "start_time": "2022-05-22T18:52:37.588Z"
   },
   {
    "duration": 38,
    "start_time": "2022-05-22T19:14:58.541Z"
   },
   {
    "duration": 47,
    "start_time": "2022-05-22T19:15:13.089Z"
   },
   {
    "duration": 3,
    "start_time": "2022-05-22T19:15:36.865Z"
   },
   {
    "duration": 40,
    "start_time": "2022-05-22T19:17:42.392Z"
   },
   {
    "duration": 96,
    "start_time": "2022-05-22T19:17:50.389Z"
   },
   {
    "duration": 6,
    "start_time": "2022-05-22T19:22:41.158Z"
   },
   {
    "duration": 7,
    "start_time": "2022-05-22T19:23:30.582Z"
   },
   {
    "duration": 7,
    "start_time": "2022-05-22T19:29:20.339Z"
   },
   {
    "duration": 6,
    "start_time": "2022-05-22T19:29:39.600Z"
   },
   {
    "duration": 37,
    "start_time": "2022-05-22T19:31:06.487Z"
   },
   {
    "duration": 34,
    "start_time": "2022-05-22T19:31:21.604Z"
   },
   {
    "duration": 35,
    "start_time": "2022-05-22T19:35:25.698Z"
   },
   {
    "duration": 41,
    "start_time": "2022-05-22T19:35:32.287Z"
   },
   {
    "duration": 6,
    "start_time": "2022-05-22T19:36:27.967Z"
   },
   {
    "duration": 5,
    "start_time": "2022-05-22T19:36:37.573Z"
   },
   {
    "duration": 6,
    "start_time": "2022-05-22T19:36:43.495Z"
   },
   {
    "duration": 6,
    "start_time": "2022-05-22T19:37:15.384Z"
   },
   {
    "duration": 35,
    "start_time": "2022-05-22T19:40:16.284Z"
   },
   {
    "duration": 4,
    "start_time": "2022-05-22T19:40:47.913Z"
   },
   {
    "duration": 30,
    "start_time": "2022-05-22T19:40:55.199Z"
   },
   {
    "duration": 63,
    "start_time": "2022-05-23T09:32:03.917Z"
   },
   {
    "duration": 1587,
    "start_time": "2022-05-23T09:32:16.333Z"
   },
   {
    "duration": 4,
    "start_time": "2022-05-23T09:32:17.922Z"
   },
   {
    "duration": 501,
    "start_time": "2022-05-23T09:32:17.928Z"
   },
   {
    "duration": 31,
    "start_time": "2022-05-23T09:32:18.432Z"
   },
   {
    "duration": 86,
    "start_time": "2022-05-23T09:32:18.464Z"
   },
   {
    "duration": 13,
    "start_time": "2022-05-23T09:32:18.551Z"
   },
   {
    "duration": 9,
    "start_time": "2022-05-23T09:32:18.566Z"
   },
   {
    "duration": 17,
    "start_time": "2022-05-23T09:32:18.577Z"
   },
   {
    "duration": 16,
    "start_time": "2022-05-23T09:32:18.596Z"
   },
   {
    "duration": 16,
    "start_time": "2022-05-23T09:32:18.615Z"
   },
   {
    "duration": 14,
    "start_time": "2022-05-23T09:32:18.633Z"
   },
   {
    "duration": 21,
    "start_time": "2022-05-23T09:32:18.649Z"
   },
   {
    "duration": 11,
    "start_time": "2022-05-23T09:32:18.673Z"
   },
   {
    "duration": 16,
    "start_time": "2022-05-23T09:32:18.686Z"
   },
   {
    "duration": 53,
    "start_time": "2022-05-23T09:32:18.704Z"
   },
   {
    "duration": 46,
    "start_time": "2022-05-23T09:32:18.760Z"
   },
   {
    "duration": 43,
    "start_time": "2022-05-23T09:32:18.808Z"
   },
   {
    "duration": 52,
    "start_time": "2022-05-23T09:32:18.853Z"
   },
   {
    "duration": 82,
    "start_time": "2022-05-23T09:32:18.907Z"
   },
   {
    "duration": 21,
    "start_time": "2022-05-23T09:32:18.991Z"
   },
   {
    "duration": 6,
    "start_time": "2022-05-23T09:32:19.013Z"
   },
   {
    "duration": 18,
    "start_time": "2022-05-23T09:32:19.042Z"
   },
   {
    "duration": 101,
    "start_time": "2022-05-23T09:32:19.062Z"
   },
   {
    "duration": 269,
    "start_time": "2022-05-23T09:32:19.165Z"
   },
   {
    "duration": 11,
    "start_time": "2022-05-23T09:32:19.442Z"
   },
   {
    "duration": 4,
    "start_time": "2022-05-23T09:32:19.455Z"
   },
   {
    "duration": 34,
    "start_time": "2022-05-23T09:32:19.461Z"
   },
   {
    "duration": 43,
    "start_time": "2022-05-23T09:32:19.499Z"
   },
   {
    "duration": 136,
    "start_time": "2022-05-23T09:32:19.544Z"
   },
   {
    "duration": 7,
    "start_time": "2022-05-23T09:32:19.682Z"
   },
   {
    "duration": 12,
    "start_time": "2022-05-23T09:32:19.691Z"
   },
   {
    "duration": 12,
    "start_time": "2022-05-23T09:32:19.705Z"
   },
   {
    "duration": 37,
    "start_time": "2022-05-23T09:32:19.719Z"
   },
   {
    "duration": 12,
    "start_time": "2022-05-23T09:32:19.758Z"
   },
   {
    "duration": 21,
    "start_time": "2022-05-23T09:32:19.772Z"
   },
   {
    "duration": 31,
    "start_time": "2022-05-23T09:32:19.795Z"
   },
   {
    "duration": 19,
    "start_time": "2022-05-23T09:32:19.842Z"
   },
   {
    "duration": 78,
    "start_time": "2022-05-23T09:32:19.864Z"
   },
   {
    "duration": 35,
    "start_time": "2022-05-23T09:32:19.947Z"
   },
   {
    "duration": 288,
    "start_time": "2022-05-23T09:32:19.985Z"
   },
   {
    "duration": 26,
    "start_time": "2022-05-23T09:32:20.275Z"
   },
   {
    "duration": 73,
    "start_time": "2022-05-23T09:32:20.303Z"
   },
   {
    "duration": 128,
    "start_time": "2022-05-23T09:32:20.378Z"
   },
   {
    "duration": 0,
    "start_time": "2022-05-23T09:32:20.508Z"
   },
   {
    "duration": 0,
    "start_time": "2022-05-23T09:32:20.510Z"
   },
   {
    "duration": 0,
    "start_time": "2022-05-23T09:32:20.511Z"
   },
   {
    "duration": 0,
    "start_time": "2022-05-23T09:32:20.512Z"
   },
   {
    "duration": 0,
    "start_time": "2022-05-23T09:32:20.513Z"
   },
   {
    "duration": 0,
    "start_time": "2022-05-23T09:32:20.514Z"
   },
   {
    "duration": 0,
    "start_time": "2022-05-23T09:32:20.515Z"
   },
   {
    "duration": 0,
    "start_time": "2022-05-23T09:32:20.516Z"
   },
   {
    "duration": 0,
    "start_time": "2022-05-23T09:32:20.518Z"
   },
   {
    "duration": 0,
    "start_time": "2022-05-23T09:32:20.519Z"
   },
   {
    "duration": 0,
    "start_time": "2022-05-23T09:32:20.520Z"
   },
   {
    "duration": 0,
    "start_time": "2022-05-23T09:32:20.543Z"
   },
   {
    "duration": 0,
    "start_time": "2022-05-23T09:32:20.544Z"
   },
   {
    "duration": 0,
    "start_time": "2022-05-23T09:32:20.546Z"
   },
   {
    "duration": 0,
    "start_time": "2022-05-23T09:32:20.547Z"
   },
   {
    "duration": 0,
    "start_time": "2022-05-23T09:32:20.548Z"
   },
   {
    "duration": 0,
    "start_time": "2022-05-23T09:32:20.549Z"
   },
   {
    "duration": 0,
    "start_time": "2022-05-23T09:32:20.550Z"
   },
   {
    "duration": 0,
    "start_time": "2022-05-23T09:32:20.552Z"
   },
   {
    "duration": 0,
    "start_time": "2022-05-23T09:32:20.553Z"
   },
   {
    "duration": 0,
    "start_time": "2022-05-23T09:32:20.554Z"
   },
   {
    "duration": 0,
    "start_time": "2022-05-23T09:32:20.555Z"
   },
   {
    "duration": 0,
    "start_time": "2022-05-23T09:32:20.556Z"
   },
   {
    "duration": 0,
    "start_time": "2022-05-23T09:32:20.557Z"
   },
   {
    "duration": 0,
    "start_time": "2022-05-23T09:32:20.558Z"
   },
   {
    "duration": 0,
    "start_time": "2022-05-23T09:32:20.560Z"
   },
   {
    "duration": 1325,
    "start_time": "2022-05-23T09:33:06.698Z"
   },
   {
    "duration": 3,
    "start_time": "2022-05-23T09:33:08.025Z"
   },
   {
    "duration": 155,
    "start_time": "2022-05-23T09:33:08.041Z"
   },
   {
    "duration": 30,
    "start_time": "2022-05-23T09:33:08.199Z"
   },
   {
    "duration": 24,
    "start_time": "2022-05-23T09:33:08.242Z"
   },
   {
    "duration": 12,
    "start_time": "2022-05-23T09:33:08.267Z"
   },
   {
    "duration": 15,
    "start_time": "2022-05-23T09:33:08.281Z"
   },
   {
    "duration": 16,
    "start_time": "2022-05-23T09:33:08.297Z"
   },
   {
    "duration": 8,
    "start_time": "2022-05-23T09:33:08.314Z"
   },
   {
    "duration": 8,
    "start_time": "2022-05-23T09:33:08.342Z"
   },
   {
    "duration": 16,
    "start_time": "2022-05-23T09:33:08.352Z"
   },
   {
    "duration": 19,
    "start_time": "2022-05-23T09:33:08.369Z"
   },
   {
    "duration": 10,
    "start_time": "2022-05-23T09:33:08.389Z"
   },
   {
    "duration": 41,
    "start_time": "2022-05-23T09:33:08.401Z"
   },
   {
    "duration": 23,
    "start_time": "2022-05-23T09:33:08.444Z"
   },
   {
    "duration": 29,
    "start_time": "2022-05-23T09:33:08.469Z"
   },
   {
    "duration": 26,
    "start_time": "2022-05-23T09:33:08.500Z"
   },
   {
    "duration": 45,
    "start_time": "2022-05-23T09:33:08.541Z"
   },
   {
    "duration": 69,
    "start_time": "2022-05-23T09:33:08.587Z"
   },
   {
    "duration": 18,
    "start_time": "2022-05-23T09:33:08.658Z"
   },
   {
    "duration": 6,
    "start_time": "2022-05-23T09:33:08.678Z"
   },
   {
    "duration": 24,
    "start_time": "2022-05-23T09:33:08.686Z"
   },
   {
    "duration": 105,
    "start_time": "2022-05-23T09:33:08.711Z"
   },
   {
    "duration": 169,
    "start_time": "2022-05-23T09:33:08.818Z"
   },
   {
    "duration": 9,
    "start_time": "2022-05-23T09:33:08.989Z"
   },
   {
    "duration": 3,
    "start_time": "2022-05-23T09:33:09.000Z"
   },
   {
    "duration": 52,
    "start_time": "2022-05-23T09:33:09.005Z"
   },
   {
    "duration": 99,
    "start_time": "2022-05-23T09:33:09.061Z"
   },
   {
    "duration": 140,
    "start_time": "2022-05-23T09:33:09.161Z"
   },
   {
    "duration": 9,
    "start_time": "2022-05-23T09:33:09.303Z"
   },
   {
    "duration": 24,
    "start_time": "2022-05-23T09:33:09.314Z"
   },
   {
    "duration": 17,
    "start_time": "2022-05-23T09:33:09.342Z"
   },
   {
    "duration": 34,
    "start_time": "2022-05-23T09:33:09.362Z"
   },
   {
    "duration": 10,
    "start_time": "2022-05-23T09:33:09.399Z"
   },
   {
    "duration": 34,
    "start_time": "2022-05-23T09:33:09.411Z"
   },
   {
    "duration": 20,
    "start_time": "2022-05-23T09:33:09.448Z"
   },
   {
    "duration": 18,
    "start_time": "2022-05-23T09:33:09.469Z"
   },
   {
    "duration": 67,
    "start_time": "2022-05-23T09:33:09.489Z"
   },
   {
    "duration": 28,
    "start_time": "2022-05-23T09:33:09.557Z"
   },
   {
    "duration": 259,
    "start_time": "2022-05-23T09:33:09.587Z"
   },
   {
    "duration": 28,
    "start_time": "2022-05-23T09:33:09.849Z"
   },
   {
    "duration": 86,
    "start_time": "2022-05-23T09:33:09.879Z"
   },
   {
    "duration": 8,
    "start_time": "2022-05-23T09:33:09.968Z"
   },
   {
    "duration": 27,
    "start_time": "2022-05-23T09:33:09.979Z"
   },
   {
    "duration": 75,
    "start_time": "2022-05-23T09:33:10.008Z"
   },
   {
    "duration": 230,
    "start_time": "2022-05-23T09:33:10.085Z"
   },
   {
    "duration": 53,
    "start_time": "2022-05-23T09:33:10.317Z"
   },
   {
    "duration": 234,
    "start_time": "2022-05-23T09:33:10.371Z"
   },
   {
    "duration": 7,
    "start_time": "2022-05-23T09:33:10.607Z"
   },
   {
    "duration": 36,
    "start_time": "2022-05-23T09:33:10.616Z"
   },
   {
    "duration": 38,
    "start_time": "2022-05-23T09:33:10.654Z"
   },
   {
    "duration": 18,
    "start_time": "2022-05-23T09:33:10.694Z"
   },
   {
    "duration": 34,
    "start_time": "2022-05-23T09:33:10.714Z"
   },
   {
    "duration": 285,
    "start_time": "2022-05-23T09:33:10.750Z"
   },
   {
    "duration": 446,
    "start_time": "2022-05-23T09:33:11.037Z"
   },
   {
    "duration": 22,
    "start_time": "2022-05-23T09:33:11.485Z"
   },
   {
    "duration": 59,
    "start_time": "2022-05-23T09:33:11.509Z"
   },
   {
    "duration": 46,
    "start_time": "2022-05-23T09:33:11.570Z"
   },
   {
    "duration": 146,
    "start_time": "2022-05-23T09:33:11.618Z"
   },
   {
    "duration": 30,
    "start_time": "2022-05-23T09:33:11.766Z"
   },
   {
    "duration": 7,
    "start_time": "2022-05-23T09:33:11.797Z"
   },
   {
    "duration": 35,
    "start_time": "2022-05-23T09:33:11.806Z"
   },
   {
    "duration": 40,
    "start_time": "2022-05-23T09:33:11.844Z"
   },
   {
    "duration": 57,
    "start_time": "2022-05-23T09:33:11.886Z"
   },
   {
    "duration": 38,
    "start_time": "2022-05-23T09:33:11.945Z"
   },
   {
    "duration": 6,
    "start_time": "2022-05-23T09:33:11.984Z"
   },
   {
    "duration": 9,
    "start_time": "2022-05-23T09:33:11.992Z"
   },
   {
    "duration": 64,
    "start_time": "2022-05-23T09:33:12.003Z"
   },
   {
    "duration": 39,
    "start_time": "2022-05-23T09:33:12.069Z"
   },
   {
    "duration": 5,
    "start_time": "2022-05-23T09:33:40.273Z"
   },
   {
    "duration": 8601,
    "start_time": "2022-05-23T09:35:12.782Z"
   },
   {
    "duration": 5,
    "start_time": "2022-05-23T09:35:42.052Z"
   },
   {
    "duration": 7,
    "start_time": "2022-05-23T09:39:03.569Z"
   },
   {
    "duration": 5,
    "start_time": "2022-05-23T10:24:54.089Z"
   },
   {
    "duration": 5,
    "start_time": "2022-05-23T10:26:12.465Z"
   },
   {
    "duration": 6,
    "start_time": "2022-05-23T10:26:27.626Z"
   },
   {
    "duration": 5,
    "start_time": "2022-05-23T11:35:44.042Z"
   },
   {
    "duration": 5,
    "start_time": "2022-05-23T11:35:53.636Z"
   },
   {
    "duration": 5,
    "start_time": "2022-05-23T11:40:19.316Z"
   },
   {
    "duration": 5,
    "start_time": "2022-05-23T11:40:22.792Z"
   },
   {
    "duration": 650,
    "start_time": "2022-05-23T11:42:26.870Z"
   },
   {
    "duration": 5,
    "start_time": "2022-05-23T11:42:58.268Z"
   },
   {
    "duration": 5,
    "start_time": "2022-05-23T12:05:49.543Z"
   },
   {
    "duration": 5,
    "start_time": "2022-05-23T12:06:01.431Z"
   },
   {
    "duration": 4,
    "start_time": "2022-05-23T12:06:09.645Z"
   },
   {
    "duration": 5,
    "start_time": "2022-05-23T12:57:49.070Z"
   },
   {
    "duration": 36,
    "start_time": "2022-05-23T12:58:01.465Z"
   },
   {
    "duration": 6,
    "start_time": "2022-05-23T12:58:07.001Z"
   },
   {
    "duration": 5,
    "start_time": "2022-05-23T12:58:12.492Z"
   },
   {
    "duration": 5,
    "start_time": "2022-05-23T13:03:32.852Z"
   },
   {
    "duration": 6,
    "start_time": "2022-05-23T13:04:06.520Z"
   },
   {
    "duration": 5,
    "start_time": "2022-05-23T13:04:23.808Z"
   },
   {
    "duration": 5,
    "start_time": "2022-05-23T13:04:35.166Z"
   },
   {
    "duration": 5,
    "start_time": "2022-05-23T13:16:14.539Z"
   },
   {
    "duration": 5,
    "start_time": "2022-05-23T13:16:39.587Z"
   },
   {
    "duration": 5,
    "start_time": "2022-05-23T13:16:53.668Z"
   },
   {
    "duration": 47,
    "start_time": "2022-05-23T13:18:38.912Z"
   },
   {
    "duration": 10,
    "start_time": "2022-05-23T13:21:08.818Z"
   },
   {
    "duration": 3,
    "start_time": "2022-05-23T13:21:41.007Z"
   },
   {
    "duration": 9,
    "start_time": "2022-05-23T13:22:04.075Z"
   },
   {
    "duration": 5,
    "start_time": "2022-05-23T13:22:39.184Z"
   },
   {
    "duration": 16,
    "start_time": "2022-05-23T13:22:40.700Z"
   },
   {
    "duration": 5,
    "start_time": "2022-05-23T13:23:00.480Z"
   },
   {
    "duration": 5,
    "start_time": "2022-05-23T13:23:13.584Z"
   },
   {
    "duration": 6,
    "start_time": "2022-05-23T13:23:38.523Z"
   },
   {
    "duration": 5,
    "start_time": "2022-05-23T13:23:39.427Z"
   },
   {
    "duration": 8,
    "start_time": "2022-05-23T13:25:15.802Z"
   },
   {
    "duration": 3,
    "start_time": "2022-05-23T13:25:32.283Z"
   },
   {
    "duration": 6,
    "start_time": "2022-05-23T13:26:09.103Z"
   },
   {
    "duration": 6,
    "start_time": "2022-05-23T13:26:10.745Z"
   },
   {
    "duration": 6,
    "start_time": "2022-05-23T13:27:17.112Z"
   },
   {
    "duration": 5,
    "start_time": "2022-05-23T13:27:35.653Z"
   },
   {
    "duration": 5,
    "start_time": "2022-05-23T13:28:50.566Z"
   },
   {
    "duration": 6,
    "start_time": "2022-05-23T13:39:00.786Z"
   },
   {
    "duration": 5,
    "start_time": "2022-05-23T13:39:07.757Z"
   },
   {
    "duration": 5,
    "start_time": "2022-05-23T13:39:14.576Z"
   },
   {
    "duration": 30,
    "start_time": "2022-05-23T13:40:47.394Z"
   },
   {
    "duration": 1257,
    "start_time": "2022-05-23T13:40:52.454Z"
   },
   {
    "duration": 3,
    "start_time": "2022-05-23T13:40:53.713Z"
   },
   {
    "duration": 140,
    "start_time": "2022-05-23T13:40:53.718Z"
   },
   {
    "duration": 26,
    "start_time": "2022-05-23T13:40:53.859Z"
   },
   {
    "duration": 24,
    "start_time": "2022-05-23T13:40:53.887Z"
   },
   {
    "duration": 14,
    "start_time": "2022-05-23T13:40:53.913Z"
   },
   {
    "duration": 13,
    "start_time": "2022-05-23T13:40:53.929Z"
   },
   {
    "duration": 14,
    "start_time": "2022-05-23T13:40:53.943Z"
   },
   {
    "duration": 12,
    "start_time": "2022-05-23T13:40:53.958Z"
   },
   {
    "duration": 9,
    "start_time": "2022-05-23T13:40:53.973Z"
   },
   {
    "duration": 17,
    "start_time": "2022-05-23T13:40:53.984Z"
   },
   {
    "duration": 17,
    "start_time": "2022-05-23T13:40:54.003Z"
   },
   {
    "duration": 25,
    "start_time": "2022-05-23T13:40:54.022Z"
   },
   {
    "duration": 12,
    "start_time": "2022-05-23T13:40:54.049Z"
   },
   {
    "duration": 17,
    "start_time": "2022-05-23T13:40:54.063Z"
   },
   {
    "duration": 27,
    "start_time": "2022-05-23T13:40:54.081Z"
   },
   {
    "duration": 45,
    "start_time": "2022-05-23T13:40:54.110Z"
   },
   {
    "duration": 42,
    "start_time": "2022-05-23T13:40:54.157Z"
   },
   {
    "duration": 68,
    "start_time": "2022-05-23T13:40:54.201Z"
   },
   {
    "duration": 16,
    "start_time": "2022-05-23T13:40:54.271Z"
   },
   {
    "duration": 6,
    "start_time": "2022-05-23T13:40:54.289Z"
   },
   {
    "duration": 20,
    "start_time": "2022-05-23T13:40:54.297Z"
   },
   {
    "duration": 89,
    "start_time": "2022-05-23T13:40:54.319Z"
   },
   {
    "duration": 162,
    "start_time": "2022-05-23T13:40:54.410Z"
   },
   {
    "duration": 10,
    "start_time": "2022-05-23T13:40:54.573Z"
   },
   {
    "duration": 4,
    "start_time": "2022-05-23T13:40:54.584Z"
   },
   {
    "duration": 32,
    "start_time": "2022-05-23T13:40:54.590Z"
   },
   {
    "duration": 12,
    "start_time": "2022-05-23T13:40:54.709Z"
   },
   {
    "duration": 124,
    "start_time": "2022-05-23T13:40:54.723Z"
   },
   {
    "duration": 6,
    "start_time": "2022-05-23T13:40:54.849Z"
   },
   {
    "duration": 7,
    "start_time": "2022-05-23T13:40:54.857Z"
   },
   {
    "duration": 10,
    "start_time": "2022-05-23T13:40:54.866Z"
   },
   {
    "duration": 19,
    "start_time": "2022-05-23T13:40:54.878Z"
   },
   {
    "duration": 9,
    "start_time": "2022-05-23T13:40:54.898Z"
   },
   {
    "duration": 15,
    "start_time": "2022-05-23T13:40:54.942Z"
   },
   {
    "duration": 20,
    "start_time": "2022-05-23T13:40:54.958Z"
   },
   {
    "duration": 20,
    "start_time": "2022-05-23T13:40:54.979Z"
   },
   {
    "duration": 61,
    "start_time": "2022-05-23T13:40:55.000Z"
   },
   {
    "duration": 26,
    "start_time": "2022-05-23T13:40:55.063Z"
   },
   {
    "duration": 234,
    "start_time": "2022-05-23T13:40:55.091Z"
   },
   {
    "duration": 32,
    "start_time": "2022-05-23T13:40:55.327Z"
   },
   {
    "duration": 51,
    "start_time": "2022-05-23T13:40:55.361Z"
   },
   {
    "duration": 5,
    "start_time": "2022-05-23T13:40:55.414Z"
   },
   {
    "duration": 36,
    "start_time": "2022-05-23T13:40:55.421Z"
   },
   {
    "duration": 47,
    "start_time": "2022-05-23T13:40:55.458Z"
   },
   {
    "duration": 223,
    "start_time": "2022-05-23T13:40:55.507Z"
   },
   {
    "duration": 48,
    "start_time": "2022-05-23T13:40:55.732Z"
   },
   {
    "duration": 216,
    "start_time": "2022-05-23T13:40:55.782Z"
   },
   {
    "duration": 6,
    "start_time": "2022-05-23T13:40:56.000Z"
   },
   {
    "duration": 19,
    "start_time": "2022-05-23T13:40:56.008Z"
   },
   {
    "duration": 46,
    "start_time": "2022-05-23T13:40:56.029Z"
   },
   {
    "duration": 15,
    "start_time": "2022-05-23T13:40:56.076Z"
   },
   {
    "duration": 12,
    "start_time": "2022-05-23T13:40:56.093Z"
   },
   {
    "duration": 230,
    "start_time": "2022-05-23T13:40:56.106Z"
   },
   {
    "duration": 394,
    "start_time": "2022-05-23T13:40:56.338Z"
   },
   {
    "duration": 24,
    "start_time": "2022-05-23T13:40:56.733Z"
   },
   {
    "duration": 44,
    "start_time": "2022-05-23T13:40:56.759Z"
   },
   {
    "duration": 73,
    "start_time": "2022-05-23T13:40:56.805Z"
   },
   {
    "duration": 136,
    "start_time": "2022-05-23T13:40:56.880Z"
   },
   {
    "duration": 0,
    "start_time": "2022-05-23T13:40:57.018Z"
   },
   {
    "duration": 0,
    "start_time": "2022-05-23T13:40:57.019Z"
   },
   {
    "duration": 0,
    "start_time": "2022-05-23T13:40:57.021Z"
   },
   {
    "duration": 0,
    "start_time": "2022-05-23T13:40:57.022Z"
   },
   {
    "duration": 0,
    "start_time": "2022-05-23T13:40:57.042Z"
   },
   {
    "duration": 0,
    "start_time": "2022-05-23T13:40:57.044Z"
   },
   {
    "duration": 0,
    "start_time": "2022-05-23T13:40:57.046Z"
   },
   {
    "duration": 0,
    "start_time": "2022-05-23T13:40:57.047Z"
   },
   {
    "duration": 0,
    "start_time": "2022-05-23T13:40:57.048Z"
   },
   {
    "duration": 0,
    "start_time": "2022-05-23T13:40:57.050Z"
   },
   {
    "duration": 0,
    "start_time": "2022-05-23T13:40:57.053Z"
   },
   {
    "duration": 0,
    "start_time": "2022-05-23T13:40:57.054Z"
   },
   {
    "duration": 0,
    "start_time": "2022-05-23T13:40:57.056Z"
   },
   {
    "duration": 0,
    "start_time": "2022-05-23T13:40:57.057Z"
   },
   {
    "duration": 0,
    "start_time": "2022-05-23T13:40:57.059Z"
   },
   {
    "duration": 0,
    "start_time": "2022-05-23T13:40:57.060Z"
   },
   {
    "duration": 0,
    "start_time": "2022-05-23T13:40:57.061Z"
   },
   {
    "duration": 0,
    "start_time": "2022-05-23T13:40:57.062Z"
   },
   {
    "duration": 29,
    "start_time": "2022-05-23T13:41:51.005Z"
   },
   {
    "duration": 1224,
    "start_time": "2022-05-23T13:41:56.791Z"
   },
   {
    "duration": 3,
    "start_time": "2022-05-23T13:41:58.017Z"
   },
   {
    "duration": 128,
    "start_time": "2022-05-23T13:41:58.021Z"
   },
   {
    "duration": 25,
    "start_time": "2022-05-23T13:41:58.152Z"
   },
   {
    "duration": 25,
    "start_time": "2022-05-23T13:41:58.178Z"
   },
   {
    "duration": 10,
    "start_time": "2022-05-23T13:41:58.205Z"
   },
   {
    "duration": 7,
    "start_time": "2022-05-23T13:41:58.217Z"
   },
   {
    "duration": 24,
    "start_time": "2022-05-23T13:41:58.226Z"
   },
   {
    "duration": 6,
    "start_time": "2022-05-23T13:41:58.252Z"
   },
   {
    "duration": 12,
    "start_time": "2022-05-23T13:41:58.261Z"
   },
   {
    "duration": 17,
    "start_time": "2022-05-23T13:41:58.275Z"
   },
   {
    "duration": 16,
    "start_time": "2022-05-23T13:41:58.294Z"
   },
   {
    "duration": 7,
    "start_time": "2022-05-23T13:41:58.312Z"
   },
   {
    "duration": 33,
    "start_time": "2022-05-23T13:41:58.320Z"
   },
   {
    "duration": 15,
    "start_time": "2022-05-23T13:41:58.356Z"
   },
   {
    "duration": 28,
    "start_time": "2022-05-23T13:41:58.372Z"
   },
   {
    "duration": 47,
    "start_time": "2022-05-23T13:41:58.402Z"
   },
   {
    "duration": 42,
    "start_time": "2022-05-23T13:41:58.451Z"
   },
   {
    "duration": 72,
    "start_time": "2022-05-23T13:41:58.494Z"
   },
   {
    "duration": 17,
    "start_time": "2022-05-23T13:41:58.568Z"
   },
   {
    "duration": 7,
    "start_time": "2022-05-23T13:41:58.587Z"
   },
   {
    "duration": 30,
    "start_time": "2022-05-23T13:41:58.595Z"
   },
   {
    "duration": 84,
    "start_time": "2022-05-23T13:41:58.642Z"
   },
   {
    "duration": 170,
    "start_time": "2022-05-23T13:41:58.728Z"
   },
   {
    "duration": 10,
    "start_time": "2022-05-23T13:41:58.900Z"
   },
   {
    "duration": 3,
    "start_time": "2022-05-23T13:41:58.911Z"
   },
   {
    "duration": 48,
    "start_time": "2022-05-23T13:41:58.916Z"
   },
   {
    "duration": 12,
    "start_time": "2022-05-23T13:41:59.045Z"
   },
   {
    "duration": 136,
    "start_time": "2022-05-23T13:41:59.059Z"
   },
   {
    "duration": 7,
    "start_time": "2022-05-23T13:41:59.197Z"
   },
   {
    "duration": 6,
    "start_time": "2022-05-23T13:41:59.206Z"
   },
   {
    "duration": 29,
    "start_time": "2022-05-23T13:41:59.214Z"
   },
   {
    "duration": 18,
    "start_time": "2022-05-23T13:41:59.245Z"
   },
   {
    "duration": 9,
    "start_time": "2022-05-23T13:41:59.265Z"
   },
   {
    "duration": 17,
    "start_time": "2022-05-23T13:41:59.275Z"
   },
   {
    "duration": 16,
    "start_time": "2022-05-23T13:41:59.293Z"
   },
   {
    "duration": 38,
    "start_time": "2022-05-23T13:41:59.311Z"
   },
   {
    "duration": 49,
    "start_time": "2022-05-23T13:41:59.350Z"
   },
   {
    "duration": 41,
    "start_time": "2022-05-23T13:41:59.401Z"
   },
   {
    "duration": 224,
    "start_time": "2022-05-23T13:41:59.444Z"
   },
   {
    "duration": 23,
    "start_time": "2022-05-23T13:41:59.669Z"
   },
   {
    "duration": 66,
    "start_time": "2022-05-23T13:41:59.693Z"
   },
   {
    "duration": 5,
    "start_time": "2022-05-23T13:41:59.761Z"
   },
   {
    "duration": 22,
    "start_time": "2022-05-23T13:41:59.767Z"
   },
   {
    "duration": 67,
    "start_time": "2022-05-23T13:41:59.791Z"
   },
   {
    "duration": 242,
    "start_time": "2022-05-23T13:41:59.860Z"
   },
   {
    "duration": 54,
    "start_time": "2022-05-23T13:42:00.104Z"
   },
   {
    "duration": 224,
    "start_time": "2022-05-23T13:42:00.161Z"
   },
   {
    "duration": 6,
    "start_time": "2022-05-23T13:42:00.387Z"
   },
   {
    "duration": 23,
    "start_time": "2022-05-23T13:42:00.395Z"
   },
   {
    "duration": 46,
    "start_time": "2022-05-23T13:42:00.420Z"
   },
   {
    "duration": 14,
    "start_time": "2022-05-23T13:42:00.468Z"
   },
   {
    "duration": 12,
    "start_time": "2022-05-23T13:42:00.484Z"
   },
   {
    "duration": 231,
    "start_time": "2022-05-23T13:42:00.498Z"
   },
   {
    "duration": 415,
    "start_time": "2022-05-23T13:42:00.730Z"
   },
   {
    "duration": 27,
    "start_time": "2022-05-23T13:42:01.147Z"
   },
   {
    "duration": 41,
    "start_time": "2022-05-23T13:42:01.176Z"
   },
   {
    "duration": 66,
    "start_time": "2022-05-23T13:42:01.218Z"
   },
   {
    "duration": 112,
    "start_time": "2022-05-23T13:42:01.285Z"
   },
   {
    "duration": 48,
    "start_time": "2022-05-23T13:42:01.399Z"
   },
   {
    "duration": 6,
    "start_time": "2022-05-23T13:42:01.449Z"
   },
   {
    "duration": 9,
    "start_time": "2022-05-23T13:42:01.457Z"
   },
   {
    "duration": 11,
    "start_time": "2022-05-23T13:42:01.468Z"
   },
   {
    "duration": 7,
    "start_time": "2022-05-23T13:42:01.481Z"
   },
   {
    "duration": 11,
    "start_time": "2022-05-23T13:42:01.490Z"
   },
   {
    "duration": 48,
    "start_time": "2022-05-23T13:42:01.503Z"
   },
   {
    "duration": 33,
    "start_time": "2022-05-23T13:42:01.553Z"
   },
   {
    "duration": 53,
    "start_time": "2022-05-23T13:42:01.588Z"
   },
   {
    "duration": 5,
    "start_time": "2022-05-23T13:42:01.643Z"
   },
   {
    "duration": 17,
    "start_time": "2022-05-23T13:42:01.650Z"
   },
   {
    "duration": 52,
    "start_time": "2022-05-23T13:42:01.669Z"
   },
   {
    "duration": 40,
    "start_time": "2022-05-23T13:42:01.724Z"
   },
   {
    "duration": 50,
    "start_time": "2022-05-23T13:42:01.766Z"
   },
   {
    "duration": 6,
    "start_time": "2022-05-23T13:42:01.818Z"
   },
   {
    "duration": 19,
    "start_time": "2022-05-23T13:42:01.841Z"
   },
   {
    "duration": 17,
    "start_time": "2022-05-23T13:42:01.862Z"
   },
   {
    "duration": 14,
    "start_time": "2022-05-23T13:42:01.881Z"
   },
   {
    "duration": 1141,
    "start_time": "2022-05-23T13:48:50.781Z"
   },
   {
    "duration": 3,
    "start_time": "2022-05-23T13:48:51.924Z"
   },
   {
    "duration": 138,
    "start_time": "2022-05-23T13:48:51.929Z"
   },
   {
    "duration": 25,
    "start_time": "2022-05-23T13:48:52.069Z"
   },
   {
    "duration": 23,
    "start_time": "2022-05-23T13:48:52.096Z"
   },
   {
    "duration": 25,
    "start_time": "2022-05-23T13:48:52.120Z"
   },
   {
    "duration": 11,
    "start_time": "2022-05-23T13:48:52.146Z"
   },
   {
    "duration": 14,
    "start_time": "2022-05-23T13:48:52.159Z"
   },
   {
    "duration": 7,
    "start_time": "2022-05-23T13:48:52.174Z"
   },
   {
    "duration": 14,
    "start_time": "2022-05-23T13:48:52.183Z"
   },
   {
    "duration": 19,
    "start_time": "2022-05-23T13:48:52.198Z"
   },
   {
    "duration": 25,
    "start_time": "2022-05-23T13:48:52.219Z"
   },
   {
    "duration": 9,
    "start_time": "2022-05-23T13:48:52.245Z"
   },
   {
    "duration": 12,
    "start_time": "2022-05-23T13:48:52.255Z"
   },
   {
    "duration": 32,
    "start_time": "2022-05-23T13:48:52.271Z"
   },
   {
    "duration": 36,
    "start_time": "2022-05-23T13:48:52.305Z"
   },
   {
    "duration": 24,
    "start_time": "2022-05-23T13:48:52.343Z"
   },
   {
    "duration": 44,
    "start_time": "2022-05-23T13:48:52.369Z"
   },
   {
    "duration": 70,
    "start_time": "2022-05-23T13:48:52.414Z"
   },
   {
    "duration": 18,
    "start_time": "2022-05-23T13:48:52.485Z"
   },
   {
    "duration": 6,
    "start_time": "2022-05-23T13:48:52.505Z"
   },
   {
    "duration": 39,
    "start_time": "2022-05-23T13:48:52.513Z"
   },
   {
    "duration": 100,
    "start_time": "2022-05-23T13:48:52.554Z"
   },
   {
    "duration": 177,
    "start_time": "2022-05-23T13:48:52.656Z"
   },
   {
    "duration": 13,
    "start_time": "2022-05-23T13:48:52.835Z"
   },
   {
    "duration": 5,
    "start_time": "2022-05-23T13:48:52.850Z"
   },
   {
    "duration": 30,
    "start_time": "2022-05-23T13:48:52.857Z"
   },
   {
    "duration": 13,
    "start_time": "2022-05-23T13:48:52.980Z"
   },
   {
    "duration": 126,
    "start_time": "2022-05-23T13:48:52.994Z"
   },
   {
    "duration": 7,
    "start_time": "2022-05-23T13:48:53.121Z"
   },
   {
    "duration": 16,
    "start_time": "2022-05-23T13:48:53.129Z"
   },
   {
    "duration": 17,
    "start_time": "2022-05-23T13:48:53.147Z"
   },
   {
    "duration": 23,
    "start_time": "2022-05-23T13:48:53.165Z"
   },
   {
    "duration": 8,
    "start_time": "2022-05-23T13:48:53.190Z"
   },
   {
    "duration": 26,
    "start_time": "2022-05-23T13:48:53.200Z"
   },
   {
    "duration": 23,
    "start_time": "2022-05-23T13:48:53.227Z"
   },
   {
    "duration": 25,
    "start_time": "2022-05-23T13:48:53.252Z"
   },
   {
    "duration": 49,
    "start_time": "2022-05-23T13:48:53.279Z"
   },
   {
    "duration": 33,
    "start_time": "2022-05-23T13:48:53.329Z"
   },
   {
    "duration": 224,
    "start_time": "2022-05-23T13:48:53.364Z"
   },
   {
    "duration": 24,
    "start_time": "2022-05-23T13:48:53.589Z"
   },
   {
    "duration": 66,
    "start_time": "2022-05-23T13:48:53.615Z"
   },
   {
    "duration": 5,
    "start_time": "2022-05-23T13:48:53.683Z"
   },
   {
    "duration": 30,
    "start_time": "2022-05-23T13:48:53.689Z"
   },
   {
    "duration": 56,
    "start_time": "2022-05-23T13:48:53.721Z"
   },
   {
    "duration": 213,
    "start_time": "2022-05-23T13:48:53.779Z"
   },
   {
    "duration": 51,
    "start_time": "2022-05-23T13:48:53.993Z"
   },
   {
    "duration": 212,
    "start_time": "2022-05-23T13:48:54.046Z"
   },
   {
    "duration": 6,
    "start_time": "2022-05-23T13:48:54.260Z"
   },
   {
    "duration": 23,
    "start_time": "2022-05-23T13:48:54.267Z"
   },
   {
    "duration": 35,
    "start_time": "2022-05-23T13:48:54.291Z"
   },
   {
    "duration": 16,
    "start_time": "2022-05-23T13:48:54.342Z"
   },
   {
    "duration": 10,
    "start_time": "2022-05-23T13:48:54.359Z"
   },
   {
    "duration": 218,
    "start_time": "2022-05-23T13:48:54.371Z"
   },
   {
    "duration": 383,
    "start_time": "2022-05-23T13:48:54.591Z"
   },
   {
    "duration": 23,
    "start_time": "2022-05-23T13:48:54.975Z"
   },
   {
    "duration": 56,
    "start_time": "2022-05-23T13:48:55.000Z"
   },
   {
    "duration": 46,
    "start_time": "2022-05-23T13:48:55.058Z"
   },
   {
    "duration": 139,
    "start_time": "2022-05-23T13:48:55.106Z"
   },
   {
    "duration": 5,
    "start_time": "2022-05-23T13:48:55.247Z"
   },
   {
    "duration": 39,
    "start_time": "2022-05-23T13:48:55.254Z"
   },
   {
    "duration": 4,
    "start_time": "2022-05-23T13:48:55.295Z"
   },
   {
    "duration": 13,
    "start_time": "2022-05-23T13:48:55.301Z"
   },
   {
    "duration": 11,
    "start_time": "2022-05-23T13:48:55.316Z"
   },
   {
    "duration": 9,
    "start_time": "2022-05-23T13:48:55.329Z"
   },
   {
    "duration": 32,
    "start_time": "2022-05-23T13:48:55.340Z"
   },
   {
    "duration": 31,
    "start_time": "2022-05-23T13:48:55.374Z"
   },
   {
    "duration": 56,
    "start_time": "2022-05-23T13:48:55.407Z"
   },
   {
    "duration": 5,
    "start_time": "2022-05-23T13:48:55.465Z"
   },
   {
    "duration": 11,
    "start_time": "2022-05-23T13:48:55.472Z"
   },
   {
    "duration": 11,
    "start_time": "2022-05-23T13:48:55.485Z"
   },
   {
    "duration": 50,
    "start_time": "2022-05-23T13:48:55.498Z"
   },
   {
    "duration": 31,
    "start_time": "2022-05-23T13:48:55.550Z"
   },
   {
    "duration": 65,
    "start_time": "2022-05-23T13:48:55.582Z"
   },
   {
    "duration": 5,
    "start_time": "2022-05-23T13:48:55.649Z"
   },
   {
    "duration": 4,
    "start_time": "2022-05-23T15:30:46.104Z"
   },
   {
    "duration": 223,
    "start_time": "2022-05-23T15:31:34.399Z"
   },
   {
    "duration": 188,
    "start_time": "2022-05-23T15:31:47.963Z"
   },
   {
    "duration": 422,
    "start_time": "2022-05-23T15:32:03.579Z"
   },
   {
    "duration": 363,
    "start_time": "2022-05-23T15:32:21.015Z"
   },
   {
    "duration": 68,
    "start_time": "2022-05-23T15:33:12.883Z"
   },
   {
    "duration": 36,
    "start_time": "2022-05-23T15:34:02.879Z"
   },
   {
    "duration": 35,
    "start_time": "2022-05-23T15:34:23.919Z"
   },
   {
    "duration": 55,
    "start_time": "2022-05-23T15:34:36.396Z"
   },
   {
    "duration": 34,
    "start_time": "2022-05-23T15:34:58.662Z"
   },
   {
    "duration": 422,
    "start_time": "2022-05-23T15:35:09.398Z"
   },
   {
    "duration": 256,
    "start_time": "2022-05-23T15:35:14.658Z"
   },
   {
    "duration": 41,
    "start_time": "2022-05-23T15:36:17.550Z"
   },
   {
    "duration": 5,
    "start_time": "2022-05-23T15:37:37.593Z"
   },
   {
    "duration": 12,
    "start_time": "2022-05-23T15:37:50.338Z"
   },
   {
    "duration": 107,
    "start_time": "2022-05-23T15:38:40.658Z"
   },
   {
    "duration": 43,
    "start_time": "2022-05-23T15:38:47.204Z"
   },
   {
    "duration": 41,
    "start_time": "2022-05-23T15:38:58.359Z"
   },
   {
    "duration": 5,
    "start_time": "2022-05-23T16:50:29.672Z"
   },
   {
    "duration": 6,
    "start_time": "2022-05-23T16:56:57.020Z"
   },
   {
    "duration": 1349,
    "start_time": "2022-05-23T16:57:13.084Z"
   },
   {
    "duration": 7,
    "start_time": "2022-05-23T16:57:14.435Z"
   },
   {
    "duration": 159,
    "start_time": "2022-05-23T16:57:14.444Z"
   },
   {
    "duration": 29,
    "start_time": "2022-05-23T16:57:14.605Z"
   },
   {
    "duration": 25,
    "start_time": "2022-05-23T16:57:14.641Z"
   },
   {
    "duration": 12,
    "start_time": "2022-05-23T16:57:14.667Z"
   },
   {
    "duration": 14,
    "start_time": "2022-05-23T16:57:14.680Z"
   },
   {
    "duration": 21,
    "start_time": "2022-05-23T16:57:14.696Z"
   },
   {
    "duration": 17,
    "start_time": "2022-05-23T16:57:14.719Z"
   },
   {
    "duration": 17,
    "start_time": "2022-05-23T16:57:14.740Z"
   },
   {
    "duration": 17,
    "start_time": "2022-05-23T16:57:14.759Z"
   },
   {
    "duration": 19,
    "start_time": "2022-05-23T16:57:14.778Z"
   },
   {
    "duration": 9,
    "start_time": "2022-05-23T16:57:14.799Z"
   },
   {
    "duration": 36,
    "start_time": "2022-05-23T16:57:14.810Z"
   },
   {
    "duration": 18,
    "start_time": "2022-05-23T16:57:14.848Z"
   },
   {
    "duration": 32,
    "start_time": "2022-05-23T16:57:14.868Z"
   },
   {
    "duration": 52,
    "start_time": "2022-05-23T16:57:14.902Z"
   },
   {
    "duration": 47,
    "start_time": "2022-05-23T16:57:14.956Z"
   },
   {
    "duration": 76,
    "start_time": "2022-05-23T16:57:15.005Z"
   },
   {
    "duration": 18,
    "start_time": "2022-05-23T16:57:15.083Z"
   },
   {
    "duration": 15,
    "start_time": "2022-05-23T16:57:15.103Z"
   },
   {
    "duration": 41,
    "start_time": "2022-05-23T16:57:15.120Z"
   },
   {
    "duration": 93,
    "start_time": "2022-05-23T16:57:15.163Z"
   },
   {
    "duration": 174,
    "start_time": "2022-05-23T16:57:15.257Z"
   },
   {
    "duration": 15,
    "start_time": "2022-05-23T16:57:15.433Z"
   },
   {
    "duration": 4,
    "start_time": "2022-05-23T16:57:15.450Z"
   },
   {
    "duration": 36,
    "start_time": "2022-05-23T16:57:15.456Z"
   },
   {
    "duration": 14,
    "start_time": "2022-05-23T16:57:15.588Z"
   },
   {
    "duration": 149,
    "start_time": "2022-05-23T16:57:15.604Z"
   },
   {
    "duration": 8,
    "start_time": "2022-05-23T16:57:15.755Z"
   },
   {
    "duration": 11,
    "start_time": "2022-05-23T16:57:15.765Z"
   },
   {
    "duration": 11,
    "start_time": "2022-05-23T16:57:15.778Z"
   },
   {
    "duration": 52,
    "start_time": "2022-05-23T16:57:15.791Z"
   },
   {
    "duration": 10,
    "start_time": "2022-05-23T16:57:15.845Z"
   },
   {
    "duration": 21,
    "start_time": "2022-05-23T16:57:15.857Z"
   },
   {
    "duration": 34,
    "start_time": "2022-05-23T16:57:15.880Z"
   },
   {
    "duration": 26,
    "start_time": "2022-05-23T16:57:15.916Z"
   },
   {
    "duration": 59,
    "start_time": "2022-05-23T16:57:15.944Z"
   },
   {
    "duration": 30,
    "start_time": "2022-05-23T16:57:16.005Z"
   },
   {
    "duration": 254,
    "start_time": "2022-05-23T16:57:16.042Z"
   },
   {
    "duration": 26,
    "start_time": "2022-05-23T16:57:16.298Z"
   },
   {
    "duration": 56,
    "start_time": "2022-05-23T16:57:16.340Z"
   },
   {
    "duration": 6,
    "start_time": "2022-05-23T16:57:16.398Z"
   },
   {
    "duration": 53,
    "start_time": "2022-05-23T16:57:16.406Z"
   },
   {
    "duration": 55,
    "start_time": "2022-05-23T16:57:16.461Z"
   },
   {
    "duration": 249,
    "start_time": "2022-05-23T16:57:16.518Z"
   },
   {
    "duration": 46,
    "start_time": "2022-05-23T16:57:16.769Z"
   },
   {
    "duration": 303,
    "start_time": "2022-05-23T16:57:16.817Z"
   },
   {
    "duration": 19,
    "start_time": "2022-05-23T16:57:17.123Z"
   },
   {
    "duration": 26,
    "start_time": "2022-05-23T16:57:17.145Z"
   },
   {
    "duration": 38,
    "start_time": "2022-05-23T16:57:17.173Z"
   },
   {
    "duration": 38,
    "start_time": "2022-05-23T16:57:17.213Z"
   },
   {
    "duration": 10,
    "start_time": "2022-05-23T16:57:17.252Z"
   },
   {
    "duration": 239,
    "start_time": "2022-05-23T16:57:17.264Z"
   },
   {
    "duration": 461,
    "start_time": "2022-05-23T16:57:17.505Z"
   },
   {
    "duration": 24,
    "start_time": "2022-05-23T16:57:17.968Z"
   },
   {
    "duration": 59,
    "start_time": "2022-05-23T16:57:17.994Z"
   },
   {
    "duration": 50,
    "start_time": "2022-05-23T16:57:18.055Z"
   },
   {
    "duration": 150,
    "start_time": "2022-05-23T16:57:18.107Z"
   },
   {
    "duration": 7,
    "start_time": "2022-05-23T16:57:18.258Z"
   },
   {
    "duration": 40,
    "start_time": "2022-05-23T16:57:18.266Z"
   },
   {
    "duration": 6,
    "start_time": "2022-05-23T16:57:18.308Z"
   },
   {
    "duration": 14,
    "start_time": "2022-05-23T16:57:18.316Z"
   },
   {
    "duration": 35,
    "start_time": "2022-05-23T16:57:18.342Z"
   },
   {
    "duration": 32,
    "start_time": "2022-05-23T16:57:18.379Z"
   },
   {
    "duration": 28,
    "start_time": "2022-05-23T16:57:18.413Z"
   },
   {
    "duration": 15,
    "start_time": "2022-05-23T16:57:18.443Z"
   },
   {
    "duration": 36,
    "start_time": "2022-05-23T16:57:18.460Z"
   },
   {
    "duration": 5,
    "start_time": "2022-05-23T16:57:18.497Z"
   },
   {
    "duration": 38,
    "start_time": "2022-05-23T16:57:18.504Z"
   },
   {
    "duration": 6,
    "start_time": "2022-05-23T16:57:18.544Z"
   },
   {
    "duration": 41,
    "start_time": "2022-05-23T16:57:18.552Z"
   },
   {
    "duration": 52,
    "start_time": "2022-05-23T16:57:18.595Z"
   },
   {
    "duration": 55,
    "start_time": "2022-05-23T16:57:18.650Z"
   },
   {
    "duration": 6,
    "start_time": "2022-05-23T16:57:18.707Z"
   },
   {
    "duration": 69,
    "start_time": "2022-05-23T16:57:18.715Z"
   },
   {
    "duration": 56,
    "start_time": "2022-05-23T16:57:18.786Z"
   },
   {
    "duration": 7,
    "start_time": "2022-05-23T16:59:26.317Z"
   },
   {
    "duration": 1265,
    "start_time": "2022-05-23T16:59:33.276Z"
   },
   {
    "duration": 3,
    "start_time": "2022-05-23T16:59:34.544Z"
   },
   {
    "duration": 140,
    "start_time": "2022-05-23T16:59:34.549Z"
   },
   {
    "duration": 55,
    "start_time": "2022-05-23T16:59:34.691Z"
   },
   {
    "duration": 24,
    "start_time": "2022-05-23T16:59:34.748Z"
   },
   {
    "duration": 12,
    "start_time": "2022-05-23T16:59:34.774Z"
   },
   {
    "duration": 9,
    "start_time": "2022-05-23T16:59:34.788Z"
   },
   {
    "duration": 13,
    "start_time": "2022-05-23T16:59:34.799Z"
   },
   {
    "duration": 29,
    "start_time": "2022-05-23T16:59:34.814Z"
   },
   {
    "duration": 13,
    "start_time": "2022-05-23T16:59:34.846Z"
   },
   {
    "duration": 14,
    "start_time": "2022-05-23T16:59:34.861Z"
   },
   {
    "duration": 25,
    "start_time": "2022-05-23T16:59:34.876Z"
   },
   {
    "duration": 12,
    "start_time": "2022-05-23T16:59:34.903Z"
   },
   {
    "duration": 20,
    "start_time": "2022-05-23T16:59:34.941Z"
   },
   {
    "duration": 18,
    "start_time": "2022-05-23T16:59:34.963Z"
   },
   {
    "duration": 28,
    "start_time": "2022-05-23T16:59:34.983Z"
   },
   {
    "duration": 41,
    "start_time": "2022-05-23T16:59:35.040Z"
   },
   {
    "duration": 61,
    "start_time": "2022-05-23T16:59:35.083Z"
   },
   {
    "duration": 62,
    "start_time": "2022-05-23T16:59:35.145Z"
   },
   {
    "duration": 42,
    "start_time": "2022-05-23T16:59:35.209Z"
   },
   {
    "duration": 7,
    "start_time": "2022-05-23T16:59:35.253Z"
   },
   {
    "duration": 20,
    "start_time": "2022-05-23T16:59:35.262Z"
   },
   {
    "duration": 174,
    "start_time": "2022-05-23T16:59:35.284Z"
   },
   {
    "duration": 177,
    "start_time": "2022-05-23T16:59:35.460Z"
   },
   {
    "duration": 11,
    "start_time": "2022-05-23T16:59:35.642Z"
   },
   {
    "duration": 4,
    "start_time": "2022-05-23T16:59:35.655Z"
   },
   {
    "duration": 37,
    "start_time": "2022-05-23T16:59:35.661Z"
   },
   {
    "duration": 21,
    "start_time": "2022-05-23T16:59:35.822Z"
   },
   {
    "duration": 153,
    "start_time": "2022-05-23T16:59:35.845Z"
   },
   {
    "duration": 7,
    "start_time": "2022-05-23T16:59:36.001Z"
   },
   {
    "duration": 10,
    "start_time": "2022-05-23T16:59:36.011Z"
   },
   {
    "duration": 32,
    "start_time": "2022-05-23T16:59:36.023Z"
   },
   {
    "duration": 30,
    "start_time": "2022-05-23T16:59:36.057Z"
   },
   {
    "duration": 11,
    "start_time": "2022-05-23T16:59:36.089Z"
   },
   {
    "duration": 53,
    "start_time": "2022-05-23T16:59:36.103Z"
   },
   {
    "duration": 29,
    "start_time": "2022-05-23T16:59:36.158Z"
   },
   {
    "duration": 23,
    "start_time": "2022-05-23T16:59:36.189Z"
   },
   {
    "duration": 63,
    "start_time": "2022-05-23T16:59:36.214Z"
   },
   {
    "duration": 29,
    "start_time": "2022-05-23T16:59:36.278Z"
   },
   {
    "duration": 242,
    "start_time": "2022-05-23T16:59:36.309Z"
   },
   {
    "duration": 27,
    "start_time": "2022-05-23T16:59:36.553Z"
   },
   {
    "duration": 73,
    "start_time": "2022-05-23T16:59:36.582Z"
   },
   {
    "duration": 7,
    "start_time": "2022-05-23T16:59:36.657Z"
   },
   {
    "duration": 28,
    "start_time": "2022-05-23T16:59:36.666Z"
   },
   {
    "duration": 73,
    "start_time": "2022-05-23T16:59:36.697Z"
   },
   {
    "duration": 286,
    "start_time": "2022-05-23T16:59:36.772Z"
   },
   {
    "duration": 70,
    "start_time": "2022-05-23T16:59:37.061Z"
   },
   {
    "duration": 273,
    "start_time": "2022-05-23T16:59:37.145Z"
   },
   {
    "duration": 20,
    "start_time": "2022-05-23T16:59:37.421Z"
   },
   {
    "duration": 18,
    "start_time": "2022-05-23T16:59:37.444Z"
   },
   {
    "duration": 40,
    "start_time": "2022-05-23T16:59:37.464Z"
   },
   {
    "duration": 51,
    "start_time": "2022-05-23T16:59:37.506Z"
   },
   {
    "duration": 18,
    "start_time": "2022-05-23T16:59:37.559Z"
   },
   {
    "duration": 280,
    "start_time": "2022-05-23T16:59:37.579Z"
   },
   {
    "duration": 494,
    "start_time": "2022-05-23T16:59:37.861Z"
   },
   {
    "duration": 32,
    "start_time": "2022-05-23T16:59:38.358Z"
   },
   {
    "duration": 66,
    "start_time": "2022-05-23T16:59:38.392Z"
   },
   {
    "duration": 48,
    "start_time": "2022-05-23T16:59:38.461Z"
   },
   {
    "duration": 184,
    "start_time": "2022-05-23T16:59:38.511Z"
   },
   {
    "duration": 8,
    "start_time": "2022-05-23T16:59:38.697Z"
   },
   {
    "duration": 71,
    "start_time": "2022-05-23T16:59:38.707Z"
   },
   {
    "duration": 7,
    "start_time": "2022-05-23T16:59:38.781Z"
   },
   {
    "duration": 14,
    "start_time": "2022-05-23T16:59:38.790Z"
   },
   {
    "duration": 55,
    "start_time": "2022-05-23T16:59:38.806Z"
   },
   {
    "duration": 37,
    "start_time": "2022-05-23T16:59:38.863Z"
   },
   {
    "duration": 8,
    "start_time": "2022-05-23T16:59:38.902Z"
   },
   {
    "duration": 50,
    "start_time": "2022-05-23T16:59:38.912Z"
   },
   {
    "duration": 53,
    "start_time": "2022-05-23T16:59:38.965Z"
   },
   {
    "duration": 24,
    "start_time": "2022-05-23T16:59:39.019Z"
   },
   {
    "duration": 24,
    "start_time": "2022-05-23T16:59:39.046Z"
   },
   {
    "duration": 13,
    "start_time": "2022-05-23T16:59:39.073Z"
   },
   {
    "duration": 62,
    "start_time": "2022-05-23T16:59:39.089Z"
   },
   {
    "duration": 52,
    "start_time": "2022-05-23T16:59:39.153Z"
   },
   {
    "duration": 89,
    "start_time": "2022-05-23T16:59:39.207Z"
   },
   {
    "duration": 6,
    "start_time": "2022-05-23T16:59:39.298Z"
   },
   {
    "duration": 60,
    "start_time": "2022-05-23T16:59:39.306Z"
   },
   {
    "duration": 42,
    "start_time": "2022-05-23T16:59:39.368Z"
   },
   {
    "duration": 7,
    "start_time": "2022-05-23T17:04:19.114Z"
   },
   {
    "duration": 51,
    "start_time": "2022-05-23T17:21:24.798Z"
   },
   {
    "duration": 1104,
    "start_time": "2022-05-23T18:28:27.502Z"
   },
   {
    "duration": 140,
    "start_time": "2022-05-23T18:34:44.185Z"
   },
   {
    "duration": 8,
    "start_time": "2022-05-23T18:35:54.452Z"
   },
   {
    "duration": 1196,
    "start_time": "2022-05-23T18:36:06.329Z"
   },
   {
    "duration": 10,
    "start_time": "2022-05-23T18:47:02.761Z"
   },
   {
    "duration": 9,
    "start_time": "2022-05-23T18:47:14.575Z"
   },
   {
    "duration": 15,
    "start_time": "2022-05-23T18:47:20.661Z"
   },
   {
    "duration": 15,
    "start_time": "2022-05-23T18:47:26.963Z"
   },
   {
    "duration": 344,
    "start_time": "2022-05-23T19:25:10.761Z"
   },
   {
    "duration": 324,
    "start_time": "2022-05-23T19:26:43.277Z"
   },
   {
    "duration": 479,
    "start_time": "2022-05-23T19:27:00.160Z"
   },
   {
    "duration": 386,
    "start_time": "2022-05-23T19:28:39.359Z"
   },
   {
    "duration": 11,
    "start_time": "2022-05-24T11:17:01.490Z"
   },
   {
    "duration": 69,
    "start_time": "2022-05-24T11:17:14.361Z"
   },
   {
    "duration": 36,
    "start_time": "2022-05-24T11:17:29.180Z"
   },
   {
    "duration": 1486,
    "start_time": "2022-05-24T11:22:53.442Z"
   },
   {
    "duration": 3,
    "start_time": "2022-05-24T11:22:54.930Z"
   },
   {
    "duration": 214,
    "start_time": "2022-05-24T11:22:54.935Z"
   },
   {
    "duration": 43,
    "start_time": "2022-05-24T11:22:55.151Z"
   },
   {
    "duration": 97,
    "start_time": "2022-05-24T11:22:55.196Z"
   },
   {
    "duration": 10,
    "start_time": "2022-05-24T11:22:55.295Z"
   },
   {
    "duration": 26,
    "start_time": "2022-05-24T11:22:55.306Z"
   },
   {
    "duration": 22,
    "start_time": "2022-05-24T11:22:55.334Z"
   },
   {
    "duration": 33,
    "start_time": "2022-05-24T11:22:55.359Z"
   },
   {
    "duration": 22,
    "start_time": "2022-05-24T11:22:55.394Z"
   },
   {
    "duration": 31,
    "start_time": "2022-05-24T11:22:55.417Z"
   },
   {
    "duration": 34,
    "start_time": "2022-05-24T11:22:55.451Z"
   },
   {
    "duration": 10,
    "start_time": "2022-05-24T11:22:55.487Z"
   },
   {
    "duration": 16,
    "start_time": "2022-05-24T11:22:55.502Z"
   },
   {
    "duration": 18,
    "start_time": "2022-05-24T11:22:55.520Z"
   },
   {
    "duration": 70,
    "start_time": "2022-05-24T11:22:55.540Z"
   },
   {
    "duration": 22,
    "start_time": "2022-05-24T11:22:55.612Z"
   },
   {
    "duration": 57,
    "start_time": "2022-05-24T11:22:55.636Z"
   },
   {
    "duration": 79,
    "start_time": "2022-05-24T11:22:55.695Z"
   },
   {
    "duration": 20,
    "start_time": "2022-05-24T11:22:55.780Z"
   },
   {
    "duration": 9,
    "start_time": "2022-05-24T11:22:55.802Z"
   },
   {
    "duration": 17,
    "start_time": "2022-05-24T11:22:55.812Z"
   },
   {
    "duration": 107,
    "start_time": "2022-05-24T11:22:55.831Z"
   },
   {
    "duration": 183,
    "start_time": "2022-05-24T11:22:55.940Z"
   },
   {
    "duration": 10,
    "start_time": "2022-05-24T11:22:56.124Z"
   },
   {
    "duration": 4,
    "start_time": "2022-05-24T11:22:56.136Z"
   },
   {
    "duration": 36,
    "start_time": "2022-05-24T11:22:56.172Z"
   },
   {
    "duration": 15,
    "start_time": "2022-05-24T11:22:56.210Z"
   },
   {
    "duration": 190,
    "start_time": "2022-05-24T11:22:56.227Z"
   },
   {
    "duration": 7,
    "start_time": "2022-05-24T11:22:56.419Z"
   },
   {
    "duration": 10,
    "start_time": "2022-05-24T11:22:56.427Z"
   },
   {
    "duration": 34,
    "start_time": "2022-05-24T11:22:56.439Z"
   },
   {
    "duration": 23,
    "start_time": "2022-05-24T11:22:56.476Z"
   },
   {
    "duration": 10,
    "start_time": "2022-05-24T11:22:56.500Z"
   },
   {
    "duration": 22,
    "start_time": "2022-05-24T11:22:56.512Z"
   },
   {
    "duration": 37,
    "start_time": "2022-05-24T11:22:56.536Z"
   },
   {
    "duration": 20,
    "start_time": "2022-05-24T11:22:56.576Z"
   },
   {
    "duration": 43,
    "start_time": "2022-05-24T11:22:56.597Z"
   },
   {
    "duration": 52,
    "start_time": "2022-05-24T11:22:56.642Z"
   },
   {
    "duration": 239,
    "start_time": "2022-05-24T11:22:56.696Z"
   },
   {
    "duration": 35,
    "start_time": "2022-05-24T11:22:56.939Z"
   },
   {
    "duration": 44,
    "start_time": "2022-05-24T11:22:56.981Z"
   },
   {
    "duration": 5,
    "start_time": "2022-05-24T11:22:57.027Z"
   },
   {
    "duration": 44,
    "start_time": "2022-05-24T11:22:57.034Z"
   },
   {
    "duration": 50,
    "start_time": "2022-05-24T11:22:57.083Z"
   },
   {
    "duration": 241,
    "start_time": "2022-05-24T11:22:57.135Z"
   },
   {
    "duration": 43,
    "start_time": "2022-05-24T11:22:57.379Z"
   },
   {
    "duration": 250,
    "start_time": "2022-05-24T11:22:57.424Z"
   },
   {
    "duration": 12,
    "start_time": "2022-05-24T11:22:57.676Z"
   },
   {
    "duration": 18,
    "start_time": "2022-05-24T11:22:57.690Z"
   },
   {
    "duration": 61,
    "start_time": "2022-05-24T11:22:57.710Z"
   },
   {
    "duration": 28,
    "start_time": "2022-05-24T11:22:57.773Z"
   },
   {
    "duration": 15,
    "start_time": "2022-05-24T11:22:57.803Z"
   },
   {
    "duration": 256,
    "start_time": "2022-05-24T11:22:57.820Z"
   },
   {
    "duration": 449,
    "start_time": "2022-05-24T11:22:58.083Z"
   },
   {
    "duration": 40,
    "start_time": "2022-05-24T11:22:58.533Z"
   },
   {
    "duration": 46,
    "start_time": "2022-05-24T11:22:58.576Z"
   },
   {
    "duration": 74,
    "start_time": "2022-05-24T11:22:58.623Z"
   },
   {
    "duration": 142,
    "start_time": "2022-05-24T11:22:58.698Z"
   },
   {
    "duration": 7,
    "start_time": "2022-05-24T11:22:58.842Z"
   },
   {
    "duration": 55,
    "start_time": "2022-05-24T11:22:58.860Z"
   },
   {
    "duration": 11,
    "start_time": "2022-05-24T11:22:58.917Z"
   },
   {
    "duration": 20,
    "start_time": "2022-05-24T11:22:58.929Z"
   },
   {
    "duration": 56,
    "start_time": "2022-05-24T11:22:58.951Z"
   },
   {
    "duration": 42,
    "start_time": "2022-05-24T11:22:59.010Z"
   },
   {
    "duration": 5,
    "start_time": "2022-05-24T11:22:59.053Z"
   },
   {
    "duration": 65,
    "start_time": "2022-05-24T11:22:59.062Z"
   },
   {
    "duration": 61,
    "start_time": "2022-05-24T11:22:59.130Z"
   },
   {
    "duration": 8,
    "start_time": "2022-05-24T11:22:59.192Z"
   },
   {
    "duration": 36,
    "start_time": "2022-05-24T11:22:59.202Z"
   },
   {
    "duration": 62,
    "start_time": "2022-05-24T11:22:59.240Z"
   },
   {
    "duration": 82,
    "start_time": "2022-05-24T11:22:59.304Z"
   },
   {
    "duration": 8,
    "start_time": "2022-05-24T11:22:59.388Z"
   },
   {
    "duration": 1399,
    "start_time": "2022-05-24T11:22:59.397Z"
   },
   {
    "duration": 1242,
    "start_time": "2022-05-24T11:23:43.383Z"
   },
   {
    "duration": 4,
    "start_time": "2022-05-24T11:23:44.627Z"
   },
   {
    "duration": 165,
    "start_time": "2022-05-24T11:23:44.636Z"
   },
   {
    "duration": 41,
    "start_time": "2022-05-24T11:23:44.804Z"
   },
   {
    "duration": 26,
    "start_time": "2022-05-24T11:23:44.848Z"
   },
   {
    "duration": 17,
    "start_time": "2022-05-24T11:23:44.876Z"
   },
   {
    "duration": 5,
    "start_time": "2022-05-24T11:23:44.895Z"
   },
   {
    "duration": 16,
    "start_time": "2022-05-24T11:23:44.901Z"
   },
   {
    "duration": 8,
    "start_time": "2022-05-24T11:23:44.918Z"
   },
   {
    "duration": 34,
    "start_time": "2022-05-24T11:23:44.928Z"
   },
   {
    "duration": 14,
    "start_time": "2022-05-24T11:23:44.967Z"
   },
   {
    "duration": 45,
    "start_time": "2022-05-24T11:23:44.983Z"
   },
   {
    "duration": 12,
    "start_time": "2022-05-24T11:23:45.030Z"
   },
   {
    "duration": 19,
    "start_time": "2022-05-24T11:23:45.044Z"
   },
   {
    "duration": 38,
    "start_time": "2022-05-24T11:23:45.065Z"
   },
   {
    "duration": 24,
    "start_time": "2022-05-24T11:23:45.104Z"
   },
   {
    "duration": 21,
    "start_time": "2022-05-24T11:23:45.130Z"
   },
   {
    "duration": 55,
    "start_time": "2022-05-24T11:23:45.152Z"
   },
   {
    "duration": 68,
    "start_time": "2022-05-24T11:23:45.209Z"
   },
   {
    "duration": 25,
    "start_time": "2022-05-24T11:23:45.280Z"
   },
   {
    "duration": 7,
    "start_time": "2022-05-24T11:23:45.307Z"
   },
   {
    "duration": 20,
    "start_time": "2022-05-24T11:23:45.316Z"
   },
   {
    "duration": 138,
    "start_time": "2022-05-24T11:23:45.338Z"
   },
   {
    "duration": 209,
    "start_time": "2022-05-24T11:23:45.478Z"
   },
   {
    "duration": 11,
    "start_time": "2022-05-24T11:23:45.689Z"
   },
   {
    "duration": 5,
    "start_time": "2022-05-24T11:23:45.702Z"
   },
   {
    "duration": 27,
    "start_time": "2022-05-24T11:23:45.710Z"
   },
   {
    "duration": 11,
    "start_time": "2022-05-24T11:23:45.821Z"
   },
   {
    "duration": 129,
    "start_time": "2022-05-24T11:23:45.833Z"
   },
   {
    "duration": 8,
    "start_time": "2022-05-24T11:23:45.964Z"
   },
   {
    "duration": 21,
    "start_time": "2022-05-24T11:23:45.974Z"
   },
   {
    "duration": 27,
    "start_time": "2022-05-24T11:23:45.997Z"
   },
   {
    "duration": 39,
    "start_time": "2022-05-24T11:23:46.026Z"
   },
   {
    "duration": 21,
    "start_time": "2022-05-24T11:23:46.068Z"
   },
   {
    "duration": 14,
    "start_time": "2022-05-24T11:23:46.091Z"
   },
   {
    "duration": 14,
    "start_time": "2022-05-24T11:23:46.106Z"
   },
   {
    "duration": 14,
    "start_time": "2022-05-24T11:23:46.122Z"
   },
   {
    "duration": 66,
    "start_time": "2022-05-24T11:23:46.138Z"
   },
   {
    "duration": 24,
    "start_time": "2022-05-24T11:23:46.206Z"
   },
   {
    "duration": 238,
    "start_time": "2022-05-24T11:23:46.231Z"
   },
   {
    "duration": 31,
    "start_time": "2022-05-24T11:23:46.471Z"
   },
   {
    "duration": 78,
    "start_time": "2022-05-24T11:23:46.505Z"
   },
   {
    "duration": 5,
    "start_time": "2022-05-24T11:23:46.584Z"
   },
   {
    "duration": 20,
    "start_time": "2022-05-24T11:23:46.591Z"
   },
   {
    "duration": 77,
    "start_time": "2022-05-24T11:23:46.612Z"
   },
   {
    "duration": 227,
    "start_time": "2022-05-24T11:23:46.691Z"
   },
   {
    "duration": 64,
    "start_time": "2022-05-24T11:23:46.920Z"
   },
   {
    "duration": 206,
    "start_time": "2022-05-24T11:23:46.986Z"
   },
   {
    "duration": 8,
    "start_time": "2022-05-24T11:23:47.193Z"
   },
   {
    "duration": 18,
    "start_time": "2022-05-24T11:23:47.203Z"
   },
   {
    "duration": 57,
    "start_time": "2022-05-24T11:23:47.223Z"
   },
   {
    "duration": 17,
    "start_time": "2022-05-24T11:23:47.282Z"
   },
   {
    "duration": 17,
    "start_time": "2022-05-24T11:23:47.300Z"
   },
   {
    "duration": 270,
    "start_time": "2022-05-24T11:23:47.319Z"
   },
   {
    "duration": 493,
    "start_time": "2022-05-24T11:23:47.591Z"
   },
   {
    "duration": 27,
    "start_time": "2022-05-24T11:23:48.087Z"
   },
   {
    "duration": 69,
    "start_time": "2022-05-24T11:23:48.118Z"
   },
   {
    "duration": 51,
    "start_time": "2022-05-24T11:23:48.191Z"
   },
   {
    "duration": 169,
    "start_time": "2022-05-24T11:23:48.244Z"
   },
   {
    "duration": 6,
    "start_time": "2022-05-24T11:23:48.415Z"
   },
   {
    "duration": 68,
    "start_time": "2022-05-24T11:23:48.423Z"
   },
   {
    "duration": 5,
    "start_time": "2022-05-24T11:23:48.493Z"
   },
   {
    "duration": 7,
    "start_time": "2022-05-24T11:23:48.499Z"
   },
   {
    "duration": 61,
    "start_time": "2022-05-24T11:23:48.508Z"
   },
   {
    "duration": 32,
    "start_time": "2022-05-24T11:23:48.572Z"
   },
   {
    "duration": 5,
    "start_time": "2022-05-24T11:23:48.606Z"
   },
   {
    "duration": 21,
    "start_time": "2022-05-24T11:23:48.613Z"
   },
   {
    "duration": 65,
    "start_time": "2022-05-24T11:23:48.636Z"
   },
   {
    "duration": 7,
    "start_time": "2022-05-24T11:23:48.703Z"
   },
   {
    "duration": 75,
    "start_time": "2022-05-24T11:23:48.712Z"
   },
   {
    "duration": 30,
    "start_time": "2022-05-24T11:23:48.789Z"
   },
   {
    "duration": 68,
    "start_time": "2022-05-24T11:23:48.821Z"
   },
   {
    "duration": 5,
    "start_time": "2022-05-24T11:23:48.891Z"
   },
   {
    "duration": 1225,
    "start_time": "2022-05-24T11:23:48.898Z"
   },
   {
    "duration": 28,
    "start_time": "2022-05-24T11:25:39.492Z"
   },
   {
    "duration": 110,
    "start_time": "2022-05-24T11:27:26.781Z"
   },
   {
    "duration": 151,
    "start_time": "2022-05-24T11:27:54.601Z"
   },
   {
    "duration": 121,
    "start_time": "2022-05-24T11:28:05.262Z"
   },
   {
    "duration": 160,
    "start_time": "2022-05-24T11:28:23.018Z"
   },
   {
    "duration": 138,
    "start_time": "2022-05-24T11:28:37.132Z"
   },
   {
    "duration": 40,
    "start_time": "2022-05-24T11:29:18.373Z"
   },
   {
    "duration": 12,
    "start_time": "2022-05-24T11:29:38.253Z"
   },
   {
    "duration": 160,
    "start_time": "2022-05-24T11:29:46.675Z"
   },
   {
    "duration": 388,
    "start_time": "2022-05-24T11:30:16.448Z"
   },
   {
    "duration": 111,
    "start_time": "2022-05-24T11:31:41.051Z"
   },
   {
    "duration": 124,
    "start_time": "2022-05-24T11:32:59.044Z"
   },
   {
    "duration": 142,
    "start_time": "2022-05-24T11:33:19.543Z"
   },
   {
    "duration": 147,
    "start_time": "2022-05-24T11:34:06.646Z"
   },
   {
    "duration": 31,
    "start_time": "2022-05-24T11:34:52.788Z"
   },
   {
    "duration": 126,
    "start_time": "2022-05-24T11:35:02.914Z"
   },
   {
    "duration": 172,
    "start_time": "2022-05-24T11:35:20.512Z"
   },
   {
    "duration": 30,
    "start_time": "2022-05-24T11:38:15.095Z"
   },
   {
    "duration": 44,
    "start_time": "2022-05-24T11:38:34.352Z"
   },
   {
    "duration": 148,
    "start_time": "2022-05-24T11:39:17.062Z"
   },
   {
    "duration": 125,
    "start_time": "2022-05-24T11:39:48.310Z"
   },
   {
    "duration": 137,
    "start_time": "2022-05-24T11:42:14.172Z"
   },
   {
    "duration": 136,
    "start_time": "2022-05-24T11:42:16.977Z"
   },
   {
    "duration": 132,
    "start_time": "2022-05-24T11:43:39.599Z"
   },
   {
    "duration": 160,
    "start_time": "2022-05-24T11:43:48.400Z"
   },
   {
    "duration": 37,
    "start_time": "2022-05-24T11:51:24.184Z"
   },
   {
    "duration": 35,
    "start_time": "2022-05-24T11:51:32.600Z"
   },
   {
    "duration": 15,
    "start_time": "2022-05-24T11:52:41.678Z"
   },
   {
    "duration": 12,
    "start_time": "2022-05-24T11:52:57.967Z"
   },
   {
    "duration": 173,
    "start_time": "2022-05-24T11:53:05.745Z"
   },
   {
    "duration": 152,
    "start_time": "2022-05-24T11:53:32.646Z"
   },
   {
    "duration": 1307,
    "start_time": "2022-05-25T08:22:45.528Z"
   },
   {
    "duration": 3,
    "start_time": "2022-05-25T08:22:46.837Z"
   },
   {
    "duration": 413,
    "start_time": "2022-05-25T08:22:46.841Z"
   },
   {
    "duration": 28,
    "start_time": "2022-05-25T08:22:47.256Z"
   },
   {
    "duration": 52,
    "start_time": "2022-05-25T08:22:47.286Z"
   },
   {
    "duration": 11,
    "start_time": "2022-05-25T08:22:47.340Z"
   },
   {
    "duration": 14,
    "start_time": "2022-05-25T08:22:47.352Z"
   },
   {
    "duration": 13,
    "start_time": "2022-05-25T08:22:47.368Z"
   },
   {
    "duration": 7,
    "start_time": "2022-05-25T08:22:47.383Z"
   },
   {
    "duration": 9,
    "start_time": "2022-05-25T08:22:47.394Z"
   },
   {
    "duration": 12,
    "start_time": "2022-05-25T08:22:47.404Z"
   },
   {
    "duration": 18,
    "start_time": "2022-05-25T08:22:47.418Z"
   },
   {
    "duration": 10,
    "start_time": "2022-05-25T08:22:47.438Z"
   },
   {
    "duration": 55,
    "start_time": "2022-05-25T08:22:47.449Z"
   },
   {
    "duration": 16,
    "start_time": "2022-05-25T08:22:47.506Z"
   },
   {
    "duration": 25,
    "start_time": "2022-05-25T08:22:47.523Z"
   },
   {
    "duration": 46,
    "start_time": "2022-05-25T08:22:47.549Z"
   },
   {
    "duration": 38,
    "start_time": "2022-05-25T08:22:47.596Z"
   },
   {
    "duration": 64,
    "start_time": "2022-05-25T08:22:47.636Z"
   },
   {
    "duration": 15,
    "start_time": "2022-05-25T08:22:47.702Z"
   },
   {
    "duration": 5,
    "start_time": "2022-05-25T08:22:47.718Z"
   },
   {
    "duration": 16,
    "start_time": "2022-05-25T08:22:47.725Z"
   },
   {
    "duration": 96,
    "start_time": "2022-05-25T08:22:47.742Z"
   },
   {
    "duration": 154,
    "start_time": "2022-05-25T08:22:47.840Z"
   },
   {
    "duration": 9,
    "start_time": "2022-05-25T08:22:47.996Z"
   },
   {
    "duration": 4,
    "start_time": "2022-05-25T08:22:48.007Z"
   },
   {
    "duration": 30,
    "start_time": "2022-05-25T08:22:48.013Z"
   },
   {
    "duration": 12,
    "start_time": "2022-05-25T08:22:48.144Z"
   },
   {
    "duration": 119,
    "start_time": "2022-05-25T08:22:48.157Z"
   },
   {
    "duration": 17,
    "start_time": "2022-05-25T08:22:48.278Z"
   },
   {
    "duration": 6,
    "start_time": "2022-05-25T08:22:48.296Z"
   },
   {
    "duration": 10,
    "start_time": "2022-05-25T08:22:48.303Z"
   },
   {
    "duration": 19,
    "start_time": "2022-05-25T08:22:48.314Z"
   },
   {
    "duration": 7,
    "start_time": "2022-05-25T08:22:48.334Z"
   },
   {
    "duration": 15,
    "start_time": "2022-05-25T08:22:48.343Z"
   },
   {
    "duration": 47,
    "start_time": "2022-05-25T08:22:48.359Z"
   },
   {
    "duration": 16,
    "start_time": "2022-05-25T08:22:48.408Z"
   },
   {
    "duration": 39,
    "start_time": "2022-05-25T08:22:48.425Z"
   },
   {
    "duration": 48,
    "start_time": "2022-05-25T08:22:48.466Z"
   },
   {
    "duration": 207,
    "start_time": "2022-05-25T08:22:48.516Z"
   },
   {
    "duration": 21,
    "start_time": "2022-05-25T08:22:48.724Z"
   },
   {
    "duration": 58,
    "start_time": "2022-05-25T08:22:48.746Z"
   },
   {
    "duration": 4,
    "start_time": "2022-05-25T08:22:48.806Z"
   },
   {
    "duration": 26,
    "start_time": "2022-05-25T08:22:48.812Z"
   },
   {
    "duration": 69,
    "start_time": "2022-05-25T08:22:48.840Z"
   },
   {
    "duration": 244,
    "start_time": "2022-05-25T08:22:48.911Z"
   },
   {
    "duration": 50,
    "start_time": "2022-05-25T08:22:49.157Z"
   },
   {
    "duration": 201,
    "start_time": "2022-05-25T08:22:49.208Z"
   },
   {
    "duration": 6,
    "start_time": "2022-05-25T08:22:49.411Z"
   },
   {
    "duration": 13,
    "start_time": "2022-05-25T08:22:49.418Z"
   },
   {
    "duration": 32,
    "start_time": "2022-05-25T08:22:49.432Z"
   },
   {
    "duration": 15,
    "start_time": "2022-05-25T08:22:49.495Z"
   },
   {
    "duration": 9,
    "start_time": "2022-05-25T08:22:49.512Z"
   },
   {
    "duration": 217,
    "start_time": "2022-05-25T08:22:49.523Z"
   },
   {
    "duration": 343,
    "start_time": "2022-05-25T08:22:49.742Z"
   },
   {
    "duration": 22,
    "start_time": "2022-05-25T08:22:50.087Z"
   },
   {
    "duration": 43,
    "start_time": "2022-05-25T08:22:50.111Z"
   },
   {
    "duration": 63,
    "start_time": "2022-05-25T08:22:50.156Z"
   },
   {
    "duration": 134,
    "start_time": "2022-05-25T08:22:50.221Z"
   },
   {
    "duration": 7,
    "start_time": "2022-05-25T08:22:50.357Z"
   },
   {
    "duration": 54,
    "start_time": "2022-05-25T08:22:50.366Z"
   },
   {
    "duration": 5,
    "start_time": "2022-05-25T08:22:50.422Z"
   },
   {
    "duration": 7,
    "start_time": "2022-05-25T08:22:50.428Z"
   },
   {
    "duration": 61,
    "start_time": "2022-05-25T08:22:50.437Z"
   },
   {
    "duration": 214,
    "start_time": "2022-05-25T08:22:50.499Z"
   },
   {
    "duration": 33,
    "start_time": "2022-05-25T08:22:50.716Z"
   },
   {
    "duration": 175,
    "start_time": "2022-05-25T08:22:50.751Z"
   },
   {
    "duration": 5,
    "start_time": "2022-05-25T08:22:50.928Z"
   },
   {
    "duration": 31,
    "start_time": "2022-05-25T08:22:50.934Z"
   },
   {
    "duration": 41,
    "start_time": "2022-05-25T08:22:50.967Z"
   },
   {
    "duration": 6,
    "start_time": "2022-05-25T08:22:51.010Z"
   },
   {
    "duration": 40,
    "start_time": "2022-05-25T08:22:51.017Z"
   },
   {
    "duration": 178,
    "start_time": "2022-05-25T08:22:51.059Z"
   },
   {
    "duration": 44,
    "start_time": "2022-05-25T08:22:51.239Z"
   },
   {
    "duration": 167,
    "start_time": "2022-05-25T08:22:51.294Z"
   },
   {
    "duration": 60,
    "start_time": "2022-05-25T08:22:51.463Z"
   },
   {
    "duration": 5,
    "start_time": "2022-05-25T08:22:51.524Z"
   },
   {
    "duration": 42,
    "start_time": "2022-05-25T08:22:51.530Z"
   },
   {
    "duration": 165,
    "start_time": "2022-05-25T08:22:51.573Z"
   },
   {
    "duration": 39,
    "start_time": "2022-05-25T08:22:51.739Z"
   },
   {
    "duration": 226,
    "start_time": "2022-05-25T08:22:51.793Z"
   },
   {
    "duration": 927,
    "start_time": "2022-05-25T08:22:52.024Z"
   },
   {
    "duration": 26,
    "start_time": "2022-05-25T08:35:51.804Z"
   },
   {
    "duration": 16,
    "start_time": "2022-05-25T08:55:11.523Z"
   },
   {
    "duration": 17,
    "start_time": "2022-05-25T08:55:22.352Z"
   },
   {
    "duration": 17,
    "start_time": "2022-05-25T09:10:34.671Z"
   },
   {
    "duration": 16,
    "start_time": "2022-05-25T09:10:42.842Z"
   },
   {
    "duration": 15,
    "start_time": "2022-05-25T09:10:49.416Z"
   },
   {
    "duration": 22,
    "start_time": "2022-05-25T09:10:55.653Z"
   },
   {
    "duration": 73,
    "start_time": "2022-05-25T09:11:40.882Z"
   },
   {
    "duration": 145,
    "start_time": "2022-05-25T09:12:12.239Z"
   },
   {
    "duration": 62,
    "start_time": "2022-05-25T09:12:16.357Z"
   },
   {
    "duration": 17,
    "start_time": "2022-05-25T09:12:36.256Z"
   },
   {
    "duration": 38,
    "start_time": "2022-05-25T09:15:15.658Z"
   },
   {
    "duration": 17,
    "start_time": "2022-05-25T09:15:23.729Z"
   },
   {
    "duration": 14,
    "start_time": "2022-05-25T09:19:03.106Z"
   },
   {
    "duration": 40,
    "start_time": "2022-05-25T09:32:39.778Z"
   },
   {
    "duration": 10,
    "start_time": "2022-05-25T09:34:32.663Z"
   },
   {
    "duration": 9,
    "start_time": "2022-05-25T09:34:58.396Z"
   },
   {
    "duration": 38,
    "start_time": "2022-05-25T09:35:07.468Z"
   },
   {
    "duration": 48,
    "start_time": "2022-05-25T09:35:18.721Z"
   },
   {
    "duration": 46,
    "start_time": "2022-05-25T09:35:48.073Z"
   },
   {
    "duration": 906,
    "start_time": "2022-05-25T09:36:19.758Z"
   },
   {
    "duration": 1074,
    "start_time": "2022-05-25T09:40:28.539Z"
   },
   {
    "duration": 1187,
    "start_time": "2022-05-25T09:42:24.543Z"
   },
   {
    "duration": 62,
    "start_time": "2022-05-26T15:38:42.212Z"
   }
  ],
  "kernelspec": {
   "display_name": "Python 3 (ipykernel)",
   "language": "python",
   "name": "python3"
  },
  "language_info": {
   "codemirror_mode": {
    "name": "ipython",
    "version": 3
   },
   "file_extension": ".py",
   "mimetype": "text/x-python",
   "name": "python",
   "nbconvert_exporter": "python",
   "pygments_lexer": "ipython3",
   "version": "3.9.7"
  },
  "toc": {
   "base_numbering": 1,
   "nav_menu": {},
   "number_sections": true,
   "sideBar": true,
   "skip_h1_title": true,
   "title_cell": "Table of Contents",
   "title_sidebar": "Contents",
   "toc_cell": false,
   "toc_position": {
    "height": "calc(100% - 180px)",
    "left": "10px",
    "top": "150px",
    "width": "165px"
   },
   "toc_section_display": true,
   "toc_window_display": true
  }
 },
 "nbformat": 4,
 "nbformat_minor": 2
}
