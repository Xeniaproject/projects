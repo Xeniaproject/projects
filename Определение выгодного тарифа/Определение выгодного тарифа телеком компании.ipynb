{
 "cells": [
  {
   "cell_type": "markdown",
   "metadata": {},
   "source": [
    "# Определение перспективного тарифа для телеком-компании\n",
    "Компания «Мегалайн» — федеральный оператор сотовой связи. Клиентам предлагают два тарифных плана: «Смарт» и «Ультра». Чтобы скорректировать рекламный бюджет, коммерческий департамент хочет понять, какой тариф приносит больше денег.\n",
    "Необходимо сделать предварительный анализ тарифов на небольшой выборке клиентов. В нашем распоряжении данные 500 пользователей «Мегалайна»: кто они, откуда, каким тарифом пользуются, сколько звонков и сообщений каждый отправил за 2018 год. Нужно проанализировать поведение клиентов и сделать вывод — какой тариф лучше."
   ]
  },
  {
   "cell_type": "markdown",
   "metadata": {},
   "source": [
    "## Изучение данных из файла"
   ]
  },
  {
   "cell_type": "code",
   "execution_count": 1,
   "metadata": {
    "scrolled": true
   },
   "outputs": [
    {
     "data": {
      "text/html": [
       "<div>\n",
       "<style scoped>\n",
       "    .dataframe tbody tr th:only-of-type {\n",
       "        vertical-align: middle;\n",
       "    }\n",
       "\n",
       "    .dataframe tbody tr th {\n",
       "        vertical-align: top;\n",
       "    }\n",
       "\n",
       "    .dataframe thead th {\n",
       "        text-align: right;\n",
       "    }\n",
       "</style>\n",
       "<table border=\"1\" class=\"dataframe\">\n",
       "  <thead>\n",
       "    <tr style=\"text-align: right;\">\n",
       "      <th></th>\n",
       "      <th>id</th>\n",
       "      <th>call_date</th>\n",
       "      <th>duration</th>\n",
       "      <th>user_id</th>\n",
       "    </tr>\n",
       "  </thead>\n",
       "  <tbody>\n",
       "    <tr>\n",
       "      <td>0</td>\n",
       "      <td>1000_0</td>\n",
       "      <td>2018-07-25</td>\n",
       "      <td>0.00</td>\n",
       "      <td>1000</td>\n",
       "    </tr>\n",
       "    <tr>\n",
       "      <td>1</td>\n",
       "      <td>1000_1</td>\n",
       "      <td>2018-08-17</td>\n",
       "      <td>0.00</td>\n",
       "      <td>1000</td>\n",
       "    </tr>\n",
       "    <tr>\n",
       "      <td>2</td>\n",
       "      <td>1000_2</td>\n",
       "      <td>2018-06-11</td>\n",
       "      <td>2.85</td>\n",
       "      <td>1000</td>\n",
       "    </tr>\n",
       "    <tr>\n",
       "      <td>3</td>\n",
       "      <td>1000_3</td>\n",
       "      <td>2018-09-21</td>\n",
       "      <td>13.80</td>\n",
       "      <td>1000</td>\n",
       "    </tr>\n",
       "    <tr>\n",
       "      <td>4</td>\n",
       "      <td>1000_4</td>\n",
       "      <td>2018-12-15</td>\n",
       "      <td>5.18</td>\n",
       "      <td>1000</td>\n",
       "    </tr>\n",
       "    <tr>\n",
       "      <td>5</td>\n",
       "      <td>1000_5</td>\n",
       "      <td>2018-11-02</td>\n",
       "      <td>0.00</td>\n",
       "      <td>1000</td>\n",
       "    </tr>\n",
       "    <tr>\n",
       "      <td>6</td>\n",
       "      <td>1000_6</td>\n",
       "      <td>2018-10-18</td>\n",
       "      <td>0.00</td>\n",
       "      <td>1000</td>\n",
       "    </tr>\n",
       "    <tr>\n",
       "      <td>7</td>\n",
       "      <td>1000_7</td>\n",
       "      <td>2018-08-22</td>\n",
       "      <td>18.31</td>\n",
       "      <td>1000</td>\n",
       "    </tr>\n",
       "    <tr>\n",
       "      <td>8</td>\n",
       "      <td>1000_8</td>\n",
       "      <td>2018-09-15</td>\n",
       "      <td>18.44</td>\n",
       "      <td>1000</td>\n",
       "    </tr>\n",
       "    <tr>\n",
       "      <td>9</td>\n",
       "      <td>1000_9</td>\n",
       "      <td>2018-08-15</td>\n",
       "      <td>0.00</td>\n",
       "      <td>1000</td>\n",
       "    </tr>\n",
       "  </tbody>\n",
       "</table>\n",
       "</div>"
      ],
      "text/plain": [
       "       id   call_date  duration  user_id\n",
       "0  1000_0  2018-07-25      0.00     1000\n",
       "1  1000_1  2018-08-17      0.00     1000\n",
       "2  1000_2  2018-06-11      2.85     1000\n",
       "3  1000_3  2018-09-21     13.80     1000\n",
       "4  1000_4  2018-12-15      5.18     1000\n",
       "5  1000_5  2018-11-02      0.00     1000\n",
       "6  1000_6  2018-10-18      0.00     1000\n",
       "7  1000_7  2018-08-22     18.31     1000\n",
       "8  1000_8  2018-09-15     18.44     1000\n",
       "9  1000_9  2018-08-15      0.00     1000"
      ]
     },
     "metadata": {},
     "output_type": "display_data"
    },
    {
     "name": "stdout",
     "output_type": "stream",
     "text": [
      "<class 'pandas.core.frame.DataFrame'>\n",
      "RangeIndex: 202607 entries, 0 to 202606\n",
      "Data columns (total 4 columns):\n",
      "id           202607 non-null object\n",
      "call_date    202607 non-null object\n",
      "duration     202607 non-null float64\n",
      "user_id      202607 non-null int64\n",
      "dtypes: float64(1), int64(1), object(2)\n",
      "memory usage: 6.2+ MB\n"
     ]
    }
   ],
   "source": [
    "import pandas as pd #импортировали библиотеку pandas\n",
    "import numpy as np #импорт библиотеки с математическими функциями\n",
    "import matplotlib.pyplot as plt #импорт библиотеки для построения графиков\n",
    "from scipy import stats as st #\n",
    "calls_df = pd.read_csv('/datasets/calls.csv',sep = ',') #прочитали файл и сохранили в переменной data, применив разделитель \n",
    "pd.set_option('display.max_columns', None)\n",
    "display(calls_df.head(10)) # выводим на экран первые 10 строк таблицы\n",
    "calls_df.info()"
   ]
  },
  {
   "cell_type": "markdown",
   "metadata": {},
   "source": [
    "В таблице calls нет пропусков. Тип данных в столбце call_date следует поменять на тип datetime"
   ]
  },
  {
   "cell_type": "code",
   "execution_count": 2,
   "metadata": {
    "scrolled": true
   },
   "outputs": [
    {
     "data": {
      "text/html": [
       "<div>\n",
       "<style scoped>\n",
       "    .dataframe tbody tr th:only-of-type {\n",
       "        vertical-align: middle;\n",
       "    }\n",
       "\n",
       "    .dataframe tbody tr th {\n",
       "        vertical-align: top;\n",
       "    }\n",
       "\n",
       "    .dataframe thead th {\n",
       "        text-align: right;\n",
       "    }\n",
       "</style>\n",
       "<table border=\"1\" class=\"dataframe\">\n",
       "  <thead>\n",
       "    <tr style=\"text-align: right;\">\n",
       "      <th></th>\n",
       "      <th>Unnamed: 0</th>\n",
       "      <th>id</th>\n",
       "      <th>mb_used</th>\n",
       "      <th>session_date</th>\n",
       "      <th>user_id</th>\n",
       "    </tr>\n",
       "  </thead>\n",
       "  <tbody>\n",
       "    <tr>\n",
       "      <td>0</td>\n",
       "      <td>0</td>\n",
       "      <td>1000_0</td>\n",
       "      <td>112.95</td>\n",
       "      <td>2018-11-25</td>\n",
       "      <td>1000</td>\n",
       "    </tr>\n",
       "    <tr>\n",
       "      <td>1</td>\n",
       "      <td>1</td>\n",
       "      <td>1000_1</td>\n",
       "      <td>1052.81</td>\n",
       "      <td>2018-09-07</td>\n",
       "      <td>1000</td>\n",
       "    </tr>\n",
       "    <tr>\n",
       "      <td>2</td>\n",
       "      <td>2</td>\n",
       "      <td>1000_2</td>\n",
       "      <td>1197.26</td>\n",
       "      <td>2018-06-25</td>\n",
       "      <td>1000</td>\n",
       "    </tr>\n",
       "    <tr>\n",
       "      <td>3</td>\n",
       "      <td>3</td>\n",
       "      <td>1000_3</td>\n",
       "      <td>550.27</td>\n",
       "      <td>2018-08-22</td>\n",
       "      <td>1000</td>\n",
       "    </tr>\n",
       "    <tr>\n",
       "      <td>4</td>\n",
       "      <td>4</td>\n",
       "      <td>1000_4</td>\n",
       "      <td>302.56</td>\n",
       "      <td>2018-09-24</td>\n",
       "      <td>1000</td>\n",
       "    </tr>\n",
       "    <tr>\n",
       "      <td>5</td>\n",
       "      <td>5</td>\n",
       "      <td>1000_5</td>\n",
       "      <td>399.97</td>\n",
       "      <td>2018-10-02</td>\n",
       "      <td>1000</td>\n",
       "    </tr>\n",
       "    <tr>\n",
       "      <td>6</td>\n",
       "      <td>6</td>\n",
       "      <td>1000_6</td>\n",
       "      <td>540.08</td>\n",
       "      <td>2018-09-07</td>\n",
       "      <td>1000</td>\n",
       "    </tr>\n",
       "    <tr>\n",
       "      <td>7</td>\n",
       "      <td>7</td>\n",
       "      <td>1000_7</td>\n",
       "      <td>415.70</td>\n",
       "      <td>2018-07-11</td>\n",
       "      <td>1000</td>\n",
       "    </tr>\n",
       "    <tr>\n",
       "      <td>8</td>\n",
       "      <td>8</td>\n",
       "      <td>1000_8</td>\n",
       "      <td>505.40</td>\n",
       "      <td>2018-10-08</td>\n",
       "      <td>1000</td>\n",
       "    </tr>\n",
       "    <tr>\n",
       "      <td>9</td>\n",
       "      <td>9</td>\n",
       "      <td>1000_9</td>\n",
       "      <td>345.54</td>\n",
       "      <td>2018-09-03</td>\n",
       "      <td>1000</td>\n",
       "    </tr>\n",
       "  </tbody>\n",
       "</table>\n",
       "</div>"
      ],
      "text/plain": [
       "   Unnamed: 0      id  mb_used session_date  user_id\n",
       "0           0  1000_0   112.95   2018-11-25     1000\n",
       "1           1  1000_1  1052.81   2018-09-07     1000\n",
       "2           2  1000_2  1197.26   2018-06-25     1000\n",
       "3           3  1000_3   550.27   2018-08-22     1000\n",
       "4           4  1000_4   302.56   2018-09-24     1000\n",
       "5           5  1000_5   399.97   2018-10-02     1000\n",
       "6           6  1000_6   540.08   2018-09-07     1000\n",
       "7           7  1000_7   415.70   2018-07-11     1000\n",
       "8           8  1000_8   505.40   2018-10-08     1000\n",
       "9           9  1000_9   345.54   2018-09-03     1000"
      ]
     },
     "metadata": {},
     "output_type": "display_data"
    },
    {
     "name": "stdout",
     "output_type": "stream",
     "text": [
      "<class 'pandas.core.frame.DataFrame'>\n",
      "RangeIndex: 149396 entries, 0 to 149395\n",
      "Data columns (total 5 columns):\n",
      "Unnamed: 0      149396 non-null int64\n",
      "id              149396 non-null object\n",
      "mb_used         149396 non-null float64\n",
      "session_date    149396 non-null object\n",
      "user_id         149396 non-null int64\n",
      "dtypes: float64(1), int64(2), object(2)\n",
      "memory usage: 5.7+ MB\n"
     ]
    }
   ],
   "source": [
    "internet_df = pd.read_csv('/datasets/internet.csv',sep = ',') #прочитали файл и сохранили в переменной data, применив разделитель \n",
    "pd.set_option('display.max_columns', None)\n",
    "display(internet_df.head(10)) # выводим на экран первые 10 строк таблицы\n",
    "internet_df.info()"
   ]
  },
  {
   "cell_type": "markdown",
   "metadata": {},
   "source": [
    "В таблице internet нет пропусков в данных. Есть столбец unnamed:0, который дублирует порядковые номера, его можно удалить. Тип данных в столбце session_date следует заменить на тип данных datetime."
   ]
  },
  {
   "cell_type": "code",
   "execution_count": 3,
   "metadata": {},
   "outputs": [
    {
     "data": {
      "text/html": [
       "<div>\n",
       "<style scoped>\n",
       "    .dataframe tbody tr th:only-of-type {\n",
       "        vertical-align: middle;\n",
       "    }\n",
       "\n",
       "    .dataframe tbody tr th {\n",
       "        vertical-align: top;\n",
       "    }\n",
       "\n",
       "    .dataframe thead th {\n",
       "        text-align: right;\n",
       "    }\n",
       "</style>\n",
       "<table border=\"1\" class=\"dataframe\">\n",
       "  <thead>\n",
       "    <tr style=\"text-align: right;\">\n",
       "      <th></th>\n",
       "      <th>id</th>\n",
       "      <th>message_date</th>\n",
       "      <th>user_id</th>\n",
       "    </tr>\n",
       "  </thead>\n",
       "  <tbody>\n",
       "    <tr>\n",
       "      <td>0</td>\n",
       "      <td>1000_0</td>\n",
       "      <td>2018-06-27</td>\n",
       "      <td>1000</td>\n",
       "    </tr>\n",
       "    <tr>\n",
       "      <td>1</td>\n",
       "      <td>1000_1</td>\n",
       "      <td>2018-10-08</td>\n",
       "      <td>1000</td>\n",
       "    </tr>\n",
       "    <tr>\n",
       "      <td>2</td>\n",
       "      <td>1000_2</td>\n",
       "      <td>2018-08-04</td>\n",
       "      <td>1000</td>\n",
       "    </tr>\n",
       "    <tr>\n",
       "      <td>3</td>\n",
       "      <td>1000_3</td>\n",
       "      <td>2018-06-16</td>\n",
       "      <td>1000</td>\n",
       "    </tr>\n",
       "    <tr>\n",
       "      <td>4</td>\n",
       "      <td>1000_4</td>\n",
       "      <td>2018-12-05</td>\n",
       "      <td>1000</td>\n",
       "    </tr>\n",
       "    <tr>\n",
       "      <td>5</td>\n",
       "      <td>1000_5</td>\n",
       "      <td>2018-06-20</td>\n",
       "      <td>1000</td>\n",
       "    </tr>\n",
       "    <tr>\n",
       "      <td>6</td>\n",
       "      <td>1000_6</td>\n",
       "      <td>2018-11-19</td>\n",
       "      <td>1000</td>\n",
       "    </tr>\n",
       "    <tr>\n",
       "      <td>7</td>\n",
       "      <td>1000_7</td>\n",
       "      <td>2018-10-29</td>\n",
       "      <td>1000</td>\n",
       "    </tr>\n",
       "    <tr>\n",
       "      <td>8</td>\n",
       "      <td>1000_8</td>\n",
       "      <td>2018-06-25</td>\n",
       "      <td>1000</td>\n",
       "    </tr>\n",
       "    <tr>\n",
       "      <td>9</td>\n",
       "      <td>1000_9</td>\n",
       "      <td>2018-12-18</td>\n",
       "      <td>1000</td>\n",
       "    </tr>\n",
       "  </tbody>\n",
       "</table>\n",
       "</div>"
      ],
      "text/plain": [
       "       id message_date  user_id\n",
       "0  1000_0   2018-06-27     1000\n",
       "1  1000_1   2018-10-08     1000\n",
       "2  1000_2   2018-08-04     1000\n",
       "3  1000_3   2018-06-16     1000\n",
       "4  1000_4   2018-12-05     1000\n",
       "5  1000_5   2018-06-20     1000\n",
       "6  1000_6   2018-11-19     1000\n",
       "7  1000_7   2018-10-29     1000\n",
       "8  1000_8   2018-06-25     1000\n",
       "9  1000_9   2018-12-18     1000"
      ]
     },
     "metadata": {},
     "output_type": "display_data"
    },
    {
     "name": "stdout",
     "output_type": "stream",
     "text": [
      "<class 'pandas.core.frame.DataFrame'>\n",
      "RangeIndex: 123036 entries, 0 to 123035\n",
      "Data columns (total 3 columns):\n",
      "id              123036 non-null object\n",
      "message_date    123036 non-null object\n",
      "user_id         123036 non-null int64\n",
      "dtypes: int64(1), object(2)\n",
      "memory usage: 2.8+ MB\n"
     ]
    }
   ],
   "source": [
    "messages_df = pd.read_csv('/datasets/messages.csv',sep = ',') #прочитали файл и сохранили в переменной data, применив разделитель \n",
    "pd.set_option('display.max_columns', None)\n",
    "display(messages_df.head(10)) # выводим на экран первые 10 строк таблицы\n",
    "messages_df.info()"
   ]
  },
  {
   "cell_type": "markdown",
   "metadata": {},
   "source": [
    "В таблице messages нет пропусков. В столбце message_date следует измнеить тип данных на datetime."
   ]
  },
  {
   "cell_type": "code",
   "execution_count": 4,
   "metadata": {},
   "outputs": [
    {
     "data": {
      "text/html": [
       "<div>\n",
       "<style scoped>\n",
       "    .dataframe tbody tr th:only-of-type {\n",
       "        vertical-align: middle;\n",
       "    }\n",
       "\n",
       "    .dataframe tbody tr th {\n",
       "        vertical-align: top;\n",
       "    }\n",
       "\n",
       "    .dataframe thead th {\n",
       "        text-align: right;\n",
       "    }\n",
       "</style>\n",
       "<table border=\"1\" class=\"dataframe\">\n",
       "  <thead>\n",
       "    <tr style=\"text-align: right;\">\n",
       "      <th></th>\n",
       "      <th>messages_included</th>\n",
       "      <th>mb_per_month_included</th>\n",
       "      <th>minutes_included</th>\n",
       "      <th>rub_monthly_fee</th>\n",
       "      <th>rub_per_gb</th>\n",
       "      <th>rub_per_message</th>\n",
       "      <th>rub_per_minute</th>\n",
       "      <th>tariff_name</th>\n",
       "    </tr>\n",
       "  </thead>\n",
       "  <tbody>\n",
       "    <tr>\n",
       "      <td>0</td>\n",
       "      <td>50</td>\n",
       "      <td>15360</td>\n",
       "      <td>500</td>\n",
       "      <td>550</td>\n",
       "      <td>200</td>\n",
       "      <td>3</td>\n",
       "      <td>3</td>\n",
       "      <td>smart</td>\n",
       "    </tr>\n",
       "    <tr>\n",
       "      <td>1</td>\n",
       "      <td>1000</td>\n",
       "      <td>30720</td>\n",
       "      <td>3000</td>\n",
       "      <td>1950</td>\n",
       "      <td>150</td>\n",
       "      <td>1</td>\n",
       "      <td>1</td>\n",
       "      <td>ultra</td>\n",
       "    </tr>\n",
       "  </tbody>\n",
       "</table>\n",
       "</div>"
      ],
      "text/plain": [
       "   messages_included  mb_per_month_included  minutes_included  \\\n",
       "0                 50                  15360               500   \n",
       "1               1000                  30720              3000   \n",
       "\n",
       "   rub_monthly_fee  rub_per_gb  rub_per_message  rub_per_minute tariff_name  \n",
       "0              550         200                3               3       smart  \n",
       "1             1950         150                1               1       ultra  "
      ]
     },
     "metadata": {},
     "output_type": "display_data"
    },
    {
     "name": "stdout",
     "output_type": "stream",
     "text": [
      "<class 'pandas.core.frame.DataFrame'>\n",
      "RangeIndex: 2 entries, 0 to 1\n",
      "Data columns (total 8 columns):\n",
      "messages_included        2 non-null int64\n",
      "mb_per_month_included    2 non-null int64\n",
      "minutes_included         2 non-null int64\n",
      "rub_monthly_fee          2 non-null int64\n",
      "rub_per_gb               2 non-null int64\n",
      "rub_per_message          2 non-null int64\n",
      "rub_per_minute           2 non-null int64\n",
      "tariff_name              2 non-null object\n",
      "dtypes: int64(7), object(1)\n",
      "memory usage: 256.0+ bytes\n"
     ]
    }
   ],
   "source": [
    "tariffs_df = pd.read_csv('/datasets/tariffs.csv',sep = ',') #прочитали файл и сохранили в переменной data, применив разделитель \n",
    "pd.set_option('display.max_columns', None)\n",
    "display(tariffs_df.head(20)) # выводим на экран первые 10 строк таблицы\n",
    "tariffs_df.info()"
   ]
  },
  {
   "cell_type": "markdown",
   "metadata": {},
   "source": [
    "В таблице tariffs тоже нет пропусков. С данными все в порядке."
   ]
  },
  {
   "cell_type": "code",
   "execution_count": 5,
   "metadata": {
    "scrolled": true
   },
   "outputs": [
    {
     "data": {
      "text/html": [
       "<div>\n",
       "<style scoped>\n",
       "    .dataframe tbody tr th:only-of-type {\n",
       "        vertical-align: middle;\n",
       "    }\n",
       "\n",
       "    .dataframe tbody tr th {\n",
       "        vertical-align: top;\n",
       "    }\n",
       "\n",
       "    .dataframe thead th {\n",
       "        text-align: right;\n",
       "    }\n",
       "</style>\n",
       "<table border=\"1\" class=\"dataframe\">\n",
       "  <thead>\n",
       "    <tr style=\"text-align: right;\">\n",
       "      <th></th>\n",
       "      <th>user_id</th>\n",
       "      <th>age</th>\n",
       "      <th>churn_date</th>\n",
       "      <th>city</th>\n",
       "      <th>first_name</th>\n",
       "      <th>last_name</th>\n",
       "      <th>reg_date</th>\n",
       "      <th>tariff</th>\n",
       "    </tr>\n",
       "  </thead>\n",
       "  <tbody>\n",
       "    <tr>\n",
       "      <td>0</td>\n",
       "      <td>1000</td>\n",
       "      <td>52</td>\n",
       "      <td>NaN</td>\n",
       "      <td>Краснодар</td>\n",
       "      <td>Рафаил</td>\n",
       "      <td>Верещагин</td>\n",
       "      <td>2018-05-25</td>\n",
       "      <td>ultra</td>\n",
       "    </tr>\n",
       "    <tr>\n",
       "      <td>1</td>\n",
       "      <td>1001</td>\n",
       "      <td>41</td>\n",
       "      <td>NaN</td>\n",
       "      <td>Москва</td>\n",
       "      <td>Иван</td>\n",
       "      <td>Ежов</td>\n",
       "      <td>2018-11-01</td>\n",
       "      <td>smart</td>\n",
       "    </tr>\n",
       "    <tr>\n",
       "      <td>2</td>\n",
       "      <td>1002</td>\n",
       "      <td>59</td>\n",
       "      <td>NaN</td>\n",
       "      <td>Стерлитамак</td>\n",
       "      <td>Евгений</td>\n",
       "      <td>Абрамович</td>\n",
       "      <td>2018-06-17</td>\n",
       "      <td>smart</td>\n",
       "    </tr>\n",
       "    <tr>\n",
       "      <td>3</td>\n",
       "      <td>1003</td>\n",
       "      <td>23</td>\n",
       "      <td>NaN</td>\n",
       "      <td>Москва</td>\n",
       "      <td>Белла</td>\n",
       "      <td>Белякова</td>\n",
       "      <td>2018-08-17</td>\n",
       "      <td>ultra</td>\n",
       "    </tr>\n",
       "    <tr>\n",
       "      <td>4</td>\n",
       "      <td>1004</td>\n",
       "      <td>68</td>\n",
       "      <td>NaN</td>\n",
       "      <td>Новокузнецк</td>\n",
       "      <td>Татьяна</td>\n",
       "      <td>Авдеенко</td>\n",
       "      <td>2018-05-14</td>\n",
       "      <td>ultra</td>\n",
       "    </tr>\n",
       "    <tr>\n",
       "      <td>5</td>\n",
       "      <td>1005</td>\n",
       "      <td>67</td>\n",
       "      <td>NaN</td>\n",
       "      <td>Набережные Челны</td>\n",
       "      <td>Афанасий</td>\n",
       "      <td>Горлов</td>\n",
       "      <td>2018-01-25</td>\n",
       "      <td>smart</td>\n",
       "    </tr>\n",
       "    <tr>\n",
       "      <td>6</td>\n",
       "      <td>1006</td>\n",
       "      <td>21</td>\n",
       "      <td>NaN</td>\n",
       "      <td>Ульяновск</td>\n",
       "      <td>Леонид</td>\n",
       "      <td>Ермолаев</td>\n",
       "      <td>2018-02-26</td>\n",
       "      <td>smart</td>\n",
       "    </tr>\n",
       "    <tr>\n",
       "      <td>7</td>\n",
       "      <td>1007</td>\n",
       "      <td>65</td>\n",
       "      <td>NaN</td>\n",
       "      <td>Москва</td>\n",
       "      <td>Юна</td>\n",
       "      <td>Березина</td>\n",
       "      <td>2018-04-19</td>\n",
       "      <td>smart</td>\n",
       "    </tr>\n",
       "    <tr>\n",
       "      <td>8</td>\n",
       "      <td>1008</td>\n",
       "      <td>63</td>\n",
       "      <td>NaN</td>\n",
       "      <td>Челябинск</td>\n",
       "      <td>Рустэм</td>\n",
       "      <td>Пономарёв</td>\n",
       "      <td>2018-12-19</td>\n",
       "      <td>smart</td>\n",
       "    </tr>\n",
       "    <tr>\n",
       "      <td>9</td>\n",
       "      <td>1009</td>\n",
       "      <td>24</td>\n",
       "      <td>NaN</td>\n",
       "      <td>Пермь</td>\n",
       "      <td>Василиса</td>\n",
       "      <td>Блинова</td>\n",
       "      <td>2018-03-22</td>\n",
       "      <td>smart</td>\n",
       "    </tr>\n",
       "  </tbody>\n",
       "</table>\n",
       "</div>"
      ],
      "text/plain": [
       "   user_id  age churn_date              city first_name  last_name  \\\n",
       "0     1000   52        NaN         Краснодар     Рафаил  Верещагин   \n",
       "1     1001   41        NaN            Москва       Иван       Ежов   \n",
       "2     1002   59        NaN       Стерлитамак    Евгений  Абрамович   \n",
       "3     1003   23        NaN            Москва      Белла   Белякова   \n",
       "4     1004   68        NaN       Новокузнецк    Татьяна   Авдеенко   \n",
       "5     1005   67        NaN  Набережные Челны   Афанасий     Горлов   \n",
       "6     1006   21        NaN         Ульяновск     Леонид   Ермолаев   \n",
       "7     1007   65        NaN            Москва        Юна   Березина   \n",
       "8     1008   63        NaN         Челябинск     Рустэм  Пономарёв   \n",
       "9     1009   24        NaN             Пермь   Василиса    Блинова   \n",
       "\n",
       "     reg_date tariff  \n",
       "0  2018-05-25  ultra  \n",
       "1  2018-11-01  smart  \n",
       "2  2018-06-17  smart  \n",
       "3  2018-08-17  ultra  \n",
       "4  2018-05-14  ultra  \n",
       "5  2018-01-25  smart  \n",
       "6  2018-02-26  smart  \n",
       "7  2018-04-19  smart  \n",
       "8  2018-12-19  smart  \n",
       "9  2018-03-22  smart  "
      ]
     },
     "metadata": {},
     "output_type": "display_data"
    },
    {
     "name": "stdout",
     "output_type": "stream",
     "text": [
      "<class 'pandas.core.frame.DataFrame'>\n",
      "RangeIndex: 500 entries, 0 to 499\n",
      "Data columns (total 8 columns):\n",
      "user_id       500 non-null int64\n",
      "age           500 non-null int64\n",
      "churn_date    38 non-null object\n",
      "city          500 non-null object\n",
      "first_name    500 non-null object\n",
      "last_name     500 non-null object\n",
      "reg_date      500 non-null object\n",
      "tariff        500 non-null object\n",
      "dtypes: int64(2), object(6)\n",
      "memory usage: 31.4+ KB\n"
     ]
    }
   ],
   "source": [
    "users_df = pd.read_csv('/datasets/users.csv',sep = ',') #прочитали файл и сохранили в переменной data, применив разделитель \n",
    "pd.set_option('display.max_columns', None)\n",
    "display(users_df.head(10)) # выводим на экран первые 10 строк таблицы\n",
    "users_df.info()"
   ]
  },
  {
   "cell_type": "markdown",
   "metadata": {},
   "source": [
    "В таблице users есть пропуски в столбце churn_date. Пропуски тут логичны и объясняются тем, что пользователь не прекращал пользоваться тарифом на момент выгрузки данных."
   ]
  },
  {
   "cell_type": "markdown",
   "metadata": {},
   "source": [
    "Также посмотрим дубликаты в исходных данных"
   ]
  },
  {
   "cell_type": "code",
   "execution_count": 6,
   "metadata": {},
   "outputs": [
    {
     "data": {
      "text/plain": [
       "0"
      ]
     },
     "execution_count": 6,
     "metadata": {},
     "output_type": "execute_result"
    }
   ],
   "source": [
    "calls_df.duplicated().sum() # поиск дубликатов"
   ]
  },
  {
   "cell_type": "code",
   "execution_count": 7,
   "metadata": {},
   "outputs": [
    {
     "data": {
      "text/plain": [
       "0"
      ]
     },
     "execution_count": 7,
     "metadata": {},
     "output_type": "execute_result"
    }
   ],
   "source": [
    "internet_df.duplicated().sum() # поиск дубликатов"
   ]
  },
  {
   "cell_type": "code",
   "execution_count": 8,
   "metadata": {},
   "outputs": [
    {
     "data": {
      "text/plain": [
       "0"
      ]
     },
     "execution_count": 8,
     "metadata": {},
     "output_type": "execute_result"
    }
   ],
   "source": [
    "users_df.duplicated().sum() # поиск дубликатов"
   ]
  },
  {
   "cell_type": "code",
   "execution_count": 9,
   "metadata": {},
   "outputs": [
    {
     "data": {
      "text/plain": [
       "0"
      ]
     },
     "execution_count": 9,
     "metadata": {},
     "output_type": "execute_result"
    }
   ],
   "source": [
    "messages_df.duplicated().sum() # поиск дубликатов"
   ]
  },
  {
   "cell_type": "markdown",
   "metadata": {},
   "source": [
    "Дубликатов в исходных данных нет."
   ]
  },
  {
   "cell_type": "markdown",
   "metadata": {},
   "source": [
    "### Вывод"
   ]
  },
  {
   "cell_type": "markdown",
   "metadata": {},
   "source": [
    "Данные предоставлены в хорошом виде, остается только изменить тип данных в столбцах с датой."
   ]
  },
  {
   "cell_type": "markdown",
   "metadata": {},
   "source": [
    "## Предобработка и подготовка данных"
   ]
  },
  {
   "cell_type": "markdown",
   "metadata": {},
   "source": [
    "### Обработка данных"
   ]
  },
  {
   "cell_type": "code",
   "execution_count": 10,
   "metadata": {},
   "outputs": [
    {
     "data": {
      "text/html": [
       "<div>\n",
       "<style scoped>\n",
       "    .dataframe tbody tr th:only-of-type {\n",
       "        vertical-align: middle;\n",
       "    }\n",
       "\n",
       "    .dataframe tbody tr th {\n",
       "        vertical-align: top;\n",
       "    }\n",
       "\n",
       "    .dataframe thead th {\n",
       "        text-align: right;\n",
       "    }\n",
       "</style>\n",
       "<table border=\"1\" class=\"dataframe\">\n",
       "  <thead>\n",
       "    <tr style=\"text-align: right;\">\n",
       "      <th></th>\n",
       "      <th>user_id</th>\n",
       "      <th>age</th>\n",
       "    </tr>\n",
       "  </thead>\n",
       "  <tbody>\n",
       "    <tr>\n",
       "      <td>count</td>\n",
       "      <td>500.000000</td>\n",
       "      <td>500.00000</td>\n",
       "    </tr>\n",
       "    <tr>\n",
       "      <td>mean</td>\n",
       "      <td>1249.500000</td>\n",
       "      <td>46.58800</td>\n",
       "    </tr>\n",
       "    <tr>\n",
       "      <td>std</td>\n",
       "      <td>144.481833</td>\n",
       "      <td>16.66763</td>\n",
       "    </tr>\n",
       "    <tr>\n",
       "      <td>min</td>\n",
       "      <td>1000.000000</td>\n",
       "      <td>18.00000</td>\n",
       "    </tr>\n",
       "    <tr>\n",
       "      <td>25%</td>\n",
       "      <td>1124.750000</td>\n",
       "      <td>32.00000</td>\n",
       "    </tr>\n",
       "    <tr>\n",
       "      <td>50%</td>\n",
       "      <td>1249.500000</td>\n",
       "      <td>46.00000</td>\n",
       "    </tr>\n",
       "    <tr>\n",
       "      <td>75%</td>\n",
       "      <td>1374.250000</td>\n",
       "      <td>62.00000</td>\n",
       "    </tr>\n",
       "    <tr>\n",
       "      <td>max</td>\n",
       "      <td>1499.000000</td>\n",
       "      <td>75.00000</td>\n",
       "    </tr>\n",
       "  </tbody>\n",
       "</table>\n",
       "</div>"
      ],
      "text/plain": [
       "           user_id        age\n",
       "count   500.000000  500.00000\n",
       "mean   1249.500000   46.58800\n",
       "std     144.481833   16.66763\n",
       "min    1000.000000   18.00000\n",
       "25%    1124.750000   32.00000\n",
       "50%    1249.500000   46.00000\n",
       "75%    1374.250000   62.00000\n",
       "max    1499.000000   75.00000"
      ]
     },
     "execution_count": 10,
     "metadata": {},
     "output_type": "execute_result"
    }
   ],
   "source": [
    "users_df.describe() # смотрим описательную статистику"
   ]
  },
  {
   "cell_type": "markdown",
   "metadata": {},
   "source": [
    "В столбце age с возрастом у нас все хорошо, минимальный 18, максимальный 75. Все реально и правдоподобно."
   ]
  },
  {
   "cell_type": "code",
   "execution_count": 11,
   "metadata": {},
   "outputs": [
    {
     "data": {
      "text/html": [
       "<div>\n",
       "<style scoped>\n",
       "    .dataframe tbody tr th:only-of-type {\n",
       "        vertical-align: middle;\n",
       "    }\n",
       "\n",
       "    .dataframe tbody tr th {\n",
       "        vertical-align: top;\n",
       "    }\n",
       "\n",
       "    .dataframe thead th {\n",
       "        text-align: right;\n",
       "    }\n",
       "</style>\n",
       "<table border=\"1\" class=\"dataframe\">\n",
       "  <thead>\n",
       "    <tr style=\"text-align: right;\">\n",
       "      <th></th>\n",
       "      <th>duration</th>\n",
       "      <th>user_id</th>\n",
       "    </tr>\n",
       "  </thead>\n",
       "  <tbody>\n",
       "    <tr>\n",
       "      <td>count</td>\n",
       "      <td>202607.000000</td>\n",
       "      <td>202607.000000</td>\n",
       "    </tr>\n",
       "    <tr>\n",
       "      <td>mean</td>\n",
       "      <td>6.755887</td>\n",
       "      <td>1253.940619</td>\n",
       "    </tr>\n",
       "    <tr>\n",
       "      <td>std</td>\n",
       "      <td>5.843365</td>\n",
       "      <td>144.722751</td>\n",
       "    </tr>\n",
       "    <tr>\n",
       "      <td>min</td>\n",
       "      <td>0.000000</td>\n",
       "      <td>1000.000000</td>\n",
       "    </tr>\n",
       "    <tr>\n",
       "      <td>25%</td>\n",
       "      <td>1.300000</td>\n",
       "      <td>1126.000000</td>\n",
       "    </tr>\n",
       "    <tr>\n",
       "      <td>50%</td>\n",
       "      <td>6.000000</td>\n",
       "      <td>1260.000000</td>\n",
       "    </tr>\n",
       "    <tr>\n",
       "      <td>75%</td>\n",
       "      <td>10.700000</td>\n",
       "      <td>1379.000000</td>\n",
       "    </tr>\n",
       "    <tr>\n",
       "      <td>max</td>\n",
       "      <td>38.000000</td>\n",
       "      <td>1499.000000</td>\n",
       "    </tr>\n",
       "  </tbody>\n",
       "</table>\n",
       "</div>"
      ],
      "text/plain": [
       "            duration        user_id\n",
       "count  202607.000000  202607.000000\n",
       "mean        6.755887    1253.940619\n",
       "std         5.843365     144.722751\n",
       "min         0.000000    1000.000000\n",
       "25%         1.300000    1126.000000\n",
       "50%         6.000000    1260.000000\n",
       "75%        10.700000    1379.000000\n",
       "max        38.000000    1499.000000"
      ]
     },
     "execution_count": 11,
     "metadata": {},
     "output_type": "execute_result"
    }
   ],
   "source": [
    "calls_df.describe() # смотрим описательную статистику"
   ]
  },
  {
   "cell_type": "markdown",
   "metadata": {},
   "source": [
    "В столбце duration есть нулевая продложительность разговора. По условию задачи это не ошибка: нулями обозначены пропущенные звонки, поэтому их не нужно удалять."
   ]
  },
  {
   "cell_type": "code",
   "execution_count": 12,
   "metadata": {
    "scrolled": true
   },
   "outputs": [
    {
     "data": {
      "text/html": [
       "<div>\n",
       "<style scoped>\n",
       "    .dataframe tbody tr th:only-of-type {\n",
       "        vertical-align: middle;\n",
       "    }\n",
       "\n",
       "    .dataframe tbody tr th {\n",
       "        vertical-align: top;\n",
       "    }\n",
       "\n",
       "    .dataframe thead th {\n",
       "        text-align: right;\n",
       "    }\n",
       "</style>\n",
       "<table border=\"1\" class=\"dataframe\">\n",
       "  <thead>\n",
       "    <tr style=\"text-align: right;\">\n",
       "      <th></th>\n",
       "      <th>user_id</th>\n",
       "    </tr>\n",
       "  </thead>\n",
       "  <tbody>\n",
       "    <tr>\n",
       "      <td>count</td>\n",
       "      <td>123036.000000</td>\n",
       "    </tr>\n",
       "    <tr>\n",
       "      <td>mean</td>\n",
       "      <td>1256.989410</td>\n",
       "    </tr>\n",
       "    <tr>\n",
       "      <td>std</td>\n",
       "      <td>143.523967</td>\n",
       "    </tr>\n",
       "    <tr>\n",
       "      <td>min</td>\n",
       "      <td>1000.000000</td>\n",
       "    </tr>\n",
       "    <tr>\n",
       "      <td>25%</td>\n",
       "      <td>1134.000000</td>\n",
       "    </tr>\n",
       "    <tr>\n",
       "      <td>50%</td>\n",
       "      <td>1271.000000</td>\n",
       "    </tr>\n",
       "    <tr>\n",
       "      <td>75%</td>\n",
       "      <td>1381.000000</td>\n",
       "    </tr>\n",
       "    <tr>\n",
       "      <td>max</td>\n",
       "      <td>1499.000000</td>\n",
       "    </tr>\n",
       "  </tbody>\n",
       "</table>\n",
       "</div>"
      ],
      "text/plain": [
       "             user_id\n",
       "count  123036.000000\n",
       "mean     1256.989410\n",
       "std       143.523967\n",
       "min      1000.000000\n",
       "25%      1134.000000\n",
       "50%      1271.000000\n",
       "75%      1381.000000\n",
       "max      1499.000000"
      ]
     },
     "execution_count": 12,
     "metadata": {},
     "output_type": "execute_result"
    }
   ],
   "source": [
    "messages_df.describe()# смотрим описательную статистику"
   ]
  },
  {
   "cell_type": "code",
   "execution_count": 13,
   "metadata": {
    "scrolled": true
   },
   "outputs": [
    {
     "data": {
      "text/html": [
       "<div>\n",
       "<style scoped>\n",
       "    .dataframe tbody tr th:only-of-type {\n",
       "        vertical-align: middle;\n",
       "    }\n",
       "\n",
       "    .dataframe tbody tr th {\n",
       "        vertical-align: top;\n",
       "    }\n",
       "\n",
       "    .dataframe thead th {\n",
       "        text-align: right;\n",
       "    }\n",
       "</style>\n",
       "<table border=\"1\" class=\"dataframe\">\n",
       "  <thead>\n",
       "    <tr style=\"text-align: right;\">\n",
       "      <th></th>\n",
       "      <th>Unnamed: 0</th>\n",
       "      <th>mb_used</th>\n",
       "      <th>user_id</th>\n",
       "    </tr>\n",
       "  </thead>\n",
       "  <tbody>\n",
       "    <tr>\n",
       "      <td>count</td>\n",
       "      <td>149396.000000</td>\n",
       "      <td>149396.000000</td>\n",
       "      <td>149396.000000</td>\n",
       "    </tr>\n",
       "    <tr>\n",
       "      <td>mean</td>\n",
       "      <td>74697.500000</td>\n",
       "      <td>370.192426</td>\n",
       "      <td>1252.099842</td>\n",
       "    </tr>\n",
       "    <tr>\n",
       "      <td>std</td>\n",
       "      <td>43127.054745</td>\n",
       "      <td>278.300951</td>\n",
       "      <td>144.050823</td>\n",
       "    </tr>\n",
       "    <tr>\n",
       "      <td>min</td>\n",
       "      <td>0.000000</td>\n",
       "      <td>0.000000</td>\n",
       "      <td>1000.000000</td>\n",
       "    </tr>\n",
       "    <tr>\n",
       "      <td>25%</td>\n",
       "      <td>37348.750000</td>\n",
       "      <td>138.187500</td>\n",
       "      <td>1130.000000</td>\n",
       "    </tr>\n",
       "    <tr>\n",
       "      <td>50%</td>\n",
       "      <td>74697.500000</td>\n",
       "      <td>348.015000</td>\n",
       "      <td>1251.000000</td>\n",
       "    </tr>\n",
       "    <tr>\n",
       "      <td>75%</td>\n",
       "      <td>112046.250000</td>\n",
       "      <td>559.552500</td>\n",
       "      <td>1380.000000</td>\n",
       "    </tr>\n",
       "    <tr>\n",
       "      <td>max</td>\n",
       "      <td>149395.000000</td>\n",
       "      <td>1724.830000</td>\n",
       "      <td>1499.000000</td>\n",
       "    </tr>\n",
       "  </tbody>\n",
       "</table>\n",
       "</div>"
      ],
      "text/plain": [
       "          Unnamed: 0        mb_used        user_id\n",
       "count  149396.000000  149396.000000  149396.000000\n",
       "mean    74697.500000     370.192426    1252.099842\n",
       "std     43127.054745     278.300951     144.050823\n",
       "min         0.000000       0.000000    1000.000000\n",
       "25%     37348.750000     138.187500    1130.000000\n",
       "50%     74697.500000     348.015000    1251.000000\n",
       "75%    112046.250000     559.552500    1380.000000\n",
       "max    149395.000000    1724.830000    1499.000000"
      ]
     },
     "execution_count": 13,
     "metadata": {},
     "output_type": "execute_result"
    }
   ],
   "source": [
    "internet_df.describe()# смотрим описательную статистику"
   ]
  },
  {
   "cell_type": "markdown",
   "metadata": {},
   "source": [
    "В столбце mb_used есть нули, предполагается, что пользователь не тратил интернет-трафик. Оставляем нули."
   ]
  },
  {
   "cell_type": "code",
   "execution_count": 14,
   "metadata": {
    "scrolled": true
   },
   "outputs": [],
   "source": [
    "#теперь приведем к типу времени столбцы с датой\n",
    "users_df['reg_date'] = pd.to_datetime(users_df['reg_date'], format='%Y-%m-%d') \n",
    "calls_df['call_date'] = pd.to_datetime(calls_df['call_date'], format='%Y-%m-%d') \n",
    "messages_df['message_date'] = pd.to_datetime(messages_df['message_date'], format='%Y-%m-%d') \n",
    "internet_df['session_date'] = pd.to_datetime(internet_df['session_date'], format='%Y-%m-%d')\n"
   ]
  },
  {
   "cell_type": "code",
   "execution_count": 15,
   "metadata": {},
   "outputs": [
    {
     "name": "stdout",
     "output_type": "stream",
     "text": [
      "<class 'pandas.core.frame.DataFrame'>\n",
      "RangeIndex: 500 entries, 0 to 499\n",
      "Data columns (total 8 columns):\n",
      "user_id       500 non-null int64\n",
      "age           500 non-null int64\n",
      "churn_date    38 non-null object\n",
      "city          500 non-null object\n",
      "first_name    500 non-null object\n",
      "last_name     500 non-null object\n",
      "reg_date      500 non-null datetime64[ns]\n",
      "tariff        500 non-null object\n",
      "dtypes: datetime64[ns](1), int64(2), object(5)\n",
      "memory usage: 31.4+ KB\n"
     ]
    }
   ],
   "source": [
    "users_df.info() #проверяем, что тип изменился"
   ]
  },
  {
   "cell_type": "code",
   "execution_count": 16,
   "metadata": {},
   "outputs": [
    {
     "name": "stdout",
     "output_type": "stream",
     "text": [
      "<class 'pandas.core.frame.DataFrame'>\n",
      "RangeIndex: 202607 entries, 0 to 202606\n",
      "Data columns (total 4 columns):\n",
      "id           202607 non-null object\n",
      "call_date    202607 non-null datetime64[ns]\n",
      "duration     202607 non-null float64\n",
      "user_id      202607 non-null int64\n",
      "dtypes: datetime64[ns](1), float64(1), int64(1), object(1)\n",
      "memory usage: 6.2+ MB\n"
     ]
    }
   ],
   "source": [
    "calls_df.info()#проверяем, что тип изменился"
   ]
  },
  {
   "cell_type": "code",
   "execution_count": 17,
   "metadata": {},
   "outputs": [
    {
     "name": "stdout",
     "output_type": "stream",
     "text": [
      "<class 'pandas.core.frame.DataFrame'>\n",
      "RangeIndex: 123036 entries, 0 to 123035\n",
      "Data columns (total 3 columns):\n",
      "id              123036 non-null object\n",
      "message_date    123036 non-null datetime64[ns]\n",
      "user_id         123036 non-null int64\n",
      "dtypes: datetime64[ns](1), int64(1), object(1)\n",
      "memory usage: 2.8+ MB\n"
     ]
    }
   ],
   "source": [
    "messages_df.info()#проверяем, что тип изменился"
   ]
  },
  {
   "cell_type": "code",
   "execution_count": 18,
   "metadata": {},
   "outputs": [
    {
     "name": "stdout",
     "output_type": "stream",
     "text": [
      "<class 'pandas.core.frame.DataFrame'>\n",
      "RangeIndex: 149396 entries, 0 to 149395\n",
      "Data columns (total 5 columns):\n",
      "Unnamed: 0      149396 non-null int64\n",
      "id              149396 non-null object\n",
      "mb_used         149396 non-null float64\n",
      "session_date    149396 non-null datetime64[ns]\n",
      "user_id         149396 non-null int64\n",
      "dtypes: datetime64[ns](1), float64(1), int64(2), object(1)\n",
      "memory usage: 5.7+ MB\n"
     ]
    }
   ],
   "source": [
    "internet_df.info()#проверяем, что тип изменился"
   ]
  },
  {
   "cell_type": "markdown",
   "metadata": {},
   "source": [
    "Тип данных в столбцах с датой изменился."
   ]
  },
  {
   "cell_type": "markdown",
   "metadata": {},
   "source": [
    "Так как нас интересует период месяц, то добавляем столбец month в таблицах calls_df,users_df,messages_df,internet_df"
   ]
  },
  {
   "cell_type": "code",
   "execution_count": 19,
   "metadata": {},
   "outputs": [],
   "source": [
    "users_df['month'] = pd.DatetimeIndex(users_df['reg_date']).month\n",
    "calls_df['month'] = pd.DatetimeIndex(calls_df['call_date']).month\n",
    "messages_df['month'] = pd.DatetimeIndex(messages_df['message_date']).month\n",
    "internet_df['month'] = pd.DatetimeIndex(internet_df['session_date']).month\n"
   ]
  },
  {
   "cell_type": "markdown",
   "metadata": {},
   "source": [
    "Округляем продолжительность разговора в большую сторону, так как оператор округляет секунды до минут"
   ]
  },
  {
   "cell_type": "code",
   "execution_count": 20,
   "metadata": {},
   "outputs": [],
   "source": [
    "calls_df['duration'] = calls_df['duration'].apply(np.ceil)"
   ]
  },
  {
   "cell_type": "code",
   "execution_count": 21,
   "metadata": {},
   "outputs": [
    {
     "data": {
      "text/html": [
       "<div>\n",
       "<style scoped>\n",
       "    .dataframe tbody tr th:only-of-type {\n",
       "        vertical-align: middle;\n",
       "    }\n",
       "\n",
       "    .dataframe tbody tr th {\n",
       "        vertical-align: top;\n",
       "    }\n",
       "\n",
       "    .dataframe thead th {\n",
       "        text-align: right;\n",
       "    }\n",
       "</style>\n",
       "<table border=\"1\" class=\"dataframe\">\n",
       "  <thead>\n",
       "    <tr style=\"text-align: right;\">\n",
       "      <th></th>\n",
       "      <th>user_id</th>\n",
       "      <th>age</th>\n",
       "      <th>churn_date</th>\n",
       "      <th>city</th>\n",
       "      <th>first_name</th>\n",
       "      <th>last_name</th>\n",
       "      <th>reg_date</th>\n",
       "      <th>tariff</th>\n",
       "      <th>month</th>\n",
       "    </tr>\n",
       "  </thead>\n",
       "  <tbody>\n",
       "    <tr>\n",
       "      <td>0</td>\n",
       "      <td>1000</td>\n",
       "      <td>52</td>\n",
       "      <td>NaN</td>\n",
       "      <td>Краснодар</td>\n",
       "      <td>Рафаил</td>\n",
       "      <td>Верещагин</td>\n",
       "      <td>2018-05-25</td>\n",
       "      <td>ultra</td>\n",
       "      <td>5</td>\n",
       "    </tr>\n",
       "    <tr>\n",
       "      <td>1</td>\n",
       "      <td>1001</td>\n",
       "      <td>41</td>\n",
       "      <td>NaN</td>\n",
       "      <td>Москва</td>\n",
       "      <td>Иван</td>\n",
       "      <td>Ежов</td>\n",
       "      <td>2018-11-01</td>\n",
       "      <td>smart</td>\n",
       "      <td>11</td>\n",
       "    </tr>\n",
       "    <tr>\n",
       "      <td>2</td>\n",
       "      <td>1002</td>\n",
       "      <td>59</td>\n",
       "      <td>NaN</td>\n",
       "      <td>Стерлитамак</td>\n",
       "      <td>Евгений</td>\n",
       "      <td>Абрамович</td>\n",
       "      <td>2018-06-17</td>\n",
       "      <td>smart</td>\n",
       "      <td>6</td>\n",
       "    </tr>\n",
       "    <tr>\n",
       "      <td>3</td>\n",
       "      <td>1003</td>\n",
       "      <td>23</td>\n",
       "      <td>NaN</td>\n",
       "      <td>Москва</td>\n",
       "      <td>Белла</td>\n",
       "      <td>Белякова</td>\n",
       "      <td>2018-08-17</td>\n",
       "      <td>ultra</td>\n",
       "      <td>8</td>\n",
       "    </tr>\n",
       "    <tr>\n",
       "      <td>4</td>\n",
       "      <td>1004</td>\n",
       "      <td>68</td>\n",
       "      <td>NaN</td>\n",
       "      <td>Новокузнецк</td>\n",
       "      <td>Татьяна</td>\n",
       "      <td>Авдеенко</td>\n",
       "      <td>2018-05-14</td>\n",
       "      <td>ultra</td>\n",
       "      <td>5</td>\n",
       "    </tr>\n",
       "  </tbody>\n",
       "</table>\n",
       "</div>"
      ],
      "text/plain": [
       "   user_id  age churn_date         city first_name  last_name   reg_date  \\\n",
       "0     1000   52        NaN    Краснодар     Рафаил  Верещагин 2018-05-25   \n",
       "1     1001   41        NaN       Москва       Иван       Ежов 2018-11-01   \n",
       "2     1002   59        NaN  Стерлитамак    Евгений  Абрамович 2018-06-17   \n",
       "3     1003   23        NaN       Москва      Белла   Белякова 2018-08-17   \n",
       "4     1004   68        NaN  Новокузнецк    Татьяна   Авдеенко 2018-05-14   \n",
       "\n",
       "  tariff  month  \n",
       "0  ultra      5  \n",
       "1  smart     11  \n",
       "2  smart      6  \n",
       "3  ultra      8  \n",
       "4  ultra      5  "
      ]
     },
     "execution_count": 21,
     "metadata": {},
     "output_type": "execute_result"
    }
   ],
   "source": [
    "users_df.head() #проверили новый столбец "
   ]
  },
  {
   "cell_type": "code",
   "execution_count": 22,
   "metadata": {
    "scrolled": true
   },
   "outputs": [
    {
     "data": {
      "text/html": [
       "<div>\n",
       "<style scoped>\n",
       "    .dataframe tbody tr th:only-of-type {\n",
       "        vertical-align: middle;\n",
       "    }\n",
       "\n",
       "    .dataframe tbody tr th {\n",
       "        vertical-align: top;\n",
       "    }\n",
       "\n",
       "    .dataframe thead th {\n",
       "        text-align: right;\n",
       "    }\n",
       "</style>\n",
       "<table border=\"1\" class=\"dataframe\">\n",
       "  <thead>\n",
       "    <tr style=\"text-align: right;\">\n",
       "      <th></th>\n",
       "      <th>id</th>\n",
       "      <th>call_date</th>\n",
       "      <th>duration</th>\n",
       "      <th>user_id</th>\n",
       "      <th>month</th>\n",
       "    </tr>\n",
       "  </thead>\n",
       "  <tbody>\n",
       "    <tr>\n",
       "      <td>0</td>\n",
       "      <td>1000_0</td>\n",
       "      <td>2018-07-25</td>\n",
       "      <td>0.0</td>\n",
       "      <td>1000</td>\n",
       "      <td>7</td>\n",
       "    </tr>\n",
       "    <tr>\n",
       "      <td>1</td>\n",
       "      <td>1000_1</td>\n",
       "      <td>2018-08-17</td>\n",
       "      <td>0.0</td>\n",
       "      <td>1000</td>\n",
       "      <td>8</td>\n",
       "    </tr>\n",
       "    <tr>\n",
       "      <td>2</td>\n",
       "      <td>1000_2</td>\n",
       "      <td>2018-06-11</td>\n",
       "      <td>3.0</td>\n",
       "      <td>1000</td>\n",
       "      <td>6</td>\n",
       "    </tr>\n",
       "    <tr>\n",
       "      <td>3</td>\n",
       "      <td>1000_3</td>\n",
       "      <td>2018-09-21</td>\n",
       "      <td>14.0</td>\n",
       "      <td>1000</td>\n",
       "      <td>9</td>\n",
       "    </tr>\n",
       "    <tr>\n",
       "      <td>4</td>\n",
       "      <td>1000_4</td>\n",
       "      <td>2018-12-15</td>\n",
       "      <td>6.0</td>\n",
       "      <td>1000</td>\n",
       "      <td>12</td>\n",
       "    </tr>\n",
       "  </tbody>\n",
       "</table>\n",
       "</div>"
      ],
      "text/plain": [
       "       id  call_date  duration  user_id  month\n",
       "0  1000_0 2018-07-25       0.0     1000      7\n",
       "1  1000_1 2018-08-17       0.0     1000      8\n",
       "2  1000_2 2018-06-11       3.0     1000      6\n",
       "3  1000_3 2018-09-21      14.0     1000      9\n",
       "4  1000_4 2018-12-15       6.0     1000     12"
      ]
     },
     "execution_count": 22,
     "metadata": {},
     "output_type": "execute_result"
    }
   ],
   "source": [
    "calls_df.head()#проверили новый столбец и округление"
   ]
  },
  {
   "cell_type": "code",
   "execution_count": 23,
   "metadata": {
    "scrolled": true
   },
   "outputs": [
    {
     "data": {
      "text/html": [
       "<div>\n",
       "<style scoped>\n",
       "    .dataframe tbody tr th:only-of-type {\n",
       "        vertical-align: middle;\n",
       "    }\n",
       "\n",
       "    .dataframe tbody tr th {\n",
       "        vertical-align: top;\n",
       "    }\n",
       "\n",
       "    .dataframe thead th {\n",
       "        text-align: right;\n",
       "    }\n",
       "</style>\n",
       "<table border=\"1\" class=\"dataframe\">\n",
       "  <thead>\n",
       "    <tr style=\"text-align: right;\">\n",
       "      <th></th>\n",
       "      <th>id</th>\n",
       "      <th>message_date</th>\n",
       "      <th>user_id</th>\n",
       "      <th>month</th>\n",
       "    </tr>\n",
       "  </thead>\n",
       "  <tbody>\n",
       "    <tr>\n",
       "      <td>0</td>\n",
       "      <td>1000_0</td>\n",
       "      <td>2018-06-27</td>\n",
       "      <td>1000</td>\n",
       "      <td>6</td>\n",
       "    </tr>\n",
       "    <tr>\n",
       "      <td>1</td>\n",
       "      <td>1000_1</td>\n",
       "      <td>2018-10-08</td>\n",
       "      <td>1000</td>\n",
       "      <td>10</td>\n",
       "    </tr>\n",
       "    <tr>\n",
       "      <td>2</td>\n",
       "      <td>1000_2</td>\n",
       "      <td>2018-08-04</td>\n",
       "      <td>1000</td>\n",
       "      <td>8</td>\n",
       "    </tr>\n",
       "    <tr>\n",
       "      <td>3</td>\n",
       "      <td>1000_3</td>\n",
       "      <td>2018-06-16</td>\n",
       "      <td>1000</td>\n",
       "      <td>6</td>\n",
       "    </tr>\n",
       "    <tr>\n",
       "      <td>4</td>\n",
       "      <td>1000_4</td>\n",
       "      <td>2018-12-05</td>\n",
       "      <td>1000</td>\n",
       "      <td>12</td>\n",
       "    </tr>\n",
       "  </tbody>\n",
       "</table>\n",
       "</div>"
      ],
      "text/plain": [
       "       id message_date  user_id  month\n",
       "0  1000_0   2018-06-27     1000      6\n",
       "1  1000_1   2018-10-08     1000     10\n",
       "2  1000_2   2018-08-04     1000      8\n",
       "3  1000_3   2018-06-16     1000      6\n",
       "4  1000_4   2018-12-05     1000     12"
      ]
     },
     "execution_count": 23,
     "metadata": {},
     "output_type": "execute_result"
    }
   ],
   "source": [
    "messages_df.head()#проверили новый столбец "
   ]
  },
  {
   "cell_type": "code",
   "execution_count": 24,
   "metadata": {},
   "outputs": [
    {
     "data": {
      "text/html": [
       "<div>\n",
       "<style scoped>\n",
       "    .dataframe tbody tr th:only-of-type {\n",
       "        vertical-align: middle;\n",
       "    }\n",
       "\n",
       "    .dataframe tbody tr th {\n",
       "        vertical-align: top;\n",
       "    }\n",
       "\n",
       "    .dataframe thead th {\n",
       "        text-align: right;\n",
       "    }\n",
       "</style>\n",
       "<table border=\"1\" class=\"dataframe\">\n",
       "  <thead>\n",
       "    <tr style=\"text-align: right;\">\n",
       "      <th></th>\n",
       "      <th>Unnamed: 0</th>\n",
       "      <th>id</th>\n",
       "      <th>mb_used</th>\n",
       "      <th>session_date</th>\n",
       "      <th>user_id</th>\n",
       "      <th>month</th>\n",
       "    </tr>\n",
       "  </thead>\n",
       "  <tbody>\n",
       "    <tr>\n",
       "      <td>0</td>\n",
       "      <td>0</td>\n",
       "      <td>1000_0</td>\n",
       "      <td>112.95</td>\n",
       "      <td>2018-11-25</td>\n",
       "      <td>1000</td>\n",
       "      <td>11</td>\n",
       "    </tr>\n",
       "    <tr>\n",
       "      <td>1</td>\n",
       "      <td>1</td>\n",
       "      <td>1000_1</td>\n",
       "      <td>1052.81</td>\n",
       "      <td>2018-09-07</td>\n",
       "      <td>1000</td>\n",
       "      <td>9</td>\n",
       "    </tr>\n",
       "    <tr>\n",
       "      <td>2</td>\n",
       "      <td>2</td>\n",
       "      <td>1000_2</td>\n",
       "      <td>1197.26</td>\n",
       "      <td>2018-06-25</td>\n",
       "      <td>1000</td>\n",
       "      <td>6</td>\n",
       "    </tr>\n",
       "    <tr>\n",
       "      <td>3</td>\n",
       "      <td>3</td>\n",
       "      <td>1000_3</td>\n",
       "      <td>550.27</td>\n",
       "      <td>2018-08-22</td>\n",
       "      <td>1000</td>\n",
       "      <td>8</td>\n",
       "    </tr>\n",
       "    <tr>\n",
       "      <td>4</td>\n",
       "      <td>4</td>\n",
       "      <td>1000_4</td>\n",
       "      <td>302.56</td>\n",
       "      <td>2018-09-24</td>\n",
       "      <td>1000</td>\n",
       "      <td>9</td>\n",
       "    </tr>\n",
       "  </tbody>\n",
       "</table>\n",
       "</div>"
      ],
      "text/plain": [
       "   Unnamed: 0      id  mb_used session_date  user_id  month\n",
       "0           0  1000_0   112.95   2018-11-25     1000     11\n",
       "1           1  1000_1  1052.81   2018-09-07     1000      9\n",
       "2           2  1000_2  1197.26   2018-06-25     1000      6\n",
       "3           3  1000_3   550.27   2018-08-22     1000      8\n",
       "4           4  1000_4   302.56   2018-09-24     1000      9"
      ]
     },
     "execution_count": 24,
     "metadata": {},
     "output_type": "execute_result"
    }
   ],
   "source": [
    "internet_df.head()#проверили новый столбец "
   ]
  },
  {
   "cell_type": "markdown",
   "metadata": {},
   "source": [
    "### Расчет"
   ]
  },
  {
   "cell_type": "markdown",
   "metadata": {},
   "source": [
    "С помощью сводных таблиц считаем для каждого пользователя:\n",
    "\n",
    "\n"
   ]
  },
  {
   "cell_type": "code",
   "execution_count": 25,
   "metadata": {},
   "outputs": [
    {
     "data": {
      "text/html": [
       "<div>\n",
       "<style scoped>\n",
       "    .dataframe tbody tr th:only-of-type {\n",
       "        vertical-align: middle;\n",
       "    }\n",
       "\n",
       "    .dataframe tbody tr th {\n",
       "        vertical-align: top;\n",
       "    }\n",
       "\n",
       "    .dataframe thead th {\n",
       "        text-align: right;\n",
       "    }\n",
       "</style>\n",
       "<table border=\"1\" class=\"dataframe\">\n",
       "  <thead>\n",
       "    <tr style=\"text-align: right;\">\n",
       "      <th></th>\n",
       "      <th></th>\n",
       "      <th>calls_duration</th>\n",
       "    </tr>\n",
       "    <tr>\n",
       "      <th>user_id</th>\n",
       "      <th>month</th>\n",
       "      <th></th>\n",
       "    </tr>\n",
       "  </thead>\n",
       "  <tbody>\n",
       "    <tr>\n",
       "      <td rowspan=\"5\" valign=\"top\">1000</td>\n",
       "      <td>5</td>\n",
       "      <td>159.0</td>\n",
       "    </tr>\n",
       "    <tr>\n",
       "      <td>6</td>\n",
       "      <td>172.0</td>\n",
       "    </tr>\n",
       "    <tr>\n",
       "      <td>7</td>\n",
       "      <td>340.0</td>\n",
       "    </tr>\n",
       "    <tr>\n",
       "      <td>8</td>\n",
       "      <td>408.0</td>\n",
       "    </tr>\n",
       "    <tr>\n",
       "      <td>9</td>\n",
       "      <td>466.0</td>\n",
       "    </tr>\n",
       "  </tbody>\n",
       "</table>\n",
       "</div>"
      ],
      "text/plain": [
       "               calls_duration\n",
       "user_id month                \n",
       "1000    5               159.0\n",
       "        6               172.0\n",
       "        7               340.0\n",
       "        8               408.0\n",
       "        9               466.0"
      ]
     },
     "execution_count": 25,
     "metadata": {},
     "output_type": "execute_result"
    }
   ],
   "source": [
    "#-количество сделанных звонков и израсходованных минут разговора по месяцам\n",
    "calls_for_user = calls_df.pivot_table(index=['user_id','month'], values='duration',aggfunc='sum')\n",
    "calls_for_user.columns = ['calls_duration']\n",
    "calls_for_user.head()"
   ]
  },
  {
   "cell_type": "code",
   "execution_count": 26,
   "metadata": {},
   "outputs": [
    {
     "data": {
      "text/html": [
       "<div>\n",
       "<style scoped>\n",
       "    .dataframe tbody tr th:only-of-type {\n",
       "        vertical-align: middle;\n",
       "    }\n",
       "\n",
       "    .dataframe tbody tr th {\n",
       "        vertical-align: top;\n",
       "    }\n",
       "\n",
       "    .dataframe thead th {\n",
       "        text-align: right;\n",
       "    }\n",
       "</style>\n",
       "<table border=\"1\" class=\"dataframe\">\n",
       "  <thead>\n",
       "    <tr style=\"text-align: right;\">\n",
       "      <th></th>\n",
       "      <th></th>\n",
       "      <th>count_mb</th>\n",
       "    </tr>\n",
       "    <tr>\n",
       "      <th>user_id</th>\n",
       "      <th>month</th>\n",
       "      <th></th>\n",
       "    </tr>\n",
       "  </thead>\n",
       "  <tbody>\n",
       "    <tr>\n",
       "      <td>1498</td>\n",
       "      <td>10</td>\n",
       "      <td>20579.36</td>\n",
       "    </tr>\n",
       "    <tr>\n",
       "      <td rowspan=\"4\" valign=\"top\">1499</td>\n",
       "      <td>9</td>\n",
       "      <td>1845.75</td>\n",
       "    </tr>\n",
       "    <tr>\n",
       "      <td>10</td>\n",
       "      <td>17788.51</td>\n",
       "    </tr>\n",
       "    <tr>\n",
       "      <td>11</td>\n",
       "      <td>17963.31</td>\n",
       "    </tr>\n",
       "    <tr>\n",
       "      <td>12</td>\n",
       "      <td>13055.58</td>\n",
       "    </tr>\n",
       "  </tbody>\n",
       "</table>\n",
       "</div>"
      ],
      "text/plain": [
       "               count_mb\n",
       "user_id month          \n",
       "1498    10     20579.36\n",
       "1499    9       1845.75\n",
       "        10     17788.51\n",
       "        11     17963.31\n",
       "        12     13055.58"
      ]
     },
     "execution_count": 26,
     "metadata": {},
     "output_type": "execute_result"
    }
   ],
   "source": [
    "#-объем израсходованного интернет-трафика по месяцам\n",
    "internet_for_user = internet_df.pivot_table(index=['user_id','month'],values='mb_used',aggfunc='sum')\n",
    "internet_for_user.columns = ['count_mb']\n",
    "internet_for_user.tail()"
   ]
  },
  {
   "cell_type": "code",
   "execution_count": 27,
   "metadata": {},
   "outputs": [
    {
     "data": {
      "text/html": [
       "<div>\n",
       "<style scoped>\n",
       "    .dataframe tbody tr th:only-of-type {\n",
       "        vertical-align: middle;\n",
       "    }\n",
       "\n",
       "    .dataframe tbody tr th {\n",
       "        vertical-align: top;\n",
       "    }\n",
       "\n",
       "    .dataframe thead th {\n",
       "        text-align: right;\n",
       "    }\n",
       "</style>\n",
       "<table border=\"1\" class=\"dataframe\">\n",
       "  <thead>\n",
       "    <tr style=\"text-align: right;\">\n",
       "      <th></th>\n",
       "      <th></th>\n",
       "      <th>count_message</th>\n",
       "    </tr>\n",
       "    <tr>\n",
       "      <th>user_id</th>\n",
       "      <th>month</th>\n",
       "      <th></th>\n",
       "    </tr>\n",
       "  </thead>\n",
       "  <tbody>\n",
       "    <tr>\n",
       "      <td rowspan=\"5\" valign=\"top\">1000</td>\n",
       "      <td>5</td>\n",
       "      <td>22</td>\n",
       "    </tr>\n",
       "    <tr>\n",
       "      <td>6</td>\n",
       "      <td>60</td>\n",
       "    </tr>\n",
       "    <tr>\n",
       "      <td>7</td>\n",
       "      <td>75</td>\n",
       "    </tr>\n",
       "    <tr>\n",
       "      <td>8</td>\n",
       "      <td>81</td>\n",
       "    </tr>\n",
       "    <tr>\n",
       "      <td>9</td>\n",
       "      <td>57</td>\n",
       "    </tr>\n",
       "  </tbody>\n",
       "</table>\n",
       "</div>"
      ],
      "text/plain": [
       "               count_message\n",
       "user_id month               \n",
       "1000    5                 22\n",
       "        6                 60\n",
       "        7                 75\n",
       "        8                 81\n",
       "        9                 57"
      ]
     },
     "execution_count": 27,
     "metadata": {},
     "output_type": "execute_result"
    }
   ],
   "source": [
    "#-количество отправленных сообщений по месяцам\n",
    "messages_for_user = messages_df.pivot_table(index=['user_id','month'],values='id',aggfunc='count')\n",
    "messages_for_user.columns = ['count_message']\n",
    "messages_for_user.head()"
   ]
  },
  {
   "cell_type": "markdown",
   "metadata": {},
   "source": [
    "Соединяем все датасеты"
   ]
  },
  {
   "cell_type": "code",
   "execution_count": 28,
   "metadata": {},
   "outputs": [],
   "source": [
    "# для удобства приведем название столбцов с тарифами к одному написанию\n",
    "tariffs_df = tariffs_df.rename(columns={'tariff_name':'tariff'}) "
   ]
  },
  {
   "cell_type": "code",
   "execution_count": 29,
   "metadata": {
    "scrolled": false
   },
   "outputs": [
    {
     "data": {
      "text/html": [
       "<div>\n",
       "<style scoped>\n",
       "    .dataframe tbody tr th:only-of-type {\n",
       "        vertical-align: middle;\n",
       "    }\n",
       "\n",
       "    .dataframe tbody tr th {\n",
       "        vertical-align: top;\n",
       "    }\n",
       "\n",
       "    .dataframe thead th {\n",
       "        text-align: right;\n",
       "    }\n",
       "</style>\n",
       "<table border=\"1\" class=\"dataframe\">\n",
       "  <thead>\n",
       "    <tr style=\"text-align: right;\">\n",
       "      <th></th>\n",
       "      <th>index</th>\n",
       "      <th>user_id</th>\n",
       "      <th>month</th>\n",
       "      <th>calls_duration</th>\n",
       "      <th>count_mb</th>\n",
       "      <th>count_message</th>\n",
       "      <th>count_gb</th>\n",
       "      <th>city</th>\n",
       "      <th>tariff</th>\n",
       "      <th>messages_included</th>\n",
       "      <th>mb_per_month_included</th>\n",
       "      <th>minutes_included</th>\n",
       "      <th>rub_monthly_fee</th>\n",
       "      <th>rub_per_gb</th>\n",
       "      <th>rub_per_message</th>\n",
       "      <th>rub_per_minute</th>\n",
       "    </tr>\n",
       "  </thead>\n",
       "  <tbody>\n",
       "    <tr>\n",
       "      <td>0</td>\n",
       "      <td>0</td>\n",
       "      <td>1000</td>\n",
       "      <td>5.0</td>\n",
       "      <td>159.0</td>\n",
       "      <td>2253.49</td>\n",
       "      <td>22.0</td>\n",
       "      <td>3.0</td>\n",
       "      <td>Краснодар</td>\n",
       "      <td>ultra</td>\n",
       "      <td>1000</td>\n",
       "      <td>30720</td>\n",
       "      <td>3000</td>\n",
       "      <td>1950</td>\n",
       "      <td>150</td>\n",
       "      <td>1</td>\n",
       "      <td>1</td>\n",
       "    </tr>\n",
       "    <tr>\n",
       "      <td>1</td>\n",
       "      <td>1</td>\n",
       "      <td>1000</td>\n",
       "      <td>6.0</td>\n",
       "      <td>172.0</td>\n",
       "      <td>23233.77</td>\n",
       "      <td>60.0</td>\n",
       "      <td>23.0</td>\n",
       "      <td>Краснодар</td>\n",
       "      <td>ultra</td>\n",
       "      <td>1000</td>\n",
       "      <td>30720</td>\n",
       "      <td>3000</td>\n",
       "      <td>1950</td>\n",
       "      <td>150</td>\n",
       "      <td>1</td>\n",
       "      <td>1</td>\n",
       "    </tr>\n",
       "    <tr>\n",
       "      <td>2</td>\n",
       "      <td>2</td>\n",
       "      <td>1000</td>\n",
       "      <td>7.0</td>\n",
       "      <td>340.0</td>\n",
       "      <td>14003.64</td>\n",
       "      <td>75.0</td>\n",
       "      <td>14.0</td>\n",
       "      <td>Краснодар</td>\n",
       "      <td>ultra</td>\n",
       "      <td>1000</td>\n",
       "      <td>30720</td>\n",
       "      <td>3000</td>\n",
       "      <td>1950</td>\n",
       "      <td>150</td>\n",
       "      <td>1</td>\n",
       "      <td>1</td>\n",
       "    </tr>\n",
       "    <tr>\n",
       "      <td>3</td>\n",
       "      <td>3</td>\n",
       "      <td>1000</td>\n",
       "      <td>8.0</td>\n",
       "      <td>408.0</td>\n",
       "      <td>14055.93</td>\n",
       "      <td>81.0</td>\n",
       "      <td>14.0</td>\n",
       "      <td>Краснодар</td>\n",
       "      <td>ultra</td>\n",
       "      <td>1000</td>\n",
       "      <td>30720</td>\n",
       "      <td>3000</td>\n",
       "      <td>1950</td>\n",
       "      <td>150</td>\n",
       "      <td>1</td>\n",
       "      <td>1</td>\n",
       "    </tr>\n",
       "    <tr>\n",
       "      <td>4</td>\n",
       "      <td>4</td>\n",
       "      <td>1000</td>\n",
       "      <td>9.0</td>\n",
       "      <td>466.0</td>\n",
       "      <td>14568.91</td>\n",
       "      <td>57.0</td>\n",
       "      <td>15.0</td>\n",
       "      <td>Краснодар</td>\n",
       "      <td>ultra</td>\n",
       "      <td>1000</td>\n",
       "      <td>30720</td>\n",
       "      <td>3000</td>\n",
       "      <td>1950</td>\n",
       "      <td>150</td>\n",
       "      <td>1</td>\n",
       "      <td>1</td>\n",
       "    </tr>\n",
       "    <tr>\n",
       "      <td>5</td>\n",
       "      <td>5</td>\n",
       "      <td>1000</td>\n",
       "      <td>10.0</td>\n",
       "      <td>350.0</td>\n",
       "      <td>14702.49</td>\n",
       "      <td>73.0</td>\n",
       "      <td>15.0</td>\n",
       "      <td>Краснодар</td>\n",
       "      <td>ultra</td>\n",
       "      <td>1000</td>\n",
       "      <td>30720</td>\n",
       "      <td>3000</td>\n",
       "      <td>1950</td>\n",
       "      <td>150</td>\n",
       "      <td>1</td>\n",
       "      <td>1</td>\n",
       "    </tr>\n",
       "    <tr>\n",
       "      <td>6</td>\n",
       "      <td>6</td>\n",
       "      <td>1000</td>\n",
       "      <td>11.0</td>\n",
       "      <td>338.0</td>\n",
       "      <td>14756.47</td>\n",
       "      <td>58.0</td>\n",
       "      <td>15.0</td>\n",
       "      <td>Краснодар</td>\n",
       "      <td>ultra</td>\n",
       "      <td>1000</td>\n",
       "      <td>30720</td>\n",
       "      <td>3000</td>\n",
       "      <td>1950</td>\n",
       "      <td>150</td>\n",
       "      <td>1</td>\n",
       "      <td>1</td>\n",
       "    </tr>\n",
       "    <tr>\n",
       "      <td>7</td>\n",
       "      <td>7</td>\n",
       "      <td>1000</td>\n",
       "      <td>12.0</td>\n",
       "      <td>333.0</td>\n",
       "      <td>9817.61</td>\n",
       "      <td>70.0</td>\n",
       "      <td>10.0</td>\n",
       "      <td>Краснодар</td>\n",
       "      <td>ultra</td>\n",
       "      <td>1000</td>\n",
       "      <td>30720</td>\n",
       "      <td>3000</td>\n",
       "      <td>1950</td>\n",
       "      <td>150</td>\n",
       "      <td>1</td>\n",
       "      <td>1</td>\n",
       "    </tr>\n",
       "    <tr>\n",
       "      <td>8</td>\n",
       "      <td>8</td>\n",
       "      <td>1001</td>\n",
       "      <td>11.0</td>\n",
       "      <td>430.0</td>\n",
       "      <td>18429.34</td>\n",
       "      <td>NaN</td>\n",
       "      <td>18.0</td>\n",
       "      <td>Москва</td>\n",
       "      <td>smart</td>\n",
       "      <td>50</td>\n",
       "      <td>15360</td>\n",
       "      <td>500</td>\n",
       "      <td>550</td>\n",
       "      <td>200</td>\n",
       "      <td>3</td>\n",
       "      <td>3</td>\n",
       "    </tr>\n",
       "    <tr>\n",
       "      <td>9</td>\n",
       "      <td>9</td>\n",
       "      <td>1001</td>\n",
       "      <td>12.0</td>\n",
       "      <td>414.0</td>\n",
       "      <td>14036.66</td>\n",
       "      <td>NaN</td>\n",
       "      <td>14.0</td>\n",
       "      <td>Москва</td>\n",
       "      <td>smart</td>\n",
       "      <td>50</td>\n",
       "      <td>15360</td>\n",
       "      <td>500</td>\n",
       "      <td>550</td>\n",
       "      <td>200</td>\n",
       "      <td>3</td>\n",
       "      <td>3</td>\n",
       "    </tr>\n",
       "    <tr>\n",
       "      <td>10</td>\n",
       "      <td>10</td>\n",
       "      <td>1002</td>\n",
       "      <td>6.0</td>\n",
       "      <td>117.0</td>\n",
       "      <td>10856.82</td>\n",
       "      <td>4.0</td>\n",
       "      <td>11.0</td>\n",
       "      <td>Стерлитамак</td>\n",
       "      <td>smart</td>\n",
       "      <td>50</td>\n",
       "      <td>15360</td>\n",
       "      <td>500</td>\n",
       "      <td>550</td>\n",
       "      <td>200</td>\n",
       "      <td>3</td>\n",
       "      <td>3</td>\n",
       "    </tr>\n",
       "    <tr>\n",
       "      <td>11</td>\n",
       "      <td>11</td>\n",
       "      <td>1002</td>\n",
       "      <td>7.0</td>\n",
       "      <td>214.0</td>\n",
       "      <td>17580.10</td>\n",
       "      <td>11.0</td>\n",
       "      <td>18.0</td>\n",
       "      <td>Стерлитамак</td>\n",
       "      <td>smart</td>\n",
       "      <td>50</td>\n",
       "      <td>15360</td>\n",
       "      <td>500</td>\n",
       "      <td>550</td>\n",
       "      <td>200</td>\n",
       "      <td>3</td>\n",
       "      <td>3</td>\n",
       "    </tr>\n",
       "    <tr>\n",
       "      <td>12</td>\n",
       "      <td>12</td>\n",
       "      <td>1002</td>\n",
       "      <td>8.0</td>\n",
       "      <td>289.0</td>\n",
       "      <td>20319.26</td>\n",
       "      <td>13.0</td>\n",
       "      <td>20.0</td>\n",
       "      <td>Стерлитамак</td>\n",
       "      <td>smart</td>\n",
       "      <td>50</td>\n",
       "      <td>15360</td>\n",
       "      <td>500</td>\n",
       "      <td>550</td>\n",
       "      <td>200</td>\n",
       "      <td>3</td>\n",
       "      <td>3</td>\n",
       "    </tr>\n",
       "    <tr>\n",
       "      <td>13</td>\n",
       "      <td>13</td>\n",
       "      <td>1002</td>\n",
       "      <td>9.0</td>\n",
       "      <td>206.0</td>\n",
       "      <td>16691.08</td>\n",
       "      <td>4.0</td>\n",
       "      <td>17.0</td>\n",
       "      <td>Стерлитамак</td>\n",
       "      <td>smart</td>\n",
       "      <td>50</td>\n",
       "      <td>15360</td>\n",
       "      <td>500</td>\n",
       "      <td>550</td>\n",
       "      <td>200</td>\n",
       "      <td>3</td>\n",
       "      <td>3</td>\n",
       "    </tr>\n",
       "    <tr>\n",
       "      <td>14</td>\n",
       "      <td>14</td>\n",
       "      <td>1002</td>\n",
       "      <td>10.0</td>\n",
       "      <td>212.0</td>\n",
       "      <td>13888.25</td>\n",
       "      <td>10.0</td>\n",
       "      <td>14.0</td>\n",
       "      <td>Стерлитамак</td>\n",
       "      <td>smart</td>\n",
       "      <td>50</td>\n",
       "      <td>15360</td>\n",
       "      <td>500</td>\n",
       "      <td>550</td>\n",
       "      <td>200</td>\n",
       "      <td>3</td>\n",
       "      <td>3</td>\n",
       "    </tr>\n",
       "    <tr>\n",
       "      <td>15</td>\n",
       "      <td>15</td>\n",
       "      <td>1002</td>\n",
       "      <td>11.0</td>\n",
       "      <td>243.0</td>\n",
       "      <td>18587.28</td>\n",
       "      <td>16.0</td>\n",
       "      <td>19.0</td>\n",
       "      <td>Стерлитамак</td>\n",
       "      <td>smart</td>\n",
       "      <td>50</td>\n",
       "      <td>15360</td>\n",
       "      <td>500</td>\n",
       "      <td>550</td>\n",
       "      <td>200</td>\n",
       "      <td>3</td>\n",
       "      <td>3</td>\n",
       "    </tr>\n",
       "    <tr>\n",
       "      <td>16</td>\n",
       "      <td>16</td>\n",
       "      <td>1002</td>\n",
       "      <td>12.0</td>\n",
       "      <td>236.0</td>\n",
       "      <td>18113.73</td>\n",
       "      <td>12.0</td>\n",
       "      <td>18.0</td>\n",
       "      <td>Стерлитамак</td>\n",
       "      <td>smart</td>\n",
       "      <td>50</td>\n",
       "      <td>15360</td>\n",
       "      <td>500</td>\n",
       "      <td>550</td>\n",
       "      <td>200</td>\n",
       "      <td>3</td>\n",
       "      <td>3</td>\n",
       "    </tr>\n",
       "    <tr>\n",
       "      <td>17</td>\n",
       "      <td>17</td>\n",
       "      <td>1003</td>\n",
       "      <td>8.0</td>\n",
       "      <td>380.0</td>\n",
       "      <td>8565.21</td>\n",
       "      <td>37.0</td>\n",
       "      <td>9.0</td>\n",
       "      <td>Москва</td>\n",
       "      <td>ultra</td>\n",
       "      <td>1000</td>\n",
       "      <td>30720</td>\n",
       "      <td>3000</td>\n",
       "      <td>1950</td>\n",
       "      <td>150</td>\n",
       "      <td>1</td>\n",
       "      <td>1</td>\n",
       "    </tr>\n",
       "    <tr>\n",
       "      <td>18</td>\n",
       "      <td>18</td>\n",
       "      <td>1003</td>\n",
       "      <td>9.0</td>\n",
       "      <td>961.0</td>\n",
       "      <td>12468.87</td>\n",
       "      <td>91.0</td>\n",
       "      <td>13.0</td>\n",
       "      <td>Москва</td>\n",
       "      <td>ultra</td>\n",
       "      <td>1000</td>\n",
       "      <td>30720</td>\n",
       "      <td>3000</td>\n",
       "      <td>1950</td>\n",
       "      <td>150</td>\n",
       "      <td>1</td>\n",
       "      <td>1</td>\n",
       "    </tr>\n",
       "    <tr>\n",
       "      <td>19</td>\n",
       "      <td>19</td>\n",
       "      <td>1003</td>\n",
       "      <td>10.0</td>\n",
       "      <td>855.0</td>\n",
       "      <td>14768.14</td>\n",
       "      <td>83.0</td>\n",
       "      <td>15.0</td>\n",
       "      <td>Москва</td>\n",
       "      <td>ultra</td>\n",
       "      <td>1000</td>\n",
       "      <td>30720</td>\n",
       "      <td>3000</td>\n",
       "      <td>1950</td>\n",
       "      <td>150</td>\n",
       "      <td>1</td>\n",
       "      <td>1</td>\n",
       "    </tr>\n",
       "  </tbody>\n",
       "</table>\n",
       "</div>"
      ],
      "text/plain": [
       "    index  user_id  month  calls_duration  count_mb  count_message  count_gb  \\\n",
       "0       0     1000    5.0           159.0   2253.49           22.0       3.0   \n",
       "1       1     1000    6.0           172.0  23233.77           60.0      23.0   \n",
       "2       2     1000    7.0           340.0  14003.64           75.0      14.0   \n",
       "3       3     1000    8.0           408.0  14055.93           81.0      14.0   \n",
       "4       4     1000    9.0           466.0  14568.91           57.0      15.0   \n",
       "5       5     1000   10.0           350.0  14702.49           73.0      15.0   \n",
       "6       6     1000   11.0           338.0  14756.47           58.0      15.0   \n",
       "7       7     1000   12.0           333.0   9817.61           70.0      10.0   \n",
       "8       8     1001   11.0           430.0  18429.34            NaN      18.0   \n",
       "9       9     1001   12.0           414.0  14036.66            NaN      14.0   \n",
       "10     10     1002    6.0           117.0  10856.82            4.0      11.0   \n",
       "11     11     1002    7.0           214.0  17580.10           11.0      18.0   \n",
       "12     12     1002    8.0           289.0  20319.26           13.0      20.0   \n",
       "13     13     1002    9.0           206.0  16691.08            4.0      17.0   \n",
       "14     14     1002   10.0           212.0  13888.25           10.0      14.0   \n",
       "15     15     1002   11.0           243.0  18587.28           16.0      19.0   \n",
       "16     16     1002   12.0           236.0  18113.73           12.0      18.0   \n",
       "17     17     1003    8.0           380.0   8565.21           37.0       9.0   \n",
       "18     18     1003    9.0           961.0  12468.87           91.0      13.0   \n",
       "19     19     1003   10.0           855.0  14768.14           83.0      15.0   \n",
       "\n",
       "           city tariff  messages_included  mb_per_month_included  \\\n",
       "0     Краснодар  ultra               1000                  30720   \n",
       "1     Краснодар  ultra               1000                  30720   \n",
       "2     Краснодар  ultra               1000                  30720   \n",
       "3     Краснодар  ultra               1000                  30720   \n",
       "4     Краснодар  ultra               1000                  30720   \n",
       "5     Краснодар  ultra               1000                  30720   \n",
       "6     Краснодар  ultra               1000                  30720   \n",
       "7     Краснодар  ultra               1000                  30720   \n",
       "8        Москва  smart                 50                  15360   \n",
       "9        Москва  smart                 50                  15360   \n",
       "10  Стерлитамак  smart                 50                  15360   \n",
       "11  Стерлитамак  smart                 50                  15360   \n",
       "12  Стерлитамак  smart                 50                  15360   \n",
       "13  Стерлитамак  smart                 50                  15360   \n",
       "14  Стерлитамак  smart                 50                  15360   \n",
       "15  Стерлитамак  smart                 50                  15360   \n",
       "16  Стерлитамак  smart                 50                  15360   \n",
       "17       Москва  ultra               1000                  30720   \n",
       "18       Москва  ultra               1000                  30720   \n",
       "19       Москва  ultra               1000                  30720   \n",
       "\n",
       "    minutes_included  rub_monthly_fee  rub_per_gb  rub_per_message  \\\n",
       "0               3000             1950         150                1   \n",
       "1               3000             1950         150                1   \n",
       "2               3000             1950         150                1   \n",
       "3               3000             1950         150                1   \n",
       "4               3000             1950         150                1   \n",
       "5               3000             1950         150                1   \n",
       "6               3000             1950         150                1   \n",
       "7               3000             1950         150                1   \n",
       "8                500              550         200                3   \n",
       "9                500              550         200                3   \n",
       "10               500              550         200                3   \n",
       "11               500              550         200                3   \n",
       "12               500              550         200                3   \n",
       "13               500              550         200                3   \n",
       "14               500              550         200                3   \n",
       "15               500              550         200                3   \n",
       "16               500              550         200                3   \n",
       "17              3000             1950         150                1   \n",
       "18              3000             1950         150                1   \n",
       "19              3000             1950         150                1   \n",
       "\n",
       "    rub_per_minute  \n",
       "0                1  \n",
       "1                1  \n",
       "2                1  \n",
       "3                1  \n",
       "4                1  \n",
       "5                1  \n",
       "6                1  \n",
       "7                1  \n",
       "8                3  \n",
       "9                3  \n",
       "10               3  \n",
       "11               3  \n",
       "12               3  \n",
       "13               3  \n",
       "14               3  \n",
       "15               3  \n",
       "16               3  \n",
       "17               1  \n",
       "18               1  \n",
       "19               1  "
      ]
     },
     "metadata": {},
     "output_type": "display_data"
    },
    {
     "name": "stdout",
     "output_type": "stream",
     "text": [
      "<class 'pandas.core.frame.DataFrame'>\n",
      "Int64Index: 3216 entries, 0 to 3215\n",
      "Data columns (total 16 columns):\n",
      "index                    3216 non-null int64\n",
      "user_id                  3216 non-null int64\n",
      "month                    3214 non-null float64\n",
      "calls_duration           3174 non-null float64\n",
      "count_mb                 3203 non-null float64\n",
      "count_message            2717 non-null float64\n",
      "count_gb                 3203 non-null float64\n",
      "city                     3216 non-null object\n",
      "tariff                   3216 non-null object\n",
      "messages_included        3216 non-null int64\n",
      "mb_per_month_included    3216 non-null int64\n",
      "minutes_included         3216 non-null int64\n",
      "rub_monthly_fee          3216 non-null int64\n",
      "rub_per_gb               3216 non-null int64\n",
      "rub_per_message          3216 non-null int64\n",
      "rub_per_minute           3216 non-null int64\n",
      "dtypes: float64(5), int64(9), object(2)\n",
      "memory usage: 427.1+ KB\n"
     ]
    }
   ],
   "source": [
    "# соединяем все таблицы методом merge\n",
    "data = calls_for_user.merge(internet_for_user,on=['user_id','month'],how='outer')\n",
    "data = data.merge(messages_for_user ,on=['user_id','month'],how='outer')\n",
    "data['count_gb'] = (data['count_mb'] / 1024).apply(np.ceil)\n",
    "data = data.reset_index().merge(users_df[['city','user_id','tariff']], on = ['user_id'], how='outer')\n",
    "data = data.reset_index().merge(tariffs_df,on=['tariff'],how='left')\n",
    "display(data.head(20))\n",
    "data.info()"
   ]
  },
  {
   "cell_type": "markdown",
   "metadata": {},
   "source": [
    "В итоговой таблице у нас появились пропуски с ключевых столбцах: month,calls_duration,count_gb,count_message. Предполагаю, что просто данный пользователь не пользовался какими-то их предоставленных услуг: не отправлял смс, не звонил или не пользовался интернетом. "
   ]
  },
  {
   "cell_type": "markdown",
   "metadata": {},
   "source": [
    "Заполним пропуски нулями"
   ]
  },
  {
   "cell_type": "code",
   "execution_count": 30,
   "metadata": {
    "scrolled": true
   },
   "outputs": [
    {
     "data": {
      "text/plain": [
       "index                    0\n",
       "user_id                  0\n",
       "month                    2\n",
       "calls_duration           0\n",
       "count_mb                 0\n",
       "count_message            0\n",
       "count_gb                 0\n",
       "city                     0\n",
       "tariff                   0\n",
       "messages_included        0\n",
       "mb_per_month_included    0\n",
       "minutes_included         0\n",
       "rub_monthly_fee          0\n",
       "rub_per_gb               0\n",
       "rub_per_message          0\n",
       "rub_per_minute           0\n",
       "dtype: int64"
      ]
     },
     "execution_count": 30,
     "metadata": {},
     "output_type": "execute_result"
    }
   ],
   "source": [
    "data.fillna({'calls_duration':0,'count_gb':0,'count_mb':0,'count_message':0},inplace=True)\n",
    "data.isna().sum()"
   ]
  },
  {
   "cell_type": "markdown",
   "metadata": {},
   "source": [
    "Пропуски в столбце month удалим, это никак не повлияет на дальнейший анализ."
   ]
  },
  {
   "cell_type": "code",
   "execution_count": 31,
   "metadata": {},
   "outputs": [
    {
     "name": "stdout",
     "output_type": "stream",
     "text": [
      "<class 'pandas.core.frame.DataFrame'>\n",
      "Int64Index: 3214 entries, 0 to 3213\n",
      "Data columns (total 16 columns):\n",
      "index                    3214 non-null int64\n",
      "user_id                  3214 non-null int64\n",
      "month                    3214 non-null float64\n",
      "calls_duration           3214 non-null float64\n",
      "count_mb                 3214 non-null float64\n",
      "count_message            3214 non-null float64\n",
      "count_gb                 3214 non-null float64\n",
      "city                     3214 non-null object\n",
      "tariff                   3214 non-null object\n",
      "messages_included        3214 non-null int64\n",
      "mb_per_month_included    3214 non-null int64\n",
      "minutes_included         3214 non-null int64\n",
      "rub_monthly_fee          3214 non-null int64\n",
      "rub_per_gb               3214 non-null int64\n",
      "rub_per_message          3214 non-null int64\n",
      "rub_per_minute           3214 non-null int64\n",
      "dtypes: float64(5), int64(9), object(2)\n",
      "memory usage: 426.9+ KB\n"
     ]
    }
   ],
   "source": [
    "data = data.dropna(subset=['month'])\n",
    "data.info()"
   ]
  },
  {
   "cell_type": "markdown",
   "metadata": {},
   "source": [
    "Соединили все необходимые данные в общий датасет, избавились от пропусков, теперь можно приступить к подсчету помесячной выручки с каждого пользователя"
   ]
  },
  {
   "cell_type": "code",
   "execution_count": 32,
   "metadata": {},
   "outputs": [
    {
     "data": {
      "text/html": [
       "<div>\n",
       "<style scoped>\n",
       "    .dataframe tbody tr th:only-of-type {\n",
       "        vertical-align: middle;\n",
       "    }\n",
       "\n",
       "    .dataframe tbody tr th {\n",
       "        vertical-align: top;\n",
       "    }\n",
       "\n",
       "    .dataframe thead th {\n",
       "        text-align: right;\n",
       "    }\n",
       "</style>\n",
       "<table border=\"1\" class=\"dataframe\">\n",
       "  <thead>\n",
       "    <tr style=\"text-align: right;\">\n",
       "      <th></th>\n",
       "      <th>index</th>\n",
       "      <th>user_id</th>\n",
       "      <th>month</th>\n",
       "      <th>calls_duration</th>\n",
       "      <th>count_mb</th>\n",
       "      <th>count_message</th>\n",
       "      <th>count_gb</th>\n",
       "      <th>city</th>\n",
       "      <th>tariff</th>\n",
       "      <th>messages_included</th>\n",
       "      <th>mb_per_month_included</th>\n",
       "      <th>minutes_included</th>\n",
       "      <th>rub_monthly_fee</th>\n",
       "      <th>rub_per_gb</th>\n",
       "      <th>rub_per_message</th>\n",
       "      <th>rub_per_minute</th>\n",
       "      <th>revenue</th>\n",
       "    </tr>\n",
       "  </thead>\n",
       "  <tbody>\n",
       "    <tr>\n",
       "      <td>0</td>\n",
       "      <td>0</td>\n",
       "      <td>1000</td>\n",
       "      <td>5.0</td>\n",
       "      <td>159.0</td>\n",
       "      <td>2253.49</td>\n",
       "      <td>22.0</td>\n",
       "      <td>3.0</td>\n",
       "      <td>Краснодар</td>\n",
       "      <td>ultra</td>\n",
       "      <td>1000</td>\n",
       "      <td>30720</td>\n",
       "      <td>3000</td>\n",
       "      <td>1950</td>\n",
       "      <td>150</td>\n",
       "      <td>1</td>\n",
       "      <td>1</td>\n",
       "      <td>1950.0</td>\n",
       "    </tr>\n",
       "    <tr>\n",
       "      <td>1</td>\n",
       "      <td>1</td>\n",
       "      <td>1000</td>\n",
       "      <td>6.0</td>\n",
       "      <td>172.0</td>\n",
       "      <td>23233.77</td>\n",
       "      <td>60.0</td>\n",
       "      <td>23.0</td>\n",
       "      <td>Краснодар</td>\n",
       "      <td>ultra</td>\n",
       "      <td>1000</td>\n",
       "      <td>30720</td>\n",
       "      <td>3000</td>\n",
       "      <td>1950</td>\n",
       "      <td>150</td>\n",
       "      <td>1</td>\n",
       "      <td>1</td>\n",
       "      <td>1950.0</td>\n",
       "    </tr>\n",
       "    <tr>\n",
       "      <td>2</td>\n",
       "      <td>2</td>\n",
       "      <td>1000</td>\n",
       "      <td>7.0</td>\n",
       "      <td>340.0</td>\n",
       "      <td>14003.64</td>\n",
       "      <td>75.0</td>\n",
       "      <td>14.0</td>\n",
       "      <td>Краснодар</td>\n",
       "      <td>ultra</td>\n",
       "      <td>1000</td>\n",
       "      <td>30720</td>\n",
       "      <td>3000</td>\n",
       "      <td>1950</td>\n",
       "      <td>150</td>\n",
       "      <td>1</td>\n",
       "      <td>1</td>\n",
       "      <td>1950.0</td>\n",
       "    </tr>\n",
       "    <tr>\n",
       "      <td>3</td>\n",
       "      <td>3</td>\n",
       "      <td>1000</td>\n",
       "      <td>8.0</td>\n",
       "      <td>408.0</td>\n",
       "      <td>14055.93</td>\n",
       "      <td>81.0</td>\n",
       "      <td>14.0</td>\n",
       "      <td>Краснодар</td>\n",
       "      <td>ultra</td>\n",
       "      <td>1000</td>\n",
       "      <td>30720</td>\n",
       "      <td>3000</td>\n",
       "      <td>1950</td>\n",
       "      <td>150</td>\n",
       "      <td>1</td>\n",
       "      <td>1</td>\n",
       "      <td>1950.0</td>\n",
       "    </tr>\n",
       "    <tr>\n",
       "      <td>4</td>\n",
       "      <td>4</td>\n",
       "      <td>1000</td>\n",
       "      <td>9.0</td>\n",
       "      <td>466.0</td>\n",
       "      <td>14568.91</td>\n",
       "      <td>57.0</td>\n",
       "      <td>15.0</td>\n",
       "      <td>Краснодар</td>\n",
       "      <td>ultra</td>\n",
       "      <td>1000</td>\n",
       "      <td>30720</td>\n",
       "      <td>3000</td>\n",
       "      <td>1950</td>\n",
       "      <td>150</td>\n",
       "      <td>1</td>\n",
       "      <td>1</td>\n",
       "      <td>1950.0</td>\n",
       "    </tr>\n",
       "    <tr>\n",
       "      <td>5</td>\n",
       "      <td>5</td>\n",
       "      <td>1000</td>\n",
       "      <td>10.0</td>\n",
       "      <td>350.0</td>\n",
       "      <td>14702.49</td>\n",
       "      <td>73.0</td>\n",
       "      <td>15.0</td>\n",
       "      <td>Краснодар</td>\n",
       "      <td>ultra</td>\n",
       "      <td>1000</td>\n",
       "      <td>30720</td>\n",
       "      <td>3000</td>\n",
       "      <td>1950</td>\n",
       "      <td>150</td>\n",
       "      <td>1</td>\n",
       "      <td>1</td>\n",
       "      <td>1950.0</td>\n",
       "    </tr>\n",
       "    <tr>\n",
       "      <td>6</td>\n",
       "      <td>6</td>\n",
       "      <td>1000</td>\n",
       "      <td>11.0</td>\n",
       "      <td>338.0</td>\n",
       "      <td>14756.47</td>\n",
       "      <td>58.0</td>\n",
       "      <td>15.0</td>\n",
       "      <td>Краснодар</td>\n",
       "      <td>ultra</td>\n",
       "      <td>1000</td>\n",
       "      <td>30720</td>\n",
       "      <td>3000</td>\n",
       "      <td>1950</td>\n",
       "      <td>150</td>\n",
       "      <td>1</td>\n",
       "      <td>1</td>\n",
       "      <td>1950.0</td>\n",
       "    </tr>\n",
       "    <tr>\n",
       "      <td>7</td>\n",
       "      <td>7</td>\n",
       "      <td>1000</td>\n",
       "      <td>12.0</td>\n",
       "      <td>333.0</td>\n",
       "      <td>9817.61</td>\n",
       "      <td>70.0</td>\n",
       "      <td>10.0</td>\n",
       "      <td>Краснодар</td>\n",
       "      <td>ultra</td>\n",
       "      <td>1000</td>\n",
       "      <td>30720</td>\n",
       "      <td>3000</td>\n",
       "      <td>1950</td>\n",
       "      <td>150</td>\n",
       "      <td>1</td>\n",
       "      <td>1</td>\n",
       "      <td>1950.0</td>\n",
       "    </tr>\n",
       "    <tr>\n",
       "      <td>8</td>\n",
       "      <td>8</td>\n",
       "      <td>1001</td>\n",
       "      <td>11.0</td>\n",
       "      <td>430.0</td>\n",
       "      <td>18429.34</td>\n",
       "      <td>0.0</td>\n",
       "      <td>18.0</td>\n",
       "      <td>Москва</td>\n",
       "      <td>smart</td>\n",
       "      <td>50</td>\n",
       "      <td>15360</td>\n",
       "      <td>500</td>\n",
       "      <td>550</td>\n",
       "      <td>200</td>\n",
       "      <td>3</td>\n",
       "      <td>3</td>\n",
       "      <td>1150.0</td>\n",
       "    </tr>\n",
       "    <tr>\n",
       "      <td>9</td>\n",
       "      <td>9</td>\n",
       "      <td>1001</td>\n",
       "      <td>12.0</td>\n",
       "      <td>414.0</td>\n",
       "      <td>14036.66</td>\n",
       "      <td>0.0</td>\n",
       "      <td>14.0</td>\n",
       "      <td>Москва</td>\n",
       "      <td>smart</td>\n",
       "      <td>50</td>\n",
       "      <td>15360</td>\n",
       "      <td>500</td>\n",
       "      <td>550</td>\n",
       "      <td>200</td>\n",
       "      <td>3</td>\n",
       "      <td>3</td>\n",
       "      <td>550.0</td>\n",
       "    </tr>\n",
       "  </tbody>\n",
       "</table>\n",
       "</div>"
      ],
      "text/plain": [
       "   index  user_id  month  calls_duration  count_mb  count_message  count_gb  \\\n",
       "0      0     1000    5.0           159.0   2253.49           22.0       3.0   \n",
       "1      1     1000    6.0           172.0  23233.77           60.0      23.0   \n",
       "2      2     1000    7.0           340.0  14003.64           75.0      14.0   \n",
       "3      3     1000    8.0           408.0  14055.93           81.0      14.0   \n",
       "4      4     1000    9.0           466.0  14568.91           57.0      15.0   \n",
       "5      5     1000   10.0           350.0  14702.49           73.0      15.0   \n",
       "6      6     1000   11.0           338.0  14756.47           58.0      15.0   \n",
       "7      7     1000   12.0           333.0   9817.61           70.0      10.0   \n",
       "8      8     1001   11.0           430.0  18429.34            0.0      18.0   \n",
       "9      9     1001   12.0           414.0  14036.66            0.0      14.0   \n",
       "\n",
       "        city tariff  messages_included  mb_per_month_included  \\\n",
       "0  Краснодар  ultra               1000                  30720   \n",
       "1  Краснодар  ultra               1000                  30720   \n",
       "2  Краснодар  ultra               1000                  30720   \n",
       "3  Краснодар  ultra               1000                  30720   \n",
       "4  Краснодар  ultra               1000                  30720   \n",
       "5  Краснодар  ultra               1000                  30720   \n",
       "6  Краснодар  ultra               1000                  30720   \n",
       "7  Краснодар  ultra               1000                  30720   \n",
       "8     Москва  smart                 50                  15360   \n",
       "9     Москва  smart                 50                  15360   \n",
       "\n",
       "   minutes_included  rub_monthly_fee  rub_per_gb  rub_per_message  \\\n",
       "0              3000             1950         150                1   \n",
       "1              3000             1950         150                1   \n",
       "2              3000             1950         150                1   \n",
       "3              3000             1950         150                1   \n",
       "4              3000             1950         150                1   \n",
       "5              3000             1950         150                1   \n",
       "6              3000             1950         150                1   \n",
       "7              3000             1950         150                1   \n",
       "8               500              550         200                3   \n",
       "9               500              550         200                3   \n",
       "\n",
       "   rub_per_minute  revenue  \n",
       "0               1   1950.0  \n",
       "1               1   1950.0  \n",
       "2               1   1950.0  \n",
       "3               1   1950.0  \n",
       "4               1   1950.0  \n",
       "5               1   1950.0  \n",
       "6               1   1950.0  \n",
       "7               1   1950.0  \n",
       "8               3   1150.0  \n",
       "9               3    550.0  "
      ]
     },
     "execution_count": 32,
     "metadata": {},
     "output_type": "execute_result"
    }
   ],
   "source": [
    "# через функцию одной строки считаем выручку и заполняем полученные данные в новый столбец\n",
    "def get_revenue(row):\n",
    "    minutes_over = (row['calls_duration'] - row['minutes_included'])*row['rub_per_minute']\n",
    "    internet_over = ((row['count_gb']-row['mb_per_month_included']/1024))*row['rub_per_gb']\n",
    "    message_over = (row['count_message']-row['messages_included'])*row['rub_per_message']\n",
    "    if minutes_over<0:\n",
    "        minutes_over=0\n",
    "    if internet_over<0:\n",
    "        internet_over=0\n",
    "    if message_over<0:\n",
    "        message_over=0\n",
    "    return minutes_over+internet_over+message_over+row['rub_monthly_fee']+message_over\n",
    "data['revenue'] = data.apply(get_revenue,axis=1)\n",
    "data.head(10)"
   ]
  },
  {
   "cell_type": "markdown",
   "metadata": {},
   "source": [
    "### Вывод"
   ]
  },
  {
   "cell_type": "markdown",
   "metadata": {},
   "source": [
    "В таблице появился новый столбец с помесячной выручкой каждого пользователя."
   ]
  },
  {
   "cell_type": "markdown",
   "metadata": {},
   "source": [
    "## Анализ данных"
   ]
  },
  {
   "cell_type": "markdown",
   "metadata": {},
   "source": [
    "Теперь рассчитываем среднее количество, дисперсию и стандартное отклонение по ключевым столбцам. Строим гистограммы. "
   ]
  },
  {
   "cell_type": "code",
   "execution_count": 33,
   "metadata": {},
   "outputs": [
    {
     "data": {
      "text/html": [
       "<div>\n",
       "<style scoped>\n",
       "    .dataframe tbody tr th:only-of-type {\n",
       "        vertical-align: middle;\n",
       "    }\n",
       "\n",
       "    .dataframe tbody tr th {\n",
       "        vertical-align: top;\n",
       "    }\n",
       "\n",
       "    .dataframe thead th {\n",
       "        text-align: right;\n",
       "    }\n",
       "</style>\n",
       "<table border=\"1\" class=\"dataframe\">\n",
       "  <thead>\n",
       "    <tr style=\"text-align: right;\">\n",
       "      <th></th>\n",
       "      <th>index</th>\n",
       "      <th>user_id</th>\n",
       "      <th>month</th>\n",
       "      <th>calls_duration</th>\n",
       "      <th>count_mb</th>\n",
       "      <th>count_message</th>\n",
       "      <th>count_gb</th>\n",
       "      <th>city</th>\n",
       "      <th>tariff</th>\n",
       "      <th>messages_included</th>\n",
       "      <th>mb_per_month_included</th>\n",
       "      <th>minutes_included</th>\n",
       "      <th>rub_monthly_fee</th>\n",
       "      <th>rub_per_gb</th>\n",
       "      <th>rub_per_message</th>\n",
       "      <th>rub_per_minute</th>\n",
       "      <th>revenue</th>\n",
       "    </tr>\n",
       "  </thead>\n",
       "  <tbody>\n",
       "    <tr>\n",
       "      <td>0</td>\n",
       "      <td>0</td>\n",
       "      <td>1000</td>\n",
       "      <td>5.0</td>\n",
       "      <td>159.0</td>\n",
       "      <td>2253.49</td>\n",
       "      <td>22.0</td>\n",
       "      <td>3.0</td>\n",
       "      <td>Краснодар</td>\n",
       "      <td>ultra</td>\n",
       "      <td>1000</td>\n",
       "      <td>30720</td>\n",
       "      <td>3000</td>\n",
       "      <td>1950</td>\n",
       "      <td>150</td>\n",
       "      <td>1</td>\n",
       "      <td>1</td>\n",
       "      <td>1950.0</td>\n",
       "    </tr>\n",
       "    <tr>\n",
       "      <td>1</td>\n",
       "      <td>1</td>\n",
       "      <td>1000</td>\n",
       "      <td>6.0</td>\n",
       "      <td>172.0</td>\n",
       "      <td>23233.77</td>\n",
       "      <td>60.0</td>\n",
       "      <td>23.0</td>\n",
       "      <td>Краснодар</td>\n",
       "      <td>ultra</td>\n",
       "      <td>1000</td>\n",
       "      <td>30720</td>\n",
       "      <td>3000</td>\n",
       "      <td>1950</td>\n",
       "      <td>150</td>\n",
       "      <td>1</td>\n",
       "      <td>1</td>\n",
       "      <td>1950.0</td>\n",
       "    </tr>\n",
       "    <tr>\n",
       "      <td>2</td>\n",
       "      <td>2</td>\n",
       "      <td>1000</td>\n",
       "      <td>7.0</td>\n",
       "      <td>340.0</td>\n",
       "      <td>14003.64</td>\n",
       "      <td>75.0</td>\n",
       "      <td>14.0</td>\n",
       "      <td>Краснодар</td>\n",
       "      <td>ultra</td>\n",
       "      <td>1000</td>\n",
       "      <td>30720</td>\n",
       "      <td>3000</td>\n",
       "      <td>1950</td>\n",
       "      <td>150</td>\n",
       "      <td>1</td>\n",
       "      <td>1</td>\n",
       "      <td>1950.0</td>\n",
       "    </tr>\n",
       "    <tr>\n",
       "      <td>3</td>\n",
       "      <td>3</td>\n",
       "      <td>1000</td>\n",
       "      <td>8.0</td>\n",
       "      <td>408.0</td>\n",
       "      <td>14055.93</td>\n",
       "      <td>81.0</td>\n",
       "      <td>14.0</td>\n",
       "      <td>Краснодар</td>\n",
       "      <td>ultra</td>\n",
       "      <td>1000</td>\n",
       "      <td>30720</td>\n",
       "      <td>3000</td>\n",
       "      <td>1950</td>\n",
       "      <td>150</td>\n",
       "      <td>1</td>\n",
       "      <td>1</td>\n",
       "      <td>1950.0</td>\n",
       "    </tr>\n",
       "    <tr>\n",
       "      <td>4</td>\n",
       "      <td>4</td>\n",
       "      <td>1000</td>\n",
       "      <td>9.0</td>\n",
       "      <td>466.0</td>\n",
       "      <td>14568.91</td>\n",
       "      <td>57.0</td>\n",
       "      <td>15.0</td>\n",
       "      <td>Краснодар</td>\n",
       "      <td>ultra</td>\n",
       "      <td>1000</td>\n",
       "      <td>30720</td>\n",
       "      <td>3000</td>\n",
       "      <td>1950</td>\n",
       "      <td>150</td>\n",
       "      <td>1</td>\n",
       "      <td>1</td>\n",
       "      <td>1950.0</td>\n",
       "    </tr>\n",
       "    <tr>\n",
       "      <td>...</td>\n",
       "      <td>...</td>\n",
       "      <td>...</td>\n",
       "      <td>...</td>\n",
       "      <td>...</td>\n",
       "      <td>...</td>\n",
       "      <td>...</td>\n",
       "      <td>...</td>\n",
       "      <td>...</td>\n",
       "      <td>...</td>\n",
       "      <td>...</td>\n",
       "      <td>...</td>\n",
       "      <td>...</td>\n",
       "      <td>...</td>\n",
       "      <td>...</td>\n",
       "      <td>...</td>\n",
       "      <td>...</td>\n",
       "      <td>...</td>\n",
       "    </tr>\n",
       "    <tr>\n",
       "      <td>3204</td>\n",
       "      <td>3204</td>\n",
       "      <td>1473</td>\n",
       "      <td>8.0</td>\n",
       "      <td>0.0</td>\n",
       "      <td>12905.40</td>\n",
       "      <td>17.0</td>\n",
       "      <td>13.0</td>\n",
       "      <td>Красноярск</td>\n",
       "      <td>ultra</td>\n",
       "      <td>1000</td>\n",
       "      <td>30720</td>\n",
       "      <td>3000</td>\n",
       "      <td>1950</td>\n",
       "      <td>150</td>\n",
       "      <td>1</td>\n",
       "      <td>1</td>\n",
       "      <td>1950.0</td>\n",
       "    </tr>\n",
       "    <tr>\n",
       "      <td>3205</td>\n",
       "      <td>3205</td>\n",
       "      <td>1473</td>\n",
       "      <td>9.0</td>\n",
       "      <td>0.0</td>\n",
       "      <td>17289.85</td>\n",
       "      <td>19.0</td>\n",
       "      <td>17.0</td>\n",
       "      <td>Красноярск</td>\n",
       "      <td>ultra</td>\n",
       "      <td>1000</td>\n",
       "      <td>30720</td>\n",
       "      <td>3000</td>\n",
       "      <td>1950</td>\n",
       "      <td>150</td>\n",
       "      <td>1</td>\n",
       "      <td>1</td>\n",
       "      <td>1950.0</td>\n",
       "    </tr>\n",
       "    <tr>\n",
       "      <td>3206</td>\n",
       "      <td>3206</td>\n",
       "      <td>1473</td>\n",
       "      <td>10.0</td>\n",
       "      <td>0.0</td>\n",
       "      <td>13688.65</td>\n",
       "      <td>20.0</td>\n",
       "      <td>14.0</td>\n",
       "      <td>Красноярск</td>\n",
       "      <td>ultra</td>\n",
       "      <td>1000</td>\n",
       "      <td>30720</td>\n",
       "      <td>3000</td>\n",
       "      <td>1950</td>\n",
       "      <td>150</td>\n",
       "      <td>1</td>\n",
       "      <td>1</td>\n",
       "      <td>1950.0</td>\n",
       "    </tr>\n",
       "    <tr>\n",
       "      <td>3207</td>\n",
       "      <td>3207</td>\n",
       "      <td>1473</td>\n",
       "      <td>11.0</td>\n",
       "      <td>0.0</td>\n",
       "      <td>21673.80</td>\n",
       "      <td>14.0</td>\n",
       "      <td>22.0</td>\n",
       "      <td>Красноярск</td>\n",
       "      <td>ultra</td>\n",
       "      <td>1000</td>\n",
       "      <td>30720</td>\n",
       "      <td>3000</td>\n",
       "      <td>1950</td>\n",
       "      <td>150</td>\n",
       "      <td>1</td>\n",
       "      <td>1</td>\n",
       "      <td>1950.0</td>\n",
       "    </tr>\n",
       "    <tr>\n",
       "      <td>3208</td>\n",
       "      <td>3208</td>\n",
       "      <td>1473</td>\n",
       "      <td>12.0</td>\n",
       "      <td>0.0</td>\n",
       "      <td>18418.26</td>\n",
       "      <td>20.0</td>\n",
       "      <td>18.0</td>\n",
       "      <td>Красноярск</td>\n",
       "      <td>ultra</td>\n",
       "      <td>1000</td>\n",
       "      <td>30720</td>\n",
       "      <td>3000</td>\n",
       "      <td>1950</td>\n",
       "      <td>150</td>\n",
       "      <td>1</td>\n",
       "      <td>1</td>\n",
       "      <td>1950.0</td>\n",
       "    </tr>\n",
       "  </tbody>\n",
       "</table>\n",
       "<p>985 rows × 17 columns</p>\n",
       "</div>"
      ],
      "text/plain": [
       "      index  user_id  month  calls_duration  count_mb  count_message  \\\n",
       "0         0     1000    5.0           159.0   2253.49           22.0   \n",
       "1         1     1000    6.0           172.0  23233.77           60.0   \n",
       "2         2     1000    7.0           340.0  14003.64           75.0   \n",
       "3         3     1000    8.0           408.0  14055.93           81.0   \n",
       "4         4     1000    9.0           466.0  14568.91           57.0   \n",
       "...     ...      ...    ...             ...       ...            ...   \n",
       "3204   3204     1473    8.0             0.0  12905.40           17.0   \n",
       "3205   3205     1473    9.0             0.0  17289.85           19.0   \n",
       "3206   3206     1473   10.0             0.0  13688.65           20.0   \n",
       "3207   3207     1473   11.0             0.0  21673.80           14.0   \n",
       "3208   3208     1473   12.0             0.0  18418.26           20.0   \n",
       "\n",
       "      count_gb        city tariff  messages_included  mb_per_month_included  \\\n",
       "0          3.0   Краснодар  ultra               1000                  30720   \n",
       "1         23.0   Краснодар  ultra               1000                  30720   \n",
       "2         14.0   Краснодар  ultra               1000                  30720   \n",
       "3         14.0   Краснодар  ultra               1000                  30720   \n",
       "4         15.0   Краснодар  ultra               1000                  30720   \n",
       "...        ...         ...    ...                ...                    ...   \n",
       "3204      13.0  Красноярск  ultra               1000                  30720   \n",
       "3205      17.0  Красноярск  ultra               1000                  30720   \n",
       "3206      14.0  Красноярск  ultra               1000                  30720   \n",
       "3207      22.0  Красноярск  ultra               1000                  30720   \n",
       "3208      18.0  Красноярск  ultra               1000                  30720   \n",
       "\n",
       "      minutes_included  rub_monthly_fee  rub_per_gb  rub_per_message  \\\n",
       "0                 3000             1950         150                1   \n",
       "1                 3000             1950         150                1   \n",
       "2                 3000             1950         150                1   \n",
       "3                 3000             1950         150                1   \n",
       "4                 3000             1950         150                1   \n",
       "...                ...              ...         ...              ...   \n",
       "3204              3000             1950         150                1   \n",
       "3205              3000             1950         150                1   \n",
       "3206              3000             1950         150                1   \n",
       "3207              3000             1950         150                1   \n",
       "3208              3000             1950         150                1   \n",
       "\n",
       "      rub_per_minute  revenue  \n",
       "0                  1   1950.0  \n",
       "1                  1   1950.0  \n",
       "2                  1   1950.0  \n",
       "3                  1   1950.0  \n",
       "4                  1   1950.0  \n",
       "...              ...      ...  \n",
       "3204               1   1950.0  \n",
       "3205               1   1950.0  \n",
       "3206               1   1950.0  \n",
       "3207               1   1950.0  \n",
       "3208               1   1950.0  \n",
       "\n",
       "[985 rows x 17 columns]"
      ]
     },
     "execution_count": 33,
     "metadata": {},
     "output_type": "execute_result"
    }
   ],
   "source": [
    "ultra = data.query('tariff==\"ultra\"') # делаем срез данных по тарифу ultra\n",
    "ultra"
   ]
  },
  {
   "cell_type": "code",
   "execution_count": 34,
   "metadata": {
    "scrolled": true
   },
   "outputs": [
    {
     "data": {
      "text/html": [
       "<div>\n",
       "<style scoped>\n",
       "    .dataframe tbody tr th:only-of-type {\n",
       "        vertical-align: middle;\n",
       "    }\n",
       "\n",
       "    .dataframe tbody tr th {\n",
       "        vertical-align: top;\n",
       "    }\n",
       "\n",
       "    .dataframe thead th {\n",
       "        text-align: right;\n",
       "    }\n",
       "</style>\n",
       "<table border=\"1\" class=\"dataframe\">\n",
       "  <thead>\n",
       "    <tr style=\"text-align: right;\">\n",
       "      <th></th>\n",
       "      <th>index</th>\n",
       "      <th>user_id</th>\n",
       "      <th>month</th>\n",
       "      <th>calls_duration</th>\n",
       "      <th>count_mb</th>\n",
       "      <th>count_message</th>\n",
       "      <th>count_gb</th>\n",
       "      <th>city</th>\n",
       "      <th>tariff</th>\n",
       "      <th>messages_included</th>\n",
       "      <th>mb_per_month_included</th>\n",
       "      <th>minutes_included</th>\n",
       "      <th>rub_monthly_fee</th>\n",
       "      <th>rub_per_gb</th>\n",
       "      <th>rub_per_message</th>\n",
       "      <th>rub_per_minute</th>\n",
       "      <th>revenue</th>\n",
       "    </tr>\n",
       "  </thead>\n",
       "  <tbody>\n",
       "    <tr>\n",
       "      <td>8</td>\n",
       "      <td>8</td>\n",
       "      <td>1001</td>\n",
       "      <td>11.0</td>\n",
       "      <td>430.0</td>\n",
       "      <td>18429.34</td>\n",
       "      <td>0.0</td>\n",
       "      <td>18.0</td>\n",
       "      <td>Москва</td>\n",
       "      <td>smart</td>\n",
       "      <td>50</td>\n",
       "      <td>15360</td>\n",
       "      <td>500</td>\n",
       "      <td>550</td>\n",
       "      <td>200</td>\n",
       "      <td>3</td>\n",
       "      <td>3</td>\n",
       "      <td>1150.0</td>\n",
       "    </tr>\n",
       "    <tr>\n",
       "      <td>9</td>\n",
       "      <td>9</td>\n",
       "      <td>1001</td>\n",
       "      <td>12.0</td>\n",
       "      <td>414.0</td>\n",
       "      <td>14036.66</td>\n",
       "      <td>0.0</td>\n",
       "      <td>14.0</td>\n",
       "      <td>Москва</td>\n",
       "      <td>smart</td>\n",
       "      <td>50</td>\n",
       "      <td>15360</td>\n",
       "      <td>500</td>\n",
       "      <td>550</td>\n",
       "      <td>200</td>\n",
       "      <td>3</td>\n",
       "      <td>3</td>\n",
       "      <td>550.0</td>\n",
       "    </tr>\n",
       "    <tr>\n",
       "      <td>10</td>\n",
       "      <td>10</td>\n",
       "      <td>1002</td>\n",
       "      <td>6.0</td>\n",
       "      <td>117.0</td>\n",
       "      <td>10856.82</td>\n",
       "      <td>4.0</td>\n",
       "      <td>11.0</td>\n",
       "      <td>Стерлитамак</td>\n",
       "      <td>smart</td>\n",
       "      <td>50</td>\n",
       "      <td>15360</td>\n",
       "      <td>500</td>\n",
       "      <td>550</td>\n",
       "      <td>200</td>\n",
       "      <td>3</td>\n",
       "      <td>3</td>\n",
       "      <td>550.0</td>\n",
       "    </tr>\n",
       "    <tr>\n",
       "      <td>11</td>\n",
       "      <td>11</td>\n",
       "      <td>1002</td>\n",
       "      <td>7.0</td>\n",
       "      <td>214.0</td>\n",
       "      <td>17580.10</td>\n",
       "      <td>11.0</td>\n",
       "      <td>18.0</td>\n",
       "      <td>Стерлитамак</td>\n",
       "      <td>smart</td>\n",
       "      <td>50</td>\n",
       "      <td>15360</td>\n",
       "      <td>500</td>\n",
       "      <td>550</td>\n",
       "      <td>200</td>\n",
       "      <td>3</td>\n",
       "      <td>3</td>\n",
       "      <td>1150.0</td>\n",
       "    </tr>\n",
       "    <tr>\n",
       "      <td>12</td>\n",
       "      <td>12</td>\n",
       "      <td>1002</td>\n",
       "      <td>8.0</td>\n",
       "      <td>289.0</td>\n",
       "      <td>20319.26</td>\n",
       "      <td>13.0</td>\n",
       "      <td>20.0</td>\n",
       "      <td>Стерлитамак</td>\n",
       "      <td>smart</td>\n",
       "      <td>50</td>\n",
       "      <td>15360</td>\n",
       "      <td>500</td>\n",
       "      <td>550</td>\n",
       "      <td>200</td>\n",
       "      <td>3</td>\n",
       "      <td>3</td>\n",
       "      <td>1550.0</td>\n",
       "    </tr>\n",
       "    <tr>\n",
       "      <td>...</td>\n",
       "      <td>...</td>\n",
       "      <td>...</td>\n",
       "      <td>...</td>\n",
       "      <td>...</td>\n",
       "      <td>...</td>\n",
       "      <td>...</td>\n",
       "      <td>...</td>\n",
       "      <td>...</td>\n",
       "      <td>...</td>\n",
       "      <td>...</td>\n",
       "      <td>...</td>\n",
       "      <td>...</td>\n",
       "      <td>...</td>\n",
       "      <td>...</td>\n",
       "      <td>...</td>\n",
       "      <td>...</td>\n",
       "      <td>...</td>\n",
       "    </tr>\n",
       "    <tr>\n",
       "      <td>3209</td>\n",
       "      <td>3209</td>\n",
       "      <td>1489</td>\n",
       "      <td>8.0</td>\n",
       "      <td>0.0</td>\n",
       "      <td>11050.56</td>\n",
       "      <td>17.0</td>\n",
       "      <td>11.0</td>\n",
       "      <td>Санкт-Петербург</td>\n",
       "      <td>smart</td>\n",
       "      <td>50</td>\n",
       "      <td>15360</td>\n",
       "      <td>500</td>\n",
       "      <td>550</td>\n",
       "      <td>200</td>\n",
       "      <td>3</td>\n",
       "      <td>3</td>\n",
       "      <td>550.0</td>\n",
       "    </tr>\n",
       "    <tr>\n",
       "      <td>3210</td>\n",
       "      <td>3210</td>\n",
       "      <td>1489</td>\n",
       "      <td>9.0</td>\n",
       "      <td>0.0</td>\n",
       "      <td>17206.30</td>\n",
       "      <td>32.0</td>\n",
       "      <td>17.0</td>\n",
       "      <td>Санкт-Петербург</td>\n",
       "      <td>smart</td>\n",
       "      <td>50</td>\n",
       "      <td>15360</td>\n",
       "      <td>500</td>\n",
       "      <td>550</td>\n",
       "      <td>200</td>\n",
       "      <td>3</td>\n",
       "      <td>3</td>\n",
       "      <td>950.0</td>\n",
       "    </tr>\n",
       "    <tr>\n",
       "      <td>3211</td>\n",
       "      <td>3211</td>\n",
       "      <td>1489</td>\n",
       "      <td>10.0</td>\n",
       "      <td>0.0</td>\n",
       "      <td>19559.44</td>\n",
       "      <td>21.0</td>\n",
       "      <td>20.0</td>\n",
       "      <td>Санкт-Петербург</td>\n",
       "      <td>smart</td>\n",
       "      <td>50</td>\n",
       "      <td>15360</td>\n",
       "      <td>500</td>\n",
       "      <td>550</td>\n",
       "      <td>200</td>\n",
       "      <td>3</td>\n",
       "      <td>3</td>\n",
       "      <td>1550.0</td>\n",
       "    </tr>\n",
       "    <tr>\n",
       "      <td>3212</td>\n",
       "      <td>3212</td>\n",
       "      <td>1489</td>\n",
       "      <td>11.0</td>\n",
       "      <td>0.0</td>\n",
       "      <td>17491.56</td>\n",
       "      <td>20.0</td>\n",
       "      <td>18.0</td>\n",
       "      <td>Санкт-Петербург</td>\n",
       "      <td>smart</td>\n",
       "      <td>50</td>\n",
       "      <td>15360</td>\n",
       "      <td>500</td>\n",
       "      <td>550</td>\n",
       "      <td>200</td>\n",
       "      <td>3</td>\n",
       "      <td>3</td>\n",
       "      <td>1150.0</td>\n",
       "    </tr>\n",
       "    <tr>\n",
       "      <td>3213</td>\n",
       "      <td>3213</td>\n",
       "      <td>1489</td>\n",
       "      <td>12.0</td>\n",
       "      <td>0.0</td>\n",
       "      <td>17322.51</td>\n",
       "      <td>35.0</td>\n",
       "      <td>17.0</td>\n",
       "      <td>Санкт-Петербург</td>\n",
       "      <td>smart</td>\n",
       "      <td>50</td>\n",
       "      <td>15360</td>\n",
       "      <td>500</td>\n",
       "      <td>550</td>\n",
       "      <td>200</td>\n",
       "      <td>3</td>\n",
       "      <td>3</td>\n",
       "      <td>950.0</td>\n",
       "    </tr>\n",
       "  </tbody>\n",
       "</table>\n",
       "<p>2229 rows × 17 columns</p>\n",
       "</div>"
      ],
      "text/plain": [
       "      index  user_id  month  calls_duration  count_mb  count_message  \\\n",
       "8         8     1001   11.0           430.0  18429.34            0.0   \n",
       "9         9     1001   12.0           414.0  14036.66            0.0   \n",
       "10       10     1002    6.0           117.0  10856.82            4.0   \n",
       "11       11     1002    7.0           214.0  17580.10           11.0   \n",
       "12       12     1002    8.0           289.0  20319.26           13.0   \n",
       "...     ...      ...    ...             ...       ...            ...   \n",
       "3209   3209     1489    8.0             0.0  11050.56           17.0   \n",
       "3210   3210     1489    9.0             0.0  17206.30           32.0   \n",
       "3211   3211     1489   10.0             0.0  19559.44           21.0   \n",
       "3212   3212     1489   11.0             0.0  17491.56           20.0   \n",
       "3213   3213     1489   12.0             0.0  17322.51           35.0   \n",
       "\n",
       "      count_gb             city tariff  messages_included  \\\n",
       "8         18.0           Москва  smart                 50   \n",
       "9         14.0           Москва  smart                 50   \n",
       "10        11.0      Стерлитамак  smart                 50   \n",
       "11        18.0      Стерлитамак  smart                 50   \n",
       "12        20.0      Стерлитамак  smart                 50   \n",
       "...        ...              ...    ...                ...   \n",
       "3209      11.0  Санкт-Петербург  smart                 50   \n",
       "3210      17.0  Санкт-Петербург  smart                 50   \n",
       "3211      20.0  Санкт-Петербург  smart                 50   \n",
       "3212      18.0  Санкт-Петербург  smart                 50   \n",
       "3213      17.0  Санкт-Петербург  smart                 50   \n",
       "\n",
       "      mb_per_month_included  minutes_included  rub_monthly_fee  rub_per_gb  \\\n",
       "8                     15360               500              550         200   \n",
       "9                     15360               500              550         200   \n",
       "10                    15360               500              550         200   \n",
       "11                    15360               500              550         200   \n",
       "12                    15360               500              550         200   \n",
       "...                     ...               ...              ...         ...   \n",
       "3209                  15360               500              550         200   \n",
       "3210                  15360               500              550         200   \n",
       "3211                  15360               500              550         200   \n",
       "3212                  15360               500              550         200   \n",
       "3213                  15360               500              550         200   \n",
       "\n",
       "      rub_per_message  rub_per_minute  revenue  \n",
       "8                   3               3   1150.0  \n",
       "9                   3               3    550.0  \n",
       "10                  3               3    550.0  \n",
       "11                  3               3   1150.0  \n",
       "12                  3               3   1550.0  \n",
       "...               ...             ...      ...  \n",
       "3209                3               3    550.0  \n",
       "3210                3               3    950.0  \n",
       "3211                3               3   1550.0  \n",
       "3212                3               3   1150.0  \n",
       "3213                3               3    950.0  \n",
       "\n",
       "[2229 rows x 17 columns]"
      ]
     },
     "execution_count": 34,
     "metadata": {},
     "output_type": "execute_result"
    }
   ],
   "source": [
    "smart = data.query('tariff==\"smart\"') #делаем срез данных по тарифу smart\n",
    "smart"
   ]
  },
  {
   "cell_type": "code",
   "execution_count": 35,
   "metadata": {},
   "outputs": [
    {
     "name": "stdout",
     "output_type": "stream",
     "text": [
      "Средняя продолжительность звонков тарифа ultra: 526.6233502538071\n",
      "Средняя продолжительность звонков тарифа smart: 417.9349484073576\n"
     ]
    }
   ],
   "source": [
    "# считаем среднее по столбцу calls_duration для двух тарифов\n",
    "ultra_call_ave = ultra['calls_duration'].mean()\n",
    "smart_call_ave = smart['calls_duration'].mean()\n",
    "print('Средняя продолжительность звонков тарифа ultra:',ultra_call_ave)\n",
    "print('Средняя продолжительность звонков тарифа smart:',smart_call_ave)"
   ]
  },
  {
   "cell_type": "code",
   "execution_count": 36,
   "metadata": {},
   "outputs": [
    {
     "name": "stdout",
     "output_type": "stream",
     "text": [
      "Дисперсия продолжительности звонков тарифа ultra: 100771.2236172022\n",
      "Дисперсия продолжительнсоти звонков тарифа smart: 36203.06665209469\n"
     ]
    }
   ],
   "source": [
    "# считаем дисперсию по столбцу calls_duration для двух тарифов\n",
    "ultra_call_var = np.var(ultra['calls_duration'])\n",
    "smart_call_var = np.var(smart['calls_duration'])\n",
    "print('Дисперсия продолжительности звонков тарифа ultra:', ultra_call_var)\n",
    "print('Дисперсия продолжительнсоти звонков тарифа smart:',smart_call_var)"
   ]
  },
  {
   "cell_type": "code",
   "execution_count": 37,
   "metadata": {},
   "outputs": [
    {
     "name": "stdout",
     "output_type": "stream",
     "text": [
      "Стандартное отклонение продолжительности звонков тарифа ultra: 317.44483554974113\n",
      "Стандартное отклонение продолжительности звонков тарифа ultra: 190.27103471651876\n"
     ]
    }
   ],
   "source": [
    "# считаем стандартное отклонение по столбцу calls_duration для двух тарифов\n",
    "ultra_call_standart = np.std(ultra['calls_duration'])\n",
    "smart_call_standart = np.std(smart['calls_duration'])\n",
    "print('Стандартное отклонение продолжительности звонков тарифа ultra:', ultra_call_standart)\n",
    "print('Стандартное отклонение продолжительности звонков тарифа ultra:',smart_call_standart)"
   ]
  },
  {
   "cell_type": "code",
   "execution_count": 38,
   "metadata": {
    "scrolled": true
   },
   "outputs": [
    {
     "data": {
      "text/plain": [
       "Text(0, 0.5, 'Частота')"
      ]
     },
     "execution_count": 38,
     "metadata": {},
     "output_type": "execute_result"
    },
    {
     "data": {
      "image/png": "[encoded data removed]",
      "text/plain": [
       "<Figure size 432x288 with 1 Axes>"
      ]
     },
     "metadata": {
      "needs_background": "light"
     },
     "output_type": "display_data"
    }
   ],
   "source": [
    "#строим гистограммы\n",
    "ultra['calls_duration'].plot(kind='hist',bins=50,grid=True,alpha=0.7,label = 'ultra')\n",
    "smart['calls_duration'].plot(kind='hist',bins=50,grid=True,alpha=0.7,label = 'smart')\n",
    "plt.legend()\n",
    "plt.title('Продолжительность звонков по двум тарифам')\n",
    "plt.xlabel('Продолжительность звонков,мин')\n",
    "plt.ylabel('Частота')"
   ]
  },
  {
   "cell_type": "markdown",
   "metadata": {},
   "source": [
    "Средняя продолжительность звонков в тарифв ultra больше, чем у тарифа smart. По стандартного отклонению и дисперсии можно сказать, что у тарифа ultra данные сильнее разбросаны относительно среднего, это можно увидеть и на гистограмме. У тарифа smart распределение можно назвать нормальным, нет сильного разброса в данных."
   ]
  },
  {
   "cell_type": "code",
   "execution_count": 39,
   "metadata": {},
   "outputs": [
    {
     "name": "stdout",
     "output_type": "stream",
     "text": [
      "Среднее потраченного объема интернет-трафика тарифа ultra: 19.494416243654822\n",
      "Среднее потраченного объема интернет-трафика тарифа smart: 16.328847016599372\n"
     ]
    }
   ],
   "source": [
    "# считаем среднее по столбцу count_gb для двух тарифов\n",
    "ultra_internet_ave = ultra['count_gb'].mean()\n",
    "smart_internet_ave = smart['count_gb'].mean()\n",
    "print('Среднее потраченного объема интернет-трафика тарифа ultra:', ultra_internet_ave)\n",
    "print('Среднее потраченного объема интернет-трафика тарифа smart:',smart_internet_ave)"
   ]
  },
  {
   "cell_type": "code",
   "execution_count": 40,
   "metadata": {},
   "outputs": [
    {
     "name": "stdout",
     "output_type": "stream",
     "text": [
      "Дисперсия потраченного объема интернет-трафика тарифа ultra: 96.99311602978692\n",
      "Дисперсия потраченного объема интернет-трафика тарифа smart: 33.013887454837445\n"
     ]
    }
   ],
   "source": [
    "# считаем дисперсию по столбцу count_gb для двух тарифов\n",
    "ultra_internet_var = np.var(ultra['count_gb'])\n",
    "smart_internet_var = np.var(smart['count_gb'])\n",
    "print('Дисперсия потраченного объема интернет-трафика тарифа ultra:', ultra_internet_var)\n",
    "print('Дисперсия потраченного объема интернет-трафика тарифа smart:', smart_internet_var)"
   ]
  },
  {
   "cell_type": "code",
   "execution_count": 41,
   "metadata": {},
   "outputs": [
    {
     "name": "stdout",
     "output_type": "stream",
     "text": [
      "Стандартное отклонение потраченного объема интернет-трафика тарифа ultra: 9.848508314957495\n",
      "Стандартное отклонение  потраченного объема интернет-трафика тарифа smart: 5.745771267187499\n"
     ]
    }
   ],
   "source": [
    "#считаем стандартное отклонение по столбцу count_gb для двух тарифов\n",
    "ultra_internet_standart = np.std(ultra['count_gb'])\n",
    "smart_internet_standart = np.std(smart['count_gb'])\n",
    "print('Стандартное отклонение потраченного объема интернет-трафика тарифа ultra:',ultra_internet_standart)\n",
    "print('Стандартное отклонение  потраченного объема интернет-трафика тарифа smart:',smart_internet_standart)"
   ]
  },
  {
   "cell_type": "code",
   "execution_count": 42,
   "metadata": {
    "scrolled": true
   },
   "outputs": [
    {
     "data": {
      "text/plain": [
       "Text(0, 0.5, 'Частота')"
      ]
     },
     "execution_count": 42,
     "metadata": {},
     "output_type": "execute_result"
    },
    {
     "data": {
      "image/png": "[encoded data removed]",
      "text/plain": [
       "<Figure size 432x288 with 1 Axes>"
      ]
     },
     "metadata": {
      "needs_background": "light"
     },
     "output_type": "display_data"
    }
   ],
   "source": [
    "# сторим гистограммы\n",
    "ultra['count_gb'].plot(kind='hist',bins=50,grid=True,alpha=0.7,label = 'ultra')\n",
    "smart['count_gb'].plot(kind='hist',bins=50,grid=True,alpha=0.7,label = 'smart')\n",
    "plt.legend()\n",
    "plt.title('Объём потраченного за сессию интернет-трафика по двум тарифам')\n",
    "plt.xlabel('Объем потраченного интернет-трафика,Гб')\n",
    "plt.ylabel('Частота')"
   ]
  },
  {
   "cell_type": "markdown",
   "metadata": {},
   "source": [
    "Средний объем интернет-трафика в тарифе ultra тоже больше, чем у тарифа smart. И разброс данных относительно среднего тоже больше. Это видно и по значению дисперсии, стандартного отклонения и на гистограмме. Опять же по тарифу smart распредление можно назвать нормальным."
   ]
  },
  {
   "cell_type": "code",
   "execution_count": 43,
   "metadata": {},
   "outputs": [
    {
     "name": "stdout",
     "output_type": "stream",
     "text": [
      "Среднее количество отправленных сообщений в тарифе ultra: 49.36345177664975\n",
      "Среднее количество отправленных сообщений в тарифе smart: 33.384028712427096\n"
     ]
    }
   ],
   "source": [
    "#считаем среднее по столбцу count_message для двух тарифов\n",
    "ultra_message_ave = ultra['count_message'].mean()\n",
    "smart_message_ave = smart['count_message'].mean()\n",
    "print('Среднее количество отправленных сообщений в тарифе ultra:', ultra_message_ave)\n",
    "print('Среднее количество отправленных сообщений в тарифе smart:',smart_message_ave)"
   ]
  },
  {
   "cell_type": "code",
   "execution_count": 44,
   "metadata": {},
   "outputs": [
    {
     "name": "stdout",
     "output_type": "stream",
     "text": [
      "Дисперсия количества отправленных сообщений в тарифе ultra: 2282.946075394882\n",
      "Дисперсия количества отправленных сообщений в тарифе smart: 796.455482917076\n"
     ]
    }
   ],
   "source": [
    "#считаем дисперсию по столбцу count_message для двух тарифов\n",
    "ultra_message_var = np.var(ultra['count_message'])\n",
    "smart_message_var = np.var(smart['count_message'])\n",
    "print('Дисперсия количества отправленных сообщений в тарифе ultra:', ultra_message_var)\n",
    "print('Дисперсия количества отправленных сообщений в тарифе smart:', smart_message_var)"
   ]
  },
  {
   "cell_type": "code",
   "execution_count": 45,
   "metadata": {},
   "outputs": [
    {
     "name": "stdout",
     "output_type": "stream",
     "text": [
      "Стандартное отклонение количества отправленных сообщений в тарифе ultra: 47.78018496610161\n",
      "Стандартное отклонение количества отправленных сообщений в тарифе smart: 28.221542886898938\n"
     ]
    }
   ],
   "source": [
    "#считаем стандартное отклонение по столбцу count_message для двух тарифов\n",
    "ultra_message_standart = np.std(ultra['count_message'])\n",
    "smart_message_standart = np.std(smart['count_message'])\n",
    "print('Стандартное отклонение количества отправленных сообщений в тарифе ultra:', ultra_message_standart)\n",
    "print('Стандартное отклонение количества отправленных сообщений в тарифе smart:', smart_message_standart)"
   ]
  },
  {
   "cell_type": "code",
   "execution_count": 46,
   "metadata": {
    "scrolled": true
   },
   "outputs": [
    {
     "data": {
      "text/plain": [
       "Text(0, 0.5, 'Частота')"
      ]
     },
     "execution_count": 46,
     "metadata": {},
     "output_type": "execute_result"
    },
    {
     "data": {
      "image/png": "[encoded data removed]",
      "text/plain": [
       "<Figure size 432x288 with 1 Axes>"
      ]
     },
     "metadata": {
      "needs_background": "light"
     },
     "output_type": "display_data"
    }
   ],
   "source": [
    "# строим гистограммы\n",
    "ultra['count_message'].plot(kind='hist',bins=50,grid=True,alpha=0.7,label = 'ultra')\n",
    "smart['count_message'].plot(kind='hist',bins=50,grid=True,alpha=0.7,label = 'smart')\n",
    "plt.legend()\n",
    "plt.title('Количество отправленных сообщений по двум тарифам')\n",
    "plt.xlabel('Количество сообщений')\n",
    "plt.ylabel('Частота')"
   ]
  },
  {
   "cell_type": "markdown",
   "metadata": {},
   "source": [
    "Такая же ситуация и по количество сообщений, в тарифе ultra больше среднее значение и разброс данных относительно среднего. Но нормальным ни одно распредление назвать нельзя. Много значений, которые близятся к нулю. Это логично, так как смсками сейчас пользуются не так много людей, как раньше."
   ]
  },
  {
   "cell_type": "markdown",
   "metadata": {},
   "source": [
    "### Вывод"
   ]
  },
  {
   "cell_type": "markdown",
   "metadata": {},
   "source": [
    "Пользователи тарифа smart тратят меньше минут, интернета и смс-сообщений, чем пользователи тарифа ultra. Это вполне логично, так как так в пакет тарифа smart включено меньше минут, Гб и смс. И пользователи стараются не выходит за предоставленные лимиты. Хотя средний интернет трафик выше, чем предоставленный лимит на тарифе smart. На тарифе ultra значения сильно разбросы относительно среднего значения, можно предположить, что кому-то из абонентов тарифа ultra хватит лимитов тарифа smart, а кому-то не хватает и своих."
   ]
  },
  {
   "cell_type": "markdown",
   "metadata": {},
   "source": [
    "## Проверка гипотез"
   ]
  },
  {
   "cell_type": "markdown",
   "metadata": {},
   "source": [
    "Проверяем гипотезу\n",
    "средняя выручка пользователей тарифов «Ультра» и «Смарт» различаются\n",
    "\n"
   ]
  },
  {
   "cell_type": "markdown",
   "metadata": {},
   "source": [
    "H0: средняя выручка по тарифам равна \n",
    "\n",
    "H1: средняя выручка по тарифам не равна"
   ]
  },
  {
   "cell_type": "code",
   "execution_count": 47,
   "metadata": {},
   "outputs": [
    {
     "name": "stdout",
     "output_type": "stream",
     "text": [
      "p-значение: 1.3313508661750799e-238\n",
      "Отвергаем нулевую гипотезу\n"
     ]
    }
   ],
   "source": [
    "ultra_revenue = ultra['revenue'] # выбираем столбец с выручкой\n",
    "smart_revenue = smart['revenue'] # выбираем столбец с выручкой\n",
    "alpha = .05 #критический уровень статистической значимости\n",
    "results = st.ttest_ind(ultra_revenue,smart_revenue,equal_var = False) #проверяем гипотезу о равенстве средних двух независимых совокупностей\n",
    "print('p-значение:', results.pvalue) \n",
    "\n",
    "if results.pvalue < alpha: #сравниваем получившееся p-значение с заданным уровнем статистической значимости\n",
    "    print(\"Отвергаем нулевую гипотезу\")\n",
    "else:\n",
    "    print(\"Не получилось отвергнуть нулевую гипотезу\")"
   ]
  },
  {
   "cell_type": "markdown",
   "metadata": {},
   "source": [
    "Для подтверждения и наглядности посчитаем среднее и построим гистограмму"
   ]
  },
  {
   "cell_type": "code",
   "execution_count": 48,
   "metadata": {},
   "outputs": [
    {
     "name": "stdout",
     "output_type": "stream",
     "text": [
      "2070.1522842639592\n",
      "1307.3732615522656\n"
     ]
    }
   ],
   "source": [
    "ultra_revenue_ave = ultra['revenue'].mean() # средняя выручка тарифа ultra\n",
    "smart_revenue_ave = smart['revenue'].mean() #средняя выручка тарифа smart\n",
    "print(ultra_revenue_ave)\n",
    "print(smart_revenue_ave)"
   ]
  },
  {
   "cell_type": "code",
   "execution_count": 49,
   "metadata": {},
   "outputs": [
    {
     "data": {
      "text/plain": [
       "Text(0, 0.5, 'Частота')"
      ]
     },
     "execution_count": 49,
     "metadata": {},
     "output_type": "execute_result"
    },
    {
     "data": {
      "image/png": "[encoded data removed]",
      "text/plain": [
       "<Figure size 432x288 with 1 Axes>"
      ]
     },
     "metadata": {
      "needs_background": "light"
     },
     "output_type": "display_data"
    }
   ],
   "source": [
    "ultra_revenue.plot(kind='hist',bins=50,grid=True,alpha=0.9,label = 'ultra')\n",
    "smart_revenue.plot(kind='hist',bins=50,grid=True,alpha=0.7,label = 'smart')\n",
    "plt.legend()\n",
    "plt.title('Средняя помесячная выручка по двум тарифам')\n",
    "plt.xlabel('Выручка, руб')\n",
    "plt.ylabel('Частота')"
   ]
  },
  {
   "cell_type": "markdown",
   "metadata": {},
   "source": [
    "Итак, действительно средняя выручка не равно, выручка тарифа ultra больше."
   ]
  },
  {
   "cell_type": "markdown",
   "metadata": {},
   "source": [
    "Проверяем гипотезу средняя выручка пользователей из Москвы отличается от выручки пользователей из других регионов."
   ]
  },
  {
   "cell_type": "markdown",
   "metadata": {},
   "source": [
    "H0: средняя выручка Москвы и других регионов равна\n",
    "\n",
    "H1: средняя выручка Москвы и других регионов​ не равна"
   ]
  },
  {
   "cell_type": "code",
   "execution_count": 50,
   "metadata": {},
   "outputs": [],
   "source": [
    "revenue_moscow = data[data['city']=='Москва']['revenue']  #делаем срез выручка по Москве\n",
    "revenue_region = data[data['city']!='Москва']['revenue']  #делаем срез выручки все, кроме  Москвы"
   ]
  },
  {
   "cell_type": "code",
   "execution_count": 51,
   "metadata": {
    "scrolled": true
   },
   "outputs": [
    {
     "name": "stdout",
     "output_type": "stream",
     "text": [
      "p-значение: 0.6373733901910718\n",
      "Не получилось отвергнуть нулевую гипотезу\n"
     ]
    }
   ],
   "source": [
    "alpha = .05 #критический уровень статистической значимости\n",
    "results = st.ttest_ind(revenue_moscow,revenue_region,equal_var = False)#проверяем гипотезу о равенстве средних двух независимых совокупностей\n",
    "print('p-значение:', results.pvalue) \n",
    "\n",
    "\n",
    "if results.pvalue < alpha: #сравниваем получившееся p-значение с заданным уровнем статистической значимости\n",
    "    print(\"Отвергаем нулевую гипотезу\")\n",
    "else:\n",
    "    print(\"Не получилось отвергнуть нулевую гипотезу\")"
   ]
  },
  {
   "cell_type": "markdown",
   "metadata": {},
   "source": [
    "Для подтверждения и наглядности посчитаем среднее и построим гистограмму"
   ]
  },
  {
   "cell_type": "code",
   "execution_count": 52,
   "metadata": {},
   "outputs": [
    {
     "name": "stdout",
     "output_type": "stream",
     "text": [
      "1554.2504091653027\n",
      "1538.0668459469844\n"
     ]
    }
   ],
   "source": [
    "revenue_moscow_ave = revenue_moscow.mean() # средняя выручка по Москве\n",
    "revenue_region_ave = revenue_region.mean() #средняя выручка остальных регионов\n",
    "print(revenue_moscow_ave)\n",
    "print(revenue_region_ave)"
   ]
  },
  {
   "cell_type": "code",
   "execution_count": 53,
   "metadata": {
    "scrolled": true
   },
   "outputs": [
    {
     "data": {
      "text/plain": [
       "Text(0, 0.5, 'Частота')"
      ]
     },
     "execution_count": 53,
     "metadata": {},
     "output_type": "execute_result"
    },
    {
     "data": {
      "image/png": "[encoded data removed]",
      "text/plain": [
       "<Figure size 432x288 with 1 Axes>"
      ]
     },
     "metadata": {
      "needs_background": "light"
     },
     "output_type": "display_data"
    }
   ],
   "source": [
    "revenue_moscow.plot(kind='hist',bins=50,grid=True,alpha=0.9,label = 'moscow')\n",
    "revenue_region.plot(kind='hist',bins=50,grid=True,alpha=0.7,label = 'region')\n",
    "plt.legend()\n",
    "plt.title('Средняя помесячная выручка по регионам')\n",
    "plt.xlabel('Выручка, руб')\n",
    "plt.ylabel('Частота')"
   ]
  },
  {
   "cell_type": "markdown",
   "metadata": {},
   "source": [
    "Действительно средняя выручка по Москве почти не отличается от средней выручке по регионам."
   ]
  },
  {
   "cell_type": "markdown",
   "metadata": {},
   "source": [
    "### Вывод"
   ]
  },
  {
   "cell_type": "markdown",
   "metadata": {},
   "source": [
    "При проверки гипотез о равенстве средних двух генеральных совокупностей, мы выяснили, что средняя выручка по тарифу ultra больше, чем по тарифу smart. Но разницы в выручке в регионах от выручке в Москве в среднем не наблюдается. "
   ]
  },
  {
   "cell_type": "markdown",
   "metadata": {},
   "source": [
    "## Общий вывод"
   ]
  },
  {
   "cell_type": "markdown",
   "metadata": {},
   "source": [
    "На основании предоставленных данных о 500 пользователей «Мегалайна»: кто они, откуда, каким тарифом пользуются, сколько звонков и сообщений каждый отправил за 2018 год, мы проанализировали поведение клиентов, посчитали выручку по каждому пользователю, сравнили два тарифа. Можно сделать вывод, что тариф ultra приносит больше выручки, чем тариф smart. То есть он более выгодный для оператора. Также мы увидели, что выручка Москвы не отличается от выручки в остальных регионах. "
   ]
  },
  {
   "cell_type": "code",
   "execution_count": null,
   "metadata": {},
   "outputs": [],
   "source": []
  }
 ],
 "metadata": {
  "ExecuteTimeLog": [
   {
    "duration": 709,
    "start_time": "2022-01-12T16:16:07.044Z"
   },
   {
    "duration": 135,
    "start_time": "2022-01-12T16:17:48.881Z"
   },
   {
    "duration": 98,
    "start_time": "2022-01-12T16:17:54.970Z"
   },
   {
    "duration": 25,
    "start_time": "2022-01-12T16:18:00.524Z"
   },
   {
    "duration": 32,
    "start_time": "2022-01-12T16:18:07.892Z"
   },
   {
    "duration": 687,
    "start_time": "2022-01-12T16:45:58.323Z"
   },
   {
    "duration": 122,
    "start_time": "2022-01-12T16:45:59.012Z"
   },
   {
    "duration": 80,
    "start_time": "2022-01-12T16:45:59.135Z"
   },
   {
    "duration": 20,
    "start_time": "2022-01-12T16:45:59.217Z"
   },
   {
    "duration": 26,
    "start_time": "2022-01-12T16:45:59.239Z"
   },
   {
    "duration": 150,
    "start_time": "2022-01-12T16:53:15.812Z"
   },
   {
    "duration": 133,
    "start_time": "2022-01-12T16:53:46.849Z"
   },
   {
    "duration": 93,
    "start_time": "2022-01-12T16:53:52.860Z"
   },
   {
    "duration": 23,
    "start_time": "2022-01-12T16:53:58.879Z"
   },
   {
    "duration": 33,
    "start_time": "2022-01-12T16:54:03.907Z"
   },
   {
    "duration": 96,
    "start_time": "2022-01-12T16:58:47.994Z"
   },
   {
    "duration": 133,
    "start_time": "2022-01-12T16:59:15.313Z"
   },
   {
    "duration": 36,
    "start_time": "2022-01-12T17:05:42.367Z"
   },
   {
    "duration": 725,
    "start_time": "2022-01-14T08:54:38.306Z"
   },
   {
    "duration": 963,
    "start_time": "2022-01-14T08:57:12.573Z"
   },
   {
    "duration": -26075,
    "start_time": "2022-01-14T08:57:39.614Z"
   },
   {
    "duration": -26115,
    "start_time": "2022-01-14T08:57:39.655Z"
   },
   {
    "duration": -26123,
    "start_time": "2022-01-14T08:57:39.665Z"
   },
   {
    "duration": -26135,
    "start_time": "2022-01-14T08:57:39.678Z"
   },
   {
    "duration": 816,
    "start_time": "2022-01-14T09:00:35.487Z"
   },
   {
    "duration": 163,
    "start_time": "2022-01-14T09:00:36.305Z"
   },
   {
    "duration": 107,
    "start_time": "2022-01-14T09:00:36.470Z"
   },
   {
    "duration": 27,
    "start_time": "2022-01-14T09:00:36.579Z"
   },
   {
    "duration": 42,
    "start_time": "2022-01-14T09:00:36.608Z"
   },
   {
    "duration": 16,
    "start_time": "2022-01-14T10:00:22.050Z"
   },
   {
    "duration": 34,
    "start_time": "2022-01-14T10:00:25.223Z"
   },
   {
    "duration": 18,
    "start_time": "2022-01-14T10:00:29.191Z"
   },
   {
    "duration": 32,
    "start_time": "2022-01-14T10:00:32.298Z"
   },
   {
    "duration": 72,
    "start_time": "2022-01-14T11:13:45.765Z"
   },
   {
    "duration": 789,
    "start_time": "2022-01-14T11:13:52.342Z"
   },
   {
    "duration": 149,
    "start_time": "2022-01-14T11:13:53.133Z"
   },
   {
    "duration": 105,
    "start_time": "2022-01-14T11:13:53.284Z"
   },
   {
    "duration": 25,
    "start_time": "2022-01-14T11:13:53.393Z"
   },
   {
    "duration": 38,
    "start_time": "2022-01-14T11:13:53.420Z"
   },
   {
    "duration": 14,
    "start_time": "2022-01-14T11:13:53.461Z"
   },
   {
    "duration": 28,
    "start_time": "2022-01-14T11:13:53.478Z"
   },
   {
    "duration": 13,
    "start_time": "2022-01-14T11:13:53.508Z"
   },
   {
    "duration": 71,
    "start_time": "2022-01-14T11:13:53.522Z"
   },
   {
    "duration": 3115,
    "start_time": "2022-01-14T11:13:53.594Z"
   },
   {
    "duration": 3150,
    "start_time": "2022-01-14T11:16:22.502Z"
   },
   {
    "duration": 12,
    "start_time": "2022-01-14T11:16:53.533Z"
   },
   {
    "duration": 12,
    "start_time": "2022-01-14T11:16:58.779Z"
   },
   {
    "duration": 3030,
    "start_time": "2022-01-14T11:17:10.684Z"
   },
   {
    "duration": 13,
    "start_time": "2022-01-14T11:19:08.380Z"
   },
   {
    "duration": 7,
    "start_time": "2022-01-14T11:19:14.871Z"
   },
   {
    "duration": 3403,
    "start_time": "2022-01-14T11:20:09.117Z"
   },
   {
    "duration": 2630,
    "start_time": "2022-01-14T11:20:47.103Z"
   },
   {
    "duration": 3226,
    "start_time": "2022-01-14T11:21:30.746Z"
   },
   {
    "duration": 231,
    "start_time": "2022-01-14T11:23:46.696Z"
   },
   {
    "duration": 252,
    "start_time": "2022-01-14T11:25:16.650Z"
   },
   {
    "duration": 244,
    "start_time": "2022-01-14T11:27:19.906Z"
   },
   {
    "duration": 15,
    "start_time": "2022-01-14T11:30:43.559Z"
   },
   {
    "duration": 14,
    "start_time": "2022-01-14T11:31:15.492Z"
   },
   {
    "duration": 15,
    "start_time": "2022-01-14T11:31:27.213Z"
   },
   {
    "duration": 228,
    "start_time": "2022-01-14T11:32:05.484Z"
   },
   {
    "duration": 12,
    "start_time": "2022-01-14T11:32:11.684Z"
   },
   {
    "duration": 9,
    "start_time": "2022-01-14T11:34:52.236Z"
   },
   {
    "duration": 10,
    "start_time": "2022-01-14T11:34:57.872Z"
   },
   {
    "duration": 10,
    "start_time": "2022-01-14T11:35:04.534Z"
   },
   {
    "duration": 3760,
    "start_time": "2022-01-14T11:35:12.908Z"
   },
   {
    "duration": 787,
    "start_time": "2022-01-14T11:35:26.685Z"
   },
   {
    "duration": 153,
    "start_time": "2022-01-14T11:35:27.477Z"
   },
   {
    "duration": 106,
    "start_time": "2022-01-14T11:35:27.632Z"
   },
   {
    "duration": 29,
    "start_time": "2022-01-14T11:35:27.739Z"
   },
   {
    "duration": 41,
    "start_time": "2022-01-14T11:35:27.769Z"
   },
   {
    "duration": 15,
    "start_time": "2022-01-14T11:35:27.812Z"
   },
   {
    "duration": 35,
    "start_time": "2022-01-14T11:35:27.829Z"
   },
   {
    "duration": 12,
    "start_time": "2022-01-14T11:35:27.866Z"
   },
   {
    "duration": 36,
    "start_time": "2022-01-14T11:35:27.880Z"
   },
   {
    "duration": 90,
    "start_time": "2022-01-14T11:35:27.918Z"
   },
   {
    "duration": 8,
    "start_time": "2022-01-14T11:35:28.009Z"
   },
   {
    "duration": 17,
    "start_time": "2022-01-14T11:35:56.228Z"
   },
   {
    "duration": 12,
    "start_time": "2022-01-14T11:36:07.007Z"
   },
   {
    "duration": 13,
    "start_time": "2022-01-14T11:36:19.585Z"
   },
   {
    "duration": 54,
    "start_time": "2022-01-14T12:02:19.820Z"
   },
   {
    "duration": 54,
    "start_time": "2022-01-14T12:02:43.756Z"
   },
   {
    "duration": 12,
    "start_time": "2022-01-14T12:02:59.358Z"
   },
   {
    "duration": 9,
    "start_time": "2022-01-14T12:03:21.432Z"
   },
   {
    "duration": 10,
    "start_time": "2022-01-14T12:03:37.528Z"
   },
   {
    "duration": 9,
    "start_time": "2022-01-14T12:03:54.151Z"
   },
   {
    "duration": 268,
    "start_time": "2022-01-14T12:04:58.313Z"
   },
   {
    "duration": 205,
    "start_time": "2022-01-14T12:05:05.445Z"
   },
   {
    "duration": 269,
    "start_time": "2022-01-14T12:05:19.090Z"
   },
   {
    "duration": 36,
    "start_time": "2022-01-14T12:05:25.699Z"
   },
   {
    "duration": 37,
    "start_time": "2022-01-14T12:07:50.333Z"
   },
   {
    "duration": 228,
    "start_time": "2022-01-14T12:10:15.920Z"
   },
   {
    "duration": 293,
    "start_time": "2022-01-14T12:10:26.204Z"
   },
   {
    "duration": 302,
    "start_time": "2022-01-14T12:10:39.148Z"
   },
   {
    "duration": 34,
    "start_time": "2022-01-14T12:10:50.590Z"
   },
   {
    "duration": 202,
    "start_time": "2022-01-14T12:57:07.636Z"
   },
   {
    "duration": 214,
    "start_time": "2022-01-14T12:59:50.041Z"
   },
   {
    "duration": 215,
    "start_time": "2022-01-14T13:11:20.556Z"
   },
   {
    "duration": 789,
    "start_time": "2022-01-14T13:11:28.662Z"
   },
   {
    "duration": 156,
    "start_time": "2022-01-14T13:11:29.454Z"
   },
   {
    "duration": 116,
    "start_time": "2022-01-14T13:11:29.612Z"
   },
   {
    "duration": 30,
    "start_time": "2022-01-14T13:11:29.730Z"
   },
   {
    "duration": 38,
    "start_time": "2022-01-14T13:11:29.762Z"
   },
   {
    "duration": 15,
    "start_time": "2022-01-14T13:11:29.802Z"
   },
   {
    "duration": 52,
    "start_time": "2022-01-14T13:11:29.819Z"
   },
   {
    "duration": 13,
    "start_time": "2022-01-14T13:11:29.874Z"
   },
   {
    "duration": 28,
    "start_time": "2022-01-14T13:11:29.889Z"
   },
   {
    "duration": 103,
    "start_time": "2022-01-14T13:11:29.919Z"
   },
   {
    "duration": 8,
    "start_time": "2022-01-14T13:11:30.025Z"
   },
   {
    "duration": 45,
    "start_time": "2022-01-14T13:11:30.035Z"
   },
   {
    "duration": 30,
    "start_time": "2022-01-14T13:11:30.082Z"
   },
   {
    "duration": 19,
    "start_time": "2022-01-14T13:11:30.114Z"
   },
   {
    "duration": 54,
    "start_time": "2022-01-14T13:11:30.135Z"
   },
   {
    "duration": 7,
    "start_time": "2022-01-14T13:11:30.191Z"
   },
   {
    "duration": 26,
    "start_time": "2022-01-14T13:11:30.200Z"
   },
   {
    "duration": 15,
    "start_time": "2022-01-14T13:11:30.228Z"
   },
   {
    "duration": 21,
    "start_time": "2022-01-14T13:11:30.244Z"
   },
   {
    "duration": 20,
    "start_time": "2022-01-14T13:11:30.267Z"
   },
   {
    "duration": 46,
    "start_time": "2022-01-14T13:11:30.289Z"
   },
   {
    "duration": 51,
    "start_time": "2022-01-14T13:11:30.337Z"
   },
   {
    "duration": 35,
    "start_time": "2022-01-14T13:11:30.391Z"
   },
   {
    "duration": 37,
    "start_time": "2022-01-14T13:15:58.408Z"
   },
   {
    "duration": 264,
    "start_time": "2022-01-14T13:24:22.376Z"
   },
   {
    "duration": 262,
    "start_time": "2022-01-14T13:35:19.814Z"
   },
   {
    "duration": 20,
    "start_time": "2022-01-14T13:35:34.370Z"
   },
   {
    "duration": 29,
    "start_time": "2022-01-14T13:36:53.889Z"
   },
   {
    "duration": 41,
    "start_time": "2022-01-14T13:40:13.528Z"
   },
   {
    "duration": 36,
    "start_time": "2022-01-14T13:41:12.062Z"
   },
   {
    "duration": 31,
    "start_time": "2022-01-14T13:42:00.342Z"
   },
   {
    "duration": 27,
    "start_time": "2022-01-14T13:42:03.326Z"
   },
   {
    "duration": 41,
    "start_time": "2022-01-14T13:42:13.244Z"
   },
   {
    "duration": 42,
    "start_time": "2022-01-14T13:45:26.205Z"
   },
   {
    "duration": 69,
    "start_time": "2022-01-14T13:46:44.294Z"
   },
   {
    "duration": 35,
    "start_time": "2022-01-14T13:46:50.424Z"
   },
   {
    "duration": 36,
    "start_time": "2022-01-14T13:49:56.508Z"
   },
   {
    "duration": 9,
    "start_time": "2022-01-14T13:52:35.617Z"
   },
   {
    "duration": 14,
    "start_time": "2022-01-14T13:52:46.383Z"
   },
   {
    "duration": 40,
    "start_time": "2022-01-14T13:55:37.663Z"
   },
   {
    "duration": 36,
    "start_time": "2022-01-14T13:56:15.802Z"
   },
   {
    "duration": 38,
    "start_time": "2022-01-14T13:56:53.635Z"
   },
   {
    "duration": 779,
    "start_time": "2022-01-14T13:57:21.388Z"
   },
   {
    "duration": 159,
    "start_time": "2022-01-14T13:57:22.170Z"
   },
   {
    "duration": 117,
    "start_time": "2022-01-14T13:57:22.331Z"
   },
   {
    "duration": 31,
    "start_time": "2022-01-14T13:57:22.451Z"
   },
   {
    "duration": 39,
    "start_time": "2022-01-14T13:57:22.483Z"
   },
   {
    "duration": 19,
    "start_time": "2022-01-14T13:57:22.524Z"
   },
   {
    "duration": 42,
    "start_time": "2022-01-14T13:57:22.545Z"
   },
   {
    "duration": 15,
    "start_time": "2022-01-14T13:57:22.589Z"
   },
   {
    "duration": 55,
    "start_time": "2022-01-14T13:57:22.607Z"
   },
   {
    "duration": 100,
    "start_time": "2022-01-14T13:57:22.665Z"
   },
   {
    "duration": 11,
    "start_time": "2022-01-14T13:57:22.768Z"
   },
   {
    "duration": 74,
    "start_time": "2022-01-14T13:57:22.782Z"
   },
   {
    "duration": 136,
    "start_time": "2022-01-14T13:57:22.867Z"
   },
   {
    "duration": 102,
    "start_time": "2022-01-14T13:57:23.006Z"
   },
   {
    "duration": 194,
    "start_time": "2022-01-14T13:57:23.119Z"
   },
   {
    "duration": 7,
    "start_time": "2022-01-14T13:57:23.315Z"
   },
   {
    "duration": 18,
    "start_time": "2022-01-14T13:57:23.324Z"
   },
   {
    "duration": 18,
    "start_time": "2022-01-14T13:57:23.344Z"
   },
   {
    "duration": 8,
    "start_time": "2022-01-14T13:57:23.364Z"
   },
   {
    "duration": 18,
    "start_time": "2022-01-14T13:57:23.374Z"
   },
   {
    "duration": 71,
    "start_time": "2022-01-14T13:57:23.394Z"
   },
   {
    "duration": 38,
    "start_time": "2022-01-14T13:57:23.466Z"
   },
   {
    "duration": 32,
    "start_time": "2022-01-14T13:57:23.507Z"
   },
   {
    "duration": 50,
    "start_time": "2022-01-14T13:57:23.541Z"
   },
   {
    "duration": 16,
    "start_time": "2022-01-14T13:57:23.593Z"
   },
   {
    "duration": 79,
    "start_time": "2022-01-14T14:17:48.336Z"
   },
   {
    "duration": 263,
    "start_time": "2022-01-14T14:18:14.364Z"
   },
   {
    "duration": 4,
    "start_time": "2022-01-14T14:18:43.773Z"
   },
   {
    "duration": 241,
    "start_time": "2022-01-14T14:19:21.970Z"
   },
   {
    "duration": 43,
    "start_time": "2022-01-14T14:19:28.016Z"
   },
   {
    "duration": 16,
    "start_time": "2022-01-14T14:20:36.895Z"
   },
   {
    "duration": 61,
    "start_time": "2022-01-14T14:22:10.595Z"
   },
   {
    "duration": 45,
    "start_time": "2022-01-14T14:22:27.683Z"
   },
   {
    "duration": 47,
    "start_time": "2022-01-14T14:22:35.481Z"
   },
   {
    "duration": 84,
    "start_time": "2022-01-14T15:38:35.800Z"
   },
   {
    "duration": 96,
    "start_time": "2022-01-14T15:38:45.051Z"
   },
   {
    "duration": 106,
    "start_time": "2022-01-14T15:38:55.237Z"
   },
   {
    "duration": 100,
    "start_time": "2022-01-14T15:39:08.343Z"
   },
   {
    "duration": 96,
    "start_time": "2022-01-14T15:39:30.516Z"
   },
   {
    "duration": 104,
    "start_time": "2022-01-14T15:40:17.945Z"
   },
   {
    "duration": 347,
    "start_time": "2022-01-14T15:40:59.889Z"
   },
   {
    "duration": 359,
    "start_time": "2022-01-14T15:41:04.731Z"
   },
   {
    "duration": 287,
    "start_time": "2022-01-14T15:42:20.870Z"
   },
   {
    "duration": 83,
    "start_time": "2022-01-14T15:42:30.790Z"
   },
   {
    "duration": 133,
    "start_time": "2022-01-14T15:43:26.745Z"
   },
   {
    "duration": 84,
    "start_time": "2022-01-14T15:46:40.430Z"
   },
   {
    "duration": 96,
    "start_time": "2022-01-14T15:46:51.619Z"
   },
   {
    "duration": 338,
    "start_time": "2022-01-14T15:58:39.091Z"
   },
   {
    "duration": 360,
    "start_time": "2022-01-14T15:59:21.665Z"
   },
   {
    "duration": 69,
    "start_time": "2022-01-14T16:01:44.541Z"
   },
   {
    "duration": 379,
    "start_time": "2022-01-14T16:01:50.472Z"
   },
   {
    "duration": 798,
    "start_time": "2022-01-14T16:02:27.994Z"
   },
   {
    "duration": 273,
    "start_time": "2022-01-14T16:02:28.794Z"
   },
   {
    "duration": 120,
    "start_time": "2022-01-14T16:02:29.069Z"
   },
   {
    "duration": 26,
    "start_time": "2022-01-14T16:02:29.192Z"
   },
   {
    "duration": 59,
    "start_time": "2022-01-14T16:02:29.221Z"
   },
   {
    "duration": 23,
    "start_time": "2022-01-14T16:02:29.282Z"
   },
   {
    "duration": 42,
    "start_time": "2022-01-14T16:02:29.308Z"
   },
   {
    "duration": 15,
    "start_time": "2022-01-14T16:02:29.361Z"
   },
   {
    "duration": 67,
    "start_time": "2022-01-14T16:02:29.379Z"
   },
   {
    "duration": 98,
    "start_time": "2022-01-14T16:02:29.448Z"
   },
   {
    "duration": 13,
    "start_time": "2022-01-14T16:02:29.548Z"
   },
   {
    "duration": 41,
    "start_time": "2022-01-14T16:02:29.562Z"
   },
   {
    "duration": 14,
    "start_time": "2022-01-14T16:02:29.605Z"
   },
   {
    "duration": 30,
    "start_time": "2022-01-14T16:02:29.620Z"
   },
   {
    "duration": 59,
    "start_time": "2022-01-14T16:02:29.652Z"
   },
   {
    "duration": 6,
    "start_time": "2022-01-14T16:02:29.713Z"
   },
   {
    "duration": 24,
    "start_time": "2022-01-14T16:02:29.720Z"
   },
   {
    "duration": 42,
    "start_time": "2022-01-14T16:02:29.746Z"
   },
   {
    "duration": 28,
    "start_time": "2022-01-14T16:02:29.790Z"
   },
   {
    "duration": 50,
    "start_time": "2022-01-14T16:02:29.819Z"
   },
   {
    "duration": 67,
    "start_time": "2022-01-14T16:02:29.871Z"
   },
   {
    "duration": 43,
    "start_time": "2022-01-14T16:02:29.941Z"
   },
   {
    "duration": 45,
    "start_time": "2022-01-14T16:02:29.987Z"
   },
   {
    "duration": 4,
    "start_time": "2022-01-14T16:02:30.034Z"
   },
   {
    "duration": 119,
    "start_time": "2022-01-14T16:02:30.060Z"
   },
   {
    "duration": 419,
    "start_time": "2022-01-14T16:02:30.181Z"
   },
   {
    "duration": 220,
    "start_time": "2022-01-14T16:02:56.098Z"
   },
   {
    "duration": 228,
    "start_time": "2022-01-14T16:04:24.898Z"
   },
   {
    "duration": 858,
    "start_time": "2022-01-14T16:06:32.771Z"
   },
   {
    "duration": 225,
    "start_time": "2022-01-14T16:16:42.717Z"
   },
   {
    "duration": 388,
    "start_time": "2022-01-14T16:17:00.513Z"
   },
   {
    "duration": 70,
    "start_time": "2022-01-14T16:37:37.209Z"
   },
   {
    "duration": 63,
    "start_time": "2022-01-14T16:38:28.037Z"
   },
   {
    "duration": 75,
    "start_time": "2022-01-14T16:39:22.948Z"
   },
   {
    "duration": 77,
    "start_time": "2022-01-14T16:39:49.568Z"
   },
   {
    "duration": 71,
    "start_time": "2022-01-14T16:43:49.646Z"
   },
   {
    "duration": 9,
    "start_time": "2022-01-14T16:46:22.162Z"
   },
   {
    "duration": 758,
    "start_time": "2022-01-14T16:46:35.184Z"
   },
   {
    "duration": 159,
    "start_time": "2022-01-14T16:46:35.945Z"
   },
   {
    "duration": 103,
    "start_time": "2022-01-14T16:46:36.106Z"
   },
   {
    "duration": 25,
    "start_time": "2022-01-14T16:46:36.211Z"
   },
   {
    "duration": 43,
    "start_time": "2022-01-14T16:46:36.238Z"
   },
   {
    "duration": 23,
    "start_time": "2022-01-14T16:46:36.283Z"
   },
   {
    "duration": 41,
    "start_time": "2022-01-14T16:46:36.308Z"
   },
   {
    "duration": 20,
    "start_time": "2022-01-14T16:46:36.351Z"
   },
   {
    "duration": 37,
    "start_time": "2022-01-14T16:46:36.373Z"
   },
   {
    "duration": 83,
    "start_time": "2022-01-14T16:46:36.412Z"
   },
   {
    "duration": 7,
    "start_time": "2022-01-14T16:46:36.497Z"
   },
   {
    "duration": 33,
    "start_time": "2022-01-14T16:46:36.505Z"
   },
   {
    "duration": 40,
    "start_time": "2022-01-14T16:46:36.540Z"
   },
   {
    "duration": 32,
    "start_time": "2022-01-14T16:46:36.581Z"
   },
   {
    "duration": 74,
    "start_time": "2022-01-14T16:46:36.616Z"
   },
   {
    "duration": 6,
    "start_time": "2022-01-14T16:46:36.692Z"
   },
   {
    "duration": 23,
    "start_time": "2022-01-14T16:46:36.700Z"
   },
   {
    "duration": 32,
    "start_time": "2022-01-14T16:46:36.725Z"
   },
   {
    "duration": 26,
    "start_time": "2022-01-14T16:46:36.758Z"
   },
   {
    "duration": 38,
    "start_time": "2022-01-14T16:46:36.786Z"
   },
   {
    "duration": 65,
    "start_time": "2022-01-14T16:46:36.825Z"
   },
   {
    "duration": 35,
    "start_time": "2022-01-14T16:46:36.891Z"
   },
   {
    "duration": 60,
    "start_time": "2022-01-14T16:46:36.929Z"
   },
   {
    "duration": 5,
    "start_time": "2022-01-14T16:46:36.992Z"
   },
   {
    "duration": 70,
    "start_time": "2022-01-14T16:46:36.999Z"
   },
   {
    "duration": 10,
    "start_time": "2022-01-14T16:46:37.072Z"
   },
   {
    "duration": 247,
    "start_time": "2022-01-14T16:46:37.084Z"
   },
   {
    "duration": 535,
    "start_time": "2022-01-14T16:50:52.488Z"
   },
   {
    "duration": 552,
    "start_time": "2022-01-14T16:51:05.534Z"
   },
   {
    "duration": 535,
    "start_time": "2022-01-14T16:51:54.862Z"
   },
   {
    "duration": 538,
    "start_time": "2022-01-14T16:52:06.733Z"
   },
   {
    "duration": 262,
    "start_time": "2022-01-14T16:54:13.660Z"
   },
   {
    "duration": 10,
    "start_time": "2022-01-14T16:54:31.485Z"
   },
   {
    "duration": 12,
    "start_time": "2022-01-14T16:56:43.801Z"
   },
   {
    "duration": 805,
    "start_time": "2022-01-14T16:56:54.230Z"
   },
   {
    "duration": 167,
    "start_time": "2022-01-14T16:56:55.040Z"
   },
   {
    "duration": 130,
    "start_time": "2022-01-14T16:56:55.209Z"
   },
   {
    "duration": 31,
    "start_time": "2022-01-14T16:56:55.341Z"
   },
   {
    "duration": 45,
    "start_time": "2022-01-14T16:56:55.374Z"
   },
   {
    "duration": 19,
    "start_time": "2022-01-14T16:56:55.421Z"
   },
   {
    "duration": 45,
    "start_time": "2022-01-14T16:56:55.442Z"
   },
   {
    "duration": 14,
    "start_time": "2022-01-14T16:56:55.490Z"
   },
   {
    "duration": 55,
    "start_time": "2022-01-14T16:56:55.506Z"
   },
   {
    "duration": 82,
    "start_time": "2022-01-14T16:56:55.562Z"
   },
   {
    "duration": 18,
    "start_time": "2022-01-14T16:56:55.646Z"
   },
   {
    "duration": 24,
    "start_time": "2022-01-14T16:56:55.665Z"
   },
   {
    "duration": 10,
    "start_time": "2022-01-14T16:56:55.691Z"
   },
   {
    "duration": 14,
    "start_time": "2022-01-14T16:56:55.703Z"
   },
   {
    "duration": 87,
    "start_time": "2022-01-14T16:56:55.720Z"
   },
   {
    "duration": 7,
    "start_time": "2022-01-14T16:56:55.808Z"
   },
   {
    "duration": 13,
    "start_time": "2022-01-14T16:56:55.817Z"
   },
   {
    "duration": 31,
    "start_time": "2022-01-14T16:56:55.831Z"
   },
   {
    "duration": 8,
    "start_time": "2022-01-14T16:56:55.864Z"
   },
   {
    "duration": 16,
    "start_time": "2022-01-14T16:56:55.873Z"
   },
   {
    "duration": 75,
    "start_time": "2022-01-14T16:56:55.891Z"
   },
   {
    "duration": 43,
    "start_time": "2022-01-14T16:56:55.968Z"
   },
   {
    "duration": 64,
    "start_time": "2022-01-14T16:56:56.013Z"
   },
   {
    "duration": 4,
    "start_time": "2022-01-14T16:56:56.079Z"
   },
   {
    "duration": 78,
    "start_time": "2022-01-14T16:56:56.085Z"
   },
   {
    "duration": 10,
    "start_time": "2022-01-14T16:56:56.167Z"
   },
   {
    "duration": 13,
    "start_time": "2022-01-14T16:56:56.179Z"
   },
   {
    "duration": 353,
    "start_time": "2022-01-14T16:56:56.194Z"
   },
   {
    "duration": 223,
    "start_time": "2022-01-14T16:58:36.696Z"
   },
   {
    "duration": 263,
    "start_time": "2022-01-14T17:33:37.200Z"
   },
   {
    "duration": 233,
    "start_time": "2022-01-14T17:33:46.143Z"
   },
   {
    "duration": 27,
    "start_time": "2022-01-14T17:34:52.949Z"
   },
   {
    "duration": 209,
    "start_time": "2022-01-14T17:35:05.702Z"
   },
   {
    "duration": 5,
    "start_time": "2022-01-14T17:35:18.174Z"
   },
   {
    "duration": 6,
    "start_time": "2022-01-14T17:35:20.798Z"
   },
   {
    "duration": 6,
    "start_time": "2022-01-14T17:35:29.476Z"
   },
   {
    "duration": 21,
    "start_time": "2022-01-14T17:35:38.130Z"
   },
   {
    "duration": 5759,
    "start_time": "2022-01-14T17:38:31.415Z"
   },
   {
    "duration": 5,
    "start_time": "2022-01-14T17:38:42.576Z"
   },
   {
    "duration": 6,
    "start_time": "2022-01-14T17:45:01.945Z"
   },
   {
    "duration": 5,
    "start_time": "2022-01-14T17:49:24.674Z"
   },
   {
    "duration": 5,
    "start_time": "2022-01-14T17:52:23.373Z"
   },
   {
    "duration": 5,
    "start_time": "2022-01-14T17:53:31.956Z"
   },
   {
    "duration": 6,
    "start_time": "2022-01-14T17:54:16.696Z"
   },
   {
    "duration": 68,
    "start_time": "2022-01-14T17:55:30.649Z"
   },
   {
    "duration": 4,
    "start_time": "2022-01-14T17:55:37.527Z"
   },
   {
    "duration": 5,
    "start_time": "2022-01-14T17:56:39.116Z"
   },
   {
    "duration": 5,
    "start_time": "2022-01-14T17:58:00.063Z"
   },
   {
    "duration": 816,
    "start_time": "2022-01-14T18:01:28.661Z"
   },
   {
    "duration": 156,
    "start_time": "2022-01-14T18:01:29.479Z"
   },
   {
    "duration": 108,
    "start_time": "2022-01-14T18:01:29.637Z"
   },
   {
    "duration": 24,
    "start_time": "2022-01-14T18:01:29.748Z"
   },
   {
    "duration": 37,
    "start_time": "2022-01-14T18:01:29.773Z"
   },
   {
    "duration": 14,
    "start_time": "2022-01-14T18:01:29.812Z"
   },
   {
    "duration": 53,
    "start_time": "2022-01-14T18:01:29.829Z"
   },
   {
    "duration": 12,
    "start_time": "2022-01-14T18:01:29.884Z"
   },
   {
    "duration": 29,
    "start_time": "2022-01-14T18:01:29.898Z"
   },
   {
    "duration": 102,
    "start_time": "2022-01-14T18:01:29.929Z"
   },
   {
    "duration": 7,
    "start_time": "2022-01-14T18:01:30.033Z"
   },
   {
    "duration": 33,
    "start_time": "2022-01-14T18:01:30.042Z"
   },
   {
    "duration": 20,
    "start_time": "2022-01-14T18:01:30.077Z"
   },
   {
    "duration": 33,
    "start_time": "2022-01-14T18:01:30.099Z"
   },
   {
    "duration": 58,
    "start_time": "2022-01-14T18:01:30.134Z"
   },
   {
    "duration": 6,
    "start_time": "2022-01-14T18:01:30.193Z"
   },
   {
    "duration": 35,
    "start_time": "2022-01-14T18:01:30.200Z"
   },
   {
    "duration": 24,
    "start_time": "2022-01-14T18:01:30.236Z"
   },
   {
    "duration": 31,
    "start_time": "2022-01-14T18:01:30.261Z"
   },
   {
    "duration": 33,
    "start_time": "2022-01-14T18:01:30.294Z"
   },
   {
    "duration": 51,
    "start_time": "2022-01-14T18:01:30.328Z"
   },
   {
    "duration": 37,
    "start_time": "2022-01-14T18:01:30.382Z"
   },
   {
    "duration": 56,
    "start_time": "2022-01-14T18:01:30.421Z"
   },
   {
    "duration": 4,
    "start_time": "2022-01-14T18:01:30.478Z"
   },
   {
    "duration": 55,
    "start_time": "2022-01-14T18:01:30.484Z"
   },
   {
    "duration": 26,
    "start_time": "2022-01-14T18:01:30.541Z"
   },
   {
    "duration": 31,
    "start_time": "2022-01-14T18:01:30.568Z"
   },
   {
    "duration": 228,
    "start_time": "2022-01-14T18:01:30.601Z"
   },
   {
    "duration": 32,
    "start_time": "2022-01-14T18:01:30.830Z"
   },
   {
    "duration": 22,
    "start_time": "2022-01-14T18:01:30.864Z"
   },
   {
    "duration": 19,
    "start_time": "2022-01-14T18:01:30.887Z"
   },
   {
    "duration": 23,
    "start_time": "2022-01-14T18:01:30.908Z"
   },
   {
    "duration": 25,
    "start_time": "2022-01-14T18:01:30.933Z"
   },
   {
    "duration": 17,
    "start_time": "2022-01-14T18:01:30.960Z"
   },
   {
    "duration": 12,
    "start_time": "2022-01-14T18:01:30.979Z"
   },
   {
    "duration": 9,
    "start_time": "2022-01-14T18:01:30.993Z"
   },
   {
    "duration": 14,
    "start_time": "2022-01-14T18:01:31.005Z"
   },
   {
    "duration": 11,
    "start_time": "2022-01-14T18:01:31.021Z"
   },
   {
    "duration": 19,
    "start_time": "2022-01-14T18:01:31.034Z"
   },
   {
    "duration": 5236,
    "start_time": "2022-01-14T18:06:49.848Z"
   },
   {
    "duration": 330,
    "start_time": "2022-01-14T18:07:02.242Z"
   },
   {
    "duration": 411,
    "start_time": "2022-01-14T18:07:22.149Z"
   },
   {
    "duration": 330,
    "start_time": "2022-01-14T18:08:01.172Z"
   },
   {
    "duration": 344,
    "start_time": "2022-01-14T18:08:52.757Z"
   },
   {
    "duration": 196,
    "start_time": "2022-01-14T18:09:05.525Z"
   },
   {
    "duration": 336,
    "start_time": "2022-01-14T18:09:23.202Z"
   },
   {
    "duration": 315,
    "start_time": "2022-01-15T13:18:41.349Z"
   },
   {
    "duration": 762,
    "start_time": "2022-01-15T13:18:50.165Z"
   },
   {
    "duration": 135,
    "start_time": "2022-01-15T13:18:50.929Z"
   },
   {
    "duration": 90,
    "start_time": "2022-01-15T13:18:51.066Z"
   },
   {
    "duration": 24,
    "start_time": "2022-01-15T13:18:51.157Z"
   },
   {
    "duration": 51,
    "start_time": "2022-01-15T13:18:51.182Z"
   },
   {
    "duration": 12,
    "start_time": "2022-01-15T13:18:51.234Z"
   },
   {
    "duration": 26,
    "start_time": "2022-01-15T13:18:51.248Z"
   },
   {
    "duration": 11,
    "start_time": "2022-01-15T13:18:51.276Z"
   },
   {
    "duration": 24,
    "start_time": "2022-01-15T13:18:51.288Z"
   },
   {
    "duration": 68,
    "start_time": "2022-01-15T13:18:51.314Z"
   },
   {
    "duration": 5,
    "start_time": "2022-01-15T13:18:51.384Z"
   },
   {
    "duration": 16,
    "start_time": "2022-01-15T13:18:51.390Z"
   },
   {
    "duration": 8,
    "start_time": "2022-01-15T13:18:51.408Z"
   },
   {
    "duration": 13,
    "start_time": "2022-01-15T13:18:51.418Z"
   },
   {
    "duration": 50,
    "start_time": "2022-01-15T13:18:51.432Z"
   },
   {
    "duration": 5,
    "start_time": "2022-01-15T13:18:51.484Z"
   },
   {
    "duration": 13,
    "start_time": "2022-01-15T13:18:51.491Z"
   },
   {
    "duration": 8,
    "start_time": "2022-01-15T13:18:51.505Z"
   },
   {
    "duration": 8,
    "start_time": "2022-01-15T13:18:51.514Z"
   },
   {
    "duration": 8,
    "start_time": "2022-01-15T13:18:51.523Z"
   },
   {
    "duration": 32,
    "start_time": "2022-01-15T13:18:51.533Z"
   },
   {
    "duration": 27,
    "start_time": "2022-01-15T13:18:51.567Z"
   },
   {
    "duration": 33,
    "start_time": "2022-01-15T13:18:51.597Z"
   },
   {
    "duration": 3,
    "start_time": "2022-01-15T13:18:51.632Z"
   },
   {
    "duration": 53,
    "start_time": "2022-01-15T13:18:51.636Z"
   },
   {
    "duration": 6,
    "start_time": "2022-01-15T13:18:51.691Z"
   },
   {
    "duration": 14,
    "start_time": "2022-01-15T13:18:51.699Z"
   },
   {
    "duration": 199,
    "start_time": "2022-01-15T13:18:51.714Z"
   },
   {
    "duration": 24,
    "start_time": "2022-01-15T13:18:51.915Z"
   },
   {
    "duration": 18,
    "start_time": "2022-01-15T13:18:51.940Z"
   },
   {
    "duration": 4,
    "start_time": "2022-01-15T13:18:51.959Z"
   },
   {
    "duration": 6,
    "start_time": "2022-01-15T13:18:51.964Z"
   },
   {
    "duration": 5,
    "start_time": "2022-01-15T13:18:51.971Z"
   },
   {
    "duration": 387,
    "start_time": "2022-01-15T13:18:51.977Z"
   },
   {
    "duration": 5,
    "start_time": "2022-01-15T13:18:52.366Z"
   },
   {
    "duration": 6,
    "start_time": "2022-01-15T13:18:52.373Z"
   },
   {
    "duration": 5,
    "start_time": "2022-01-15T13:18:52.428Z"
   },
   {
    "duration": 513,
    "start_time": "2022-01-15T13:18:52.435Z"
   },
   {
    "duration": 4,
    "start_time": "2022-01-15T13:18:52.949Z"
   },
   {
    "duration": 16,
    "start_time": "2022-01-15T13:18:52.954Z"
   },
   {
    "duration": 6,
    "start_time": "2022-01-15T13:18:52.971Z"
   },
   {
    "duration": 315,
    "start_time": "2022-01-15T13:18:52.978Z"
   },
   {
    "duration": 234,
    "start_time": "2022-01-15T13:28:14.886Z"
   },
   {
    "duration": 315,
    "start_time": "2022-01-15T13:28:27.307Z"
   },
   {
    "duration": 218,
    "start_time": "2022-01-15T13:30:41.609Z"
   },
   {
    "duration": 369,
    "start_time": "2022-01-15T13:30:48.877Z"
   },
   {
    "duration": 222,
    "start_time": "2022-01-15T13:37:47.859Z"
   },
   {
    "duration": 363,
    "start_time": "2022-01-15T13:37:54.350Z"
   },
   {
    "duration": 218,
    "start_time": "2022-01-15T14:35:15.565Z"
   },
   {
    "duration": 304,
    "start_time": "2022-01-15T14:35:29.215Z"
   },
   {
    "duration": 225,
    "start_time": "2022-01-15T14:39:04.422Z"
   },
   {
    "duration": 398,
    "start_time": "2022-01-15T14:39:07.888Z"
   },
   {
    "duration": 89,
    "start_time": "2022-01-15T15:50:24.565Z"
   },
   {
    "duration": 5,
    "start_time": "2022-01-15T15:54:56.004Z"
   },
   {
    "duration": 18,
    "start_time": "2022-01-15T15:55:22.466Z"
   },
   {
    "duration": 5,
    "start_time": "2022-01-15T15:55:30.253Z"
   },
   {
    "duration": 91,
    "start_time": "2022-01-15T15:59:01.997Z"
   },
   {
    "duration": 385,
    "start_time": "2022-01-15T15:59:10.368Z"
   },
   {
    "duration": 1264,
    "start_time": "2022-01-15T15:59:43.612Z"
   },
   {
    "duration": 147,
    "start_time": "2022-01-15T15:59:44.878Z"
   },
   {
    "duration": 114,
    "start_time": "2022-01-15T15:59:45.027Z"
   },
   {
    "duration": 25,
    "start_time": "2022-01-15T15:59:45.143Z"
   },
   {
    "duration": 43,
    "start_time": "2022-01-15T15:59:45.170Z"
   },
   {
    "duration": 15,
    "start_time": "2022-01-15T15:59:45.215Z"
   },
   {
    "duration": 34,
    "start_time": "2022-01-15T15:59:45.231Z"
   },
   {
    "duration": 13,
    "start_time": "2022-01-15T15:59:45.267Z"
   },
   {
    "duration": 27,
    "start_time": "2022-01-15T15:59:45.282Z"
   },
   {
    "duration": 81,
    "start_time": "2022-01-15T15:59:45.311Z"
   },
   {
    "duration": 6,
    "start_time": "2022-01-15T15:59:45.394Z"
   },
   {
    "duration": 33,
    "start_time": "2022-01-15T15:59:45.401Z"
   },
   {
    "duration": 16,
    "start_time": "2022-01-15T15:59:45.436Z"
   },
   {
    "duration": 13,
    "start_time": "2022-01-15T15:59:45.453Z"
   },
   {
    "duration": 70,
    "start_time": "2022-01-15T15:59:45.468Z"
   },
   {
    "duration": 6,
    "start_time": "2022-01-15T15:59:45.540Z"
   },
   {
    "duration": 10,
    "start_time": "2022-01-15T15:59:45.548Z"
   },
   {
    "duration": 12,
    "start_time": "2022-01-15T15:59:45.559Z"
   },
   {
    "duration": 12,
    "start_time": "2022-01-15T15:59:45.572Z"
   },
   {
    "duration": 10,
    "start_time": "2022-01-15T15:59:45.585Z"
   },
   {
    "duration": 74,
    "start_time": "2022-01-15T15:59:45.597Z"
   },
   {
    "duration": 31,
    "start_time": "2022-01-15T15:59:45.673Z"
   },
   {
    "duration": 53,
    "start_time": "2022-01-15T15:59:45.707Z"
   },
   {
    "duration": 3,
    "start_time": "2022-01-15T15:59:45.762Z"
   },
   {
    "duration": 66,
    "start_time": "2022-01-15T15:59:45.767Z"
   },
   {
    "duration": 7,
    "start_time": "2022-01-15T15:59:45.835Z"
   },
   {
    "duration": 9,
    "start_time": "2022-01-15T15:59:45.844Z"
   },
   {
    "duration": 228,
    "start_time": "2022-01-15T15:59:45.854Z"
   },
   {
    "duration": 20,
    "start_time": "2022-01-15T15:59:46.083Z"
   },
   {
    "duration": 42,
    "start_time": "2022-01-15T15:59:46.105Z"
   },
   {
    "duration": 4,
    "start_time": "2022-01-15T15:59:46.148Z"
   },
   {
    "duration": 6,
    "start_time": "2022-01-15T15:59:46.153Z"
   },
   {
    "duration": 6,
    "start_time": "2022-01-15T15:59:46.161Z"
   },
   {
    "duration": 339,
    "start_time": "2022-01-15T15:59:46.168Z"
   },
   {
    "duration": 5,
    "start_time": "2022-01-15T15:59:46.509Z"
   },
   {
    "duration": 17,
    "start_time": "2022-01-15T15:59:46.515Z"
   },
   {
    "duration": 13,
    "start_time": "2022-01-15T15:59:46.533Z"
   },
   {
    "duration": 334,
    "start_time": "2022-01-15T15:59:46.548Z"
   },
   {
    "duration": 5,
    "start_time": "2022-01-15T15:59:46.884Z"
   },
   {
    "duration": 6,
    "start_time": "2022-01-15T15:59:46.891Z"
   },
   {
    "duration": 7,
    "start_time": "2022-01-15T15:59:46.898Z"
   },
   {
    "duration": 334,
    "start_time": "2022-01-15T15:59:46.907Z"
   },
   {
    "duration": 7,
    "start_time": "2022-01-15T15:59:47.243Z"
   },
   {
    "duration": 106,
    "start_time": "2022-01-15T16:05:20.481Z"
   },
   {
    "duration": 21,
    "start_time": "2022-01-15T16:05:30.870Z"
   },
   {
    "duration": 8,
    "start_time": "2022-01-15T16:05:43.865Z"
   },
   {
    "duration": 94,
    "start_time": "2022-01-15T16:06:37.327Z"
   },
   {
    "duration": 23,
    "start_time": "2022-01-15T16:06:56.310Z"
   },
   {
    "duration": 10,
    "start_time": "2022-01-15T16:07:29.452Z"
   },
   {
    "duration": 8,
    "start_time": "2022-01-15T16:07:42.653Z"
   },
   {
    "duration": 5,
    "start_time": "2022-01-15T16:08:15.341Z"
   },
   {
    "duration": 310,
    "start_time": "2022-01-15T16:13:24.720Z"
   },
   {
    "duration": 358,
    "start_time": "2022-01-15T16:14:54.802Z"
   },
   {
    "duration": 4,
    "start_time": "2022-01-15T16:18:13.758Z"
   },
   {
    "duration": 5,
    "start_time": "2022-01-15T16:19:35.988Z"
   },
   {
    "duration": 4,
    "start_time": "2022-01-15T16:19:56.767Z"
   },
   {
    "duration": 4,
    "start_time": "2022-01-15T17:30:31.249Z"
   },
   {
    "duration": 4,
    "start_time": "2022-01-15T17:30:40.765Z"
   },
   {
    "duration": 4,
    "start_time": "2022-01-15T17:31:49.033Z"
   },
   {
    "duration": 6,
    "start_time": "2022-01-15T17:32:40.787Z"
   },
   {
    "duration": 5,
    "start_time": "2022-01-15T17:34:14.601Z"
   },
   {
    "duration": 5,
    "start_time": "2022-01-15T17:34:42.615Z"
   },
   {
    "duration": 4,
    "start_time": "2022-01-15T17:35:36.553Z"
   },
   {
    "duration": 4,
    "start_time": "2022-01-15T17:36:33.624Z"
   },
   {
    "duration": 4,
    "start_time": "2022-01-15T17:37:41.805Z"
   },
   {
    "duration": 5,
    "start_time": "2022-01-15T17:38:50.680Z"
   },
   {
    "duration": 5,
    "start_time": "2022-01-15T17:40:21.775Z"
   },
   {
    "duration": 6,
    "start_time": "2022-01-15T17:43:54.762Z"
   },
   {
    "duration": 7,
    "start_time": "2022-01-15T17:44:51.686Z"
   },
   {
    "duration": 6,
    "start_time": "2022-01-15T17:44:58.870Z"
   },
   {
    "duration": 5,
    "start_time": "2022-01-15T17:45:04.216Z"
   },
   {
    "duration": 4,
    "start_time": "2022-01-15T17:45:08.723Z"
   },
   {
    "duration": 1205,
    "start_time": "2022-01-15T17:50:42.754Z"
   },
   {
    "duration": 141,
    "start_time": "2022-01-15T17:50:43.961Z"
   },
   {
    "duration": 100,
    "start_time": "2022-01-15T17:50:44.104Z"
   },
   {
    "duration": 24,
    "start_time": "2022-01-15T17:50:44.206Z"
   },
   {
    "duration": 43,
    "start_time": "2022-01-15T17:50:44.232Z"
   },
   {
    "duration": 15,
    "start_time": "2022-01-15T17:50:44.276Z"
   },
   {
    "duration": 35,
    "start_time": "2022-01-15T17:50:44.293Z"
   },
   {
    "duration": 13,
    "start_time": "2022-01-15T17:50:44.331Z"
   },
   {
    "duration": 27,
    "start_time": "2022-01-15T17:50:44.347Z"
   },
   {
    "duration": 100,
    "start_time": "2022-01-15T17:50:44.376Z"
   },
   {
    "duration": 5,
    "start_time": "2022-01-15T17:50:44.478Z"
   },
   {
    "duration": 28,
    "start_time": "2022-01-15T17:50:44.484Z"
   },
   {
    "duration": 9,
    "start_time": "2022-01-15T17:50:44.514Z"
   },
   {
    "duration": 12,
    "start_time": "2022-01-15T17:50:44.524Z"
   },
   {
    "duration": 47,
    "start_time": "2022-01-15T17:50:44.538Z"
   },
   {
    "duration": 5,
    "start_time": "2022-01-15T17:50:44.587Z"
   },
   {
    "duration": 35,
    "start_time": "2022-01-15T17:50:44.593Z"
   },
   {
    "duration": 8,
    "start_time": "2022-01-15T17:50:44.629Z"
   },
   {
    "duration": 11,
    "start_time": "2022-01-15T17:50:44.638Z"
   },
   {
    "duration": 12,
    "start_time": "2022-01-15T17:50:44.650Z"
   },
   {
    "duration": 40,
    "start_time": "2022-01-15T17:50:44.663Z"
   },
   {
    "duration": 40,
    "start_time": "2022-01-15T17:50:44.705Z"
   },
   {
    "duration": 28,
    "start_time": "2022-01-15T17:50:44.748Z"
   },
   {
    "duration": 3,
    "start_time": "2022-01-15T17:50:44.778Z"
   },
   {
    "duration": 73,
    "start_time": "2022-01-15T17:50:44.783Z"
   },
   {
    "duration": 6,
    "start_time": "2022-01-15T17:50:44.857Z"
   },
   {
    "duration": 11,
    "start_time": "2022-01-15T17:50:44.864Z"
   },
   {
    "duration": 217,
    "start_time": "2022-01-15T17:50:44.876Z"
   },
   {
    "duration": 20,
    "start_time": "2022-01-15T17:50:45.094Z"
   },
   {
    "duration": 29,
    "start_time": "2022-01-15T17:50:45.115Z"
   },
   {
    "duration": 4,
    "start_time": "2022-01-15T17:50:45.145Z"
   },
   {
    "duration": 6,
    "start_time": "2022-01-15T17:50:45.150Z"
   },
   {
    "duration": 6,
    "start_time": "2022-01-15T17:50:45.157Z"
   },
   {
    "duration": 358,
    "start_time": "2022-01-15T17:50:45.164Z"
   },
   {
    "duration": 5,
    "start_time": "2022-01-15T17:50:45.527Z"
   },
   {
    "duration": 12,
    "start_time": "2022-01-15T17:50:45.533Z"
   },
   {
    "duration": 5,
    "start_time": "2022-01-15T17:50:45.547Z"
   },
   {
    "duration": 327,
    "start_time": "2022-01-15T17:50:45.554Z"
   },
   {
    "duration": 5,
    "start_time": "2022-01-15T17:50:45.883Z"
   },
   {
    "duration": 17,
    "start_time": "2022-01-15T17:50:45.889Z"
   },
   {
    "duration": 14,
    "start_time": "2022-01-15T17:50:45.908Z"
   },
   {
    "duration": 315,
    "start_time": "2022-01-15T17:50:45.923Z"
   },
   {
    "duration": 6,
    "start_time": "2022-01-15T17:50:46.240Z"
   },
   {
    "duration": 23,
    "start_time": "2022-01-15T17:50:46.247Z"
   },
   {
    "duration": 309,
    "start_time": "2022-01-15T17:50:46.272Z"
   },
   {
    "duration": 5,
    "start_time": "2022-01-15T17:50:46.582Z"
   },
   {
    "duration": 8,
    "start_time": "2022-01-15T17:50:46.589Z"
   },
   {
    "duration": 367,
    "start_time": "2022-01-15T17:50:46.599Z"
   },
   {
    "duration": -26280,
    "start_time": "2022-01-15T17:51:13.248Z"
   },
   {
    "duration": 4,
    "start_time": "2022-01-15T17:52:24.702Z"
   },
   {
    "duration": 472,
    "start_time": "2022-01-15T17:52:27.970Z"
   },
   {
    "duration": 124,
    "start_time": "2022-01-18T08:23:14.165Z"
   },
   {
    "duration": 1710,
    "start_time": "2022-01-18T10:51:08.675Z"
   },
   {
    "duration": 199,
    "start_time": "2022-01-18T10:51:10.388Z"
   },
   {
    "duration": 142,
    "start_time": "2022-01-18T10:51:10.589Z"
   },
   {
    "duration": 28,
    "start_time": "2022-01-18T10:51:10.733Z"
   },
   {
    "duration": 53,
    "start_time": "2022-01-18T10:51:10.763Z"
   },
   {
    "duration": 133,
    "start_time": "2022-01-18T10:51:10.818Z"
   },
   {
    "duration": 32,
    "start_time": "2022-01-18T10:51:10.953Z"
   },
   {
    "duration": 40,
    "start_time": "2022-01-18T10:51:10.989Z"
   },
   {
    "duration": 48,
    "start_time": "2022-01-18T10:51:11.032Z"
   },
   {
    "duration": 39,
    "start_time": "2022-01-18T10:51:11.083Z"
   },
   {
    "duration": 131,
    "start_time": "2022-01-18T10:51:11.125Z"
   },
   {
    "duration": 14,
    "start_time": "2022-01-18T10:51:11.258Z"
   },
   {
    "duration": 24,
    "start_time": "2022-01-18T10:51:11.275Z"
   },
   {
    "duration": 15,
    "start_time": "2022-01-18T10:51:11.302Z"
   },
   {
    "duration": 50,
    "start_time": "2022-01-18T10:51:11.320Z"
   },
   {
    "duration": 74,
    "start_time": "2022-01-18T10:51:11.373Z"
   },
   {
    "duration": 23,
    "start_time": "2022-01-18T10:51:11.450Z"
   },
   {
    "duration": 19,
    "start_time": "2022-01-18T10:51:11.475Z"
   },
   {
    "duration": 16,
    "start_time": "2022-01-18T10:51:11.497Z"
   },
   {
    "duration": 16,
    "start_time": "2022-01-18T10:51:11.516Z"
   },
   {
    "duration": 20,
    "start_time": "2022-01-18T10:51:11.570Z"
   },
   {
    "duration": 60,
    "start_time": "2022-01-18T10:51:11.593Z"
   },
   {
    "duration": 45,
    "start_time": "2022-01-18T10:51:11.671Z"
   },
   {
    "duration": 71,
    "start_time": "2022-01-18T10:51:11.720Z"
   },
   {
    "duration": 5,
    "start_time": "2022-01-18T10:51:11.795Z"
   },
   {
    "duration": 106,
    "start_time": "2022-01-18T10:51:11.803Z"
   },
   {
    "duration": 10,
    "start_time": "2022-01-18T10:51:11.911Z"
   },
   {
    "duration": 15,
    "start_time": "2022-01-18T10:51:11.924Z"
   },
   {
    "duration": 401,
    "start_time": "2022-01-18T10:51:11.970Z"
   },
   {
    "duration": 43,
    "start_time": "2022-01-18T10:51:12.373Z"
   },
   {
    "duration": 61,
    "start_time": "2022-01-18T10:51:12.419Z"
   },
   {
    "duration": 7,
    "start_time": "2022-01-18T10:51:12.482Z"
   },
   {
    "duration": 9,
    "start_time": "2022-01-18T10:51:12.491Z"
   },
   {
    "duration": 8,
    "start_time": "2022-01-18T10:51:12.502Z"
   },
   {
    "duration": 642,
    "start_time": "2022-01-18T10:51:12.512Z"
   },
   {
    "duration": 14,
    "start_time": "2022-01-18T10:51:13.156Z"
   },
   {
    "duration": 9,
    "start_time": "2022-01-18T10:51:13.172Z"
   },
   {
    "duration": 8,
    "start_time": "2022-01-18T10:51:13.183Z"
   },
   {
    "duration": 817,
    "start_time": "2022-01-18T10:51:13.194Z"
   },
   {
    "duration": 7,
    "start_time": "2022-01-18T10:51:14.014Z"
   },
   {
    "duration": 8,
    "start_time": "2022-01-18T10:51:14.024Z"
   },
   {
    "duration": 40,
    "start_time": "2022-01-18T10:51:14.034Z"
   },
   {
    "duration": 601,
    "start_time": "2022-01-18T10:51:14.076Z"
   },
   {
    "duration": 8,
    "start_time": "2022-01-18T10:51:14.679Z"
   },
   {
    "duration": 13,
    "start_time": "2022-01-18T10:51:14.689Z"
   },
   {
    "duration": 601,
    "start_time": "2022-01-18T10:51:14.705Z"
   },
   {
    "duration": 10,
    "start_time": "2022-01-18T10:51:15.310Z"
   },
   {
    "duration": 15,
    "start_time": "2022-01-18T10:51:15.322Z"
   },
   {
    "duration": 30,
    "start_time": "2022-01-18T10:51:15.340Z"
   },
   {
    "duration": 660,
    "start_time": "2022-01-18T10:51:15.373Z"
   },
   {
    "duration": 98,
    "start_time": "2022-01-18T10:51:54.328Z"
   },
   {
    "duration": 98,
    "start_time": "2022-01-18T10:52:06.178Z"
   },
   {
    "duration": 454,
    "start_time": "2022-01-18T10:52:25.373Z"
   },
   {
    "duration": 11,
    "start_time": "2022-01-18T10:52:31.631Z"
   },
   {
    "duration": 298,
    "start_time": "2022-01-18T10:52:56.931Z"
   },
   {
    "duration": 57,
    "start_time": "2022-01-18T10:53:06.147Z"
   },
   {
    "duration": 44,
    "start_time": "2022-01-18T10:54:39.621Z"
   },
   {
    "duration": 52,
    "start_time": "2022-01-18T10:54:52.354Z"
   },
   {
    "duration": 387,
    "start_time": "2022-01-18T10:55:00.170Z"
   },
   {
    "duration": 54,
    "start_time": "2022-01-18T10:55:04.694Z"
   },
   {
    "duration": 601,
    "start_time": "2022-01-18T11:08:05.813Z"
   },
   {
    "duration": 587,
    "start_time": "2022-01-18T11:08:10.761Z"
   },
   {
    "duration": 594,
    "start_time": "2022-01-18T11:08:14.349Z"
   },
   {
    "duration": 766,
    "start_time": "2022-01-18T11:08:33.210Z"
   },
   {
    "duration": 611,
    "start_time": "2022-01-18T11:08:41.178Z"
   },
   {
    "duration": 807,
    "start_time": "2022-01-18T11:08:50.341Z"
   },
   {
    "duration": 333,
    "start_time": "2022-01-18T11:14:23.084Z"
   },
   {
    "duration": 616,
    "start_time": "2022-01-18T11:14:39.198Z"
   },
   {
    "duration": 1032,
    "start_time": "2022-01-18T11:15:08.513Z"
   },
   {
    "duration": 948,
    "start_time": "2022-01-18T11:15:28.631Z"
   },
   {
    "duration": 590,
    "start_time": "2022-01-18T11:15:34.345Z"
   },
   {
    "duration": 1161,
    "start_time": "2022-01-18T11:19:45.718Z"
   },
   {
    "duration": 682,
    "start_time": "2022-01-18T11:20:03.784Z"
   },
   {
    "duration": 686,
    "start_time": "2022-01-18T11:20:19.235Z"
   },
   {
    "duration": 597,
    "start_time": "2022-01-18T11:21:00.579Z"
   },
   {
    "duration": 552,
    "start_time": "2022-01-18T11:21:28.482Z"
   },
   {
    "duration": 686,
    "start_time": "2022-01-18T11:22:13.560Z"
   },
   {
    "duration": 799,
    "start_time": "2022-01-18T11:22:23.102Z"
   },
   {
    "duration": 596,
    "start_time": "2022-01-18T11:22:44.873Z"
   },
   {
    "duration": 652,
    "start_time": "2022-01-18T11:22:53.363Z"
   },
   {
    "duration": 653,
    "start_time": "2022-01-18T11:23:03.261Z"
   },
   {
    "duration": 637,
    "start_time": "2022-01-18T11:23:10.235Z"
   },
   {
    "duration": 655,
    "start_time": "2022-01-18T11:23:20.537Z"
   },
   {
    "duration": 825,
    "start_time": "2022-01-18T11:23:30.786Z"
   },
   {
    "duration": 826,
    "start_time": "2022-01-18T11:28:04.640Z"
   },
   {
    "duration": 690,
    "start_time": "2022-01-18T11:30:52.087Z"
   },
   {
    "duration": 1205,
    "start_time": "2022-01-18T11:31:37.206Z"
   },
   {
    "duration": 731,
    "start_time": "2022-01-18T11:32:23.075Z"
   },
   {
    "duration": 743,
    "start_time": "2022-01-18T11:34:03.485Z"
   },
   {
    "duration": 716,
    "start_time": "2022-01-18T11:34:20.959Z"
   },
   {
    "duration": 742,
    "start_time": "2022-01-18T11:36:05.027Z"
   },
   {
    "duration": 950,
    "start_time": "2022-01-18T11:37:21.384Z"
   },
   {
    "duration": 678,
    "start_time": "2022-01-18T11:38:42.332Z"
   },
   {
    "duration": 660,
    "start_time": "2022-01-18T11:39:42.686Z"
   },
   {
    "duration": 1962,
    "start_time": "2022-01-18T11:44:51.199Z"
   },
   {
    "duration": 219,
    "start_time": "2022-01-18T11:44:53.172Z"
   },
   {
    "duration": 150,
    "start_time": "2022-01-18T11:44:53.394Z"
   },
   {
    "duration": 36,
    "start_time": "2022-01-18T11:44:53.547Z"
   },
   {
    "duration": 43,
    "start_time": "2022-01-18T11:44:53.586Z"
   },
   {
    "duration": 159,
    "start_time": "2022-01-18T11:44:53.633Z"
   },
   {
    "duration": 125,
    "start_time": "2022-01-18T11:44:53.794Z"
   },
   {
    "duration": 9,
    "start_time": "2022-01-18T11:44:53.923Z"
   },
   {
    "duration": 95,
    "start_time": "2022-01-18T11:44:53.935Z"
   },
   {
    "duration": 23,
    "start_time": "2022-01-18T11:44:54.033Z"
   },
   {
    "duration": 45,
    "start_time": "2022-01-18T11:44:54.070Z"
   },
   {
    "duration": 18,
    "start_time": "2022-01-18T11:44:54.117Z"
   },
   {
    "duration": 74,
    "start_time": "2022-01-18T11:44:54.137Z"
   },
   {
    "duration": 113,
    "start_time": "2022-01-18T11:44:54.214Z"
   },
   {
    "duration": 12,
    "start_time": "2022-01-18T11:44:54.329Z"
   },
   {
    "duration": 43,
    "start_time": "2022-01-18T11:44:54.343Z"
   },
   {
    "duration": 14,
    "start_time": "2022-01-18T11:44:54.388Z"
   },
   {
    "duration": 21,
    "start_time": "2022-01-18T11:44:54.405Z"
   },
   {
    "duration": 106,
    "start_time": "2022-01-18T11:44:54.429Z"
   },
   {
    "duration": 5,
    "start_time": "2022-01-18T11:44:54.538Z"
   },
   {
    "duration": 27,
    "start_time": "2022-01-18T11:44:54.546Z"
   },
   {
    "duration": 22,
    "start_time": "2022-01-18T11:44:54.576Z"
   },
   {
    "duration": 11,
    "start_time": "2022-01-18T11:44:54.603Z"
   },
   {
    "duration": 19,
    "start_time": "2022-01-18T11:44:54.617Z"
   },
   {
    "duration": 71,
    "start_time": "2022-01-18T11:44:54.639Z"
   },
   {
    "duration": 36,
    "start_time": "2022-01-18T11:44:54.712Z"
   },
   {
    "duration": 60,
    "start_time": "2022-01-18T11:44:54.750Z"
   },
   {
    "duration": 4,
    "start_time": "2022-01-18T11:44:54.812Z"
   },
   {
    "duration": 97,
    "start_time": "2022-01-18T11:44:54.819Z"
   },
   {
    "duration": 12,
    "start_time": "2022-01-18T11:44:54.918Z"
   },
   {
    "duration": 36,
    "start_time": "2022-01-18T11:44:54.933Z"
   },
   {
    "duration": 401,
    "start_time": "2022-01-18T11:44:54.973Z"
   },
   {
    "duration": 38,
    "start_time": "2022-01-18T11:44:55.377Z"
   },
   {
    "duration": 62,
    "start_time": "2022-01-18T11:44:55.418Z"
   },
   {
    "duration": 7,
    "start_time": "2022-01-18T11:44:55.483Z"
   },
   {
    "duration": 16,
    "start_time": "2022-01-18T11:44:55.493Z"
   },
   {
    "duration": 7,
    "start_time": "2022-01-18T11:44:55.512Z"
   },
   {
    "duration": 753,
    "start_time": "2022-01-18T11:44:55.522Z"
   },
   {
    "duration": 9,
    "start_time": "2022-01-18T11:44:56.278Z"
   },
   {
    "duration": 6,
    "start_time": "2022-01-18T11:44:56.290Z"
   },
   {
    "duration": 10,
    "start_time": "2022-01-18T11:44:56.298Z"
   },
   {
    "duration": 763,
    "start_time": "2022-01-18T11:44:56.310Z"
   },
   {
    "duration": 10,
    "start_time": "2022-01-18T11:44:57.077Z"
   },
   {
    "duration": 11,
    "start_time": "2022-01-18T11:44:57.090Z"
   },
   {
    "duration": 8,
    "start_time": "2022-01-18T11:44:57.104Z"
   },
   {
    "duration": 748,
    "start_time": "2022-01-18T11:44:57.114Z"
   },
   {
    "duration": 17,
    "start_time": "2022-01-18T11:44:57.864Z"
   },
   {
    "duration": 13,
    "start_time": "2022-01-18T11:44:57.885Z"
   },
   {
    "duration": 741,
    "start_time": "2022-01-18T11:44:57.900Z"
   },
   {
    "duration": 9,
    "start_time": "2022-01-18T11:44:58.644Z"
   },
   {
    "duration": 10,
    "start_time": "2022-01-18T11:44:58.669Z"
   },
   {
    "duration": 14,
    "start_time": "2022-01-18T11:44:58.682Z"
   },
   {
    "duration": 826,
    "start_time": "2022-01-18T11:44:58.698Z"
   }
  ],
  "kernelspec": {
   "display_name": "Python 3 (ipykernel)",
   "language": "python",
   "name": "python3"
  },
  "language_info": {
   "codemirror_mode": {
    "name": "ipython",
    "version": 3
   },
   "file_extension": ".py",
   "mimetype": "text/x-python",
   "name": "python",
   "nbconvert_exporter": "python",
   "pygments_lexer": "ipython3",
   "version": "3.9.7"
  },
  "toc": {
   "base_numbering": 1,
   "nav_menu": {},
   "number_sections": true,
   "sideBar": true,
   "skip_h1_title": true,
   "title_cell": "Содержание",
   "title_sidebar": "Contents",
   "toc_cell": true,
   "toc_position": {
    "height": "calc(100% - 180px)",
    "left": "10px",
    "top": "150px",
    "width": "165px"
   },
   "toc_section_display": true,
   "toc_window_display": true
  }
 },
 "nbformat": 4,
 "nbformat_minor": 2
}
