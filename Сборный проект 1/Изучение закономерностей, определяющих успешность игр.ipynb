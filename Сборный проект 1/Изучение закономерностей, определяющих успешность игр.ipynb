{
 "cells": [
  {
   "cell_type": "markdown",
   "metadata": {},
   "source": [
    "# Изучение закономерностей, определяющих успешность игр"
   ]
  },
  {
   "cell_type": "markdown",
   "metadata": {},
   "source": [
    "# Описание проекта"
   ]
  },
  {
   "cell_type": "markdown",
   "metadata": {},
   "source": [
    "Интернет-магазин «Стримчик» продаёт по всему миру компьютерные игры. Из открытых источников доступны исторические данные о продажах игр, оценки пользователей и экспертов, жанры и платформы (например, Xbox или PlayStation). Необходимо выявить определяющие успешность игры закономерности. Это позволит сделать ставку на потенциально популярный продукт и спланировать рекламные кампании.\n",
    "У нас есть данные до 2016 года. Представим, что сейчас декабрь 2016 г., и необходимо спаланировать кампанию на 2017-й. Нужно отработать принцип работы с данными. "
   ]
  },
  {
   "cell_type": "markdown",
   "metadata": {},
   "source": [
    "## Изучение данных"
   ]
  },
  {
   "cell_type": "code",
   "execution_count": 1,
   "metadata": {
    "scrolled": true
   },
   "outputs": [
    {
     "data": {
      "text/html": [
       "<div>\n",
       "<style scoped>\n",
       "    .dataframe tbody tr th:only-of-type {\n",
       "        vertical-align: middle;\n",
       "    }\n",
       "\n",
       "    .dataframe tbody tr th {\n",
       "        vertical-align: top;\n",
       "    }\n",
       "\n",
       "    .dataframe thead th {\n",
       "        text-align: right;\n",
       "    }\n",
       "</style>\n",
       "<table border=\"1\" class=\"dataframe\">\n",
       "  <thead>\n",
       "    <tr style=\"text-align: right;\">\n",
       "      <th></th>\n",
       "      <th>Name</th>\n",
       "      <th>Platform</th>\n",
       "      <th>Year_of_Release</th>\n",
       "      <th>Genre</th>\n",
       "      <th>NA_sales</th>\n",
       "      <th>EU_sales</th>\n",
       "      <th>JP_sales</th>\n",
       "      <th>Other_sales</th>\n",
       "      <th>Critic_Score</th>\n",
       "      <th>User_Score</th>\n",
       "      <th>Rating</th>\n",
       "    </tr>\n",
       "  </thead>\n",
       "  <tbody>\n",
       "    <tr>\n",
       "      <td>0</td>\n",
       "      <td>Wii Sports</td>\n",
       "      <td>Wii</td>\n",
       "      <td>2006.0</td>\n",
       "      <td>Sports</td>\n",
       "      <td>41.36</td>\n",
       "      <td>28.96</td>\n",
       "      <td>3.77</td>\n",
       "      <td>8.45</td>\n",
       "      <td>76.0</td>\n",
       "      <td>8</td>\n",
       "      <td>E</td>\n",
       "    </tr>\n",
       "    <tr>\n",
       "      <td>1</td>\n",
       "      <td>Super Mario Bros.</td>\n",
       "      <td>NES</td>\n",
       "      <td>1985.0</td>\n",
       "      <td>Platform</td>\n",
       "      <td>29.08</td>\n",
       "      <td>3.58</td>\n",
       "      <td>6.81</td>\n",
       "      <td>0.77</td>\n",
       "      <td>NaN</td>\n",
       "      <td>NaN</td>\n",
       "      <td>NaN</td>\n",
       "    </tr>\n",
       "    <tr>\n",
       "      <td>2</td>\n",
       "      <td>Mario Kart Wii</td>\n",
       "      <td>Wii</td>\n",
       "      <td>2008.0</td>\n",
       "      <td>Racing</td>\n",
       "      <td>15.68</td>\n",
       "      <td>12.76</td>\n",
       "      <td>3.79</td>\n",
       "      <td>3.29</td>\n",
       "      <td>82.0</td>\n",
       "      <td>8.3</td>\n",
       "      <td>E</td>\n",
       "    </tr>\n",
       "    <tr>\n",
       "      <td>3</td>\n",
       "      <td>Wii Sports Resort</td>\n",
       "      <td>Wii</td>\n",
       "      <td>2009.0</td>\n",
       "      <td>Sports</td>\n",
       "      <td>15.61</td>\n",
       "      <td>10.93</td>\n",
       "      <td>3.28</td>\n",
       "      <td>2.95</td>\n",
       "      <td>80.0</td>\n",
       "      <td>8</td>\n",
       "      <td>E</td>\n",
       "    </tr>\n",
       "    <tr>\n",
       "      <td>4</td>\n",
       "      <td>Pokemon Red/Pokemon Blue</td>\n",
       "      <td>GB</td>\n",
       "      <td>1996.0</td>\n",
       "      <td>Role-Playing</td>\n",
       "      <td>11.27</td>\n",
       "      <td>8.89</td>\n",
       "      <td>10.22</td>\n",
       "      <td>1.00</td>\n",
       "      <td>NaN</td>\n",
       "      <td>NaN</td>\n",
       "      <td>NaN</td>\n",
       "    </tr>\n",
       "    <tr>\n",
       "      <td>5</td>\n",
       "      <td>Tetris</td>\n",
       "      <td>GB</td>\n",
       "      <td>1989.0</td>\n",
       "      <td>Puzzle</td>\n",
       "      <td>23.20</td>\n",
       "      <td>2.26</td>\n",
       "      <td>4.22</td>\n",
       "      <td>0.58</td>\n",
       "      <td>NaN</td>\n",
       "      <td>NaN</td>\n",
       "      <td>NaN</td>\n",
       "    </tr>\n",
       "    <tr>\n",
       "      <td>6</td>\n",
       "      <td>New Super Mario Bros.</td>\n",
       "      <td>DS</td>\n",
       "      <td>2006.0</td>\n",
       "      <td>Platform</td>\n",
       "      <td>11.28</td>\n",
       "      <td>9.14</td>\n",
       "      <td>6.50</td>\n",
       "      <td>2.88</td>\n",
       "      <td>89.0</td>\n",
       "      <td>8.5</td>\n",
       "      <td>E</td>\n",
       "    </tr>\n",
       "    <tr>\n",
       "      <td>7</td>\n",
       "      <td>Wii Play</td>\n",
       "      <td>Wii</td>\n",
       "      <td>2006.0</td>\n",
       "      <td>Misc</td>\n",
       "      <td>13.96</td>\n",
       "      <td>9.18</td>\n",
       "      <td>2.93</td>\n",
       "      <td>2.84</td>\n",
       "      <td>58.0</td>\n",
       "      <td>6.6</td>\n",
       "      <td>E</td>\n",
       "    </tr>\n",
       "    <tr>\n",
       "      <td>8</td>\n",
       "      <td>New Super Mario Bros. Wii</td>\n",
       "      <td>Wii</td>\n",
       "      <td>2009.0</td>\n",
       "      <td>Platform</td>\n",
       "      <td>14.44</td>\n",
       "      <td>6.94</td>\n",
       "      <td>4.70</td>\n",
       "      <td>2.24</td>\n",
       "      <td>87.0</td>\n",
       "      <td>8.4</td>\n",
       "      <td>E</td>\n",
       "    </tr>\n",
       "    <tr>\n",
       "      <td>9</td>\n",
       "      <td>Duck Hunt</td>\n",
       "      <td>NES</td>\n",
       "      <td>1984.0</td>\n",
       "      <td>Shooter</td>\n",
       "      <td>26.93</td>\n",
       "      <td>0.63</td>\n",
       "      <td>0.28</td>\n",
       "      <td>0.47</td>\n",
       "      <td>NaN</td>\n",
       "      <td>NaN</td>\n",
       "      <td>NaN</td>\n",
       "    </tr>\n",
       "    <tr>\n",
       "      <td>10</td>\n",
       "      <td>Nintendogs</td>\n",
       "      <td>DS</td>\n",
       "      <td>2005.0</td>\n",
       "      <td>Simulation</td>\n",
       "      <td>9.05</td>\n",
       "      <td>10.95</td>\n",
       "      <td>1.93</td>\n",
       "      <td>2.74</td>\n",
       "      <td>NaN</td>\n",
       "      <td>NaN</td>\n",
       "      <td>NaN</td>\n",
       "    </tr>\n",
       "    <tr>\n",
       "      <td>11</td>\n",
       "      <td>Mario Kart DS</td>\n",
       "      <td>DS</td>\n",
       "      <td>2005.0</td>\n",
       "      <td>Racing</td>\n",
       "      <td>9.71</td>\n",
       "      <td>7.47</td>\n",
       "      <td>4.13</td>\n",
       "      <td>1.90</td>\n",
       "      <td>91.0</td>\n",
       "      <td>8.6</td>\n",
       "      <td>E</td>\n",
       "    </tr>\n",
       "    <tr>\n",
       "      <td>12</td>\n",
       "      <td>Pokemon Gold/Pokemon Silver</td>\n",
       "      <td>GB</td>\n",
       "      <td>1999.0</td>\n",
       "      <td>Role-Playing</td>\n",
       "      <td>9.00</td>\n",
       "      <td>6.18</td>\n",
       "      <td>7.20</td>\n",
       "      <td>0.71</td>\n",
       "      <td>NaN</td>\n",
       "      <td>NaN</td>\n",
       "      <td>NaN</td>\n",
       "    </tr>\n",
       "    <tr>\n",
       "      <td>13</td>\n",
       "      <td>Wii Fit</td>\n",
       "      <td>Wii</td>\n",
       "      <td>2007.0</td>\n",
       "      <td>Sports</td>\n",
       "      <td>8.92</td>\n",
       "      <td>8.03</td>\n",
       "      <td>3.60</td>\n",
       "      <td>2.15</td>\n",
       "      <td>80.0</td>\n",
       "      <td>7.7</td>\n",
       "      <td>E</td>\n",
       "    </tr>\n",
       "    <tr>\n",
       "      <td>14</td>\n",
       "      <td>Kinect Adventures!</td>\n",
       "      <td>X360</td>\n",
       "      <td>2010.0</td>\n",
       "      <td>Misc</td>\n",
       "      <td>15.00</td>\n",
       "      <td>4.89</td>\n",
       "      <td>0.24</td>\n",
       "      <td>1.69</td>\n",
       "      <td>61.0</td>\n",
       "      <td>6.3</td>\n",
       "      <td>E</td>\n",
       "    </tr>\n",
       "    <tr>\n",
       "      <td>15</td>\n",
       "      <td>Wii Fit Plus</td>\n",
       "      <td>Wii</td>\n",
       "      <td>2009.0</td>\n",
       "      <td>Sports</td>\n",
       "      <td>9.01</td>\n",
       "      <td>8.49</td>\n",
       "      <td>2.53</td>\n",
       "      <td>1.77</td>\n",
       "      <td>80.0</td>\n",
       "      <td>7.4</td>\n",
       "      <td>E</td>\n",
       "    </tr>\n",
       "    <tr>\n",
       "      <td>16</td>\n",
       "      <td>Grand Theft Auto V</td>\n",
       "      <td>PS3</td>\n",
       "      <td>2013.0</td>\n",
       "      <td>Action</td>\n",
       "      <td>7.02</td>\n",
       "      <td>9.09</td>\n",
       "      <td>0.98</td>\n",
       "      <td>3.96</td>\n",
       "      <td>97.0</td>\n",
       "      <td>8.2</td>\n",
       "      <td>M</td>\n",
       "    </tr>\n",
       "    <tr>\n",
       "      <td>17</td>\n",
       "      <td>Grand Theft Auto: San Andreas</td>\n",
       "      <td>PS2</td>\n",
       "      <td>2004.0</td>\n",
       "      <td>Action</td>\n",
       "      <td>9.43</td>\n",
       "      <td>0.40</td>\n",
       "      <td>0.41</td>\n",
       "      <td>10.57</td>\n",
       "      <td>95.0</td>\n",
       "      <td>9</td>\n",
       "      <td>M</td>\n",
       "    </tr>\n",
       "    <tr>\n",
       "      <td>18</td>\n",
       "      <td>Super Mario World</td>\n",
       "      <td>SNES</td>\n",
       "      <td>1990.0</td>\n",
       "      <td>Platform</td>\n",
       "      <td>12.78</td>\n",
       "      <td>3.75</td>\n",
       "      <td>3.54</td>\n",
       "      <td>0.55</td>\n",
       "      <td>NaN</td>\n",
       "      <td>NaN</td>\n",
       "      <td>NaN</td>\n",
       "    </tr>\n",
       "    <tr>\n",
       "      <td>19</td>\n",
       "      <td>Brain Age: Train Your Brain in Minutes a Day</td>\n",
       "      <td>DS</td>\n",
       "      <td>2005.0</td>\n",
       "      <td>Misc</td>\n",
       "      <td>4.74</td>\n",
       "      <td>9.20</td>\n",
       "      <td>4.16</td>\n",
       "      <td>2.04</td>\n",
       "      <td>77.0</td>\n",
       "      <td>7.9</td>\n",
       "      <td>E</td>\n",
       "    </tr>\n",
       "  </tbody>\n",
       "</table>\n",
       "</div>"
      ],
      "text/plain": [
       "                                            Name Platform  Year_of_Release  \\\n",
       "0                                     Wii Sports      Wii           2006.0   \n",
       "1                              Super Mario Bros.      NES           1985.0   \n",
       "2                                 Mario Kart Wii      Wii           2008.0   \n",
       "3                              Wii Sports Resort      Wii           2009.0   \n",
       "4                       Pokemon Red/Pokemon Blue       GB           1996.0   \n",
       "5                                         Tetris       GB           1989.0   \n",
       "6                          New Super Mario Bros.       DS           2006.0   \n",
       "7                                       Wii Play      Wii           2006.0   \n",
       "8                      New Super Mario Bros. Wii      Wii           2009.0   \n",
       "9                                      Duck Hunt      NES           1984.0   \n",
       "10                                    Nintendogs       DS           2005.0   \n",
       "11                                 Mario Kart DS       DS           2005.0   \n",
       "12                   Pokemon Gold/Pokemon Silver       GB           1999.0   \n",
       "13                                       Wii Fit      Wii           2007.0   \n",
       "14                            Kinect Adventures!     X360           2010.0   \n",
       "15                                  Wii Fit Plus      Wii           2009.0   \n",
       "16                            Grand Theft Auto V      PS3           2013.0   \n",
       "17                 Grand Theft Auto: San Andreas      PS2           2004.0   \n",
       "18                             Super Mario World     SNES           1990.0   \n",
       "19  Brain Age: Train Your Brain in Minutes a Day       DS           2005.0   \n",
       "\n",
       "           Genre  NA_sales  EU_sales  JP_sales  Other_sales  Critic_Score  \\\n",
       "0         Sports     41.36     28.96      3.77         8.45          76.0   \n",
       "1       Platform     29.08      3.58      6.81         0.77           NaN   \n",
       "2         Racing     15.68     12.76      3.79         3.29          82.0   \n",
       "3         Sports     15.61     10.93      3.28         2.95          80.0   \n",
       "4   Role-Playing     11.27      8.89     10.22         1.00           NaN   \n",
       "5         Puzzle     23.20      2.26      4.22         0.58           NaN   \n",
       "6       Platform     11.28      9.14      6.50         2.88          89.0   \n",
       "7           Misc     13.96      9.18      2.93         2.84          58.0   \n",
       "8       Platform     14.44      6.94      4.70         2.24          87.0   \n",
       "9        Shooter     26.93      0.63      0.28         0.47           NaN   \n",
       "10    Simulation      9.05     10.95      1.93         2.74           NaN   \n",
       "11        Racing      9.71      7.47      4.13         1.90          91.0   \n",
       "12  Role-Playing      9.00      6.18      7.20         0.71           NaN   \n",
       "13        Sports      8.92      8.03      3.60         2.15          80.0   \n",
       "14          Misc     15.00      4.89      0.24         1.69          61.0   \n",
       "15        Sports      9.01      8.49      2.53         1.77          80.0   \n",
       "16        Action      7.02      9.09      0.98         3.96          97.0   \n",
       "17        Action      9.43      0.40      0.41        10.57          95.0   \n",
       "18      Platform     12.78      3.75      3.54         0.55           NaN   \n",
       "19          Misc      4.74      9.20      4.16         2.04          77.0   \n",
       "\n",
       "   User_Score Rating  \n",
       "0           8      E  \n",
       "1         NaN    NaN  \n",
       "2         8.3      E  \n",
       "3           8      E  \n",
       "4         NaN    NaN  \n",
       "5         NaN    NaN  \n",
       "6         8.5      E  \n",
       "7         6.6      E  \n",
       "8         8.4      E  \n",
       "9         NaN    NaN  \n",
       "10        NaN    NaN  \n",
       "11        8.6      E  \n",
       "12        NaN    NaN  \n",
       "13        7.7      E  \n",
       "14        6.3      E  \n",
       "15        7.4      E  \n",
       "16        8.2      M  \n",
       "17          9      M  \n",
       "18        NaN    NaN  \n",
       "19        7.9      E  "
      ]
     },
     "metadata": {},
     "output_type": "display_data"
    },
    {
     "name": "stdout",
     "output_type": "stream",
     "text": [
      "<class 'pandas.core.frame.DataFrame'>\n",
      "RangeIndex: 16715 entries, 0 to 16714\n",
      "Data columns (total 11 columns):\n",
      "Name               16713 non-null object\n",
      "Platform           16715 non-null object\n",
      "Year_of_Release    16446 non-null float64\n",
      "Genre              16713 non-null object\n",
      "NA_sales           16715 non-null float64\n",
      "EU_sales           16715 non-null float64\n",
      "JP_sales           16715 non-null float64\n",
      "Other_sales        16715 non-null float64\n",
      "Critic_Score       8137 non-null float64\n",
      "User_Score         10014 non-null object\n",
      "Rating             9949 non-null object\n",
      "dtypes: float64(6), object(5)\n",
      "memory usage: 1.4+ MB\n"
     ]
    }
   ],
   "source": [
    "import pandas as pd #импортировали библиотеку pandas\n",
    "import numpy as np #импорт библиотеки с математическими функциями\n",
    "import matplotlib.pyplot as plt #импорт библиотеки для построения графиков\n",
    "from scipy import stats as st \n",
    "import warnings\n",
    "warnings.filterwarnings('ignore')\n",
    "data = pd.read_csv('/datasets/games.csv')#прочитали файл и сохранили в переменной data\n",
    "display(data.head(20))# выводим на экран первые 20 строк таблицы\n",
    "data.info() #получаем сводную информацию о таблице"
   ]
  },
  {
   "cell_type": "markdown",
   "metadata": {},
   "source": [
    "### Вывод "
   ]
  },
  {
   "cell_type": "markdown",
   "metadata": {},
   "source": [
    "Исходная таблица состоит из 16715 строк и 11 столбцов. В столбцах Name, Year_of_Release,Genre,Critic_Score,User_Score,Rating есть пропуски, с которыми надо поработать. В столбце Year_of_Release следует изменить тип данных на дату, а в столбце User_Score тип данных на числовой. Название столбцов привести к нижнему регисту в соответствии с хорошим стилем."
   ]
  },
  {
   "cell_type": "markdown",
   "metadata": {},
   "source": [
    "## Подготовка данных"
   ]
  },
  {
   "cell_type": "code",
   "execution_count": 2,
   "metadata": {},
   "outputs": [
    {
     "data": {
      "text/html": [
       "<div>\n",
       "<style scoped>\n",
       "    .dataframe tbody tr th:only-of-type {\n",
       "        vertical-align: middle;\n",
       "    }\n",
       "\n",
       "    .dataframe tbody tr th {\n",
       "        vertical-align: top;\n",
       "    }\n",
       "\n",
       "    .dataframe thead th {\n",
       "        text-align: right;\n",
       "    }\n",
       "</style>\n",
       "<table border=\"1\" class=\"dataframe\">\n",
       "  <thead>\n",
       "    <tr style=\"text-align: right;\">\n",
       "      <th></th>\n",
       "      <th>name</th>\n",
       "      <th>platform</th>\n",
       "      <th>year_of_release</th>\n",
       "      <th>genre</th>\n",
       "      <th>na_sales</th>\n",
       "      <th>eu_sales</th>\n",
       "      <th>jp_sales</th>\n",
       "      <th>other_sales</th>\n",
       "      <th>critic_score</th>\n",
       "      <th>user_score</th>\n",
       "      <th>rating</th>\n",
       "    </tr>\n",
       "  </thead>\n",
       "  <tbody>\n",
       "    <tr>\n",
       "      <td>0</td>\n",
       "      <td>Wii Sports</td>\n",
       "      <td>Wii</td>\n",
       "      <td>2006.0</td>\n",
       "      <td>Sports</td>\n",
       "      <td>41.36</td>\n",
       "      <td>28.96</td>\n",
       "      <td>3.77</td>\n",
       "      <td>8.45</td>\n",
       "      <td>76.0</td>\n",
       "      <td>8</td>\n",
       "      <td>E</td>\n",
       "    </tr>\n",
       "    <tr>\n",
       "      <td>1</td>\n",
       "      <td>Super Mario Bros.</td>\n",
       "      <td>NES</td>\n",
       "      <td>1985.0</td>\n",
       "      <td>Platform</td>\n",
       "      <td>29.08</td>\n",
       "      <td>3.58</td>\n",
       "      <td>6.81</td>\n",
       "      <td>0.77</td>\n",
       "      <td>NaN</td>\n",
       "      <td>NaN</td>\n",
       "      <td>NaN</td>\n",
       "    </tr>\n",
       "    <tr>\n",
       "      <td>2</td>\n",
       "      <td>Mario Kart Wii</td>\n",
       "      <td>Wii</td>\n",
       "      <td>2008.0</td>\n",
       "      <td>Racing</td>\n",
       "      <td>15.68</td>\n",
       "      <td>12.76</td>\n",
       "      <td>3.79</td>\n",
       "      <td>3.29</td>\n",
       "      <td>82.0</td>\n",
       "      <td>8.3</td>\n",
       "      <td>E</td>\n",
       "    </tr>\n",
       "    <tr>\n",
       "      <td>3</td>\n",
       "      <td>Wii Sports Resort</td>\n",
       "      <td>Wii</td>\n",
       "      <td>2009.0</td>\n",
       "      <td>Sports</td>\n",
       "      <td>15.61</td>\n",
       "      <td>10.93</td>\n",
       "      <td>3.28</td>\n",
       "      <td>2.95</td>\n",
       "      <td>80.0</td>\n",
       "      <td>8</td>\n",
       "      <td>E</td>\n",
       "    </tr>\n",
       "    <tr>\n",
       "      <td>4</td>\n",
       "      <td>Pokemon Red/Pokemon Blue</td>\n",
       "      <td>GB</td>\n",
       "      <td>1996.0</td>\n",
       "      <td>Role-Playing</td>\n",
       "      <td>11.27</td>\n",
       "      <td>8.89</td>\n",
       "      <td>10.22</td>\n",
       "      <td>1.00</td>\n",
       "      <td>NaN</td>\n",
       "      <td>NaN</td>\n",
       "      <td>NaN</td>\n",
       "    </tr>\n",
       "  </tbody>\n",
       "</table>\n",
       "</div>"
      ],
      "text/plain": [
       "                       name platform  year_of_release         genre  na_sales  \\\n",
       "0                Wii Sports      Wii           2006.0        Sports     41.36   \n",
       "1         Super Mario Bros.      NES           1985.0      Platform     29.08   \n",
       "2            Mario Kart Wii      Wii           2008.0        Racing     15.68   \n",
       "3         Wii Sports Resort      Wii           2009.0        Sports     15.61   \n",
       "4  Pokemon Red/Pokemon Blue       GB           1996.0  Role-Playing     11.27   \n",
       "\n",
       "   eu_sales  jp_sales  other_sales  critic_score user_score rating  \n",
       "0     28.96      3.77         8.45          76.0          8      E  \n",
       "1      3.58      6.81         0.77           NaN        NaN    NaN  \n",
       "2     12.76      3.79         3.29          82.0        8.3      E  \n",
       "3     10.93      3.28         2.95          80.0          8      E  \n",
       "4      8.89     10.22         1.00           NaN        NaN    NaN  "
      ]
     },
     "execution_count": 2,
     "metadata": {},
     "output_type": "execute_result"
    }
   ],
   "source": [
    "# переводим название столбцов в нижний регистр\n",
    "data.columns = data.columns.str.lower() \n",
    "\n",
    "data.head()"
   ]
  },
  {
   "cell_type": "code",
   "execution_count": 3,
   "metadata": {},
   "outputs": [],
   "source": [
    "# меняем тип данных в столбце year_of_release на дату, так как это год \n",
    "data['year_of_release'] = pd.to_datetime(data['year_of_release'] , format = '%Y')\n",
    "data['year_of_release'] = pd.DatetimeIndex(data['year_of_release']).year"
   ]
  },
  {
   "cell_type": "code",
   "execution_count": 4,
   "metadata": {
    "scrolled": true
   },
   "outputs": [
    {
     "data": {
      "text/plain": [
       "array(['8', nan, '8.3', '8.5', '6.6', '8.4', '8.6', '7.7', '6.3', '7.4',\n",
       "       '8.2', '9', '7.9', '8.1', '8.7', '7.1', '3.4', '5.3', '4.8', '3.2',\n",
       "       '8.9', '6.4', '7.8', '7.5', '2.6', '7.2', '9.2', '7', '7.3', '4.3',\n",
       "       '7.6', '5.7', '5', '9.1', '6.5', 'tbd', '8.8', '6.9', '9.4', '6.8',\n",
       "       '6.1', '6.7', '5.4', '4', '4.9', '4.5', '9.3', '6.2', '4.2', '6',\n",
       "       '3.7', '4.1', '5.8', '5.6', '5.5', '4.4', '4.6', '5.9', '3.9',\n",
       "       '3.1', '2.9', '5.2', '3.3', '4.7', '5.1', '3.5', '2.5', '1.9', '3',\n",
       "       '2.7', '2.2', '2', '9.5', '2.1', '3.6', '2.8', '1.8', '3.8', '0',\n",
       "       '1.6', '9.6', '2.4', '1.7', '1.1', '0.3', '1.5', '0.7', '1.2',\n",
       "       '2.3', '0.5', '1.3', '0.2', '0.6', '1.4', '0.9', '1', '9.7'],\n",
       "      dtype=object)"
      ]
     },
     "execution_count": 4,
     "metadata": {},
     "output_type": "execute_result"
    }
   ],
   "source": [
    "# проверим уникальные значения столбца user_score\n",
    "data['user_score'].unique()"
   ]
  },
  {
   "cell_type": "markdown",
   "metadata": {},
   "source": [
    "В столбце user_score есть значение 'tbd', а оценка пользователя измеряется от 1 до 10. Возможно данная аббревиатура означает, что оценка отсутствует. Поменяем 'tbd' на привычный nan, который уже есть в этом столбце. Тип данных числовой, так как оценка пользователей-это числовое значение"
   ]
  },
  {
   "cell_type": "code",
   "execution_count": 5,
   "metadata": {},
   "outputs": [],
   "source": [
    "# меняем тип данных в столбце user_score на числовой\n",
    "data.loc[data['user_score'] == 'tbd', 'user_score'] = float('nan')\n",
    "data['user_score'] = data['user_score'].astype(float)"
   ]
  },
  {
   "cell_type": "code",
   "execution_count": 6,
   "metadata": {
    "scrolled": false
   },
   "outputs": [
    {
     "name": "stdout",
     "output_type": "stream",
     "text": [
      "<class 'pandas.core.frame.DataFrame'>\n",
      "RangeIndex: 16715 entries, 0 to 16714\n",
      "Data columns (total 11 columns):\n",
      "name               16713 non-null object\n",
      "platform           16715 non-null object\n",
      "year_of_release    16446 non-null float64\n",
      "genre              16713 non-null object\n",
      "na_sales           16715 non-null float64\n",
      "eu_sales           16715 non-null float64\n",
      "jp_sales           16715 non-null float64\n",
      "other_sales        16715 non-null float64\n",
      "critic_score       8137 non-null float64\n",
      "user_score         7590 non-null float64\n",
      "rating             9949 non-null object\n",
      "dtypes: float64(7), object(4)\n",
      "memory usage: 1.4+ MB\n"
     ]
    }
   ],
   "source": [
    "# проверяем изменения в типе данных\n",
    "data.info()"
   ]
  },
  {
   "cell_type": "code",
   "execution_count": 7,
   "metadata": {
    "scrolled": true
   },
   "outputs": [
    {
     "data": {
      "text/plain": [
       "name                  2\n",
       "platform              0\n",
       "year_of_release     269\n",
       "genre                 2\n",
       "na_sales              0\n",
       "eu_sales              0\n",
       "jp_sales              0\n",
       "other_sales           0\n",
       "critic_score       8578\n",
       "user_score         9125\n",
       "rating             6766\n",
       "dtype: int64"
      ]
     },
     "execution_count": 7,
     "metadata": {},
     "output_type": "execute_result"
    }
   ],
   "source": [
    "# считаем количетство пропусков в каждом столбце\n",
    "data.isna().sum()"
   ]
  },
  {
   "cell_type": "markdown",
   "metadata": {},
   "source": [
    "Как уже раньше мы видели, в исходной таблице есть пропуски в столбцах name, year_of_release,genre,critic_score,user_score,rating. Пропуски могли возникнуть, например из-за простого человеческого фактора, пропустили строку, что-то не заполнили, или возможно было несколько источников сбора данных и при объединение в одну таблице, данные потерялись, или просто данные отсутствуют.   \n",
    "В столбцах name, year_of_release,genre считаю, что пропусков мало, можно удалить строки, где есть пропуски. А в столбцах  critic_score,user_score,rating пропуски можно оставить, предполагаю, что оценки критика, пользователей или рейтинга просто нет у каких-то игр."
   ]
  },
  {
   "cell_type": "code",
   "execution_count": 8,
   "metadata": {},
   "outputs": [],
   "source": [
    "# удаляем строки с пропусками в столбцах  name, year_of_release,genre\n",
    "data = data.dropna(subset=['name','year_of_release','genre'])"
   ]
  },
  {
   "cell_type": "code",
   "execution_count": 9,
   "metadata": {
    "scrolled": false
   },
   "outputs": [
    {
     "data": {
      "text/plain": [
       "name                  0\n",
       "platform              0\n",
       "year_of_release       0\n",
       "genre                 0\n",
       "na_sales              0\n",
       "eu_sales              0\n",
       "jp_sales              0\n",
       "other_sales           0\n",
       "critic_score       8461\n",
       "user_score         8981\n",
       "rating             6676\n",
       "dtype: int64"
      ]
     },
     "execution_count": 9,
     "metadata": {},
     "output_type": "execute_result"
    }
   ],
   "source": [
    "# считаем количетство пропусков в каждом столбце после удаления\n",
    "data.isna().sum()"
   ]
  },
  {
   "cell_type": "markdown",
   "metadata": {},
   "source": [
    "В столбцах critic_score, user_score, rating пропуски оставляем, нулями мы заполнить не можем, так как это изменит результат дальнейшего статистического анализа."
   ]
  },
  {
   "cell_type": "code",
   "execution_count": 10,
   "metadata": {
    "scrolled": true
   },
   "outputs": [
    {
     "data": {
      "text/html": [
       "<div>\n",
       "<style scoped>\n",
       "    .dataframe tbody tr th:only-of-type {\n",
       "        vertical-align: middle;\n",
       "    }\n",
       "\n",
       "    .dataframe tbody tr th {\n",
       "        vertical-align: top;\n",
       "    }\n",
       "\n",
       "    .dataframe thead th {\n",
       "        text-align: right;\n",
       "    }\n",
       "</style>\n",
       "<table border=\"1\" class=\"dataframe\">\n",
       "  <thead>\n",
       "    <tr style=\"text-align: right;\">\n",
       "      <th></th>\n",
       "      <th>year_of_release</th>\n",
       "      <th>na_sales</th>\n",
       "      <th>eu_sales</th>\n",
       "      <th>jp_sales</th>\n",
       "      <th>other_sales</th>\n",
       "      <th>critic_score</th>\n",
       "      <th>user_score</th>\n",
       "    </tr>\n",
       "  </thead>\n",
       "  <tbody>\n",
       "    <tr>\n",
       "      <td>count</td>\n",
       "      <td>16444.000000</td>\n",
       "      <td>16444.000000</td>\n",
       "      <td>16444.000000</td>\n",
       "      <td>16444.000000</td>\n",
       "      <td>16444.000000</td>\n",
       "      <td>7983.000000</td>\n",
       "      <td>7463.000000</td>\n",
       "    </tr>\n",
       "    <tr>\n",
       "      <td>mean</td>\n",
       "      <td>2006.486256</td>\n",
       "      <td>0.264012</td>\n",
       "      <td>0.145930</td>\n",
       "      <td>0.078487</td>\n",
       "      <td>0.047594</td>\n",
       "      <td>68.994363</td>\n",
       "      <td>7.126330</td>\n",
       "    </tr>\n",
       "    <tr>\n",
       "      <td>std</td>\n",
       "      <td>5.875525</td>\n",
       "      <td>0.818378</td>\n",
       "      <td>0.506716</td>\n",
       "      <td>0.311100</td>\n",
       "      <td>0.188005</td>\n",
       "      <td>13.920060</td>\n",
       "      <td>1.499447</td>\n",
       "    </tr>\n",
       "    <tr>\n",
       "      <td>min</td>\n",
       "      <td>1980.000000</td>\n",
       "      <td>0.000000</td>\n",
       "      <td>0.000000</td>\n",
       "      <td>0.000000</td>\n",
       "      <td>0.000000</td>\n",
       "      <td>13.000000</td>\n",
       "      <td>0.000000</td>\n",
       "    </tr>\n",
       "    <tr>\n",
       "      <td>25%</td>\n",
       "      <td>2003.000000</td>\n",
       "      <td>0.000000</td>\n",
       "      <td>0.000000</td>\n",
       "      <td>0.000000</td>\n",
       "      <td>0.000000</td>\n",
       "      <td>60.000000</td>\n",
       "      <td>6.400000</td>\n",
       "    </tr>\n",
       "    <tr>\n",
       "      <td>50%</td>\n",
       "      <td>2007.000000</td>\n",
       "      <td>0.080000</td>\n",
       "      <td>0.020000</td>\n",
       "      <td>0.000000</td>\n",
       "      <td>0.010000</td>\n",
       "      <td>71.000000</td>\n",
       "      <td>7.500000</td>\n",
       "    </tr>\n",
       "    <tr>\n",
       "      <td>75%</td>\n",
       "      <td>2010.000000</td>\n",
       "      <td>0.240000</td>\n",
       "      <td>0.110000</td>\n",
       "      <td>0.040000</td>\n",
       "      <td>0.030000</td>\n",
       "      <td>79.000000</td>\n",
       "      <td>8.200000</td>\n",
       "    </tr>\n",
       "    <tr>\n",
       "      <td>max</td>\n",
       "      <td>2016.000000</td>\n",
       "      <td>41.360000</td>\n",
       "      <td>28.960000</td>\n",
       "      <td>10.220000</td>\n",
       "      <td>10.570000</td>\n",
       "      <td>98.000000</td>\n",
       "      <td>9.700000</td>\n",
       "    </tr>\n",
       "  </tbody>\n",
       "</table>\n",
       "</div>"
      ],
      "text/plain": [
       "       year_of_release      na_sales      eu_sales      jp_sales  \\\n",
       "count     16444.000000  16444.000000  16444.000000  16444.000000   \n",
       "mean       2006.486256      0.264012      0.145930      0.078487   \n",
       "std           5.875525      0.818378      0.506716      0.311100   \n",
       "min        1980.000000      0.000000      0.000000      0.000000   \n",
       "25%        2003.000000      0.000000      0.000000      0.000000   \n",
       "50%        2007.000000      0.080000      0.020000      0.000000   \n",
       "75%        2010.000000      0.240000      0.110000      0.040000   \n",
       "max        2016.000000     41.360000     28.960000     10.220000   \n",
       "\n",
       "        other_sales  critic_score   user_score  \n",
       "count  16444.000000   7983.000000  7463.000000  \n",
       "mean       0.047594     68.994363     7.126330  \n",
       "std        0.188005     13.920060     1.499447  \n",
       "min        0.000000     13.000000     0.000000  \n",
       "25%        0.000000     60.000000     6.400000  \n",
       "50%        0.010000     71.000000     7.500000  \n",
       "75%        0.030000     79.000000     8.200000  \n",
       "max       10.570000     98.000000     9.700000  "
      ]
     },
     "execution_count": 10,
     "metadata": {},
     "output_type": "execute_result"
    }
   ],
   "source": [
    "data.describe()# проверяем описательную статистику по всем числовым столбцам"
   ]
  },
  {
   "cell_type": "markdown",
   "metadata": {},
   "source": [
    "По описательной статистике можно увидеть, что в данных нереальных значений, максимальное значение года 2016, что действительно так и должно быть, оценка критиков может достигать 100, унас максимум 98, пользовательский рейтинг от 0 до 10 - значения входят \n",
    "в этот интервал."
   ]
  },
  {
   "cell_type": "code",
   "execution_count": 11,
   "metadata": {},
   "outputs": [
    {
     "data": {
      "text/plain": [
       "0"
      ]
     },
     "execution_count": 11,
     "metadata": {},
     "output_type": "execute_result"
    }
   ],
   "source": [
    "# проверяем количество дубликатов\n",
    "data.duplicated().sum()"
   ]
  },
  {
   "cell_type": "markdown",
   "metadata": {},
   "source": [
    "Дубликатов нет"
   ]
  },
  {
   "cell_type": "markdown",
   "metadata": {},
   "source": [
    "Посчитаем суммарные продажи во всех регионах и запишим их в отдельный столбец"
   ]
  },
  {
   "cell_type": "code",
   "execution_count": 12,
   "metadata": {
    "scrolled": true
   },
   "outputs": [
    {
     "data": {
      "text/html": [
       "<div>\n",
       "<style scoped>\n",
       "    .dataframe tbody tr th:only-of-type {\n",
       "        vertical-align: middle;\n",
       "    }\n",
       "\n",
       "    .dataframe tbody tr th {\n",
       "        vertical-align: top;\n",
       "    }\n",
       "\n",
       "    .dataframe thead th {\n",
       "        text-align: right;\n",
       "    }\n",
       "</style>\n",
       "<table border=\"1\" class=\"dataframe\">\n",
       "  <thead>\n",
       "    <tr style=\"text-align: right;\">\n",
       "      <th></th>\n",
       "      <th>name</th>\n",
       "      <th>platform</th>\n",
       "      <th>year_of_release</th>\n",
       "      <th>genre</th>\n",
       "      <th>na_sales</th>\n",
       "      <th>eu_sales</th>\n",
       "      <th>jp_sales</th>\n",
       "      <th>other_sales</th>\n",
       "      <th>critic_score</th>\n",
       "      <th>user_score</th>\n",
       "      <th>rating</th>\n",
       "      <th>sales</th>\n",
       "    </tr>\n",
       "  </thead>\n",
       "  <tbody>\n",
       "    <tr>\n",
       "      <td>13832</td>\n",
       "      <td>Samurai Warriors 2: Empires</td>\n",
       "      <td>X360</td>\n",
       "      <td>2007.0</td>\n",
       "      <td>Action</td>\n",
       "      <td>0.03</td>\n",
       "      <td>0.00</td>\n",
       "      <td>0.01</td>\n",
       "      <td>0.00</td>\n",
       "      <td>53.0</td>\n",
       "      <td>8.5</td>\n",
       "      <td>T</td>\n",
       "      <td>0.04</td>\n",
       "    </tr>\n",
       "    <tr>\n",
       "      <td>891</td>\n",
       "      <td>X-Men Legends</td>\n",
       "      <td>PS2</td>\n",
       "      <td>2004.0</td>\n",
       "      <td>Role-Playing</td>\n",
       "      <td>1.00</td>\n",
       "      <td>0.72</td>\n",
       "      <td>0.00</td>\n",
       "      <td>0.21</td>\n",
       "      <td>79.0</td>\n",
       "      <td>8.5</td>\n",
       "      <td>T</td>\n",
       "      <td>1.93</td>\n",
       "    </tr>\n",
       "    <tr>\n",
       "      <td>7485</td>\n",
       "      <td>BeyBlade VForce: Super Tournament Battle</td>\n",
       "      <td>GC</td>\n",
       "      <td>2002.0</td>\n",
       "      <td>Action</td>\n",
       "      <td>0.16</td>\n",
       "      <td>0.04</td>\n",
       "      <td>0.00</td>\n",
       "      <td>0.01</td>\n",
       "      <td>33.0</td>\n",
       "      <td>7.5</td>\n",
       "      <td>E</td>\n",
       "      <td>0.21</td>\n",
       "    </tr>\n",
       "    <tr>\n",
       "      <td>239</td>\n",
       "      <td>Guitar Hero III: Legends of Rock</td>\n",
       "      <td>X360</td>\n",
       "      <td>2007.0</td>\n",
       "      <td>Misc</td>\n",
       "      <td>3.19</td>\n",
       "      <td>0.91</td>\n",
       "      <td>0.01</td>\n",
       "      <td>0.42</td>\n",
       "      <td>85.0</td>\n",
       "      <td>7.9</td>\n",
       "      <td>T</td>\n",
       "      <td>4.53</td>\n",
       "    </tr>\n",
       "    <tr>\n",
       "      <td>12137</td>\n",
       "      <td>The Book of Unwritten Tales 2</td>\n",
       "      <td>PS4</td>\n",
       "      <td>2015.0</td>\n",
       "      <td>Adventure</td>\n",
       "      <td>0.00</td>\n",
       "      <td>0.06</td>\n",
       "      <td>0.00</td>\n",
       "      <td>0.01</td>\n",
       "      <td>63.0</td>\n",
       "      <td>8.6</td>\n",
       "      <td>NaN</td>\n",
       "      <td>0.07</td>\n",
       "    </tr>\n",
       "    <tr>\n",
       "      <td>7759</td>\n",
       "      <td>Great Phoenix Wright: Ace Attorney - Naruhodou...</td>\n",
       "      <td>3DS</td>\n",
       "      <td>2015.0</td>\n",
       "      <td>Action</td>\n",
       "      <td>0.00</td>\n",
       "      <td>0.00</td>\n",
       "      <td>0.19</td>\n",
       "      <td>0.00</td>\n",
       "      <td>NaN</td>\n",
       "      <td>NaN</td>\n",
       "      <td>NaN</td>\n",
       "      <td>0.19</td>\n",
       "    </tr>\n",
       "    <tr>\n",
       "      <td>11561</td>\n",
       "      <td>Crush</td>\n",
       "      <td>PSP</td>\n",
       "      <td>2007.0</td>\n",
       "      <td>Puzzle</td>\n",
       "      <td>0.07</td>\n",
       "      <td>0.00</td>\n",
       "      <td>0.00</td>\n",
       "      <td>0.01</td>\n",
       "      <td>83.0</td>\n",
       "      <td>9.0</td>\n",
       "      <td>E10+</td>\n",
       "      <td>0.08</td>\n",
       "    </tr>\n",
       "    <tr>\n",
       "      <td>2321</td>\n",
       "      <td>Blitz: The League</td>\n",
       "      <td>PS2</td>\n",
       "      <td>2005.0</td>\n",
       "      <td>Sports</td>\n",
       "      <td>0.74</td>\n",
       "      <td>0.03</td>\n",
       "      <td>0.00</td>\n",
       "      <td>0.12</td>\n",
       "      <td>76.0</td>\n",
       "      <td>8.0</td>\n",
       "      <td>M</td>\n",
       "      <td>0.89</td>\n",
       "    </tr>\n",
       "    <tr>\n",
       "      <td>6310</td>\n",
       "      <td>Sherlock Holmes: Crimes &amp; Punishments</td>\n",
       "      <td>PS4</td>\n",
       "      <td>2014.0</td>\n",
       "      <td>Adventure</td>\n",
       "      <td>0.09</td>\n",
       "      <td>0.14</td>\n",
       "      <td>0.00</td>\n",
       "      <td>0.04</td>\n",
       "      <td>NaN</td>\n",
       "      <td>NaN</td>\n",
       "      <td>NaN</td>\n",
       "      <td>0.27</td>\n",
       "    </tr>\n",
       "    <tr>\n",
       "      <td>9207</td>\n",
       "      <td>Transformers: Devastation</td>\n",
       "      <td>XOne</td>\n",
       "      <td>2015.0</td>\n",
       "      <td>Action</td>\n",
       "      <td>0.09</td>\n",
       "      <td>0.04</td>\n",
       "      <td>0.00</td>\n",
       "      <td>0.01</td>\n",
       "      <td>75.0</td>\n",
       "      <td>7.9</td>\n",
       "      <td>T</td>\n",
       "      <td>0.14</td>\n",
       "    </tr>\n",
       "  </tbody>\n",
       "</table>\n",
       "</div>"
      ],
      "text/plain": [
       "                                                    name platform  \\\n",
       "13832                        Samurai Warriors 2: Empires     X360   \n",
       "891                                        X-Men Legends      PS2   \n",
       "7485            BeyBlade VForce: Super Tournament Battle       GC   \n",
       "239                     Guitar Hero III: Legends of Rock     X360   \n",
       "12137                      The Book of Unwritten Tales 2      PS4   \n",
       "7759   Great Phoenix Wright: Ace Attorney - Naruhodou...      3DS   \n",
       "11561                                              Crush      PSP   \n",
       "2321                                   Blitz: The League      PS2   \n",
       "6310               Sherlock Holmes: Crimes & Punishments      PS4   \n",
       "9207                           Transformers: Devastation     XOne   \n",
       "\n",
       "       year_of_release         genre  na_sales  eu_sales  jp_sales  \\\n",
       "13832           2007.0        Action      0.03      0.00      0.01   \n",
       "891             2004.0  Role-Playing      1.00      0.72      0.00   \n",
       "7485            2002.0        Action      0.16      0.04      0.00   \n",
       "239             2007.0          Misc      3.19      0.91      0.01   \n",
       "12137           2015.0     Adventure      0.00      0.06      0.00   \n",
       "7759            2015.0        Action      0.00      0.00      0.19   \n",
       "11561           2007.0        Puzzle      0.07      0.00      0.00   \n",
       "2321            2005.0        Sports      0.74      0.03      0.00   \n",
       "6310            2014.0     Adventure      0.09      0.14      0.00   \n",
       "9207            2015.0        Action      0.09      0.04      0.00   \n",
       "\n",
       "       other_sales  critic_score  user_score rating  sales  \n",
       "13832         0.00          53.0         8.5      T   0.04  \n",
       "891           0.21          79.0         8.5      T   1.93  \n",
       "7485          0.01          33.0         7.5      E   0.21  \n",
       "239           0.42          85.0         7.9      T   4.53  \n",
       "12137         0.01          63.0         8.6    NaN   0.07  \n",
       "7759          0.00           NaN         NaN    NaN   0.19  \n",
       "11561         0.01          83.0         9.0   E10+   0.08  \n",
       "2321          0.12          76.0         8.0      M   0.89  \n",
       "6310          0.04           NaN         NaN    NaN   0.27  \n",
       "9207          0.01          75.0         7.9      T   0.14  "
      ]
     },
     "execution_count": 12,
     "metadata": {},
     "output_type": "execute_result"
    }
   ],
   "source": [
    "#считаем суммарные продажи во всех регионах\n",
    "data['sales'] = data['na_sales']+data['eu_sales']+data['jp_sales']+data['other_sales']\n",
    "data.sample(10)"
   ]
  },
  {
   "cell_type": "markdown",
   "metadata": {},
   "source": [
    "### Вывод"
   ]
  },
  {
   "cell_type": "markdown",
   "metadata": {},
   "source": [
    "Изучили и обработали исходные данные. Изменили тип данных, убрали лишние пропуски, посчитали суммарные продажи по всем регионам. Данные готовы для дальнейшего анализа."
   ]
  },
  {
   "cell_type": "markdown",
   "metadata": {},
   "source": [
    "## Исследовательский анализ"
   ]
  },
  {
   "cell_type": "markdown",
   "metadata": {},
   "source": [
    "Cколько игр выпускалось в разные годы?"
   ]
  },
  {
   "cell_type": "code",
   "execution_count": 13,
   "metadata": {},
   "outputs": [
    {
     "data": {
      "text/html": [
       "<div>\n",
       "<style scoped>\n",
       "    .dataframe tbody tr th:only-of-type {\n",
       "        vertical-align: middle;\n",
       "    }\n",
       "\n",
       "    .dataframe tbody tr th {\n",
       "        vertical-align: top;\n",
       "    }\n",
       "\n",
       "    .dataframe thead th {\n",
       "        text-align: right;\n",
       "    }\n",
       "</style>\n",
       "<table border=\"1\" class=\"dataframe\">\n",
       "  <thead>\n",
       "    <tr style=\"text-align: right;\">\n",
       "      <th></th>\n",
       "      <th>sales</th>\n",
       "    </tr>\n",
       "    <tr>\n",
       "      <th>year_of_release</th>\n",
       "      <th></th>\n",
       "    </tr>\n",
       "  </thead>\n",
       "  <tbody>\n",
       "    <tr>\n",
       "      <td>1980.0</td>\n",
       "      <td>11.38</td>\n",
       "    </tr>\n",
       "    <tr>\n",
       "      <td>1981.0</td>\n",
       "      <td>35.68</td>\n",
       "    </tr>\n",
       "    <tr>\n",
       "      <td>1982.0</td>\n",
       "      <td>28.88</td>\n",
       "    </tr>\n",
       "    <tr>\n",
       "      <td>1983.0</td>\n",
       "      <td>16.80</td>\n",
       "    </tr>\n",
       "    <tr>\n",
       "      <td>1984.0</td>\n",
       "      <td>50.35</td>\n",
       "    </tr>\n",
       "    <tr>\n",
       "      <td>1985.0</td>\n",
       "      <td>53.95</td>\n",
       "    </tr>\n",
       "    <tr>\n",
       "      <td>1986.0</td>\n",
       "      <td>37.08</td>\n",
       "    </tr>\n",
       "    <tr>\n",
       "      <td>1987.0</td>\n",
       "      <td>21.70</td>\n",
       "    </tr>\n",
       "    <tr>\n",
       "      <td>1988.0</td>\n",
       "      <td>47.21</td>\n",
       "    </tr>\n",
       "    <tr>\n",
       "      <td>1989.0</td>\n",
       "      <td>73.45</td>\n",
       "    </tr>\n",
       "  </tbody>\n",
       "</table>\n",
       "</div>"
      ],
      "text/plain": [
       "                 sales\n",
       "year_of_release       \n",
       "1980.0           11.38\n",
       "1981.0           35.68\n",
       "1982.0           28.88\n",
       "1983.0           16.80\n",
       "1984.0           50.35\n",
       "1985.0           53.95\n",
       "1986.0           37.08\n",
       "1987.0           21.70\n",
       "1988.0           47.21\n",
       "1989.0           73.45"
      ]
     },
     "execution_count": 13,
     "metadata": {},
     "output_type": "execute_result"
    }
   ],
   "source": [
    "# формируем сводную таблицу с суммарными продажами по годам\n",
    "data_sales_per_year = data.pivot_table(index='year_of_release', values='sales',aggfunc='sum')\n",
    "data_sales_per_year.head(10)"
   ]
  },
  {
   "cell_type": "code",
   "execution_count": 14,
   "metadata": {
    "scrolled": false
   },
   "outputs": [
    {
     "data": {
      "text/plain": [
       "Text(0, 0.5, 'Продажи, млн копий')"
      ]
     },
     "execution_count": 14,
     "metadata": {},
     "output_type": "execute_result"
    },
    {
     "data": {
      "image/png": "[encoded data removed]",
      "text/plain": [
       "<Figure size 1080x720 with 1 Axes>"
      ]
     },
     "metadata": {
      "needs_background": "light"
     },
     "output_type": "display_data"
    }
   ],
   "source": [
    "# строим график по суммарным продажам по годам\n",
    "data_sales_per_year.plot(kind = 'bar',grid=True,figsize=(15,10))\n",
    "plt.legend()\n",
    "plt.title('Суммарные продажи игр по годам')\n",
    "plt.xlabel('Год')\n",
    "plt.ylabel('Продажи, млн копий')"
   ]
  },
  {
   "cell_type": "markdown",
   "metadata": {},
   "source": [
    "В таблице представлены продажи с 1980 по 2016. Пик роста продаж игр приходится на 2007-2010 года. Для дальйнейшего анализа нам не важны данные за все периоды, сразу можно сказать, что информацию за прошлый век мы учитывать не будем. Далее определим актуальный период."
   ]
  },
  {
   "cell_type": "markdown",
   "metadata": {},
   "source": [
    "Выбираем платформы с наибольшими суммарными продажами и строим распределение по годам"
   ]
  },
  {
   "cell_type": "code",
   "execution_count": 15,
   "metadata": {
    "scrolled": false
   },
   "outputs": [
    {
     "data": {
      "text/html": [
       "<div>\n",
       "<style scoped>\n",
       "    .dataframe tbody tr th:only-of-type {\n",
       "        vertical-align: middle;\n",
       "    }\n",
       "\n",
       "    .dataframe tbody tr th {\n",
       "        vertical-align: top;\n",
       "    }\n",
       "\n",
       "    .dataframe thead th {\n",
       "        text-align: right;\n",
       "    }\n",
       "</style>\n",
       "<table border=\"1\" class=\"dataframe\">\n",
       "  <thead>\n",
       "    <tr style=\"text-align: right;\">\n",
       "      <th></th>\n",
       "      <th>sales</th>\n",
       "    </tr>\n",
       "    <tr>\n",
       "      <th>platform</th>\n",
       "      <th></th>\n",
       "    </tr>\n",
       "  </thead>\n",
       "  <tbody>\n",
       "    <tr>\n",
       "      <td>PS2</td>\n",
       "      <td>1233.56</td>\n",
       "    </tr>\n",
       "    <tr>\n",
       "      <td>X360</td>\n",
       "      <td>961.24</td>\n",
       "    </tr>\n",
       "    <tr>\n",
       "      <td>PS3</td>\n",
       "      <td>931.34</td>\n",
       "    </tr>\n",
       "    <tr>\n",
       "      <td>Wii</td>\n",
       "      <td>891.18</td>\n",
       "    </tr>\n",
       "    <tr>\n",
       "      <td>DS</td>\n",
       "      <td>802.78</td>\n",
       "    </tr>\n",
       "    <tr>\n",
       "      <td>PS</td>\n",
       "      <td>727.58</td>\n",
       "    </tr>\n",
       "    <tr>\n",
       "      <td>PS4</td>\n",
       "      <td>314.14</td>\n",
       "    </tr>\n",
       "    <tr>\n",
       "      <td>GBA</td>\n",
       "      <td>312.88</td>\n",
       "    </tr>\n",
       "    <tr>\n",
       "      <td>PSP</td>\n",
       "      <td>289.53</td>\n",
       "    </tr>\n",
       "    <tr>\n",
       "      <td>3DS</td>\n",
       "      <td>257.81</td>\n",
       "    </tr>\n",
       "    <tr>\n",
       "      <td>PC</td>\n",
       "      <td>255.76</td>\n",
       "    </tr>\n",
       "    <tr>\n",
       "      <td>GB</td>\n",
       "      <td>254.43</td>\n",
       "    </tr>\n",
       "    <tr>\n",
       "      <td>XB</td>\n",
       "      <td>251.57</td>\n",
       "    </tr>\n",
       "    <tr>\n",
       "      <td>NES</td>\n",
       "      <td>251.05</td>\n",
       "    </tr>\n",
       "    <tr>\n",
       "      <td>N64</td>\n",
       "      <td>218.01</td>\n",
       "    </tr>\n",
       "    <tr>\n",
       "      <td>SNES</td>\n",
       "      <td>200.04</td>\n",
       "    </tr>\n",
       "  </tbody>\n",
       "</table>\n",
       "</div>"
      ],
      "text/plain": [
       "            sales\n",
       "platform         \n",
       "PS2       1233.56\n",
       "X360       961.24\n",
       "PS3        931.34\n",
       "Wii        891.18\n",
       "DS         802.78\n",
       "PS         727.58\n",
       "PS4        314.14\n",
       "GBA        312.88\n",
       "PSP        289.53\n",
       "3DS        257.81\n",
       "PC         255.76\n",
       "GB         254.43\n",
       "XB         251.57\n",
       "NES        251.05\n",
       "N64        218.01\n",
       "SNES       200.04"
      ]
     },
     "execution_count": 15,
     "metadata": {},
     "output_type": "execute_result"
    }
   ],
   "source": [
    "# формируем сводную таблицу по суммарным продажм по платформам\n",
    "top_platforms = data.pivot_table(index='platform', values='sales',aggfunc='sum').sort_values(by='sales',ascending=False)\n",
    "top_platforms = top_platforms.query('sales>200') # выбираем продажи от 200 млн\n",
    "top_platforms"
   ]
  },
  {
   "cell_type": "code",
   "execution_count": 16,
   "metadata": {
    "scrolled": false
   },
   "outputs": [
    {
     "data": {
      "text/plain": [
       "Text(0, 0.5, 'Продажи, млн копий')"
      ]
     },
     "execution_count": 16,
     "metadata": {},
     "output_type": "execute_result"
    },
    {
     "data": {
      "image/png": "[encoded data removed]",
      "text/plain": [
       "<Figure size 1080x360 with 1 Axes>"
      ]
     },
     "metadata": {
      "needs_background": "light"
     },
     "output_type": "display_data"
    }
   ],
   "source": [
    "# по платформам с наибольшими продажами строим график\n",
    "top_platforms = data.query('platform in [\"PS2\", \"X360\",\"PS3\",\"Wii\",\"DS\",\"PS\",\"PS4\",\"GBA\",\"PSP\",\"3DS\",\"PC\",\"GB\",\"XB\",\"NES\",\"N64\",\"SNES\"]')\n",
    "top_platforms.pivot_table(index='year_of_release', columns = 'platform',values='sales',aggfunc='sum').plot(grid=True, figsize=(15, 5))\n",
    "plt.legend()\n",
    "plt.title('Суммарные продажи по платформам')\n",
    "plt.xlabel('Год')\n",
    "plt.ylabel('Продажи, млн копий')"
   ]
  },
  {
   "cell_type": "markdown",
   "metadata": {},
   "source": [
    "Наибольшими суммарными продажами будем считать те, у кого продажи больше 200 млн проданных копий. Лидер продаж PS2. Также мы видим, что с выходном новый версии PS, продажи падают. На 2016 год еще в продаже PS4, 3DS,хотя продажи падают, также возможно минимальны продажи PS3,Wii,X360."
   ]
  },
  {
   "cell_type": "code",
   "execution_count": 17,
   "metadata": {},
   "outputs": [
    {
     "name": "stdout",
     "output_type": "stream",
     "text": [
      "Средний срок жизни платформы: years    10.875\n",
      "dtype: float64\n"
     ]
    }
   ],
   "source": [
    "# считаем среднюю продолжительность жизни платформы\n",
    "platform_lifetime = top_platforms.pivot_table (index = ['platform', 'year_of_release'], values = 'sales', aggfunc = 'sum')\n",
    "platform_lifetime = platform_lifetime.pivot_table (index = 'platform', values = 'sales', aggfunc = 'count')\n",
    "platform_lifetime.columns = ['years']\n",
    "print ('Средний срок жизни платформы:', platform_lifetime.mean())\n"
   ]
  },
  {
   "cell_type": "markdown",
   "metadata": {},
   "source": [
    "Среднее время жизни платформ -  11 лет.  Но на графике мы видим, что  примерно с 2013 года продажи для большинства платформ падают, а для некоторых поднимаются. И на 2016 год многие игры уже не актуальны и не продаются.Поэтомк за актальный период возьмем игры, год выхода, которых с 2013 года. Тогда в актуальный период не попадут платформы, которые на 2016 год имеют очень мало продаж, но имеют много в 2008-2010, что повлияет на пользовательские портреты\n"
   ]
  },
  {
   "cell_type": "code",
   "execution_count": 18,
   "metadata": {
    "scrolled": false
   },
   "outputs": [
    {
     "data": {
      "text/html": [
       "<div>\n",
       "<style scoped>\n",
       "    .dataframe tbody tr th:only-of-type {\n",
       "        vertical-align: middle;\n",
       "    }\n",
       "\n",
       "    .dataframe tbody tr th {\n",
       "        vertical-align: top;\n",
       "    }\n",
       "\n",
       "    .dataframe thead th {\n",
       "        text-align: right;\n",
       "    }\n",
       "</style>\n",
       "<table border=\"1\" class=\"dataframe\">\n",
       "  <thead>\n",
       "    <tr style=\"text-align: right;\">\n",
       "      <th></th>\n",
       "      <th>name</th>\n",
       "      <th>platform</th>\n",
       "      <th>year_of_release</th>\n",
       "      <th>genre</th>\n",
       "      <th>na_sales</th>\n",
       "      <th>eu_sales</th>\n",
       "      <th>jp_sales</th>\n",
       "      <th>other_sales</th>\n",
       "      <th>critic_score</th>\n",
       "      <th>user_score</th>\n",
       "      <th>rating</th>\n",
       "      <th>sales</th>\n",
       "    </tr>\n",
       "  </thead>\n",
       "  <tbody>\n",
       "    <tr>\n",
       "      <td>16</td>\n",
       "      <td>Grand Theft Auto V</td>\n",
       "      <td>PS3</td>\n",
       "      <td>2013.0</td>\n",
       "      <td>Action</td>\n",
       "      <td>7.02</td>\n",
       "      <td>9.09</td>\n",
       "      <td>0.98</td>\n",
       "      <td>3.96</td>\n",
       "      <td>97.0</td>\n",
       "      <td>8.2</td>\n",
       "      <td>M</td>\n",
       "      <td>21.05</td>\n",
       "    </tr>\n",
       "    <tr>\n",
       "      <td>23</td>\n",
       "      <td>Grand Theft Auto V</td>\n",
       "      <td>X360</td>\n",
       "      <td>2013.0</td>\n",
       "      <td>Action</td>\n",
       "      <td>9.66</td>\n",
       "      <td>5.14</td>\n",
       "      <td>0.06</td>\n",
       "      <td>1.41</td>\n",
       "      <td>97.0</td>\n",
       "      <td>8.1</td>\n",
       "      <td>M</td>\n",
       "      <td>16.27</td>\n",
       "    </tr>\n",
       "    <tr>\n",
       "      <td>31</td>\n",
       "      <td>Call of Duty: Black Ops 3</td>\n",
       "      <td>PS4</td>\n",
       "      <td>2015.0</td>\n",
       "      <td>Shooter</td>\n",
       "      <td>6.03</td>\n",
       "      <td>5.86</td>\n",
       "      <td>0.36</td>\n",
       "      <td>2.38</td>\n",
       "      <td>NaN</td>\n",
       "      <td>NaN</td>\n",
       "      <td>NaN</td>\n",
       "      <td>14.63</td>\n",
       "    </tr>\n",
       "    <tr>\n",
       "      <td>33</td>\n",
       "      <td>Pokemon X/Pokemon Y</td>\n",
       "      <td>3DS</td>\n",
       "      <td>2013.0</td>\n",
       "      <td>Role-Playing</td>\n",
       "      <td>5.28</td>\n",
       "      <td>4.19</td>\n",
       "      <td>4.35</td>\n",
       "      <td>0.78</td>\n",
       "      <td>NaN</td>\n",
       "      <td>NaN</td>\n",
       "      <td>NaN</td>\n",
       "      <td>14.60</td>\n",
       "    </tr>\n",
       "    <tr>\n",
       "      <td>42</td>\n",
       "      <td>Grand Theft Auto V</td>\n",
       "      <td>PS4</td>\n",
       "      <td>2014.0</td>\n",
       "      <td>Action</td>\n",
       "      <td>3.96</td>\n",
       "      <td>6.31</td>\n",
       "      <td>0.38</td>\n",
       "      <td>1.97</td>\n",
       "      <td>97.0</td>\n",
       "      <td>8.3</td>\n",
       "      <td>M</td>\n",
       "      <td>12.62</td>\n",
       "    </tr>\n",
       "    <tr>\n",
       "      <td>...</td>\n",
       "      <td>...</td>\n",
       "      <td>...</td>\n",
       "      <td>...</td>\n",
       "      <td>...</td>\n",
       "      <td>...</td>\n",
       "      <td>...</td>\n",
       "      <td>...</td>\n",
       "      <td>...</td>\n",
       "      <td>...</td>\n",
       "      <td>...</td>\n",
       "      <td>...</td>\n",
       "      <td>...</td>\n",
       "    </tr>\n",
       "    <tr>\n",
       "      <td>16703</td>\n",
       "      <td>Strawberry Nauts</td>\n",
       "      <td>PSV</td>\n",
       "      <td>2016.0</td>\n",
       "      <td>Adventure</td>\n",
       "      <td>0.00</td>\n",
       "      <td>0.00</td>\n",
       "      <td>0.01</td>\n",
       "      <td>0.00</td>\n",
       "      <td>NaN</td>\n",
       "      <td>NaN</td>\n",
       "      <td>NaN</td>\n",
       "      <td>0.01</td>\n",
       "    </tr>\n",
       "    <tr>\n",
       "      <td>16707</td>\n",
       "      <td>Aiyoku no Eustia</td>\n",
       "      <td>PSV</td>\n",
       "      <td>2014.0</td>\n",
       "      <td>Misc</td>\n",
       "      <td>0.00</td>\n",
       "      <td>0.00</td>\n",
       "      <td>0.01</td>\n",
       "      <td>0.00</td>\n",
       "      <td>NaN</td>\n",
       "      <td>NaN</td>\n",
       "      <td>NaN</td>\n",
       "      <td>0.01</td>\n",
       "    </tr>\n",
       "    <tr>\n",
       "      <td>16710</td>\n",
       "      <td>Samurai Warriors: Sanada Maru</td>\n",
       "      <td>PS3</td>\n",
       "      <td>2016.0</td>\n",
       "      <td>Action</td>\n",
       "      <td>0.00</td>\n",
       "      <td>0.00</td>\n",
       "      <td>0.01</td>\n",
       "      <td>0.00</td>\n",
       "      <td>NaN</td>\n",
       "      <td>NaN</td>\n",
       "      <td>NaN</td>\n",
       "      <td>0.01</td>\n",
       "    </tr>\n",
       "    <tr>\n",
       "      <td>16712</td>\n",
       "      <td>Haitaka no Psychedelica</td>\n",
       "      <td>PSV</td>\n",
       "      <td>2016.0</td>\n",
       "      <td>Adventure</td>\n",
       "      <td>0.00</td>\n",
       "      <td>0.00</td>\n",
       "      <td>0.01</td>\n",
       "      <td>0.00</td>\n",
       "      <td>NaN</td>\n",
       "      <td>NaN</td>\n",
       "      <td>NaN</td>\n",
       "      <td>0.01</td>\n",
       "    </tr>\n",
       "    <tr>\n",
       "      <td>16714</td>\n",
       "      <td>Winning Post 8 2016</td>\n",
       "      <td>PSV</td>\n",
       "      <td>2016.0</td>\n",
       "      <td>Simulation</td>\n",
       "      <td>0.00</td>\n",
       "      <td>0.00</td>\n",
       "      <td>0.01</td>\n",
       "      <td>0.00</td>\n",
       "      <td>NaN</td>\n",
       "      <td>NaN</td>\n",
       "      <td>NaN</td>\n",
       "      <td>0.01</td>\n",
       "    </tr>\n",
       "  </tbody>\n",
       "</table>\n",
       "<p>2233 rows × 12 columns</p>\n",
       "</div>"
      ],
      "text/plain": [
       "                                name platform  year_of_release         genre  \\\n",
       "16                Grand Theft Auto V      PS3           2013.0        Action   \n",
       "23                Grand Theft Auto V     X360           2013.0        Action   \n",
       "31         Call of Duty: Black Ops 3      PS4           2015.0       Shooter   \n",
       "33               Pokemon X/Pokemon Y      3DS           2013.0  Role-Playing   \n",
       "42                Grand Theft Auto V      PS4           2014.0        Action   \n",
       "...                              ...      ...              ...           ...   \n",
       "16703               Strawberry Nauts      PSV           2016.0     Adventure   \n",
       "16707               Aiyoku no Eustia      PSV           2014.0          Misc   \n",
       "16710  Samurai Warriors: Sanada Maru      PS3           2016.0        Action   \n",
       "16712        Haitaka no Psychedelica      PSV           2016.0     Adventure   \n",
       "16714            Winning Post 8 2016      PSV           2016.0    Simulation   \n",
       "\n",
       "       na_sales  eu_sales  jp_sales  other_sales  critic_score  user_score  \\\n",
       "16         7.02      9.09      0.98         3.96          97.0         8.2   \n",
       "23         9.66      5.14      0.06         1.41          97.0         8.1   \n",
       "31         6.03      5.86      0.36         2.38           NaN         NaN   \n",
       "33         5.28      4.19      4.35         0.78           NaN         NaN   \n",
       "42         3.96      6.31      0.38         1.97          97.0         8.3   \n",
       "...         ...       ...       ...          ...           ...         ...   \n",
       "16703      0.00      0.00      0.01         0.00           NaN         NaN   \n",
       "16707      0.00      0.00      0.01         0.00           NaN         NaN   \n",
       "16710      0.00      0.00      0.01         0.00           NaN         NaN   \n",
       "16712      0.00      0.00      0.01         0.00           NaN         NaN   \n",
       "16714      0.00      0.00      0.01         0.00           NaN         NaN   \n",
       "\n",
       "      rating  sales  \n",
       "16         M  21.05  \n",
       "23         M  16.27  \n",
       "31       NaN  14.63  \n",
       "33       NaN  14.60  \n",
       "42         M  12.62  \n",
       "...      ...    ...  \n",
       "16703    NaN   0.01  \n",
       "16707    NaN   0.01  \n",
       "16710    NaN   0.01  \n",
       "16712    NaN   0.01  \n",
       "16714    NaN   0.01  \n",
       "\n",
       "[2233 rows x 12 columns]"
      ]
     },
     "metadata": {},
     "output_type": "display_data"
    },
    {
     "data": {
      "text/plain": [
       "Text(0, 0.5, 'Продажи, млн копий')"
      ]
     },
     "execution_count": 18,
     "metadata": {},
     "output_type": "execute_result"
    },
    {
     "data": {
      "image/png": "[encoded data removed]",
      "text/plain": [
       "<Figure size 1080x360 with 1 Axes>"
      ]
     },
     "metadata": {
      "needs_background": "light"
     },
     "output_type": "display_data"
    }
   ],
   "source": [
    "df_actual = data.query('year_of_release>=2013') # срез данных по годом, берем от 2013\n",
    "display(df_actual)\n",
    "df_actual.pivot_table(index='year_of_release', columns = 'platform',values='sales',aggfunc='sum').plot(grid=True, figsize=(15, 5))\n",
    "plt.legend()\n",
    "plt.title('Суммарные продажи по платформам за актуальный период')\n",
    "plt.xlabel('Год')\n",
    "plt.ylabel('Продажи, млн копий')"
   ]
  },
  {
   "cell_type": "markdown",
   "metadata": {},
   "source": [
    "Построим график «ящик с усами» по глобальным продажам игр в разбивке по платформам"
   ]
  },
  {
   "cell_type": "code",
   "execution_count": 19,
   "metadata": {
    "scrolled": false
   },
   "outputs": [
    {
     "data": {
      "text/plain": [
       "(0, 1)"
      ]
     },
     "execution_count": 19,
     "metadata": {},
     "output_type": "execute_result"
    },
    {
     "data": {
      "image/png": "[encoded data removed]",
      "text/plain": [
       "<Figure size 1440x720 with 1 Axes>"
      ]
     },
     "metadata": {
      "needs_background": "light"
     },
     "output_type": "display_data"
    }
   ],
   "source": [
    "df_actual.boxplot(column='sales',by='platform',figsize=(20,10))\n",
    "plt.ylim(0,1)\n"
   ]
  },
  {
   "cell_type": "markdown",
   "metadata": {},
   "source": [
    "На графике мы видим распределение продаж. Медианные продажи выше всего у PS4,X360,XOne,WiiU"
   ]
  },
  {
   "cell_type": "markdown",
   "metadata": {},
   "source": [
    "Посмотрим как на продажи  популярных платформы влияют отзывы пользователей и критиков"
   ]
  },
  {
   "cell_type": "code",
   "execution_count": 40,
   "metadata": {},
   "outputs": [
    {
     "data": {
      "text/html": [
       "<div>\n",
       "<style scoped>\n",
       "    .dataframe tbody tr th:only-of-type {\n",
       "        vertical-align: middle;\n",
       "    }\n",
       "\n",
       "    .dataframe tbody tr th {\n",
       "        vertical-align: top;\n",
       "    }\n",
       "\n",
       "    .dataframe thead th {\n",
       "        text-align: right;\n",
       "    }\n",
       "</style>\n",
       "<table border=\"1\" class=\"dataframe\">\n",
       "  <thead>\n",
       "    <tr style=\"text-align: right;\">\n",
       "      <th></th>\n",
       "      <th>sales</th>\n",
       "      <th>critic_score</th>\n",
       "      <th>user_score</th>\n",
       "    </tr>\n",
       "  </thead>\n",
       "  <tbody>\n",
       "    <tr>\n",
       "      <td>sales</td>\n",
       "      <td>1.000000</td>\n",
       "      <td>0.406568</td>\n",
       "      <td>-0.031957</td>\n",
       "    </tr>\n",
       "    <tr>\n",
       "      <td>critic_score</td>\n",
       "      <td>0.406568</td>\n",
       "      <td>1.000000</td>\n",
       "      <td>0.557654</td>\n",
       "    </tr>\n",
       "    <tr>\n",
       "      <td>user_score</td>\n",
       "      <td>-0.031957</td>\n",
       "      <td>0.557654</td>\n",
       "      <td>1.000000</td>\n",
       "    </tr>\n",
       "  </tbody>\n",
       "</table>\n",
       "</div>"
      ],
      "text/plain": [
       "                 sales  critic_score  user_score\n",
       "sales         1.000000      0.406568   -0.031957\n",
       "critic_score  0.406568      1.000000    0.557654\n",
       "user_score   -0.031957      0.557654    1.000000"
      ]
     },
     "metadata": {},
     "output_type": "display_data"
    },
    {
     "data": {
      "image/png": "[encoded data removed]",
      "text/plain": [
       "<Figure size 432x288 with 9 Axes>"
      ]
     },
     "metadata": {
      "needs_background": "light"
     },
     "output_type": "display_data"
    },
    {
     "data": {
      "text/html": [
       "<div>\n",
       "<style scoped>\n",
       "    .dataframe tbody tr th:only-of-type {\n",
       "        vertical-align: middle;\n",
       "    }\n",
       "\n",
       "    .dataframe tbody tr th {\n",
       "        vertical-align: top;\n",
       "    }\n",
       "\n",
       "    .dataframe thead th {\n",
       "        text-align: right;\n",
       "    }\n",
       "</style>\n",
       "<table border=\"1\" class=\"dataframe\">\n",
       "  <thead>\n",
       "    <tr style=\"text-align: right;\">\n",
       "      <th></th>\n",
       "      <th>sales</th>\n",
       "      <th>critic_score</th>\n",
       "      <th>user_score</th>\n",
       "    </tr>\n",
       "  </thead>\n",
       "  <tbody>\n",
       "    <tr>\n",
       "      <td>sales</td>\n",
       "      <td>1.000000</td>\n",
       "      <td>0.350345</td>\n",
       "      <td>-0.011742</td>\n",
       "    </tr>\n",
       "    <tr>\n",
       "      <td>critic_score</td>\n",
       "      <td>0.350345</td>\n",
       "      <td>1.000000</td>\n",
       "      <td>0.520946</td>\n",
       "    </tr>\n",
       "    <tr>\n",
       "      <td>user_score</td>\n",
       "      <td>-0.011742</td>\n",
       "      <td>0.520946</td>\n",
       "      <td>1.000000</td>\n",
       "    </tr>\n",
       "  </tbody>\n",
       "</table>\n",
       "</div>"
      ],
      "text/plain": [
       "                 sales  critic_score  user_score\n",
       "sales         1.000000      0.350345   -0.011742\n",
       "critic_score  0.350345      1.000000    0.520946\n",
       "user_score   -0.011742      0.520946    1.000000"
      ]
     },
     "metadata": {},
     "output_type": "display_data"
    },
    {
     "data": {
      "image/png": "[encoded data removed]",
      "text/plain": [
       "<Figure size 432x288 with 9 Axes>"
      ]
     },
     "metadata": {
      "needs_background": "light"
     },
     "output_type": "display_data"
    },
    {
     "data": {
      "text/html": [
       "<div>\n",
       "<style scoped>\n",
       "    .dataframe tbody tr th:only-of-type {\n",
       "        vertical-align: middle;\n",
       "    }\n",
       "\n",
       "    .dataframe tbody tr th {\n",
       "        vertical-align: top;\n",
       "    }\n",
       "\n",
       "    .dataframe thead th {\n",
       "        text-align: right;\n",
       "    }\n",
       "</style>\n",
       "<table border=\"1\" class=\"dataframe\">\n",
       "  <thead>\n",
       "    <tr style=\"text-align: right;\">\n",
       "      <th></th>\n",
       "      <th>sales</th>\n",
       "      <th>critic_score</th>\n",
       "      <th>user_score</th>\n",
       "    </tr>\n",
       "  </thead>\n",
       "  <tbody>\n",
       "    <tr>\n",
       "      <td>sales</td>\n",
       "      <td>1.000000</td>\n",
       "      <td>0.416998</td>\n",
       "      <td>-0.068925</td>\n",
       "    </tr>\n",
       "    <tr>\n",
       "      <td>critic_score</td>\n",
       "      <td>0.416998</td>\n",
       "      <td>1.000000</td>\n",
       "      <td>0.472462</td>\n",
       "    </tr>\n",
       "    <tr>\n",
       "      <td>user_score</td>\n",
       "      <td>-0.068925</td>\n",
       "      <td>0.472462</td>\n",
       "      <td>1.000000</td>\n",
       "    </tr>\n",
       "  </tbody>\n",
       "</table>\n",
       "</div>"
      ],
      "text/plain": [
       "                 sales  critic_score  user_score\n",
       "sales         1.000000      0.416998   -0.068925\n",
       "critic_score  0.416998      1.000000    0.472462\n",
       "user_score   -0.068925      0.472462    1.000000"
      ]
     },
     "metadata": {},
     "output_type": "display_data"
    },
    {
     "data": {
      "image/png": "[encoded data removed]",
      "text/plain": [
       "<Figure size 432x288 with 9 Axes>"
      ]
     },
     "metadata": {
      "needs_background": "light"
     },
     "output_type": "display_data"
    },
    {
     "data": {
      "text/html": [
       "<div>\n",
       "<style scoped>\n",
       "    .dataframe tbody tr th:only-of-type {\n",
       "        vertical-align: middle;\n",
       "    }\n",
       "\n",
       "    .dataframe tbody tr th {\n",
       "        vertical-align: top;\n",
       "    }\n",
       "\n",
       "    .dataframe thead th {\n",
       "        text-align: right;\n",
       "    }\n",
       "</style>\n",
       "<table border=\"1\" class=\"dataframe\">\n",
       "  <thead>\n",
       "    <tr style=\"text-align: right;\">\n",
       "      <th></th>\n",
       "      <th>sales</th>\n",
       "      <th>critic_score</th>\n",
       "      <th>user_score</th>\n",
       "    </tr>\n",
       "  </thead>\n",
       "  <tbody>\n",
       "    <tr>\n",
       "      <td>sales</td>\n",
       "      <td>1.000000</td>\n",
       "      <td>0.376415</td>\n",
       "      <td>0.419330</td>\n",
       "    </tr>\n",
       "    <tr>\n",
       "      <td>critic_score</td>\n",
       "      <td>0.376415</td>\n",
       "      <td>1.000000</td>\n",
       "      <td>0.721313</td>\n",
       "    </tr>\n",
       "    <tr>\n",
       "      <td>user_score</td>\n",
       "      <td>0.419330</td>\n",
       "      <td>0.721313</td>\n",
       "      <td>1.000000</td>\n",
       "    </tr>\n",
       "  </tbody>\n",
       "</table>\n",
       "</div>"
      ],
      "text/plain": [
       "                 sales  critic_score  user_score\n",
       "sales         1.000000      0.376415    0.419330\n",
       "critic_score  0.376415      1.000000    0.721313\n",
       "user_score    0.419330      0.721313    1.000000"
      ]
     },
     "metadata": {},
     "output_type": "display_data"
    },
    {
     "data": {
      "image/png": "[encoded data removed]",
      "text/plain": [
       "<Figure size 432x288 with 9 Axes>"
      ]
     },
     "metadata": {
      "needs_background": "light"
     },
     "output_type": "display_data"
    }
   ],
   "source": [
    "# выделяем популярные платформы \n",
    "popular_platform = ['PS4','X360','XOne','WiiU']\n",
    "for i in popular_platform:\n",
    "    display(df_actual.query('platform==@i')[['sales','critic_score','user_score']].corr())\n",
    "#     plt.show()\n",
    "    pd.plotting.scatter_matrix(df_actual.query('platform==@i')[['sales','critic_score','user_score']])\n",
    "#     Код ревьюера\n",
    "    plt.suptitle('Название для {}'.format(i))\n",
    "    plt.show()\n",
    "    "
   ]
  },
  {
   "cell_type": "markdown",
   "metadata": {},
   "source": [
    "Линейной зависимости между продажами и оценкой критиков и пользователей не наблюдается, как так коэффициент корреляции по модули даже не доходит до значения 0.5. "
   ]
  },
  {
   "cell_type": "markdown",
   "metadata": {},
   "source": [
    "Посмотрите на общее распределение игр по жанрам"
   ]
  },
  {
   "cell_type": "code",
   "execution_count": 21,
   "metadata": {},
   "outputs": [
    {
     "data": {
      "text/html": [
       "<div>\n",
       "<style scoped>\n",
       "    .dataframe tbody tr th:only-of-type {\n",
       "        vertical-align: middle;\n",
       "    }\n",
       "\n",
       "    .dataframe tbody tr th {\n",
       "        vertical-align: top;\n",
       "    }\n",
       "\n",
       "    .dataframe thead th {\n",
       "        text-align: right;\n",
       "    }\n",
       "</style>\n",
       "<table border=\"1\" class=\"dataframe\">\n",
       "  <thead>\n",
       "    <tr style=\"text-align: right;\">\n",
       "      <th></th>\n",
       "      <th>sales</th>\n",
       "    </tr>\n",
       "    <tr>\n",
       "      <th>genre</th>\n",
       "      <th></th>\n",
       "    </tr>\n",
       "  </thead>\n",
       "  <tbody>\n",
       "    <tr>\n",
       "      <td>Action</td>\n",
       "      <td>321.87</td>\n",
       "    </tr>\n",
       "    <tr>\n",
       "      <td>Shooter</td>\n",
       "      <td>232.98</td>\n",
       "    </tr>\n",
       "    <tr>\n",
       "      <td>Sports</td>\n",
       "      <td>150.65</td>\n",
       "    </tr>\n",
       "    <tr>\n",
       "      <td>Role-Playing</td>\n",
       "      <td>145.89</td>\n",
       "    </tr>\n",
       "    <tr>\n",
       "      <td>Misc</td>\n",
       "      <td>62.82</td>\n",
       "    </tr>\n",
       "    <tr>\n",
       "      <td>Platform</td>\n",
       "      <td>42.63</td>\n",
       "    </tr>\n",
       "    <tr>\n",
       "      <td>Racing</td>\n",
       "      <td>39.89</td>\n",
       "    </tr>\n",
       "    <tr>\n",
       "      <td>Fighting</td>\n",
       "      <td>35.31</td>\n",
       "    </tr>\n",
       "    <tr>\n",
       "      <td>Adventure</td>\n",
       "      <td>23.64</td>\n",
       "    </tr>\n",
       "    <tr>\n",
       "      <td>Simulation</td>\n",
       "      <td>21.76</td>\n",
       "    </tr>\n",
       "    <tr>\n",
       "      <td>Strategy</td>\n",
       "      <td>10.08</td>\n",
       "    </tr>\n",
       "    <tr>\n",
       "      <td>Puzzle</td>\n",
       "      <td>3.17</td>\n",
       "    </tr>\n",
       "  </tbody>\n",
       "</table>\n",
       "</div>"
      ],
      "text/plain": [
       "               sales\n",
       "genre               \n",
       "Action        321.87\n",
       "Shooter       232.98\n",
       "Sports        150.65\n",
       "Role-Playing  145.89\n",
       "Misc           62.82\n",
       "Platform       42.63\n",
       "Racing         39.89\n",
       "Fighting       35.31\n",
       "Adventure      23.64\n",
       "Simulation     21.76\n",
       "Strategy       10.08\n",
       "Puzzle          3.17"
      ]
     },
     "execution_count": 21,
     "metadata": {},
     "output_type": "execute_result"
    }
   ],
   "source": [
    "# строим сводную таблицу по жанрам и сортируем в порядке убывания продажи\n",
    "df_actual_genre = df_actual.pivot_table(index='genre', values='sales',aggfunc='sum').sort_values(by='sales',ascending=False)\n",
    "df_actual_genre\n"
   ]
  },
  {
   "cell_type": "code",
   "execution_count": 22,
   "metadata": {},
   "outputs": [
    {
     "data": {
      "text/plain": [
       "Text(0.5, 1.0, 'Медианные продажи видеоигр по жанрам')"
      ]
     },
     "execution_count": 22,
     "metadata": {},
     "output_type": "execute_result"
    },
    {
     "data": {
      "image/png": "[encoded data removed]",
      "text/plain": [
       "<Figure size 1440x720 with 1 Axes>"
      ]
     },
     "metadata": {
      "needs_background": "light"
     },
     "output_type": "display_data"
    }
   ],
   "source": [
    "# смотрим распределение по жанрам на круговой диаграмме\n",
    "df_actual.boxplot(column='sales',by='genre',figsize=(20,10))\n",
    "plt.ylim(0,2)\n",
    "plt.title('Медианные продажи видеоигр по жанрам')"
   ]
  },
  {
   "cell_type": "markdown",
   "metadata": {},
   "source": [
    "Самые популярные и прибыльные жанры misc, sports, shooter. Это динамичные игры. Менее прибыльные более спокойные жанры игр puzzle, adventure."
   ]
  },
  {
   "cell_type": "markdown",
   "metadata": {},
   "source": [
    "## Портрет пользователя по регионам"
   ]
  },
  {
   "cell_type": "markdown",
   "metadata": {},
   "source": [
    "Самые популярные платформы (топ-5) для пользователя каждого региона (NA, EU, JP)"
   ]
  },
  {
   "cell_type": "code",
   "execution_count": 23,
   "metadata": {},
   "outputs": [
    {
     "data": {
      "text/html": [
       "<div>\n",
       "<style scoped>\n",
       "    .dataframe tbody tr th:only-of-type {\n",
       "        vertical-align: middle;\n",
       "    }\n",
       "\n",
       "    .dataframe tbody tr th {\n",
       "        vertical-align: top;\n",
       "    }\n",
       "\n",
       "    .dataframe thead th {\n",
       "        text-align: right;\n",
       "    }\n",
       "</style>\n",
       "<table border=\"1\" class=\"dataframe\">\n",
       "  <thead>\n",
       "    <tr style=\"text-align: right;\">\n",
       "      <th></th>\n",
       "      <th>na_sales</th>\n",
       "    </tr>\n",
       "    <tr>\n",
       "      <th>platform</th>\n",
       "      <th></th>\n",
       "    </tr>\n",
       "  </thead>\n",
       "  <tbody>\n",
       "    <tr>\n",
       "      <td>PS4</td>\n",
       "      <td>108.74</td>\n",
       "    </tr>\n",
       "    <tr>\n",
       "      <td>XOne</td>\n",
       "      <td>93.12</td>\n",
       "    </tr>\n",
       "    <tr>\n",
       "      <td>X360</td>\n",
       "      <td>81.66</td>\n",
       "    </tr>\n",
       "    <tr>\n",
       "      <td>PS3</td>\n",
       "      <td>63.50</td>\n",
       "    </tr>\n",
       "    <tr>\n",
       "      <td>3DS</td>\n",
       "      <td>38.20</td>\n",
       "    </tr>\n",
       "  </tbody>\n",
       "</table>\n",
       "</div>"
      ],
      "text/plain": [
       "          na_sales\n",
       "platform          \n",
       "PS4         108.74\n",
       "XOne         93.12\n",
       "X360         81.66\n",
       "PS3          63.50\n",
       "3DS          38.20"
      ]
     },
     "execution_count": 23,
     "metadata": {},
     "output_type": "execute_result"
    }
   ],
   "source": [
    "# популярные платформы в Северной Америке\n",
    "df_na_sales = df_actual.pivot_table(index='platform', values='na_sales',aggfunc='sum').sort_values(by='na_sales',ascending=False)\n",
    "df_na_sales.head()\n",
    "\n"
   ]
  },
  {
   "cell_type": "code",
   "execution_count": 24,
   "metadata": {},
   "outputs": [
    {
     "data": {
      "text/html": [
       "<div>\n",
       "<style scoped>\n",
       "    .dataframe tbody tr th:only-of-type {\n",
       "        vertical-align: middle;\n",
       "    }\n",
       "\n",
       "    .dataframe tbody tr th {\n",
       "        vertical-align: top;\n",
       "    }\n",
       "\n",
       "    .dataframe thead th {\n",
       "        text-align: right;\n",
       "    }\n",
       "</style>\n",
       "<table border=\"1\" class=\"dataframe\">\n",
       "  <thead>\n",
       "    <tr style=\"text-align: right;\">\n",
       "      <th></th>\n",
       "      <th>eu_sales</th>\n",
       "    </tr>\n",
       "    <tr>\n",
       "      <th>platform</th>\n",
       "      <th></th>\n",
       "    </tr>\n",
       "  </thead>\n",
       "  <tbody>\n",
       "    <tr>\n",
       "      <td>PS4</td>\n",
       "      <td>141.09</td>\n",
       "    </tr>\n",
       "    <tr>\n",
       "      <td>PS3</td>\n",
       "      <td>67.81</td>\n",
       "    </tr>\n",
       "    <tr>\n",
       "      <td>XOne</td>\n",
       "      <td>51.59</td>\n",
       "    </tr>\n",
       "    <tr>\n",
       "      <td>X360</td>\n",
       "      <td>42.52</td>\n",
       "    </tr>\n",
       "    <tr>\n",
       "      <td>3DS</td>\n",
       "      <td>30.96</td>\n",
       "    </tr>\n",
       "  </tbody>\n",
       "</table>\n",
       "</div>"
      ],
      "text/plain": [
       "          eu_sales\n",
       "platform          \n",
       "PS4         141.09\n",
       "PS3          67.81\n",
       "XOne         51.59\n",
       "X360         42.52\n",
       "3DS          30.96"
      ]
     },
     "execution_count": 24,
     "metadata": {},
     "output_type": "execute_result"
    }
   ],
   "source": [
    "# популярные платформы в Европе\n",
    "df_eu_sales = df_actual.pivot_table(index='platform', values='eu_sales',aggfunc='sum').sort_values(by='eu_sales',ascending=False)\n",
    "df_eu_sales.head()"
   ]
  },
  {
   "cell_type": "code",
   "execution_count": 25,
   "metadata": {
    "scrolled": true
   },
   "outputs": [
    {
     "data": {
      "text/html": [
       "<div>\n",
       "<style scoped>\n",
       "    .dataframe tbody tr th:only-of-type {\n",
       "        vertical-align: middle;\n",
       "    }\n",
       "\n",
       "    .dataframe tbody tr th {\n",
       "        vertical-align: top;\n",
       "    }\n",
       "\n",
       "    .dataframe thead th {\n",
       "        text-align: right;\n",
       "    }\n",
       "</style>\n",
       "<table border=\"1\" class=\"dataframe\">\n",
       "  <thead>\n",
       "    <tr style=\"text-align: right;\">\n",
       "      <th></th>\n",
       "      <th>jp_sales</th>\n",
       "    </tr>\n",
       "    <tr>\n",
       "      <th>platform</th>\n",
       "      <th></th>\n",
       "    </tr>\n",
       "  </thead>\n",
       "  <tbody>\n",
       "    <tr>\n",
       "      <td>3DS</td>\n",
       "      <td>67.81</td>\n",
       "    </tr>\n",
       "    <tr>\n",
       "      <td>PS3</td>\n",
       "      <td>23.35</td>\n",
       "    </tr>\n",
       "    <tr>\n",
       "      <td>PSV</td>\n",
       "      <td>18.59</td>\n",
       "    </tr>\n",
       "    <tr>\n",
       "      <td>PS4</td>\n",
       "      <td>15.96</td>\n",
       "    </tr>\n",
       "    <tr>\n",
       "      <td>WiiU</td>\n",
       "      <td>10.88</td>\n",
       "    </tr>\n",
       "  </tbody>\n",
       "</table>\n",
       "</div>"
      ],
      "text/plain": [
       "          jp_sales\n",
       "platform          \n",
       "3DS          67.81\n",
       "PS3          23.35\n",
       "PSV          18.59\n",
       "PS4          15.96\n",
       "WiiU         10.88"
      ]
     },
     "execution_count": 25,
     "metadata": {},
     "output_type": "execute_result"
    }
   ],
   "source": [
    "# популярные платформы в Японии\n",
    "df_jp_sales = df_actual.pivot_table(index='platform', values='jp_sales',aggfunc='sum').sort_values(by='jp_sales',ascending=False)\n",
    "df_jp_sales.head()"
   ]
  },
  {
   "cell_type": "markdown",
   "metadata": {},
   "source": [
    "Мы видим, что во всех регионах в топ 5 платформ PS4, 3DS,PS3. Также можно отметить, что продажи по платформам в Северной Америки и Европе схожи, а Япония немного отличается. можно предположить, что это связано с разницей в менталитете."
   ]
  },
  {
   "cell_type": "markdown",
   "metadata": {},
   "source": [
    "Самые популярные жанры (топ-5) для пользователя каждого региона (NA, EU, JP)"
   ]
  },
  {
   "cell_type": "code",
   "execution_count": 26,
   "metadata": {},
   "outputs": [
    {
     "data": {
      "text/html": [
       "<div>\n",
       "<style scoped>\n",
       "    .dataframe tbody tr th:only-of-type {\n",
       "        vertical-align: middle;\n",
       "    }\n",
       "\n",
       "    .dataframe tbody tr th {\n",
       "        vertical-align: top;\n",
       "    }\n",
       "\n",
       "    .dataframe thead th {\n",
       "        text-align: right;\n",
       "    }\n",
       "</style>\n",
       "<table border=\"1\" class=\"dataframe\">\n",
       "  <thead>\n",
       "    <tr style=\"text-align: right;\">\n",
       "      <th></th>\n",
       "      <th>na_sales</th>\n",
       "    </tr>\n",
       "    <tr>\n",
       "      <th>genre</th>\n",
       "      <th></th>\n",
       "    </tr>\n",
       "  </thead>\n",
       "  <tbody>\n",
       "    <tr>\n",
       "      <td>Action</td>\n",
       "      <td>126.05</td>\n",
       "    </tr>\n",
       "    <tr>\n",
       "      <td>Shooter</td>\n",
       "      <td>109.74</td>\n",
       "    </tr>\n",
       "    <tr>\n",
       "      <td>Sports</td>\n",
       "      <td>65.27</td>\n",
       "    </tr>\n",
       "    <tr>\n",
       "      <td>Role-Playing</td>\n",
       "      <td>46.40</td>\n",
       "    </tr>\n",
       "    <tr>\n",
       "      <td>Misc</td>\n",
       "      <td>27.49</td>\n",
       "    </tr>\n",
       "  </tbody>\n",
       "</table>\n",
       "</div>"
      ],
      "text/plain": [
       "              na_sales\n",
       "genre                 \n",
       "Action          126.05\n",
       "Shooter         109.74\n",
       "Sports           65.27\n",
       "Role-Playing     46.40\n",
       "Misc             27.49"
      ]
     },
     "execution_count": 26,
     "metadata": {},
     "output_type": "execute_result"
    }
   ],
   "source": [
    "# популярные жанры в Северной Америке\n",
    "df_na_genre = df_actual.pivot_table(index='genre', values='na_sales',aggfunc='sum').sort_values(by='na_sales',ascending=False)\n",
    "df_na_genre.head()"
   ]
  },
  {
   "cell_type": "code",
   "execution_count": 27,
   "metadata": {},
   "outputs": [
    {
     "data": {
      "text/html": [
       "<div>\n",
       "<style scoped>\n",
       "    .dataframe tbody tr th:only-of-type {\n",
       "        vertical-align: middle;\n",
       "    }\n",
       "\n",
       "    .dataframe tbody tr th {\n",
       "        vertical-align: top;\n",
       "    }\n",
       "\n",
       "    .dataframe thead th {\n",
       "        text-align: right;\n",
       "    }\n",
       "</style>\n",
       "<table border=\"1\" class=\"dataframe\">\n",
       "  <thead>\n",
       "    <tr style=\"text-align: right;\">\n",
       "      <th></th>\n",
       "      <th>eu_sales</th>\n",
       "    </tr>\n",
       "    <tr>\n",
       "      <th>genre</th>\n",
       "      <th></th>\n",
       "    </tr>\n",
       "  </thead>\n",
       "  <tbody>\n",
       "    <tr>\n",
       "      <td>Action</td>\n",
       "      <td>118.13</td>\n",
       "    </tr>\n",
       "    <tr>\n",
       "      <td>Shooter</td>\n",
       "      <td>87.86</td>\n",
       "    </tr>\n",
       "    <tr>\n",
       "      <td>Sports</td>\n",
       "      <td>60.52</td>\n",
       "    </tr>\n",
       "    <tr>\n",
       "      <td>Role-Playing</td>\n",
       "      <td>36.97</td>\n",
       "    </tr>\n",
       "    <tr>\n",
       "      <td>Racing</td>\n",
       "      <td>20.19</td>\n",
       "    </tr>\n",
       "  </tbody>\n",
       "</table>\n",
       "</div>"
      ],
      "text/plain": [
       "              eu_sales\n",
       "genre                 \n",
       "Action          118.13\n",
       "Shooter          87.86\n",
       "Sports           60.52\n",
       "Role-Playing     36.97\n",
       "Racing           20.19"
      ]
     },
     "execution_count": 27,
     "metadata": {},
     "output_type": "execute_result"
    }
   ],
   "source": [
    "# популярные жанры в Европе\n",
    "df_eu_genre = df_actual.pivot_table(index='genre', values='eu_sales',aggfunc='sum').sort_values(by='eu_sales',ascending=False)\n",
    "df_eu_genre.head()"
   ]
  },
  {
   "cell_type": "code",
   "execution_count": 28,
   "metadata": {
    "scrolled": false
   },
   "outputs": [
    {
     "data": {
      "text/html": [
       "<div>\n",
       "<style scoped>\n",
       "    .dataframe tbody tr th:only-of-type {\n",
       "        vertical-align: middle;\n",
       "    }\n",
       "\n",
       "    .dataframe tbody tr th {\n",
       "        vertical-align: top;\n",
       "    }\n",
       "\n",
       "    .dataframe thead th {\n",
       "        text-align: right;\n",
       "    }\n",
       "</style>\n",
       "<table border=\"1\" class=\"dataframe\">\n",
       "  <thead>\n",
       "    <tr style=\"text-align: right;\">\n",
       "      <th></th>\n",
       "      <th>jp_sales</th>\n",
       "    </tr>\n",
       "    <tr>\n",
       "      <th>genre</th>\n",
       "      <th></th>\n",
       "    </tr>\n",
       "  </thead>\n",
       "  <tbody>\n",
       "    <tr>\n",
       "      <td>Role-Playing</td>\n",
       "      <td>51.04</td>\n",
       "    </tr>\n",
       "    <tr>\n",
       "      <td>Action</td>\n",
       "      <td>40.49</td>\n",
       "    </tr>\n",
       "    <tr>\n",
       "      <td>Misc</td>\n",
       "      <td>9.20</td>\n",
       "    </tr>\n",
       "    <tr>\n",
       "      <td>Fighting</td>\n",
       "      <td>7.65</td>\n",
       "    </tr>\n",
       "    <tr>\n",
       "      <td>Shooter</td>\n",
       "      <td>6.61</td>\n",
       "    </tr>\n",
       "  </tbody>\n",
       "</table>\n",
       "</div>"
      ],
      "text/plain": [
       "              jp_sales\n",
       "genre                 \n",
       "Role-Playing     51.04\n",
       "Action           40.49\n",
       "Misc              9.20\n",
       "Fighting          7.65\n",
       "Shooter           6.61"
      ]
     },
     "execution_count": 28,
     "metadata": {},
     "output_type": "execute_result"
    }
   ],
   "source": [
    "# популярные жанры в Японии\n",
    "df_jp_genre = df_actual.pivot_table(index='genre', values='jp_sales',aggfunc='sum').sort_values(by='jp_sales',ascending=False)\n",
    "df_jp_genre.head()"
   ]
  },
  {
   "cell_type": "markdown",
   "metadata": {},
   "source": [
    "В распределении по жанрам тоже можно отметить, что топ 5 у Северной Америки и Европы одинаковый, а у Японии отличается. У Японии на первом месте жанр ролевых игр, что тоже указывает на разницу в менталитетах. Япония - родина аниме, страна высоких технологий и роботов. "
   ]
  },
  {
   "cell_type": "markdown",
   "metadata": {},
   "source": [
    "Влияет ли рейтинг ESRB на продажи в отдельном регионе?"
   ]
  },
  {
   "cell_type": "code",
   "execution_count": 29,
   "metadata": {},
   "outputs": [
    {
     "data": {
      "text/plain": [
       "(0, 1)"
      ]
     },
     "execution_count": 29,
     "metadata": {},
     "output_type": "execute_result"
    },
    {
     "data": {
      "image/png": "[encoded data removed]",
      "text/plain": [
       "<Figure size 432x288 with 1 Axes>"
      ]
     },
     "metadata": {
      "needs_background": "light"
     },
     "output_type": "display_data"
    }
   ],
   "source": [
    "# влияние рейтинга на продажи в Северной Америке\n",
    "df_actual.boxplot('na_sales',by='rating')\n",
    "plt.ylim(0,1)"
   ]
  },
  {
   "cell_type": "code",
   "execution_count": 30,
   "metadata": {},
   "outputs": [
    {
     "data": {
      "text/plain": [
       "(0, 1)"
      ]
     },
     "execution_count": 30,
     "metadata": {},
     "output_type": "execute_result"
    },
    {
     "data": {
      "image/png": "[encoded data removed]",
      "text/plain": [
       "<Figure size 432x288 with 1 Axes>"
      ]
     },
     "metadata": {
      "needs_background": "light"
     },
     "output_type": "display_data"
    }
   ],
   "source": [
    "# влияние рейтинга на продажи в Европе\n",
    "df_actual.boxplot('eu_sales',by='rating')\n",
    "plt.ylim(0,1)"
   ]
  },
  {
   "cell_type": "code",
   "execution_count": 31,
   "metadata": {
    "scrolled": false
   },
   "outputs": [
    {
     "data": {
      "text/plain": [
       "(0, 1)"
      ]
     },
     "execution_count": 31,
     "metadata": {},
     "output_type": "execute_result"
    },
    {
     "data": {
      "image/png": "[encoded data removed]",
      "text/plain": [
       "<Figure size 432x288 with 1 Axes>"
      ]
     },
     "metadata": {
      "needs_background": "light"
     },
     "output_type": "display_data"
    }
   ],
   "source": [
    "# влияние рейтинга на продажи в Японии\n",
    "df_actual.boxplot('jp_sales',by='rating')\n",
    "plt.ylim(0,1)"
   ]
  },
  {
   "cell_type": "code",
   "execution_count": 32,
   "metadata": {},
   "outputs": [
    {
     "data": {
      "text/html": [
       "<div>\n",
       "<style scoped>\n",
       "    .dataframe tbody tr th:only-of-type {\n",
       "        vertical-align: middle;\n",
       "    }\n",
       "\n",
       "    .dataframe tbody tr th {\n",
       "        vertical-align: top;\n",
       "    }\n",
       "\n",
       "    .dataframe thead th {\n",
       "        text-align: right;\n",
       "    }\n",
       "</style>\n",
       "<table border=\"1\" class=\"dataframe\">\n",
       "  <thead>\n",
       "    <tr style=\"text-align: right;\">\n",
       "      <th></th>\n",
       "      <th>jp_sales</th>\n",
       "    </tr>\n",
       "    <tr>\n",
       "      <th>rating</th>\n",
       "      <th></th>\n",
       "    </tr>\n",
       "  </thead>\n",
       "  <tbody>\n",
       "    <tr>\n",
       "      <td>E</td>\n",
       "      <td>0.00</td>\n",
       "    </tr>\n",
       "    <tr>\n",
       "      <td>E10+</td>\n",
       "      <td>0.00</td>\n",
       "    </tr>\n",
       "    <tr>\n",
       "      <td>M</td>\n",
       "      <td>0.00</td>\n",
       "    </tr>\n",
       "    <tr>\n",
       "      <td>T</td>\n",
       "      <td>0.01</td>\n",
       "    </tr>\n",
       "  </tbody>\n",
       "</table>\n",
       "</div>"
      ],
      "text/plain": [
       "        jp_sales\n",
       "rating          \n",
       "E           0.00\n",
       "E10+        0.00\n",
       "M           0.00\n",
       "T           0.01"
      ]
     },
     "execution_count": 32,
     "metadata": {},
     "output_type": "execute_result"
    }
   ],
   "source": [
    "jp_sales_pivot = df_actual.pivot_table(index='rating',values='jp_sales',aggfunc='median')\n",
    "jp_sales_pivot"
   ]
  },
  {
   "cell_type": "markdown",
   "metadata": {},
   "source": [
    "По данным графикам мы тоже видим, что японский рынок видеоигр отличается от Северной америки и Европы. В Японии мы видим медианные продажи только для рейтинга Т, и то они очень маленькие. По остальным рейтингам продаж нет. Возможно  в Японии данный рейтинг почти не используется. В Северной Америке и Европе лидирует по продажам игры с рейтингом М и Е10+."
   ]
  },
  {
   "cell_type": "markdown",
   "metadata": {},
   "source": [
    "## Проверка гипотез"
   ]
  },
  {
   "cell_type": "markdown",
   "metadata": {},
   "source": [
    "При подготовке данных мы оставляли пропуски в столбцах user_score,critic_score, rating. Для проверки гипотез нам понадобится столбец user_score и для проведения t-test мы должны учесть это момент, так как это исказит проведение стат-теста."
   ]
  },
  {
   "cell_type": "markdown",
   "metadata": {},
   "source": [
    "Переходим к проверке гипотез"
   ]
  },
  {
   "cell_type": "markdown",
   "metadata": {},
   "source": [
    "Средние пользовательские рейтинги платформ Xbox One и PC одинаковые"
   ]
  },
  {
   "cell_type": "markdown",
   "metadata": {},
   "source": [
    "$H_0$ : Средние пользовательские рейтинги платформ Xbox One и PC равны \n",
    "\n",
    "$H_1$ : Средние пользовательские рейтинги платформ Xbox One и PC не равны"
   ]
  },
  {
   "cell_type": "code",
   "execution_count": 33,
   "metadata": {},
   "outputs": [],
   "source": [
    "xone = df_actual.query('platform==\"XOne\"')\n",
    "pc = df_actual.query('platform==\"PC\"')"
   ]
  },
  {
   "cell_type": "code",
   "execution_count": 34,
   "metadata": {},
   "outputs": [
    {
     "name": "stdout",
     "output_type": "stream",
     "text": [
      "p-значение: 0.1475959401343003\n",
      "Не получилось отвергнуть нулевую гипотезу\n"
     ]
    }
   ],
   "source": [
    "xone_user_score = xone['user_score'] # выбираем столбец с пользовательским рейтингом\n",
    "pc_user_score = pc['user_score'] # выбираем столбец с пользовательским рейтингом\n",
    "alpha = .05 #критический уровень статистической значимости\n",
    "results = st.ttest_ind(xone_user_score,pc_user_score,equal_var = False,nan_policy='omit') #проверяем гипотезу о равенстве средних двух независимых совокупностей,без пропусков\n",
    "print('p-значение:', results.pvalue) \n",
    "\n",
    "if results.pvalue < alpha: #сравниваем получившееся p-значение с заданным уровнем статистической значимости\n",
    "    print(\"Отвергаем нулевую гипотезу\")\n",
    "else:\n",
    "    print(\"Не получилось отвергнуть нулевую гипотезу\")"
   ]
  },
  {
   "cell_type": "code",
   "execution_count": 35,
   "metadata": {},
   "outputs": [
    {
     "name": "stdout",
     "output_type": "stream",
     "text": [
      "6.521428571428572\n",
      "6.269677419354839\n"
     ]
    }
   ],
   "source": [
    "# посчитаем средний пользовательский рейтинг по двум платформам\n",
    "xone_user_score_ave = xone['user_score'].mean() \n",
    "pc_user_score_ave = pc['user_score'].mean()\n",
    "print(xone_user_score_ave)\n",
    "print(pc_user_score_ave)"
   ]
  },
  {
   "cell_type": "markdown",
   "metadata": {},
   "source": [
    "Проверяя гипотезу о равенстве средних двух генеральных совокупностей, не получилось отвергнуть нулевую гипотезу. То есть средние пользовательские рейтинги платформ Xbox One и PC равны. Это мы проверили сосчитав среднее по столбцу пользовательских оценок по 2 платформам, их значение почти равны."
   ]
  },
  {
   "cell_type": "markdown",
   "metadata": {},
   "source": [
    "Средние пользовательские рейтинги жанров Action и Sports разные"
   ]
  },
  {
   "cell_type": "markdown",
   "metadata": {},
   "source": [
    "$H_0$ : Средние пользовательские рейтинги платформ жанров Action и Sports равны \n",
    "\n",
    "$H_1$ : Средние пользовательские рейтинги жанров Action и Sports не равны"
   ]
  },
  {
   "cell_type": "code",
   "execution_count": 36,
   "metadata": {},
   "outputs": [],
   "source": [
    "action_genre = df_actual.query('genre==\"Action\"')\n",
    "sports_genre = df_actual.query('genre==\"Sports\"')\n"
   ]
  },
  {
   "cell_type": "code",
   "execution_count": 37,
   "metadata": {},
   "outputs": [
    {
     "name": "stdout",
     "output_type": "stream",
     "text": [
      "p-значение: 1.446003970070351e-20\n",
      "Отвергаем нулевую гипотезу\n"
     ]
    }
   ],
   "source": [
    "action_user_score = action_genre['user_score']\n",
    "sports_user_score = sports_genre['user_score']\n",
    "alpha = .05 #критический уровень статистической значимости\n",
    "results = st.ttest_ind(action_user_score,sports_user_score,equal_var = False,nan_policy='omit') #проверяем гипотезу о равенстве средних двух независимых совокупностей,без пропусков\n",
    "print('p-значение:', results.pvalue) \n",
    "\n",
    "if results.pvalue < alpha: #сравниваем получившееся p-значение с заданным уровнем статистической значимости\n",
    "    print(\"Отвергаем нулевую гипотезу\")\n",
    "else:\n",
    "    print(\"Не получилось отвергнуть нулевую гипотезу\")"
   ]
  },
  {
   "cell_type": "code",
   "execution_count": 38,
   "metadata": {},
   "outputs": [
    {
     "name": "stdout",
     "output_type": "stream",
     "text": [
      "6.837532133676093\n",
      "5.238124999999999\n"
     ]
    }
   ],
   "source": [
    "# посчитаем средний пользовательский рейтинг по двум жанрам\n",
    "action_user_score_ave = action_genre['user_score'].mean()\n",
    "sports_user_score_ave = sports_genre['user_score'].mean()\n",
    "print(action_user_score_ave)\n",
    "print(sports_user_score_ave)"
   ]
  },
  {
   "cell_type": "markdown",
   "metadata": {},
   "source": [
    "При проверке гипотез о равенстве средние пользовательском рейтинге жанров Action и Sports, мы также отвергаем нулевую гипотезу. Средние пользовательские рейтинги жанров Action и Sports разные, чем доказали это, посчитав среднее."
   ]
  },
  {
   "cell_type": "markdown",
   "metadata": {},
   "source": [
    "## Общий вывод"
   ]
  },
  {
   "cell_type": "markdown",
   "metadata": {},
   "source": [
    "На основе предоставленных данных мы видим, что рынок видеоигр разнообразен. Пик популярности пришелся на 2007-2010 года. Самой прибыльной игрой является PS разных версий.С выходом новых версий игр, продажи старых версий со временем сходят на нет. По регионам рынок видеоигр отличается, если в Северной Америке и Европе схожи вкусы пользователей, то у пользоватали видеоигр в Японии он другой, как по платформам,  так и по жанрам. В Северной Америке нужно делать акцент на жанрах Action, Sports,Shooter,в Японии - Role-playing, Action. В 2016 года в продаже остаются PS4, 3DS,WiiU,X360,XOne. И они популярны во всех странах, только в Японии чаще выбирают 3DS, в Северной Америке и в Европе PS4,XOne.  "
   ]
  }
 ],
 "metadata": {
  "ExecuteTimeLog": [
   {
    "duration": 405,
    "start_time": "2022-01-18T12:32:44.706Z"
   },
   {
    "duration": 992,
    "start_time": "2022-01-18T12:32:50.304Z"
   },
   {
    "duration": 87,
    "start_time": "2022-01-18T12:33:03.821Z"
   },
   {
    "duration": 256,
    "start_time": "2022-01-19T13:51:22.846Z"
   },
   {
    "duration": 561,
    "start_time": "2022-01-19T13:51:28.959Z"
   },
   {
    "duration": 29,
    "start_time": "2022-01-19T13:51:34.095Z"
   },
   {
    "duration": 268,
    "start_time": "2022-01-19T14:38:19.852Z"
   },
   {
    "duration": 4,
    "start_time": "2022-01-19T14:52:13.449Z"
   },
   {
    "duration": 13,
    "start_time": "2022-01-19T14:52:26.454Z"
   },
   {
    "duration": 251,
    "start_time": "2022-01-19T14:54:26.186Z"
   },
   {
    "duration": 222,
    "start_time": "2022-01-19T14:55:12.501Z"
   },
   {
    "duration": 11,
    "start_time": "2022-01-19T14:55:22.699Z"
   },
   {
    "duration": 461,
    "start_time": "2022-01-19T14:59:29.815Z"
   },
   {
    "duration": 21,
    "start_time": "2022-01-19T14:59:35.427Z"
   },
   {
    "duration": 9,
    "start_time": "2022-01-19T15:00:01.136Z"
   },
   {
    "duration": 644,
    "start_time": "2022-01-19T15:01:12.388Z"
   },
   {
    "duration": 629,
    "start_time": "2022-01-19T15:03:13.393Z"
   },
   {
    "duration": 8,
    "start_time": "2022-01-19T15:03:39.502Z"
   },
   {
    "duration": 333,
    "start_time": "2022-01-19T15:03:43.812Z"
   },
   {
    "duration": 628,
    "start_time": "2022-01-19T15:04:03.903Z"
   },
   {
    "duration": 12,
    "start_time": "2022-01-19T15:04:04.533Z"
   },
   {
    "duration": 9,
    "start_time": "2022-01-19T15:04:04.549Z"
   },
   {
    "duration": 8,
    "start_time": "2022-01-19T15:04:04.560Z"
   },
   {
    "duration": 301,
    "start_time": "2022-01-19T15:04:04.569Z"
   },
   {
    "duration": -27297,
    "start_time": "2022-01-19T15:04:32.168Z"
   },
   {
    "duration": 230,
    "start_time": "2022-01-19T15:05:10.781Z"
   },
   {
    "duration": 280,
    "start_time": "2022-01-19T15:09:42.291Z"
   },
   {
    "duration": 567,
    "start_time": "2022-01-19T15:10:27.342Z"
   },
   {
    "duration": 12,
    "start_time": "2022-01-19T15:10:27.910Z"
   },
   {
    "duration": 8,
    "start_time": "2022-01-19T15:10:27.924Z"
   },
   {
    "duration": 8,
    "start_time": "2022-01-19T15:10:27.933Z"
   },
   {
    "duration": 9,
    "start_time": "2022-01-19T15:10:27.942Z"
   },
   {
    "duration": 7,
    "start_time": "2022-01-19T15:10:27.952Z"
   },
   {
    "duration": 52,
    "start_time": "2022-01-19T15:10:27.961Z"
   },
   {
    "duration": 7,
    "start_time": "2022-01-19T15:12:48.887Z"
   },
   {
    "duration": 10,
    "start_time": "2022-01-19T15:13:03.842Z"
   },
   {
    "duration": 8,
    "start_time": "2022-01-19T15:13:14.703Z"
   },
   {
    "duration": 651,
    "start_time": "2022-01-19T15:13:26.295Z"
   },
   {
    "duration": 13,
    "start_time": "2022-01-19T15:13:26.948Z"
   },
   {
    "duration": 9,
    "start_time": "2022-01-19T15:13:26.967Z"
   },
   {
    "duration": 39,
    "start_time": "2022-01-19T15:13:26.978Z"
   },
   {
    "duration": 15,
    "start_time": "2022-01-19T15:13:27.019Z"
   },
   {
    "duration": 10,
    "start_time": "2022-01-19T15:13:27.036Z"
   },
   {
    "duration": 9,
    "start_time": "2022-01-19T15:13:27.048Z"
   },
   {
    "duration": 8,
    "start_time": "2022-01-19T15:13:27.059Z"
   },
   {
    "duration": 70,
    "start_time": "2022-01-19T15:13:27.069Z"
   },
   {
    "duration": 7,
    "start_time": "2022-01-19T15:16:44.778Z"
   },
   {
    "duration": 318,
    "start_time": "2022-01-19T15:23:00.111Z"
   },
   {
    "duration": 16,
    "start_time": "2022-01-19T15:23:31.893Z"
   },
   {
    "duration": 5,
    "start_time": "2022-01-19T15:28:40.586Z"
   },
   {
    "duration": 588,
    "start_time": "2022-01-19T15:28:49.777Z"
   },
   {
    "duration": 11,
    "start_time": "2022-01-19T15:28:50.367Z"
   },
   {
    "duration": 8,
    "start_time": "2022-01-19T15:28:50.380Z"
   },
   {
    "duration": 7,
    "start_time": "2022-01-19T15:28:50.389Z"
   },
   {
    "duration": 20,
    "start_time": "2022-01-19T15:28:50.397Z"
   },
   {
    "duration": 11,
    "start_time": "2022-01-19T15:28:50.419Z"
   },
   {
    "duration": 7,
    "start_time": "2022-01-19T15:28:50.431Z"
   },
   {
    "duration": 8,
    "start_time": "2022-01-19T15:28:50.440Z"
   },
   {
    "duration": 8,
    "start_time": "2022-01-19T15:28:50.449Z"
   },
   {
    "duration": 67,
    "start_time": "2022-01-19T15:28:50.458Z"
   },
   {
    "duration": 13,
    "start_time": "2022-01-19T15:28:50.527Z"
   },
   {
    "duration": 4,
    "start_time": "2022-01-19T15:45:25.493Z"
   },
   {
    "duration": 15,
    "start_time": "2022-01-19T16:01:06.742Z"
   },
   {
    "duration": 15,
    "start_time": "2022-01-19T16:01:13.638Z"
   },
   {
    "duration": 13,
    "start_time": "2022-01-19T16:02:38.668Z"
   },
   {
    "duration": 13,
    "start_time": "2022-01-19T16:03:01.666Z"
   },
   {
    "duration": 639,
    "start_time": "2022-01-19T16:03:17.585Z"
   },
   {
    "duration": 11,
    "start_time": "2022-01-19T16:03:18.227Z"
   },
   {
    "duration": 7,
    "start_time": "2022-01-19T16:03:18.240Z"
   },
   {
    "duration": 11,
    "start_time": "2022-01-19T16:03:18.248Z"
   },
   {
    "duration": 7,
    "start_time": "2022-01-19T16:03:18.261Z"
   },
   {
    "duration": 12,
    "start_time": "2022-01-19T16:03:18.270Z"
   },
   {
    "duration": 33,
    "start_time": "2022-01-19T16:03:18.284Z"
   },
   {
    "duration": 8,
    "start_time": "2022-01-19T16:03:18.319Z"
   },
   {
    "duration": 11,
    "start_time": "2022-01-19T16:03:18.328Z"
   },
   {
    "duration": 7,
    "start_time": "2022-01-19T16:03:18.341Z"
   },
   {
    "duration": 24,
    "start_time": "2022-01-19T16:03:18.350Z"
   },
   {
    "duration": 47,
    "start_time": "2022-01-19T16:03:18.376Z"
   },
   {
    "duration": 16,
    "start_time": "2022-01-19T16:03:18.424Z"
   },
   {
    "duration": 12,
    "start_time": "2022-01-19T16:03:34.156Z"
   },
   {
    "duration": 28,
    "start_time": "2022-01-19T16:03:41.178Z"
   },
   {
    "duration": 17,
    "start_time": "2022-01-19T16:04:08.507Z"
   },
   {
    "duration": 6,
    "start_time": "2022-01-19T16:08:01.059Z"
   },
   {
    "duration": 16,
    "start_time": "2022-01-19T16:08:09.975Z"
   },
   {
    "duration": 17,
    "start_time": "2022-01-19T16:09:00.368Z"
   },
   {
    "duration": 15,
    "start_time": "2022-01-19T16:09:15.227Z"
   },
   {
    "duration": 223,
    "start_time": "2022-01-19T17:07:57.603Z"
   },
   {
    "duration": 480,
    "start_time": "2022-01-19T17:08:45.745Z"
   },
   {
    "duration": 187,
    "start_time": "2022-01-19T17:14:13.052Z"
   },
   {
    "duration": 264,
    "start_time": "2022-01-19T17:15:17.210Z"
   },
   {
    "duration": 880,
    "start_time": "2022-01-19T17:20:07.292Z"
   },
   {
    "duration": 14,
    "start_time": "2022-01-19T17:20:08.175Z"
   },
   {
    "duration": 22,
    "start_time": "2022-01-19T17:20:08.191Z"
   },
   {
    "duration": 8,
    "start_time": "2022-01-19T17:20:08.215Z"
   },
   {
    "duration": 13,
    "start_time": "2022-01-19T17:20:08.225Z"
   },
   {
    "duration": 9,
    "start_time": "2022-01-19T17:20:08.240Z"
   },
   {
    "duration": 7,
    "start_time": "2022-01-19T17:20:08.250Z"
   },
   {
    "duration": 7,
    "start_time": "2022-01-19T17:20:08.260Z"
   },
   {
    "duration": 44,
    "start_time": "2022-01-19T17:20:08.269Z"
   },
   {
    "duration": 35,
    "start_time": "2022-01-19T17:20:08.314Z"
   },
   {
    "duration": 14,
    "start_time": "2022-01-19T17:20:08.350Z"
   },
   {
    "duration": 17,
    "start_time": "2022-01-19T17:20:08.365Z"
   },
   {
    "duration": 31,
    "start_time": "2022-01-19T17:20:08.383Z"
   },
   {
    "duration": 577,
    "start_time": "2022-01-19T18:43:26.364Z"
   },
   {
    "duration": 12,
    "start_time": "2022-01-19T18:43:26.943Z"
   },
   {
    "duration": 11,
    "start_time": "2022-01-19T18:43:26.957Z"
   },
   {
    "duration": 4,
    "start_time": "2022-01-19T18:43:26.970Z"
   },
   {
    "duration": 10,
    "start_time": "2022-01-19T18:43:26.975Z"
   },
   {
    "duration": 33,
    "start_time": "2022-01-19T18:43:26.986Z"
   },
   {
    "duration": 8,
    "start_time": "2022-01-19T18:43:27.021Z"
   },
   {
    "duration": 8,
    "start_time": "2022-01-19T18:43:27.030Z"
   },
   {
    "duration": 7,
    "start_time": "2022-01-19T18:43:27.041Z"
   },
   {
    "duration": 67,
    "start_time": "2022-01-19T18:43:27.050Z"
   },
   {
    "duration": 14,
    "start_time": "2022-01-19T18:43:27.119Z"
   },
   {
    "duration": 18,
    "start_time": "2022-01-19T18:43:27.135Z"
   },
   {
    "duration": 24,
    "start_time": "2022-01-19T18:43:27.154Z"
   },
   {
    "duration": 585,
    "start_time": "2022-01-19T18:44:43.647Z"
   },
   {
    "duration": 12,
    "start_time": "2022-01-19T18:44:44.235Z"
   },
   {
    "duration": 8,
    "start_time": "2022-01-19T18:44:44.250Z"
   },
   {
    "duration": 5,
    "start_time": "2022-01-19T18:44:44.260Z"
   },
   {
    "duration": 10,
    "start_time": "2022-01-19T18:44:44.266Z"
   },
   {
    "duration": 36,
    "start_time": "2022-01-19T18:44:44.278Z"
   },
   {
    "duration": 7,
    "start_time": "2022-01-19T18:44:44.316Z"
   },
   {
    "duration": 8,
    "start_time": "2022-01-19T18:44:44.325Z"
   },
   {
    "duration": 7,
    "start_time": "2022-01-19T18:44:44.335Z"
   },
   {
    "duration": 32,
    "start_time": "2022-01-19T18:44:44.343Z"
   },
   {
    "duration": 13,
    "start_time": "2022-01-19T18:44:44.412Z"
   },
   {
    "duration": 17,
    "start_time": "2022-01-19T18:44:44.427Z"
   },
   {
    "duration": 24,
    "start_time": "2022-01-19T18:44:44.445Z"
   },
   {
    "duration": 7,
    "start_time": "2022-01-19T18:44:56.479Z"
   },
   {
    "duration": 9,
    "start_time": "2022-01-19T18:45:05.382Z"
   },
   {
    "duration": 5,
    "start_time": "2022-01-19T18:45:21.059Z"
   },
   {
    "duration": 10,
    "start_time": "2022-01-19T18:45:32.653Z"
   },
   {
    "duration": 10,
    "start_time": "2022-01-19T18:45:33.337Z"
   },
   {
    "duration": 8,
    "start_time": "2022-01-19T18:45:43.309Z"
   },
   {
    "duration": 11,
    "start_time": "2022-01-19T18:45:52.379Z"
   },
   {
    "duration": 604,
    "start_time": "2022-01-19T18:49:43.019Z"
   },
   {
    "duration": 11,
    "start_time": "2022-01-19T18:49:43.624Z"
   },
   {
    "duration": 8,
    "start_time": "2022-01-19T18:49:43.637Z"
   },
   {
    "duration": 4,
    "start_time": "2022-01-19T18:49:43.647Z"
   },
   {
    "duration": 8,
    "start_time": "2022-01-19T18:49:43.653Z"
   },
   {
    "duration": 8,
    "start_time": "2022-01-19T18:49:43.663Z"
   },
   {
    "duration": 45,
    "start_time": "2022-01-19T18:49:43.672Z"
   },
   {
    "duration": 7,
    "start_time": "2022-01-19T18:49:43.719Z"
   },
   {
    "duration": 7,
    "start_time": "2022-01-19T18:49:43.728Z"
   },
   {
    "duration": 29,
    "start_time": "2022-01-19T18:49:43.736Z"
   },
   {
    "duration": 46,
    "start_time": "2022-01-19T18:49:43.766Z"
   },
   {
    "duration": 17,
    "start_time": "2022-01-19T18:49:43.814Z"
   },
   {
    "duration": 24,
    "start_time": "2022-01-19T18:49:43.832Z"
   },
   {
    "duration": 14,
    "start_time": "2022-01-19T18:50:57.650Z"
   },
   {
    "duration": 259,
    "start_time": "2022-01-19T18:53:19.368Z"
   },
   {
    "duration": 189,
    "start_time": "2022-01-19T18:53:53.581Z"
   },
   {
    "duration": 178,
    "start_time": "2022-01-19T18:54:01.130Z"
   },
   {
    "duration": 380,
    "start_time": "2022-01-19T18:56:31.663Z"
   },
   {
    "duration": 6940,
    "start_time": "2022-01-19T18:57:13.888Z"
   },
   {
    "duration": 1206,
    "start_time": "2022-01-19T18:57:30.589Z"
   },
   {
    "duration": 768,
    "start_time": "2022-01-19T18:57:39.616Z"
   },
   {
    "duration": 554,
    "start_time": "2022-01-19T18:57:48.032Z"
   },
   {
    "duration": 497,
    "start_time": "2022-01-19T18:57:55.261Z"
   },
   {
    "duration": 500,
    "start_time": "2022-01-19T18:58:01.583Z"
   },
   {
    "duration": 476,
    "start_time": "2022-01-19T18:58:05.501Z"
   },
   {
    "duration": 10,
    "start_time": "2022-01-19T19:06:13.517Z"
   },
   {
    "duration": 19,
    "start_time": "2022-01-19T19:06:28.021Z"
   },
   {
    "duration": 610,
    "start_time": "2022-01-19T19:07:09.200Z"
   },
   {
    "duration": 31,
    "start_time": "2022-01-19T19:07:23.929Z"
   },
   {
    "duration": 24,
    "start_time": "2022-01-19T19:07:59.819Z"
   },
   {
    "duration": 3670,
    "start_time": "2022-01-19T19:10:28.366Z"
   },
   {
    "duration": 345,
    "start_time": "2022-01-19T19:10:43.314Z"
   },
   {
    "duration": 359,
    "start_time": "2022-01-20T10:58:07.509Z"
   },
   {
    "duration": 797,
    "start_time": "2022-01-20T10:58:14.405Z"
   },
   {
    "duration": 20,
    "start_time": "2022-01-20T10:58:15.205Z"
   },
   {
    "duration": 37,
    "start_time": "2022-01-20T10:58:15.228Z"
   },
   {
    "duration": 7,
    "start_time": "2022-01-20T10:58:15.269Z"
   },
   {
    "duration": 13,
    "start_time": "2022-01-20T10:58:15.279Z"
   },
   {
    "duration": 13,
    "start_time": "2022-01-20T10:58:15.294Z"
   },
   {
    "duration": 57,
    "start_time": "2022-01-20T10:58:15.310Z"
   },
   {
    "duration": 12,
    "start_time": "2022-01-20T10:58:15.371Z"
   },
   {
    "duration": 11,
    "start_time": "2022-01-20T10:58:15.385Z"
   },
   {
    "duration": 99,
    "start_time": "2022-01-20T10:58:15.399Z"
   },
   {
    "duration": 21,
    "start_time": "2022-01-20T10:58:15.501Z"
   },
   {
    "duration": 58,
    "start_time": "2022-01-20T10:58:15.525Z"
   },
   {
    "duration": 19,
    "start_time": "2022-01-20T10:58:15.586Z"
   },
   {
    "duration": 914,
    "start_time": "2022-01-20T10:58:15.608Z"
   },
   {
    "duration": 53,
    "start_time": "2022-01-20T10:58:16.525Z"
   },
   {
    "duration": 533,
    "start_time": "2022-01-20T10:58:16.581Z"
   },
   {
    "duration": 23,
    "start_time": "2022-01-20T12:27:19.009Z"
   },
   {
    "duration": 329,
    "start_time": "2022-01-20T12:33:48.801Z"
   },
   {
    "duration": 28,
    "start_time": "2022-01-20T12:34:03.709Z"
   },
   {
    "duration": 72,
    "start_time": "2022-01-20T12:41:11.375Z"
   },
   {
    "duration": 303,
    "start_time": "2022-01-20T12:43:03.451Z"
   },
   {
    "duration": 28,
    "start_time": "2022-01-20T12:44:00.740Z"
   },
   {
    "duration": 15,
    "start_time": "2022-01-20T12:45:51.034Z"
   },
   {
    "duration": 28,
    "start_time": "2022-01-20T13:19:10.049Z"
   },
   {
    "duration": 23,
    "start_time": "2022-01-20T13:20:15.896Z"
   },
   {
    "duration": 264,
    "start_time": "2022-01-20T13:21:30.456Z"
   },
   {
    "duration": 14,
    "start_time": "2022-01-20T13:21:44.330Z"
   },
   {
    "duration": 26,
    "start_time": "2022-01-20T13:22:32.161Z"
   },
   {
    "duration": 39,
    "start_time": "2022-01-20T13:22:40.151Z"
   },
   {
    "duration": 15,
    "start_time": "2022-01-20T13:23:28.599Z"
   },
   {
    "duration": 814,
    "start_time": "2022-01-20T13:23:48.320Z"
   },
   {
    "duration": 33,
    "start_time": "2022-01-20T13:23:49.137Z"
   },
   {
    "duration": 18,
    "start_time": "2022-01-20T13:23:49.174Z"
   },
   {
    "duration": 9,
    "start_time": "2022-01-20T13:23:49.195Z"
   },
   {
    "duration": 63,
    "start_time": "2022-01-20T13:23:49.207Z"
   },
   {
    "duration": 18,
    "start_time": "2022-01-20T13:23:49.273Z"
   },
   {
    "duration": 10,
    "start_time": "2022-01-20T13:23:49.294Z"
   },
   {
    "duration": 11,
    "start_time": "2022-01-20T13:23:49.308Z"
   },
   {
    "duration": 11,
    "start_time": "2022-01-20T13:23:49.365Z"
   },
   {
    "duration": 51,
    "start_time": "2022-01-20T13:23:49.379Z"
   },
   {
    "duration": 51,
    "start_time": "2022-01-20T13:23:49.433Z"
   },
   {
    "duration": 32,
    "start_time": "2022-01-20T13:23:49.486Z"
   },
   {
    "duration": 53,
    "start_time": "2022-01-20T13:23:49.521Z"
   },
   {
    "duration": 1080,
    "start_time": "2022-01-20T13:23:49.577Z"
   },
   {
    "duration": 25,
    "start_time": "2022-01-20T13:23:50.664Z"
   },
   {
    "duration": 15,
    "start_time": "2022-01-20T13:23:50.691Z"
   },
   {
    "duration": 368,
    "start_time": "2022-01-20T13:24:32.899Z"
   },
   {
    "duration": 838,
    "start_time": "2022-01-20T13:24:52.226Z"
   },
   {
    "duration": 21,
    "start_time": "2022-01-20T13:24:53.067Z"
   },
   {
    "duration": 16,
    "start_time": "2022-01-20T13:24:53.092Z"
   },
   {
    "duration": 9,
    "start_time": "2022-01-20T13:24:53.111Z"
   },
   {
    "duration": 19,
    "start_time": "2022-01-20T13:24:53.165Z"
   },
   {
    "duration": 20,
    "start_time": "2022-01-20T13:24:53.187Z"
   },
   {
    "duration": 57,
    "start_time": "2022-01-20T13:24:53.209Z"
   },
   {
    "duration": 12,
    "start_time": "2022-01-20T13:24:53.270Z"
   },
   {
    "duration": 15,
    "start_time": "2022-01-20T13:24:53.285Z"
   },
   {
    "duration": 80,
    "start_time": "2022-01-20T13:24:53.303Z"
   },
   {
    "duration": 23,
    "start_time": "2022-01-20T13:24:53.385Z"
   },
   {
    "duration": 56,
    "start_time": "2022-01-20T13:24:53.411Z"
   },
   {
    "duration": 20,
    "start_time": "2022-01-20T13:24:53.470Z"
   },
   {
    "duration": 922,
    "start_time": "2022-01-20T13:24:53.492Z"
   },
   {
    "duration": 24,
    "start_time": "2022-01-20T13:24:54.417Z"
   },
   {
    "duration": 35,
    "start_time": "2022-01-20T13:24:54.443Z"
   },
   {
    "duration": 409,
    "start_time": "2022-01-20T13:26:39.268Z"
   },
   {
    "duration": 282,
    "start_time": "2022-01-20T13:26:52.749Z"
   },
   {
    "duration": 323,
    "start_time": "2022-01-20T13:27:23.399Z"
   },
   {
    "duration": 383,
    "start_time": "2022-01-20T16:20:33.438Z"
   },
   {
    "duration": 969,
    "start_time": "2022-01-20T16:20:41.434Z"
   },
   {
    "duration": 22,
    "start_time": "2022-01-20T16:20:42.405Z"
   },
   {
    "duration": 34,
    "start_time": "2022-01-20T16:20:42.430Z"
   },
   {
    "duration": 7,
    "start_time": "2022-01-20T16:20:42.467Z"
   },
   {
    "duration": 14,
    "start_time": "2022-01-20T16:20:42.477Z"
   },
   {
    "duration": 14,
    "start_time": "2022-01-20T16:20:42.493Z"
   },
   {
    "duration": 14,
    "start_time": "2022-01-20T16:20:42.560Z"
   },
   {
    "duration": 12,
    "start_time": "2022-01-20T16:20:42.579Z"
   },
   {
    "duration": 11,
    "start_time": "2022-01-20T16:20:42.594Z"
   },
   {
    "duration": 92,
    "start_time": "2022-01-20T16:20:42.607Z"
   },
   {
    "duration": 22,
    "start_time": "2022-01-20T16:20:42.701Z"
   },
   {
    "duration": 56,
    "start_time": "2022-01-20T16:20:42.726Z"
   },
   {
    "duration": 19,
    "start_time": "2022-01-20T16:20:42.785Z"
   },
   {
    "duration": 961,
    "start_time": "2022-01-20T16:20:42.807Z"
   },
   {
    "duration": 23,
    "start_time": "2022-01-20T16:20:43.771Z"
   },
   {
    "duration": 77,
    "start_time": "2022-01-20T16:20:43.796Z"
   },
   {
    "duration": 397,
    "start_time": "2022-01-20T16:22:07.155Z"
   },
   {
    "duration": 506,
    "start_time": "2022-01-20T16:22:43.161Z"
   },
   {
    "duration": 573,
    "start_time": "2022-01-20T16:23:08.140Z"
   },
   {
    "duration": 511,
    "start_time": "2022-01-20T16:23:26.952Z"
   },
   {
    "duration": 494,
    "start_time": "2022-01-20T16:43:09.119Z"
   },
   {
    "duration": 34,
    "start_time": "2022-01-20T16:47:18.203Z"
   },
   {
    "duration": 480,
    "start_time": "2022-01-20T16:47:31.771Z"
   },
   {
    "duration": 17,
    "start_time": "2022-01-20T16:47:38.859Z"
   },
   {
    "duration": 6,
    "start_time": "2022-01-20T16:47:52.893Z"
   },
   {
    "duration": 4,
    "start_time": "2022-01-20T16:48:15.600Z"
   },
   {
    "duration": 10,
    "start_time": "2022-01-20T16:48:38.128Z"
   },
   {
    "duration": 36,
    "start_time": "2022-01-20T16:55:19.725Z"
   },
   {
    "duration": 15,
    "start_time": "2022-01-20T16:55:30.914Z"
   },
   {
    "duration": 12,
    "start_time": "2022-01-20T16:55:59.352Z"
   },
   {
    "duration": 6,
    "start_time": "2022-01-20T16:56:03.534Z"
   },
   {
    "duration": 24,
    "start_time": "2022-01-20T16:56:25.536Z"
   },
   {
    "duration": 859,
    "start_time": "2022-01-20T16:56:33.312Z"
   },
   {
    "duration": 21,
    "start_time": "2022-01-20T16:56:34.175Z"
   },
   {
    "duration": 23,
    "start_time": "2022-01-20T16:56:34.200Z"
   },
   {
    "duration": 8,
    "start_time": "2022-01-20T16:56:34.261Z"
   },
   {
    "duration": 15,
    "start_time": "2022-01-20T16:56:34.271Z"
   },
   {
    "duration": 18,
    "start_time": "2022-01-20T16:56:34.289Z"
   },
   {
    "duration": 60,
    "start_time": "2022-01-20T16:56:34.310Z"
   },
   {
    "duration": 14,
    "start_time": "2022-01-20T16:56:34.376Z"
   },
   {
    "duration": 18,
    "start_time": "2022-01-20T16:56:34.393Z"
   },
   {
    "duration": 94,
    "start_time": "2022-01-20T16:56:34.414Z"
   },
   {
    "duration": 51,
    "start_time": "2022-01-20T16:56:34.510Z"
   },
   {
    "duration": 28,
    "start_time": "2022-01-20T16:56:34.563Z"
   },
   {
    "duration": 20,
    "start_time": "2022-01-20T16:56:34.593Z"
   },
   {
    "duration": 994,
    "start_time": "2022-01-20T16:56:34.615Z"
   },
   {
    "duration": 25,
    "start_time": "2022-01-20T16:56:35.612Z"
   },
   {
    "duration": 769,
    "start_time": "2022-01-20T16:56:35.661Z"
   },
   {
    "duration": 69,
    "start_time": "2022-01-20T16:56:36.433Z"
   },
   {
    "duration": 20,
    "start_time": "2022-01-20T16:56:36.505Z"
   },
   {
    "duration": 35,
    "start_time": "2022-01-20T16:56:36.528Z"
   },
   {
    "duration": 7,
    "start_time": "2022-01-20T16:56:36.565Z"
   },
   {
    "duration": 31,
    "start_time": "2022-01-20T16:58:54.439Z"
   },
   {
    "duration": 85,
    "start_time": "2022-01-20T16:59:49.302Z"
   },
   {
    "duration": 31,
    "start_time": "2022-01-20T17:00:00.302Z"
   },
   {
    "duration": 23,
    "start_time": "2022-01-20T17:00:09.672Z"
   },
   {
    "duration": 31,
    "start_time": "2022-01-20T17:31:12.428Z"
   },
   {
    "duration": 651,
    "start_time": "2022-01-20T17:33:21.213Z"
   },
   {
    "duration": 747,
    "start_time": "2022-01-20T17:33:54.749Z"
   },
   {
    "duration": 932,
    "start_time": "2022-01-20T17:34:46.307Z"
   },
   {
    "duration": 739,
    "start_time": "2022-01-20T17:35:16.077Z"
   },
   {
    "duration": 1159,
    "start_time": "2022-01-20T17:38:28.186Z"
   },
   {
    "duration": 77,
    "start_time": "2022-01-20T17:39:15.857Z"
   },
   {
    "duration": 964,
    "start_time": "2022-01-20T17:39:21.819Z"
   },
   {
    "duration": 19,
    "start_time": "2022-01-20T17:39:22.786Z"
   },
   {
    "duration": 16,
    "start_time": "2022-01-20T17:39:22.809Z"
   },
   {
    "duration": 8,
    "start_time": "2022-01-20T17:39:22.860Z"
   },
   {
    "duration": 18,
    "start_time": "2022-01-20T17:39:22.871Z"
   },
   {
    "duration": 14,
    "start_time": "2022-01-20T17:39:22.892Z"
   },
   {
    "duration": 10,
    "start_time": "2022-01-20T17:39:22.909Z"
   },
   {
    "duration": 12,
    "start_time": "2022-01-20T17:39:22.961Z"
   },
   {
    "duration": 22,
    "start_time": "2022-01-20T17:39:22.977Z"
   },
   {
    "duration": 76,
    "start_time": "2022-01-20T17:39:23.002Z"
   },
   {
    "duration": 25,
    "start_time": "2022-01-20T17:39:23.082Z"
   },
   {
    "duration": 74,
    "start_time": "2022-01-20T17:39:23.111Z"
   },
   {
    "duration": 25,
    "start_time": "2022-01-20T17:39:23.189Z"
   },
   {
    "duration": 1219,
    "start_time": "2022-01-20T17:39:23.218Z"
   },
   {
    "duration": 42,
    "start_time": "2022-01-20T17:39:24.440Z"
   },
   {
    "duration": 518,
    "start_time": "2022-01-20T17:39:24.485Z"
   },
   {
    "duration": 56,
    "start_time": "2022-01-20T17:39:25.007Z"
   },
   {
    "duration": 780,
    "start_time": "2022-01-20T17:39:25.066Z"
   },
   {
    "duration": 810,
    "start_time": "2022-01-20T17:41:21.212Z"
   },
   {
    "duration": 1014,
    "start_time": "2022-01-20T17:41:34.657Z"
   },
   {
    "duration": 22,
    "start_time": "2022-01-20T17:41:35.674Z"
   },
   {
    "duration": 13,
    "start_time": "2022-01-20T17:41:35.700Z"
   },
   {
    "duration": 46,
    "start_time": "2022-01-20T17:41:35.716Z"
   },
   {
    "duration": 14,
    "start_time": "2022-01-20T17:41:35.764Z"
   },
   {
    "duration": 15,
    "start_time": "2022-01-20T17:41:35.780Z"
   },
   {
    "duration": 12,
    "start_time": "2022-01-20T17:41:35.797Z"
   },
   {
    "duration": 12,
    "start_time": "2022-01-20T17:41:35.860Z"
   },
   {
    "duration": 11,
    "start_time": "2022-01-20T17:41:35.875Z"
   },
   {
    "duration": 94,
    "start_time": "2022-01-20T17:41:35.890Z"
   },
   {
    "duration": 23,
    "start_time": "2022-01-20T17:41:35.987Z"
   },
   {
    "duration": 52,
    "start_time": "2022-01-20T17:41:36.013Z"
   },
   {
    "duration": 25,
    "start_time": "2022-01-20T17:41:36.069Z"
   },
   {
    "duration": 939,
    "start_time": "2022-01-20T17:41:36.097Z"
   },
   {
    "duration": 38,
    "start_time": "2022-01-20T17:41:37.038Z"
   },
   {
    "duration": 641,
    "start_time": "2022-01-20T17:41:37.078Z"
   },
   {
    "duration": 45,
    "start_time": "2022-01-20T17:41:37.721Z"
   },
   {
    "duration": 771,
    "start_time": "2022-01-20T17:41:37.768Z"
   },
   {
    "duration": 3,
    "start_time": "2022-01-20T17:55:16.796Z"
   },
   {
    "duration": 957,
    "start_time": "2022-01-20T17:55:35.060Z"
   },
   {
    "duration": 39,
    "start_time": "2022-01-20T17:55:36.020Z"
   },
   {
    "duration": 20,
    "start_time": "2022-01-20T17:55:36.063Z"
   },
   {
    "duration": 9,
    "start_time": "2022-01-20T17:55:36.086Z"
   },
   {
    "duration": 28,
    "start_time": "2022-01-20T17:55:36.097Z"
   },
   {
    "duration": 21,
    "start_time": "2022-01-20T17:55:36.158Z"
   },
   {
    "duration": 15,
    "start_time": "2022-01-20T17:55:36.182Z"
   },
   {
    "duration": 23,
    "start_time": "2022-01-20T17:55:36.201Z"
   },
   {
    "duration": 11,
    "start_time": "2022-01-20T17:55:36.262Z"
   },
   {
    "duration": 84,
    "start_time": "2022-01-20T17:55:36.276Z"
   },
   {
    "duration": 23,
    "start_time": "2022-01-20T17:55:36.362Z"
   },
   {
    "duration": 28,
    "start_time": "2022-01-20T17:55:36.387Z"
   },
   {
    "duration": 54,
    "start_time": "2022-01-20T17:55:36.418Z"
   },
   {
    "duration": 821,
    "start_time": "2022-01-20T17:55:36.474Z"
   },
   {
    "duration": 25,
    "start_time": "2022-01-20T17:55:37.297Z"
   },
   {
    "duration": 535,
    "start_time": "2022-01-20T17:55:37.325Z"
   },
   {
    "duration": 34,
    "start_time": "2022-01-20T17:55:37.863Z"
   },
   {
    "duration": 791,
    "start_time": "2022-01-20T17:55:37.900Z"
   },
   {
    "duration": 27,
    "start_time": "2022-01-20T17:58:45.004Z"
   },
   {
    "duration": 623,
    "start_time": "2022-01-20T18:01:04.873Z"
   },
   {
    "duration": 33,
    "start_time": "2022-01-20T18:01:55.766Z"
   },
   {
    "duration": 33,
    "start_time": "2022-01-20T18:02:12.669Z"
   },
   {
    "duration": 1001,
    "start_time": "2022-01-20T18:05:30.429Z"
   },
   {
    "duration": 30,
    "start_time": "2022-01-20T18:08:07.675Z"
   },
   {
    "duration": 94,
    "start_time": "2022-01-20T18:19:57.030Z"
   },
   {
    "duration": 511,
    "start_time": "2022-01-20T18:23:39.333Z"
   },
   {
    "duration": 64,
    "start_time": "2022-01-20T18:24:02.262Z"
   },
   {
    "duration": 7475,
    "start_time": "2022-01-20T18:25:25.315Z"
   },
   {
    "duration": 16,
    "start_time": "2022-01-20T18:53:14.288Z"
   },
   {
    "duration": 21,
    "start_time": "2022-01-20T18:53:24.197Z"
   },
   {
    "duration": 580,
    "start_time": "2022-01-20T18:54:00.963Z"
   },
   {
    "duration": 25,
    "start_time": "2022-01-20T18:55:53.855Z"
   },
   {
    "duration": 336,
    "start_time": "2022-01-20T18:56:24.507Z"
   },
   {
    "duration": 313,
    "start_time": "2022-01-20T18:56:30.601Z"
   },
   {
    "duration": 325,
    "start_time": "2022-01-20T19:01:03.985Z"
   },
   {
    "duration": 185,
    "start_time": "2022-01-20T19:01:28.166Z"
   },
   {
    "duration": 201,
    "start_time": "2022-01-20T19:01:41.477Z"
   },
   {
    "duration": 269,
    "start_time": "2022-01-20T19:01:49.864Z"
   },
   {
    "duration": 21,
    "start_time": "2022-01-20T19:03:37.655Z"
   },
   {
    "duration": 432,
    "start_time": "2022-01-21T12:38:55.991Z"
   },
   {
    "duration": 748,
    "start_time": "2022-01-21T12:39:02.590Z"
   },
   {
    "duration": 16,
    "start_time": "2022-01-21T12:39:03.340Z"
   },
   {
    "duration": 20,
    "start_time": "2022-01-21T12:39:03.358Z"
   },
   {
    "duration": 4,
    "start_time": "2022-01-21T12:39:03.380Z"
   },
   {
    "duration": 7,
    "start_time": "2022-01-21T12:39:03.386Z"
   },
   {
    "duration": 10,
    "start_time": "2022-01-21T12:39:03.394Z"
   },
   {
    "duration": 6,
    "start_time": "2022-01-21T12:39:03.406Z"
   },
   {
    "duration": 8,
    "start_time": "2022-01-21T12:39:03.415Z"
   },
   {
    "duration": 48,
    "start_time": "2022-01-21T12:39:03.425Z"
   },
   {
    "duration": 30,
    "start_time": "2022-01-21T12:39:03.475Z"
   },
   {
    "duration": 18,
    "start_time": "2022-01-21T12:39:03.507Z"
   },
   {
    "duration": 46,
    "start_time": "2022-01-21T12:39:03.527Z"
   },
   {
    "duration": 13,
    "start_time": "2022-01-21T12:39:03.575Z"
   },
   {
    "duration": 489,
    "start_time": "2022-01-21T12:39:03.590Z"
   },
   {
    "duration": 21,
    "start_time": "2022-01-21T12:39:04.081Z"
   },
   {
    "duration": 408,
    "start_time": "2022-01-21T12:39:04.104Z"
   },
   {
    "duration": 21,
    "start_time": "2022-01-21T12:39:04.514Z"
   },
   {
    "duration": 643,
    "start_time": "2022-01-21T12:39:04.537Z"
   },
   {
    "duration": 4481,
    "start_time": "2022-01-21T12:39:05.181Z"
   },
   {
    "duration": 18,
    "start_time": "2022-01-21T12:39:09.664Z"
   },
   {
    "duration": 160,
    "start_time": "2022-01-21T12:39:09.684Z"
   },
   {
    "duration": 17,
    "start_time": "2022-01-21T12:39:39.218Z"
   },
   {
    "duration": 558,
    "start_time": "2022-01-21T12:39:48.043Z"
   },
   {
    "duration": 461,
    "start_time": "2022-01-21T12:44:32.526Z"
   },
   {
    "duration": 21,
    "start_time": "2022-01-21T12:44:46.360Z"
   },
   {
    "duration": 341,
    "start_time": "2022-01-21T12:45:10.273Z"
   },
   {
    "duration": 609,
    "start_time": "2022-01-21T12:45:45.287Z"
   },
   {
    "duration": 1154,
    "start_time": "2022-01-21T12:46:10.773Z"
   },
   {
    "duration": 4433,
    "start_time": "2022-01-21T12:47:49.915Z"
   },
   {
    "duration": 701,
    "start_time": "2022-01-21T12:48:37.941Z"
   },
   {
    "duration": 11,
    "start_time": "2022-01-21T12:48:38.644Z"
   },
   {
    "duration": 18,
    "start_time": "2022-01-21T12:48:38.657Z"
   },
   {
    "duration": 5,
    "start_time": "2022-01-21T12:48:38.677Z"
   },
   {
    "duration": 10,
    "start_time": "2022-01-21T12:48:38.684Z"
   },
   {
    "duration": 10,
    "start_time": "2022-01-21T12:48:38.696Z"
   },
   {
    "duration": 9,
    "start_time": "2022-01-21T12:48:38.708Z"
   },
   {
    "duration": 53,
    "start_time": "2022-01-21T12:48:38.720Z"
   },
   {
    "duration": 10,
    "start_time": "2022-01-21T12:48:38.775Z"
   },
   {
    "duration": 29,
    "start_time": "2022-01-21T12:48:38.786Z"
   },
   {
    "duration": 13,
    "start_time": "2022-01-21T12:48:38.816Z"
   },
   {
    "duration": 53,
    "start_time": "2022-01-21T12:48:38.830Z"
   },
   {
    "duration": 13,
    "start_time": "2022-01-21T12:48:38.885Z"
   },
   {
    "duration": 492,
    "start_time": "2022-01-21T12:48:38.899Z"
   },
   {
    "duration": 15,
    "start_time": "2022-01-21T12:48:39.393Z"
   },
   {
    "duration": 363,
    "start_time": "2022-01-21T12:48:39.409Z"
   },
   {
    "duration": 18,
    "start_time": "2022-01-21T12:48:39.774Z"
   },
   {
    "duration": 355,
    "start_time": "2022-01-21T12:48:39.793Z"
   },
   {
    "duration": 487,
    "start_time": "2022-01-21T12:48:40.150Z"
   },
   {
    "duration": 4141,
    "start_time": "2022-01-21T12:48:40.639Z"
   },
   {
    "duration": 14,
    "start_time": "2022-01-21T12:48:44.781Z"
   },
   {
    "duration": 31939,
    "start_time": "2022-01-21T12:48:44.797Z"
   },
   {
    "duration": 35,
    "start_time": "2022-01-21T12:49:16.739Z"
   },
   {
    "duration": 132,
    "start_time": "2022-01-21T12:49:22.634Z"
   },
   {
    "duration": 3211,
    "start_time": "2022-01-21T12:50:23.419Z"
   },
   {
    "duration": 403,
    "start_time": "2022-01-21T12:57:45.866Z"
   },
   {
    "duration": 492,
    "start_time": "2022-01-21T12:58:18.072Z"
   },
   {
    "duration": 717,
    "start_time": "2022-01-21T12:59:42.661Z"
   },
   {
    "duration": 11,
    "start_time": "2022-01-21T12:59:43.380Z"
   },
   {
    "duration": 7,
    "start_time": "2022-01-21T12:59:43.393Z"
   },
   {
    "duration": 4,
    "start_time": "2022-01-21T12:59:43.402Z"
   },
   {
    "duration": 9,
    "start_time": "2022-01-21T12:59:43.408Z"
   },
   {
    "duration": 8,
    "start_time": "2022-01-21T12:59:43.418Z"
   },
   {
    "duration": 7,
    "start_time": "2022-01-21T12:59:43.427Z"
   },
   {
    "duration": 8,
    "start_time": "2022-01-21T12:59:43.473Z"
   },
   {
    "duration": 7,
    "start_time": "2022-01-21T12:59:43.483Z"
   },
   {
    "duration": 28,
    "start_time": "2022-01-21T12:59:43.491Z"
   },
   {
    "duration": 13,
    "start_time": "2022-01-21T12:59:43.521Z"
   },
   {
    "duration": 53,
    "start_time": "2022-01-21T12:59:43.535Z"
   },
   {
    "duration": 11,
    "start_time": "2022-01-21T12:59:43.590Z"
   },
   {
    "duration": 482,
    "start_time": "2022-01-21T12:59:43.603Z"
   },
   {
    "duration": 14,
    "start_time": "2022-01-21T12:59:44.087Z"
   },
   {
    "duration": 341,
    "start_time": "2022-01-21T12:59:44.102Z"
   },
   {
    "duration": 28,
    "start_time": "2022-01-21T12:59:44.445Z"
   },
   {
    "duration": 351,
    "start_time": "2022-01-21T12:59:44.475Z"
   },
   {
    "duration": 488,
    "start_time": "2022-01-21T12:59:44.828Z"
   },
   {
    "duration": 557,
    "start_time": "2022-01-21T12:59:45.318Z"
   },
   {
    "duration": -27788,
    "start_time": "2022-01-21T13:00:13.665Z"
   },
   {
    "duration": -27791,
    "start_time": "2022-01-21T13:00:13.670Z"
   },
   {
    "duration": -27798,
    "start_time": "2022-01-21T13:00:13.678Z"
   },
   {
    "duration": 16,
    "start_time": "2022-01-21T13:02:31.190Z"
   },
   {
    "duration": 138,
    "start_time": "2022-01-21T13:02:34.800Z"
   },
   {
    "duration": 2155,
    "start_time": "2022-01-21T13:03:23.045Z"
   },
   {
    "duration": 653,
    "start_time": "2022-01-21T13:04:02.755Z"
   },
   {
    "duration": 732,
    "start_time": "2022-01-21T13:04:50.247Z"
   },
   {
    "duration": 13,
    "start_time": "2022-01-21T13:04:50.981Z"
   },
   {
    "duration": 18,
    "start_time": "2022-01-21T13:04:50.999Z"
   },
   {
    "duration": 15,
    "start_time": "2022-01-21T13:04:51.019Z"
   },
   {
    "duration": 16,
    "start_time": "2022-01-21T13:04:51.036Z"
   },
   {
    "duration": 17,
    "start_time": "2022-01-21T13:04:51.054Z"
   },
   {
    "duration": 7,
    "start_time": "2022-01-21T13:04:51.074Z"
   },
   {
    "duration": 9,
    "start_time": "2022-01-21T13:04:51.083Z"
   },
   {
    "duration": 17,
    "start_time": "2022-01-21T13:04:51.094Z"
   },
   {
    "duration": 37,
    "start_time": "2022-01-21T13:04:51.113Z"
   },
   {
    "duration": 18,
    "start_time": "2022-01-21T13:04:51.172Z"
   },
   {
    "duration": 20,
    "start_time": "2022-01-21T13:04:51.192Z"
   },
   {
    "duration": 15,
    "start_time": "2022-01-21T13:04:51.214Z"
   },
   {
    "duration": 545,
    "start_time": "2022-01-21T13:04:51.231Z"
   },
   {
    "duration": 22,
    "start_time": "2022-01-21T13:04:51.778Z"
   },
   {
    "duration": 425,
    "start_time": "2022-01-21T13:04:51.802Z"
   },
   {
    "duration": 18,
    "start_time": "2022-01-21T13:04:52.229Z"
   },
   {
    "duration": 412,
    "start_time": "2022-01-21T13:04:52.249Z"
   },
   {
    "duration": 521,
    "start_time": "2022-01-21T13:04:52.662Z"
   },
   {
    "duration": 321,
    "start_time": "2022-01-21T13:04:53.185Z"
   },
   {
    "duration": -27770,
    "start_time": "2022-01-21T13:05:21.278Z"
   },
   {
    "duration": -27777,
    "start_time": "2022-01-21T13:05:21.287Z"
   },
   {
    "duration": -27783,
    "start_time": "2022-01-21T13:05:21.294Z"
   },
   {
    "duration": 31,
    "start_time": "2022-01-21T13:06:41.131Z"
   },
   {
    "duration": 259,
    "start_time": "2022-01-21T13:06:58.146Z"
   },
   {
    "duration": 42,
    "start_time": "2022-01-21T13:07:08.059Z"
   },
   {
    "duration": 12,
    "start_time": "2022-01-21T13:07:16.822Z"
   },
   {
    "duration": 13,
    "start_time": "2022-01-21T13:07:48.669Z"
   },
   {
    "duration": 18,
    "start_time": "2022-01-21T13:08:43.418Z"
   },
   {
    "duration": 13,
    "start_time": "2022-01-21T13:08:55.617Z"
   },
   {
    "duration": 16,
    "start_time": "2022-01-21T13:09:37.836Z"
   },
   {
    "duration": 14,
    "start_time": "2022-01-21T13:09:52.153Z"
   },
   {
    "duration": 146,
    "start_time": "2022-01-21T13:09:55.259Z"
   },
   {
    "duration": 251,
    "start_time": "2022-01-21T13:12:27.263Z"
   },
   {
    "duration": 265,
    "start_time": "2022-01-21T13:12:48.060Z"
   },
   {
    "duration": 734,
    "start_time": "2022-01-21T13:13:03.754Z"
   },
   {
    "duration": 13,
    "start_time": "2022-01-21T13:13:04.490Z"
   },
   {
    "duration": 24,
    "start_time": "2022-01-21T13:13:04.505Z"
   },
   {
    "duration": 12,
    "start_time": "2022-01-21T13:13:04.531Z"
   },
   {
    "duration": 26,
    "start_time": "2022-01-21T13:13:04.545Z"
   },
   {
    "duration": 14,
    "start_time": "2022-01-21T13:13:04.573Z"
   },
   {
    "duration": 11,
    "start_time": "2022-01-21T13:13:04.589Z"
   },
   {
    "duration": 24,
    "start_time": "2022-01-21T13:13:04.603Z"
   },
   {
    "duration": 21,
    "start_time": "2022-01-21T13:13:04.629Z"
   },
   {
    "duration": 39,
    "start_time": "2022-01-21T13:13:04.652Z"
   },
   {
    "duration": 15,
    "start_time": "2022-01-21T13:13:04.693Z"
   },
   {
    "duration": 19,
    "start_time": "2022-01-21T13:13:04.710Z"
   },
   {
    "duration": 20,
    "start_time": "2022-01-21T13:13:04.731Z"
   },
   {
    "duration": 483,
    "start_time": "2022-01-21T13:13:04.772Z"
   },
   {
    "duration": 24,
    "start_time": "2022-01-21T13:13:05.257Z"
   },
   {
    "duration": 367,
    "start_time": "2022-01-21T13:13:05.283Z"
   },
   {
    "duration": 34,
    "start_time": "2022-01-21T13:13:05.652Z"
   },
   {
    "duration": 378,
    "start_time": "2022-01-21T13:13:05.688Z"
   },
   {
    "duration": 476,
    "start_time": "2022-01-21T13:13:06.072Z"
   },
   {
    "duration": 47,
    "start_time": "2022-01-21T13:13:06.550Z"
   },
   {
    "duration": 13,
    "start_time": "2022-01-21T13:13:06.599Z"
   },
   {
    "duration": 159,
    "start_time": "2022-01-21T13:13:06.613Z"
   },
   {
    "duration": 332,
    "start_time": "2022-01-21T13:13:06.775Z"
   },
   {
    "duration": -27764,
    "start_time": "2022-01-21T13:13:34.873Z"
   },
   {
    "duration": -27778,
    "start_time": "2022-01-21T13:13:34.888Z"
   },
   {
    "duration": 7,
    "start_time": "2022-01-21T13:13:39.815Z"
   },
   {
    "duration": 9,
    "start_time": "2022-01-21T13:15:00.325Z"
   },
   {
    "duration": 12,
    "start_time": "2022-01-21T13:15:12.685Z"
   },
   {
    "duration": 146,
    "start_time": "2022-01-21T13:15:25.293Z"
   },
   {
    "duration": 7,
    "start_time": "2022-01-21T13:15:39.977Z"
   },
   {
    "duration": 728,
    "start_time": "2022-01-21T13:15:48.379Z"
   },
   {
    "duration": 12,
    "start_time": "2022-01-21T13:15:49.109Z"
   },
   {
    "duration": 8,
    "start_time": "2022-01-21T13:15:49.123Z"
   },
   {
    "duration": 5,
    "start_time": "2022-01-21T13:15:49.133Z"
   },
   {
    "duration": 39,
    "start_time": "2022-01-21T13:15:49.140Z"
   },
   {
    "duration": 10,
    "start_time": "2022-01-21T13:15:49.180Z"
   },
   {
    "duration": 8,
    "start_time": "2022-01-21T13:15:49.191Z"
   },
   {
    "duration": 8,
    "start_time": "2022-01-21T13:15:49.202Z"
   },
   {
    "duration": 7,
    "start_time": "2022-01-21T13:15:49.212Z"
   },
   {
    "duration": 70,
    "start_time": "2022-01-21T13:15:49.221Z"
   },
   {
    "duration": 14,
    "start_time": "2022-01-21T13:15:49.293Z"
   },
   {
    "duration": 19,
    "start_time": "2022-01-21T13:15:49.308Z"
   },
   {
    "duration": 43,
    "start_time": "2022-01-21T13:15:49.329Z"
   },
   {
    "duration": 487,
    "start_time": "2022-01-21T13:15:49.374Z"
   },
   {
    "duration": 21,
    "start_time": "2022-01-21T13:15:49.863Z"
   },
   {
    "duration": 346,
    "start_time": "2022-01-21T13:15:49.886Z"
   },
   {
    "duration": 16,
    "start_time": "2022-01-21T13:15:50.234Z"
   },
   {
    "duration": 406,
    "start_time": "2022-01-21T13:15:50.252Z"
   },
   {
    "duration": 488,
    "start_time": "2022-01-21T13:15:50.660Z"
   },
   {
    "duration": 49,
    "start_time": "2022-01-21T13:15:51.150Z"
   },
   {
    "duration": 14,
    "start_time": "2022-01-21T13:15:51.200Z"
   },
   {
    "duration": 166,
    "start_time": "2022-01-21T13:15:51.216Z"
   },
   {
    "duration": 22,
    "start_time": "2022-01-21T13:15:51.386Z"
   },
   {
    "duration": 20,
    "start_time": "2022-01-21T13:15:51.410Z"
   },
   {
    "duration": 49,
    "start_time": "2022-01-21T13:15:51.432Z"
   },
   {
    "duration": 15,
    "start_time": "2022-01-21T13:15:51.483Z"
   },
   {
    "duration": 341,
    "start_time": "2022-01-21T13:16:05.007Z"
   },
   {
    "duration": 34,
    "start_time": "2022-01-21T13:16:11.410Z"
   },
   {
    "duration": 20,
    "start_time": "2022-01-21T13:16:19.986Z"
   },
   {
    "duration": 13,
    "start_time": "2022-01-21T13:16:52.371Z"
   },
   {
    "duration": 15,
    "start_time": "2022-01-21T13:17:02.434Z"
   },
   {
    "duration": 15,
    "start_time": "2022-01-21T13:17:09.855Z"
   },
   {
    "duration": 14,
    "start_time": "2022-01-21T13:17:48.613Z"
   },
   {
    "duration": 13,
    "start_time": "2022-01-21T13:18:15.758Z"
   },
   {
    "duration": 338,
    "start_time": "2022-01-21T13:33:24.570Z"
   },
   {
    "duration": 289,
    "start_time": "2022-01-21T13:33:56.546Z"
   },
   {
    "duration": 287,
    "start_time": "2022-01-21T13:34:01.535Z"
   },
   {
    "duration": 348,
    "start_time": "2022-01-21T13:34:09.007Z"
   },
   {
    "duration": 288,
    "start_time": "2022-01-21T13:34:13.823Z"
   },
   {
    "duration": 275,
    "start_time": "2022-01-21T13:34:28.701Z"
   },
   {
    "duration": 282,
    "start_time": "2022-01-21T13:34:44.557Z"
   },
   {
    "duration": 311,
    "start_time": "2022-01-21T13:46:32.155Z"
   },
   {
    "duration": 19,
    "start_time": "2022-01-21T13:46:54.727Z"
   },
   {
    "duration": 898,
    "start_time": "2022-01-21T13:47:14.829Z"
   },
   {
    "duration": 12,
    "start_time": "2022-01-21T13:47:15.728Z"
   },
   {
    "duration": 8,
    "start_time": "2022-01-21T13:47:15.742Z"
   },
   {
    "duration": 22,
    "start_time": "2022-01-21T13:47:15.752Z"
   },
   {
    "duration": 9,
    "start_time": "2022-01-21T13:47:15.775Z"
   },
   {
    "duration": 9,
    "start_time": "2022-01-21T13:47:15.786Z"
   },
   {
    "duration": 8,
    "start_time": "2022-01-21T13:47:15.796Z"
   },
   {
    "duration": 8,
    "start_time": "2022-01-21T13:47:15.807Z"
   },
   {
    "duration": 7,
    "start_time": "2022-01-21T13:47:15.817Z"
   },
   {
    "duration": 34,
    "start_time": "2022-01-21T13:47:15.872Z"
   },
   {
    "duration": 15,
    "start_time": "2022-01-21T13:47:15.908Z"
   },
   {
    "duration": 48,
    "start_time": "2022-01-21T13:47:15.925Z"
   },
   {
    "duration": 13,
    "start_time": "2022-01-21T13:47:15.974Z"
   },
   {
    "duration": 513,
    "start_time": "2022-01-21T13:47:15.989Z"
   },
   {
    "duration": 14,
    "start_time": "2022-01-21T13:47:16.504Z"
   },
   {
    "duration": 358,
    "start_time": "2022-01-21T13:47:16.520Z"
   },
   {
    "duration": 16,
    "start_time": "2022-01-21T13:47:16.879Z"
   },
   {
    "duration": 382,
    "start_time": "2022-01-21T13:47:16.897Z"
   },
   {
    "duration": 515,
    "start_time": "2022-01-21T13:47:17.282Z"
   },
   {
    "duration": 32,
    "start_time": "2022-01-21T13:47:17.800Z"
   },
   {
    "duration": 42,
    "start_time": "2022-01-21T13:47:17.834Z"
   },
   {
    "duration": 154,
    "start_time": "2022-01-21T13:47:17.877Z"
   },
   {
    "duration": 14,
    "start_time": "2022-01-21T13:47:18.034Z"
   },
   {
    "duration": 34,
    "start_time": "2022-01-21T13:47:18.049Z"
   },
   {
    "duration": 12,
    "start_time": "2022-01-21T13:47:18.084Z"
   },
   {
    "duration": 11,
    "start_time": "2022-01-21T13:47:18.097Z"
   },
   {
    "duration": 10,
    "start_time": "2022-01-21T13:47:18.110Z"
   },
   {
    "duration": 13,
    "start_time": "2022-01-21T13:47:18.122Z"
   },
   {
    "duration": 301,
    "start_time": "2022-01-21T13:47:18.172Z"
   },
   {
    "duration": 307,
    "start_time": "2022-01-21T13:47:18.474Z"
   },
   {
    "duration": 309,
    "start_time": "2022-01-21T13:47:18.783Z"
   },
   {
    "duration": 19,
    "start_time": "2022-01-21T13:47:19.094Z"
   },
   {
    "duration": 393,
    "start_time": "2022-01-21T13:47:19.114Z"
   },
   {
    "duration": -27763,
    "start_time": "2022-01-21T13:47:47.272Z"
   },
   {
    "duration": 26,
    "start_time": "2022-01-21T13:47:35.582Z"
   },
   {
    "duration": 32,
    "start_time": "2022-01-21T13:48:05.009Z"
   },
   {
    "duration": 11,
    "start_time": "2022-01-21T13:48:12.031Z"
   },
   {
    "duration": 261,
    "start_time": "2022-01-21T14:36:45.831Z"
   },
   {
    "duration": 1071,
    "start_time": "2022-01-21T14:37:28.836Z"
   },
   {
    "duration": 11,
    "start_time": "2022-01-21T14:37:29.908Z"
   },
   {
    "duration": 22,
    "start_time": "2022-01-21T14:37:29.921Z"
   },
   {
    "duration": 9,
    "start_time": "2022-01-21T14:37:29.944Z"
   },
   {
    "duration": 23,
    "start_time": "2022-01-21T14:37:29.954Z"
   },
   {
    "duration": 9,
    "start_time": "2022-01-21T14:37:29.978Z"
   },
   {
    "duration": 12,
    "start_time": "2022-01-21T14:37:29.988Z"
   },
   {
    "duration": 16,
    "start_time": "2022-01-21T14:37:30.003Z"
   },
   {
    "duration": 7,
    "start_time": "2022-01-21T14:37:30.021Z"
   },
   {
    "duration": 50,
    "start_time": "2022-01-21T14:37:30.030Z"
   },
   {
    "duration": 13,
    "start_time": "2022-01-21T14:37:30.082Z"
   },
   {
    "duration": 20,
    "start_time": "2022-01-21T14:37:30.096Z"
   },
   {
    "duration": 13,
    "start_time": "2022-01-21T14:37:30.117Z"
   },
   {
    "duration": 517,
    "start_time": "2022-01-21T14:37:30.131Z"
   },
   {
    "duration": 25,
    "start_time": "2022-01-21T14:37:30.649Z"
   },
   {
    "duration": 355,
    "start_time": "2022-01-21T14:37:30.676Z"
   },
   {
    "duration": 17,
    "start_time": "2022-01-21T14:37:31.033Z"
   },
   {
    "duration": 346,
    "start_time": "2022-01-21T14:37:31.051Z"
   },
   {
    "duration": 486,
    "start_time": "2022-01-21T14:37:31.399Z"
   },
   {
    "duration": 31,
    "start_time": "2022-01-21T14:37:31.886Z"
   },
   {
    "duration": 12,
    "start_time": "2022-01-21T14:37:31.918Z"
   },
   {
    "duration": 170,
    "start_time": "2022-01-21T14:37:31.931Z"
   },
   {
    "duration": 14,
    "start_time": "2022-01-21T14:37:32.104Z"
   },
   {
    "duration": 43,
    "start_time": "2022-01-21T14:37:32.119Z"
   },
   {
    "duration": 25,
    "start_time": "2022-01-21T14:37:32.163Z"
   },
   {
    "duration": 31,
    "start_time": "2022-01-21T14:37:32.190Z"
   },
   {
    "duration": 22,
    "start_time": "2022-01-21T14:37:32.222Z"
   },
   {
    "duration": 21,
    "start_time": "2022-01-21T14:37:32.245Z"
   },
   {
    "duration": 358,
    "start_time": "2022-01-21T14:37:32.267Z"
   },
   {
    "duration": 330,
    "start_time": "2022-01-21T14:37:32.626Z"
   },
   {
    "duration": 301,
    "start_time": "2022-01-21T14:37:32.958Z"
   },
   {
    "duration": 11,
    "start_time": "2022-01-21T14:37:33.261Z"
   },
   {
    "duration": 22,
    "start_time": "2022-01-21T14:37:33.274Z"
   },
   {
    "duration": 1668,
    "start_time": "2022-01-24T12:24:29.494Z"
   },
   {
    "duration": 21,
    "start_time": "2022-01-24T12:24:31.165Z"
   },
   {
    "duration": 42,
    "start_time": "2022-01-24T12:24:31.190Z"
   },
   {
    "duration": 28,
    "start_time": "2022-01-24T12:24:31.235Z"
   },
   {
    "duration": 51,
    "start_time": "2022-01-24T12:24:31.266Z"
   },
   {
    "duration": 40,
    "start_time": "2022-01-24T12:24:31.319Z"
   },
   {
    "duration": 34,
    "start_time": "2022-01-24T12:24:31.362Z"
   },
   {
    "duration": 23,
    "start_time": "2022-01-24T12:24:31.401Z"
   },
   {
    "duration": 27,
    "start_time": "2022-01-24T12:24:31.427Z"
   },
   {
    "duration": 64,
    "start_time": "2022-01-24T12:24:31.456Z"
   },
   {
    "duration": 22,
    "start_time": "2022-01-24T12:24:31.522Z"
   },
   {
    "duration": 45,
    "start_time": "2022-01-24T12:24:31.547Z"
   },
   {
    "duration": 55,
    "start_time": "2022-01-24T12:24:31.594Z"
   },
   {
    "duration": 1138,
    "start_time": "2022-01-24T12:24:31.652Z"
   },
   {
    "duration": 38,
    "start_time": "2022-01-24T12:24:32.794Z"
   },
   {
    "duration": 779,
    "start_time": "2022-01-24T12:24:32.835Z"
   },
   {
    "duration": 28,
    "start_time": "2022-01-24T12:24:33.616Z"
   },
   {
    "duration": 588,
    "start_time": "2022-01-24T12:24:33.665Z"
   },
   {
    "duration": 853,
    "start_time": "2022-01-24T12:24:34.255Z"
   },
   {
    "duration": 76,
    "start_time": "2022-01-24T12:24:35.111Z"
   },
   {
    "duration": 21,
    "start_time": "2022-01-24T12:24:35.190Z"
   },
   {
    "duration": 270,
    "start_time": "2022-01-24T12:24:35.213Z"
   },
   {
    "duration": 31,
    "start_time": "2022-01-24T12:24:35.491Z"
   },
   {
    "duration": 54,
    "start_time": "2022-01-24T12:24:35.526Z"
   },
   {
    "duration": 23,
    "start_time": "2022-01-24T12:24:35.583Z"
   },
   {
    "duration": 21,
    "start_time": "2022-01-24T12:24:35.609Z"
   },
   {
    "duration": 50,
    "start_time": "2022-01-24T12:24:35.632Z"
   },
   {
    "duration": 23,
    "start_time": "2022-01-24T12:24:35.686Z"
   },
   {
    "duration": 624,
    "start_time": "2022-01-24T12:24:35.712Z"
   },
   {
    "duration": 534,
    "start_time": "2022-01-24T12:24:36.338Z"
   },
   {
    "duration": 540,
    "start_time": "2022-01-24T12:24:36.874Z"
   },
   {
    "duration": 11,
    "start_time": "2022-01-24T12:24:37.416Z"
   },
   {
    "duration": 21,
    "start_time": "2022-01-24T12:24:37.429Z"
   },
   {
    "duration": 6,
    "start_time": "2022-01-24T12:39:07.968Z"
   },
   {
    "duration": 34,
    "start_time": "2022-01-24T12:51:29.108Z"
   },
   {
    "duration": 40,
    "start_time": "2022-01-24T12:51:46.740Z"
   },
   {
    "duration": 10,
    "start_time": "2022-01-24T12:51:51.128Z"
   },
   {
    "duration": 365,
    "start_time": "2022-01-24T12:53:55.636Z"
   },
   {
    "duration": 13,
    "start_time": "2022-01-24T12:54:05.772Z"
   },
   {
    "duration": 8,
    "start_time": "2022-01-24T12:54:13.022Z"
   },
   {
    "duration": 6,
    "start_time": "2022-01-24T12:55:16.415Z"
   },
   {
    "duration": 289,
    "start_time": "2022-01-24T13:06:29.593Z"
   },
   {
    "duration": 51,
    "start_time": "2022-01-24T13:06:36.776Z"
   },
   {
    "duration": 21,
    "start_time": "2022-01-24T13:21:55.937Z"
   },
   {
    "duration": 21,
    "start_time": "2022-01-24T13:22:00.845Z"
   },
   {
    "duration": 6349,
    "start_time": "2022-01-24T15:15:42.264Z"
   },
   {
    "duration": 258,
    "start_time": "2022-01-24T15:29:38.233Z"
   },
   {
    "duration": 13,
    "start_time": "2022-01-24T15:30:46.064Z"
   },
   {
    "duration": 1743,
    "start_time": "2022-01-24T15:31:29.529Z"
   },
   {
    "duration": 29,
    "start_time": "2022-01-24T15:31:31.275Z"
   },
   {
    "duration": 24,
    "start_time": "2022-01-24T15:31:31.309Z"
   },
   {
    "duration": 30,
    "start_time": "2022-01-24T15:31:31.336Z"
   },
   {
    "duration": 26,
    "start_time": "2022-01-24T15:31:31.369Z"
   },
   {
    "duration": 25,
    "start_time": "2022-01-24T15:31:31.398Z"
   },
   {
    "duration": 9,
    "start_time": "2022-01-24T15:31:31.426Z"
   },
   {
    "duration": 12,
    "start_time": "2022-01-24T15:31:31.463Z"
   },
   {
    "duration": 15,
    "start_time": "2022-01-24T15:31:31.478Z"
   },
   {
    "duration": 73,
    "start_time": "2022-01-24T15:31:31.495Z"
   },
   {
    "duration": 21,
    "start_time": "2022-01-24T15:31:31.571Z"
   },
   {
    "duration": 36,
    "start_time": "2022-01-24T15:31:31.595Z"
   },
   {
    "duration": 46,
    "start_time": "2022-01-24T15:31:31.634Z"
   },
   {
    "duration": 828,
    "start_time": "2022-01-24T15:31:31.682Z"
   },
   {
    "duration": 24,
    "start_time": "2022-01-24T15:31:32.512Z"
   },
   {
    "duration": 622,
    "start_time": "2022-01-24T15:31:32.538Z"
   },
   {
    "duration": 26,
    "start_time": "2022-01-24T15:31:33.165Z"
   },
   {
    "duration": 574,
    "start_time": "2022-01-24T15:31:33.194Z"
   },
   {
    "duration": 858,
    "start_time": "2022-01-24T15:31:33.770Z"
   },
   {
    "duration": 5098,
    "start_time": "2022-01-24T15:31:34.631Z"
   },
   {
    "duration": 41,
    "start_time": "2022-01-24T15:31:39.732Z"
   },
   {
    "duration": 237,
    "start_time": "2022-01-24T15:31:39.776Z"
   },
   {
    "duration": 20,
    "start_time": "2022-01-24T15:31:40.018Z"
   },
   {
    "duration": 41,
    "start_time": "2022-01-24T15:31:40.041Z"
   },
   {
    "duration": 22,
    "start_time": "2022-01-24T15:31:40.085Z"
   },
   {
    "duration": 57,
    "start_time": "2022-01-24T15:31:40.110Z"
   },
   {
    "duration": 22,
    "start_time": "2022-01-24T15:31:40.170Z"
   },
   {
    "duration": 176,
    "start_time": "2022-01-24T15:31:40.196Z"
   },
   {
    "duration": 543,
    "start_time": "2022-01-24T15:31:40.375Z"
   },
   {
    "duration": 549,
    "start_time": "2022-01-24T15:31:40.921Z"
   },
   {
    "duration": 570,
    "start_time": "2022-01-24T15:31:41.472Z"
   },
   {
    "duration": 29,
    "start_time": "2022-01-24T15:31:42.044Z"
   },
   {
    "duration": 17,
    "start_time": "2022-01-24T15:31:42.076Z"
   },
   {
    "duration": 14,
    "start_time": "2022-01-24T15:31:42.095Z"
   },
   {
    "duration": 8,
    "start_time": "2022-01-24T15:31:42.112Z"
   },
   {
    "duration": 17,
    "start_time": "2022-01-24T15:31:42.164Z"
   },
   {
    "duration": 12,
    "start_time": "2022-01-24T15:31:42.185Z"
   },
   {
    "duration": 24,
    "start_time": "2022-01-24T15:31:42.200Z"
   },
   {
    "duration": 8,
    "start_time": "2022-01-24T15:32:39.202Z"
   },
   {
    "duration": 7,
    "start_time": "2022-01-24T15:32:48.662Z"
   },
   {
    "duration": 7,
    "start_time": "2022-01-24T15:32:50.386Z"
   },
   {
    "duration": 8,
    "start_time": "2022-01-24T15:32:55.809Z"
   },
   {
    "duration": 351,
    "start_time": "2022-01-24T15:36:05.002Z"
   },
   {
    "duration": 342,
    "start_time": "2022-01-24T15:36:13.694Z"
   },
   {
    "duration": 355,
    "start_time": "2022-01-24T15:36:20.844Z"
   },
   {
    "duration": 346,
    "start_time": "2022-01-24T15:36:37.828Z"
   },
   {
    "duration": 348,
    "start_time": "2022-01-24T15:36:42.756Z"
   },
   {
    "duration": 435,
    "start_time": "2022-01-24T15:36:47.732Z"
   },
   {
    "duration": 9,
    "start_time": "2022-01-24T16:35:22.988Z"
   },
   {
    "duration": 9,
    "start_time": "2022-01-24T16:35:27.045Z"
   },
   {
    "duration": 8,
    "start_time": "2022-01-24T16:35:33.642Z"
   },
   {
    "duration": 1464,
    "start_time": "2022-01-24T16:39:45.642Z"
   },
   {
    "duration": 21,
    "start_time": "2022-01-24T16:39:47.108Z"
   },
   {
    "duration": 38,
    "start_time": "2022-01-24T16:39:47.132Z"
   },
   {
    "duration": 7,
    "start_time": "2022-01-24T16:39:47.173Z"
   },
   {
    "duration": 14,
    "start_time": "2022-01-24T16:39:47.183Z"
   },
   {
    "duration": 21,
    "start_time": "2022-01-24T16:39:47.199Z"
   },
   {
    "duration": 50,
    "start_time": "2022-01-24T16:39:47.223Z"
   },
   {
    "duration": 12,
    "start_time": "2022-01-24T16:39:47.278Z"
   },
   {
    "duration": 18,
    "start_time": "2022-01-24T16:39:47.294Z"
   },
   {
    "duration": 94,
    "start_time": "2022-01-24T16:39:47.315Z"
   },
   {
    "duration": 22,
    "start_time": "2022-01-24T16:39:47.412Z"
   },
   {
    "duration": 48,
    "start_time": "2022-01-24T16:39:47.437Z"
   },
   {
    "duration": 25,
    "start_time": "2022-01-24T16:39:47.488Z"
   },
   {
    "duration": 885,
    "start_time": "2022-01-24T16:39:47.516Z"
   },
   {
    "duration": 28,
    "start_time": "2022-01-24T16:39:48.404Z"
   },
   {
    "duration": 729,
    "start_time": "2022-01-24T16:39:48.435Z"
   },
   {
    "duration": 26,
    "start_time": "2022-01-24T16:39:49.167Z"
   },
   {
    "duration": 597,
    "start_time": "2022-01-24T16:39:49.196Z"
   },
   {
    "duration": 862,
    "start_time": "2022-01-24T16:39:49.796Z"
   },
   {
    "duration": 4927,
    "start_time": "2022-01-24T16:39:50.664Z"
   },
   {
    "duration": 20,
    "start_time": "2022-01-24T16:39:55.594Z"
   },
   {
    "duration": 257,
    "start_time": "2022-01-24T16:39:55.616Z"
   },
   {
    "duration": 23,
    "start_time": "2022-01-24T16:39:55.880Z"
   },
   {
    "duration": 58,
    "start_time": "2022-01-24T16:39:55.908Z"
   },
   {
    "duration": 21,
    "start_time": "2022-01-24T16:39:55.969Z"
   },
   {
    "duration": 23,
    "start_time": "2022-01-24T16:39:55.993Z"
   },
   {
    "duration": 62,
    "start_time": "2022-01-24T16:39:56.019Z"
   },
   {
    "duration": 156,
    "start_time": "2022-01-24T16:39:56.084Z"
   },
   {
    "duration": 367,
    "start_time": "2022-01-24T16:39:56.243Z"
   },
   {
    "duration": 377,
    "start_time": "2022-01-24T16:39:56.613Z"
   },
   {
    "duration": 376,
    "start_time": "2022-01-24T16:39:56.992Z"
   },
   {
    "duration": 3,
    "start_time": "2022-01-24T16:39:57.371Z"
   },
   {
    "duration": 18,
    "start_time": "2022-01-24T16:39:57.377Z"
   },
   {
    "duration": 10,
    "start_time": "2022-01-24T16:39:57.397Z"
   },
   {
    "duration": 56,
    "start_time": "2022-01-24T16:39:57.410Z"
   },
   {
    "duration": 13,
    "start_time": "2022-01-24T16:39:57.469Z"
   },
   {
    "duration": 8,
    "start_time": "2022-01-24T16:39:57.484Z"
   },
   {
    "duration": 11,
    "start_time": "2022-01-24T16:39:57.494Z"
   },
   {
    "duration": 1622,
    "start_time": "2022-01-24T17:23:00.199Z"
   },
   {
    "duration": 20,
    "start_time": "2022-01-24T17:23:01.824Z"
   },
   {
    "duration": 12,
    "start_time": "2022-01-24T17:23:01.864Z"
   },
   {
    "duration": 8,
    "start_time": "2022-01-24T17:23:01.880Z"
   },
   {
    "duration": 21,
    "start_time": "2022-01-24T17:23:01.890Z"
   },
   {
    "duration": 58,
    "start_time": "2022-01-24T17:23:01.914Z"
   },
   {
    "duration": 11,
    "start_time": "2022-01-24T17:23:01.975Z"
   },
   {
    "duration": 12,
    "start_time": "2022-01-24T17:23:01.990Z"
   },
   {
    "duration": 66,
    "start_time": "2022-01-24T17:23:02.005Z"
   },
   {
    "duration": 53,
    "start_time": "2022-01-24T17:23:02.073Z"
   },
   {
    "duration": 50,
    "start_time": "2022-01-24T17:23:02.129Z"
   },
   {
    "duration": 37,
    "start_time": "2022-01-24T17:23:02.182Z"
   },
   {
    "duration": 47,
    "start_time": "2022-01-24T17:23:02.222Z"
   },
   {
    "duration": 863,
    "start_time": "2022-01-24T17:23:02.272Z"
   },
   {
    "duration": 39,
    "start_time": "2022-01-24T17:23:03.138Z"
   },
   {
    "duration": 577,
    "start_time": "2022-01-24T17:23:03.180Z"
   },
   {
    "duration": 26,
    "start_time": "2022-01-24T17:23:03.764Z"
   },
   {
    "duration": 587,
    "start_time": "2022-01-24T17:23:03.792Z"
   },
   {
    "duration": 857,
    "start_time": "2022-01-24T17:23:04.381Z"
   },
   {
    "duration": 4955,
    "start_time": "2022-01-24T17:23:05.242Z"
   },
   {
    "duration": 21,
    "start_time": "2022-01-24T17:23:10.200Z"
   },
   {
    "duration": 259,
    "start_time": "2022-01-24T17:23:10.224Z"
   },
   {
    "duration": 20,
    "start_time": "2022-01-24T17:23:10.489Z"
   },
   {
    "duration": 21,
    "start_time": "2022-01-24T17:23:10.511Z"
   },
   {
    "duration": 19,
    "start_time": "2022-01-24T17:23:10.566Z"
   },
   {
    "duration": 24,
    "start_time": "2022-01-24T17:23:10.587Z"
   },
   {
    "duration": 52,
    "start_time": "2022-01-24T17:23:10.614Z"
   },
   {
    "duration": 168,
    "start_time": "2022-01-24T17:23:10.669Z"
   },
   {
    "duration": 390,
    "start_time": "2022-01-24T17:23:10.839Z"
   },
   {
    "duration": 382,
    "start_time": "2022-01-24T17:23:11.232Z"
   },
   {
    "duration": 369,
    "start_time": "2022-01-24T17:23:11.616Z"
   },
   {
    "duration": 14,
    "start_time": "2022-01-24T17:23:11.988Z"
   },
   {
    "duration": 9,
    "start_time": "2022-01-24T17:23:12.005Z"
   },
   {
    "duration": 50,
    "start_time": "2022-01-24T17:23:12.017Z"
   },
   {
    "duration": 13,
    "start_time": "2022-01-24T17:23:12.070Z"
   },
   {
    "duration": 18,
    "start_time": "2022-01-24T17:23:12.085Z"
   },
   {
    "duration": 12,
    "start_time": "2022-01-24T17:23:12.105Z"
   },
   {
    "duration": 17,
    "start_time": "2022-01-24T17:23:12.119Z"
   },
   {
    "duration": 101,
    "start_time": "2022-01-24T17:42:17.734Z"
   },
   {
    "duration": 908,
    "start_time": "2022-01-24T17:42:23.436Z"
   },
   {
    "duration": 615,
    "start_time": "2022-01-24T17:45:09.188Z"
   },
   {
    "duration": 885,
    "start_time": "2022-01-24T17:45:44.682Z"
   },
   {
    "duration": 557,
    "start_time": "2022-01-24T18:04:21.689Z"
   },
   {
    "duration": 556,
    "start_time": "2022-01-24T18:04:25.976Z"
   },
   {
    "duration": 7,
    "start_time": "2022-01-24T18:09:36.631Z"
   },
   {
    "duration": 7,
    "start_time": "2022-01-24T18:09:41.218Z"
   },
   {
    "duration": 289,
    "start_time": "2022-01-25T10:53:15.465Z"
   },
   {
    "duration": 1130,
    "start_time": "2022-01-25T10:53:20.512Z"
   },
   {
    "duration": 13,
    "start_time": "2022-01-25T10:53:21.643Z"
   },
   {
    "duration": 10,
    "start_time": "2022-01-25T10:53:21.658Z"
   },
   {
    "duration": 6,
    "start_time": "2022-01-25T10:53:21.670Z"
   },
   {
    "duration": 29,
    "start_time": "2022-01-25T10:53:21.677Z"
   },
   {
    "duration": 10,
    "start_time": "2022-01-25T10:53:21.707Z"
   },
   {
    "duration": 7,
    "start_time": "2022-01-25T10:53:21.719Z"
   },
   {
    "duration": 8,
    "start_time": "2022-01-25T10:53:21.728Z"
   },
   {
    "duration": 8,
    "start_time": "2022-01-25T10:53:21.738Z"
   },
   {
    "duration": 76,
    "start_time": "2022-01-25T10:53:21.748Z"
   },
   {
    "duration": 14,
    "start_time": "2022-01-25T10:53:21.826Z"
   },
   {
    "duration": 19,
    "start_time": "2022-01-25T10:53:21.842Z"
   },
   {
    "duration": 43,
    "start_time": "2022-01-25T10:53:21.863Z"
   },
   {
    "duration": 559,
    "start_time": "2022-01-25T10:53:21.908Z"
   },
   {
    "duration": 16,
    "start_time": "2022-01-25T10:53:22.469Z"
   },
   {
    "duration": 415,
    "start_time": "2022-01-25T10:53:22.487Z"
   },
   {
    "duration": 17,
    "start_time": "2022-01-25T10:53:22.904Z"
   },
   {
    "duration": 405,
    "start_time": "2022-01-25T10:53:22.923Z"
   },
   {
    "duration": 568,
    "start_time": "2022-01-25T10:53:23.330Z"
   },
   {
    "duration": 3413,
    "start_time": "2022-01-25T10:53:23.900Z"
   },
   {
    "duration": 14,
    "start_time": "2022-01-25T10:53:27.315Z"
   },
   {
    "duration": 274,
    "start_time": "2022-01-25T10:53:27.331Z"
   },
   {
    "duration": 15,
    "start_time": "2022-01-25T10:53:27.608Z"
   },
   {
    "duration": 13,
    "start_time": "2022-01-25T10:53:27.625Z"
   },
   {
    "duration": 14,
    "start_time": "2022-01-25T10:53:27.640Z"
   },
   {
    "duration": 48,
    "start_time": "2022-01-25T10:53:27.655Z"
   },
   {
    "duration": 15,
    "start_time": "2022-01-25T10:53:27.704Z"
   },
   {
    "duration": 15,
    "start_time": "2022-01-25T10:53:27.720Z"
   },
   {
    "duration": 277,
    "start_time": "2022-01-25T10:53:27.736Z"
   },
   {
    "duration": 270,
    "start_time": "2022-01-25T10:53:28.014Z"
   },
   {
    "duration": 255,
    "start_time": "2022-01-25T10:53:28.285Z"
   },
   {
    "duration": 11,
    "start_time": "2022-01-25T10:53:28.541Z"
   },
   {
    "duration": 12,
    "start_time": "2022-01-25T10:53:28.554Z"
   },
   {
    "duration": 304,
    "start_time": "2022-01-25T10:53:28.568Z"
   },
   {
    "duration": -29710,
    "start_time": "2022-01-25T10:53:58.584Z"
   },
   {
    "duration": -29723,
    "start_time": "2022-01-25T10:53:58.598Z"
   },
   {
    "duration": -29744,
    "start_time": "2022-01-25T10:53:58.620Z"
   },
   {
    "duration": -29807,
    "start_time": "2022-01-25T10:53:58.683Z"
   },
   {
    "duration": 11,
    "start_time": "2022-01-25T10:53:37.697Z"
   },
   {
    "duration": 7,
    "start_time": "2022-01-25T10:54:34.964Z"
   },
   {
    "duration": 46,
    "start_time": "2022-01-25T10:56:44.255Z"
   },
   {
    "duration": 7,
    "start_time": "2022-01-25T10:56:51.781Z"
   },
   {
    "duration": 1102,
    "start_time": "2022-01-25T10:56:59.255Z"
   },
   {
    "duration": 13,
    "start_time": "2022-01-25T10:57:00.359Z"
   },
   {
    "duration": 24,
    "start_time": "2022-01-25T10:57:00.374Z"
   },
   {
    "duration": 7,
    "start_time": "2022-01-25T10:57:00.401Z"
   },
   {
    "duration": 14,
    "start_time": "2022-01-25T10:57:00.411Z"
   },
   {
    "duration": 14,
    "start_time": "2022-01-25T10:57:00.427Z"
   },
   {
    "duration": 7,
    "start_time": "2022-01-25T10:57:00.443Z"
   },
   {
    "duration": 50,
    "start_time": "2022-01-25T10:57:00.453Z"
   },
   {
    "duration": 9,
    "start_time": "2022-01-25T10:57:00.505Z"
   },
   {
    "duration": 45,
    "start_time": "2022-01-25T10:57:00.516Z"
   },
   {
    "duration": 41,
    "start_time": "2022-01-25T10:57:00.562Z"
   },
   {
    "duration": 23,
    "start_time": "2022-01-25T10:57:00.605Z"
   },
   {
    "duration": 15,
    "start_time": "2022-01-25T10:57:00.631Z"
   },
   {
    "duration": 625,
    "start_time": "2022-01-25T10:57:00.648Z"
   },
   {
    "duration": 37,
    "start_time": "2022-01-25T10:57:01.275Z"
   },
   {
    "duration": 470,
    "start_time": "2022-01-25T10:57:01.314Z"
   },
   {
    "duration": 25,
    "start_time": "2022-01-25T10:57:01.786Z"
   },
   {
    "duration": 458,
    "start_time": "2022-01-25T10:57:01.813Z"
   },
   {
    "duration": 560,
    "start_time": "2022-01-25T10:57:02.272Z"
   },
   {
    "duration": 3577,
    "start_time": "2022-01-25T10:57:02.834Z"
   },
   {
    "duration": 16,
    "start_time": "2022-01-25T10:57:06.412Z"
   },
   {
    "duration": 289,
    "start_time": "2022-01-25T10:57:06.430Z"
   },
   {
    "duration": 14,
    "start_time": "2022-01-25T10:57:06.723Z"
   },
   {
    "duration": 14,
    "start_time": "2022-01-25T10:57:06.739Z"
   },
   {
    "duration": 13,
    "start_time": "2022-01-25T10:57:06.754Z"
   },
   {
    "duration": 40,
    "start_time": "2022-01-25T10:57:06.769Z"
   },
   {
    "duration": 13,
    "start_time": "2022-01-25T10:57:06.811Z"
   },
   {
    "duration": 12,
    "start_time": "2022-01-25T10:57:06.826Z"
   },
   {
    "duration": 290,
    "start_time": "2022-01-25T10:57:06.840Z"
   },
   {
    "duration": 273,
    "start_time": "2022-01-25T10:57:07.132Z"
   },
   {
    "duration": 276,
    "start_time": "2022-01-25T10:57:07.407Z"
   },
   {
    "duration": 22,
    "start_time": "2022-01-25T10:57:07.685Z"
   },
   {
    "duration": 10,
    "start_time": "2022-01-25T10:57:07.709Z"
   },
   {
    "duration": 9,
    "start_time": "2022-01-25T10:57:07.721Z"
   },
   {
    "duration": 10,
    "start_time": "2022-01-25T10:57:07.732Z"
   },
   {
    "duration": 10,
    "start_time": "2022-01-25T10:57:07.744Z"
   },
   {
    "duration": 5,
    "start_time": "2022-01-25T10:57:07.755Z"
   },
   {
    "duration": 37,
    "start_time": "2022-01-25T10:57:07.762Z"
   },
   {
    "duration": 1158,
    "start_time": "2022-01-25T11:03:17.091Z"
   },
   {
    "duration": 15,
    "start_time": "2022-01-25T11:03:18.251Z"
   },
   {
    "duration": 18,
    "start_time": "2022-01-25T11:03:18.268Z"
   },
   {
    "duration": 23,
    "start_time": "2022-01-25T11:03:18.287Z"
   },
   {
    "duration": 13,
    "start_time": "2022-01-25T11:03:18.312Z"
   },
   {
    "duration": 10,
    "start_time": "2022-01-25T11:03:18.326Z"
   },
   {
    "duration": 10,
    "start_time": "2022-01-25T11:03:18.338Z"
   },
   {
    "duration": 15,
    "start_time": "2022-01-25T11:03:18.350Z"
   },
   {
    "duration": 32,
    "start_time": "2022-01-25T11:03:18.367Z"
   },
   {
    "duration": 43,
    "start_time": "2022-01-25T11:03:18.401Z"
   },
   {
    "duration": 15,
    "start_time": "2022-01-25T11:03:18.446Z"
   },
   {
    "duration": 37,
    "start_time": "2022-01-25T11:03:18.463Z"
   },
   {
    "duration": 15,
    "start_time": "2022-01-25T11:03:18.501Z"
   },
   {
    "duration": 573,
    "start_time": "2022-01-25T11:03:18.518Z"
   },
   {
    "duration": 19,
    "start_time": "2022-01-25T11:03:19.093Z"
   },
   {
    "duration": 444,
    "start_time": "2022-01-25T11:03:19.114Z"
   },
   {
    "duration": 19,
    "start_time": "2022-01-25T11:03:19.559Z"
   },
   {
    "duration": 412,
    "start_time": "2022-01-25T11:03:19.580Z"
   },
   {
    "duration": 567,
    "start_time": "2022-01-25T11:03:19.994Z"
   },
   {
    "duration": 3475,
    "start_time": "2022-01-25T11:03:20.563Z"
   },
   {
    "duration": 14,
    "start_time": "2022-01-25T11:03:24.040Z"
   },
   {
    "duration": 282,
    "start_time": "2022-01-25T11:03:24.056Z"
   },
   {
    "duration": 14,
    "start_time": "2022-01-25T11:03:24.343Z"
   },
   {
    "duration": 14,
    "start_time": "2022-01-25T11:03:24.359Z"
   },
   {
    "duration": 37,
    "start_time": "2022-01-25T11:03:24.374Z"
   },
   {
    "duration": 15,
    "start_time": "2022-01-25T11:03:24.412Z"
   },
   {
    "duration": 13,
    "start_time": "2022-01-25T11:03:24.429Z"
   },
   {
    "duration": 14,
    "start_time": "2022-01-25T11:03:24.443Z"
   },
   {
    "duration": 305,
    "start_time": "2022-01-25T11:03:24.459Z"
   },
   {
    "duration": 265,
    "start_time": "2022-01-25T11:03:24.765Z"
   },
   {
    "duration": 262,
    "start_time": "2022-01-25T11:03:25.032Z"
   },
   {
    "duration": 2,
    "start_time": "2022-01-25T11:03:25.299Z"
   },
   {
    "duration": 10,
    "start_time": "2022-01-25T11:03:25.302Z"
   },
   {
    "duration": 7,
    "start_time": "2022-01-25T11:03:25.314Z"
   },
   {
    "duration": 7,
    "start_time": "2022-01-25T11:03:25.323Z"
   },
   {
    "duration": 9,
    "start_time": "2022-01-25T11:03:25.332Z"
   },
   {
    "duration": 4,
    "start_time": "2022-01-25T11:03:25.343Z"
   },
   {
    "duration": 9,
    "start_time": "2022-01-25T11:03:25.349Z"
   },
   {
    "duration": 1120,
    "start_time": "2022-01-25T11:03:47.039Z"
   },
   {
    "duration": 15,
    "start_time": "2022-01-25T11:03:48.161Z"
   },
   {
    "duration": 10,
    "start_time": "2022-01-25T11:03:48.178Z"
   },
   {
    "duration": 5,
    "start_time": "2022-01-25T11:03:48.199Z"
   },
   {
    "duration": 11,
    "start_time": "2022-01-25T11:03:48.206Z"
   },
   {
    "duration": 11,
    "start_time": "2022-01-25T11:03:48.219Z"
   },
   {
    "duration": 8,
    "start_time": "2022-01-25T11:03:48.232Z"
   },
   {
    "duration": 9,
    "start_time": "2022-01-25T11:03:48.243Z"
   },
   {
    "duration": 51,
    "start_time": "2022-01-25T11:03:48.254Z"
   },
   {
    "duration": 36,
    "start_time": "2022-01-25T11:03:48.307Z"
   },
   {
    "duration": 15,
    "start_time": "2022-01-25T11:03:48.344Z"
   },
   {
    "duration": 49,
    "start_time": "2022-01-25T11:03:48.362Z"
   },
   {
    "duration": 14,
    "start_time": "2022-01-25T11:03:48.413Z"
   },
   {
    "duration": 610,
    "start_time": "2022-01-25T11:03:48.429Z"
   },
   {
    "duration": 17,
    "start_time": "2022-01-25T11:03:49.041Z"
   },
   {
    "duration": 460,
    "start_time": "2022-01-25T11:03:49.060Z"
   },
   {
    "duration": 18,
    "start_time": "2022-01-25T11:03:49.522Z"
   },
   {
    "duration": 422,
    "start_time": "2022-01-25T11:03:49.542Z"
   },
   {
    "duration": 587,
    "start_time": "2022-01-25T11:03:49.966Z"
   },
   {
    "duration": 3637,
    "start_time": "2022-01-25T11:03:50.554Z"
   },
   {
    "duration": 17,
    "start_time": "2022-01-25T11:03:54.193Z"
   },
   {
    "duration": 281,
    "start_time": "2022-01-25T11:03:54.212Z"
   },
   {
    "duration": 16,
    "start_time": "2022-01-25T11:03:54.499Z"
   },
   {
    "duration": 16,
    "start_time": "2022-01-25T11:03:54.517Z"
   },
   {
    "duration": 15,
    "start_time": "2022-01-25T11:03:54.535Z"
   },
   {
    "duration": 54,
    "start_time": "2022-01-25T11:03:54.553Z"
   },
   {
    "duration": 17,
    "start_time": "2022-01-25T11:03:54.609Z"
   },
   {
    "duration": 16,
    "start_time": "2022-01-25T11:03:54.628Z"
   },
   {
    "duration": 296,
    "start_time": "2022-01-25T11:03:54.647Z"
   },
   {
    "duration": 254,
    "start_time": "2022-01-25T11:03:54.946Z"
   },
   {
    "duration": 260,
    "start_time": "2022-01-25T11:03:55.202Z"
   },
   {
    "duration": 12,
    "start_time": "2022-01-25T11:03:55.464Z"
   },
   {
    "duration": 9,
    "start_time": "2022-01-25T11:03:55.499Z"
   },
   {
    "duration": 7,
    "start_time": "2022-01-25T11:03:55.510Z"
   },
   {
    "duration": 16,
    "start_time": "2022-01-25T11:03:55.519Z"
   },
   {
    "duration": 8,
    "start_time": "2022-01-25T11:03:55.537Z"
   },
   {
    "duration": 7,
    "start_time": "2022-01-25T11:03:55.547Z"
   },
   {
    "duration": 43,
    "start_time": "2022-01-25T11:03:55.556Z"
   },
   {
    "duration": 6,
    "start_time": "2022-01-25T11:05:02.481Z"
   },
   {
    "duration": 6,
    "start_time": "2022-01-25T11:05:06.514Z"
   },
   {
    "duration": 5,
    "start_time": "2022-01-25T11:06:42.387Z"
   },
   {
    "duration": 5,
    "start_time": "2022-01-25T11:06:55.940Z"
   },
   {
    "duration": 4,
    "start_time": "2022-01-25T11:08:33.492Z"
   },
   {
    "duration": 1134,
    "start_time": "2022-02-02T08:41:20.712Z"
   },
   {
    "duration": 13,
    "start_time": "2022-02-02T08:41:21.848Z"
   },
   {
    "duration": 9,
    "start_time": "2022-02-02T08:41:21.862Z"
   },
   {
    "duration": 5,
    "start_time": "2022-02-02T08:41:21.873Z"
   },
   {
    "duration": 10,
    "start_time": "2022-02-02T08:41:21.880Z"
   },
   {
    "duration": 9,
    "start_time": "2022-02-02T08:41:21.912Z"
   },
   {
    "duration": 8,
    "start_time": "2022-02-02T08:41:21.923Z"
   },
   {
    "duration": 7,
    "start_time": "2022-02-02T08:41:21.934Z"
   },
   {
    "duration": 7,
    "start_time": "2022-02-02T08:41:21.944Z"
   },
   {
    "duration": 64,
    "start_time": "2022-02-02T08:41:21.953Z"
   },
   {
    "duration": 14,
    "start_time": "2022-02-02T08:41:22.019Z"
   },
   {
    "duration": 19,
    "start_time": "2022-02-02T08:41:22.035Z"
   },
   {
    "duration": 13,
    "start_time": "2022-02-02T08:41:22.056Z"
   },
   {
    "duration": 562,
    "start_time": "2022-02-02T08:41:22.071Z"
   },
   {
    "duration": 17,
    "start_time": "2022-02-02T08:41:22.634Z"
   },
   {
    "duration": 423,
    "start_time": "2022-02-02T08:41:22.653Z"
   },
   {
    "duration": 17,
    "start_time": "2022-02-02T08:41:23.078Z"
   },
   {
    "duration": 20,
    "start_time": "2022-02-02T08:41:23.097Z"
   },
   {
    "duration": 379,
    "start_time": "2022-02-02T08:41:23.118Z"
   },
   {
    "duration": 529,
    "start_time": "2022-02-02T08:41:23.499Z"
   },
   {
    "duration": 3379,
    "start_time": "2022-02-02T08:41:24.030Z"
   },
   {
    "duration": 14,
    "start_time": "2022-02-02T08:41:27.411Z"
   },
   {
    "duration": 235,
    "start_time": "2022-02-02T08:41:27.428Z"
   },
   {
    "duration": 14,
    "start_time": "2022-02-02T08:41:27.665Z"
   },
   {
    "duration": 12,
    "start_time": "2022-02-02T08:41:27.680Z"
   },
   {
    "duration": 19,
    "start_time": "2022-02-02T08:41:27.694Z"
   },
   {
    "duration": 13,
    "start_time": "2022-02-02T08:41:27.714Z"
   },
   {
    "duration": 12,
    "start_time": "2022-02-02T08:41:27.729Z"
   },
   {
    "duration": 11,
    "start_time": "2022-02-02T08:41:27.743Z"
   },
   {
    "duration": 238,
    "start_time": "2022-02-02T08:41:27.756Z"
   },
   {
    "duration": 232,
    "start_time": "2022-02-02T08:41:27.995Z"
   },
   {
    "duration": 250,
    "start_time": "2022-02-02T08:41:28.228Z"
   },
   {
    "duration": 9,
    "start_time": "2022-02-02T08:41:28.479Z"
   },
   {
    "duration": 6,
    "start_time": "2022-02-02T08:41:28.490Z"
   },
   {
    "duration": 6,
    "start_time": "2022-02-02T08:41:28.498Z"
   },
   {
    "duration": 4,
    "start_time": "2022-02-02T08:41:28.512Z"
   },
   {
    "duration": 8,
    "start_time": "2022-02-02T08:41:28.517Z"
   },
   {
    "duration": 5,
    "start_time": "2022-02-02T08:41:28.527Z"
   },
   {
    "duration": 7,
    "start_time": "2022-02-02T08:41:28.533Z"
   },
   {
    "duration": 22,
    "start_time": "2022-02-02T08:42:26.717Z"
   },
   {
    "duration": 19,
    "start_time": "2022-02-02T08:42:39.539Z"
   },
   {
    "duration": 22,
    "start_time": "2022-02-02T08:42:48.089Z"
   },
   {
    "duration": 1107,
    "start_time": "2022-02-03T11:20:48.722Z"
   },
   {
    "duration": 11,
    "start_time": "2022-02-03T11:20:49.831Z"
   },
   {
    "duration": 12,
    "start_time": "2022-02-03T11:20:49.844Z"
   },
   {
    "duration": 4,
    "start_time": "2022-02-03T11:20:49.857Z"
   },
   {
    "duration": 9,
    "start_time": "2022-02-03T11:20:49.863Z"
   },
   {
    "duration": 8,
    "start_time": "2022-02-03T11:20:49.873Z"
   },
   {
    "duration": 7,
    "start_time": "2022-02-03T11:20:49.883Z"
   },
   {
    "duration": 7,
    "start_time": "2022-02-03T11:20:49.929Z"
   },
   {
    "duration": 7,
    "start_time": "2022-02-03T11:20:49.937Z"
   },
   {
    "duration": 28,
    "start_time": "2022-02-03T11:20:49.945Z"
   },
   {
    "duration": 11,
    "start_time": "2022-02-03T11:20:49.975Z"
   },
   {
    "duration": 51,
    "start_time": "2022-02-03T11:20:49.988Z"
   },
   {
    "duration": 11,
    "start_time": "2022-02-03T11:20:50.041Z"
   },
   {
    "duration": 453,
    "start_time": "2022-02-03T11:20:50.053Z"
   },
   {
    "duration": 26,
    "start_time": "2022-02-03T11:20:50.507Z"
   },
   {
    "duration": 340,
    "start_time": "2022-02-03T11:20:50.534Z"
   },
   {
    "duration": 15,
    "start_time": "2022-02-03T11:20:50.876Z"
   },
   {
    "duration": 340,
    "start_time": "2022-02-03T11:20:50.892Z"
   },
   {
    "duration": 457,
    "start_time": "2022-02-03T11:20:51.234Z"
   },
   {
    "duration": 3551,
    "start_time": "2022-02-03T11:20:51.692Z"
   },
   {
    "duration": -31621,
    "start_time": "2022-02-03T11:21:26.867Z"
   },
   {
    "duration": -31630,
    "start_time": "2022-02-03T11:21:26.878Z"
   },
   {
    "duration": -31638,
    "start_time": "2022-02-03T11:21:26.887Z"
   },
   {
    "duration": -31648,
    "start_time": "2022-02-03T11:21:26.898Z"
   },
   {
    "duration": -31654,
    "start_time": "2022-02-03T11:21:26.906Z"
   },
   {
    "duration": -31664,
    "start_time": "2022-02-03T11:21:26.917Z"
   },
   {
    "duration": -31670,
    "start_time": "2022-02-03T11:21:26.925Z"
   },
   {
    "duration": -31677,
    "start_time": "2022-02-03T11:21:26.933Z"
   },
   {
    "duration": -31682,
    "start_time": "2022-02-03T11:21:26.940Z"
   },
   {
    "duration": -31710,
    "start_time": "2022-02-03T11:21:26.969Z"
   },
   {
    "duration": -31842,
    "start_time": "2022-02-03T11:21:27.102Z"
   },
   {
    "duration": -31909,
    "start_time": "2022-02-03T11:21:27.171Z"
   },
   {
    "duration": -31919,
    "start_time": "2022-02-03T11:21:27.182Z"
   },
   {
    "duration": -31926,
    "start_time": "2022-02-03T11:21:27.191Z"
   },
   {
    "duration": -31934,
    "start_time": "2022-02-03T11:21:27.200Z"
   },
   {
    "duration": -31943,
    "start_time": "2022-02-03T11:21:27.210Z"
   },
   {
    "duration": -31950,
    "start_time": "2022-02-03T11:21:27.219Z"
   },
   {
    "duration": -31980,
    "start_time": "2022-02-03T11:21:27.250Z"
   },
   {
    "duration": 508,
    "start_time": "2022-02-03T11:23:32.994Z"
   },
   {
    "duration": 416,
    "start_time": "2022-02-03T11:39:40.847Z"
   },
   {
    "duration": 1369,
    "start_time": "2022-02-03T11:40:49.423Z"
   },
   {
    "duration": 13,
    "start_time": "2022-02-03T11:40:50.794Z"
   },
   {
    "duration": 31,
    "start_time": "2022-02-03T11:40:50.809Z"
   },
   {
    "duration": 5,
    "start_time": "2022-02-03T11:40:50.842Z"
   },
   {
    "duration": 12,
    "start_time": "2022-02-03T11:40:50.849Z"
   },
   {
    "duration": 13,
    "start_time": "2022-02-03T11:40:50.863Z"
   },
   {
    "duration": 11,
    "start_time": "2022-02-03T11:40:50.878Z"
   },
   {
    "duration": 12,
    "start_time": "2022-02-03T11:40:50.892Z"
   },
   {
    "duration": 28,
    "start_time": "2022-02-03T11:40:50.907Z"
   },
   {
    "duration": 45,
    "start_time": "2022-02-03T11:40:50.937Z"
   },
   {
    "duration": 19,
    "start_time": "2022-02-03T11:40:50.984Z"
   },
   {
    "duration": 45,
    "start_time": "2022-02-03T11:40:51.005Z"
   },
   {
    "duration": 20,
    "start_time": "2022-02-03T11:40:51.052Z"
   },
   {
    "duration": 492,
    "start_time": "2022-02-03T11:40:51.073Z"
   },
   {
    "duration": 16,
    "start_time": "2022-02-03T11:40:51.566Z"
   },
   {
    "duration": 463,
    "start_time": "2022-02-03T11:40:51.584Z"
   },
   {
    "duration": 15,
    "start_time": "2022-02-03T11:40:52.049Z"
   },
   {
    "duration": 351,
    "start_time": "2022-02-03T11:40:52.066Z"
   },
   {
    "duration": 449,
    "start_time": "2022-02-03T11:40:52.427Z"
   },
   {
    "duration": 4665,
    "start_time": "2022-02-03T11:40:52.878Z"
   },
   {
    "duration": -31472,
    "start_time": "2022-02-03T11:41:29.017Z"
   },
   {
    "duration": -31476,
    "start_time": "2022-02-03T11:41:29.023Z"
   },
   {
    "duration": -31491,
    "start_time": "2022-02-03T11:41:29.039Z"
   },
   {
    "duration": -31497,
    "start_time": "2022-02-03T11:41:29.046Z"
   },
   {
    "duration": -31502,
    "start_time": "2022-02-03T11:41:29.052Z"
   },
   {
    "duration": -31508,
    "start_time": "2022-02-03T11:41:29.060Z"
   },
   {
    "duration": -31524,
    "start_time": "2022-02-03T11:41:29.077Z"
   },
   {
    "duration": -31531,
    "start_time": "2022-02-03T11:41:29.085Z"
   },
   {
    "duration": -31536,
    "start_time": "2022-02-03T11:41:29.091Z"
   },
   {
    "duration": -31543,
    "start_time": "2022-02-03T11:41:29.099Z"
   },
   {
    "duration": -31547,
    "start_time": "2022-02-03T11:41:29.105Z"
   },
   {
    "duration": -31553,
    "start_time": "2022-02-03T11:41:29.112Z"
   },
   {
    "duration": -31559,
    "start_time": "2022-02-03T11:41:29.119Z"
   },
   {
    "duration": -31565,
    "start_time": "2022-02-03T11:41:29.126Z"
   },
   {
    "duration": -31572,
    "start_time": "2022-02-03T11:41:29.134Z"
   },
   {
    "duration": -31579,
    "start_time": "2022-02-03T11:41:29.143Z"
   },
   {
    "duration": -31584,
    "start_time": "2022-02-03T11:41:29.149Z"
   },
   {
    "duration": -31590,
    "start_time": "2022-02-03T11:41:29.156Z"
   },
   {
    "duration": 3060,
    "start_time": "2022-02-03T11:41:41.056Z"
   },
   {
    "duration": 3005,
    "start_time": "2022-02-03T11:53:55.976Z"
   },
   {
    "duration": 2914,
    "start_time": "2022-02-03T11:55:21.961Z"
   },
   {
    "duration": 1098,
    "start_time": "2022-02-03T11:56:34.552Z"
   },
   {
    "duration": 11,
    "start_time": "2022-02-03T11:56:35.651Z"
   },
   {
    "duration": 10,
    "start_time": "2022-02-03T11:56:35.664Z"
   },
   {
    "duration": 4,
    "start_time": "2022-02-03T11:56:35.675Z"
   },
   {
    "duration": 9,
    "start_time": "2022-02-03T11:56:35.681Z"
   },
   {
    "duration": 8,
    "start_time": "2022-02-03T11:56:35.691Z"
   },
   {
    "duration": 32,
    "start_time": "2022-02-03T11:56:35.700Z"
   },
   {
    "duration": 8,
    "start_time": "2022-02-03T11:56:35.733Z"
   },
   {
    "duration": 8,
    "start_time": "2022-02-03T11:56:35.743Z"
   },
   {
    "duration": 27,
    "start_time": "2022-02-03T11:56:35.753Z"
   },
   {
    "duration": 12,
    "start_time": "2022-02-03T11:56:35.781Z"
   },
   {
    "duration": 18,
    "start_time": "2022-02-03T11:56:35.827Z"
   },
   {
    "duration": 11,
    "start_time": "2022-02-03T11:56:35.846Z"
   },
   {
    "duration": 458,
    "start_time": "2022-02-03T11:56:35.858Z"
   },
   {
    "duration": 21,
    "start_time": "2022-02-03T11:56:36.318Z"
   },
   {
    "duration": 353,
    "start_time": "2022-02-03T11:56:36.340Z"
   },
   {
    "duration": 15,
    "start_time": "2022-02-03T11:56:36.695Z"
   },
   {
    "duration": 327,
    "start_time": "2022-02-03T11:56:36.727Z"
   },
   {
    "duration": 435,
    "start_time": "2022-02-03T11:56:37.056Z"
   },
   {
    "duration": 2795,
    "start_time": "2022-02-03T11:56:37.492Z"
   },
   {
    "duration": 13,
    "start_time": "2022-02-03T11:56:40.288Z"
   },
   {
    "duration": 228,
    "start_time": "2022-02-03T11:56:40.302Z"
   },
   {
    "duration": 11,
    "start_time": "2022-02-03T11:56:40.532Z"
   },
   {
    "duration": 12,
    "start_time": "2022-02-03T11:56:40.545Z"
   },
   {
    "duration": 11,
    "start_time": "2022-02-03T11:56:40.558Z"
   },
   {
    "duration": 10,
    "start_time": "2022-02-03T11:56:40.571Z"
   },
   {
    "duration": 47,
    "start_time": "2022-02-03T11:56:40.584Z"
   },
   {
    "duration": 10,
    "start_time": "2022-02-03T11:56:40.632Z"
   },
   {
    "duration": 224,
    "start_time": "2022-02-03T11:56:40.644Z"
   },
   {
    "duration": 221,
    "start_time": "2022-02-03T11:56:40.870Z"
   },
   {
    "duration": 174,
    "start_time": "2022-02-03T11:56:41.092Z"
   },
   {
    "duration": 7,
    "start_time": "2022-02-03T11:56:41.267Z"
   },
   {
    "duration": 9,
    "start_time": "2022-02-03T11:56:41.276Z"
   },
   {
    "duration": 6,
    "start_time": "2022-02-03T11:56:41.286Z"
   },
   {
    "duration": 5,
    "start_time": "2022-02-03T11:56:41.293Z"
   },
   {
    "duration": 30,
    "start_time": "2022-02-03T11:56:41.299Z"
   },
   {
    "duration": 4,
    "start_time": "2022-02-03T11:56:41.331Z"
   },
   {
    "duration": 7,
    "start_time": "2022-02-03T11:56:41.336Z"
   },
   {
    "duration": 105,
    "start_time": "2022-02-03T12:01:10.094Z"
   },
   {
    "duration": 395,
    "start_time": "2022-02-03T12:01:16.362Z"
   },
   {
    "duration": 505,
    "start_time": "2022-02-03T12:01:25.943Z"
   },
   {
    "duration": 3878,
    "start_time": "2022-02-03T12:01:31.651Z"
   },
   {
    "duration": 128,
    "start_time": "2022-02-03T12:02:23.714Z"
   },
   {
    "duration": 3506,
    "start_time": "2022-02-03T12:02:27.678Z"
   },
   {
    "duration": 2818,
    "start_time": "2022-02-03T12:02:48.629Z"
   },
   {
    "duration": 267,
    "start_time": "2022-02-03T12:04:07.372Z"
   },
   {
    "duration": 658,
    "start_time": "2022-02-03T12:04:35.463Z"
   },
   {
    "duration": 886,
    "start_time": "2022-02-03T12:04:50.086Z"
   },
   {
    "duration": 458,
    "start_time": "2022-02-03T12:05:52.563Z"
   },
   {
    "duration": 522,
    "start_time": "2022-02-03T12:06:20.874Z"
   },
   {
    "duration": 651,
    "start_time": "2022-02-03T12:06:35.128Z"
   },
   {
    "duration": 451,
    "start_time": "2022-02-03T12:07:06.813Z"
   },
   {
    "duration": 5,
    "start_time": "2022-02-03T12:16:13.406Z"
   },
   {
    "duration": 339,
    "start_time": "2022-02-03T12:16:34.037Z"
   },
   {
    "duration": 280,
    "start_time": "2022-02-03T12:16:43.261Z"
   },
   {
    "duration": 1032,
    "start_time": "2022-02-03T12:16:57.518Z"
   },
   {
    "duration": 11,
    "start_time": "2022-02-03T12:16:58.552Z"
   },
   {
    "duration": 12,
    "start_time": "2022-02-03T12:16:58.565Z"
   },
   {
    "duration": 8,
    "start_time": "2022-02-03T12:16:58.579Z"
   },
   {
    "duration": 13,
    "start_time": "2022-02-03T12:16:58.588Z"
   },
   {
    "duration": 30,
    "start_time": "2022-02-03T12:16:58.603Z"
   },
   {
    "duration": 6,
    "start_time": "2022-02-03T12:16:58.635Z"
   },
   {
    "duration": 16,
    "start_time": "2022-02-03T12:16:58.644Z"
   },
   {
    "duration": 10,
    "start_time": "2022-02-03T12:16:58.662Z"
   },
   {
    "duration": 30,
    "start_time": "2022-02-03T12:16:58.673Z"
   },
   {
    "duration": 14,
    "start_time": "2022-02-03T12:16:58.727Z"
   },
   {
    "duration": 29,
    "start_time": "2022-02-03T12:16:58.742Z"
   },
   {
    "duration": 12,
    "start_time": "2022-02-03T12:16:58.773Z"
   },
   {
    "duration": 572,
    "start_time": "2022-02-03T12:16:58.786Z"
   },
   {
    "duration": 16,
    "start_time": "2022-02-03T12:16:59.360Z"
   },
   {
    "duration": 361,
    "start_time": "2022-02-03T12:16:59.377Z"
   },
   {
    "duration": 17,
    "start_time": "2022-02-03T12:16:59.739Z"
   },
   {
    "duration": 350,
    "start_time": "2022-02-03T12:16:59.758Z"
   },
   {
    "duration": 453,
    "start_time": "2022-02-03T12:17:00.110Z"
   },
   {
    "duration": 3007,
    "start_time": "2022-02-03T12:17:00.565Z"
   },
   {
    "duration": 12,
    "start_time": "2022-02-03T12:17:03.574Z"
   },
   {
    "duration": 550,
    "start_time": "2022-02-03T12:17:03.587Z"
   },
   {
    "duration": 13,
    "start_time": "2022-02-03T12:17:04.140Z"
   },
   {
    "duration": 17,
    "start_time": "2022-02-03T12:17:04.154Z"
   },
   {
    "duration": 13,
    "start_time": "2022-02-03T12:17:04.173Z"
   },
   {
    "duration": 43,
    "start_time": "2022-02-03T12:17:04.187Z"
   },
   {
    "duration": 13,
    "start_time": "2022-02-03T12:17:04.232Z"
   },
   {
    "duration": 14,
    "start_time": "2022-02-03T12:17:04.247Z"
   },
   {
    "duration": 195,
    "start_time": "2022-02-03T12:17:04.262Z"
   },
   {
    "duration": 172,
    "start_time": "2022-02-03T12:17:04.459Z"
   },
   {
    "duration": 185,
    "start_time": "2022-02-03T12:17:04.633Z"
   },
   {
    "duration": 12,
    "start_time": "2022-02-03T12:17:04.819Z"
   },
   {
    "duration": 9,
    "start_time": "2022-02-03T12:17:04.832Z"
   },
   {
    "duration": 6,
    "start_time": "2022-02-03T12:17:04.843Z"
   },
   {
    "duration": 7,
    "start_time": "2022-02-03T12:17:04.850Z"
   },
   {
    "duration": 7,
    "start_time": "2022-02-03T12:17:04.859Z"
   },
   {
    "duration": 6,
    "start_time": "2022-02-03T12:17:04.867Z"
   },
   {
    "duration": 8,
    "start_time": "2022-02-03T12:17:04.874Z"
   },
   {
    "duration": 5,
    "start_time": "2022-02-03T12:18:07.017Z"
   },
   {
    "duration": 5,
    "start_time": "2022-02-03T12:18:08.259Z"
   },
   {
    "duration": 4,
    "start_time": "2022-02-03T12:18:12.376Z"
   },
   {
    "duration": 2,
    "start_time": "2022-02-03T12:19:19.619Z"
   },
   {
    "duration": 6,
    "start_time": "2022-02-03T12:19:25.889Z"
   },
   {
    "duration": 5,
    "start_time": "2022-02-03T12:19:27.009Z"
   },
   {
    "duration": 4,
    "start_time": "2022-02-03T12:19:35.014Z"
   },
   {
    "duration": 6,
    "start_time": "2022-02-03T12:19:45.813Z"
   },
   {
    "duration": 5,
    "start_time": "2022-02-03T12:19:48.809Z"
   },
   {
    "duration": 4,
    "start_time": "2022-02-03T12:19:52.614Z"
   },
   {
    "duration": 5,
    "start_time": "2022-02-03T12:21:38.762Z"
   },
   {
    "duration": 1197,
    "start_time": "2022-02-03T12:22:04.143Z"
   },
   {
    "duration": 11,
    "start_time": "2022-02-03T12:22:05.342Z"
   },
   {
    "duration": 10,
    "start_time": "2022-02-03T12:22:05.355Z"
   },
   {
    "duration": 7,
    "start_time": "2022-02-03T12:22:05.367Z"
   },
   {
    "duration": 9,
    "start_time": "2022-02-03T12:22:05.375Z"
   },
   {
    "duration": 8,
    "start_time": "2022-02-03T12:22:05.386Z"
   },
   {
    "duration": 33,
    "start_time": "2022-02-03T12:22:05.395Z"
   },
   {
    "duration": 8,
    "start_time": "2022-02-03T12:22:05.430Z"
   },
   {
    "duration": 7,
    "start_time": "2022-02-03T12:22:05.440Z"
   },
   {
    "duration": 27,
    "start_time": "2022-02-03T12:22:05.448Z"
   },
   {
    "duration": 14,
    "start_time": "2022-02-03T12:22:05.476Z"
   },
   {
    "duration": 53,
    "start_time": "2022-02-03T12:22:05.492Z"
   },
   {
    "duration": 13,
    "start_time": "2022-02-03T12:22:05.547Z"
   },
   {
    "duration": 466,
    "start_time": "2022-02-03T12:22:05.562Z"
   },
   {
    "duration": 16,
    "start_time": "2022-02-03T12:22:06.030Z"
   },
   {
    "duration": 345,
    "start_time": "2022-02-03T12:22:06.048Z"
   },
   {
    "duration": 15,
    "start_time": "2022-02-03T12:22:06.394Z"
   },
   {
    "duration": 320,
    "start_time": "2022-02-03T12:22:06.426Z"
   },
   {
    "duration": 436,
    "start_time": "2022-02-03T12:22:06.748Z"
   },
   {
    "duration": 2656,
    "start_time": "2022-02-03T12:22:07.185Z"
   },
   {
    "duration": 14,
    "start_time": "2022-02-03T12:22:09.843Z"
   },
   {
    "duration": 561,
    "start_time": "2022-02-03T12:22:09.859Z"
   },
   {
    "duration": 12,
    "start_time": "2022-02-03T12:22:10.423Z"
   },
   {
    "duration": 13,
    "start_time": "2022-02-03T12:22:10.437Z"
   },
   {
    "duration": 11,
    "start_time": "2022-02-03T12:22:10.451Z"
   },
   {
    "duration": 12,
    "start_time": "2022-02-03T12:22:10.463Z"
   },
   {
    "duration": 11,
    "start_time": "2022-02-03T12:22:10.476Z"
   },
   {
    "duration": 53,
    "start_time": "2022-02-03T12:22:10.488Z"
   },
   {
    "duration": 177,
    "start_time": "2022-02-03T12:22:10.543Z"
   },
   {
    "duration": 174,
    "start_time": "2022-02-03T12:22:10.722Z"
   },
   {
    "duration": 172,
    "start_time": "2022-02-03T12:22:10.898Z"
   },
   {
    "duration": 6,
    "start_time": "2022-02-03T12:22:11.071Z"
   },
   {
    "duration": 8,
    "start_time": "2022-02-03T12:22:11.078Z"
   },
   {
    "duration": 8,
    "start_time": "2022-02-03T12:22:11.087Z"
   },
   {
    "duration": 7,
    "start_time": "2022-02-03T12:22:11.096Z"
   },
   {
    "duration": 6,
    "start_time": "2022-02-03T12:22:11.126Z"
   },
   {
    "duration": 5,
    "start_time": "2022-02-03T12:22:11.133Z"
   },
   {
    "duration": 453,
    "start_time": "2022-02-03T12:30:11.922Z"
   },
   {
    "duration": 371,
    "start_time": "2022-02-03T12:42:50.537Z"
   },
   {
    "duration": 29,
    "start_time": "2022-02-03T12:43:22.962Z"
   },
   {
    "duration": 12,
    "start_time": "2022-02-03T12:44:48.125Z"
   },
   {
    "duration": 502,
    "start_time": "2022-02-03T12:49:17.931Z"
   },
   {
    "duration": 11,
    "start_time": "2022-02-03T12:49:32.654Z"
   },
   {
    "duration": 93,
    "start_time": "2022-02-03T12:53:54.640Z"
   },
   {
    "duration": 93,
    "start_time": "2022-02-03T12:56:47.344Z"
   },
   {
    "duration": 1393,
    "start_time": "2022-02-03T16:17:36.364Z"
   },
   {
    "duration": 19,
    "start_time": "2022-02-03T16:17:37.760Z"
   },
   {
    "duration": 13,
    "start_time": "2022-02-03T16:17:37.782Z"
   },
   {
    "duration": 25,
    "start_time": "2022-02-03T16:17:37.798Z"
   },
   {
    "duration": 12,
    "start_time": "2022-02-03T16:17:37.825Z"
   },
   {
    "duration": 13,
    "start_time": "2022-02-03T16:17:37.839Z"
   },
   {
    "duration": 10,
    "start_time": "2022-02-03T16:17:37.855Z"
   },
   {
    "duration": 55,
    "start_time": "2022-02-03T16:17:37.870Z"
   },
   {
    "duration": 10,
    "start_time": "2022-02-03T16:17:37.928Z"
   },
   {
    "duration": 47,
    "start_time": "2022-02-03T16:17:37.941Z"
   },
   {
    "duration": 51,
    "start_time": "2022-02-03T16:17:37.991Z"
   },
   {
    "duration": 26,
    "start_time": "2022-02-03T16:17:38.045Z"
   },
   {
    "duration": 18,
    "start_time": "2022-02-03T16:17:38.074Z"
   },
   {
    "duration": 864,
    "start_time": "2022-02-03T16:17:38.095Z"
   },
   {
    "duration": 24,
    "start_time": "2022-02-03T16:17:38.961Z"
   },
   {
    "duration": 623,
    "start_time": "2022-02-03T16:17:38.987Z"
   },
   {
    "duration": 30,
    "start_time": "2022-02-03T16:17:39.613Z"
   },
   {
    "duration": 614,
    "start_time": "2022-02-03T16:17:39.645Z"
   },
   {
    "duration": 779,
    "start_time": "2022-02-03T16:17:40.261Z"
   },
   {
    "duration": 4559,
    "start_time": "2022-02-03T16:17:41.042Z"
   },
   {
    "duration": 31,
    "start_time": "2022-02-03T16:17:45.604Z"
   },
   {
    "duration": 968,
    "start_time": "2022-02-03T16:17:45.638Z"
   },
   {
    "duration": 28,
    "start_time": "2022-02-03T16:17:46.613Z"
   },
   {
    "duration": 23,
    "start_time": "2022-02-03T16:17:46.644Z"
   },
   {
    "duration": 20,
    "start_time": "2022-02-03T16:17:46.669Z"
   },
   {
    "duration": 48,
    "start_time": "2022-02-03T16:17:46.691Z"
   },
   {
    "duration": 19,
    "start_time": "2022-02-03T16:17:46.742Z"
   },
   {
    "duration": 20,
    "start_time": "2022-02-03T16:17:46.763Z"
   },
   {
    "duration": 343,
    "start_time": "2022-02-03T16:17:46.785Z"
   },
   {
    "duration": 327,
    "start_time": "2022-02-03T16:17:47.130Z"
   },
   {
    "duration": 311,
    "start_time": "2022-02-03T16:17:47.459Z"
   },
   {
    "duration": 18,
    "start_time": "2022-02-03T16:17:47.773Z"
   },
   {
    "duration": 31,
    "start_time": "2022-02-03T16:17:47.794Z"
   },
   {
    "duration": 13,
    "start_time": "2022-02-03T16:17:47.827Z"
   },
   {
    "duration": 23,
    "start_time": "2022-02-03T16:17:47.842Z"
   },
   {
    "duration": 18,
    "start_time": "2022-02-03T16:17:47.867Z"
   },
   {
    "duration": 18,
    "start_time": "2022-02-03T16:17:47.887Z"
   },
   {
    "duration": 19,
    "start_time": "2022-02-03T16:17:47.907Z"
   },
   {
    "duration": 4850,
    "start_time": "2022-02-03T16:18:23.093Z"
   },
   {
    "duration": 4796,
    "start_time": "2022-02-03T16:18:48.289Z"
   }
  ],
  "kernelspec": {
   "display_name": "Python 3 (ipykernel)",
   "language": "python",
   "name": "python3"
  },
  "language_info": {
   "codemirror_mode": {
    "name": "ipython",
    "version": 3
   },
   "file_extension": ".py",
   "mimetype": "text/x-python",
   "name": "python",
   "nbconvert_exporter": "python",
   "pygments_lexer": "ipython3",
   "version": "3.9.7"
  },
  "toc": {
   "base_numbering": 1,
   "nav_menu": {},
   "number_sections": true,
   "sideBar": true,
   "skip_h1_title": true,
   "title_cell": "Table of Contents",
   "title_sidebar": "Contents",
   "toc_cell": false,
   "toc_position": {
    "height": "calc(100% - 180px)",
    "left": "10px",
    "top": "150px",
    "width": "165px"
   },
   "toc_section_display": true,
   "toc_window_display": true
  }
 },
 "nbformat": 4,
 "nbformat_minor": 2
}
