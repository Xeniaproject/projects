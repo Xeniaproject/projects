{
 "cells": [
  {
   "cell_type": "markdown",
   "metadata": {},
   "source": [
    "# Проект по А/В тестированию"
   ]
  },
  {
   "cell_type": "markdown",
   "metadata": {},
   "source": [
    "## Описание проекта"
   ]
  },
  {
   "cell_type": "markdown",
   "metadata": {},
   "source": [
    "Есть датасет с действиями пользователей, техническое задание и несколько вспомогательных датасетов."
   ]
  },
  {
   "cell_type": "markdown",
   "metadata": {},
   "source": [
    "Цель:"
   ]
  },
  {
   "cell_type": "markdown",
   "metadata": {},
   "source": [
    "дать оценку результатов A/B-теста "
   ]
  },
  {
   "cell_type": "markdown",
   "metadata": {},
   "source": [
    "Задачи:"
   ]
  },
  {
   "cell_type": "markdown",
   "metadata": {},
   "source": [
    "* Оценить корректность проведения теста: пересечение тестовой аудитории с конкурирующим тестом,\n",
    "совпадение теста и маркетинговых событий, другие проблемы временных границ теста.\n",
    "* Проанализировать результаты теста"
   ]
  },
  {
   "cell_type": "markdown",
   "metadata": {},
   "source": [
    "Техническое задание:"
   ]
  },
  {
   "cell_type": "markdown",
   "metadata": {},
   "source": [
    "* Название теста: recommender_system_test;\n",
    "* Группы: А (контрольная), B (новая платёжная воронка);\n",
    "* Дата запуска: 2020-12-07;\n",
    "* Дата остановки набора новых пользователей: 2020-12-21;\n",
    "* Дата остановки: 2021-01-04;\n",
    "* Аудитория: 15% новых пользователей из региона EU;\n",
    "* Назначение теста: тестирование изменений, связанных с внедрением улучшенной рекомендательной системы;\n",
    "* Ожидаемое количество участников теста: 6000.\n",
    "* Ожидаемый эффект: за 14 дней с момента регистрации в системе пользователи покажут улучшение каждой метрики не менее, чем на 10%:\n",
    "    * конверсии в просмотр карточек товаров — событие product_page\n",
    "    * просмотры корзины — product_cart\n",
    "    * покупки — purchase."
   ]
  },
  {
   "cell_type": "markdown",
   "metadata": {},
   "source": [
    "## Изучение данных"
   ]
  },
  {
   "cell_type": "code",
   "execution_count": 1,
   "metadata": {},
   "outputs": [],
   "source": [
    "import pandas as pd\n",
    "import matplotlib.pyplot as plt\n",
    "from plotly import graph_objects as go\n",
    "import seaborn as sns\n",
    "import numpy as np\n",
    "import math as mth\n",
    "from scipy import stats as st\n",
    "import warnings\n",
    "warnings.filterwarnings('ignore')\n",
    "pd.set_option('display.float_format', '{:,.2f}'.format)"
   ]
  },
  {
   "cell_type": "code",
   "execution_count": 2,
   "metadata": {},
   "outputs": [
    {
     "data": {
      "text/html": [
       "<div>\n",
       "<style scoped>\n",
       "    .dataframe tbody tr th:only-of-type {\n",
       "        vertical-align: middle;\n",
       "    }\n",
       "\n",
       "    .dataframe tbody tr th {\n",
       "        vertical-align: top;\n",
       "    }\n",
       "\n",
       "    .dataframe thead th {\n",
       "        text-align: right;\n",
       "    }\n",
       "</style>\n",
       "<table border=\"1\" class=\"dataframe\">\n",
       "  <thead>\n",
       "    <tr style=\"text-align: right;\">\n",
       "      <th></th>\n",
       "      <th>name</th>\n",
       "      <th>regions</th>\n",
       "      <th>start_dt</th>\n",
       "      <th>finish_dt</th>\n",
       "    </tr>\n",
       "  </thead>\n",
       "  <tbody>\n",
       "    <tr>\n",
       "      <th>0</th>\n",
       "      <td>Christmas&amp;New Year Promo</td>\n",
       "      <td>EU, N.America</td>\n",
       "      <td>2020-12-25</td>\n",
       "      <td>2021-01-03</td>\n",
       "    </tr>\n",
       "    <tr>\n",
       "      <th>1</th>\n",
       "      <td>St. Valentine's Day Giveaway</td>\n",
       "      <td>EU, CIS, APAC, N.America</td>\n",
       "      <td>2020-02-14</td>\n",
       "      <td>2020-02-16</td>\n",
       "    </tr>\n",
       "    <tr>\n",
       "      <th>2</th>\n",
       "      <td>St. Patric's Day Promo</td>\n",
       "      <td>EU, N.America</td>\n",
       "      <td>2020-03-17</td>\n",
       "      <td>2020-03-19</td>\n",
       "    </tr>\n",
       "    <tr>\n",
       "      <th>3</th>\n",
       "      <td>Easter Promo</td>\n",
       "      <td>EU, CIS, APAC, N.America</td>\n",
       "      <td>2020-04-12</td>\n",
       "      <td>2020-04-19</td>\n",
       "    </tr>\n",
       "    <tr>\n",
       "      <th>4</th>\n",
       "      <td>4th of July Promo</td>\n",
       "      <td>N.America</td>\n",
       "      <td>2020-07-04</td>\n",
       "      <td>2020-07-11</td>\n",
       "    </tr>\n",
       "    <tr>\n",
       "      <th>5</th>\n",
       "      <td>Black Friday Ads Campaign</td>\n",
       "      <td>EU, CIS, APAC, N.America</td>\n",
       "      <td>2020-11-26</td>\n",
       "      <td>2020-12-01</td>\n",
       "    </tr>\n",
       "    <tr>\n",
       "      <th>6</th>\n",
       "      <td>Chinese New Year Promo</td>\n",
       "      <td>APAC</td>\n",
       "      <td>2020-01-25</td>\n",
       "      <td>2020-02-07</td>\n",
       "    </tr>\n",
       "    <tr>\n",
       "      <th>7</th>\n",
       "      <td>Labor day (May 1st) Ads Campaign</td>\n",
       "      <td>EU, CIS, APAC</td>\n",
       "      <td>2020-05-01</td>\n",
       "      <td>2020-05-03</td>\n",
       "    </tr>\n",
       "    <tr>\n",
       "      <th>8</th>\n",
       "      <td>International Women's Day Promo</td>\n",
       "      <td>EU, CIS, APAC</td>\n",
       "      <td>2020-03-08</td>\n",
       "      <td>2020-03-10</td>\n",
       "    </tr>\n",
       "    <tr>\n",
       "      <th>9</th>\n",
       "      <td>Victory Day CIS (May 9th) Event</td>\n",
       "      <td>CIS</td>\n",
       "      <td>2020-05-09</td>\n",
       "      <td>2020-05-11</td>\n",
       "    </tr>\n",
       "    <tr>\n",
       "      <th>10</th>\n",
       "      <td>CIS New Year Gift Lottery</td>\n",
       "      <td>CIS</td>\n",
       "      <td>2020-12-30</td>\n",
       "      <td>2021-01-07</td>\n",
       "    </tr>\n",
       "    <tr>\n",
       "      <th>11</th>\n",
       "      <td>Dragon Boat Festival Giveaway</td>\n",
       "      <td>APAC</td>\n",
       "      <td>2020-06-25</td>\n",
       "      <td>2020-07-01</td>\n",
       "    </tr>\n",
       "    <tr>\n",
       "      <th>12</th>\n",
       "      <td>Single's Day Gift Promo</td>\n",
       "      <td>APAC</td>\n",
       "      <td>2020-11-11</td>\n",
       "      <td>2020-11-12</td>\n",
       "    </tr>\n",
       "    <tr>\n",
       "      <th>13</th>\n",
       "      <td>Chinese Moon Festival</td>\n",
       "      <td>APAC</td>\n",
       "      <td>2020-10-01</td>\n",
       "      <td>2020-10-07</td>\n",
       "    </tr>\n",
       "  </tbody>\n",
       "</table>\n",
       "</div>"
      ],
      "text/plain": [
       "                                name                   regions    start_dt  \\\n",
       "0           Christmas&New Year Promo             EU, N.America  2020-12-25   \n",
       "1       St. Valentine's Day Giveaway  EU, CIS, APAC, N.America  2020-02-14   \n",
       "2             St. Patric's Day Promo             EU, N.America  2020-03-17   \n",
       "3                       Easter Promo  EU, CIS, APAC, N.America  2020-04-12   \n",
       "4                  4th of July Promo                 N.America  2020-07-04   \n",
       "5          Black Friday Ads Campaign  EU, CIS, APAC, N.America  2020-11-26   \n",
       "6             Chinese New Year Promo                      APAC  2020-01-25   \n",
       "7   Labor day (May 1st) Ads Campaign             EU, CIS, APAC  2020-05-01   \n",
       "8    International Women's Day Promo             EU, CIS, APAC  2020-03-08   \n",
       "9    Victory Day CIS (May 9th) Event                       CIS  2020-05-09   \n",
       "10         CIS New Year Gift Lottery                       CIS  2020-12-30   \n",
       "11     Dragon Boat Festival Giveaway                      APAC  2020-06-25   \n",
       "12           Single's Day Gift Promo                      APAC  2020-11-11   \n",
       "13             Chinese Moon Festival                      APAC  2020-10-01   \n",
       "\n",
       "     finish_dt  \n",
       "0   2021-01-03  \n",
       "1   2020-02-16  \n",
       "2   2020-03-19  \n",
       "3   2020-04-19  \n",
       "4   2020-07-11  \n",
       "5   2020-12-01  \n",
       "6   2020-02-07  \n",
       "7   2020-05-03  \n",
       "8   2020-03-10  \n",
       "9   2020-05-11  \n",
       "10  2021-01-07  \n",
       "11  2020-07-01  \n",
       "12  2020-11-12  \n",
       "13  2020-10-07  "
      ]
     },
     "execution_count": 2,
     "metadata": {},
     "output_type": "execute_result"
    }
   ],
   "source": [
    "marketing = pd.read_csv('/datasets/ab_project_marketing_events.csv')\n",
    "marketing"
   ]
  },
  {
   "cell_type": "code",
   "execution_count": 3,
   "metadata": {},
   "outputs": [
    {
     "name": "stdout",
     "output_type": "stream",
     "text": [
      "<class 'pandas.core.frame.DataFrame'>\n",
      "RangeIndex: 14 entries, 0 to 13\n",
      "Data columns (total 4 columns):\n",
      " #   Column     Non-Null Count  Dtype \n",
      "---  ------     --------------  ----- \n",
      " 0   name       14 non-null     object\n",
      " 1   regions    14 non-null     object\n",
      " 2   start_dt   14 non-null     object\n",
      " 3   finish_dt  14 non-null     object\n",
      "dtypes: object(4)\n",
      "memory usage: 576.0+ bytes\n"
     ]
    }
   ],
   "source": [
    "marketing.info()"
   ]
  },
  {
   "cell_type": "code",
   "execution_count": 4,
   "metadata": {},
   "outputs": [
    {
     "data": {
      "text/plain": [
       "0"
      ]
     },
     "execution_count": 4,
     "metadata": {},
     "output_type": "execute_result"
    }
   ],
   "source": [
    "marketing.duplicated().sum()"
   ]
  },
  {
   "cell_type": "markdown",
   "metadata": {},
   "source": [
    "Пропусков и дубликатов нет,требуется изменить тип данных в столбцах с датой"
   ]
  },
  {
   "cell_type": "code",
   "execution_count": 5,
   "metadata": {},
   "outputs": [
    {
     "data": {
      "text/html": [
       "<div>\n",
       "<style scoped>\n",
       "    .dataframe tbody tr th:only-of-type {\n",
       "        vertical-align: middle;\n",
       "    }\n",
       "\n",
       "    .dataframe tbody tr th {\n",
       "        vertical-align: top;\n",
       "    }\n",
       "\n",
       "    .dataframe thead th {\n",
       "        text-align: right;\n",
       "    }\n",
       "</style>\n",
       "<table border=\"1\" class=\"dataframe\">\n",
       "  <thead>\n",
       "    <tr style=\"text-align: right;\">\n",
       "      <th></th>\n",
       "      <th>user_id</th>\n",
       "      <th>first_date</th>\n",
       "      <th>region</th>\n",
       "      <th>device</th>\n",
       "    </tr>\n",
       "  </thead>\n",
       "  <tbody>\n",
       "    <tr>\n",
       "      <th>0</th>\n",
       "      <td>D72A72121175D8BE</td>\n",
       "      <td>2020-12-07</td>\n",
       "      <td>EU</td>\n",
       "      <td>PC</td>\n",
       "    </tr>\n",
       "    <tr>\n",
       "      <th>1</th>\n",
       "      <td>F1C668619DFE6E65</td>\n",
       "      <td>2020-12-07</td>\n",
       "      <td>N.America</td>\n",
       "      <td>Android</td>\n",
       "    </tr>\n",
       "    <tr>\n",
       "      <th>2</th>\n",
       "      <td>2E1BF1D4C37EA01F</td>\n",
       "      <td>2020-12-07</td>\n",
       "      <td>EU</td>\n",
       "      <td>PC</td>\n",
       "    </tr>\n",
       "    <tr>\n",
       "      <th>3</th>\n",
       "      <td>50734A22C0C63768</td>\n",
       "      <td>2020-12-07</td>\n",
       "      <td>EU</td>\n",
       "      <td>iPhone</td>\n",
       "    </tr>\n",
       "    <tr>\n",
       "      <th>4</th>\n",
       "      <td>E1BDDCE0DAFA2679</td>\n",
       "      <td>2020-12-07</td>\n",
       "      <td>N.America</td>\n",
       "      <td>iPhone</td>\n",
       "    </tr>\n",
       "  </tbody>\n",
       "</table>\n",
       "</div>"
      ],
      "text/plain": [
       "            user_id  first_date     region   device\n",
       "0  D72A72121175D8BE  2020-12-07         EU       PC\n",
       "1  F1C668619DFE6E65  2020-12-07  N.America  Android\n",
       "2  2E1BF1D4C37EA01F  2020-12-07         EU       PC\n",
       "3  50734A22C0C63768  2020-12-07         EU   iPhone\n",
       "4  E1BDDCE0DAFA2679  2020-12-07  N.America   iPhone"
      ]
     },
     "execution_count": 5,
     "metadata": {},
     "output_type": "execute_result"
    }
   ],
   "source": [
    "users = pd.read_csv('/datasets/final_ab_new_users.csv')\n",
    "users.head()"
   ]
  },
  {
   "cell_type": "code",
   "execution_count": 6,
   "metadata": {
    "scrolled": true
   },
   "outputs": [
    {
     "name": "stdout",
     "output_type": "stream",
     "text": [
      "<class 'pandas.core.frame.DataFrame'>\n",
      "RangeIndex: 61733 entries, 0 to 61732\n",
      "Data columns (total 4 columns):\n",
      " #   Column      Non-Null Count  Dtype \n",
      "---  ------      --------------  ----- \n",
      " 0   user_id     61733 non-null  object\n",
      " 1   first_date  61733 non-null  object\n",
      " 2   region      61733 non-null  object\n",
      " 3   device      61733 non-null  object\n",
      "dtypes: object(4)\n",
      "memory usage: 1.9+ MB\n"
     ]
    }
   ],
   "source": [
    "users.info()"
   ]
  },
  {
   "cell_type": "code",
   "execution_count": 7,
   "metadata": {},
   "outputs": [
    {
     "data": {
      "text/plain": [
       "0"
      ]
     },
     "execution_count": 7,
     "metadata": {},
     "output_type": "execute_result"
    }
   ],
   "source": [
    "users.duplicated().sum()"
   ]
  },
  {
   "cell_type": "markdown",
   "metadata": {},
   "source": [
    "Пропусков и дубликатов нет, требуется изменить тип данных в столбцах с датой"
   ]
  },
  {
   "cell_type": "code",
   "execution_count": 8,
   "metadata": {},
   "outputs": [
    {
     "data": {
      "text/html": [
       "<div>\n",
       "<style scoped>\n",
       "    .dataframe tbody tr th:only-of-type {\n",
       "        vertical-align: middle;\n",
       "    }\n",
       "\n",
       "    .dataframe tbody tr th {\n",
       "        vertical-align: top;\n",
       "    }\n",
       "\n",
       "    .dataframe thead th {\n",
       "        text-align: right;\n",
       "    }\n",
       "</style>\n",
       "<table border=\"1\" class=\"dataframe\">\n",
       "  <thead>\n",
       "    <tr style=\"text-align: right;\">\n",
       "      <th></th>\n",
       "      <th>user_id</th>\n",
       "      <th>event_dt</th>\n",
       "      <th>event_name</th>\n",
       "      <th>details</th>\n",
       "    </tr>\n",
       "  </thead>\n",
       "  <tbody>\n",
       "    <tr>\n",
       "      <th>0</th>\n",
       "      <td>E1BDDCE0DAFA2679</td>\n",
       "      <td>2020-12-07 20:22:03</td>\n",
       "      <td>purchase</td>\n",
       "      <td>99.99</td>\n",
       "    </tr>\n",
       "    <tr>\n",
       "      <th>1</th>\n",
       "      <td>7B6452F081F49504</td>\n",
       "      <td>2020-12-07 09:22:53</td>\n",
       "      <td>purchase</td>\n",
       "      <td>9.99</td>\n",
       "    </tr>\n",
       "    <tr>\n",
       "      <th>2</th>\n",
       "      <td>9CD9F34546DF254C</td>\n",
       "      <td>2020-12-07 12:59:29</td>\n",
       "      <td>purchase</td>\n",
       "      <td>4.99</td>\n",
       "    </tr>\n",
       "    <tr>\n",
       "      <th>3</th>\n",
       "      <td>96F27A054B191457</td>\n",
       "      <td>2020-12-07 04:02:40</td>\n",
       "      <td>purchase</td>\n",
       "      <td>4.99</td>\n",
       "    </tr>\n",
       "    <tr>\n",
       "      <th>4</th>\n",
       "      <td>1FD7660FDF94CA1F</td>\n",
       "      <td>2020-12-07 10:15:09</td>\n",
       "      <td>purchase</td>\n",
       "      <td>4.99</td>\n",
       "    </tr>\n",
       "  </tbody>\n",
       "</table>\n",
       "</div>"
      ],
      "text/plain": [
       "            user_id             event_dt event_name  details\n",
       "0  E1BDDCE0DAFA2679  2020-12-07 20:22:03   purchase    99.99\n",
       "1  7B6452F081F49504  2020-12-07 09:22:53   purchase     9.99\n",
       "2  9CD9F34546DF254C  2020-12-07 12:59:29   purchase     4.99\n",
       "3  96F27A054B191457  2020-12-07 04:02:40   purchase     4.99\n",
       "4  1FD7660FDF94CA1F  2020-12-07 10:15:09   purchase     4.99"
      ]
     },
     "execution_count": 8,
     "metadata": {},
     "output_type": "execute_result"
    }
   ],
   "source": [
    "events = pd.read_csv('/datasets/final_ab_events.csv')\n",
    "events.head()"
   ]
  },
  {
   "cell_type": "code",
   "execution_count": 9,
   "metadata": {
    "scrolled": true
   },
   "outputs": [
    {
     "name": "stdout",
     "output_type": "stream",
     "text": [
      "<class 'pandas.core.frame.DataFrame'>\n",
      "RangeIndex: 440317 entries, 0 to 440316\n",
      "Data columns (total 4 columns):\n",
      " #   Column      Non-Null Count   Dtype  \n",
      "---  ------      --------------   -----  \n",
      " 0   user_id     440317 non-null  object \n",
      " 1   event_dt    440317 non-null  object \n",
      " 2   event_name  440317 non-null  object \n",
      " 3   details     62740 non-null   float64\n",
      "dtypes: float64(1), object(3)\n",
      "memory usage: 13.4+ MB\n"
     ]
    }
   ],
   "source": [
    "events.info()"
   ]
  },
  {
   "cell_type": "code",
   "execution_count": 10,
   "metadata": {},
   "outputs": [
    {
     "data": {
      "text/plain": [
       "0"
      ]
     },
     "execution_count": 10,
     "metadata": {},
     "output_type": "execute_result"
    }
   ],
   "source": [
    "events.duplicated().sum()"
   ]
  },
  {
   "cell_type": "markdown",
   "metadata": {},
   "source": [
    "Пропуски есть в столбце details и дубликатов нет,требуется изменить тип данных в столбцах с датой"
   ]
  },
  {
   "cell_type": "code",
   "execution_count": 11,
   "metadata": {},
   "outputs": [
    {
     "data": {
      "text/html": [
       "<div>\n",
       "<style scoped>\n",
       "    .dataframe tbody tr th:only-of-type {\n",
       "        vertical-align: middle;\n",
       "    }\n",
       "\n",
       "    .dataframe tbody tr th {\n",
       "        vertical-align: top;\n",
       "    }\n",
       "\n",
       "    .dataframe thead th {\n",
       "        text-align: right;\n",
       "    }\n",
       "</style>\n",
       "<table border=\"1\" class=\"dataframe\">\n",
       "  <thead>\n",
       "    <tr style=\"text-align: right;\">\n",
       "      <th></th>\n",
       "      <th>user_id</th>\n",
       "      <th>group</th>\n",
       "      <th>ab_test</th>\n",
       "    </tr>\n",
       "  </thead>\n",
       "  <tbody>\n",
       "    <tr>\n",
       "      <th>0</th>\n",
       "      <td>D1ABA3E2887B6A73</td>\n",
       "      <td>A</td>\n",
       "      <td>recommender_system_test</td>\n",
       "    </tr>\n",
       "    <tr>\n",
       "      <th>1</th>\n",
       "      <td>A7A3664BD6242119</td>\n",
       "      <td>A</td>\n",
       "      <td>recommender_system_test</td>\n",
       "    </tr>\n",
       "    <tr>\n",
       "      <th>2</th>\n",
       "      <td>DABC14FDDFADD29E</td>\n",
       "      <td>A</td>\n",
       "      <td>recommender_system_test</td>\n",
       "    </tr>\n",
       "    <tr>\n",
       "      <th>3</th>\n",
       "      <td>04988C5DF189632E</td>\n",
       "      <td>A</td>\n",
       "      <td>recommender_system_test</td>\n",
       "    </tr>\n",
       "    <tr>\n",
       "      <th>4</th>\n",
       "      <td>482F14783456D21B</td>\n",
       "      <td>B</td>\n",
       "      <td>recommender_system_test</td>\n",
       "    </tr>\n",
       "  </tbody>\n",
       "</table>\n",
       "</div>"
      ],
      "text/plain": [
       "            user_id group                  ab_test\n",
       "0  D1ABA3E2887B6A73     A  recommender_system_test\n",
       "1  A7A3664BD6242119     A  recommender_system_test\n",
       "2  DABC14FDDFADD29E     A  recommender_system_test\n",
       "3  04988C5DF189632E     A  recommender_system_test\n",
       "4  482F14783456D21B     B  recommender_system_test"
      ]
     },
     "execution_count": 11,
     "metadata": {},
     "output_type": "execute_result"
    }
   ],
   "source": [
    "participants = pd.read_csv('/datasets/final_ab_participants.csv')\n",
    "participants.head()"
   ]
  },
  {
   "cell_type": "code",
   "execution_count": 12,
   "metadata": {
    "scrolled": true
   },
   "outputs": [
    {
     "name": "stdout",
     "output_type": "stream",
     "text": [
      "<class 'pandas.core.frame.DataFrame'>\n",
      "RangeIndex: 18268 entries, 0 to 18267\n",
      "Data columns (total 3 columns):\n",
      " #   Column   Non-Null Count  Dtype \n",
      "---  ------   --------------  ----- \n",
      " 0   user_id  18268 non-null  object\n",
      " 1   group    18268 non-null  object\n",
      " 2   ab_test  18268 non-null  object\n",
      "dtypes: object(3)\n",
      "memory usage: 428.3+ KB\n"
     ]
    }
   ],
   "source": [
    "participants.info()"
   ]
  },
  {
   "cell_type": "code",
   "execution_count": 13,
   "metadata": {
    "scrolled": true
   },
   "outputs": [
    {
     "data": {
      "text/plain": [
       "0"
      ]
     },
     "execution_count": 13,
     "metadata": {},
     "output_type": "execute_result"
    }
   ],
   "source": [
    "participants.duplicated().sum()"
   ]
  },
  {
   "cell_type": "markdown",
   "metadata": {},
   "source": [
    "Пропусков и дубликатов нет"
   ]
  },
  {
   "cell_type": "markdown",
   "metadata": {},
   "source": [
    "Посмотрим строчки в датафрейме events, где есть пропуски"
   ]
  },
  {
   "cell_type": "code",
   "execution_count": 14,
   "metadata": {
    "scrolled": false
   },
   "outputs": [
    {
     "data": {
      "text/html": [
       "<div>\n",
       "<style scoped>\n",
       "    .dataframe tbody tr th:only-of-type {\n",
       "        vertical-align: middle;\n",
       "    }\n",
       "\n",
       "    .dataframe tbody tr th {\n",
       "        vertical-align: top;\n",
       "    }\n",
       "\n",
       "    .dataframe thead th {\n",
       "        text-align: right;\n",
       "    }\n",
       "</style>\n",
       "<table border=\"1\" class=\"dataframe\">\n",
       "  <thead>\n",
       "    <tr style=\"text-align: right;\">\n",
       "      <th></th>\n",
       "      <th>details</th>\n",
       "    </tr>\n",
       "    <tr>\n",
       "      <th>event_name</th>\n",
       "      <th></th>\n",
       "    </tr>\n",
       "  </thead>\n",
       "  <tbody>\n",
       "    <tr>\n",
       "      <th>login</th>\n",
       "      <td>0</td>\n",
       "    </tr>\n",
       "    <tr>\n",
       "      <th>product_cart</th>\n",
       "      <td>0</td>\n",
       "    </tr>\n",
       "    <tr>\n",
       "      <th>product_page</th>\n",
       "      <td>0</td>\n",
       "    </tr>\n",
       "    <tr>\n",
       "      <th>purchase</th>\n",
       "      <td>62740</td>\n",
       "    </tr>\n",
       "  </tbody>\n",
       "</table>\n",
       "</div>"
      ],
      "text/plain": [
       "              details\n",
       "event_name           \n",
       "login               0\n",
       "product_cart        0\n",
       "product_page        0\n",
       "purchase        62740"
      ]
     },
     "execution_count": 14,
     "metadata": {},
     "output_type": "execute_result"
    }
   ],
   "source": [
    "events.groupby('event_name').agg({'details' : 'count'})"
   ]
  },
  {
   "cell_type": "markdown",
   "metadata": {},
   "source": [
    "В колонке details датасета events хранятся только суммы покупок, число остальных событий равно числу пропусков. Пропуски в данном столбце никак не повлияют на результат. Можем их оставить"
   ]
  },
  {
   "cell_type": "markdown",
   "metadata": {},
   "source": [
    "Поменяем типы данных"
   ]
  },
  {
   "cell_type": "code",
   "execution_count": 15,
   "metadata": {},
   "outputs": [],
   "source": [
    "events['event_dt'] = pd.to_datetime(events['event_dt'])\n",
    "users['first_date'] = pd.to_datetime(users['first_date'])\n",
    "marketing['start_dt'] = pd.to_datetime(marketing['start_dt'])\n",
    "marketing['finish_dt'] = pd.to_datetime(marketing['finish_dt'])"
   ]
  },
  {
   "cell_type": "markdown",
   "metadata": {},
   "source": [
    "Данные готовы к дальнейшей работе"
   ]
  },
  {
   "cell_type": "markdown",
   "metadata": {},
   "source": [
    "## Проверка корретности данных"
   ]
  },
  {
   "cell_type": "markdown",
   "metadata": {},
   "source": [
    "Посмотрим количество участников каждого теста:"
   ]
  },
  {
   "cell_type": "code",
   "execution_count": 16,
   "metadata": {},
   "outputs": [
    {
     "data": {
      "text/plain": [
       "interface_eu_test          11567\n",
       "recommender_system_test     6701\n",
       "Name: ab_test, dtype: int64"
      ]
     },
     "execution_count": 16,
     "metadata": {},
     "output_type": "execute_result"
    }
   ],
   "source": [
    "participants['ab_test'].value_counts()"
   ]
  },
  {
   "cell_type": "markdown",
   "metadata": {},
   "source": [
    "В данных представлены два теста. Нам по техническому заданию нужен recommender_system_test "
   ]
  },
  {
   "cell_type": "markdown",
   "metadata": {},
   "source": [
    "Посмотрим AB тест recommender_system_test"
   ]
  },
  {
   "cell_type": "code",
   "execution_count": 17,
   "metadata": {
    "scrolled": true
   },
   "outputs": [
    {
     "data": {
      "text/plain": [
       "user_id    6701\n",
       "group         2\n",
       "ab_test       1\n",
       "dtype: int64"
      ]
     },
     "execution_count": 17,
     "metadata": {},
     "output_type": "execute_result"
    }
   ],
   "source": [
    "participants.query('ab_test == \"recommender_system_test\"').nunique()"
   ]
  },
  {
   "cell_type": "markdown",
   "metadata": {},
   "source": [
    "Уникальных пользователей 6701, группы две, тест один. "
   ]
  },
  {
   "cell_type": "markdown",
   "metadata": {},
   "source": [
    "Проверим есть ли участники, которые участвуют в двух тестах"
   ]
  },
  {
   "cell_type": "code",
   "execution_count": 18,
   "metadata": {},
   "outputs": [
    {
     "data": {
      "text/plain": [
       "1602"
      ]
     },
     "execution_count": 18,
     "metadata": {},
     "output_type": "execute_result"
    }
   ],
   "source": [
    "two_users=participants.groupby('user_id').agg({'ab_test': 'nunique'}).reset_index().query('ab_test > 1')['user_id']\n",
    "two_users.count()"
   ]
  },
  {
   "cell_type": "code",
   "execution_count": 19,
   "metadata": {},
   "outputs": [
    {
     "data": {
      "text/plain": [
       "user_id    1602\n",
       "ab_test    1602\n",
       "dtype: int64"
      ]
     },
     "execution_count": 19,
     "metadata": {},
     "output_type": "execute_result"
    }
   ],
   "source": [
    "participants.groupby('user_id')['ab_test'].nunique()\\\n",
    "                      .reset_index().query('ab_test > 1').count()"
   ]
  },
  {
   "cell_type": "markdown",
   "metadata": {},
   "source": [
    "Есть! И их 1602. Нахождение в двух тестах сразу искажает результаты дальнейшего анализа. Таких пользователей надо удалить"
   ]
  },
  {
   "cell_type": "markdown",
   "metadata": {},
   "source": [
    "Оставляем только уникальных участников recommender_system_test"
   ]
  },
  {
   "cell_type": "code",
   "execution_count": 20,
   "metadata": {
    "scrolled": true
   },
   "outputs": [
    {
     "name": "stdout",
     "output_type": "stream",
     "text": [
      "<class 'pandas.core.frame.DataFrame'>\n",
      "Int64Index: 5099 entries, 0 to 6700\n",
      "Data columns (total 3 columns):\n",
      " #   Column   Non-Null Count  Dtype \n",
      "---  ------   --------------  ----- \n",
      " 0   user_id  5099 non-null   object\n",
      " 1   group    5099 non-null   object\n",
      " 2   ab_test  5099 non-null   object\n",
      "dtypes: object(3)\n",
      "memory usage: 159.3+ KB\n"
     ]
    }
   ],
   "source": [
    "participants_clear = participants.query('ab_test == \"recommender_system_test\" and user_id not in @two_users')\n",
    "participants_clear.info()"
   ]
  },
  {
   "cell_type": "markdown",
   "metadata": {},
   "source": [
    "Проверили. что участники только в одном группе"
   ]
  },
  {
   "cell_type": "code",
   "execution_count": 21,
   "metadata": {
    "scrolled": true
   },
   "outputs": [
    {
     "data": {
      "text/html": [
       "<div>\n",
       "<style scoped>\n",
       "    .dataframe tbody tr th:only-of-type {\n",
       "        vertical-align: middle;\n",
       "    }\n",
       "\n",
       "    .dataframe tbody tr th {\n",
       "        vertical-align: top;\n",
       "    }\n",
       "\n",
       "    .dataframe thead th {\n",
       "        text-align: right;\n",
       "    }\n",
       "</style>\n",
       "<table border=\"1\" class=\"dataframe\">\n",
       "  <thead>\n",
       "    <tr style=\"text-align: right;\">\n",
       "      <th></th>\n",
       "      <th>group</th>\n",
       "    </tr>\n",
       "    <tr>\n",
       "      <th>user_id</th>\n",
       "      <th></th>\n",
       "    </tr>\n",
       "  </thead>\n",
       "  <tbody>\n",
       "  </tbody>\n",
       "</table>\n",
       "</div>"
      ],
      "text/plain": [
       "Empty DataFrame\n",
       "Columns: [group]\n",
       "Index: []"
      ]
     },
     "execution_count": 21,
     "metadata": {},
     "output_type": "execute_result"
    }
   ],
   "source": [
    "participants_clear.groupby('user_id').agg({'group': 'count'}).query('group > 1')"
   ]
  },
  {
   "cell_type": "markdown",
   "metadata": {},
   "source": [
    "Таких нет"
   ]
  },
  {
   "cell_type": "markdown",
   "metadata": {},
   "source": [
    "Дальше рассматриваем только уникальных пользоватлей recommender_system_test"
   ]
  },
  {
   "cell_type": "code",
   "execution_count": 22,
   "metadata": {},
   "outputs": [
    {
     "data": {
      "text/html": [
       "<div>\n",
       "<style scoped>\n",
       "    .dataframe tbody tr th:only-of-type {\n",
       "        vertical-align: middle;\n",
       "    }\n",
       "\n",
       "    .dataframe tbody tr th {\n",
       "        vertical-align: top;\n",
       "    }\n",
       "\n",
       "    .dataframe thead th {\n",
       "        text-align: right;\n",
       "    }\n",
       "</style>\n",
       "<table border=\"1\" class=\"dataframe\">\n",
       "  <thead>\n",
       "    <tr style=\"text-align: right;\">\n",
       "      <th></th>\n",
       "      <th>user_id</th>\n",
       "      <th>group</th>\n",
       "      <th>ab_test</th>\n",
       "      <th>first_date</th>\n",
       "      <th>region</th>\n",
       "      <th>device</th>\n",
       "    </tr>\n",
       "  </thead>\n",
       "  <tbody>\n",
       "    <tr>\n",
       "      <th>1658</th>\n",
       "      <td>9745CE1D5B111CB1</td>\n",
       "      <td>A</td>\n",
       "      <td>recommender_system_test</td>\n",
       "      <td>2020-12-14</td>\n",
       "      <td>EU</td>\n",
       "      <td>iPhone</td>\n",
       "    </tr>\n",
       "    <tr>\n",
       "      <th>1971</th>\n",
       "      <td>97C81DBEC8A630F9</td>\n",
       "      <td>A</td>\n",
       "      <td>recommender_system_test</td>\n",
       "      <td>2020-12-20</td>\n",
       "      <td>EU</td>\n",
       "      <td>iPhone</td>\n",
       "    </tr>\n",
       "    <tr>\n",
       "      <th>4022</th>\n",
       "      <td>82AE150FE103247A</td>\n",
       "      <td>A</td>\n",
       "      <td>recommender_system_test</td>\n",
       "      <td>2020-12-20</td>\n",
       "      <td>EU</td>\n",
       "      <td>PC</td>\n",
       "    </tr>\n",
       "    <tr>\n",
       "      <th>306</th>\n",
       "      <td>D5677961ADDD8C4F</td>\n",
       "      <td>A</td>\n",
       "      <td>recommender_system_test</td>\n",
       "      <td>2020-12-07</td>\n",
       "      <td>EU</td>\n",
       "      <td>Android</td>\n",
       "    </tr>\n",
       "    <tr>\n",
       "      <th>2678</th>\n",
       "      <td>833B123682A99117</td>\n",
       "      <td>A</td>\n",
       "      <td>recommender_system_test</td>\n",
       "      <td>2020-12-07</td>\n",
       "      <td>EU</td>\n",
       "      <td>Android</td>\n",
       "    </tr>\n",
       "    <tr>\n",
       "      <th>4948</th>\n",
       "      <td>7898A26428D4BA04</td>\n",
       "      <td>B</td>\n",
       "      <td>recommender_system_test</td>\n",
       "      <td>2020-12-19</td>\n",
       "      <td>CIS</td>\n",
       "      <td>PC</td>\n",
       "    </tr>\n",
       "    <tr>\n",
       "      <th>3819</th>\n",
       "      <td>55AFFC54CA8EA71B</td>\n",
       "      <td>B</td>\n",
       "      <td>recommender_system_test</td>\n",
       "      <td>2020-12-13</td>\n",
       "      <td>EU</td>\n",
       "      <td>Android</td>\n",
       "    </tr>\n",
       "    <tr>\n",
       "      <th>43</th>\n",
       "      <td>2EE7F4150A02FF8E</td>\n",
       "      <td>A</td>\n",
       "      <td>recommender_system_test</td>\n",
       "      <td>2020-12-12</td>\n",
       "      <td>EU</td>\n",
       "      <td>PC</td>\n",
       "    </tr>\n",
       "    <tr>\n",
       "      <th>3410</th>\n",
       "      <td>958F3C157633225D</td>\n",
       "      <td>A</td>\n",
       "      <td>recommender_system_test</td>\n",
       "      <td>2020-12-19</td>\n",
       "      <td>EU</td>\n",
       "      <td>Android</td>\n",
       "    </tr>\n",
       "    <tr>\n",
       "      <th>1694</th>\n",
       "      <td>87A925B3240C69AB</td>\n",
       "      <td>B</td>\n",
       "      <td>recommender_system_test</td>\n",
       "      <td>2020-12-14</td>\n",
       "      <td>EU</td>\n",
       "      <td>iPhone</td>\n",
       "    </tr>\n",
       "  </tbody>\n",
       "</table>\n",
       "</div>"
      ],
      "text/plain": [
       "               user_id group                  ab_test first_date region  \\\n",
       "1658  9745CE1D5B111CB1     A  recommender_system_test 2020-12-14     EU   \n",
       "1971  97C81DBEC8A630F9     A  recommender_system_test 2020-12-20     EU   \n",
       "4022  82AE150FE103247A     A  recommender_system_test 2020-12-20     EU   \n",
       "306   D5677961ADDD8C4F     A  recommender_system_test 2020-12-07     EU   \n",
       "2678  833B123682A99117     A  recommender_system_test 2020-12-07     EU   \n",
       "4948  7898A26428D4BA04     B  recommender_system_test 2020-12-19    CIS   \n",
       "3819  55AFFC54CA8EA71B     B  recommender_system_test 2020-12-13     EU   \n",
       "43    2EE7F4150A02FF8E     A  recommender_system_test 2020-12-12     EU   \n",
       "3410  958F3C157633225D     A  recommender_system_test 2020-12-19     EU   \n",
       "1694  87A925B3240C69AB     B  recommender_system_test 2020-12-14     EU   \n",
       "\n",
       "       device  \n",
       "1658   iPhone  \n",
       "1971   iPhone  \n",
       "4022       PC  \n",
       "306   Android  \n",
       "2678  Android  \n",
       "4948       PC  \n",
       "3819  Android  \n",
       "43         PC  \n",
       "3410  Android  \n",
       "1694   iPhone  "
      ]
     },
     "execution_count": 22,
     "metadata": {},
     "output_type": "execute_result"
    }
   ],
   "source": [
    "users_clear = pd.merge(participants_clear, users, on = 'user_id', how = 'left')\n",
    "users_clear.sample(10)"
   ]
  },
  {
   "cell_type": "code",
   "execution_count": 23,
   "metadata": {
    "scrolled": true
   },
   "outputs": [
    {
     "name": "stdout",
     "output_type": "stream",
     "text": [
      "2020-12-07 2020-12-21\n"
     ]
    }
   ],
   "source": [
    "print(users_clear['first_date'].min().date(),users_clear['first_date'].max().date())"
   ]
  },
  {
   "cell_type": "markdown",
   "metadata": {},
   "source": [
    "Участники регистрировались с 07.12 по 21.12, все согласно тех заданию"
   ]
  },
  {
   "cell_type": "code",
   "execution_count": 24,
   "metadata": {
    "scrolled": true
   },
   "outputs": [
    {
     "data": {
      "text/html": [
       "<div>\n",
       "<style scoped>\n",
       "    .dataframe tbody tr th:only-of-type {\n",
       "        vertical-align: middle;\n",
       "    }\n",
       "\n",
       "    .dataframe tbody tr th {\n",
       "        vertical-align: top;\n",
       "    }\n",
       "\n",
       "    .dataframe thead th {\n",
       "        text-align: right;\n",
       "    }\n",
       "</style>\n",
       "<table border=\"1\" class=\"dataframe\">\n",
       "  <thead>\n",
       "    <tr style=\"text-align: right;\">\n",
       "      <th></th>\n",
       "      <th>index</th>\n",
       "      <th>region</th>\n",
       "    </tr>\n",
       "  </thead>\n",
       "  <tbody>\n",
       "    <tr>\n",
       "      <th>0</th>\n",
       "      <td>EU</td>\n",
       "      <td>4749</td>\n",
       "    </tr>\n",
       "    <tr>\n",
       "      <th>1</th>\n",
       "      <td>N.America</td>\n",
       "      <td>223</td>\n",
       "    </tr>\n",
       "    <tr>\n",
       "      <th>2</th>\n",
       "      <td>APAC</td>\n",
       "      <td>72</td>\n",
       "    </tr>\n",
       "    <tr>\n",
       "      <th>3</th>\n",
       "      <td>CIS</td>\n",
       "      <td>55</td>\n",
       "    </tr>\n",
       "  </tbody>\n",
       "</table>\n",
       "</div>"
      ],
      "text/plain": [
       "       index  region\n",
       "0         EU    4749\n",
       "1  N.America     223\n",
       "2       APAC      72\n",
       "3        CIS      55"
      ]
     },
     "execution_count": 24,
     "metadata": {},
     "output_type": "execute_result"
    }
   ],
   "source": [
    "region = users_clear['region'].value_counts().reset_index()\n",
    "region"
   ]
  },
  {
   "cell_type": "code",
   "execution_count": 25,
   "metadata": {
    "scrolled": true
   },
   "outputs": [
    {
     "data": {
      "text/plain": [
       "46270"
      ]
     },
     "execution_count": 25,
     "metadata": {},
     "output_type": "execute_result"
    }
   ],
   "source": [
    "eu = len(users[users['region'] == 'EU']['user_id'].unique())\n",
    "eu"
   ]
  },
  {
   "cell_type": "markdown",
   "metadata": {},
   "source": [
    "Общее количество пользователей из Европы 46270"
   ]
  },
  {
   "cell_type": "code",
   "execution_count": 26,
   "metadata": {},
   "outputs": [
    {
     "data": {
      "text/plain": [
       "4749"
      ]
     },
     "execution_count": 26,
     "metadata": {},
     "output_type": "execute_result"
    }
   ],
   "source": [
    "eu_clear = users_clear[users_clear['region'] == 'EU']['user_id'].count()\n",
    "eu_clear"
   ]
  },
  {
   "cell_type": "markdown",
   "metadata": {},
   "source": [
    "В нашем тесте пользователей из Европы 4749"
   ]
  },
  {
   "cell_type": "code",
   "execution_count": 27,
   "metadata": {},
   "outputs": [
    {
     "data": {
      "text/plain": [
       "10.26"
      ]
     },
     "execution_count": 27,
     "metadata": {},
     "output_type": "execute_result"
    }
   ],
   "source": [
    "((eu_clear/eu)*100).round(2)\n"
   ]
  },
  {
   "cell_type": "markdown",
   "metadata": {},
   "source": [
    "Пользователей из региона EU: 10,26 %, что не соотвествуют тех заданию"
   ]
  },
  {
   "cell_type": "markdown",
   "metadata": {},
   "source": [
    "Соединяем очищенную таблицу с участниками с событиями"
   ]
  },
  {
   "cell_type": "code",
   "execution_count": 28,
   "metadata": {},
   "outputs": [
    {
     "name": "stdout",
     "output_type": "stream",
     "text": [
      "<class 'pandas.core.frame.DataFrame'>\n",
      "Int64Index: 21115 entries, 0 to 21114\n",
      "Data columns (total 6 columns):\n",
      " #   Column      Non-Null Count  Dtype         \n",
      "---  ------      --------------  -----         \n",
      " 0   user_id     21115 non-null  object        \n",
      " 1   group       21115 non-null  object        \n",
      " 2   ab_test     21115 non-null  object        \n",
      " 3   event_dt    18804 non-null  datetime64[ns]\n",
      " 4   event_name  18804 non-null  object        \n",
      " 5   details     2483 non-null   float64       \n",
      "dtypes: datetime64[ns](1), float64(1), object(4)\n",
      "memory usage: 1.1+ MB\n"
     ]
    }
   ],
   "source": [
    "events_clear = pd.merge(participants_clear, events, on = 'user_id', how = 'left')\n",
    "events_clear.info()"
   ]
  },
  {
   "cell_type": "markdown",
   "metadata": {},
   "source": [
    "В объединенной таблице появились пропуски в столбцах, связанных с событием. Значит нет никакого события у данного пользователя. Можно удалить"
   ]
  },
  {
   "cell_type": "code",
   "execution_count": 29,
   "metadata": {
    "scrolled": true
   },
   "outputs": [
    {
     "name": "stdout",
     "output_type": "stream",
     "text": [
      "<class 'pandas.core.frame.DataFrame'>\n",
      "Int64Index: 18804 entries, 0 to 21114\n",
      "Data columns (total 6 columns):\n",
      " #   Column      Non-Null Count  Dtype         \n",
      "---  ------      --------------  -----         \n",
      " 0   user_id     18804 non-null  object        \n",
      " 1   group       18804 non-null  object        \n",
      " 2   ab_test     18804 non-null  object        \n",
      " 3   event_dt    18804 non-null  datetime64[ns]\n",
      " 4   event_name  18804 non-null  object        \n",
      " 5   details     2483 non-null   float64       \n",
      "dtypes: datetime64[ns](1), float64(1), object(4)\n",
      "memory usage: 1.0+ MB\n"
     ]
    }
   ],
   "source": [
    "events_clear = events_clear.dropna(subset = ['event_name'])\n",
    "events_clear.info()"
   ]
  },
  {
   "cell_type": "markdown",
   "metadata": {},
   "source": [
    "Посмотрим время проведения теста"
   ]
  },
  {
   "cell_type": "code",
   "execution_count": 30,
   "metadata": {},
   "outputs": [
    {
     "name": "stdout",
     "output_type": "stream",
     "text": [
      "2020-12-07 2020-12-30\n"
     ]
    }
   ],
   "source": [
    "print(events_clear['event_dt'].min().date(), events_clear['event_dt'].max().date())"
   ]
  },
  {
   "cell_type": "markdown",
   "metadata": {},
   "source": [
    "Дата остановки A/B тестирования 4 января 2021 года, однако исходя из полученной информации, мы видим, что последние событие было совершено 30 декабря 2020 года. Получается, что у нас отсутствуют данные за 5 дней или тест остановили заранее"
   ]
  },
  {
   "cell_type": "markdown",
   "metadata": {},
   "source": [
    "Также для АВ теста выбрано не самое удачное время - время перед новым годом. В это время люди совершают много покупок и их поведение сильно отличается от обычного времени. Также в это время начинается пора скидок. "
   ]
  },
  {
   "cell_type": "markdown",
   "metadata": {},
   "source": [
    "Посмотрим какие маркетинговые активности совершались во время проведения теста"
   ]
  },
  {
   "cell_type": "code",
   "execution_count": 31,
   "metadata": {
    "scrolled": true
   },
   "outputs": [
    {
     "data": {
      "text/html": [
       "<div>\n",
       "<style scoped>\n",
       "    .dataframe tbody tr th:only-of-type {\n",
       "        vertical-align: middle;\n",
       "    }\n",
       "\n",
       "    .dataframe tbody tr th {\n",
       "        vertical-align: top;\n",
       "    }\n",
       "\n",
       "    .dataframe thead th {\n",
       "        text-align: right;\n",
       "    }\n",
       "</style>\n",
       "<table border=\"1\" class=\"dataframe\">\n",
       "  <thead>\n",
       "    <tr style=\"text-align: right;\">\n",
       "      <th></th>\n",
       "      <th>name</th>\n",
       "      <th>regions</th>\n",
       "      <th>start_dt</th>\n",
       "      <th>finish_dt</th>\n",
       "    </tr>\n",
       "  </thead>\n",
       "  <tbody>\n",
       "    <tr>\n",
       "      <th>0</th>\n",
       "      <td>Christmas&amp;New Year Promo</td>\n",
       "      <td>EU, N.America</td>\n",
       "      <td>2020-12-25</td>\n",
       "      <td>2021-01-03</td>\n",
       "    </tr>\n",
       "    <tr>\n",
       "      <th>10</th>\n",
       "      <td>CIS New Year Gift Lottery</td>\n",
       "      <td>CIS</td>\n",
       "      <td>2020-12-30</td>\n",
       "      <td>2021-01-07</td>\n",
       "    </tr>\n",
       "  </tbody>\n",
       "</table>\n",
       "</div>"
      ],
      "text/plain": [
       "                         name        regions   start_dt  finish_dt\n",
       "0    Christmas&New Year Promo  EU, N.America 2020-12-25 2021-01-03\n",
       "10  CIS New Year Gift Lottery            CIS 2020-12-30 2021-01-07"
      ]
     },
     "execution_count": 31,
     "metadata": {},
     "output_type": "execute_result"
    }
   ],
   "source": [
    "marketing.query('start_dt > \"2020-12-07\" and finish_dt < \"2021-12-30\"')"
   ]
  },
  {
   "cell_type": "markdown",
   "metadata": {},
   "source": [
    "Действительно с 25.12 по 07.01 проходят 2 маркетинговых события, они могут повлиять на результаты, но так как регистрация участников закончилась 21.12 - это влияние не сильное"
   ]
  },
  {
   "cell_type": "code",
   "execution_count": 32,
   "metadata": {
    "scrolled": false
   },
   "outputs": [
    {
     "data": {
      "image/png": "[encoded data removed]",
      "text/plain": [
       "<Figure size 1080x360 with 1 Axes>"
      ]
     },
     "metadata": {
      "needs_background": "light"
     },
     "output_type": "display_data"
    }
   ],
   "source": [
    "events_clear['date'] = pd.to_datetime(events_clear['event_dt']).dt.date\n",
    "events_clear.groupby('date').agg({'event_name' : 'count'}).plot(kind= 'bar', figsize = (15, 5))\n",
    "plt.xlabel(\"Дата\")\n",
    "plt.ylabel(\"Количество событый\")\n",
    "plt.title('Диаграмма по дате и общему количеству событый')\n",
    "plt.show()"
   ]
  },
  {
   "cell_type": "markdown",
   "metadata": {},
   "source": [
    "Посмотрим равномерность распределения по тестовым группам"
   ]
  },
  {
   "cell_type": "code",
   "execution_count": 33,
   "metadata": {},
   "outputs": [
    {
     "data": {
      "text/html": [
       "<div>\n",
       "<style scoped>\n",
       "    .dataframe tbody tr th:only-of-type {\n",
       "        vertical-align: middle;\n",
       "    }\n",
       "\n",
       "    .dataframe tbody tr th {\n",
       "        vertical-align: top;\n",
       "    }\n",
       "\n",
       "    .dataframe thead th {\n",
       "        text-align: right;\n",
       "    }\n",
       "</style>\n",
       "<table border=\"1\" class=\"dataframe\">\n",
       "  <thead>\n",
       "    <tr style=\"text-align: right;\">\n",
       "      <th></th>\n",
       "      <th>user_id</th>\n",
       "    </tr>\n",
       "    <tr>\n",
       "      <th>group</th>\n",
       "      <th></th>\n",
       "    </tr>\n",
       "  </thead>\n",
       "  <tbody>\n",
       "    <tr>\n",
       "      <th>A</th>\n",
       "      <td>2082</td>\n",
       "    </tr>\n",
       "    <tr>\n",
       "      <th>B</th>\n",
       "      <td>706</td>\n",
       "    </tr>\n",
       "  </tbody>\n",
       "</table>\n",
       "</div>"
      ],
      "text/plain": [
       "       user_id\n",
       "group         \n",
       "A         2082\n",
       "B          706"
      ]
     },
     "execution_count": 33,
     "metadata": {},
     "output_type": "execute_result"
    }
   ],
   "source": [
    "events_clear.groupby('group').agg({'user_id': 'nunique'})"
   ]
  },
  {
   "cell_type": "markdown",
   "metadata": {},
   "source": [
    "Группы распределены неравномерно, это может сильно влиять на результат теста"
   ]
  },
  {
   "cell_type": "markdown",
   "metadata": {},
   "source": [
    "## Исследовательский анализ"
   ]
  },
  {
   "cell_type": "markdown",
   "metadata": {},
   "source": [
    "Количество событий на пользователя одинаково распределены в выборках?"
   ]
  },
  {
   "cell_type": "code",
   "execution_count": 34,
   "metadata": {},
   "outputs": [],
   "source": [
    "event_by_user_id = events_clear.groupby(['user_id', 'group'])['event_name'].count().reset_index()"
   ]
  },
  {
   "cell_type": "code",
   "execution_count": 35,
   "metadata": {},
   "outputs": [
    {
     "name": "stdout",
     "output_type": "stream",
     "text": [
      "Среднее количество событий на пользователя в группе А: 7\n",
      "Среднее количество событий на пользователя в группе B: 6\n"
     ]
    }
   ],
   "source": [
    "print('Среднее количество событий на пользователя в группе А: {:.0f}' \\\n",
    "                              .format(event_by_user_id.query('group == \"A\"')['event_name'].mean()))\n",
    "print('Среднее количество событий на пользователя в группе B: {:.0f}' \\\n",
    "                                .format(event_by_user_id.query('group == \"B\"')['event_name'].mean()))"
   ]
  },
  {
   "cell_type": "code",
   "execution_count": 36,
   "metadata": {
    "scrolled": false
   },
   "outputs": [
    {
     "data": {
      "image/png": "[encoded data removed]",
      "text/plain": [
       "<Figure size 1080x504 with 1 Axes>"
      ]
     },
     "metadata": {
      "needs_background": "light"
     },
     "output_type": "display_data"
    }
   ],
   "source": [
    "plt.figure(figsize = (15, 7))\n",
    "plt.grid(True)\n",
    "plt.title('Среднеее количество событий на пользователя по группам.')\n",
    "sns.boxplot(data = event_by_user_id, y='event_name', x = 'group')\n",
    "plt.ylabel('Количество событий')\n",
    "plt.xlabel('Группы')\n",
    "plt.show()"
   ]
  },
  {
   "cell_type": "markdown",
   "metadata": {},
   "source": [
    "В группе А в среднем событий на пользователя больше."
   ]
  },
  {
   "cell_type": "markdown",
   "metadata": {},
   "source": [
    "Как число событий в выборках распределено по дням?"
   ]
  },
  {
   "cell_type": "code",
   "execution_count": 37,
   "metadata": {},
   "outputs": [
    {
     "data": {
      "image/png": "[encoded data removed]",
      "text/plain": [
       "<Figure size 1440x504 with 1 Axes>"
      ]
     },
     "metadata": {
      "needs_background": "light"
     },
     "output_type": "display_data"
    }
   ],
   "source": [
    "plt.figure(figsize = (20, 7))\n",
    "plt.grid(True)\n",
    "sns.histplot(data = events_clear, x = 'date', hue = 'group',palette='dark')\n",
    "plt.title('Распределение количества действий пользователей по времени в группах')\n",
    "plt.ylabel('Количество действий')\n",
    "plt.xlabel('Дата')\n",
    "plt.show()"
   ]
  },
  {
   "cell_type": "markdown",
   "metadata": {},
   "source": [
    "По дням события распределены неравномерно. Мы видим увеличение действий перед праздниками с пиком совершенных событий 21.12.2020. Это последний день регистраций и возможно много людей регистрировались в последний момент"
   ]
  },
  {
   "cell_type": "markdown",
   "metadata": {},
   "source": [
    "Как меняется конверсия в воронке в выборках на разных этапах?"
   ]
  },
  {
   "cell_type": "code",
   "execution_count": 38,
   "metadata": {},
   "outputs": [
    {
     "data": {
      "text/html": [
       "<div>\n",
       "<style scoped>\n",
       "    .dataframe tbody tr th:only-of-type {\n",
       "        vertical-align: middle;\n",
       "    }\n",
       "\n",
       "    .dataframe tbody tr th {\n",
       "        vertical-align: top;\n",
       "    }\n",
       "\n",
       "    .dataframe thead th {\n",
       "        text-align: right;\n",
       "    }\n",
       "</style>\n",
       "<table border=\"1\" class=\"dataframe\">\n",
       "  <thead>\n",
       "    <tr style=\"text-align: right;\">\n",
       "      <th></th>\n",
       "      <th>event_name</th>\n",
       "      <th>user_id</th>\n",
       "    </tr>\n",
       "  </thead>\n",
       "  <tbody>\n",
       "    <tr>\n",
       "      <th>0</th>\n",
       "      <td>login</td>\n",
       "      <td>2788</td>\n",
       "    </tr>\n",
       "    <tr>\n",
       "      <th>2</th>\n",
       "      <td>product_page</td>\n",
       "      <td>1757</td>\n",
       "    </tr>\n",
       "    <tr>\n",
       "      <th>3</th>\n",
       "      <td>purchase</td>\n",
       "      <td>850</td>\n",
       "    </tr>\n",
       "    <tr>\n",
       "      <th>1</th>\n",
       "      <td>product_cart</td>\n",
       "      <td>826</td>\n",
       "    </tr>\n",
       "  </tbody>\n",
       "</table>\n",
       "</div>"
      ],
      "text/plain": [
       "     event_name  user_id\n",
       "0         login     2788\n",
       "2  product_page     1757\n",
       "3      purchase      850\n",
       "1  product_cart      826"
      ]
     },
     "execution_count": 38,
     "metadata": {},
     "output_type": "execute_result"
    }
   ],
   "source": [
    "funnel = events_clear.pivot_table(index = ('event_name'), values = 'user_id', aggfunc = {'user_id' : 'nunique'})\\\n",
    "                        .reset_index().sort_values('user_id', ascending = False)\n",
    "\n",
    "funnel"
   ]
  },
  {
   "cell_type": "code",
   "execution_count": 58,
   "metadata": {
    "scrolled": false
   },
   "outputs": [
    {
     "data": {
      "application/vnd.plotly.v1+json": {
       "config": {
        "plotlyServerURL": "https://plot.ly"
       },
       "data": [
        {
         "textinfo": "value+percent initial",
         "type": "funnel",
         "x": [
          2788,
          1757,
          826,
          850
         ],
         "y": [
          "login",
          "product_page",
          "product_cart",
          "purchase"
         ]
        }
       ],
       "layout": {
        "template": {
         "data": {
          "bar": [
           {
            "error_x": {
             "color": "#2a3f5f"
            },
            "error_y": {
             "color": "#2a3f5f"
            },
            "marker": {
             "line": {
              "color": "#E5ECF6",
              "width": 0.5
             },
             "pattern": {
              "fillmode": "overlay",
              "size": 10,
              "solidity": 0.2
             }
            },
            "type": "bar"
           }
          ],
          "barpolar": [
           {
            "marker": {
             "line": {
              "color": "#E5ECF6",
              "width": 0.5
             },
             "pattern": {
              "fillmode": "overlay",
              "size": 10,
              "solidity": 0.2
             }
            },
            "type": "barpolar"
           }
          ],
          "carpet": [
           {
            "aaxis": {
             "endlinecolor": "#2a3f5f",
             "gridcolor": "white",
             "linecolor": "white",
             "minorgridcolor": "white",
             "startlinecolor": "#2a3f5f"
            },
            "baxis": {
             "endlinecolor": "#2a3f5f",
             "gridcolor": "white",
             "linecolor": "white",
             "minorgridcolor": "white",
             "startlinecolor": "#2a3f5f"
            },
            "type": "carpet"
           }
          ],
          "choropleth": [
           {
            "colorbar": {
             "outlinewidth": 0,
             "ticks": ""
            },
            "type": "choropleth"
           }
          ],
          "contour": [
           {
            "colorbar": {
             "outlinewidth": 0,
             "ticks": ""
            },
            "colorscale": [
             [
              0,
              "#0d0887"
             ],
             [
              0.1111111111111111,
              "#46039f"
             ],
             [
              0.2222222222222222,
              "#7201a8"
             ],
             [
              0.3333333333333333,
              "#9c179e"
             ],
             [
              0.4444444444444444,
              "#bd3786"
             ],
             [
              0.5555555555555556,
              "#d8576b"
             ],
             [
              0.6666666666666666,
              "#ed7953"
             ],
             [
              0.7777777777777778,
              "#fb9f3a"
             ],
             [
              0.8888888888888888,
              "#fdca26"
             ],
             [
              1,
              "#f0f921"
             ]
            ],
            "type": "contour"
           }
          ],
          "contourcarpet": [
           {
            "colorbar": {
             "outlinewidth": 0,
             "ticks": ""
            },
            "type": "contourcarpet"
           }
          ],
          "heatmap": [
           {
            "colorbar": {
             "outlinewidth": 0,
             "ticks": ""
            },
            "colorscale": [
             [
              0,
              "#0d0887"
             ],
             [
              0.1111111111111111,
              "#46039f"
             ],
             [
              0.2222222222222222,
              "#7201a8"
             ],
             [
              0.3333333333333333,
              "#9c179e"
             ],
             [
              0.4444444444444444,
              "#bd3786"
             ],
             [
              0.5555555555555556,
              "#d8576b"
             ],
             [
              0.6666666666666666,
              "#ed7953"
             ],
             [
              0.7777777777777778,
              "#fb9f3a"
             ],
             [
              0.8888888888888888,
              "#fdca26"
             ],
             [
              1,
              "#f0f921"
             ]
            ],
            "type": "heatmap"
           }
          ],
          "heatmapgl": [
           {
            "colorbar": {
             "outlinewidth": 0,
             "ticks": ""
            },
            "colorscale": [
             [
              0,
              "#0d0887"
             ],
             [
              0.1111111111111111,
              "#46039f"
             ],
             [
              0.2222222222222222,
              "#7201a8"
             ],
             [
              0.3333333333333333,
              "#9c179e"
             ],
             [
              0.4444444444444444,
              "#bd3786"
             ],
             [
              0.5555555555555556,
              "#d8576b"
             ],
             [
              0.6666666666666666,
              "#ed7953"
             ],
             [
              0.7777777777777778,
              "#fb9f3a"
             ],
             [
              0.8888888888888888,
              "#fdca26"
             ],
             [
              1,
              "#f0f921"
             ]
            ],
            "type": "heatmapgl"
           }
          ],
          "histogram": [
           {
            "marker": {
             "pattern": {
              "fillmode": "overlay",
              "size": 10,
              "solidity": 0.2
             }
            },
            "type": "histogram"
           }
          ],
          "histogram2d": [
           {
            "colorbar": {
             "outlinewidth": 0,
             "ticks": ""
            },
            "colorscale": [
             [
              0,
              "#0d0887"
             ],
             [
              0.1111111111111111,
              "#46039f"
             ],
             [
              0.2222222222222222,
              "#7201a8"
             ],
             [
              0.3333333333333333,
              "#9c179e"
             ],
             [
              0.4444444444444444,
              "#bd3786"
             ],
             [
              0.5555555555555556,
              "#d8576b"
             ],
             [
              0.6666666666666666,
              "#ed7953"
             ],
             [
              0.7777777777777778,
              "#fb9f3a"
             ],
             [
              0.8888888888888888,
              "#fdca26"
             ],
             [
              1,
              "#f0f921"
             ]
            ],
            "type": "histogram2d"
           }
          ],
          "histogram2dcontour": [
           {
            "colorbar": {
             "outlinewidth": 0,
             "ticks": ""
            },
            "colorscale": [
             [
              0,
              "#0d0887"
             ],
             [
              0.1111111111111111,
              "#46039f"
             ],
             [
              0.2222222222222222,
              "#7201a8"
             ],
             [
              0.3333333333333333,
              "#9c179e"
             ],
             [
              0.4444444444444444,
              "#bd3786"
             ],
             [
              0.5555555555555556,
              "#d8576b"
             ],
             [
              0.6666666666666666,
              "#ed7953"
             ],
             [
              0.7777777777777778,
              "#fb9f3a"
             ],
             [
              0.8888888888888888,
              "#fdca26"
             ],
             [
              1,
              "#f0f921"
             ]
            ],
            "type": "histogram2dcontour"
           }
          ],
          "mesh3d": [
           {
            "colorbar": {
             "outlinewidth": 0,
             "ticks": ""
            },
            "type": "mesh3d"
           }
          ],
          "parcoords": [
           {
            "line": {
             "colorbar": {
              "outlinewidth": 0,
              "ticks": ""
             }
            },
            "type": "parcoords"
           }
          ],
          "pie": [
           {
            "automargin": true,
            "type": "pie"
           }
          ],
          "scatter": [
           {
            "marker": {
             "colorbar": {
              "outlinewidth": 0,
              "ticks": ""
             }
            },
            "type": "scatter"
           }
          ],
          "scatter3d": [
           {
            "line": {
             "colorbar": {
              "outlinewidth": 0,
              "ticks": ""
             }
            },
            "marker": {
             "colorbar": {
              "outlinewidth": 0,
              "ticks": ""
             }
            },
            "type": "scatter3d"
           }
          ],
          "scattercarpet": [
           {
            "marker": {
             "colorbar": {
              "outlinewidth": 0,
              "ticks": ""
             }
            },
            "type": "scattercarpet"
           }
          ],
          "scattergeo": [
           {
            "marker": {
             "colorbar": {
              "outlinewidth": 0,
              "ticks": ""
             }
            },
            "type": "scattergeo"
           }
          ],
          "scattergl": [
           {
            "marker": {
             "colorbar": {
              "outlinewidth": 0,
              "ticks": ""
             }
            },
            "type": "scattergl"
           }
          ],
          "scattermapbox": [
           {
            "marker": {
             "colorbar": {
              "outlinewidth": 0,
              "ticks": ""
             }
            },
            "type": "scattermapbox"
           }
          ],
          "scatterpolar": [
           {
            "marker": {
             "colorbar": {
              "outlinewidth": 0,
              "ticks": ""
             }
            },
            "type": "scatterpolar"
           }
          ],
          "scatterpolargl": [
           {
            "marker": {
             "colorbar": {
              "outlinewidth": 0,
              "ticks": ""
             }
            },
            "type": "scatterpolargl"
           }
          ],
          "scatterternary": [
           {
            "marker": {
             "colorbar": {
              "outlinewidth": 0,
              "ticks": ""
             }
            },
            "type": "scatterternary"
           }
          ],
          "surface": [
           {
            "colorbar": {
             "outlinewidth": 0,
             "ticks": ""
            },
            "colorscale": [
             [
              0,
              "#0d0887"
             ],
             [
              0.1111111111111111,
              "#46039f"
             ],
             [
              0.2222222222222222,
              "#7201a8"
             ],
             [
              0.3333333333333333,
              "#9c179e"
             ],
             [
              0.4444444444444444,
              "#bd3786"
             ],
             [
              0.5555555555555556,
              "#d8576b"
             ],
             [
              0.6666666666666666,
              "#ed7953"
             ],
             [
              0.7777777777777778,
              "#fb9f3a"
             ],
             [
              0.8888888888888888,
              "#fdca26"
             ],
             [
              1,
              "#f0f921"
             ]
            ],
            "type": "surface"
           }
          ],
          "table": [
           {
            "cells": {
             "fill": {
              "color": "#EBF0F8"
             },
             "line": {
              "color": "white"
             }
            },
            "header": {
             "fill": {
              "color": "#C8D4E3"
             },
             "line": {
              "color": "white"
             }
            },
            "type": "table"
           }
          ]
         },
         "layout": {
          "annotationdefaults": {
           "arrowcolor": "#2a3f5f",
           "arrowhead": 0,
           "arrowwidth": 1
          },
          "autotypenumbers": "strict",
          "coloraxis": {
           "colorbar": {
            "outlinewidth": 0,
            "ticks": ""
           }
          },
          "colorscale": {
           "diverging": [
            [
             0,
             "#8e0152"
            ],
            [
             0.1,
             "#c51b7d"
            ],
            [
             0.2,
             "#de77ae"
            ],
            [
             0.3,
             "#f1b6da"
            ],
            [
             0.4,
             "#fde0ef"
            ],
            [
             0.5,
             "#f7f7f7"
            ],
            [
             0.6,
             "#e6f5d0"
            ],
            [
             0.7,
             "#b8e186"
            ],
            [
             0.8,
             "#7fbc41"
            ],
            [
             0.9,
             "#4d9221"
            ],
            [
             1,
             "#276419"
            ]
           ],
           "sequential": [
            [
             0,
             "#0d0887"
            ],
            [
             0.1111111111111111,
             "#46039f"
            ],
            [
             0.2222222222222222,
             "#7201a8"
            ],
            [
             0.3333333333333333,
             "#9c179e"
            ],
            [
             0.4444444444444444,
             "#bd3786"
            ],
            [
             0.5555555555555556,
             "#d8576b"
            ],
            [
             0.6666666666666666,
             "#ed7953"
            ],
            [
             0.7777777777777778,
             "#fb9f3a"
            ],
            [
             0.8888888888888888,
             "#fdca26"
            ],
            [
             1,
             "#f0f921"
            ]
           ],
           "sequentialminus": [
            [
             0,
             "#0d0887"
            ],
            [
             0.1111111111111111,
             "#46039f"
            ],
            [
             0.2222222222222222,
             "#7201a8"
            ],
            [
             0.3333333333333333,
             "#9c179e"
            ],
            [
             0.4444444444444444,
             "#bd3786"
            ],
            [
             0.5555555555555556,
             "#d8576b"
            ],
            [
             0.6666666666666666,
             "#ed7953"
            ],
            [
             0.7777777777777778,
             "#fb9f3a"
            ],
            [
             0.8888888888888888,
             "#fdca26"
            ],
            [
             1,
             "#f0f921"
            ]
           ]
          },
          "colorway": [
           "#636efa",
           "#EF553B",
           "#00cc96",
           "#ab63fa",
           "#FFA15A",
           "#19d3f3",
           "#FF6692",
           "#B6E880",
           "#FF97FF",
           "#FECB52"
          ],
          "font": {
           "color": "#2a3f5f"
          },
          "geo": {
           "bgcolor": "white",
           "lakecolor": "white",
           "landcolor": "#E5ECF6",
           "showlakes": true,
           "showland": true,
           "subunitcolor": "white"
          },
          "hoverlabel": {
           "align": "left"
          },
          "hovermode": "closest",
          "mapbox": {
           "style": "light"
          },
          "paper_bgcolor": "white",
          "plot_bgcolor": "#E5ECF6",
          "polar": {
           "angularaxis": {
            "gridcolor": "white",
            "linecolor": "white",
            "ticks": ""
           },
           "bgcolor": "#E5ECF6",
           "radialaxis": {
            "gridcolor": "white",
            "linecolor": "white",
            "ticks": ""
           }
          },
          "scene": {
           "xaxis": {
            "backgroundcolor": "#E5ECF6",
            "gridcolor": "white",
            "gridwidth": 2,
            "linecolor": "white",
            "showbackground": true,
            "ticks": "",
            "zerolinecolor": "white"
           },
           "yaxis": {
            "backgroundcolor": "#E5ECF6",
            "gridcolor": "white",
            "gridwidth": 2,
            "linecolor": "white",
            "showbackground": true,
            "ticks": "",
            "zerolinecolor": "white"
           },
           "zaxis": {
            "backgroundcolor": "#E5ECF6",
            "gridcolor": "white",
            "gridwidth": 2,
            "linecolor": "white",
            "showbackground": true,
            "ticks": "",
            "zerolinecolor": "white"
           }
          },
          "shapedefaults": {
           "line": {
            "color": "#2a3f5f"
           }
          },
          "ternary": {
           "aaxis": {
            "gridcolor": "white",
            "linecolor": "white",
            "ticks": ""
           },
           "baxis": {
            "gridcolor": "white",
            "linecolor": "white",
            "ticks": ""
           },
           "bgcolor": "#E5ECF6",
           "caxis": {
            "gridcolor": "white",
            "linecolor": "white",
            "ticks": ""
           }
          },
          "title": {
           "x": 0.05
          },
          "xaxis": {
           "automargin": true,
           "gridcolor": "white",
           "linecolor": "white",
           "ticks": "",
           "title": {
            "standoff": 15
           },
           "zerolinecolor": "white",
           "zerolinewidth": 2
          },
          "yaxis": {
           "automargin": true,
           "gridcolor": "white",
           "linecolor": "white",
           "ticks": "",
           "title": {
            "standoff": 15
           },
           "zerolinecolor": "white",
           "zerolinewidth": 2
          }
         }
        },
        "title": {
         "text": "Конверсия действий пользователей двух групп (A, B)",
         "x": 0.5
        }
       }
      },
      "text/html": [
       "<div>                            <div id=\"4cfc3d57-e049-42fe-9210-ad9d4e292c84\" class=\"plotly-graph-div\" style=\"height:525px; width:100%;\"></div>            <script type=\"text/javascript\">                require([\"plotly\"], function(Plotly) {                    window.PLOTLYENV=window.PLOTLYENV || {};                                    if (document.getElementById(\"4cfc3d57-e049-42fe-9210-ad9d4e292c84\")) {                    Plotly.newPlot(                        \"4cfc3d57-e049-42fe-9210-ad9d4e292c84\",                        [{\"textinfo\":\"value+percent initial\",\"x\":[2788,1757,826,850],\"y\":[\"login\",\"product_page\",\"product_cart\",\"purchase\"],\"type\":\"funnel\"}],                        {\"template\":{\"data\":{\"bar\":[{\"error_x\":{\"color\":\"#2a3f5f\"},\"error_y\":{\"color\":\"#2a3f5f\"},\"marker\":{\"line\":{\"color\":\"#E5ECF6\",\"width\":0.5},\"pattern\":{\"fillmode\":\"overlay\",\"size\":10,\"solidity\":0.2}},\"type\":\"bar\"}],\"barpolar\":[{\"marker\":{\"line\":{\"color\":\"#E5ECF6\",\"width\":0.5},\"pattern\":{\"fillmode\":\"overlay\",\"size\":10,\"solidity\":0.2}},\"type\":\"barpolar\"}],\"carpet\":[{\"aaxis\":{\"endlinecolor\":\"#2a3f5f\",\"gridcolor\":\"white\",\"linecolor\":\"white\",\"minorgridcolor\":\"white\",\"startlinecolor\":\"#2a3f5f\"},\"baxis\":{\"endlinecolor\":\"#2a3f5f\",\"gridcolor\":\"white\",\"linecolor\":\"white\",\"minorgridcolor\":\"white\",\"startlinecolor\":\"#2a3f5f\"},\"type\":\"carpet\"}],\"choropleth\":[{\"colorbar\":{\"outlinewidth\":0,\"ticks\":\"\"},\"type\":\"choropleth\"}],\"contour\":[{\"colorbar\":{\"outlinewidth\":0,\"ticks\":\"\"},\"colorscale\":[[0.0,\"#0d0887\"],[0.1111111111111111,\"#46039f\"],[0.2222222222222222,\"#7201a8\"],[0.3333333333333333,\"#9c179e\"],[0.4444444444444444,\"#bd3786\"],[0.5555555555555556,\"#d8576b\"],[0.6666666666666666,\"#ed7953\"],[0.7777777777777778,\"#fb9f3a\"],[0.8888888888888888,\"#fdca26\"],[1.0,\"#f0f921\"]],\"type\":\"contour\"}],\"contourcarpet\":[{\"colorbar\":{\"outlinewidth\":0,\"ticks\":\"\"},\"type\":\"contourcarpet\"}],\"heatmap\":[{\"colorbar\":{\"outlinewidth\":0,\"ticks\":\"\"},\"colorscale\":[[0.0,\"#0d0887\"],[0.1111111111111111,\"#46039f\"],[0.2222222222222222,\"#7201a8\"],[0.3333333333333333,\"#9c179e\"],[0.4444444444444444,\"#bd3786\"],[0.5555555555555556,\"#d8576b\"],[0.6666666666666666,\"#ed7953\"],[0.7777777777777778,\"#fb9f3a\"],[0.8888888888888888,\"#fdca26\"],[1.0,\"#f0f921\"]],\"type\":\"heatmap\"}],\"heatmapgl\":[{\"colorbar\":{\"outlinewidth\":0,\"ticks\":\"\"},\"colorscale\":[[0.0,\"#0d0887\"],[0.1111111111111111,\"#46039f\"],[0.2222222222222222,\"#7201a8\"],[0.3333333333333333,\"#9c179e\"],[0.4444444444444444,\"#bd3786\"],[0.5555555555555556,\"#d8576b\"],[0.6666666666666666,\"#ed7953\"],[0.7777777777777778,\"#fb9f3a\"],[0.8888888888888888,\"#fdca26\"],[1.0,\"#f0f921\"]],\"type\":\"heatmapgl\"}],\"histogram\":[{\"marker\":{\"pattern\":{\"fillmode\":\"overlay\",\"size\":10,\"solidity\":0.2}},\"type\":\"histogram\"}],\"histogram2d\":[{\"colorbar\":{\"outlinewidth\":0,\"ticks\":\"\"},\"colorscale\":[[0.0,\"#0d0887\"],[0.1111111111111111,\"#46039f\"],[0.2222222222222222,\"#7201a8\"],[0.3333333333333333,\"#9c179e\"],[0.4444444444444444,\"#bd3786\"],[0.5555555555555556,\"#d8576b\"],[0.6666666666666666,\"#ed7953\"],[0.7777777777777778,\"#fb9f3a\"],[0.8888888888888888,\"#fdca26\"],[1.0,\"#f0f921\"]],\"type\":\"histogram2d\"}],\"histogram2dcontour\":[{\"colorbar\":{\"outlinewidth\":0,\"ticks\":\"\"},\"colorscale\":[[0.0,\"#0d0887\"],[0.1111111111111111,\"#46039f\"],[0.2222222222222222,\"#7201a8\"],[0.3333333333333333,\"#9c179e\"],[0.4444444444444444,\"#bd3786\"],[0.5555555555555556,\"#d8576b\"],[0.6666666666666666,\"#ed7953\"],[0.7777777777777778,\"#fb9f3a\"],[0.8888888888888888,\"#fdca26\"],[1.0,\"#f0f921\"]],\"type\":\"histogram2dcontour\"}],\"mesh3d\":[{\"colorbar\":{\"outlinewidth\":0,\"ticks\":\"\"},\"type\":\"mesh3d\"}],\"parcoords\":[{\"line\":{\"colorbar\":{\"outlinewidth\":0,\"ticks\":\"\"}},\"type\":\"parcoords\"}],\"pie\":[{\"automargin\":true,\"type\":\"pie\"}],\"scatter\":[{\"marker\":{\"colorbar\":{\"outlinewidth\":0,\"ticks\":\"\"}},\"type\":\"scatter\"}],\"scatter3d\":[{\"line\":{\"colorbar\":{\"outlinewidth\":0,\"ticks\":\"\"}},\"marker\":{\"colorbar\":{\"outlinewidth\":0,\"ticks\":\"\"}},\"type\":\"scatter3d\"}],\"scattercarpet\":[{\"marker\":{\"colorbar\":{\"outlinewidth\":0,\"ticks\":\"\"}},\"type\":\"scattercarpet\"}],\"scattergeo\":[{\"marker\":{\"colorbar\":{\"outlinewidth\":0,\"ticks\":\"\"}},\"type\":\"scattergeo\"}],\"scattergl\":[{\"marker\":{\"colorbar\":{\"outlinewidth\":0,\"ticks\":\"\"}},\"type\":\"scattergl\"}],\"scattermapbox\":[{\"marker\":{\"colorbar\":{\"outlinewidth\":0,\"ticks\":\"\"}},\"type\":\"scattermapbox\"}],\"scatterpolar\":[{\"marker\":{\"colorbar\":{\"outlinewidth\":0,\"ticks\":\"\"}},\"type\":\"scatterpolar\"}],\"scatterpolargl\":[{\"marker\":{\"colorbar\":{\"outlinewidth\":0,\"ticks\":\"\"}},\"type\":\"scatterpolargl\"}],\"scatterternary\":[{\"marker\":{\"colorbar\":{\"outlinewidth\":0,\"ticks\":\"\"}},\"type\":\"scatterternary\"}],\"surface\":[{\"colorbar\":{\"outlinewidth\":0,\"ticks\":\"\"},\"colorscale\":[[0.0,\"#0d0887\"],[0.1111111111111111,\"#46039f\"],[0.2222222222222222,\"#7201a8\"],[0.3333333333333333,\"#9c179e\"],[0.4444444444444444,\"#bd3786\"],[0.5555555555555556,\"#d8576b\"],[0.6666666666666666,\"#ed7953\"],[0.7777777777777778,\"#fb9f3a\"],[0.8888888888888888,\"#fdca26\"],[1.0,\"#f0f921\"]],\"type\":\"surface\"}],\"table\":[{\"cells\":{\"fill\":{\"color\":\"#EBF0F8\"},\"line\":{\"color\":\"white\"}},\"header\":{\"fill\":{\"color\":\"#C8D4E3\"},\"line\":{\"color\":\"white\"}},\"type\":\"table\"}]},\"layout\":{\"annotationdefaults\":{\"arrowcolor\":\"#2a3f5f\",\"arrowhead\":0,\"arrowwidth\":1},\"autotypenumbers\":\"strict\",\"coloraxis\":{\"colorbar\":{\"outlinewidth\":0,\"ticks\":\"\"}},\"colorscale\":{\"diverging\":[[0,\"#8e0152\"],[0.1,\"#c51b7d\"],[0.2,\"#de77ae\"],[0.3,\"#f1b6da\"],[0.4,\"#fde0ef\"],[0.5,\"#f7f7f7\"],[0.6,\"#e6f5d0\"],[0.7,\"#b8e186\"],[0.8,\"#7fbc41\"],[0.9,\"#4d9221\"],[1,\"#276419\"]],\"sequential\":[[0.0,\"#0d0887\"],[0.1111111111111111,\"#46039f\"],[0.2222222222222222,\"#7201a8\"],[0.3333333333333333,\"#9c179e\"],[0.4444444444444444,\"#bd3786\"],[0.5555555555555556,\"#d8576b\"],[0.6666666666666666,\"#ed7953\"],[0.7777777777777778,\"#fb9f3a\"],[0.8888888888888888,\"#fdca26\"],[1.0,\"#f0f921\"]],\"sequentialminus\":[[0.0,\"#0d0887\"],[0.1111111111111111,\"#46039f\"],[0.2222222222222222,\"#7201a8\"],[0.3333333333333333,\"#9c179e\"],[0.4444444444444444,\"#bd3786\"],[0.5555555555555556,\"#d8576b\"],[0.6666666666666666,\"#ed7953\"],[0.7777777777777778,\"#fb9f3a\"],[0.8888888888888888,\"#fdca26\"],[1.0,\"#f0f921\"]]},\"colorway\":[\"#636efa\",\"#EF553B\",\"#00cc96\",\"#ab63fa\",\"#FFA15A\",\"#19d3f3\",\"#FF6692\",\"#B6E880\",\"#FF97FF\",\"#FECB52\"],\"font\":{\"color\":\"#2a3f5f\"},\"geo\":{\"bgcolor\":\"white\",\"lakecolor\":\"white\",\"landcolor\":\"#E5ECF6\",\"showlakes\":true,\"showland\":true,\"subunitcolor\":\"white\"},\"hoverlabel\":{\"align\":\"left\"},\"hovermode\":\"closest\",\"mapbox\":{\"style\":\"light\"},\"paper_bgcolor\":\"white\",\"plot_bgcolor\":\"#E5ECF6\",\"polar\":{\"angularaxis\":{\"gridcolor\":\"white\",\"linecolor\":\"white\",\"ticks\":\"\"},\"bgcolor\":\"#E5ECF6\",\"radialaxis\":{\"gridcolor\":\"white\",\"linecolor\":\"white\",\"ticks\":\"\"}},\"scene\":{\"xaxis\":{\"backgroundcolor\":\"#E5ECF6\",\"gridcolor\":\"white\",\"gridwidth\":2,\"linecolor\":\"white\",\"showbackground\":true,\"ticks\":\"\",\"zerolinecolor\":\"white\"},\"yaxis\":{\"backgroundcolor\":\"#E5ECF6\",\"gridcolor\":\"white\",\"gridwidth\":2,\"linecolor\":\"white\",\"showbackground\":true,\"ticks\":\"\",\"zerolinecolor\":\"white\"},\"zaxis\":{\"backgroundcolor\":\"#E5ECF6\",\"gridcolor\":\"white\",\"gridwidth\":2,\"linecolor\":\"white\",\"showbackground\":true,\"ticks\":\"\",\"zerolinecolor\":\"white\"}},\"shapedefaults\":{\"line\":{\"color\":\"#2a3f5f\"}},\"ternary\":{\"aaxis\":{\"gridcolor\":\"white\",\"linecolor\":\"white\",\"ticks\":\"\"},\"baxis\":{\"gridcolor\":\"white\",\"linecolor\":\"white\",\"ticks\":\"\"},\"bgcolor\":\"#E5ECF6\",\"caxis\":{\"gridcolor\":\"white\",\"linecolor\":\"white\",\"ticks\":\"\"}},\"title\":{\"x\":0.05},\"xaxis\":{\"automargin\":true,\"gridcolor\":\"white\",\"linecolor\":\"white\",\"ticks\":\"\",\"title\":{\"standoff\":15},\"zerolinecolor\":\"white\",\"zerolinewidth\":2},\"yaxis\":{\"automargin\":true,\"gridcolor\":\"white\",\"linecolor\":\"white\",\"ticks\":\"\",\"title\":{\"standoff\":15},\"zerolinecolor\":\"white\",\"zerolinewidth\":2}}},\"title\":{\"text\":\"\\u041a\\u043e\\u043d\\u0432\\u0435\\u0440\\u0441\\u0438\\u044f \\u0434\\u0435\\u0439\\u0441\\u0442\\u0432\\u0438\\u0439 \\u043f\\u043e\\u043b\\u044c\\u0437\\u043e\\u0432\\u0430\\u0442\\u0435\\u043b\\u0435\\u0439 \\u0434\\u0432\\u0443\\u0445 \\u0433\\u0440\\u0443\\u043f\\u043f (A, B)\",\"x\":0.5}},                        {\"responsive\": true}                    ).then(function(){\n",
       "                            \n",
       "var gd = document.getElementById('4cfc3d57-e049-42fe-9210-ad9d4e292c84');\n",
       "var x = new MutationObserver(function (mutations, observer) {{\n",
       "        var display = window.getComputedStyle(gd).display;\n",
       "        if (!display || display === 'none') {{\n",
       "            console.log([gd, 'removed!']);\n",
       "            Plotly.purge(gd);\n",
       "            observer.disconnect();\n",
       "        }}\n",
       "}});\n",
       "\n",
       "// Listen for the removal of the full notebook cells\n",
       "var notebookContainer = gd.closest('#notebook-container');\n",
       "if (notebookContainer) {{\n",
       "    x.observe(notebookContainer, {childList: true});\n",
       "}}\n",
       "\n",
       "// Listen for the clearing of the current output cell\n",
       "var outputEl = gd.closest('.output');\n",
       "if (outputEl) {{\n",
       "    x.observe(outputEl, {childList: true});\n",
       "}}\n",
       "\n",
       "                        })                };                });            </script>        </div>"
      ]
     },
     "metadata": {},
     "output_type": "display_data"
    }
   ],
   "source": [
    "fig = go.Figure(go.Funnel(\n",
    "    y = funnel['event_name'].reindex([0,2,1,3]),\n",
    "    x = funnel['user_id'].reindex([0,2,1,3]),\n",
    "    textinfo = 'value+percent initial'\n",
    "\n",
    "    ))\n",
    "fig.update_layout(\n",
    "    title = {\n",
    "        'text' : 'Конверсия действий пользователей двух групп (A, B)',\n",
    "        'x':0.5\n",
    "    }\n",
    ")\n",
    "fig.show() "
   ]
  },
  {
   "cell_type": "markdown",
   "metadata": {},
   "source": [
    "По расчетам конверсии видно, что часть пользователей смогли купить (событие purchase) минуя просмотр корзины товаров (событие product_cart)."
   ]
  },
  {
   "cell_type": "markdown",
   "metadata": {},
   "source": [
    "Посмотрим конверсию по группам"
   ]
  },
  {
   "cell_type": "code",
   "execution_count": 40,
   "metadata": {},
   "outputs": [],
   "source": [
    "funnel_a = events_clear.query('group == \"A\"')\\\n",
    "                .groupby('event_name')['user_id'].nunique().reset_index().sort_values('user_id', ascending = False)\n",
    "funnel_b = events_clear.query('group == \"B\"')\\\n",
    "                .groupby('event_name')['user_id'].nunique().reset_index().sort_values('user_id', ascending = False)"
   ]
  },
  {
   "cell_type": "code",
   "execution_count": 41,
   "metadata": {},
   "outputs": [
    {
     "data": {
      "text/html": [
       "<div>\n",
       "<style scoped>\n",
       "    .dataframe tbody tr th:only-of-type {\n",
       "        vertical-align: middle;\n",
       "    }\n",
       "\n",
       "    .dataframe tbody tr th {\n",
       "        vertical-align: top;\n",
       "    }\n",
       "\n",
       "    .dataframe thead th {\n",
       "        text-align: right;\n",
       "    }\n",
       "</style>\n",
       "<table border=\"1\" class=\"dataframe\">\n",
       "  <thead>\n",
       "    <tr style=\"text-align: right;\">\n",
       "      <th></th>\n",
       "      <th>event_name</th>\n",
       "      <th>user_id</th>\n",
       "    </tr>\n",
       "  </thead>\n",
       "  <tbody>\n",
       "    <tr>\n",
       "      <th>0</th>\n",
       "      <td>login</td>\n",
       "      <td>2082</td>\n",
       "    </tr>\n",
       "    <tr>\n",
       "      <th>2</th>\n",
       "      <td>product_page</td>\n",
       "      <td>1360</td>\n",
       "    </tr>\n",
       "    <tr>\n",
       "      <th>3</th>\n",
       "      <td>purchase</td>\n",
       "      <td>652</td>\n",
       "    </tr>\n",
       "    <tr>\n",
       "      <th>1</th>\n",
       "      <td>product_cart</td>\n",
       "      <td>631</td>\n",
       "    </tr>\n",
       "  </tbody>\n",
       "</table>\n",
       "</div>"
      ],
      "text/plain": [
       "     event_name  user_id\n",
       "0         login     2082\n",
       "2  product_page     1360\n",
       "3      purchase      652\n",
       "1  product_cart      631"
      ]
     },
     "execution_count": 41,
     "metadata": {},
     "output_type": "execute_result"
    }
   ],
   "source": [
    "funnel_a"
   ]
  },
  {
   "cell_type": "code",
   "execution_count": 42,
   "metadata": {},
   "outputs": [
    {
     "data": {
      "text/html": [
       "<div>\n",
       "<style scoped>\n",
       "    .dataframe tbody tr th:only-of-type {\n",
       "        vertical-align: middle;\n",
       "    }\n",
       "\n",
       "    .dataframe tbody tr th {\n",
       "        vertical-align: top;\n",
       "    }\n",
       "\n",
       "    .dataframe thead th {\n",
       "        text-align: right;\n",
       "    }\n",
       "</style>\n",
       "<table border=\"1\" class=\"dataframe\">\n",
       "  <thead>\n",
       "    <tr style=\"text-align: right;\">\n",
       "      <th></th>\n",
       "      <th>event_name</th>\n",
       "      <th>user_id</th>\n",
       "    </tr>\n",
       "  </thead>\n",
       "  <tbody>\n",
       "    <tr>\n",
       "      <th>0</th>\n",
       "      <td>login</td>\n",
       "      <td>706</td>\n",
       "    </tr>\n",
       "    <tr>\n",
       "      <th>2</th>\n",
       "      <td>product_page</td>\n",
       "      <td>397</td>\n",
       "    </tr>\n",
       "    <tr>\n",
       "      <th>3</th>\n",
       "      <td>purchase</td>\n",
       "      <td>198</td>\n",
       "    </tr>\n",
       "    <tr>\n",
       "      <th>1</th>\n",
       "      <td>product_cart</td>\n",
       "      <td>195</td>\n",
       "    </tr>\n",
       "  </tbody>\n",
       "</table>\n",
       "</div>"
      ],
      "text/plain": [
       "     event_name  user_id\n",
       "0         login      706\n",
       "2  product_page      397\n",
       "3      purchase      198\n",
       "1  product_cart      195"
      ]
     },
     "execution_count": 42,
     "metadata": {},
     "output_type": "execute_result"
    }
   ],
   "source": [
    "funnel_b"
   ]
  },
  {
   "cell_type": "code",
   "execution_count": 59,
   "metadata": {},
   "outputs": [
    {
     "data": {
      "application/vnd.plotly.v1+json": {
       "config": {
        "plotlyServerURL": "https://plot.ly"
       },
       "data": [
        {
         "name": "A",
         "textinfo": "value+percent previous",
         "type": "funnel",
         "x": [
          2082,
          1360,
          631,
          652
         ],
         "y": [
          "login",
          "product_page",
          "product_cart",
          "purchase"
         ]
        },
        {
         "name": "B",
         "textinfo": "value+percent previous",
         "type": "funnel",
         "x": [
          706,
          397,
          195,
          198
         ],
         "y": [
          "login",
          "product_page",
          "product_cart",
          "purchase"
         ]
        }
       ],
       "layout": {
        "template": {
         "data": {
          "bar": [
           {
            "error_x": {
             "color": "#2a3f5f"
            },
            "error_y": {
             "color": "#2a3f5f"
            },
            "marker": {
             "line": {
              "color": "#E5ECF6",
              "width": 0.5
             },
             "pattern": {
              "fillmode": "overlay",
              "size": 10,
              "solidity": 0.2
             }
            },
            "type": "bar"
           }
          ],
          "barpolar": [
           {
            "marker": {
             "line": {
              "color": "#E5ECF6",
              "width": 0.5
             },
             "pattern": {
              "fillmode": "overlay",
              "size": 10,
              "solidity": 0.2
             }
            },
            "type": "barpolar"
           }
          ],
          "carpet": [
           {
            "aaxis": {
             "endlinecolor": "#2a3f5f",
             "gridcolor": "white",
             "linecolor": "white",
             "minorgridcolor": "white",
             "startlinecolor": "#2a3f5f"
            },
            "baxis": {
             "endlinecolor": "#2a3f5f",
             "gridcolor": "white",
             "linecolor": "white",
             "minorgridcolor": "white",
             "startlinecolor": "#2a3f5f"
            },
            "type": "carpet"
           }
          ],
          "choropleth": [
           {
            "colorbar": {
             "outlinewidth": 0,
             "ticks": ""
            },
            "type": "choropleth"
           }
          ],
          "contour": [
           {
            "colorbar": {
             "outlinewidth": 0,
             "ticks": ""
            },
            "colorscale": [
             [
              0,
              "#0d0887"
             ],
             [
              0.1111111111111111,
              "#46039f"
             ],
             [
              0.2222222222222222,
              "#7201a8"
             ],
             [
              0.3333333333333333,
              "#9c179e"
             ],
             [
              0.4444444444444444,
              "#bd3786"
             ],
             [
              0.5555555555555556,
              "#d8576b"
             ],
             [
              0.6666666666666666,
              "#ed7953"
             ],
             [
              0.7777777777777778,
              "#fb9f3a"
             ],
             [
              0.8888888888888888,
              "#fdca26"
             ],
             [
              1,
              "#f0f921"
             ]
            ],
            "type": "contour"
           }
          ],
          "contourcarpet": [
           {
            "colorbar": {
             "outlinewidth": 0,
             "ticks": ""
            },
            "type": "contourcarpet"
           }
          ],
          "heatmap": [
           {
            "colorbar": {
             "outlinewidth": 0,
             "ticks": ""
            },
            "colorscale": [
             [
              0,
              "#0d0887"
             ],
             [
              0.1111111111111111,
              "#46039f"
             ],
             [
              0.2222222222222222,
              "#7201a8"
             ],
             [
              0.3333333333333333,
              "#9c179e"
             ],
             [
              0.4444444444444444,
              "#bd3786"
             ],
             [
              0.5555555555555556,
              "#d8576b"
             ],
             [
              0.6666666666666666,
              "#ed7953"
             ],
             [
              0.7777777777777778,
              "#fb9f3a"
             ],
             [
              0.8888888888888888,
              "#fdca26"
             ],
             [
              1,
              "#f0f921"
             ]
            ],
            "type": "heatmap"
           }
          ],
          "heatmapgl": [
           {
            "colorbar": {
             "outlinewidth": 0,
             "ticks": ""
            },
            "colorscale": [
             [
              0,
              "#0d0887"
             ],
             [
              0.1111111111111111,
              "#46039f"
             ],
             [
              0.2222222222222222,
              "#7201a8"
             ],
             [
              0.3333333333333333,
              "#9c179e"
             ],
             [
              0.4444444444444444,
              "#bd3786"
             ],
             [
              0.5555555555555556,
              "#d8576b"
             ],
             [
              0.6666666666666666,
              "#ed7953"
             ],
             [
              0.7777777777777778,
              "#fb9f3a"
             ],
             [
              0.8888888888888888,
              "#fdca26"
             ],
             [
              1,
              "#f0f921"
             ]
            ],
            "type": "heatmapgl"
           }
          ],
          "histogram": [
           {
            "marker": {
             "pattern": {
              "fillmode": "overlay",
              "size": 10,
              "solidity": 0.2
             }
            },
            "type": "histogram"
           }
          ],
          "histogram2d": [
           {
            "colorbar": {
             "outlinewidth": 0,
             "ticks": ""
            },
            "colorscale": [
             [
              0,
              "#0d0887"
             ],
             [
              0.1111111111111111,
              "#46039f"
             ],
             [
              0.2222222222222222,
              "#7201a8"
             ],
             [
              0.3333333333333333,
              "#9c179e"
             ],
             [
              0.4444444444444444,
              "#bd3786"
             ],
             [
              0.5555555555555556,
              "#d8576b"
             ],
             [
              0.6666666666666666,
              "#ed7953"
             ],
             [
              0.7777777777777778,
              "#fb9f3a"
             ],
             [
              0.8888888888888888,
              "#fdca26"
             ],
             [
              1,
              "#f0f921"
             ]
            ],
            "type": "histogram2d"
           }
          ],
          "histogram2dcontour": [
           {
            "colorbar": {
             "outlinewidth": 0,
             "ticks": ""
            },
            "colorscale": [
             [
              0,
              "#0d0887"
             ],
             [
              0.1111111111111111,
              "#46039f"
             ],
             [
              0.2222222222222222,
              "#7201a8"
             ],
             [
              0.3333333333333333,
              "#9c179e"
             ],
             [
              0.4444444444444444,
              "#bd3786"
             ],
             [
              0.5555555555555556,
              "#d8576b"
             ],
             [
              0.6666666666666666,
              "#ed7953"
             ],
             [
              0.7777777777777778,
              "#fb9f3a"
             ],
             [
              0.8888888888888888,
              "#fdca26"
             ],
             [
              1,
              "#f0f921"
             ]
            ],
            "type": "histogram2dcontour"
           }
          ],
          "mesh3d": [
           {
            "colorbar": {
             "outlinewidth": 0,
             "ticks": ""
            },
            "type": "mesh3d"
           }
          ],
          "parcoords": [
           {
            "line": {
             "colorbar": {
              "outlinewidth": 0,
              "ticks": ""
             }
            },
            "type": "parcoords"
           }
          ],
          "pie": [
           {
            "automargin": true,
            "type": "pie"
           }
          ],
          "scatter": [
           {
            "marker": {
             "colorbar": {
              "outlinewidth": 0,
              "ticks": ""
             }
            },
            "type": "scatter"
           }
          ],
          "scatter3d": [
           {
            "line": {
             "colorbar": {
              "outlinewidth": 0,
              "ticks": ""
             }
            },
            "marker": {
             "colorbar": {
              "outlinewidth": 0,
              "ticks": ""
             }
            },
            "type": "scatter3d"
           }
          ],
          "scattercarpet": [
           {
            "marker": {
             "colorbar": {
              "outlinewidth": 0,
              "ticks": ""
             }
            },
            "type": "scattercarpet"
           }
          ],
          "scattergeo": [
           {
            "marker": {
             "colorbar": {
              "outlinewidth": 0,
              "ticks": ""
             }
            },
            "type": "scattergeo"
           }
          ],
          "scattergl": [
           {
            "marker": {
             "colorbar": {
              "outlinewidth": 0,
              "ticks": ""
             }
            },
            "type": "scattergl"
           }
          ],
          "scattermapbox": [
           {
            "marker": {
             "colorbar": {
              "outlinewidth": 0,
              "ticks": ""
             }
            },
            "type": "scattermapbox"
           }
          ],
          "scatterpolar": [
           {
            "marker": {
             "colorbar": {
              "outlinewidth": 0,
              "ticks": ""
             }
            },
            "type": "scatterpolar"
           }
          ],
          "scatterpolargl": [
           {
            "marker": {
             "colorbar": {
              "outlinewidth": 0,
              "ticks": ""
             }
            },
            "type": "scatterpolargl"
           }
          ],
          "scatterternary": [
           {
            "marker": {
             "colorbar": {
              "outlinewidth": 0,
              "ticks": ""
             }
            },
            "type": "scatterternary"
           }
          ],
          "surface": [
           {
            "colorbar": {
             "outlinewidth": 0,
             "ticks": ""
            },
            "colorscale": [
             [
              0,
              "#0d0887"
             ],
             [
              0.1111111111111111,
              "#46039f"
             ],
             [
              0.2222222222222222,
              "#7201a8"
             ],
             [
              0.3333333333333333,
              "#9c179e"
             ],
             [
              0.4444444444444444,
              "#bd3786"
             ],
             [
              0.5555555555555556,
              "#d8576b"
             ],
             [
              0.6666666666666666,
              "#ed7953"
             ],
             [
              0.7777777777777778,
              "#fb9f3a"
             ],
             [
              0.8888888888888888,
              "#fdca26"
             ],
             [
              1,
              "#f0f921"
             ]
            ],
            "type": "surface"
           }
          ],
          "table": [
           {
            "cells": {
             "fill": {
              "color": "#EBF0F8"
             },
             "line": {
              "color": "white"
             }
            },
            "header": {
             "fill": {
              "color": "#C8D4E3"
             },
             "line": {
              "color": "white"
             }
            },
            "type": "table"
           }
          ]
         },
         "layout": {
          "annotationdefaults": {
           "arrowcolor": "#2a3f5f",
           "arrowhead": 0,
           "arrowwidth": 1
          },
          "autotypenumbers": "strict",
          "coloraxis": {
           "colorbar": {
            "outlinewidth": 0,
            "ticks": ""
           }
          },
          "colorscale": {
           "diverging": [
            [
             0,
             "#8e0152"
            ],
            [
             0.1,
             "#c51b7d"
            ],
            [
             0.2,
             "#de77ae"
            ],
            [
             0.3,
             "#f1b6da"
            ],
            [
             0.4,
             "#fde0ef"
            ],
            [
             0.5,
             "#f7f7f7"
            ],
            [
             0.6,
             "#e6f5d0"
            ],
            [
             0.7,
             "#b8e186"
            ],
            [
             0.8,
             "#7fbc41"
            ],
            [
             0.9,
             "#4d9221"
            ],
            [
             1,
             "#276419"
            ]
           ],
           "sequential": [
            [
             0,
             "#0d0887"
            ],
            [
             0.1111111111111111,
             "#46039f"
            ],
            [
             0.2222222222222222,
             "#7201a8"
            ],
            [
             0.3333333333333333,
             "#9c179e"
            ],
            [
             0.4444444444444444,
             "#bd3786"
            ],
            [
             0.5555555555555556,
             "#d8576b"
            ],
            [
             0.6666666666666666,
             "#ed7953"
            ],
            [
             0.7777777777777778,
             "#fb9f3a"
            ],
            [
             0.8888888888888888,
             "#fdca26"
            ],
            [
             1,
             "#f0f921"
            ]
           ],
           "sequentialminus": [
            [
             0,
             "#0d0887"
            ],
            [
             0.1111111111111111,
             "#46039f"
            ],
            [
             0.2222222222222222,
             "#7201a8"
            ],
            [
             0.3333333333333333,
             "#9c179e"
            ],
            [
             0.4444444444444444,
             "#bd3786"
            ],
            [
             0.5555555555555556,
             "#d8576b"
            ],
            [
             0.6666666666666666,
             "#ed7953"
            ],
            [
             0.7777777777777778,
             "#fb9f3a"
            ],
            [
             0.8888888888888888,
             "#fdca26"
            ],
            [
             1,
             "#f0f921"
            ]
           ]
          },
          "colorway": [
           "#636efa",
           "#EF553B",
           "#00cc96",
           "#ab63fa",
           "#FFA15A",
           "#19d3f3",
           "#FF6692",
           "#B6E880",
           "#FF97FF",
           "#FECB52"
          ],
          "font": {
           "color": "#2a3f5f"
          },
          "geo": {
           "bgcolor": "white",
           "lakecolor": "white",
           "landcolor": "#E5ECF6",
           "showlakes": true,
           "showland": true,
           "subunitcolor": "white"
          },
          "hoverlabel": {
           "align": "left"
          },
          "hovermode": "closest",
          "mapbox": {
           "style": "light"
          },
          "paper_bgcolor": "white",
          "plot_bgcolor": "#E5ECF6",
          "polar": {
           "angularaxis": {
            "gridcolor": "white",
            "linecolor": "white",
            "ticks": ""
           },
           "bgcolor": "#E5ECF6",
           "radialaxis": {
            "gridcolor": "white",
            "linecolor": "white",
            "ticks": ""
           }
          },
          "scene": {
           "xaxis": {
            "backgroundcolor": "#E5ECF6",
            "gridcolor": "white",
            "gridwidth": 2,
            "linecolor": "white",
            "showbackground": true,
            "ticks": "",
            "zerolinecolor": "white"
           },
           "yaxis": {
            "backgroundcolor": "#E5ECF6",
            "gridcolor": "white",
            "gridwidth": 2,
            "linecolor": "white",
            "showbackground": true,
            "ticks": "",
            "zerolinecolor": "white"
           },
           "zaxis": {
            "backgroundcolor": "#E5ECF6",
            "gridcolor": "white",
            "gridwidth": 2,
            "linecolor": "white",
            "showbackground": true,
            "ticks": "",
            "zerolinecolor": "white"
           }
          },
          "shapedefaults": {
           "line": {
            "color": "#2a3f5f"
           }
          },
          "ternary": {
           "aaxis": {
            "gridcolor": "white",
            "linecolor": "white",
            "ticks": ""
           },
           "baxis": {
            "gridcolor": "white",
            "linecolor": "white",
            "ticks": ""
           },
           "bgcolor": "#E5ECF6",
           "caxis": {
            "gridcolor": "white",
            "linecolor": "white",
            "ticks": ""
           }
          },
          "title": {
           "x": 0.05
          },
          "xaxis": {
           "automargin": true,
           "gridcolor": "white",
           "linecolor": "white",
           "ticks": "",
           "title": {
            "standoff": 15
           },
           "zerolinecolor": "white",
           "zerolinewidth": 2
          },
          "yaxis": {
           "automargin": true,
           "gridcolor": "white",
           "linecolor": "white",
           "ticks": "",
           "title": {
            "standoff": 15
           },
           "zerolinecolor": "white",
           "zerolinewidth": 2
          }
         }
        },
        "title": {
         "text": "Конверсия действий пользователей по группам (А, В)",
         "x": 0.5
        }
       }
      },
      "text/html": [
       "<div>                            <div id=\"bbbcc4b4-50db-4971-a545-0dfcc8248fd3\" class=\"plotly-graph-div\" style=\"height:525px; width:100%;\"></div>            <script type=\"text/javascript\">                require([\"plotly\"], function(Plotly) {                    window.PLOTLYENV=window.PLOTLYENV || {};                                    if (document.getElementById(\"bbbcc4b4-50db-4971-a545-0dfcc8248fd3\")) {                    Plotly.newPlot(                        \"bbbcc4b4-50db-4971-a545-0dfcc8248fd3\",                        [{\"name\":\"A\",\"textinfo\":\"value+percent previous\",\"x\":[2082,1360,631,652],\"y\":[\"login\",\"product_page\",\"product_cart\",\"purchase\"],\"type\":\"funnel\"},{\"name\":\"B\",\"textinfo\":\"value+percent previous\",\"x\":[706,397,195,198],\"y\":[\"login\",\"product_page\",\"product_cart\",\"purchase\"],\"type\":\"funnel\"}],                        {\"template\":{\"data\":{\"bar\":[{\"error_x\":{\"color\":\"#2a3f5f\"},\"error_y\":{\"color\":\"#2a3f5f\"},\"marker\":{\"line\":{\"color\":\"#E5ECF6\",\"width\":0.5},\"pattern\":{\"fillmode\":\"overlay\",\"size\":10,\"solidity\":0.2}},\"type\":\"bar\"}],\"barpolar\":[{\"marker\":{\"line\":{\"color\":\"#E5ECF6\",\"width\":0.5},\"pattern\":{\"fillmode\":\"overlay\",\"size\":10,\"solidity\":0.2}},\"type\":\"barpolar\"}],\"carpet\":[{\"aaxis\":{\"endlinecolor\":\"#2a3f5f\",\"gridcolor\":\"white\",\"linecolor\":\"white\",\"minorgridcolor\":\"white\",\"startlinecolor\":\"#2a3f5f\"},\"baxis\":{\"endlinecolor\":\"#2a3f5f\",\"gridcolor\":\"white\",\"linecolor\":\"white\",\"minorgridcolor\":\"white\",\"startlinecolor\":\"#2a3f5f\"},\"type\":\"carpet\"}],\"choropleth\":[{\"colorbar\":{\"outlinewidth\":0,\"ticks\":\"\"},\"type\":\"choropleth\"}],\"contour\":[{\"colorbar\":{\"outlinewidth\":0,\"ticks\":\"\"},\"colorscale\":[[0.0,\"#0d0887\"],[0.1111111111111111,\"#46039f\"],[0.2222222222222222,\"#7201a8\"],[0.3333333333333333,\"#9c179e\"],[0.4444444444444444,\"#bd3786\"],[0.5555555555555556,\"#d8576b\"],[0.6666666666666666,\"#ed7953\"],[0.7777777777777778,\"#fb9f3a\"],[0.8888888888888888,\"#fdca26\"],[1.0,\"#f0f921\"]],\"type\":\"contour\"}],\"contourcarpet\":[{\"colorbar\":{\"outlinewidth\":0,\"ticks\":\"\"},\"type\":\"contourcarpet\"}],\"heatmap\":[{\"colorbar\":{\"outlinewidth\":0,\"ticks\":\"\"},\"colorscale\":[[0.0,\"#0d0887\"],[0.1111111111111111,\"#46039f\"],[0.2222222222222222,\"#7201a8\"],[0.3333333333333333,\"#9c179e\"],[0.4444444444444444,\"#bd3786\"],[0.5555555555555556,\"#d8576b\"],[0.6666666666666666,\"#ed7953\"],[0.7777777777777778,\"#fb9f3a\"],[0.8888888888888888,\"#fdca26\"],[1.0,\"#f0f921\"]],\"type\":\"heatmap\"}],\"heatmapgl\":[{\"colorbar\":{\"outlinewidth\":0,\"ticks\":\"\"},\"colorscale\":[[0.0,\"#0d0887\"],[0.1111111111111111,\"#46039f\"],[0.2222222222222222,\"#7201a8\"],[0.3333333333333333,\"#9c179e\"],[0.4444444444444444,\"#bd3786\"],[0.5555555555555556,\"#d8576b\"],[0.6666666666666666,\"#ed7953\"],[0.7777777777777778,\"#fb9f3a\"],[0.8888888888888888,\"#fdca26\"],[1.0,\"#f0f921\"]],\"type\":\"heatmapgl\"}],\"histogram\":[{\"marker\":{\"pattern\":{\"fillmode\":\"overlay\",\"size\":10,\"solidity\":0.2}},\"type\":\"histogram\"}],\"histogram2d\":[{\"colorbar\":{\"outlinewidth\":0,\"ticks\":\"\"},\"colorscale\":[[0.0,\"#0d0887\"],[0.1111111111111111,\"#46039f\"],[0.2222222222222222,\"#7201a8\"],[0.3333333333333333,\"#9c179e\"],[0.4444444444444444,\"#bd3786\"],[0.5555555555555556,\"#d8576b\"],[0.6666666666666666,\"#ed7953\"],[0.7777777777777778,\"#fb9f3a\"],[0.8888888888888888,\"#fdca26\"],[1.0,\"#f0f921\"]],\"type\":\"histogram2d\"}],\"histogram2dcontour\":[{\"colorbar\":{\"outlinewidth\":0,\"ticks\":\"\"},\"colorscale\":[[0.0,\"#0d0887\"],[0.1111111111111111,\"#46039f\"],[0.2222222222222222,\"#7201a8\"],[0.3333333333333333,\"#9c179e\"],[0.4444444444444444,\"#bd3786\"],[0.5555555555555556,\"#d8576b\"],[0.6666666666666666,\"#ed7953\"],[0.7777777777777778,\"#fb9f3a\"],[0.8888888888888888,\"#fdca26\"],[1.0,\"#f0f921\"]],\"type\":\"histogram2dcontour\"}],\"mesh3d\":[{\"colorbar\":{\"outlinewidth\":0,\"ticks\":\"\"},\"type\":\"mesh3d\"}],\"parcoords\":[{\"line\":{\"colorbar\":{\"outlinewidth\":0,\"ticks\":\"\"}},\"type\":\"parcoords\"}],\"pie\":[{\"automargin\":true,\"type\":\"pie\"}],\"scatter\":[{\"marker\":{\"colorbar\":{\"outlinewidth\":0,\"ticks\":\"\"}},\"type\":\"scatter\"}],\"scatter3d\":[{\"line\":{\"colorbar\":{\"outlinewidth\":0,\"ticks\":\"\"}},\"marker\":{\"colorbar\":{\"outlinewidth\":0,\"ticks\":\"\"}},\"type\":\"scatter3d\"}],\"scattercarpet\":[{\"marker\":{\"colorbar\":{\"outlinewidth\":0,\"ticks\":\"\"}},\"type\":\"scattercarpet\"}],\"scattergeo\":[{\"marker\":{\"colorbar\":{\"outlinewidth\":0,\"ticks\":\"\"}},\"type\":\"scattergeo\"}],\"scattergl\":[{\"marker\":{\"colorbar\":{\"outlinewidth\":0,\"ticks\":\"\"}},\"type\":\"scattergl\"}],\"scattermapbox\":[{\"marker\":{\"colorbar\":{\"outlinewidth\":0,\"ticks\":\"\"}},\"type\":\"scattermapbox\"}],\"scatterpolar\":[{\"marker\":{\"colorbar\":{\"outlinewidth\":0,\"ticks\":\"\"}},\"type\":\"scatterpolar\"}],\"scatterpolargl\":[{\"marker\":{\"colorbar\":{\"outlinewidth\":0,\"ticks\":\"\"}},\"type\":\"scatterpolargl\"}],\"scatterternary\":[{\"marker\":{\"colorbar\":{\"outlinewidth\":0,\"ticks\":\"\"}},\"type\":\"scatterternary\"}],\"surface\":[{\"colorbar\":{\"outlinewidth\":0,\"ticks\":\"\"},\"colorscale\":[[0.0,\"#0d0887\"],[0.1111111111111111,\"#46039f\"],[0.2222222222222222,\"#7201a8\"],[0.3333333333333333,\"#9c179e\"],[0.4444444444444444,\"#bd3786\"],[0.5555555555555556,\"#d8576b\"],[0.6666666666666666,\"#ed7953\"],[0.7777777777777778,\"#fb9f3a\"],[0.8888888888888888,\"#fdca26\"],[1.0,\"#f0f921\"]],\"type\":\"surface\"}],\"table\":[{\"cells\":{\"fill\":{\"color\":\"#EBF0F8\"},\"line\":{\"color\":\"white\"}},\"header\":{\"fill\":{\"color\":\"#C8D4E3\"},\"line\":{\"color\":\"white\"}},\"type\":\"table\"}]},\"layout\":{\"annotationdefaults\":{\"arrowcolor\":\"#2a3f5f\",\"arrowhead\":0,\"arrowwidth\":1},\"autotypenumbers\":\"strict\",\"coloraxis\":{\"colorbar\":{\"outlinewidth\":0,\"ticks\":\"\"}},\"colorscale\":{\"diverging\":[[0,\"#8e0152\"],[0.1,\"#c51b7d\"],[0.2,\"#de77ae\"],[0.3,\"#f1b6da\"],[0.4,\"#fde0ef\"],[0.5,\"#f7f7f7\"],[0.6,\"#e6f5d0\"],[0.7,\"#b8e186\"],[0.8,\"#7fbc41\"],[0.9,\"#4d9221\"],[1,\"#276419\"]],\"sequential\":[[0.0,\"#0d0887\"],[0.1111111111111111,\"#46039f\"],[0.2222222222222222,\"#7201a8\"],[0.3333333333333333,\"#9c179e\"],[0.4444444444444444,\"#bd3786\"],[0.5555555555555556,\"#d8576b\"],[0.6666666666666666,\"#ed7953\"],[0.7777777777777778,\"#fb9f3a\"],[0.8888888888888888,\"#fdca26\"],[1.0,\"#f0f921\"]],\"sequentialminus\":[[0.0,\"#0d0887\"],[0.1111111111111111,\"#46039f\"],[0.2222222222222222,\"#7201a8\"],[0.3333333333333333,\"#9c179e\"],[0.4444444444444444,\"#bd3786\"],[0.5555555555555556,\"#d8576b\"],[0.6666666666666666,\"#ed7953\"],[0.7777777777777778,\"#fb9f3a\"],[0.8888888888888888,\"#fdca26\"],[1.0,\"#f0f921\"]]},\"colorway\":[\"#636efa\",\"#EF553B\",\"#00cc96\",\"#ab63fa\",\"#FFA15A\",\"#19d3f3\",\"#FF6692\",\"#B6E880\",\"#FF97FF\",\"#FECB52\"],\"font\":{\"color\":\"#2a3f5f\"},\"geo\":{\"bgcolor\":\"white\",\"lakecolor\":\"white\",\"landcolor\":\"#E5ECF6\",\"showlakes\":true,\"showland\":true,\"subunitcolor\":\"white\"},\"hoverlabel\":{\"align\":\"left\"},\"hovermode\":\"closest\",\"mapbox\":{\"style\":\"light\"},\"paper_bgcolor\":\"white\",\"plot_bgcolor\":\"#E5ECF6\",\"polar\":{\"angularaxis\":{\"gridcolor\":\"white\",\"linecolor\":\"white\",\"ticks\":\"\"},\"bgcolor\":\"#E5ECF6\",\"radialaxis\":{\"gridcolor\":\"white\",\"linecolor\":\"white\",\"ticks\":\"\"}},\"scene\":{\"xaxis\":{\"backgroundcolor\":\"#E5ECF6\",\"gridcolor\":\"white\",\"gridwidth\":2,\"linecolor\":\"white\",\"showbackground\":true,\"ticks\":\"\",\"zerolinecolor\":\"white\"},\"yaxis\":{\"backgroundcolor\":\"#E5ECF6\",\"gridcolor\":\"white\",\"gridwidth\":2,\"linecolor\":\"white\",\"showbackground\":true,\"ticks\":\"\",\"zerolinecolor\":\"white\"},\"zaxis\":{\"backgroundcolor\":\"#E5ECF6\",\"gridcolor\":\"white\",\"gridwidth\":2,\"linecolor\":\"white\",\"showbackground\":true,\"ticks\":\"\",\"zerolinecolor\":\"white\"}},\"shapedefaults\":{\"line\":{\"color\":\"#2a3f5f\"}},\"ternary\":{\"aaxis\":{\"gridcolor\":\"white\",\"linecolor\":\"white\",\"ticks\":\"\"},\"baxis\":{\"gridcolor\":\"white\",\"linecolor\":\"white\",\"ticks\":\"\"},\"bgcolor\":\"#E5ECF6\",\"caxis\":{\"gridcolor\":\"white\",\"linecolor\":\"white\",\"ticks\":\"\"}},\"title\":{\"x\":0.05},\"xaxis\":{\"automargin\":true,\"gridcolor\":\"white\",\"linecolor\":\"white\",\"ticks\":\"\",\"title\":{\"standoff\":15},\"zerolinecolor\":\"white\",\"zerolinewidth\":2},\"yaxis\":{\"automargin\":true,\"gridcolor\":\"white\",\"linecolor\":\"white\",\"ticks\":\"\",\"title\":{\"standoff\":15},\"zerolinecolor\":\"white\",\"zerolinewidth\":2}}},\"title\":{\"text\":\"\\u041a\\u043e\\u043d\\u0432\\u0435\\u0440\\u0441\\u0438\\u044f \\u0434\\u0435\\u0439\\u0441\\u0442\\u0432\\u0438\\u0439 \\u043f\\u043e\\u043b\\u044c\\u0437\\u043e\\u0432\\u0430\\u0442\\u0435\\u043b\\u0435\\u0439 \\u043f\\u043e \\u0433\\u0440\\u0443\\u043f\\u043f\\u0430\\u043c (\\u0410, \\u0412)\",\"x\":0.5}},                        {\"responsive\": true}                    ).then(function(){\n",
       "                            \n",
       "var gd = document.getElementById('bbbcc4b4-50db-4971-a545-0dfcc8248fd3');\n",
       "var x = new MutationObserver(function (mutations, observer) {{\n",
       "        var display = window.getComputedStyle(gd).display;\n",
       "        if (!display || display === 'none') {{\n",
       "            console.log([gd, 'removed!']);\n",
       "            Plotly.purge(gd);\n",
       "            observer.disconnect();\n",
       "        }}\n",
       "}});\n",
       "\n",
       "// Listen for the removal of the full notebook cells\n",
       "var notebookContainer = gd.closest('#notebook-container');\n",
       "if (notebookContainer) {{\n",
       "    x.observe(notebookContainer, {childList: true});\n",
       "}}\n",
       "\n",
       "// Listen for the clearing of the current output cell\n",
       "var outputEl = gd.closest('.output');\n",
       "if (outputEl) {{\n",
       "    x.observe(outputEl, {childList: true});\n",
       "}}\n",
       "\n",
       "                        })                };                });            </script>        </div>"
      ]
     },
     "metadata": {},
     "output_type": "display_data"
    }
   ],
   "source": [
    "fig = go.Figure()\n",
    "\n",
    "fig.add_trace(go.Funnel(\n",
    "    name = 'A',\n",
    "    y = funnel_a['event_name'].reindex([0,2,1,3]),\n",
    "    x = funnel_a['user_id'].reindex([0,2,1,3]),\n",
    "    textinfo = \"value+percent previous\"))\n",
    "\n",
    "fig.add_trace(go.Funnel(\n",
    "    name = 'B',\n",
    "    y = funnel_b['event_name'].reindex([0,2,1,3]),\n",
    "    x = funnel_b['user_id'].reindex([0,2,1,3]),\n",
    "    textinfo = \"value+percent previous\"))\n",
    "\n",
    "fig.update_layout(\n",
    "    title = {\n",
    "        'text' : 'Конверсия действий пользователей по группам (А, В)',\n",
    "        'x':0.5\n",
    "    }\n",
    ")\n",
    "\n",
    "fig.show()"
   ]
  },
  {
   "cell_type": "markdown",
   "metadata": {},
   "source": [
    "По техническому заданию  результаты тестирования должны показать, что группа B на 10% лучше группы A. Но мы этого не видим. На этапе перехода от регистрации к покупке, группа B на 9% хуже группы A.На двух следующих этапах группа B на 1-2% лучше, чем группа A, однако этого недостаточно.Из группы A совершили покупку 31.3% пользователей. Из группы B покупку совершили 28% пользователей. Надо еще помнить, что выборки у нас разного размера."
   ]
  },
  {
   "cell_type": "markdown",
   "metadata": {},
   "source": [
    "## Оценка результатов А/В теста"
   ]
  },
  {
   "cell_type": "markdown",
   "metadata": {},
   "source": [
    "Проверим статистическую разницу долей z-критерием"
   ]
  },
  {
   "cell_type": "code",
   "execution_count": 44,
   "metadata": {},
   "outputs": [
    {
     "data": {
      "text/html": [
       "<div>\n",
       "<style scoped>\n",
       "    .dataframe tbody tr th:only-of-type {\n",
       "        vertical-align: middle;\n",
       "    }\n",
       "\n",
       "    .dataframe tbody tr th {\n",
       "        vertical-align: top;\n",
       "    }\n",
       "\n",
       "    .dataframe thead th {\n",
       "        text-align: right;\n",
       "    }\n",
       "</style>\n",
       "<table border=\"1\" class=\"dataframe\">\n",
       "  <thead>\n",
       "    <tr style=\"text-align: right;\">\n",
       "      <th>group</th>\n",
       "      <th>A</th>\n",
       "      <th>B</th>\n",
       "    </tr>\n",
       "    <tr>\n",
       "      <th>event_name</th>\n",
       "      <th></th>\n",
       "      <th></th>\n",
       "    </tr>\n",
       "  </thead>\n",
       "  <tbody>\n",
       "    <tr>\n",
       "      <th>login</th>\n",
       "      <td>2082</td>\n",
       "      <td>706</td>\n",
       "    </tr>\n",
       "    <tr>\n",
       "      <th>product_page</th>\n",
       "      <td>1360</td>\n",
       "      <td>397</td>\n",
       "    </tr>\n",
       "    <tr>\n",
       "      <th>purchase</th>\n",
       "      <td>652</td>\n",
       "      <td>198</td>\n",
       "    </tr>\n",
       "    <tr>\n",
       "      <th>product_cart</th>\n",
       "      <td>631</td>\n",
       "      <td>195</td>\n",
       "    </tr>\n",
       "  </tbody>\n",
       "</table>\n",
       "</div>"
      ],
      "text/plain": [
       "group            A    B\n",
       "event_name             \n",
       "login         2082  706\n",
       "product_page  1360  397\n",
       "purchase       652  198\n",
       "product_cart   631  195"
      ]
     },
     "execution_count": 44,
     "metadata": {},
     "output_type": "execute_result"
    }
   ],
   "source": [
    "event_by_groups = events_clear\\\n",
    "                    .pivot_table(index = 'event_name', columns = 'group', values = 'user_id', aggfunc = 'nunique')\\\n",
    "                    .sort_values('A', ascending = False)\n",
    "event_by_groups"
   ]
  },
  {
   "cell_type": "markdown",
   "metadata": {},
   "source": [
    "Формулируем гипотезы"
   ]
  },
  {
   "cell_type": "markdown",
   "metadata": {},
   "source": [
    "*H0* : Для событий (product_page, purchase, product_cart), совершенных пользователями груп А и В нет статистической значимости в конверсии\n",
    "\n",
    "*H1* :   Для событий (product_page, purchase, product_cart), совершенных пользователями груп А и В  статистическая значимость в конверсии есть"
   ]
  },
  {
   "cell_type": "code",
   "execution_count": 45,
   "metadata": {},
   "outputs": [],
   "source": [
    "def z_test(group_1, group_2, eventname, alpha): \n",
    "    purchases1 = event_by_groups.loc[eventname, group_1]\n",
    "    purchases2 = event_by_groups.loc[eventname, group_2]\n",
    "    n1 = event_by_groups.iloc[0, 0]\n",
    "    n2 = event_by_groups.iloc[0, 1]\n",
    "    p1 = purchases1 / n1    \n",
    "    p2 = purchases2 / n2     \n",
    "    difference = p1 - p2    \n",
    "    p_combined = (purchases1 + purchases2) / (n1 + n2)    \n",
    "    z_value = difference / mth.sqrt(p_combined * (1 - p_combined) * (1 / n1 + 1 / n2))                \n",
    "    distr = st.norm(0, 1)    \n",
    "    p_value = (1 - distr.cdf(abs(z_value))) * 2\n",
    "    \n",
    "    print('Проверка события:', eventname)\n",
    "    print('p-value: ',p_value)\n",
    "   \n",
    "    if (p_value < alpha):\n",
    "        print(\"Отвергаем нулевую гипотезу: между конверсией групп есть значимая разница\")\n",
    "    else:\n",
    "        print(\"Не получилось отвергнуть нулевую гипотезу, нет оснований считать конверсию групп разной\") \n",
    "    print('')"
   ]
  },
  {
   "cell_type": "code",
   "execution_count": 46,
   "metadata": {},
   "outputs": [
    {
     "name": "stdout",
     "output_type": "stream",
     "text": [
      "Проверка события: login\n",
      "p-value:  nan\n",
      "Не получилось отвергнуть нулевую гипотезу, нет оснований считать конверсию групп разной\n",
      "\n",
      "Проверка события: product_page\n",
      "p-value:  1.5371909704686715e-05\n",
      "Отвергаем нулевую гипотезу: между конверсией групп есть значимая разница\n",
      "\n",
      "Проверка события: purchase\n",
      "p-value:  0.10281767567786759\n",
      "Не получилось отвергнуть нулевую гипотезу, нет оснований считать конверсию групп разной\n",
      "\n",
      "Проверка события: product_cart\n",
      "p-value:  0.1766337419130104\n",
      "Не получилось отвергнуть нулевую гипотезу, нет оснований считать конверсию групп разной\n",
      "\n"
     ]
    }
   ],
   "source": [
    "for eventname in event_by_groups.index:\n",
    "    z_test('A', 'B', eventname, 0.05)"
   ]
  },
  {
   "cell_type": "markdown",
   "metadata": {},
   "source": [
    "Статистическая разница в долях между группами A и B есть только на этапе перехода на страницу товара. В остальных случаях статистически значимой разницы между долями групп A и B нет. "
   ]
  },
  {
   "cell_type": "markdown",
   "metadata": {},
   "source": [
    "## Выводы"
   ]
  },
  {
   "cell_type": "markdown",
   "metadata": {},
   "source": [
    "В ходе исследования мы можем с уверенностью сказать, что проведенный А/В тест некорректный и не соответсвует техническому заданию. Заявленных участников меньше 6000, процент заявленных участников из Европы не соответствует заданию. тест должен был проводиться до 04.01.2022, но мы имеем данные только до 30.12.2021. Либо данные не предоставлены, либо тест остановили раньше времени."
   ]
  },
  {
   "cell_type": "markdown",
   "metadata": {},
   "source": [
    "Также одновременно проходил еще один тест. А время проведения выпало на предновогодние дни, новогодние и рождественнские праздники, в которых проводились маркетинговые события, что могло повлиять на активность участников."
   ]
  },
  {
   "cell_type": "markdown",
   "metadata": {},
   "source": [
    "Распределение по группам тоже неравномерное, в группе В участников меньше больше, чем на половину группы А."
   ]
  },
  {
   "cell_type": "markdown",
   "metadata": {},
   "source": [
    "Нарушена логическая последовательность событий: часть пользователей смогли купить минуя просмотр корзины товаров"
   ]
  },
  {
   "cell_type": "markdown",
   "metadata": {},
   "source": [
    "Ожидаемый эффект, что за 14 дней с момента регистрации в системе пользователи покажут улучшение каждой метрики не менее, чем на 10%, не случился. Конверсия события product_page у группы А на 9% больше, чем у группы В.Конверсия события product_cart у группы А на 1% меньше, чем у группы В.Конверсия события purchase у группы А на 2% меньше, чем у группы В.Статистическая разница в долях между группами A и B есть только на этапе перехода на страницу товара."
   ]
  },
  {
   "cell_type": "markdown",
   "metadata": {},
   "source": [
    "Для удачного А/В теста необходимо больше уникальных пользователями, равномерно разделить на группы, исключить одновременного проведения других тестов и маркетинговых событий."
   ]
  }
 ],
 "metadata": {
  "ExecuteTimeLog": [
   {
    "duration": 677,
    "start_time": "2022-05-27T10:01:11.491Z"
   },
   {
    "duration": 81,
    "start_time": "2022-05-27T10:02:00.432Z"
   },
   {
    "duration": 72,
    "start_time": "2022-05-27T10:02:16.472Z"
   },
   {
    "duration": 12,
    "start_time": "2022-05-27T10:02:21.648Z"
   },
   {
    "duration": 186,
    "start_time": "2022-05-27T10:03:10.144Z"
   },
   {
    "duration": 87,
    "start_time": "2022-05-27T10:03:17.693Z"
   },
   {
    "duration": 19,
    "start_time": "2022-05-27T10:03:30.290Z"
   },
   {
    "duration": 700,
    "start_time": "2022-05-27T10:04:03.837Z"
   },
   {
    "duration": 527,
    "start_time": "2022-05-27T10:04:11.716Z"
   },
   {
    "duration": 495,
    "start_time": "2022-05-27T10:04:17.679Z"
   },
   {
    "duration": 61,
    "start_time": "2022-05-27T10:04:28.360Z"
   },
   {
    "duration": 79,
    "start_time": "2022-05-27T10:05:23.620Z"
   },
   {
    "duration": 40,
    "start_time": "2022-05-27T10:05:29.782Z"
   },
   {
    "duration": 12,
    "start_time": "2022-05-27T10:05:45.342Z"
   },
   {
    "duration": 30,
    "start_time": "2022-05-27T10:06:32.299Z"
   },
   {
    "duration": 75,
    "start_time": "2022-05-27T12:23:59.577Z"
   },
   {
    "duration": 637,
    "start_time": "2022-05-27T12:24:09.627Z"
   },
   {
    "duration": 83,
    "start_time": "2022-05-27T12:24:10.266Z"
   },
   {
    "duration": 12,
    "start_time": "2022-05-27T12:24:10.351Z"
   },
   {
    "duration": 9,
    "start_time": "2022-05-27T12:24:10.365Z"
   },
   {
    "duration": 357,
    "start_time": "2022-05-27T12:24:10.375Z"
   },
   {
    "duration": 20,
    "start_time": "2022-05-27T12:24:10.734Z"
   },
   {
    "duration": 1942,
    "start_time": "2022-05-27T12:24:10.755Z"
   },
   {
    "duration": 63,
    "start_time": "2022-05-27T12:24:12.699Z"
   },
   {
    "duration": 111,
    "start_time": "2022-05-27T12:24:12.764Z"
   },
   {
    "duration": 12,
    "start_time": "2022-05-27T12:24:12.878Z"
   },
   {
    "duration": 50,
    "start_time": "2022-05-27T12:24:44.921Z"
   },
   {
    "duration": 561,
    "start_time": "2022-05-27T12:24:56.253Z"
   },
   {
    "duration": 14,
    "start_time": "2022-05-27T12:25:13.484Z"
   },
   {
    "duration": 1435,
    "start_time": "2022-05-27T12:46:10.295Z"
   },
   {
    "duration": 1374,
    "start_time": "2022-05-27T12:46:16.698Z"
   },
   {
    "duration": 83,
    "start_time": "2022-05-27T12:46:18.074Z"
   },
   {
    "duration": 15,
    "start_time": "2022-05-27T12:46:18.159Z"
   },
   {
    "duration": 12,
    "start_time": "2022-05-27T12:46:18.177Z"
   },
   {
    "duration": 347,
    "start_time": "2022-05-27T12:46:18.191Z"
   },
   {
    "duration": 28,
    "start_time": "2022-05-27T12:46:18.543Z"
   },
   {
    "duration": 59,
    "start_time": "2022-05-27T12:46:18.573Z"
   },
   {
    "duration": 1655,
    "start_time": "2022-05-27T12:46:18.634Z"
   },
   {
    "duration": 79,
    "start_time": "2022-05-27T12:46:20.291Z"
   },
   {
    "duration": 343,
    "start_time": "2022-05-27T12:46:20.373Z"
   },
   {
    "duration": 43,
    "start_time": "2022-05-27T12:46:20.720Z"
   },
   {
    "duration": 17,
    "start_time": "2022-05-27T12:46:20.765Z"
   },
   {
    "duration": 22,
    "start_time": "2022-05-27T12:46:20.785Z"
   },
   {
    "duration": 19,
    "start_time": "2022-05-27T12:46:20.809Z"
   },
   {
    "duration": 40,
    "start_time": "2022-05-27T12:49:15.929Z"
   },
   {
    "duration": 98,
    "start_time": "2022-05-27T13:11:11.504Z"
   },
   {
    "duration": 1804,
    "start_time": "2022-05-29T12:59:29.922Z"
   },
   {
    "duration": 155,
    "start_time": "2022-05-29T12:59:31.729Z"
   },
   {
    "duration": 24,
    "start_time": "2022-05-29T12:59:31.893Z"
   },
   {
    "duration": 13,
    "start_time": "2022-05-29T12:59:31.920Z"
   },
   {
    "duration": 375,
    "start_time": "2022-05-29T12:59:31.935Z"
   },
   {
    "duration": 18,
    "start_time": "2022-05-29T12:59:32.312Z"
   },
   {
    "duration": 67,
    "start_time": "2022-05-29T12:59:32.333Z"
   },
   {
    "duration": 2697,
    "start_time": "2022-05-29T12:59:32.402Z"
   },
   {
    "duration": 104,
    "start_time": "2022-05-29T12:59:35.101Z"
   },
   {
    "duration": 384,
    "start_time": "2022-05-29T12:59:35.210Z"
   },
   {
    "duration": 191,
    "start_time": "2022-05-29T12:59:35.598Z"
   },
   {
    "duration": 14,
    "start_time": "2022-05-29T12:59:35.797Z"
   },
   {
    "duration": 18,
    "start_time": "2022-05-29T12:59:35.813Z"
   },
   {
    "duration": 77,
    "start_time": "2022-05-29T12:59:35.833Z"
   },
   {
    "duration": 128,
    "start_time": "2022-05-29T12:59:35.911Z"
   },
   {
    "duration": 461,
    "start_time": "2022-05-29T13:10:08.860Z"
   },
   {
    "duration": 119,
    "start_time": "2022-05-29T13:10:53.085Z"
   },
   {
    "duration": 35,
    "start_time": "2022-05-29T13:10:58.764Z"
   },
   {
    "duration": 14,
    "start_time": "2022-05-29T13:11:06.079Z"
   },
   {
    "duration": 51,
    "start_time": "2022-05-29T13:29:28.264Z"
   },
   {
    "duration": 115,
    "start_time": "2022-05-29T13:30:21.845Z"
   },
   {
    "duration": 15,
    "start_time": "2022-05-29T13:30:26.564Z"
   },
   {
    "duration": 16,
    "start_time": "2022-05-29T13:36:22.321Z"
   },
   {
    "duration": 12,
    "start_time": "2022-05-29T13:36:43.196Z"
   },
   {
    "duration": 13,
    "start_time": "2022-05-29T13:37:48.907Z"
   },
   {
    "duration": 15,
    "start_time": "2022-05-29T13:39:26.707Z"
   },
   {
    "duration": 1137,
    "start_time": "2022-05-29T13:42:22.956Z"
   },
   {
    "duration": 80,
    "start_time": "2022-05-29T13:42:24.096Z"
   },
   {
    "duration": 17,
    "start_time": "2022-05-29T13:42:24.178Z"
   },
   {
    "duration": 9,
    "start_time": "2022-05-29T13:42:24.197Z"
   },
   {
    "duration": 170,
    "start_time": "2022-05-29T13:42:24.208Z"
   },
   {
    "duration": 22,
    "start_time": "2022-05-29T13:42:24.380Z"
   },
   {
    "duration": 49,
    "start_time": "2022-05-29T13:42:24.404Z"
   },
   {
    "duration": 502,
    "start_time": "2022-05-29T13:42:24.456Z"
   },
   {
    "duration": 64,
    "start_time": "2022-05-29T13:42:24.961Z"
   },
   {
    "duration": 314,
    "start_time": "2022-05-29T13:42:25.026Z"
   },
   {
    "duration": 46,
    "start_time": "2022-05-29T13:42:25.342Z"
   },
   {
    "duration": 11,
    "start_time": "2022-05-29T13:42:25.390Z"
   },
   {
    "duration": 39,
    "start_time": "2022-05-29T13:42:25.403Z"
   },
   {
    "duration": 45,
    "start_time": "2022-05-29T13:42:25.446Z"
   },
   {
    "duration": 106,
    "start_time": "2022-05-29T13:42:25.493Z"
   },
   {
    "duration": 6,
    "start_time": "2022-05-29T13:42:25.601Z"
   },
   {
    "duration": 39,
    "start_time": "2022-05-29T13:42:25.608Z"
   },
   {
    "duration": 52,
    "start_time": "2022-05-29T13:42:25.648Z"
   },
   {
    "duration": 7,
    "start_time": "2022-05-29T13:42:25.703Z"
   },
   {
    "duration": 13,
    "start_time": "2022-05-29T13:42:25.711Z"
   },
   {
    "duration": 18,
    "start_time": "2022-05-29T13:42:25.741Z"
   },
   {
    "duration": 6,
    "start_time": "2022-05-29T14:17:04.187Z"
   },
   {
    "duration": 45,
    "start_time": "2022-05-29T14:17:08.371Z"
   },
   {
    "duration": 42,
    "start_time": "2022-05-29T14:17:12.688Z"
   },
   {
    "duration": 29,
    "start_time": "2022-05-29T14:17:17.594Z"
   },
   {
    "duration": 53,
    "start_time": "2022-05-29T14:17:21.830Z"
   },
   {
    "duration": 64,
    "start_time": "2022-05-29T14:17:42.725Z"
   },
   {
    "duration": 195,
    "start_time": "2022-05-29T14:29:54.421Z"
   },
   {
    "duration": 2859,
    "start_time": "2022-05-29T14:30:08.178Z"
   },
   {
    "duration": 96,
    "start_time": "2022-05-29T14:30:11.039Z"
   },
   {
    "duration": 23,
    "start_time": "2022-05-29T14:30:11.137Z"
   },
   {
    "duration": 34,
    "start_time": "2022-05-29T14:30:11.162Z"
   },
   {
    "duration": 221,
    "start_time": "2022-05-29T14:30:11.199Z"
   },
   {
    "duration": 18,
    "start_time": "2022-05-29T14:30:11.421Z"
   },
   {
    "duration": 83,
    "start_time": "2022-05-29T14:30:11.440Z"
   },
   {
    "duration": 598,
    "start_time": "2022-05-29T14:30:11.525Z"
   },
   {
    "duration": 91,
    "start_time": "2022-05-29T14:30:12.125Z"
   },
   {
    "duration": 347,
    "start_time": "2022-05-29T14:30:12.218Z"
   },
   {
    "duration": 46,
    "start_time": "2022-05-29T14:30:12.567Z"
   },
   {
    "duration": 12,
    "start_time": "2022-05-29T14:30:12.615Z"
   },
   {
    "duration": 50,
    "start_time": "2022-05-29T14:30:12.629Z"
   },
   {
    "duration": 45,
    "start_time": "2022-05-29T14:30:12.685Z"
   },
   {
    "duration": 125,
    "start_time": "2022-05-29T14:30:12.732Z"
   },
   {
    "duration": 13,
    "start_time": "2022-05-29T14:30:12.859Z"
   },
   {
    "duration": 40,
    "start_time": "2022-05-29T14:30:12.874Z"
   },
   {
    "duration": 23,
    "start_time": "2022-05-29T14:30:12.916Z"
   },
   {
    "duration": 55,
    "start_time": "2022-05-29T14:30:12.941Z"
   },
   {
    "duration": 7,
    "start_time": "2022-05-29T14:30:12.998Z"
   },
   {
    "duration": 87,
    "start_time": "2022-05-29T14:30:13.007Z"
   },
   {
    "duration": 7,
    "start_time": "2022-05-29T14:30:13.096Z"
   },
   {
    "duration": 15,
    "start_time": "2022-05-29T14:30:13.105Z"
   },
   {
    "duration": 11,
    "start_time": "2022-05-29T14:30:13.122Z"
   },
   {
    "duration": 1517,
    "start_time": "2022-05-29T14:31:09.907Z"
   },
   {
    "duration": 74,
    "start_time": "2022-05-29T14:31:11.426Z"
   },
   {
    "duration": 15,
    "start_time": "2022-05-29T14:31:11.502Z"
   },
   {
    "duration": 13,
    "start_time": "2022-05-29T14:31:11.519Z"
   },
   {
    "duration": 163,
    "start_time": "2022-05-29T14:31:11.535Z"
   },
   {
    "duration": 29,
    "start_time": "2022-05-29T14:31:11.700Z"
   },
   {
    "duration": 84,
    "start_time": "2022-05-29T14:31:11.731Z"
   },
   {
    "duration": 692,
    "start_time": "2022-05-29T14:31:11.818Z"
   },
   {
    "duration": 102,
    "start_time": "2022-05-29T14:31:12.512Z"
   },
   {
    "duration": 427,
    "start_time": "2022-05-29T14:31:12.616Z"
   },
   {
    "duration": 74,
    "start_time": "2022-05-29T14:31:13.055Z"
   },
   {
    "duration": 26,
    "start_time": "2022-05-29T14:31:13.132Z"
   },
   {
    "duration": 51,
    "start_time": "2022-05-29T14:31:13.161Z"
   },
   {
    "duration": 71,
    "start_time": "2022-05-29T14:31:13.217Z"
   },
   {
    "duration": 172,
    "start_time": "2022-05-29T14:31:13.291Z"
   },
   {
    "duration": 40,
    "start_time": "2022-05-29T14:31:13.467Z"
   },
   {
    "duration": 24,
    "start_time": "2022-05-29T14:31:13.511Z"
   },
   {
    "duration": 59,
    "start_time": "2022-05-29T14:31:13.538Z"
   },
   {
    "duration": 37,
    "start_time": "2022-05-29T14:31:13.599Z"
   },
   {
    "duration": 21,
    "start_time": "2022-05-29T14:31:13.638Z"
   },
   {
    "duration": 53,
    "start_time": "2022-05-29T14:31:13.661Z"
   },
   {
    "duration": 94,
    "start_time": "2022-05-29T14:31:13.716Z"
   },
   {
    "duration": 8,
    "start_time": "2022-05-29T14:31:13.812Z"
   },
   {
    "duration": 16,
    "start_time": "2022-05-29T14:31:13.822Z"
   },
   {
    "duration": 21,
    "start_time": "2022-05-29T14:31:13.852Z"
   },
   {
    "duration": 28,
    "start_time": "2022-05-29T14:32:03.676Z"
   },
   {
    "duration": 11,
    "start_time": "2022-05-29T14:32:09.209Z"
   },
   {
    "duration": 22,
    "start_time": "2022-05-29T14:32:45.495Z"
   },
   {
    "duration": 16,
    "start_time": "2022-05-29T14:33:19.225Z"
   },
   {
    "duration": 29,
    "start_time": "2022-05-29T14:33:44.647Z"
   },
   {
    "duration": 24,
    "start_time": "2022-05-29T14:33:49.076Z"
   },
   {
    "duration": 24,
    "start_time": "2022-05-29T14:34:16.000Z"
   },
   {
    "duration": 1305,
    "start_time": "2022-05-29T14:34:22.668Z"
   },
   {
    "duration": 45,
    "start_time": "2022-05-29T14:34:23.975Z"
   },
   {
    "duration": 14,
    "start_time": "2022-05-29T14:34:24.023Z"
   },
   {
    "duration": 16,
    "start_time": "2022-05-29T14:34:24.039Z"
   },
   {
    "duration": 121,
    "start_time": "2022-05-29T14:34:24.060Z"
   },
   {
    "duration": 19,
    "start_time": "2022-05-29T14:34:24.185Z"
   },
   {
    "duration": 48,
    "start_time": "2022-05-29T14:34:24.206Z"
   },
   {
    "duration": 562,
    "start_time": "2022-05-29T14:34:24.256Z"
   },
   {
    "duration": 87,
    "start_time": "2022-05-29T14:34:24.820Z"
   },
   {
    "duration": 346,
    "start_time": "2022-05-29T14:34:24.909Z"
   },
   {
    "duration": 59,
    "start_time": "2022-05-29T14:34:25.257Z"
   },
   {
    "duration": 11,
    "start_time": "2022-05-29T14:34:25.318Z"
   },
   {
    "duration": 13,
    "start_time": "2022-05-29T14:34:25.331Z"
   },
   {
    "duration": 100,
    "start_time": "2022-05-29T14:34:25.348Z"
   },
   {
    "duration": 149,
    "start_time": "2022-05-29T14:34:25.453Z"
   },
   {
    "duration": 8,
    "start_time": "2022-05-29T14:34:25.604Z"
   },
   {
    "duration": 14,
    "start_time": "2022-05-29T14:34:25.614Z"
   },
   {
    "duration": 71,
    "start_time": "2022-05-29T14:34:25.630Z"
   },
   {
    "duration": 29,
    "start_time": "2022-05-29T14:34:25.703Z"
   },
   {
    "duration": 32,
    "start_time": "2022-05-29T14:34:25.734Z"
   },
   {
    "duration": 207,
    "start_time": "2022-05-29T14:34:25.780Z"
   },
   {
    "duration": 0,
    "start_time": "2022-05-29T14:34:25.990Z"
   },
   {
    "duration": 0,
    "start_time": "2022-05-29T14:34:25.991Z"
   },
   {
    "duration": 0,
    "start_time": "2022-05-29T14:34:25.993Z"
   },
   {
    "duration": 0,
    "start_time": "2022-05-29T14:34:25.994Z"
   },
   {
    "duration": 45,
    "start_time": "2022-05-29T14:34:43.262Z"
   },
   {
    "duration": 23,
    "start_time": "2022-05-29T14:34:47.170Z"
   },
   {
    "duration": 24,
    "start_time": "2022-05-29T14:36:53.938Z"
   },
   {
    "duration": 18,
    "start_time": "2022-05-29T15:08:29.461Z"
   },
   {
    "duration": 14,
    "start_time": "2022-05-29T15:08:35.520Z"
   },
   {
    "duration": 14,
    "start_time": "2022-05-29T15:08:39.657Z"
   },
   {
    "duration": 1542,
    "start_time": "2022-05-29T15:09:06.540Z"
   },
   {
    "duration": 71,
    "start_time": "2022-05-29T15:09:08.085Z"
   },
   {
    "duration": 16,
    "start_time": "2022-05-29T15:09:08.161Z"
   },
   {
    "duration": 9,
    "start_time": "2022-05-29T15:09:08.180Z"
   },
   {
    "duration": 208,
    "start_time": "2022-05-29T15:09:08.193Z"
   },
   {
    "duration": 32,
    "start_time": "2022-05-29T15:09:08.405Z"
   },
   {
    "duration": 89,
    "start_time": "2022-05-29T15:09:08.442Z"
   },
   {
    "duration": 1673,
    "start_time": "2022-05-29T15:09:08.533Z"
   },
   {
    "duration": 96,
    "start_time": "2022-05-29T15:09:10.208Z"
   },
   {
    "duration": 374,
    "start_time": "2022-05-29T15:09:10.306Z"
   },
   {
    "duration": 149,
    "start_time": "2022-05-29T15:09:10.684Z"
   },
   {
    "duration": 15,
    "start_time": "2022-05-29T15:09:10.835Z"
   },
   {
    "duration": 58,
    "start_time": "2022-05-29T15:09:10.855Z"
   },
   {
    "duration": 51,
    "start_time": "2022-05-29T15:09:10.917Z"
   },
   {
    "duration": 138,
    "start_time": "2022-05-29T15:09:10.971Z"
   },
   {
    "duration": 8,
    "start_time": "2022-05-29T15:09:11.118Z"
   },
   {
    "duration": 47,
    "start_time": "2022-05-29T15:09:11.128Z"
   },
   {
    "duration": 47,
    "start_time": "2022-05-29T15:09:11.177Z"
   },
   {
    "duration": 45,
    "start_time": "2022-05-29T15:09:11.226Z"
   },
   {
    "duration": 24,
    "start_time": "2022-05-29T15:09:11.276Z"
   },
   {
    "duration": 65,
    "start_time": "2022-05-29T15:09:11.302Z"
   },
   {
    "duration": 48,
    "start_time": "2022-05-29T15:09:11.370Z"
   },
   {
    "duration": 72,
    "start_time": "2022-05-29T15:09:11.421Z"
   },
   {
    "duration": 10,
    "start_time": "2022-05-29T15:09:11.495Z"
   },
   {
    "duration": 16,
    "start_time": "2022-05-29T15:09:11.507Z"
   },
   {
    "duration": 45,
    "start_time": "2022-05-29T15:09:11.541Z"
   },
   {
    "duration": 64,
    "start_time": "2022-05-29T15:09:46.399Z"
   },
   {
    "duration": 59,
    "start_time": "2022-05-29T15:09:58.761Z"
   },
   {
    "duration": 5,
    "start_time": "2022-05-29T15:10:40.753Z"
   },
   {
    "duration": 115,
    "start_time": "2022-05-29T15:13:12.660Z"
   },
   {
    "duration": 9,
    "start_time": "2022-05-29T15:13:18.693Z"
   },
   {
    "duration": 13,
    "start_time": "2022-05-29T15:13:52.359Z"
   },
   {
    "duration": 7,
    "start_time": "2022-05-29T15:14:04.283Z"
   },
   {
    "duration": 7,
    "start_time": "2022-05-29T15:14:36.880Z"
   },
   {
    "duration": 121,
    "start_time": "2022-05-29T15:32:47.580Z"
   },
   {
    "duration": 138,
    "start_time": "2022-05-29T15:32:59.107Z"
   },
   {
    "duration": 122,
    "start_time": "2022-05-29T15:33:05.473Z"
   },
   {
    "duration": 8,
    "start_time": "2022-05-29T15:35:16.645Z"
   },
   {
    "duration": 17,
    "start_time": "2022-05-29T15:35:33.662Z"
   },
   {
    "duration": 6,
    "start_time": "2022-05-29T15:41:05.009Z"
   },
   {
    "duration": 6,
    "start_time": "2022-05-29T15:41:15.322Z"
   },
   {
    "duration": 13,
    "start_time": "2022-05-29T15:41:53.234Z"
   },
   {
    "duration": 11,
    "start_time": "2022-05-29T15:47:04.067Z"
   },
   {
    "duration": 13,
    "start_time": "2022-05-29T15:48:48.575Z"
   },
   {
    "duration": 18,
    "start_time": "2022-05-29T15:48:53.711Z"
   },
   {
    "duration": 1190,
    "start_time": "2022-05-29T15:50:20.125Z"
   },
   {
    "duration": 35,
    "start_time": "2022-05-29T15:50:21.316Z"
   },
   {
    "duration": 9,
    "start_time": "2022-05-29T15:50:21.353Z"
   },
   {
    "duration": 7,
    "start_time": "2022-05-29T15:50:21.365Z"
   },
   {
    "duration": 82,
    "start_time": "2022-05-29T15:50:21.374Z"
   },
   {
    "duration": 25,
    "start_time": "2022-05-29T15:50:21.457Z"
   },
   {
    "duration": 47,
    "start_time": "2022-05-29T15:50:21.484Z"
   },
   {
    "duration": 503,
    "start_time": "2022-05-29T15:50:21.542Z"
   },
   {
    "duration": 58,
    "start_time": "2022-05-29T15:50:22.047Z"
   },
   {
    "duration": 327,
    "start_time": "2022-05-29T15:50:22.108Z"
   },
   {
    "duration": 39,
    "start_time": "2022-05-29T15:50:22.436Z"
   },
   {
    "duration": 12,
    "start_time": "2022-05-29T15:50:22.477Z"
   },
   {
    "duration": 10,
    "start_time": "2022-05-29T15:50:22.491Z"
   },
   {
    "duration": 46,
    "start_time": "2022-05-29T15:50:22.503Z"
   },
   {
    "duration": 110,
    "start_time": "2022-05-29T15:50:22.550Z"
   },
   {
    "duration": 6,
    "start_time": "2022-05-29T15:50:22.662Z"
   },
   {
    "duration": 15,
    "start_time": "2022-05-29T15:50:22.670Z"
   },
   {
    "duration": 27,
    "start_time": "2022-05-29T15:50:22.687Z"
   },
   {
    "duration": 48,
    "start_time": "2022-05-29T15:50:22.715Z"
   },
   {
    "duration": 15,
    "start_time": "2022-05-29T15:50:22.764Z"
   },
   {
    "duration": 32,
    "start_time": "2022-05-29T15:50:22.780Z"
   },
   {
    "duration": 40,
    "start_time": "2022-05-29T15:50:22.842Z"
   },
   {
    "duration": 4,
    "start_time": "2022-05-29T15:50:22.884Z"
   },
   {
    "duration": 13,
    "start_time": "2022-05-29T15:50:22.889Z"
   },
   {
    "duration": 11,
    "start_time": "2022-05-29T15:50:22.904Z"
   },
   {
    "duration": 155,
    "start_time": "2022-05-29T15:50:22.942Z"
   },
   {
    "duration": 38,
    "start_time": "2022-05-29T15:50:23.098Z"
   },
   {
    "duration": 5,
    "start_time": "2022-05-29T15:50:23.140Z"
   },
   {
    "duration": 16,
    "start_time": "2022-05-29T15:50:23.147Z"
   },
   {
    "duration": 1200,
    "start_time": "2022-05-29T15:53:18.449Z"
   },
   {
    "duration": 35,
    "start_time": "2022-05-29T15:53:19.650Z"
   },
   {
    "duration": 14,
    "start_time": "2022-05-29T15:53:19.687Z"
   },
   {
    "duration": 14,
    "start_time": "2022-05-29T15:53:19.704Z"
   },
   {
    "duration": 88,
    "start_time": "2022-05-29T15:53:19.720Z"
   },
   {
    "duration": 37,
    "start_time": "2022-05-29T15:53:19.810Z"
   },
   {
    "duration": 49,
    "start_time": "2022-05-29T15:53:19.850Z"
   },
   {
    "duration": 533,
    "start_time": "2022-05-29T15:53:19.900Z"
   },
   {
    "duration": 62,
    "start_time": "2022-05-29T15:53:20.435Z"
   },
   {
    "duration": 300,
    "start_time": "2022-05-29T15:53:20.498Z"
   },
   {
    "duration": 43,
    "start_time": "2022-05-29T15:53:20.799Z"
   },
   {
    "duration": 13,
    "start_time": "2022-05-29T15:53:20.843Z"
   },
   {
    "duration": 14,
    "start_time": "2022-05-29T15:53:20.858Z"
   },
   {
    "duration": 69,
    "start_time": "2022-05-29T15:53:20.876Z"
   },
   {
    "duration": 105,
    "start_time": "2022-05-29T15:53:20.946Z"
   },
   {
    "duration": 6,
    "start_time": "2022-05-29T15:53:21.053Z"
   },
   {
    "duration": 20,
    "start_time": "2022-05-29T15:53:21.061Z"
   },
   {
    "duration": 47,
    "start_time": "2022-05-29T15:53:21.083Z"
   },
   {
    "duration": 33,
    "start_time": "2022-05-29T15:53:21.140Z"
   },
   {
    "duration": 15,
    "start_time": "2022-05-29T15:53:21.175Z"
   },
   {
    "duration": 49,
    "start_time": "2022-05-29T15:53:21.192Z"
   },
   {
    "duration": 36,
    "start_time": "2022-05-29T15:53:21.243Z"
   },
   {
    "duration": 4,
    "start_time": "2022-05-29T15:53:21.281Z"
   },
   {
    "duration": 14,
    "start_time": "2022-05-29T15:53:21.286Z"
   },
   {
    "duration": 8,
    "start_time": "2022-05-29T15:53:21.302Z"
   },
   {
    "duration": 152,
    "start_time": "2022-05-29T15:53:21.312Z"
   },
   {
    "duration": 17,
    "start_time": "2022-05-29T15:53:21.466Z"
   },
   {
    "duration": 5,
    "start_time": "2022-05-29T15:53:21.485Z"
   },
   {
    "duration": 16,
    "start_time": "2022-05-29T15:53:21.492Z"
   },
   {
    "duration": 220821,
    "start_time": "2022-05-29T15:53:21.541Z"
   },
   {
    "duration": 9,
    "start_time": "2022-05-29T15:57:02.364Z"
   },
   {
    "duration": 102,
    "start_time": "2022-05-29T16:01:18.436Z"
   },
   {
    "duration": 17,
    "start_time": "2022-05-29T16:01:19.818Z"
   },
   {
    "duration": 8,
    "start_time": "2022-05-29T16:01:32.951Z"
   },
   {
    "duration": 13,
    "start_time": "2022-05-29T16:01:34.588Z"
   },
   {
    "duration": 1119,
    "start_time": "2022-05-29T16:01:48.076Z"
   },
   {
    "duration": 33,
    "start_time": "2022-05-29T16:01:49.197Z"
   },
   {
    "duration": 10,
    "start_time": "2022-05-29T16:01:49.232Z"
   },
   {
    "duration": 6,
    "start_time": "2022-05-29T16:01:49.244Z"
   },
   {
    "duration": 82,
    "start_time": "2022-05-29T16:01:49.251Z"
   },
   {
    "duration": 17,
    "start_time": "2022-05-29T16:01:49.335Z"
   },
   {
    "duration": 37,
    "start_time": "2022-05-29T16:01:49.353Z"
   },
   {
    "duration": 502,
    "start_time": "2022-05-29T16:01:49.392Z"
   },
   {
    "duration": 91,
    "start_time": "2022-05-29T16:01:49.896Z"
   },
   {
    "duration": 302,
    "start_time": "2022-05-29T16:01:49.989Z"
   },
   {
    "duration": 39,
    "start_time": "2022-05-29T16:01:50.292Z"
   },
   {
    "duration": 12,
    "start_time": "2022-05-29T16:01:50.332Z"
   },
   {
    "duration": 18,
    "start_time": "2022-05-29T16:01:50.346Z"
   },
   {
    "duration": 39,
    "start_time": "2022-05-29T16:01:50.366Z"
   },
   {
    "duration": 121,
    "start_time": "2022-05-29T16:01:50.407Z"
   },
   {
    "duration": 13,
    "start_time": "2022-05-29T16:01:50.530Z"
   },
   {
    "duration": 14,
    "start_time": "2022-05-29T16:01:50.545Z"
   },
   {
    "duration": 28,
    "start_time": "2022-05-29T16:01:50.561Z"
   },
   {
    "duration": 54,
    "start_time": "2022-05-29T16:01:50.591Z"
   },
   {
    "duration": 16,
    "start_time": "2022-05-29T16:01:50.646Z"
   },
   {
    "duration": 31,
    "start_time": "2022-05-29T16:01:50.663Z"
   },
   {
    "duration": 67,
    "start_time": "2022-05-29T16:01:50.696Z"
   },
   {
    "duration": 4,
    "start_time": "2022-05-29T16:01:50.765Z"
   },
   {
    "duration": 17,
    "start_time": "2022-05-29T16:01:50.771Z"
   },
   {
    "duration": 16,
    "start_time": "2022-05-29T16:01:50.789Z"
   },
   {
    "duration": 154,
    "start_time": "2022-05-29T16:01:50.806Z"
   },
   {
    "duration": 20,
    "start_time": "2022-05-29T16:01:50.962Z"
   },
   {
    "duration": 4,
    "start_time": "2022-05-29T16:01:50.984Z"
   },
   {
    "duration": 14,
    "start_time": "2022-05-29T16:01:50.990Z"
   },
   {
    "duration": 150,
    "start_time": "2022-05-29T16:01:51.005Z"
   },
   {
    "duration": 0,
    "start_time": "2022-05-29T16:01:51.157Z"
   },
   {
    "duration": 0,
    "start_time": "2022-05-29T16:01:51.159Z"
   },
   {
    "duration": 8,
    "start_time": "2022-05-29T16:02:21.967Z"
   },
   {
    "duration": 19,
    "start_time": "2022-05-29T16:02:26.336Z"
   },
   {
    "duration": 347,
    "start_time": "2022-05-29T16:02:28.075Z"
   },
   {
    "duration": 13,
    "start_time": "2022-05-29T16:02:38.717Z"
   },
   {
    "duration": 14,
    "start_time": "2022-05-29T16:05:47.260Z"
   },
   {
    "duration": 11,
    "start_time": "2022-05-29T16:06:48.202Z"
   },
   {
    "duration": 1101,
    "start_time": "2022-05-29T16:11:47.499Z"
   },
   {
    "duration": 33,
    "start_time": "2022-05-29T16:11:48.602Z"
   },
   {
    "duration": 14,
    "start_time": "2022-05-29T16:11:48.637Z"
   },
   {
    "duration": 10,
    "start_time": "2022-05-29T16:11:48.655Z"
   },
   {
    "duration": 73,
    "start_time": "2022-05-29T16:11:48.667Z"
   },
   {
    "duration": 25,
    "start_time": "2022-05-29T16:11:48.743Z"
   },
   {
    "duration": 35,
    "start_time": "2022-05-29T16:11:48.770Z"
   },
   {
    "duration": 529,
    "start_time": "2022-05-29T16:11:48.806Z"
   },
   {
    "duration": 68,
    "start_time": "2022-05-29T16:11:49.336Z"
   },
   {
    "duration": 306,
    "start_time": "2022-05-29T16:11:49.407Z"
   },
   {
    "duration": 48,
    "start_time": "2022-05-29T16:11:49.714Z"
   },
   {
    "duration": 11,
    "start_time": "2022-05-29T16:11:49.763Z"
   },
   {
    "duration": 13,
    "start_time": "2022-05-29T16:11:49.776Z"
   },
   {
    "duration": 56,
    "start_time": "2022-05-29T16:11:49.791Z"
   },
   {
    "duration": 129,
    "start_time": "2022-05-29T16:11:49.849Z"
   },
   {
    "duration": 7,
    "start_time": "2022-05-29T16:11:49.980Z"
   },
   {
    "duration": 14,
    "start_time": "2022-05-29T16:11:49.988Z"
   },
   {
    "duration": 50,
    "start_time": "2022-05-29T16:11:50.004Z"
   },
   {
    "duration": 25,
    "start_time": "2022-05-29T16:11:50.056Z"
   },
   {
    "duration": 14,
    "start_time": "2022-05-29T16:11:50.082Z"
   },
   {
    "duration": 14,
    "start_time": "2022-05-29T16:11:50.098Z"
   },
   {
    "duration": 72,
    "start_time": "2022-05-29T16:11:50.113Z"
   },
   {
    "duration": 4,
    "start_time": "2022-05-29T16:11:50.186Z"
   },
   {
    "duration": 11,
    "start_time": "2022-05-29T16:11:50.192Z"
   },
   {
    "duration": 7,
    "start_time": "2022-05-29T16:11:50.205Z"
   },
   {
    "duration": 164,
    "start_time": "2022-05-29T16:11:50.214Z"
   },
   {
    "duration": 15,
    "start_time": "2022-05-29T16:11:50.380Z"
   },
   {
    "duration": 4,
    "start_time": "2022-05-29T16:11:50.398Z"
   },
   {
    "duration": 12,
    "start_time": "2022-05-29T16:11:50.403Z"
   },
   {
    "duration": 424,
    "start_time": "2022-05-29T16:11:50.417Z"
   },
   {
    "duration": 13,
    "start_time": "2022-05-29T16:11:50.844Z"
   },
   {
    "duration": 21,
    "start_time": "2022-05-29T16:17:21.516Z"
   },
   {
    "duration": 19,
    "start_time": "2022-05-29T16:18:19.555Z"
   },
   {
    "duration": 1217,
    "start_time": "2022-05-29T16:18:33.407Z"
   },
   {
    "duration": 38,
    "start_time": "2022-05-29T16:18:34.626Z"
   },
   {
    "duration": 9,
    "start_time": "2022-05-29T16:18:34.666Z"
   },
   {
    "duration": 13,
    "start_time": "2022-05-29T16:18:34.677Z"
   },
   {
    "duration": 82,
    "start_time": "2022-05-29T16:18:34.692Z"
   },
   {
    "duration": 18,
    "start_time": "2022-05-29T16:18:34.775Z"
   },
   {
    "duration": 38,
    "start_time": "2022-05-29T16:18:34.794Z"
   },
   {
    "duration": 539,
    "start_time": "2022-05-29T16:18:34.841Z"
   },
   {
    "duration": 68,
    "start_time": "2022-05-29T16:18:35.382Z"
   },
   {
    "duration": 298,
    "start_time": "2022-05-29T16:18:35.453Z"
   },
   {
    "duration": 39,
    "start_time": "2022-05-29T16:18:35.752Z"
   },
   {
    "duration": 11,
    "start_time": "2022-05-29T16:18:35.793Z"
   },
   {
    "duration": 19,
    "start_time": "2022-05-29T16:18:35.805Z"
   },
   {
    "duration": 45,
    "start_time": "2022-05-29T16:18:35.825Z"
   },
   {
    "duration": 115,
    "start_time": "2022-05-29T16:18:35.871Z"
   },
   {
    "duration": 6,
    "start_time": "2022-05-29T16:18:35.988Z"
   },
   {
    "duration": 16,
    "start_time": "2022-05-29T16:18:35.996Z"
   },
   {
    "duration": 55,
    "start_time": "2022-05-29T16:18:36.013Z"
   },
   {
    "duration": 25,
    "start_time": "2022-05-29T16:18:36.069Z"
   },
   {
    "duration": 13,
    "start_time": "2022-05-29T16:18:36.096Z"
   },
   {
    "duration": 36,
    "start_time": "2022-05-29T16:18:36.111Z"
   },
   {
    "duration": 158,
    "start_time": "2022-05-29T16:18:36.148Z"
   },
   {
    "duration": 0,
    "start_time": "2022-05-29T16:18:36.308Z"
   },
   {
    "duration": 0,
    "start_time": "2022-05-29T16:18:36.309Z"
   },
   {
    "duration": 0,
    "start_time": "2022-05-29T16:18:36.310Z"
   },
   {
    "duration": 0,
    "start_time": "2022-05-29T16:18:36.311Z"
   },
   {
    "duration": 0,
    "start_time": "2022-05-29T16:18:36.312Z"
   },
   {
    "duration": 0,
    "start_time": "2022-05-29T16:18:36.313Z"
   },
   {
    "duration": 0,
    "start_time": "2022-05-29T16:18:36.314Z"
   },
   {
    "duration": 0,
    "start_time": "2022-05-29T16:18:36.315Z"
   },
   {
    "duration": 0,
    "start_time": "2022-05-29T16:18:36.316Z"
   },
   {
    "duration": 149,
    "start_time": "2022-05-29T16:23:10.764Z"
   },
   {
    "duration": 10,
    "start_time": "2022-05-29T16:23:25.714Z"
   },
   {
    "duration": 14,
    "start_time": "2022-05-29T16:23:31.158Z"
   },
   {
    "duration": 9,
    "start_time": "2022-05-29T16:23:54.060Z"
   },
   {
    "duration": 10,
    "start_time": "2022-05-29T16:24:00.578Z"
   },
   {
    "duration": 7,
    "start_time": "2022-05-29T16:24:27.366Z"
   },
   {
    "duration": 8,
    "start_time": "2022-05-29T16:24:48.112Z"
   },
   {
    "duration": 11,
    "start_time": "2022-05-29T16:25:34.161Z"
   },
   {
    "duration": 9,
    "start_time": "2022-05-29T16:27:58.015Z"
   },
   {
    "duration": 7,
    "start_time": "2022-05-29T16:28:55.563Z"
   },
   {
    "duration": 8,
    "start_time": "2022-05-29T16:29:16.683Z"
   },
   {
    "duration": 1196,
    "start_time": "2022-05-29T16:29:23.306Z"
   },
   {
    "duration": 33,
    "start_time": "2022-05-29T16:29:24.504Z"
   },
   {
    "duration": 13,
    "start_time": "2022-05-29T16:29:24.539Z"
   },
   {
    "duration": 12,
    "start_time": "2022-05-29T16:29:24.559Z"
   },
   {
    "duration": 82,
    "start_time": "2022-05-29T16:29:24.572Z"
   },
   {
    "duration": 19,
    "start_time": "2022-05-29T16:29:24.656Z"
   },
   {
    "duration": 35,
    "start_time": "2022-05-29T16:29:24.677Z"
   },
   {
    "duration": 537,
    "start_time": "2022-05-29T16:29:24.713Z"
   },
   {
    "duration": 66,
    "start_time": "2022-05-29T16:29:25.254Z"
   },
   {
    "duration": 317,
    "start_time": "2022-05-29T16:29:25.324Z"
   },
   {
    "duration": 54,
    "start_time": "2022-05-29T16:29:25.644Z"
   },
   {
    "duration": 11,
    "start_time": "2022-05-29T16:29:25.700Z"
   },
   {
    "duration": 12,
    "start_time": "2022-05-29T16:29:25.712Z"
   },
   {
    "duration": 48,
    "start_time": "2022-05-29T16:29:25.726Z"
   },
   {
    "duration": 129,
    "start_time": "2022-05-29T16:29:25.776Z"
   },
   {
    "duration": 8,
    "start_time": "2022-05-29T16:29:25.907Z"
   },
   {
    "duration": 13,
    "start_time": "2022-05-29T16:29:25.916Z"
   },
   {
    "duration": 44,
    "start_time": "2022-05-29T16:29:25.930Z"
   },
   {
    "duration": 24,
    "start_time": "2022-05-29T16:29:25.975Z"
   },
   {
    "duration": 13,
    "start_time": "2022-05-29T16:29:26.001Z"
   },
   {
    "duration": 49,
    "start_time": "2022-05-29T16:29:26.015Z"
   },
   {
    "duration": 13,
    "start_time": "2022-05-29T16:29:26.066Z"
   },
   {
    "duration": 37,
    "start_time": "2022-05-29T16:29:26.081Z"
   },
   {
    "duration": 24,
    "start_time": "2022-05-29T16:29:26.120Z"
   },
   {
    "duration": 26,
    "start_time": "2022-05-29T16:29:26.146Z"
   },
   {
    "duration": 9,
    "start_time": "2022-05-29T16:29:26.174Z"
   },
   {
    "duration": 151,
    "start_time": "2022-05-29T16:29:26.185Z"
   },
   {
    "duration": 28,
    "start_time": "2022-05-29T16:29:26.341Z"
   },
   {
    "duration": 5,
    "start_time": "2022-05-29T16:29:26.370Z"
   },
   {
    "duration": 12,
    "start_time": "2022-05-29T16:29:26.376Z"
   },
   {
    "duration": 438,
    "start_time": "2022-05-29T16:29:26.390Z"
   },
   {
    "duration": 18,
    "start_time": "2022-05-29T16:29:26.830Z"
   },
   {
    "duration": 13,
    "start_time": "2022-05-29T16:29:39.264Z"
   },
   {
    "duration": 17,
    "start_time": "2022-05-29T16:30:46.216Z"
   },
   {
    "duration": 15,
    "start_time": "2022-05-29T16:31:08.196Z"
   },
   {
    "duration": 117,
    "start_time": "2022-05-29T16:35:27.993Z"
   },
   {
    "duration": 11,
    "start_time": "2022-05-29T16:35:32.967Z"
   },
   {
    "duration": 9,
    "start_time": "2022-05-29T16:35:33.877Z"
   },
   {
    "duration": 156,
    "start_time": "2022-05-29T16:35:44.888Z"
   },
   {
    "duration": 610,
    "start_time": "2022-05-29T16:38:45.097Z"
   },
   {
    "duration": 539,
    "start_time": "2022-05-29T16:38:55.762Z"
   },
   {
    "duration": 369,
    "start_time": "2022-05-29T16:39:17.895Z"
   },
   {
    "duration": 402,
    "start_time": "2022-05-29T16:39:35.020Z"
   },
   {
    "duration": 382,
    "start_time": "2022-05-29T16:40:32.837Z"
   },
   {
    "duration": 409,
    "start_time": "2022-05-29T16:41:10.601Z"
   },
   {
    "duration": 389,
    "start_time": "2022-05-29T16:43:14.268Z"
   },
   {
    "duration": 289,
    "start_time": "2022-05-29T16:43:26.259Z"
   },
   {
    "duration": 365,
    "start_time": "2022-05-29T16:43:55.876Z"
   },
   {
    "duration": 376,
    "start_time": "2022-05-29T16:44:23.165Z"
   },
   {
    "duration": 13,
    "start_time": "2022-05-29T16:46:12.007Z"
   },
   {
    "duration": 18,
    "start_time": "2022-05-29T16:46:20.076Z"
   },
   {
    "duration": 186,
    "start_time": "2022-05-29T16:46:46.075Z"
   },
   {
    "duration": 18,
    "start_time": "2022-05-29T16:48:02.519Z"
   },
   {
    "duration": 18,
    "start_time": "2022-05-29T16:48:13.497Z"
   },
   {
    "duration": 9,
    "start_time": "2022-05-29T16:48:33.721Z"
   },
   {
    "duration": 17,
    "start_time": "2022-05-29T16:48:54.132Z"
   },
   {
    "duration": 8,
    "start_time": "2022-05-29T16:48:54.904Z"
   },
   {
    "duration": 7,
    "start_time": "2022-05-29T16:48:56.316Z"
   },
   {
    "duration": 16,
    "start_time": "2022-05-29T16:49:19.059Z"
   },
   {
    "duration": 12,
    "start_time": "2022-05-29T16:51:05.509Z"
   },
   {
    "duration": 10,
    "start_time": "2022-05-29T16:56:41.273Z"
   },
   {
    "duration": 20,
    "start_time": "2022-05-29T16:56:47.573Z"
   },
   {
    "duration": 22,
    "start_time": "2022-05-29T16:57:02.339Z"
   },
   {
    "duration": 6,
    "start_time": "2022-05-29T17:00:44.792Z"
   },
   {
    "duration": 19,
    "start_time": "2022-05-29T17:00:45.894Z"
   },
   {
    "duration": 3,
    "start_time": "2022-05-29T17:01:28.717Z"
   },
   {
    "duration": 1259,
    "start_time": "2022-05-29T17:01:33.526Z"
   },
   {
    "duration": 34,
    "start_time": "2022-05-29T17:01:34.787Z"
   },
   {
    "duration": 10,
    "start_time": "2022-05-29T17:01:34.822Z"
   },
   {
    "duration": 9,
    "start_time": "2022-05-29T17:01:34.834Z"
   },
   {
    "duration": 81,
    "start_time": "2022-05-29T17:01:34.845Z"
   },
   {
    "duration": 18,
    "start_time": "2022-05-29T17:01:34.928Z"
   },
   {
    "duration": 39,
    "start_time": "2022-05-29T17:01:34.948Z"
   },
   {
    "duration": 505,
    "start_time": "2022-05-29T17:01:34.988Z"
   },
   {
    "duration": 62,
    "start_time": "2022-05-29T17:01:35.495Z"
   },
   {
    "duration": 316,
    "start_time": "2022-05-29T17:01:35.560Z"
   },
   {
    "duration": 40,
    "start_time": "2022-05-29T17:01:35.878Z"
   },
   {
    "duration": 12,
    "start_time": "2022-05-29T17:01:35.920Z"
   },
   {
    "duration": 20,
    "start_time": "2022-05-29T17:01:35.933Z"
   },
   {
    "duration": 40,
    "start_time": "2022-05-29T17:01:35.955Z"
   },
   {
    "duration": 100,
    "start_time": "2022-05-29T17:01:35.997Z"
   },
   {
    "duration": 6,
    "start_time": "2022-05-29T17:01:36.099Z"
   },
   {
    "duration": 17,
    "start_time": "2022-05-29T17:01:36.106Z"
   },
   {
    "duration": 42,
    "start_time": "2022-05-29T17:01:36.124Z"
   },
   {
    "duration": 25,
    "start_time": "2022-05-29T17:01:36.168Z"
   },
   {
    "duration": 13,
    "start_time": "2022-05-29T17:01:36.195Z"
   },
   {
    "duration": 39,
    "start_time": "2022-05-29T17:01:36.210Z"
   },
   {
    "duration": 41,
    "start_time": "2022-05-29T17:01:36.251Z"
   },
   {
    "duration": 4,
    "start_time": "2022-05-29T17:01:36.293Z"
   },
   {
    "duration": 11,
    "start_time": "2022-05-29T17:01:36.299Z"
   },
   {
    "duration": 8,
    "start_time": "2022-05-29T17:01:36.311Z"
   },
   {
    "duration": 153,
    "start_time": "2022-05-29T17:01:36.342Z"
   },
   {
    "duration": 17,
    "start_time": "2022-05-29T17:01:36.497Z"
   },
   {
    "duration": 4,
    "start_time": "2022-05-29T17:01:36.517Z"
   },
   {
    "duration": 29,
    "start_time": "2022-05-29T17:01:36.522Z"
   },
   {
    "duration": 436,
    "start_time": "2022-05-29T17:01:36.553Z"
   },
   {
    "duration": 13,
    "start_time": "2022-05-29T17:01:36.991Z"
   },
   {
    "duration": 15,
    "start_time": "2022-05-29T17:01:37.007Z"
   },
   {
    "duration": 14,
    "start_time": "2022-05-29T17:01:37.041Z"
   },
   {
    "duration": 199,
    "start_time": "2022-05-29T17:01:37.057Z"
   },
   {
    "duration": 590,
    "start_time": "2022-05-29T17:01:37.257Z"
   },
   {
    "duration": 27,
    "start_time": "2022-05-29T17:01:37.849Z"
   },
   {
    "duration": 173,
    "start_time": "2022-05-29T17:01:37.879Z"
   },
   {
    "duration": 23,
    "start_time": "2022-05-29T17:01:38.054Z"
   },
   {
    "duration": 9,
    "start_time": "2022-05-29T17:01:38.079Z"
   },
   {
    "duration": 52,
    "start_time": "2022-05-29T17:01:38.090Z"
   },
   {
    "duration": 16,
    "start_time": "2022-05-29T17:01:38.144Z"
   },
   {
    "duration": 86,
    "start_time": "2022-05-29T17:01:38.164Z"
   },
   {
    "duration": 7,
    "start_time": "2022-05-29T17:01:38.252Z"
   },
   {
    "duration": 16,
    "start_time": "2022-05-29T17:01:38.260Z"
   },
   {
    "duration": 13,
    "start_time": "2022-05-29T17:04:03.766Z"
   },
   {
    "duration": 10,
    "start_time": "2022-05-29T17:50:02.206Z"
   },
   {
    "duration": 9,
    "start_time": "2022-05-29T17:50:35.274Z"
   },
   {
    "duration": 1330,
    "start_time": "2022-05-30T09:16:12.125Z"
   },
   {
    "duration": 75,
    "start_time": "2022-05-30T09:16:13.457Z"
   },
   {
    "duration": 11,
    "start_time": "2022-05-30T09:16:13.534Z"
   },
   {
    "duration": 6,
    "start_time": "2022-05-30T09:16:13.548Z"
   },
   {
    "duration": 229,
    "start_time": "2022-05-30T09:16:13.556Z"
   },
   {
    "duration": 19,
    "start_time": "2022-05-30T09:16:13.787Z"
   },
   {
    "duration": 43,
    "start_time": "2022-05-30T09:16:13.808Z"
   },
   {
    "duration": 1552,
    "start_time": "2022-05-30T09:16:13.853Z"
   },
   {
    "duration": 61,
    "start_time": "2022-05-30T09:16:15.407Z"
   },
   {
    "duration": 301,
    "start_time": "2022-05-30T09:16:15.472Z"
   },
   {
    "duration": 128,
    "start_time": "2022-05-30T09:16:15.775Z"
   },
   {
    "duration": 12,
    "start_time": "2022-05-30T09:16:15.905Z"
   },
   {
    "duration": 16,
    "start_time": "2022-05-30T09:16:15.918Z"
   },
   {
    "duration": 52,
    "start_time": "2022-05-30T09:16:15.936Z"
   },
   {
    "duration": 103,
    "start_time": "2022-05-30T09:16:15.990Z"
   },
   {
    "duration": 7,
    "start_time": "2022-05-30T09:16:16.095Z"
   },
   {
    "duration": 19,
    "start_time": "2022-05-30T09:16:16.104Z"
   },
   {
    "duration": 28,
    "start_time": "2022-05-30T09:16:16.125Z"
   },
   {
    "duration": 51,
    "start_time": "2022-05-30T09:16:16.155Z"
   },
   {
    "duration": 13,
    "start_time": "2022-05-30T09:16:16.208Z"
   },
   {
    "duration": 13,
    "start_time": "2022-05-30T09:16:16.223Z"
   },
   {
    "duration": 60,
    "start_time": "2022-05-30T09:16:16.238Z"
   },
   {
    "duration": 4,
    "start_time": "2022-05-30T09:16:16.300Z"
   },
   {
    "duration": 29,
    "start_time": "2022-05-30T09:16:16.306Z"
   },
   {
    "duration": 12,
    "start_time": "2022-05-30T09:16:16.337Z"
   },
   {
    "duration": 149,
    "start_time": "2022-05-30T09:16:16.351Z"
   },
   {
    "duration": 16,
    "start_time": "2022-05-30T09:16:16.502Z"
   },
   {
    "duration": 4,
    "start_time": "2022-05-30T09:16:16.521Z"
   },
   {
    "duration": 15,
    "start_time": "2022-05-30T09:16:16.527Z"
   },
   {
    "duration": 455,
    "start_time": "2022-05-30T09:16:16.543Z"
   },
   {
    "duration": 12,
    "start_time": "2022-05-30T09:16:17.000Z"
   },
   {
    "duration": 11,
    "start_time": "2022-05-30T09:16:17.014Z"
   },
   {
    "duration": 10,
    "start_time": "2022-05-30T09:16:17.027Z"
   },
   {
    "duration": 196,
    "start_time": "2022-05-30T09:16:17.039Z"
   },
   {
    "duration": 582,
    "start_time": "2022-05-30T09:16:17.237Z"
   },
   {
    "duration": 19,
    "start_time": "2022-05-30T09:16:17.820Z"
   },
   {
    "duration": 178,
    "start_time": "2022-05-30T09:16:17.841Z"
   },
   {
    "duration": 20,
    "start_time": "2022-05-30T09:16:18.022Z"
   },
   {
    "duration": 13,
    "start_time": "2022-05-30T09:16:18.043Z"
   },
   {
    "duration": 44,
    "start_time": "2022-05-30T09:16:18.058Z"
   },
   {
    "duration": 24,
    "start_time": "2022-05-30T09:16:18.104Z"
   },
   {
    "duration": 77,
    "start_time": "2022-05-30T09:16:18.130Z"
   },
   {
    "duration": 10,
    "start_time": "2022-05-30T09:16:18.210Z"
   },
   {
    "duration": 61,
    "start_time": "2022-05-30T09:16:18.222Z"
   },
   {
    "duration": 1553,
    "start_time": "2022-06-01T07:22:27.502Z"
   },
   {
    "duration": 83,
    "start_time": "2022-06-01T07:22:29.061Z"
   },
   {
    "duration": 12,
    "start_time": "2022-06-01T07:22:29.146Z"
   },
   {
    "duration": 17,
    "start_time": "2022-06-01T07:22:29.160Z"
   },
   {
    "duration": 211,
    "start_time": "2022-06-01T07:22:29.179Z"
   },
   {
    "duration": 28,
    "start_time": "2022-06-01T07:22:29.392Z"
   },
   {
    "duration": 51,
    "start_time": "2022-06-01T07:22:29.422Z"
   },
   {
    "duration": 832,
    "start_time": "2022-06-01T07:22:29.475Z"
   },
   {
    "duration": 82,
    "start_time": "2022-06-01T07:22:30.309Z"
   },
   {
    "duration": 353,
    "start_time": "2022-06-01T07:22:30.396Z"
   },
   {
    "duration": 80,
    "start_time": "2022-06-01T07:22:30.752Z"
   },
   {
    "duration": 15,
    "start_time": "2022-06-01T07:22:30.838Z"
   },
   {
    "duration": 33,
    "start_time": "2022-06-01T07:22:30.856Z"
   },
   {
    "duration": 58,
    "start_time": "2022-06-01T07:22:30.891Z"
   },
   {
    "duration": 171,
    "start_time": "2022-06-01T07:22:30.951Z"
   },
   {
    "duration": 10,
    "start_time": "2022-06-01T07:22:31.126Z"
   },
   {
    "duration": 75,
    "start_time": "2022-06-01T07:22:31.140Z"
   },
   {
    "duration": 91,
    "start_time": "2022-06-01T07:22:31.217Z"
   },
   {
    "duration": 58,
    "start_time": "2022-06-01T07:22:31.310Z"
   },
   {
    "duration": 19,
    "start_time": "2022-06-01T07:22:31.370Z"
   },
   {
    "duration": 42,
    "start_time": "2022-06-01T07:22:31.391Z"
   },
   {
    "duration": 76,
    "start_time": "2022-06-01T07:22:31.436Z"
   },
   {
    "duration": 8,
    "start_time": "2022-06-01T07:22:31.514Z"
   },
   {
    "duration": 34,
    "start_time": "2022-06-01T07:22:31.525Z"
   },
   {
    "duration": 70,
    "start_time": "2022-06-01T07:22:31.561Z"
   },
   {
    "duration": 258,
    "start_time": "2022-06-01T07:22:31.633Z"
   },
   {
    "duration": 37,
    "start_time": "2022-06-01T07:22:31.893Z"
   },
   {
    "duration": 10,
    "start_time": "2022-06-01T07:22:31.936Z"
   },
   {
    "duration": 24,
    "start_time": "2022-06-01T07:22:31.950Z"
   },
   {
    "duration": 544,
    "start_time": "2022-06-01T07:22:31.977Z"
   },
   {
    "duration": 14,
    "start_time": "2022-06-01T07:22:32.522Z"
   },
   {
    "duration": 30,
    "start_time": "2022-06-01T07:22:32.538Z"
   },
   {
    "duration": 18,
    "start_time": "2022-06-01T07:22:32.570Z"
   },
   {
    "duration": 198,
    "start_time": "2022-06-01T07:22:32.590Z"
   },
   {
    "duration": 720,
    "start_time": "2022-06-01T07:22:32.790Z"
   },
   {
    "duration": 27,
    "start_time": "2022-06-01T07:22:33.513Z"
   },
   {
    "duration": 201,
    "start_time": "2022-06-01T07:22:33.542Z"
   },
   {
    "duration": 25,
    "start_time": "2022-06-01T07:22:33.745Z"
   },
   {
    "duration": 11,
    "start_time": "2022-06-01T07:22:33.773Z"
   },
   {
    "duration": 59,
    "start_time": "2022-06-01T07:22:33.786Z"
   },
   {
    "duration": 34,
    "start_time": "2022-06-01T07:22:33.848Z"
   },
   {
    "duration": 73,
    "start_time": "2022-06-01T07:22:33.884Z"
   },
   {
    "duration": 6,
    "start_time": "2022-06-01T07:22:33.959Z"
   },
   {
    "duration": 59,
    "start_time": "2022-06-01T07:22:33.967Z"
   },
   {
    "duration": 3120,
    "start_time": "2022-06-01T08:26:14.948Z"
   },
   {
    "duration": 89,
    "start_time": "2022-06-01T08:26:18.070Z"
   },
   {
    "duration": 11,
    "start_time": "2022-06-01T08:26:18.161Z"
   },
   {
    "duration": 9,
    "start_time": "2022-06-01T08:26:18.174Z"
   },
   {
    "duration": 452,
    "start_time": "2022-06-01T08:26:18.185Z"
   },
   {
    "duration": 32,
    "start_time": "2022-06-01T08:26:18.639Z"
   },
   {
    "duration": 71,
    "start_time": "2022-06-01T08:26:18.673Z"
   },
   {
    "duration": 782,
    "start_time": "2022-06-01T08:26:18.746Z"
   },
   {
    "duration": 80,
    "start_time": "2022-06-01T08:26:19.532Z"
   },
   {
    "duration": 339,
    "start_time": "2022-06-01T08:26:19.613Z"
   },
   {
    "duration": 93,
    "start_time": "2022-06-01T08:26:19.953Z"
   },
   {
    "duration": 16,
    "start_time": "2022-06-01T08:26:20.048Z"
   },
   {
    "duration": 16,
    "start_time": "2022-06-01T08:26:20.066Z"
   },
   {
    "duration": 37,
    "start_time": "2022-06-01T08:26:20.085Z"
   },
   {
    "duration": 131,
    "start_time": "2022-06-01T08:26:20.124Z"
   },
   {
    "duration": 8,
    "start_time": "2022-06-01T08:26:20.261Z"
   },
   {
    "duration": 20,
    "start_time": "2022-06-01T08:26:20.270Z"
   },
   {
    "duration": 42,
    "start_time": "2022-06-01T08:26:20.291Z"
   },
   {
    "duration": 40,
    "start_time": "2022-06-01T08:26:20.336Z"
   },
   {
    "duration": 14,
    "start_time": "2022-06-01T08:26:20.377Z"
   },
   {
    "duration": 21,
    "start_time": "2022-06-01T08:26:20.393Z"
   },
   {
    "duration": 64,
    "start_time": "2022-06-01T08:26:20.416Z"
   },
   {
    "duration": 5,
    "start_time": "2022-06-01T08:26:20.482Z"
   },
   {
    "duration": 14,
    "start_time": "2022-06-01T08:26:20.489Z"
   },
   {
    "duration": 25,
    "start_time": "2022-06-01T08:26:20.505Z"
   },
   {
    "duration": 202,
    "start_time": "2022-06-01T08:26:20.532Z"
   },
   {
    "duration": 38,
    "start_time": "2022-06-01T08:26:20.738Z"
   },
   {
    "duration": 5,
    "start_time": "2022-06-01T08:26:20.778Z"
   },
   {
    "duration": 22,
    "start_time": "2022-06-01T08:26:20.784Z"
   },
   {
    "duration": 528,
    "start_time": "2022-06-01T08:26:20.807Z"
   },
   {
    "duration": 16,
    "start_time": "2022-06-01T08:26:21.337Z"
   },
   {
    "duration": 30,
    "start_time": "2022-06-01T08:26:21.355Z"
   },
   {
    "duration": 14,
    "start_time": "2022-06-01T08:26:21.387Z"
   },
   {
    "duration": 182,
    "start_time": "2022-06-01T08:26:21.403Z"
   },
   {
    "duration": 647,
    "start_time": "2022-06-01T08:26:21.587Z"
   },
   {
    "duration": 53,
    "start_time": "2022-06-01T08:26:22.236Z"
   },
   {
    "duration": 598,
    "start_time": "2022-06-01T08:26:22.291Z"
   },
   {
    "duration": 22,
    "start_time": "2022-06-01T08:26:22.891Z"
   },
   {
    "duration": 36,
    "start_time": "2022-06-01T08:26:22.915Z"
   },
   {
    "duration": 28,
    "start_time": "2022-06-01T08:26:22.953Z"
   },
   {
    "duration": 48,
    "start_time": "2022-06-01T08:26:22.985Z"
   },
   {
    "duration": 60,
    "start_time": "2022-06-01T08:26:23.035Z"
   },
   {
    "duration": 6,
    "start_time": "2022-06-01T08:26:23.097Z"
   },
   {
    "duration": 38,
    "start_time": "2022-06-01T08:26:23.105Z"
   },
   {
    "duration": 16,
    "start_time": "2022-06-01T08:26:55.513Z"
   },
   {
    "duration": 153,
    "start_time": "2022-06-01T09:01:05.921Z"
   },
   {
    "duration": 18,
    "start_time": "2022-06-01T09:01:16.078Z"
   },
   {
    "duration": 18,
    "start_time": "2022-06-01T09:03:21.851Z"
   },
   {
    "duration": 10,
    "start_time": "2022-06-01T09:04:16.581Z"
   },
   {
    "duration": 18,
    "start_time": "2022-06-01T09:04:44.350Z"
   },
   {
    "duration": 11,
    "start_time": "2022-06-01T09:05:42.573Z"
   },
   {
    "duration": 5,
    "start_time": "2022-06-01T09:05:52.665Z"
   },
   {
    "duration": 11,
    "start_time": "2022-06-01T09:05:55.055Z"
   },
   {
    "duration": 5,
    "start_time": "2022-06-01T09:06:38.957Z"
   },
   {
    "duration": 17,
    "start_time": "2022-06-01T09:06:50.246Z"
   },
   {
    "duration": 10,
    "start_time": "2022-06-01T09:07:09.633Z"
   },
   {
    "duration": 6,
    "start_time": "2022-06-01T09:07:45.419Z"
   },
   {
    "duration": 50,
    "start_time": "2022-06-01T09:07:53.500Z"
   },
   {
    "duration": 146,
    "start_time": "2022-06-01T09:08:13.009Z"
   },
   {
    "duration": 28,
    "start_time": "2022-06-01T09:08:30.891Z"
   },
   {
    "duration": 7,
    "start_time": "2022-06-01T09:08:35.746Z"
   },
   {
    "duration": 9,
    "start_time": "2022-06-01T09:08:58.285Z"
   },
   {
    "duration": 21,
    "start_time": "2022-06-01T09:09:51.652Z"
   },
   {
    "duration": 11,
    "start_time": "2022-06-01T09:10:01.335Z"
   },
   {
    "duration": 9,
    "start_time": "2022-06-01T09:10:08.255Z"
   },
   {
    "duration": 3,
    "start_time": "2022-06-01T09:10:48.321Z"
   },
   {
    "duration": 5,
    "start_time": "2022-06-01T09:10:57.606Z"
   },
   {
    "duration": 1386,
    "start_time": "2022-06-01T09:13:35.981Z"
   },
   {
    "duration": 44,
    "start_time": "2022-06-01T09:13:37.369Z"
   },
   {
    "duration": 13,
    "start_time": "2022-06-01T09:13:37.416Z"
   },
   {
    "duration": 34,
    "start_time": "2022-06-01T09:13:37.433Z"
   },
   {
    "duration": 88,
    "start_time": "2022-06-01T09:13:37.469Z"
   },
   {
    "duration": 20,
    "start_time": "2022-06-01T09:13:37.559Z"
   },
   {
    "duration": 72,
    "start_time": "2022-06-01T09:13:37.581Z"
   },
   {
    "duration": 581,
    "start_time": "2022-06-01T09:13:37.655Z"
   },
   {
    "duration": 65,
    "start_time": "2022-06-01T09:13:38.237Z"
   },
   {
    "duration": 397,
    "start_time": "2022-06-01T09:13:38.305Z"
   },
   {
    "duration": 48,
    "start_time": "2022-06-01T09:13:38.703Z"
   },
   {
    "duration": 11,
    "start_time": "2022-06-01T09:13:38.753Z"
   },
   {
    "duration": 18,
    "start_time": "2022-06-01T09:13:38.766Z"
   },
   {
    "duration": 67,
    "start_time": "2022-06-01T09:13:38.786Z"
   },
   {
    "duration": 113,
    "start_time": "2022-06-01T09:13:38.855Z"
   },
   {
    "duration": 8,
    "start_time": "2022-06-01T09:13:38.970Z"
   },
   {
    "duration": 20,
    "start_time": "2022-06-01T09:13:38.980Z"
   },
   {
    "duration": 63,
    "start_time": "2022-06-01T09:13:39.002Z"
   },
   {
    "duration": 28,
    "start_time": "2022-06-01T09:13:39.066Z"
   },
   {
    "duration": 42,
    "start_time": "2022-06-01T09:13:39.096Z"
   },
   {
    "duration": 22,
    "start_time": "2022-06-01T09:13:39.141Z"
   },
   {
    "duration": 47,
    "start_time": "2022-06-01T09:13:39.165Z"
   },
   {
    "duration": 6,
    "start_time": "2022-06-01T09:13:39.227Z"
   },
   {
    "duration": 40,
    "start_time": "2022-06-01T09:13:39.234Z"
   },
   {
    "duration": 25,
    "start_time": "2022-06-01T09:13:39.277Z"
   },
   {
    "duration": 9,
    "start_time": "2022-06-01T09:13:39.304Z"
   },
   {
    "duration": 31,
    "start_time": "2022-06-01T09:13:39.315Z"
   },
   {
    "duration": 242,
    "start_time": "2022-06-01T09:13:39.351Z"
   },
   {
    "duration": 20,
    "start_time": "2022-06-01T09:13:39.595Z"
   },
   {
    "duration": 15,
    "start_time": "2022-06-01T09:13:39.625Z"
   },
   {
    "duration": 25,
    "start_time": "2022-06-01T09:13:39.642Z"
   },
   {
    "duration": 479,
    "start_time": "2022-06-01T09:13:39.669Z"
   },
   {
    "duration": 13,
    "start_time": "2022-06-01T09:13:40.150Z"
   },
   {
    "duration": 18,
    "start_time": "2022-06-01T09:13:40.165Z"
   },
   {
    "duration": 27,
    "start_time": "2022-06-01T09:13:40.185Z"
   },
   {
    "duration": 217,
    "start_time": "2022-06-01T09:13:40.214Z"
   },
   {
    "duration": 606,
    "start_time": "2022-06-01T09:13:40.433Z"
   },
   {
    "duration": 26,
    "start_time": "2022-06-01T09:13:41.043Z"
   },
   {
    "duration": 179,
    "start_time": "2022-06-01T09:13:41.072Z"
   },
   {
    "duration": 25,
    "start_time": "2022-06-01T09:13:41.253Z"
   },
   {
    "duration": 8,
    "start_time": "2022-06-01T09:13:41.279Z"
   },
   {
    "duration": 44,
    "start_time": "2022-06-01T09:13:41.290Z"
   },
   {
    "duration": 32,
    "start_time": "2022-06-01T09:13:41.335Z"
   },
   {
    "duration": 81,
    "start_time": "2022-06-01T09:13:41.369Z"
   },
   {
    "duration": 5,
    "start_time": "2022-06-01T09:13:41.452Z"
   },
   {
    "duration": 20,
    "start_time": "2022-06-01T09:13:41.464Z"
   },
   {
    "duration": 77,
    "start_time": "2022-06-01T09:42:01.860Z"
   },
   {
    "duration": 86,
    "start_time": "2022-06-01T09:44:59.617Z"
   },
   {
    "duration": 27,
    "start_time": "2022-06-01T09:45:14.534Z"
   },
   {
    "duration": 223,
    "start_time": "2022-06-01T09:45:26.558Z"
   },
   {
    "duration": 12,
    "start_time": "2022-06-01T09:45:31.007Z"
   },
   {
    "duration": 22,
    "start_time": "2022-06-01T09:47:04.648Z"
   },
   {
    "duration": 14,
    "start_time": "2022-06-01T09:52:23.363Z"
   },
   {
    "duration": 530,
    "start_time": "2022-06-01T10:01:26.986Z"
   },
   {
    "duration": 14,
    "start_time": "2022-06-01T10:06:08.084Z"
   },
   {
    "duration": 73,
    "start_time": "2022-06-01T10:06:39.238Z"
   },
   {
    "duration": 14,
    "start_time": "2022-06-01T10:06:46.610Z"
   },
   {
    "duration": 14,
    "start_time": "2022-06-01T10:07:05.315Z"
   },
   {
    "duration": 16,
    "start_time": "2022-06-01T10:08:08.802Z"
   }
  ],
  "kernelspec": {
   "display_name": "Python 3 (ipykernel)",
   "language": "python",
   "name": "python3"
  },
  "language_info": {
   "codemirror_mode": {
    "name": "ipython",
    "version": 3
   },
   "file_extension": ".py",
   "mimetype": "text/x-python",
   "name": "python",
   "nbconvert_exporter": "python",
   "pygments_lexer": "ipython3",
   "version": "3.9.7"
  },
  "toc": {
   "base_numbering": 1,
   "nav_menu": {},
   "number_sections": true,
   "sideBar": true,
   "skip_h1_title": true,
   "title_cell": "Table of Contents",
   "title_sidebar": "Contents",
   "toc_cell": false,
   "toc_position": {
    "height": "calc(100% - 180px)",
    "left": "10px",
    "top": "150px",
    "width": "165px"
   },
   "toc_section_display": true,
   "toc_window_display": false
  }
 },
 "nbformat": 4,
 "nbformat_minor": 2
}
