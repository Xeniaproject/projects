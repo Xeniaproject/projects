{
 "cells": [
  {
   "cell_type": "markdown",
   "metadata": {
    "toc": true
   },
   "source": [
    "<h1>Содержание<span class=\"tocSkip\"></span></h1>\n",
    "<div class=\"toc\"><ul class=\"toc-item\"><li><span><a href=\"#Изучение-данных-из-файла\" data-toc-modified-id=\"Изучение-данных-из-файла-1\"><span class=\"toc-item-num\">1&nbsp;&nbsp;</span>Изучение данных из файла</a></span><ul class=\"toc-item\"><li><span><a href=\"#Вывод\" data-toc-modified-id=\"Вывод-1.1\"><span class=\"toc-item-num\">1.1&nbsp;&nbsp;</span>Вывод</a></span></li></ul></li><li><span><a href=\"#Предобработка-данных\" data-toc-modified-id=\"Предобработка-данных-2\"><span class=\"toc-item-num\">2&nbsp;&nbsp;</span>Предобработка данных</a></span></li><li><span><a href=\"#Расчёты-и-добавление-результатов-в-таблицу\" data-toc-modified-id=\"Расчёты-и-добавление-результатов-в-таблицу-3\"><span class=\"toc-item-num\">3&nbsp;&nbsp;</span>Расчёты и добавление результатов в таблицу</a></span></li><li><span><a href=\"#Исследовательский-анализ-данных\" data-toc-modified-id=\"Исследовательский-анализ-данных-4\"><span class=\"toc-item-num\">4&nbsp;&nbsp;</span>Исследовательский анализ данных</a></span></li><li><span><a href=\"#Общий-вывод\" data-toc-modified-id=\"Общий-вывод-5\"><span class=\"toc-item-num\">5&nbsp;&nbsp;</span>Общий вывод</a></span></li><li><span><a href=\"#Чек-лист-готовности-проекта\" data-toc-modified-id=\"Чек-лист-готовности-проекта-6\"><span class=\"toc-item-num\">6&nbsp;&nbsp;</span>Чек-лист готовности проекта</a></span></li></ul></div>"
   ]
  },
  {
   "cell_type": "markdown",
   "metadata": {},
   "source": [
    "# Исследование объявлений о продаже квартир\n",
    "\n",
    "Есть данные сервиса Яндекс.Недвижимость — архив объявлений о продаже квартир в Санкт-Петербурге и соседних населённых пунктах за несколько лет. Необходимо научиться определять рыночную стоимость объектов недвижимости. Задача — установить параметры. Это позволит построить автоматизированную систему: она отследит аномалии и мошенническую деятельность. \n",
    "\n",
    "По каждой квартире на продажу доступны два вида данных. Первые вписаны пользователем, вторые получены автоматически на основе картографических данных. Например, расстояние до центра, аэропорта, ближайшего парка и водоёма. "
   ]
  },
  {
   "cell_type": "markdown",
   "metadata": {},
   "source": [
    "## Изучение данных из файла"
   ]
  },
  {
   "cell_type": "code",
   "execution_count": 1,
   "metadata": {
    "scrolled": true
   },
   "outputs": [
    {
     "data": {
      "text/html": [
       "<div>\n",
       "<style scoped>\n",
       "    .dataframe tbody tr th:only-of-type {\n",
       "        vertical-align: middle;\n",
       "    }\n",
       "\n",
       "    .dataframe tbody tr th {\n",
       "        vertical-align: top;\n",
       "    }\n",
       "\n",
       "    .dataframe thead th {\n",
       "        text-align: right;\n",
       "    }\n",
       "</style>\n",
       "<table border=\"1\" class=\"dataframe\">\n",
       "  <thead>\n",
       "    <tr style=\"text-align: right;\">\n",
       "      <th></th>\n",
       "      <th>total_images</th>\n",
       "      <th>last_price</th>\n",
       "      <th>total_area</th>\n",
       "      <th>first_day_exposition</th>\n",
       "      <th>rooms</th>\n",
       "      <th>ceiling_height</th>\n",
       "      <th>floors_total</th>\n",
       "      <th>living_area</th>\n",
       "      <th>floor</th>\n",
       "      <th>is_apartment</th>\n",
       "      <th>studio</th>\n",
       "      <th>open_plan</th>\n",
       "      <th>kitchen_area</th>\n",
       "      <th>balcony</th>\n",
       "      <th>locality_name</th>\n",
       "      <th>airports_nearest</th>\n",
       "      <th>cityCenters_nearest</th>\n",
       "      <th>parks_around3000</th>\n",
       "      <th>parks_nearest</th>\n",
       "      <th>ponds_around3000</th>\n",
       "      <th>ponds_nearest</th>\n",
       "      <th>days_exposition</th>\n",
       "    </tr>\n",
       "  </thead>\n",
       "  <tbody>\n",
       "    <tr>\n",
       "      <td>0</td>\n",
       "      <td>20</td>\n",
       "      <td>13000000.0</td>\n",
       "      <td>108.00</td>\n",
       "      <td>2019-03-07T00:00:00</td>\n",
       "      <td>3</td>\n",
       "      <td>2.70</td>\n",
       "      <td>16.0</td>\n",
       "      <td>51.00</td>\n",
       "      <td>8</td>\n",
       "      <td>NaN</td>\n",
       "      <td>False</td>\n",
       "      <td>False</td>\n",
       "      <td>25.00</td>\n",
       "      <td>NaN</td>\n",
       "      <td>Санкт-Петербург</td>\n",
       "      <td>18863.0</td>\n",
       "      <td>16028.0</td>\n",
       "      <td>1.0</td>\n",
       "      <td>482.0</td>\n",
       "      <td>2.0</td>\n",
       "      <td>755.0</td>\n",
       "      <td>NaN</td>\n",
       "    </tr>\n",
       "    <tr>\n",
       "      <td>1</td>\n",
       "      <td>7</td>\n",
       "      <td>3350000.0</td>\n",
       "      <td>40.40</td>\n",
       "      <td>2018-12-04T00:00:00</td>\n",
       "      <td>1</td>\n",
       "      <td>NaN</td>\n",
       "      <td>11.0</td>\n",
       "      <td>18.60</td>\n",
       "      <td>1</td>\n",
       "      <td>NaN</td>\n",
       "      <td>False</td>\n",
       "      <td>False</td>\n",
       "      <td>11.00</td>\n",
       "      <td>2.0</td>\n",
       "      <td>посёлок Шушары</td>\n",
       "      <td>12817.0</td>\n",
       "      <td>18603.0</td>\n",
       "      <td>0.0</td>\n",
       "      <td>NaN</td>\n",
       "      <td>0.0</td>\n",
       "      <td>NaN</td>\n",
       "      <td>81.0</td>\n",
       "    </tr>\n",
       "    <tr>\n",
       "      <td>2</td>\n",
       "      <td>10</td>\n",
       "      <td>5196000.0</td>\n",
       "      <td>56.00</td>\n",
       "      <td>2015-08-20T00:00:00</td>\n",
       "      <td>2</td>\n",
       "      <td>NaN</td>\n",
       "      <td>5.0</td>\n",
       "      <td>34.30</td>\n",
       "      <td>4</td>\n",
       "      <td>NaN</td>\n",
       "      <td>False</td>\n",
       "      <td>False</td>\n",
       "      <td>8.30</td>\n",
       "      <td>0.0</td>\n",
       "      <td>Санкт-Петербург</td>\n",
       "      <td>21741.0</td>\n",
       "      <td>13933.0</td>\n",
       "      <td>1.0</td>\n",
       "      <td>90.0</td>\n",
       "      <td>2.0</td>\n",
       "      <td>574.0</td>\n",
       "      <td>558.0</td>\n",
       "    </tr>\n",
       "    <tr>\n",
       "      <td>3</td>\n",
       "      <td>0</td>\n",
       "      <td>64900000.0</td>\n",
       "      <td>159.00</td>\n",
       "      <td>2015-07-24T00:00:00</td>\n",
       "      <td>3</td>\n",
       "      <td>NaN</td>\n",
       "      <td>14.0</td>\n",
       "      <td>NaN</td>\n",
       "      <td>9</td>\n",
       "      <td>NaN</td>\n",
       "      <td>False</td>\n",
       "      <td>False</td>\n",
       "      <td>NaN</td>\n",
       "      <td>0.0</td>\n",
       "      <td>Санкт-Петербург</td>\n",
       "      <td>28098.0</td>\n",
       "      <td>6800.0</td>\n",
       "      <td>2.0</td>\n",
       "      <td>84.0</td>\n",
       "      <td>3.0</td>\n",
       "      <td>234.0</td>\n",
       "      <td>424.0</td>\n",
       "    </tr>\n",
       "    <tr>\n",
       "      <td>4</td>\n",
       "      <td>2</td>\n",
       "      <td>10000000.0</td>\n",
       "      <td>100.00</td>\n",
       "      <td>2018-06-19T00:00:00</td>\n",
       "      <td>2</td>\n",
       "      <td>3.03</td>\n",
       "      <td>14.0</td>\n",
       "      <td>32.00</td>\n",
       "      <td>13</td>\n",
       "      <td>NaN</td>\n",
       "      <td>False</td>\n",
       "      <td>False</td>\n",
       "      <td>41.00</td>\n",
       "      <td>NaN</td>\n",
       "      <td>Санкт-Петербург</td>\n",
       "      <td>31856.0</td>\n",
       "      <td>8098.0</td>\n",
       "      <td>2.0</td>\n",
       "      <td>112.0</td>\n",
       "      <td>1.0</td>\n",
       "      <td>48.0</td>\n",
       "      <td>121.0</td>\n",
       "    </tr>\n",
       "    <tr>\n",
       "      <td>5</td>\n",
       "      <td>10</td>\n",
       "      <td>2890000.0</td>\n",
       "      <td>30.40</td>\n",
       "      <td>2018-09-10T00:00:00</td>\n",
       "      <td>1</td>\n",
       "      <td>NaN</td>\n",
       "      <td>12.0</td>\n",
       "      <td>14.40</td>\n",
       "      <td>5</td>\n",
       "      <td>NaN</td>\n",
       "      <td>False</td>\n",
       "      <td>False</td>\n",
       "      <td>9.10</td>\n",
       "      <td>NaN</td>\n",
       "      <td>городской посёлок Янино-1</td>\n",
       "      <td>NaN</td>\n",
       "      <td>NaN</td>\n",
       "      <td>NaN</td>\n",
       "      <td>NaN</td>\n",
       "      <td>NaN</td>\n",
       "      <td>NaN</td>\n",
       "      <td>55.0</td>\n",
       "    </tr>\n",
       "    <tr>\n",
       "      <td>6</td>\n",
       "      <td>6</td>\n",
       "      <td>3700000.0</td>\n",
       "      <td>37.30</td>\n",
       "      <td>2017-11-02T00:00:00</td>\n",
       "      <td>1</td>\n",
       "      <td>NaN</td>\n",
       "      <td>26.0</td>\n",
       "      <td>10.60</td>\n",
       "      <td>6</td>\n",
       "      <td>NaN</td>\n",
       "      <td>False</td>\n",
       "      <td>False</td>\n",
       "      <td>14.40</td>\n",
       "      <td>1.0</td>\n",
       "      <td>посёлок Парголово</td>\n",
       "      <td>52996.0</td>\n",
       "      <td>19143.0</td>\n",
       "      <td>0.0</td>\n",
       "      <td>NaN</td>\n",
       "      <td>0.0</td>\n",
       "      <td>NaN</td>\n",
       "      <td>155.0</td>\n",
       "    </tr>\n",
       "    <tr>\n",
       "      <td>7</td>\n",
       "      <td>5</td>\n",
       "      <td>7915000.0</td>\n",
       "      <td>71.60</td>\n",
       "      <td>2019-04-18T00:00:00</td>\n",
       "      <td>2</td>\n",
       "      <td>NaN</td>\n",
       "      <td>24.0</td>\n",
       "      <td>NaN</td>\n",
       "      <td>22</td>\n",
       "      <td>NaN</td>\n",
       "      <td>False</td>\n",
       "      <td>False</td>\n",
       "      <td>18.90</td>\n",
       "      <td>2.0</td>\n",
       "      <td>Санкт-Петербург</td>\n",
       "      <td>23982.0</td>\n",
       "      <td>11634.0</td>\n",
       "      <td>0.0</td>\n",
       "      <td>NaN</td>\n",
       "      <td>0.0</td>\n",
       "      <td>NaN</td>\n",
       "      <td>NaN</td>\n",
       "    </tr>\n",
       "    <tr>\n",
       "      <td>8</td>\n",
       "      <td>20</td>\n",
       "      <td>2900000.0</td>\n",
       "      <td>33.16</td>\n",
       "      <td>2018-05-23T00:00:00</td>\n",
       "      <td>1</td>\n",
       "      <td>NaN</td>\n",
       "      <td>27.0</td>\n",
       "      <td>15.43</td>\n",
       "      <td>26</td>\n",
       "      <td>NaN</td>\n",
       "      <td>False</td>\n",
       "      <td>False</td>\n",
       "      <td>8.81</td>\n",
       "      <td>NaN</td>\n",
       "      <td>посёлок Мурино</td>\n",
       "      <td>NaN</td>\n",
       "      <td>NaN</td>\n",
       "      <td>NaN</td>\n",
       "      <td>NaN</td>\n",
       "      <td>NaN</td>\n",
       "      <td>NaN</td>\n",
       "      <td>189.0</td>\n",
       "    </tr>\n",
       "    <tr>\n",
       "      <td>9</td>\n",
       "      <td>18</td>\n",
       "      <td>5400000.0</td>\n",
       "      <td>61.00</td>\n",
       "      <td>2017-02-26T00:00:00</td>\n",
       "      <td>3</td>\n",
       "      <td>2.50</td>\n",
       "      <td>9.0</td>\n",
       "      <td>43.60</td>\n",
       "      <td>7</td>\n",
       "      <td>NaN</td>\n",
       "      <td>False</td>\n",
       "      <td>False</td>\n",
       "      <td>6.50</td>\n",
       "      <td>2.0</td>\n",
       "      <td>Санкт-Петербург</td>\n",
       "      <td>50898.0</td>\n",
       "      <td>15008.0</td>\n",
       "      <td>0.0</td>\n",
       "      <td>NaN</td>\n",
       "      <td>0.0</td>\n",
       "      <td>NaN</td>\n",
       "      <td>289.0</td>\n",
       "    </tr>\n",
       "    <tr>\n",
       "      <td>10</td>\n",
       "      <td>5</td>\n",
       "      <td>5050000.0</td>\n",
       "      <td>39.60</td>\n",
       "      <td>2017-11-16T00:00:00</td>\n",
       "      <td>1</td>\n",
       "      <td>2.67</td>\n",
       "      <td>12.0</td>\n",
       "      <td>20.30</td>\n",
       "      <td>3</td>\n",
       "      <td>NaN</td>\n",
       "      <td>False</td>\n",
       "      <td>False</td>\n",
       "      <td>8.50</td>\n",
       "      <td>NaN</td>\n",
       "      <td>Санкт-Петербург</td>\n",
       "      <td>38357.0</td>\n",
       "      <td>13878.0</td>\n",
       "      <td>1.0</td>\n",
       "      <td>310.0</td>\n",
       "      <td>2.0</td>\n",
       "      <td>553.0</td>\n",
       "      <td>137.0</td>\n",
       "    </tr>\n",
       "    <tr>\n",
       "      <td>11</td>\n",
       "      <td>9</td>\n",
       "      <td>3300000.0</td>\n",
       "      <td>44.00</td>\n",
       "      <td>2018-08-27T00:00:00</td>\n",
       "      <td>2</td>\n",
       "      <td>NaN</td>\n",
       "      <td>5.0</td>\n",
       "      <td>31.00</td>\n",
       "      <td>4</td>\n",
       "      <td>False</td>\n",
       "      <td>False</td>\n",
       "      <td>False</td>\n",
       "      <td>6.00</td>\n",
       "      <td>1.0</td>\n",
       "      <td>Ломоносов</td>\n",
       "      <td>48252.0</td>\n",
       "      <td>51677.0</td>\n",
       "      <td>0.0</td>\n",
       "      <td>NaN</td>\n",
       "      <td>0.0</td>\n",
       "      <td>NaN</td>\n",
       "      <td>7.0</td>\n",
       "    </tr>\n",
       "    <tr>\n",
       "      <td>12</td>\n",
       "      <td>10</td>\n",
       "      <td>3890000.0</td>\n",
       "      <td>54.00</td>\n",
       "      <td>2016-06-30T00:00:00</td>\n",
       "      <td>2</td>\n",
       "      <td>NaN</td>\n",
       "      <td>5.0</td>\n",
       "      <td>30.00</td>\n",
       "      <td>5</td>\n",
       "      <td>NaN</td>\n",
       "      <td>False</td>\n",
       "      <td>False</td>\n",
       "      <td>9.00</td>\n",
       "      <td>0.0</td>\n",
       "      <td>Сертолово</td>\n",
       "      <td>NaN</td>\n",
       "      <td>NaN</td>\n",
       "      <td>NaN</td>\n",
       "      <td>NaN</td>\n",
       "      <td>NaN</td>\n",
       "      <td>NaN</td>\n",
       "      <td>90.0</td>\n",
       "    </tr>\n",
       "    <tr>\n",
       "      <td>13</td>\n",
       "      <td>20</td>\n",
       "      <td>3550000.0</td>\n",
       "      <td>42.80</td>\n",
       "      <td>2017-07-01T00:00:00</td>\n",
       "      <td>2</td>\n",
       "      <td>2.56</td>\n",
       "      <td>5.0</td>\n",
       "      <td>27.00</td>\n",
       "      <td>5</td>\n",
       "      <td>NaN</td>\n",
       "      <td>False</td>\n",
       "      <td>False</td>\n",
       "      <td>5.20</td>\n",
       "      <td>1.0</td>\n",
       "      <td>Петергоф</td>\n",
       "      <td>37868.0</td>\n",
       "      <td>33058.0</td>\n",
       "      <td>1.0</td>\n",
       "      <td>294.0</td>\n",
       "      <td>3.0</td>\n",
       "      <td>298.0</td>\n",
       "      <td>366.0</td>\n",
       "    </tr>\n",
       "    <tr>\n",
       "      <td>14</td>\n",
       "      <td>1</td>\n",
       "      <td>4400000.0</td>\n",
       "      <td>36.00</td>\n",
       "      <td>2016-06-23T00:00:00</td>\n",
       "      <td>1</td>\n",
       "      <td>NaN</td>\n",
       "      <td>6.0</td>\n",
       "      <td>17.00</td>\n",
       "      <td>1</td>\n",
       "      <td>NaN</td>\n",
       "      <td>False</td>\n",
       "      <td>False</td>\n",
       "      <td>8.00</td>\n",
       "      <td>0.0</td>\n",
       "      <td>Пушкин</td>\n",
       "      <td>20782.0</td>\n",
       "      <td>30759.0</td>\n",
       "      <td>0.0</td>\n",
       "      <td>NaN</td>\n",
       "      <td>1.0</td>\n",
       "      <td>96.0</td>\n",
       "      <td>203.0</td>\n",
       "    </tr>\n",
       "    <tr>\n",
       "      <td>15</td>\n",
       "      <td>16</td>\n",
       "      <td>4650000.0</td>\n",
       "      <td>39.00</td>\n",
       "      <td>2017-11-18T00:00:00</td>\n",
       "      <td>1</td>\n",
       "      <td>NaN</td>\n",
       "      <td>14.0</td>\n",
       "      <td>20.50</td>\n",
       "      <td>5</td>\n",
       "      <td>NaN</td>\n",
       "      <td>False</td>\n",
       "      <td>False</td>\n",
       "      <td>7.60</td>\n",
       "      <td>1.0</td>\n",
       "      <td>Санкт-Петербург</td>\n",
       "      <td>12900.0</td>\n",
       "      <td>14259.0</td>\n",
       "      <td>1.0</td>\n",
       "      <td>590.0</td>\n",
       "      <td>1.0</td>\n",
       "      <td>296.0</td>\n",
       "      <td>19.0</td>\n",
       "    </tr>\n",
       "    <tr>\n",
       "      <td>16</td>\n",
       "      <td>11</td>\n",
       "      <td>6700000.0</td>\n",
       "      <td>82.00</td>\n",
       "      <td>2017-11-23T00:00:00</td>\n",
       "      <td>3</td>\n",
       "      <td>3.05</td>\n",
       "      <td>5.0</td>\n",
       "      <td>55.60</td>\n",
       "      <td>1</td>\n",
       "      <td>NaN</td>\n",
       "      <td>False</td>\n",
       "      <td>False</td>\n",
       "      <td>9.00</td>\n",
       "      <td>NaN</td>\n",
       "      <td>Санкт-Петербург</td>\n",
       "      <td>22108.0</td>\n",
       "      <td>10698.0</td>\n",
       "      <td>3.0</td>\n",
       "      <td>420.0</td>\n",
       "      <td>0.0</td>\n",
       "      <td>NaN</td>\n",
       "      <td>397.0</td>\n",
       "    </tr>\n",
       "    <tr>\n",
       "      <td>17</td>\n",
       "      <td>6</td>\n",
       "      <td>4180000.0</td>\n",
       "      <td>36.00</td>\n",
       "      <td>2016-09-09T00:00:00</td>\n",
       "      <td>1</td>\n",
       "      <td>NaN</td>\n",
       "      <td>17.0</td>\n",
       "      <td>16.50</td>\n",
       "      <td>7</td>\n",
       "      <td>NaN</td>\n",
       "      <td>False</td>\n",
       "      <td>False</td>\n",
       "      <td>11.00</td>\n",
       "      <td>1.0</td>\n",
       "      <td>Санкт-Петербург</td>\n",
       "      <td>33564.0</td>\n",
       "      <td>14616.0</td>\n",
       "      <td>0.0</td>\n",
       "      <td>NaN</td>\n",
       "      <td>1.0</td>\n",
       "      <td>859.0</td>\n",
       "      <td>571.0</td>\n",
       "    </tr>\n",
       "    <tr>\n",
       "      <td>18</td>\n",
       "      <td>8</td>\n",
       "      <td>3250000.0</td>\n",
       "      <td>31.00</td>\n",
       "      <td>2017-01-27T00:00:00</td>\n",
       "      <td>1</td>\n",
       "      <td>2.50</td>\n",
       "      <td>5.0</td>\n",
       "      <td>19.40</td>\n",
       "      <td>2</td>\n",
       "      <td>NaN</td>\n",
       "      <td>False</td>\n",
       "      <td>False</td>\n",
       "      <td>5.60</td>\n",
       "      <td>1.0</td>\n",
       "      <td>Санкт-Петербург</td>\n",
       "      <td>44060.0</td>\n",
       "      <td>10842.0</td>\n",
       "      <td>1.0</td>\n",
       "      <td>759.0</td>\n",
       "      <td>0.0</td>\n",
       "      <td>NaN</td>\n",
       "      <td>168.0</td>\n",
       "    </tr>\n",
       "    <tr>\n",
       "      <td>19</td>\n",
       "      <td>16</td>\n",
       "      <td>14200000.0</td>\n",
       "      <td>121.00</td>\n",
       "      <td>2019-01-09T00:00:00</td>\n",
       "      <td>3</td>\n",
       "      <td>2.75</td>\n",
       "      <td>16.0</td>\n",
       "      <td>76.00</td>\n",
       "      <td>8</td>\n",
       "      <td>NaN</td>\n",
       "      <td>False</td>\n",
       "      <td>False</td>\n",
       "      <td>12.00</td>\n",
       "      <td>NaN</td>\n",
       "      <td>Санкт-Петербург</td>\n",
       "      <td>38900.0</td>\n",
       "      <td>12843.0</td>\n",
       "      <td>0.0</td>\n",
       "      <td>NaN</td>\n",
       "      <td>0.0</td>\n",
       "      <td>NaN</td>\n",
       "      <td>97.0</td>\n",
       "    </tr>\n",
       "    <tr>\n",
       "      <td>20</td>\n",
       "      <td>12</td>\n",
       "      <td>6120000.0</td>\n",
       "      <td>80.00</td>\n",
       "      <td>2017-09-28T00:00:00</td>\n",
       "      <td>3</td>\n",
       "      <td>2.70</td>\n",
       "      <td>27.0</td>\n",
       "      <td>48.00</td>\n",
       "      <td>11</td>\n",
       "      <td>NaN</td>\n",
       "      <td>False</td>\n",
       "      <td>False</td>\n",
       "      <td>12.00</td>\n",
       "      <td>2.0</td>\n",
       "      <td>посёлок Парголово</td>\n",
       "      <td>53134.0</td>\n",
       "      <td>19311.0</td>\n",
       "      <td>0.0</td>\n",
       "      <td>NaN</td>\n",
       "      <td>0.0</td>\n",
       "      <td>NaN</td>\n",
       "      <td>74.0</td>\n",
       "    </tr>\n",
       "    <tr>\n",
       "      <td>21</td>\n",
       "      <td>13</td>\n",
       "      <td>3200000.0</td>\n",
       "      <td>31.60</td>\n",
       "      <td>2018-03-14T00:00:00</td>\n",
       "      <td>1</td>\n",
       "      <td>NaN</td>\n",
       "      <td>5.0</td>\n",
       "      <td>16.90</td>\n",
       "      <td>2</td>\n",
       "      <td>NaN</td>\n",
       "      <td>False</td>\n",
       "      <td>False</td>\n",
       "      <td>5.70</td>\n",
       "      <td>1.0</td>\n",
       "      <td>Санкт-Петербург</td>\n",
       "      <td>36064.0</td>\n",
       "      <td>9722.0</td>\n",
       "      <td>1.0</td>\n",
       "      <td>248.0</td>\n",
       "      <td>0.0</td>\n",
       "      <td>NaN</td>\n",
       "      <td>310.0</td>\n",
       "    </tr>\n",
       "    <tr>\n",
       "      <td>22</td>\n",
       "      <td>20</td>\n",
       "      <td>5000000.0</td>\n",
       "      <td>58.00</td>\n",
       "      <td>2017-04-24T00:00:00</td>\n",
       "      <td>2</td>\n",
       "      <td>2.75</td>\n",
       "      <td>25.0</td>\n",
       "      <td>30.00</td>\n",
       "      <td>15</td>\n",
       "      <td>NaN</td>\n",
       "      <td>False</td>\n",
       "      <td>False</td>\n",
       "      <td>11.00</td>\n",
       "      <td>2.0</td>\n",
       "      <td>деревня Кудрово</td>\n",
       "      <td>NaN</td>\n",
       "      <td>NaN</td>\n",
       "      <td>NaN</td>\n",
       "      <td>NaN</td>\n",
       "      <td>NaN</td>\n",
       "      <td>NaN</td>\n",
       "      <td>60.0</td>\n",
       "    </tr>\n",
       "    <tr>\n",
       "      <td>23</td>\n",
       "      <td>11</td>\n",
       "      <td>2950000.0</td>\n",
       "      <td>32.00</td>\n",
       "      <td>2016-10-29T00:00:00</td>\n",
       "      <td>1</td>\n",
       "      <td>2.60</td>\n",
       "      <td>9.0</td>\n",
       "      <td>17.70</td>\n",
       "      <td>9</td>\n",
       "      <td>NaN</td>\n",
       "      <td>False</td>\n",
       "      <td>False</td>\n",
       "      <td>6.10</td>\n",
       "      <td>NaN</td>\n",
       "      <td>Санкт-Петербург</td>\n",
       "      <td>15414.0</td>\n",
       "      <td>14211.0</td>\n",
       "      <td>2.0</td>\n",
       "      <td>517.0</td>\n",
       "      <td>1.0</td>\n",
       "      <td>190.0</td>\n",
       "      <td>615.0</td>\n",
       "    </tr>\n",
       "    <tr>\n",
       "      <td>24</td>\n",
       "      <td>8</td>\n",
       "      <td>6500000.0</td>\n",
       "      <td>97.20</td>\n",
       "      <td>2015-10-31T00:00:00</td>\n",
       "      <td>2</td>\n",
       "      <td>NaN</td>\n",
       "      <td>3.0</td>\n",
       "      <td>46.50</td>\n",
       "      <td>1</td>\n",
       "      <td>NaN</td>\n",
       "      <td>False</td>\n",
       "      <td>False</td>\n",
       "      <td>19.60</td>\n",
       "      <td>0.0</td>\n",
       "      <td>Санкт-Петербург</td>\n",
       "      <td>20052.0</td>\n",
       "      <td>2336.0</td>\n",
       "      <td>3.0</td>\n",
       "      <td>411.0</td>\n",
       "      <td>3.0</td>\n",
       "      <td>124.0</td>\n",
       "      <td>265.0</td>\n",
       "    </tr>\n",
       "    <tr>\n",
       "      <td>25</td>\n",
       "      <td>3</td>\n",
       "      <td>6800000.0</td>\n",
       "      <td>76.00</td>\n",
       "      <td>2015-10-01T00:00:00</td>\n",
       "      <td>2</td>\n",
       "      <td>2.75</td>\n",
       "      <td>23.0</td>\n",
       "      <td>39.00</td>\n",
       "      <td>18</td>\n",
       "      <td>False</td>\n",
       "      <td>False</td>\n",
       "      <td>False</td>\n",
       "      <td>15.00</td>\n",
       "      <td>2.0</td>\n",
       "      <td>Санкт-Петербург</td>\n",
       "      <td>34967.0</td>\n",
       "      <td>14640.0</td>\n",
       "      <td>0.0</td>\n",
       "      <td>NaN</td>\n",
       "      <td>1.0</td>\n",
       "      <td>564.0</td>\n",
       "      <td>300.0</td>\n",
       "    </tr>\n",
       "    <tr>\n",
       "      <td>26</td>\n",
       "      <td>6</td>\n",
       "      <td>4050000.0</td>\n",
       "      <td>60.00</td>\n",
       "      <td>2017-04-28T00:00:00</td>\n",
       "      <td>4</td>\n",
       "      <td>NaN</td>\n",
       "      <td>5.0</td>\n",
       "      <td>43.00</td>\n",
       "      <td>4</td>\n",
       "      <td>NaN</td>\n",
       "      <td>False</td>\n",
       "      <td>False</td>\n",
       "      <td>7.00</td>\n",
       "      <td>NaN</td>\n",
       "      <td>Санкт-Петербург</td>\n",
       "      <td>11580.0</td>\n",
       "      <td>10510.0</td>\n",
       "      <td>0.0</td>\n",
       "      <td>NaN</td>\n",
       "      <td>1.0</td>\n",
       "      <td>95.0</td>\n",
       "      <td>265.0</td>\n",
       "    </tr>\n",
       "    <tr>\n",
       "      <td>27</td>\n",
       "      <td>20</td>\n",
       "      <td>7100000.0</td>\n",
       "      <td>70.00</td>\n",
       "      <td>2017-05-12T00:00:00</td>\n",
       "      <td>3</td>\n",
       "      <td>2.60</td>\n",
       "      <td>17.0</td>\n",
       "      <td>49.00</td>\n",
       "      <td>11</td>\n",
       "      <td>NaN</td>\n",
       "      <td>False</td>\n",
       "      <td>False</td>\n",
       "      <td>9.20</td>\n",
       "      <td>0.0</td>\n",
       "      <td>Санкт-Петербург</td>\n",
       "      <td>29197.0</td>\n",
       "      <td>11456.0</td>\n",
       "      <td>2.0</td>\n",
       "      <td>452.0</td>\n",
       "      <td>1.0</td>\n",
       "      <td>779.0</td>\n",
       "      <td>151.0</td>\n",
       "    </tr>\n",
       "    <tr>\n",
       "      <td>28</td>\n",
       "      <td>8</td>\n",
       "      <td>4170000.0</td>\n",
       "      <td>44.00</td>\n",
       "      <td>2017-12-13T00:00:00</td>\n",
       "      <td>1</td>\n",
       "      <td>2.90</td>\n",
       "      <td>6.0</td>\n",
       "      <td>20.80</td>\n",
       "      <td>1</td>\n",
       "      <td>NaN</td>\n",
       "      <td>False</td>\n",
       "      <td>False</td>\n",
       "      <td>11.70</td>\n",
       "      <td>1.0</td>\n",
       "      <td>Пушкин</td>\n",
       "      <td>18557.0</td>\n",
       "      <td>30710.0</td>\n",
       "      <td>0.0</td>\n",
       "      <td>NaN</td>\n",
       "      <td>1.0</td>\n",
       "      <td>118.0</td>\n",
       "      <td>74.0</td>\n",
       "    </tr>\n",
       "    <tr>\n",
       "      <td>29</td>\n",
       "      <td>9</td>\n",
       "      <td>8600000.0</td>\n",
       "      <td>100.00</td>\n",
       "      <td>2016-04-09T00:00:00</td>\n",
       "      <td>3</td>\n",
       "      <td>NaN</td>\n",
       "      <td>19.0</td>\n",
       "      <td>52.00</td>\n",
       "      <td>15</td>\n",
       "      <td>False</td>\n",
       "      <td>False</td>\n",
       "      <td>False</td>\n",
       "      <td>11.00</td>\n",
       "      <td>0.0</td>\n",
       "      <td>Санкт-Петербург</td>\n",
       "      <td>30394.0</td>\n",
       "      <td>11526.0</td>\n",
       "      <td>1.0</td>\n",
       "      <td>532.0</td>\n",
       "      <td>1.0</td>\n",
       "      <td>896.0</td>\n",
       "      <td>125.0</td>\n",
       "    </tr>\n",
       "  </tbody>\n",
       "</table>\n",
       "</div>"
      ],
      "text/plain": [
       "    total_images  last_price  total_area first_day_exposition  rooms  \\\n",
       "0             20  13000000.0      108.00  2019-03-07T00:00:00      3   \n",
       "1              7   3350000.0       40.40  2018-12-04T00:00:00      1   \n",
       "2             10   5196000.0       56.00  2015-08-20T00:00:00      2   \n",
       "3              0  64900000.0      159.00  2015-07-24T00:00:00      3   \n",
       "4              2  10000000.0      100.00  2018-06-19T00:00:00      2   \n",
       "5             10   2890000.0       30.40  2018-09-10T00:00:00      1   \n",
       "6              6   3700000.0       37.30  2017-11-02T00:00:00      1   \n",
       "7              5   7915000.0       71.60  2019-04-18T00:00:00      2   \n",
       "8             20   2900000.0       33.16  2018-05-23T00:00:00      1   \n",
       "9             18   5400000.0       61.00  2017-02-26T00:00:00      3   \n",
       "10             5   5050000.0       39.60  2017-11-16T00:00:00      1   \n",
       "11             9   3300000.0       44.00  2018-08-27T00:00:00      2   \n",
       "12            10   3890000.0       54.00  2016-06-30T00:00:00      2   \n",
       "13            20   3550000.0       42.80  2017-07-01T00:00:00      2   \n",
       "14             1   4400000.0       36.00  2016-06-23T00:00:00      1   \n",
       "15            16   4650000.0       39.00  2017-11-18T00:00:00      1   \n",
       "16            11   6700000.0       82.00  2017-11-23T00:00:00      3   \n",
       "17             6   4180000.0       36.00  2016-09-09T00:00:00      1   \n",
       "18             8   3250000.0       31.00  2017-01-27T00:00:00      1   \n",
       "19            16  14200000.0      121.00  2019-01-09T00:00:00      3   \n",
       "20            12   6120000.0       80.00  2017-09-28T00:00:00      3   \n",
       "21            13   3200000.0       31.60  2018-03-14T00:00:00      1   \n",
       "22            20   5000000.0       58.00  2017-04-24T00:00:00      2   \n",
       "23            11   2950000.0       32.00  2016-10-29T00:00:00      1   \n",
       "24             8   6500000.0       97.20  2015-10-31T00:00:00      2   \n",
       "25             3   6800000.0       76.00  2015-10-01T00:00:00      2   \n",
       "26             6   4050000.0       60.00  2017-04-28T00:00:00      4   \n",
       "27            20   7100000.0       70.00  2017-05-12T00:00:00      3   \n",
       "28             8   4170000.0       44.00  2017-12-13T00:00:00      1   \n",
       "29             9   8600000.0      100.00  2016-04-09T00:00:00      3   \n",
       "\n",
       "    ceiling_height  floors_total  living_area  floor is_apartment  studio  \\\n",
       "0             2.70          16.0        51.00      8          NaN   False   \n",
       "1              NaN          11.0        18.60      1          NaN   False   \n",
       "2              NaN           5.0        34.30      4          NaN   False   \n",
       "3              NaN          14.0          NaN      9          NaN   False   \n",
       "4             3.03          14.0        32.00     13          NaN   False   \n",
       "5              NaN          12.0        14.40      5          NaN   False   \n",
       "6              NaN          26.0        10.60      6          NaN   False   \n",
       "7              NaN          24.0          NaN     22          NaN   False   \n",
       "8              NaN          27.0        15.43     26          NaN   False   \n",
       "9             2.50           9.0        43.60      7          NaN   False   \n",
       "10            2.67          12.0        20.30      3          NaN   False   \n",
       "11             NaN           5.0        31.00      4        False   False   \n",
       "12             NaN           5.0        30.00      5          NaN   False   \n",
       "13            2.56           5.0        27.00      5          NaN   False   \n",
       "14             NaN           6.0        17.00      1          NaN   False   \n",
       "15             NaN          14.0        20.50      5          NaN   False   \n",
       "16            3.05           5.0        55.60      1          NaN   False   \n",
       "17             NaN          17.0        16.50      7          NaN   False   \n",
       "18            2.50           5.0        19.40      2          NaN   False   \n",
       "19            2.75          16.0        76.00      8          NaN   False   \n",
       "20            2.70          27.0        48.00     11          NaN   False   \n",
       "21             NaN           5.0        16.90      2          NaN   False   \n",
       "22            2.75          25.0        30.00     15          NaN   False   \n",
       "23            2.60           9.0        17.70      9          NaN   False   \n",
       "24             NaN           3.0        46.50      1          NaN   False   \n",
       "25            2.75          23.0        39.00     18        False   False   \n",
       "26             NaN           5.0        43.00      4          NaN   False   \n",
       "27            2.60          17.0        49.00     11          NaN   False   \n",
       "28            2.90           6.0        20.80      1          NaN   False   \n",
       "29             NaN          19.0        52.00     15        False   False   \n",
       "\n",
       "    open_plan  kitchen_area  balcony              locality_name  \\\n",
       "0       False         25.00      NaN            Санкт-Петербург   \n",
       "1       False         11.00      2.0             посёлок Шушары   \n",
       "2       False          8.30      0.0            Санкт-Петербург   \n",
       "3       False           NaN      0.0            Санкт-Петербург   \n",
       "4       False         41.00      NaN            Санкт-Петербург   \n",
       "5       False          9.10      NaN  городской посёлок Янино-1   \n",
       "6       False         14.40      1.0          посёлок Парголово   \n",
       "7       False         18.90      2.0            Санкт-Петербург   \n",
       "8       False          8.81      NaN             посёлок Мурино   \n",
       "9       False          6.50      2.0            Санкт-Петербург   \n",
       "10      False          8.50      NaN            Санкт-Петербург   \n",
       "11      False          6.00      1.0                  Ломоносов   \n",
       "12      False          9.00      0.0                  Сертолово   \n",
       "13      False          5.20      1.0                   Петергоф   \n",
       "14      False          8.00      0.0                     Пушкин   \n",
       "15      False          7.60      1.0            Санкт-Петербург   \n",
       "16      False          9.00      NaN            Санкт-Петербург   \n",
       "17      False         11.00      1.0            Санкт-Петербург   \n",
       "18      False          5.60      1.0            Санкт-Петербург   \n",
       "19      False         12.00      NaN            Санкт-Петербург   \n",
       "20      False         12.00      2.0          посёлок Парголово   \n",
       "21      False          5.70      1.0            Санкт-Петербург   \n",
       "22      False         11.00      2.0            деревня Кудрово   \n",
       "23      False          6.10      NaN            Санкт-Петербург   \n",
       "24      False         19.60      0.0            Санкт-Петербург   \n",
       "25      False         15.00      2.0            Санкт-Петербург   \n",
       "26      False          7.00      NaN            Санкт-Петербург   \n",
       "27      False          9.20      0.0            Санкт-Петербург   \n",
       "28      False         11.70      1.0                     Пушкин   \n",
       "29      False         11.00      0.0            Санкт-Петербург   \n",
       "\n",
       "    airports_nearest  cityCenters_nearest  parks_around3000  parks_nearest  \\\n",
       "0            18863.0              16028.0               1.0          482.0   \n",
       "1            12817.0              18603.0               0.0            NaN   \n",
       "2            21741.0              13933.0               1.0           90.0   \n",
       "3            28098.0               6800.0               2.0           84.0   \n",
       "4            31856.0               8098.0               2.0          112.0   \n",
       "5                NaN                  NaN               NaN            NaN   \n",
       "6            52996.0              19143.0               0.0            NaN   \n",
       "7            23982.0              11634.0               0.0            NaN   \n",
       "8                NaN                  NaN               NaN            NaN   \n",
       "9            50898.0              15008.0               0.0            NaN   \n",
       "10           38357.0              13878.0               1.0          310.0   \n",
       "11           48252.0              51677.0               0.0            NaN   \n",
       "12               NaN                  NaN               NaN            NaN   \n",
       "13           37868.0              33058.0               1.0          294.0   \n",
       "14           20782.0              30759.0               0.0            NaN   \n",
       "15           12900.0              14259.0               1.0          590.0   \n",
       "16           22108.0              10698.0               3.0          420.0   \n",
       "17           33564.0              14616.0               0.0            NaN   \n",
       "18           44060.0              10842.0               1.0          759.0   \n",
       "19           38900.0              12843.0               0.0            NaN   \n",
       "20           53134.0              19311.0               0.0            NaN   \n",
       "21           36064.0               9722.0               1.0          248.0   \n",
       "22               NaN                  NaN               NaN            NaN   \n",
       "23           15414.0              14211.0               2.0          517.0   \n",
       "24           20052.0               2336.0               3.0          411.0   \n",
       "25           34967.0              14640.0               0.0            NaN   \n",
       "26           11580.0              10510.0               0.0            NaN   \n",
       "27           29197.0              11456.0               2.0          452.0   \n",
       "28           18557.0              30710.0               0.0            NaN   \n",
       "29           30394.0              11526.0               1.0          532.0   \n",
       "\n",
       "    ponds_around3000  ponds_nearest  days_exposition  \n",
       "0                2.0          755.0              NaN  \n",
       "1                0.0            NaN             81.0  \n",
       "2                2.0          574.0            558.0  \n",
       "3                3.0          234.0            424.0  \n",
       "4                1.0           48.0            121.0  \n",
       "5                NaN            NaN             55.0  \n",
       "6                0.0            NaN            155.0  \n",
       "7                0.0            NaN              NaN  \n",
       "8                NaN            NaN            189.0  \n",
       "9                0.0            NaN            289.0  \n",
       "10               2.0          553.0            137.0  \n",
       "11               0.0            NaN              7.0  \n",
       "12               NaN            NaN             90.0  \n",
       "13               3.0          298.0            366.0  \n",
       "14               1.0           96.0            203.0  \n",
       "15               1.0          296.0             19.0  \n",
       "16               0.0            NaN            397.0  \n",
       "17               1.0          859.0            571.0  \n",
       "18               0.0            NaN            168.0  \n",
       "19               0.0            NaN             97.0  \n",
       "20               0.0            NaN             74.0  \n",
       "21               0.0            NaN            310.0  \n",
       "22               NaN            NaN             60.0  \n",
       "23               1.0          190.0            615.0  \n",
       "24               3.0          124.0            265.0  \n",
       "25               1.0          564.0            300.0  \n",
       "26               1.0           95.0            265.0  \n",
       "27               1.0          779.0            151.0  \n",
       "28               1.0          118.0             74.0  \n",
       "29               1.0          896.0            125.0  "
      ]
     },
     "metadata": {},
     "output_type": "display_data"
    },
    {
     "name": "stdout",
     "output_type": "stream",
     "text": [
      "<class 'pandas.core.frame.DataFrame'>\n",
      "RangeIndex: 23699 entries, 0 to 23698\n",
      "Data columns (total 22 columns):\n",
      "total_images            23699 non-null int64\n",
      "last_price              23699 non-null float64\n",
      "total_area              23699 non-null float64\n",
      "first_day_exposition    23699 non-null object\n",
      "rooms                   23699 non-null int64\n",
      "ceiling_height          14504 non-null float64\n",
      "floors_total            23613 non-null float64\n",
      "living_area             21796 non-null float64\n",
      "floor                   23699 non-null int64\n",
      "is_apartment            2775 non-null object\n",
      "studio                  23699 non-null bool\n",
      "open_plan               23699 non-null bool\n",
      "kitchen_area            21421 non-null float64\n",
      "balcony                 12180 non-null float64\n",
      "locality_name           23650 non-null object\n",
      "airports_nearest        18157 non-null float64\n",
      "cityCenters_nearest     18180 non-null float64\n",
      "parks_around3000        18181 non-null float64\n",
      "parks_nearest           8079 non-null float64\n",
      "ponds_around3000        18181 non-null float64\n",
      "ponds_nearest           9110 non-null float64\n",
      "days_exposition         20518 non-null float64\n",
      "dtypes: bool(2), float64(14), int64(3), object(3)\n",
      "memory usage: 3.7+ MB\n"
     ]
    }
   ],
   "source": [
    "import pandas as pd #импортировали библиотеку pandas\n",
    "data = pd.read_csv('/datasets/real_estate_data.csv',sep = '\\t') #прочитали файл и сохранили в переменной data, применив разделитель табуляция\n",
    "pd.set_option('display.max_columns', None)\n",
    "display(data.head(30)) # выводим на экран первые 30 строк таблицы\n",
    "data.info() #получаем сводную информацию о таблице"
   ]
  },
  {
   "cell_type": "markdown",
   "metadata": {},
   "source": [
    "### Вывод"
   ]
  },
  {
   "cell_type": "markdown",
   "metadata": {},
   "source": [
    "Таблица состоит из 22 столбцов и 23699 строчек. Где-то в половине столбцов есть пропуски, необходимо разобраться насколько корректны данные, что мы можем удалить, а что заполнить самостоятельно для корректного расчета и анализа. В датафреме присутствуют разные типы данных: целые и вещественные числа, булев и текстовые. В дальнейшем будем менять тип данных в некоторых столбцах."
   ]
  },
  {
   "cell_type": "markdown",
   "metadata": {},
   "source": [
    "## Предобработка данных"
   ]
  },
  {
   "cell_type": "code",
   "execution_count": 2,
   "metadata": {
    "scrolled": true
   },
   "outputs": [
    {
     "data": {
      "text/html": [
       "<div>\n",
       "<style scoped>\n",
       "    .dataframe tbody tr th:only-of-type {\n",
       "        vertical-align: middle;\n",
       "    }\n",
       "\n",
       "    .dataframe tbody tr th {\n",
       "        vertical-align: top;\n",
       "    }\n",
       "\n",
       "    .dataframe thead th {\n",
       "        text-align: right;\n",
       "    }\n",
       "</style>\n",
       "<table border=\"1\" class=\"dataframe\">\n",
       "  <thead>\n",
       "    <tr style=\"text-align: right;\">\n",
       "      <th></th>\n",
       "      <th>total_images</th>\n",
       "      <th>last_price</th>\n",
       "      <th>total_area</th>\n",
       "      <th>rooms</th>\n",
       "      <th>ceiling_height</th>\n",
       "      <th>floors_total</th>\n",
       "      <th>living_area</th>\n",
       "      <th>floor</th>\n",
       "      <th>kitchen_area</th>\n",
       "      <th>balcony</th>\n",
       "      <th>airports_nearest</th>\n",
       "      <th>cityCenters_nearest</th>\n",
       "      <th>parks_around3000</th>\n",
       "      <th>parks_nearest</th>\n",
       "      <th>ponds_around3000</th>\n",
       "      <th>ponds_nearest</th>\n",
       "      <th>days_exposition</th>\n",
       "    </tr>\n",
       "  </thead>\n",
       "  <tbody>\n",
       "    <tr>\n",
       "      <td>count</td>\n",
       "      <td>23699.000000</td>\n",
       "      <td>2.369900e+04</td>\n",
       "      <td>23699.000000</td>\n",
       "      <td>23699.000000</td>\n",
       "      <td>14504.000000</td>\n",
       "      <td>23613.000000</td>\n",
       "      <td>21796.000000</td>\n",
       "      <td>23699.000000</td>\n",
       "      <td>21421.000000</td>\n",
       "      <td>12180.000000</td>\n",
       "      <td>18157.000000</td>\n",
       "      <td>18180.000000</td>\n",
       "      <td>18181.000000</td>\n",
       "      <td>8079.000000</td>\n",
       "      <td>18181.000000</td>\n",
       "      <td>9110.000000</td>\n",
       "      <td>20518.000000</td>\n",
       "    </tr>\n",
       "    <tr>\n",
       "      <td>mean</td>\n",
       "      <td>9.858475</td>\n",
       "      <td>6.541549e+06</td>\n",
       "      <td>60.348651</td>\n",
       "      <td>2.070636</td>\n",
       "      <td>2.771499</td>\n",
       "      <td>10.673824</td>\n",
       "      <td>34.457852</td>\n",
       "      <td>5.892358</td>\n",
       "      <td>10.569807</td>\n",
       "      <td>1.150082</td>\n",
       "      <td>28793.672193</td>\n",
       "      <td>14191.277833</td>\n",
       "      <td>0.611408</td>\n",
       "      <td>490.804555</td>\n",
       "      <td>0.770255</td>\n",
       "      <td>517.980900</td>\n",
       "      <td>180.888634</td>\n",
       "    </tr>\n",
       "    <tr>\n",
       "      <td>std</td>\n",
       "      <td>5.682529</td>\n",
       "      <td>1.088701e+07</td>\n",
       "      <td>35.654083</td>\n",
       "      <td>1.078405</td>\n",
       "      <td>1.261056</td>\n",
       "      <td>6.597173</td>\n",
       "      <td>22.030445</td>\n",
       "      <td>4.885249</td>\n",
       "      <td>5.905438</td>\n",
       "      <td>1.071300</td>\n",
       "      <td>12630.880622</td>\n",
       "      <td>8608.386210</td>\n",
       "      <td>0.802074</td>\n",
       "      <td>342.317995</td>\n",
       "      <td>0.938346</td>\n",
       "      <td>277.720643</td>\n",
       "      <td>219.727988</td>\n",
       "    </tr>\n",
       "    <tr>\n",
       "      <td>min</td>\n",
       "      <td>0.000000</td>\n",
       "      <td>1.219000e+04</td>\n",
       "      <td>12.000000</td>\n",
       "      <td>0.000000</td>\n",
       "      <td>1.000000</td>\n",
       "      <td>1.000000</td>\n",
       "      <td>2.000000</td>\n",
       "      <td>1.000000</td>\n",
       "      <td>1.300000</td>\n",
       "      <td>0.000000</td>\n",
       "      <td>0.000000</td>\n",
       "      <td>181.000000</td>\n",
       "      <td>0.000000</td>\n",
       "      <td>1.000000</td>\n",
       "      <td>0.000000</td>\n",
       "      <td>13.000000</td>\n",
       "      <td>1.000000</td>\n",
       "    </tr>\n",
       "    <tr>\n",
       "      <td>25%</td>\n",
       "      <td>6.000000</td>\n",
       "      <td>3.400000e+06</td>\n",
       "      <td>40.000000</td>\n",
       "      <td>1.000000</td>\n",
       "      <td>2.520000</td>\n",
       "      <td>5.000000</td>\n",
       "      <td>18.600000</td>\n",
       "      <td>2.000000</td>\n",
       "      <td>7.000000</td>\n",
       "      <td>0.000000</td>\n",
       "      <td>18585.000000</td>\n",
       "      <td>9238.000000</td>\n",
       "      <td>0.000000</td>\n",
       "      <td>288.000000</td>\n",
       "      <td>0.000000</td>\n",
       "      <td>294.000000</td>\n",
       "      <td>45.000000</td>\n",
       "    </tr>\n",
       "    <tr>\n",
       "      <td>50%</td>\n",
       "      <td>9.000000</td>\n",
       "      <td>4.650000e+06</td>\n",
       "      <td>52.000000</td>\n",
       "      <td>2.000000</td>\n",
       "      <td>2.650000</td>\n",
       "      <td>9.000000</td>\n",
       "      <td>30.000000</td>\n",
       "      <td>4.000000</td>\n",
       "      <td>9.100000</td>\n",
       "      <td>1.000000</td>\n",
       "      <td>26726.000000</td>\n",
       "      <td>13098.500000</td>\n",
       "      <td>0.000000</td>\n",
       "      <td>455.000000</td>\n",
       "      <td>1.000000</td>\n",
       "      <td>502.000000</td>\n",
       "      <td>95.000000</td>\n",
       "    </tr>\n",
       "    <tr>\n",
       "      <td>75%</td>\n",
       "      <td>14.000000</td>\n",
       "      <td>6.800000e+06</td>\n",
       "      <td>69.900000</td>\n",
       "      <td>3.000000</td>\n",
       "      <td>2.800000</td>\n",
       "      <td>16.000000</td>\n",
       "      <td>42.300000</td>\n",
       "      <td>8.000000</td>\n",
       "      <td>12.000000</td>\n",
       "      <td>2.000000</td>\n",
       "      <td>37273.000000</td>\n",
       "      <td>16293.000000</td>\n",
       "      <td>1.000000</td>\n",
       "      <td>612.000000</td>\n",
       "      <td>1.000000</td>\n",
       "      <td>729.000000</td>\n",
       "      <td>232.000000</td>\n",
       "    </tr>\n",
       "    <tr>\n",
       "      <td>max</td>\n",
       "      <td>50.000000</td>\n",
       "      <td>7.630000e+08</td>\n",
       "      <td>900.000000</td>\n",
       "      <td>19.000000</td>\n",
       "      <td>100.000000</td>\n",
       "      <td>60.000000</td>\n",
       "      <td>409.700000</td>\n",
       "      <td>33.000000</td>\n",
       "      <td>112.000000</td>\n",
       "      <td>5.000000</td>\n",
       "      <td>84869.000000</td>\n",
       "      <td>65968.000000</td>\n",
       "      <td>3.000000</td>\n",
       "      <td>3190.000000</td>\n",
       "      <td>3.000000</td>\n",
       "      <td>1344.000000</td>\n",
       "      <td>1580.000000</td>\n",
       "    </tr>\n",
       "  </tbody>\n",
       "</table>\n",
       "</div>"
      ],
      "text/plain": [
       "       total_images    last_price    total_area         rooms  ceiling_height  \\\n",
       "count  23699.000000  2.369900e+04  23699.000000  23699.000000    14504.000000   \n",
       "mean       9.858475  6.541549e+06     60.348651      2.070636        2.771499   \n",
       "std        5.682529  1.088701e+07     35.654083      1.078405        1.261056   \n",
       "min        0.000000  1.219000e+04     12.000000      0.000000        1.000000   \n",
       "25%        6.000000  3.400000e+06     40.000000      1.000000        2.520000   \n",
       "50%        9.000000  4.650000e+06     52.000000      2.000000        2.650000   \n",
       "75%       14.000000  6.800000e+06     69.900000      3.000000        2.800000   \n",
       "max       50.000000  7.630000e+08    900.000000     19.000000      100.000000   \n",
       "\n",
       "       floors_total   living_area         floor  kitchen_area       balcony  \\\n",
       "count  23613.000000  21796.000000  23699.000000  21421.000000  12180.000000   \n",
       "mean      10.673824     34.457852      5.892358     10.569807      1.150082   \n",
       "std        6.597173     22.030445      4.885249      5.905438      1.071300   \n",
       "min        1.000000      2.000000      1.000000      1.300000      0.000000   \n",
       "25%        5.000000     18.600000      2.000000      7.000000      0.000000   \n",
       "50%        9.000000     30.000000      4.000000      9.100000      1.000000   \n",
       "75%       16.000000     42.300000      8.000000     12.000000      2.000000   \n",
       "max       60.000000    409.700000     33.000000    112.000000      5.000000   \n",
       "\n",
       "       airports_nearest  cityCenters_nearest  parks_around3000  parks_nearest  \\\n",
       "count      18157.000000         18180.000000      18181.000000    8079.000000   \n",
       "mean       28793.672193         14191.277833          0.611408     490.804555   \n",
       "std        12630.880622          8608.386210          0.802074     342.317995   \n",
       "min            0.000000           181.000000          0.000000       1.000000   \n",
       "25%        18585.000000          9238.000000          0.000000     288.000000   \n",
       "50%        26726.000000         13098.500000          0.000000     455.000000   \n",
       "75%        37273.000000         16293.000000          1.000000     612.000000   \n",
       "max        84869.000000         65968.000000          3.000000    3190.000000   \n",
       "\n",
       "       ponds_around3000  ponds_nearest  days_exposition  \n",
       "count      18181.000000    9110.000000     20518.000000  \n",
       "mean           0.770255     517.980900       180.888634  \n",
       "std            0.938346     277.720643       219.727988  \n",
       "min            0.000000      13.000000         1.000000  \n",
       "25%            0.000000     294.000000        45.000000  \n",
       "50%            1.000000     502.000000        95.000000  \n",
       "75%            1.000000     729.000000       232.000000  \n",
       "max            3.000000    1344.000000      1580.000000  "
      ]
     },
     "execution_count": 2,
     "metadata": {},
     "output_type": "execute_result"
    }
   ],
   "source": [
    "data.describe()# проверяем описательную статистику по всем числовым столбцам"
   ]
  },
  {
   "cell_type": "code",
   "execution_count": 3,
   "metadata": {
    "scrolled": false
   },
   "outputs": [
    {
     "data": {
      "text/html": [
       "<div>\n",
       "<style scoped>\n",
       "    .dataframe tbody tr th:only-of-type {\n",
       "        vertical-align: middle;\n",
       "    }\n",
       "\n",
       "    .dataframe tbody tr th {\n",
       "        vertical-align: top;\n",
       "    }\n",
       "\n",
       "    .dataframe thead th {\n",
       "        text-align: right;\n",
       "    }\n",
       "</style>\n",
       "<table border=\"1\" class=\"dataframe\">\n",
       "  <thead>\n",
       "    <tr style=\"text-align: right;\">\n",
       "      <th></th>\n",
       "      <th>total_images</th>\n",
       "      <th>last_price</th>\n",
       "      <th>total_area</th>\n",
       "      <th>first_day_exposition</th>\n",
       "      <th>rooms</th>\n",
       "      <th>ceiling_height</th>\n",
       "      <th>floors_total</th>\n",
       "      <th>living_area</th>\n",
       "      <th>floor</th>\n",
       "      <th>is_apartment</th>\n",
       "      <th>studio</th>\n",
       "      <th>open_plan</th>\n",
       "      <th>kitchen_area</th>\n",
       "      <th>balcony</th>\n",
       "      <th>locality_name</th>\n",
       "      <th>airports_nearest</th>\n",
       "      <th>cityCenters_nearest</th>\n",
       "      <th>parks_around3000</th>\n",
       "      <th>parks_nearest</th>\n",
       "      <th>ponds_around3000</th>\n",
       "      <th>ponds_nearest</th>\n",
       "      <th>days_exposition</th>\n",
       "    </tr>\n",
       "  </thead>\n",
       "  <tbody>\n",
       "    <tr>\n",
       "      <td>0</td>\n",
       "      <td>20</td>\n",
       "      <td>13000000.0</td>\n",
       "      <td>108.0</td>\n",
       "      <td>2019-03-07</td>\n",
       "      <td>3</td>\n",
       "      <td>2.70</td>\n",
       "      <td>16.0</td>\n",
       "      <td>51.0</td>\n",
       "      <td>8</td>\n",
       "      <td>NaN</td>\n",
       "      <td>False</td>\n",
       "      <td>False</td>\n",
       "      <td>25.0</td>\n",
       "      <td>NaN</td>\n",
       "      <td>Санкт-Петербург</td>\n",
       "      <td>18863.0</td>\n",
       "      <td>16028.0</td>\n",
       "      <td>1.0</td>\n",
       "      <td>482.0</td>\n",
       "      <td>2.0</td>\n",
       "      <td>755.0</td>\n",
       "      <td>NaN</td>\n",
       "    </tr>\n",
       "    <tr>\n",
       "      <td>1</td>\n",
       "      <td>7</td>\n",
       "      <td>3350000.0</td>\n",
       "      <td>40.4</td>\n",
       "      <td>2018-12-04</td>\n",
       "      <td>1</td>\n",
       "      <td>NaN</td>\n",
       "      <td>11.0</td>\n",
       "      <td>18.6</td>\n",
       "      <td>1</td>\n",
       "      <td>NaN</td>\n",
       "      <td>False</td>\n",
       "      <td>False</td>\n",
       "      <td>11.0</td>\n",
       "      <td>2.0</td>\n",
       "      <td>посёлок Шушары</td>\n",
       "      <td>12817.0</td>\n",
       "      <td>18603.0</td>\n",
       "      <td>0.0</td>\n",
       "      <td>NaN</td>\n",
       "      <td>0.0</td>\n",
       "      <td>NaN</td>\n",
       "      <td>81.0</td>\n",
       "    </tr>\n",
       "    <tr>\n",
       "      <td>2</td>\n",
       "      <td>10</td>\n",
       "      <td>5196000.0</td>\n",
       "      <td>56.0</td>\n",
       "      <td>2015-08-20</td>\n",
       "      <td>2</td>\n",
       "      <td>NaN</td>\n",
       "      <td>5.0</td>\n",
       "      <td>34.3</td>\n",
       "      <td>4</td>\n",
       "      <td>NaN</td>\n",
       "      <td>False</td>\n",
       "      <td>False</td>\n",
       "      <td>8.3</td>\n",
       "      <td>0.0</td>\n",
       "      <td>Санкт-Петербург</td>\n",
       "      <td>21741.0</td>\n",
       "      <td>13933.0</td>\n",
       "      <td>1.0</td>\n",
       "      <td>90.0</td>\n",
       "      <td>2.0</td>\n",
       "      <td>574.0</td>\n",
       "      <td>558.0</td>\n",
       "    </tr>\n",
       "    <tr>\n",
       "      <td>3</td>\n",
       "      <td>0</td>\n",
       "      <td>64900000.0</td>\n",
       "      <td>159.0</td>\n",
       "      <td>2015-07-24</td>\n",
       "      <td>3</td>\n",
       "      <td>NaN</td>\n",
       "      <td>14.0</td>\n",
       "      <td>NaN</td>\n",
       "      <td>9</td>\n",
       "      <td>NaN</td>\n",
       "      <td>False</td>\n",
       "      <td>False</td>\n",
       "      <td>NaN</td>\n",
       "      <td>0.0</td>\n",
       "      <td>Санкт-Петербург</td>\n",
       "      <td>28098.0</td>\n",
       "      <td>6800.0</td>\n",
       "      <td>2.0</td>\n",
       "      <td>84.0</td>\n",
       "      <td>3.0</td>\n",
       "      <td>234.0</td>\n",
       "      <td>424.0</td>\n",
       "    </tr>\n",
       "    <tr>\n",
       "      <td>4</td>\n",
       "      <td>2</td>\n",
       "      <td>10000000.0</td>\n",
       "      <td>100.0</td>\n",
       "      <td>2018-06-19</td>\n",
       "      <td>2</td>\n",
       "      <td>3.03</td>\n",
       "      <td>14.0</td>\n",
       "      <td>32.0</td>\n",
       "      <td>13</td>\n",
       "      <td>NaN</td>\n",
       "      <td>False</td>\n",
       "      <td>False</td>\n",
       "      <td>41.0</td>\n",
       "      <td>NaN</td>\n",
       "      <td>Санкт-Петербург</td>\n",
       "      <td>31856.0</td>\n",
       "      <td>8098.0</td>\n",
       "      <td>2.0</td>\n",
       "      <td>112.0</td>\n",
       "      <td>1.0</td>\n",
       "      <td>48.0</td>\n",
       "      <td>121.0</td>\n",
       "    </tr>\n",
       "  </tbody>\n",
       "</table>\n",
       "</div>"
      ],
      "text/plain": [
       "   total_images  last_price  total_area first_day_exposition  rooms  \\\n",
       "0            20  13000000.0       108.0           2019-03-07      3   \n",
       "1             7   3350000.0        40.4           2018-12-04      1   \n",
       "2            10   5196000.0        56.0           2015-08-20      2   \n",
       "3             0  64900000.0       159.0           2015-07-24      3   \n",
       "4             2  10000000.0       100.0           2018-06-19      2   \n",
       "\n",
       "   ceiling_height  floors_total  living_area  floor is_apartment  studio  \\\n",
       "0            2.70          16.0         51.0      8          NaN   False   \n",
       "1             NaN          11.0         18.6      1          NaN   False   \n",
       "2             NaN           5.0         34.3      4          NaN   False   \n",
       "3             NaN          14.0          NaN      9          NaN   False   \n",
       "4            3.03          14.0         32.0     13          NaN   False   \n",
       "\n",
       "   open_plan  kitchen_area  balcony    locality_name  airports_nearest  \\\n",
       "0      False          25.0      NaN  Санкт-Петербург           18863.0   \n",
       "1      False          11.0      2.0   посёлок Шушары           12817.0   \n",
       "2      False           8.3      0.0  Санкт-Петербург           21741.0   \n",
       "3      False           NaN      0.0  Санкт-Петербург           28098.0   \n",
       "4      False          41.0      NaN  Санкт-Петербург           31856.0   \n",
       "\n",
       "   cityCenters_nearest  parks_around3000  parks_nearest  ponds_around3000  \\\n",
       "0              16028.0               1.0          482.0               2.0   \n",
       "1              18603.0               0.0            NaN               0.0   \n",
       "2              13933.0               1.0           90.0               2.0   \n",
       "3               6800.0               2.0           84.0               3.0   \n",
       "4               8098.0               2.0          112.0               1.0   \n",
       "\n",
       "   ponds_nearest  days_exposition  \n",
       "0          755.0              NaN  \n",
       "1            NaN             81.0  \n",
       "2          574.0            558.0  \n",
       "3          234.0            424.0  \n",
       "4           48.0            121.0  "
      ]
     },
     "execution_count": 3,
     "metadata": {},
     "output_type": "execute_result"
    }
   ],
   "source": [
    "data['first_day_exposition'] = pd.to_datetime(data['first_day_exposition'], format='%Y-%m-%dT%H:%M:%S') #перевели значения в столбцеfirst_day_exposition в дату и время \n",
    "data.head() #для проверки вывели первые 5 строк датафрейма\n"
   ]
  },
  {
   "cell_type": "markdown",
   "metadata": {},
   "source": [
    "Для начала изменили тип данных в столбце first_day_exposition для работы с временем и датой. Времени у нас нет,да оно нам и не важно для анализа, остается только дата."
   ]
  },
  {
   "cell_type": "code",
   "execution_count": 4,
   "metadata": {
    "scrolled": false
   },
   "outputs": [
    {
     "name": "stdout",
     "output_type": "stream",
     "text": [
      "Пропуски до: 86\n",
      "Пропуски после: 0\n"
     ]
    }
   ],
   "source": [
    "print('Пропуски до:',data['floors_total'].isna().sum()) #подсчет пропусков в столбце floors_total\n",
    "data = data.dropna(subset=['floors_total'])#удаляем строчки с пропусками т.к их немного и на анализ не повлияет\n",
    "print('Пропуски после:',data['floors_total'].isna().sum()) #подсчетов пропусков после удаления\n",
    "data['floors_total'] = data['floors_total'].astype(int)# кол-во этажей переводим в целое число"
   ]
  },
  {
   "cell_type": "markdown",
   "metadata": {},
   "source": [
    "В столбце floors_total пропусков немного, поэтому мы можем их удалить и это не повлияет на дальнейший анализ. Остальные значения переводим в целое число, так как количество этажей всегда целое число."
   ]
  },
  {
   "cell_type": "code",
   "execution_count": 5,
   "metadata": {
    "scrolled": false
   },
   "outputs": [
    {
     "name": "stdout",
     "output_type": "stream",
     "text": [
      "Пропуски до: 1870\n",
      "Пропуски после: 0\n"
     ]
    }
   ],
   "source": [
    "print('Пропуски до:',data['living_area'].isna().sum())#подсчет пропусков в столбце living_area\n",
    "median_values = data.groupby('rooms').agg({'living_area': 'median'}).rename(columns={'living_area': 'median_living_area'})#создаем фрейм с группировкой по столбцу rooms и подсчетом медианы,получается дополнительная колонка с median_living_area\n",
    "data = data.merge(median_values, on = ['rooms']) #пристегиваем его к исходному фрейму\n",
    "data.loc[data['living_area'].isna(), 'living_area'] = data.loc[data['living_area'].isna(),'median_living_area']#пропуски заполняем значениями из median_living_area\n",
    "print('Пропуски после:',data['living_area'].isna().sum())#подсчетов пропусков после"
   ]
  },
  {
   "cell_type": "markdown",
   "metadata": {},
   "source": [
    "В столбце living_area заполинили пропуски медианными значениями с группировкой по числу комнат, то есть предполагаем, что жилая площадь зависит от числа комнат."
   ]
  },
  {
   "cell_type": "code",
   "execution_count": 6,
   "metadata": {
    "scrolled": true
   },
   "outputs": [
    {
     "name": "stdout",
     "output_type": "stream",
     "text": [
      "Пропуски до: 2231\n"
     ]
    },
    {
     "data": {
      "text/html": [
       "<div>\n",
       "<style scoped>\n",
       "    .dataframe tbody tr th:only-of-type {\n",
       "        vertical-align: middle;\n",
       "    }\n",
       "\n",
       "    .dataframe tbody tr th {\n",
       "        vertical-align: top;\n",
       "    }\n",
       "\n",
       "    .dataframe thead th {\n",
       "        text-align: right;\n",
       "    }\n",
       "</style>\n",
       "<table border=\"1\" class=\"dataframe\">\n",
       "  <thead>\n",
       "    <tr style=\"text-align: right;\">\n",
       "      <th></th>\n",
       "      <th>living_area</th>\n",
       "      <th>kitchen_area</th>\n",
       "      <th>studio</th>\n",
       "      <th>open_plan</th>\n",
       "    </tr>\n",
       "  </thead>\n",
       "  <tbody>\n",
       "    <tr>\n",
       "      <td>23329</td>\n",
       "      <td>15.50</td>\n",
       "      <td>NaN</td>\n",
       "      <td>True</td>\n",
       "      <td>False</td>\n",
       "    </tr>\n",
       "    <tr>\n",
       "      <td>23330</td>\n",
       "      <td>17.00</td>\n",
       "      <td>NaN</td>\n",
       "      <td>False</td>\n",
       "      <td>True</td>\n",
       "    </tr>\n",
       "    <tr>\n",
       "      <td>23331</td>\n",
       "      <td>24.75</td>\n",
       "      <td>NaN</td>\n",
       "      <td>True</td>\n",
       "      <td>False</td>\n",
       "    </tr>\n",
       "    <tr>\n",
       "      <td>23332</td>\n",
       "      <td>24.30</td>\n",
       "      <td>NaN</td>\n",
       "      <td>False</td>\n",
       "      <td>True</td>\n",
       "    </tr>\n",
       "    <tr>\n",
       "      <td>23333</td>\n",
       "      <td>18.00</td>\n",
       "      <td>NaN</td>\n",
       "      <td>True</td>\n",
       "      <td>False</td>\n",
       "    </tr>\n",
       "    <tr>\n",
       "      <td>...</td>\n",
       "      <td>...</td>\n",
       "      <td>...</td>\n",
       "      <td>...</td>\n",
       "      <td>...</td>\n",
       "    </tr>\n",
       "    <tr>\n",
       "      <td>23518</td>\n",
       "      <td>18.00</td>\n",
       "      <td>NaN</td>\n",
       "      <td>True</td>\n",
       "      <td>False</td>\n",
       "    </tr>\n",
       "    <tr>\n",
       "      <td>23519</td>\n",
       "      <td>18.00</td>\n",
       "      <td>NaN</td>\n",
       "      <td>False</td>\n",
       "      <td>True</td>\n",
       "    </tr>\n",
       "    <tr>\n",
       "      <td>23520</td>\n",
       "      <td>18.00</td>\n",
       "      <td>NaN</td>\n",
       "      <td>True</td>\n",
       "      <td>False</td>\n",
       "    </tr>\n",
       "    <tr>\n",
       "      <td>23521</td>\n",
       "      <td>18.00</td>\n",
       "      <td>NaN</td>\n",
       "      <td>False</td>\n",
       "      <td>True</td>\n",
       "    </tr>\n",
       "    <tr>\n",
       "      <td>23522</td>\n",
       "      <td>17.00</td>\n",
       "      <td>NaN</td>\n",
       "      <td>True</td>\n",
       "      <td>False</td>\n",
       "    </tr>\n",
       "  </tbody>\n",
       "</table>\n",
       "<p>194 rows × 4 columns</p>\n",
       "</div>"
      ],
      "text/plain": [
       "       living_area  kitchen_area  studio  open_plan\n",
       "23329        15.50           NaN    True      False\n",
       "23330        17.00           NaN   False       True\n",
       "23331        24.75           NaN    True      False\n",
       "23332        24.30           NaN   False       True\n",
       "23333        18.00           NaN    True      False\n",
       "...            ...           ...     ...        ...\n",
       "23518        18.00           NaN    True      False\n",
       "23519        18.00           NaN   False       True\n",
       "23520        18.00           NaN    True      False\n",
       "23521        18.00           NaN   False       True\n",
       "23522        17.00           NaN    True      False\n",
       "\n",
       "[194 rows x 4 columns]"
      ]
     },
     "metadata": {},
     "output_type": "display_data"
    },
    {
     "data": {
      "text/html": [
       "<div>\n",
       "<style scoped>\n",
       "    .dataframe tbody tr th:only-of-type {\n",
       "        vertical-align: middle;\n",
       "    }\n",
       "\n",
       "    .dataframe tbody tr th {\n",
       "        vertical-align: top;\n",
       "    }\n",
       "\n",
       "    .dataframe thead th {\n",
       "        text-align: right;\n",
       "    }\n",
       "</style>\n",
       "<table border=\"1\" class=\"dataframe\">\n",
       "  <thead>\n",
       "    <tr style=\"text-align: right;\">\n",
       "      <th></th>\n",
       "      <th>living_area</th>\n",
       "      <th>kitchen_area</th>\n",
       "      <th>studio</th>\n",
       "      <th>open_plan</th>\n",
       "    </tr>\n",
       "  </thead>\n",
       "  <tbody>\n",
       "    <tr>\n",
       "      <td>23329</td>\n",
       "      <td>15.50</td>\n",
       "      <td>0.0</td>\n",
       "      <td>True</td>\n",
       "      <td>False</td>\n",
       "    </tr>\n",
       "    <tr>\n",
       "      <td>23330</td>\n",
       "      <td>17.00</td>\n",
       "      <td>0.0</td>\n",
       "      <td>False</td>\n",
       "      <td>True</td>\n",
       "    </tr>\n",
       "    <tr>\n",
       "      <td>23331</td>\n",
       "      <td>24.75</td>\n",
       "      <td>0.0</td>\n",
       "      <td>True</td>\n",
       "      <td>False</td>\n",
       "    </tr>\n",
       "    <tr>\n",
       "      <td>23332</td>\n",
       "      <td>24.30</td>\n",
       "      <td>0.0</td>\n",
       "      <td>False</td>\n",
       "      <td>True</td>\n",
       "    </tr>\n",
       "    <tr>\n",
       "      <td>23333</td>\n",
       "      <td>18.00</td>\n",
       "      <td>0.0</td>\n",
       "      <td>True</td>\n",
       "      <td>False</td>\n",
       "    </tr>\n",
       "    <tr>\n",
       "      <td>...</td>\n",
       "      <td>...</td>\n",
       "      <td>...</td>\n",
       "      <td>...</td>\n",
       "      <td>...</td>\n",
       "    </tr>\n",
       "    <tr>\n",
       "      <td>23518</td>\n",
       "      <td>18.00</td>\n",
       "      <td>0.0</td>\n",
       "      <td>True</td>\n",
       "      <td>False</td>\n",
       "    </tr>\n",
       "    <tr>\n",
       "      <td>23519</td>\n",
       "      <td>18.00</td>\n",
       "      <td>0.0</td>\n",
       "      <td>False</td>\n",
       "      <td>True</td>\n",
       "    </tr>\n",
       "    <tr>\n",
       "      <td>23520</td>\n",
       "      <td>18.00</td>\n",
       "      <td>0.0</td>\n",
       "      <td>True</td>\n",
       "      <td>False</td>\n",
       "    </tr>\n",
       "    <tr>\n",
       "      <td>23521</td>\n",
       "      <td>18.00</td>\n",
       "      <td>0.0</td>\n",
       "      <td>False</td>\n",
       "      <td>True</td>\n",
       "    </tr>\n",
       "    <tr>\n",
       "      <td>23522</td>\n",
       "      <td>17.00</td>\n",
       "      <td>0.0</td>\n",
       "      <td>True</td>\n",
       "      <td>False</td>\n",
       "    </tr>\n",
       "  </tbody>\n",
       "</table>\n",
       "<p>194 rows × 4 columns</p>\n",
       "</div>"
      ],
      "text/plain": [
       "       living_area  kitchen_area  studio  open_plan\n",
       "23329        15.50           0.0    True      False\n",
       "23330        17.00           0.0   False       True\n",
       "23331        24.75           0.0    True      False\n",
       "23332        24.30           0.0   False       True\n",
       "23333        18.00           0.0    True      False\n",
       "...            ...           ...     ...        ...\n",
       "23518        18.00           0.0    True      False\n",
       "23519        18.00           0.0   False       True\n",
       "23520        18.00           0.0    True      False\n",
       "23521        18.00           0.0   False       True\n",
       "23522        17.00           0.0    True      False\n",
       "\n",
       "[194 rows x 4 columns]"
      ]
     },
     "metadata": {},
     "output_type": "display_data"
    },
    {
     "name": "stdout",
     "output_type": "stream",
     "text": [
      "Пропуски после: 2018\n",
      "Пропуски после: 0\n"
     ]
    }
   ],
   "source": [
    "print('Пропуски до:',data['kitchen_area'].isna().sum())#подсчет пропусков в столбце kitchen_area\n",
    "display(data.query('rooms==0')[['living_area','kitchen_area','studio','open_plan']])#смотри срез, где видим, что пропуски есть там, где студия или открытая планировка\n",
    "data.loc[(data['kitchen_area'].isna()) & (data['studio']==True),'kitchen_area'] = 0 #можно считать, что в кухнях и открытых планировках нет кухни \n",
    "data.loc[(data['kitchen_area'].isna()) & (data['open_plan']==True),'kitchen_area'] = 0 #заполнем пропуски нулем\n",
    "display(data.query('rooms==0')[['living_area','kitchen_area','studio','open_plan']])#проверяем\n",
    "print('Пропуски после:',data['kitchen_area'].isna().sum())#проверка пропусков, они остались\n",
    "median_values = data.groupby('rooms').agg({'kitchen_area': 'median'}).rename(columns={'kitchen_area': 'median_kitchen_area'})#создаем фрейм с группировкой по столбцу rooms и подсчетом медианы,получается дополнительная колонка с median_kitchen_area\n",
    "data = data.merge(median_values, on = ['rooms']) #пристегиваем его к исходному фрейму\n",
    "data.loc[data['kitchen_area'].isna(), 'kitchen_area'] = data.loc[data['kitchen_area'].isna(),'median_kitchen_area']#пропуски заполняем значениями из median_kitchen_area\n",
    "print('Пропуски после:',data['kitchen_area'].isna().sum())#подсчетов пропусков после"
   ]
  },
  {
   "cell_type": "markdown",
   "metadata": {},
   "source": [
    "В столбце kitchen_area заметно, что пропуски есть там, где квартира-студия или открытая планировка. Предполагется, что там нет так таковой кухни и поэтому заполняем пропуски нулевым значением. Оставшивеся пропуски заполнили также медианными значениями с группировкой по количеству комнат."
   ]
  },
  {
   "cell_type": "code",
   "execution_count": 7,
   "metadata": {},
   "outputs": [
    {
     "name": "stdout",
     "output_type": "stream",
     "text": [
      "Пропуски до: 9118\n",
      "Пропуски после: 0\n"
     ]
    }
   ],
   "source": [
    "print('Пропуски до:',data['ceiling_height'].isna().sum())#подсчет пропусков в столбце ceiling_height\n",
    "data.loc[data['ceiling_height'].isna(),'ceiling_height'] = data['ceiling_height'].median()# заполняем пропуски медианными значениями всего столбца, так как высота потолков по столбцу не сильно выбивается\n",
    "print('Пропуски после:',data['ceiling_height'].isna().sum())#подсчетов пропусков после"
   ]
  },
  {
   "cell_type": "markdown",
   "metadata": {},
   "source": [
    "Пропуски в столбце ceiling_height заполнили медианными значениями столбца, так как высота потолков примерно одинакова во всех квартирах за редким исключением."
   ]
  },
  {
   "cell_type": "code",
   "execution_count": 8,
   "metadata": {},
   "outputs": [
    {
     "name": "stdout",
     "output_type": "stream",
     "text": [
      "Пропуски до: 20838\n",
      "Пропуски после: 0\n"
     ]
    }
   ],
   "source": [
    "print('Пропуски до:',data['is_apartment'].isna().sum())#подсчет пропусков в столбце is_apartment\n",
    "data.loc[data['is_apartment'].isna(),'is_apartment'] = False #заполняем пропуски значением False\n",
    "print('Пропуски после:',data['is_apartment'].isna().sum())#подсчетов пропусков после"
   ]
  },
  {
   "cell_type": "markdown",
   "metadata": {},
   "source": [
    "В столбце is_apartment предполагаю, что если бы это были апартаменты это бы было указано, а не пропущено. Поэтому пропуски заполняю значением False."
   ]
  },
  {
   "cell_type": "code",
   "execution_count": 9,
   "metadata": {},
   "outputs": [
    {
     "name": "stdout",
     "output_type": "stream",
     "text": [
      "Пропуски до: 11480\n",
      "Пропуски после: 0\n"
     ]
    }
   ],
   "source": [
    "print('Пропуски до:',data['balcony'].isna().sum())#подсчет пропусков в столбце balcony\n",
    "data.loc[data['balcony'].isna(),'balcony'] = 0 #заполняем пропуски нулем, так как предполагаю, что если бы балкон был,это было бы указано\n",
    "print('Пропуски после:',data['balcony'].isna().sum())#подсчетов пропусков после\n",
    "data['balcony'] = data['balcony'].astype(int)# изменяю тип данных на целые числа"
   ]
  },
  {
   "cell_type": "markdown",
   "metadata": {},
   "source": [
    "Пропуски в столбце balcony заполняем нулем, так как если бы балкон был в квартире это обязательно указали в объявлении, потому что это влияет на стоимость квартиры. Тип данных поменяли на целый, так как балконов всегда целое число."
   ]
  },
  {
   "cell_type": "code",
   "execution_count": 10,
   "metadata": {
    "scrolled": false
   },
   "outputs": [
    {
     "name": "stdout",
     "output_type": "stream",
     "text": [
      "Пропуски до: 3172\n"
     ]
    },
    {
     "data": {
      "image/png": "[encoded data removed]",
      "text/plain": [
       "<Figure size 432x288 with 1 Axes>"
      ]
     },
     "metadata": {
      "needs_background": "light"
     },
     "output_type": "display_data"
    }
   ],
   "source": [
    "print('Пропуски до:',data['days_exposition'].isna().sum())#подсчет пропусков в столбце days_exposition\n",
    "import matplotlib.pyplot as plt\n",
    "data['days_exposition_missing'] = data['days_exposition'].isna().astype(int) #создаем столбец,в котором опредяем пропущена дата или нет\n",
    "data.groupby('first_day_exposition').agg({'days_exposition_missing':'sum'}).plot() #строим график, суммируя пропуски \n",
    "plt.title('Распределение объявлений без days_exposition')\n",
    "plt.show()\n"
   ]
  },
  {
   "cell_type": "markdown",
   "metadata": {},
   "source": [
    "В столбце days_exposition есть пропуски, а так как это дни размещения объявления, то возможно пропуски означают, что объявление еще не снято с публикации и квартира еще продается.Построим график распределения пропусков относительно даты публикации объявления. Мы видим, что больше всего пропусков у более свежих объявлений, поэтому можно предполагать, что квартры не проданы еще. Пропуски оставляем."
   ]
  },
  {
   "cell_type": "code",
   "execution_count": 11,
   "metadata": {},
   "outputs": [
    {
     "name": "stdout",
     "output_type": "stream",
     "text": [
      "Пропуски до: 48\n",
      "Пропуски после: 0\n"
     ]
    },
    {
     "data": {
      "text/plain": [
       "array(['Санкт-Петербург', 'посёлок Парголово', 'Гатчина', 'Сертолово',\n",
       "       'деревня Фёдоровское', 'Кировск', 'деревня Новое Девяткино',\n",
       "       'посёлок Шушары', 'посёлок городского типа Сиверский', 'Приозерск',\n",
       "       'деревня Куттузи', 'деревня Заклинье', 'поселок Торковичи',\n",
       "       'Красное Село', 'Ломоносов', 'Всеволожск', 'посёлок Новый Свет',\n",
       "       'Шлиссельбург', 'Кингисепп', 'Сосновый Бор', 'поселок Новый Свет',\n",
       "       'деревня Оржицы', 'Ивангород', 'Кириши', 'Луга', 'Пушкин',\n",
       "       'Колпино', 'поселок Оредеж', 'Волосово',\n",
       "       'городской посёлок Янино-1', 'посёлок Металлострой',\n",
       "       'посёлок Молодёжное', 'Тихвин', 'Кронштадт', 'посёлок Победа',\n",
       "       'деревня Нурма', 'Тосно', 'Пикалёво', 'Подпорожье', 'Сестрорецк',\n",
       "       'посёлок городского типа Токсово', 'Выборг', 'деревня Старая',\n",
       "       'посёлок городского типа Кузьмоловский', 'Петергоф',\n",
       "       'поселок Севастьяново', 'деревня Кудрово', 'деревня Лопухинка',\n",
       "       'городской посёлок Лесогорский', 'деревня Лаголово',\n",
       "       'поселок Цвелодубово', 'Волхов', 'посёлок Мурино',\n",
       "       'деревня Батово', 'Приморск', 'поселок Романовка',\n",
       "       'поселок Сельцо', 'Новая Ладога', 'посёлок Тельмана',\n",
       "       'поселок городского типа имени Свердлова', 'поселок Рябово',\n",
       "       'посёлок городского типа Рощино', 'Сланцы', 'поселок Бугры',\n",
       "       'посёлок городского типа Тайцы', 'Отрадное', 'деревня Калитино',\n",
       "       'посёлок городского типа Ульяновка', 'деревня Малое Карлино',\n",
       "       'поселок Войсковицы', 'посёлок Стрельна', 'посёлок Ропша',\n",
       "       'деревня Рабитицы', 'поселок городского типа Никольский',\n",
       "       'городской посёлок Назия', 'посёлок Репино', 'Кудрово',\n",
       "       'поселок Победа', 'Лодейное Поле', 'Никольское',\n",
       "       'поселок городского типа Синявино', 'поселок Запорожское',\n",
       "       'посёлок городского типа имени Морозова', 'поселок Зимитицы',\n",
       "       'Коммунар', 'Зеленогорск', 'село Павлово', 'Павловск',\n",
       "       'Бокситогорск', 'Светогорск', 'поселок городского типа Рощино',\n",
       "       'Любань', 'деревня Бегуницы', 'деревня Кривко',\n",
       "       'деревня Агалатово', 'деревня Кузьмолово', 'посёлок Мыза-Ивановка',\n",
       "       'поселок Семрино', 'поселок Житково', 'деревня Шпаньково',\n",
       "       'поселок станции Вещево', 'деревня Гостилицы',\n",
       "       'посёлок Возрождение', 'посёлок Кикерино', 'деревня Низино',\n",
       "       'городской посёлок Фёдоровское', 'поселок Суходолье',\n",
       "       'поселок городского типа Рахья', 'поселок Мурино',\n",
       "       'поселок городского типа Дубровка', 'деревня Большие Колпаны',\n",
       "       'Сясьстрой', 'деревня Горбунки', 'Каменногорск', 'деревня Кипень',\n",
       "       'поселок Аннино',\n",
       "       'садоводческое некоммерческое товарищество Лесная Поляна',\n",
       "       'поселок Жилгородок', 'посёлок городского типа Павлово',\n",
       "       'городской посёлок Рощино', 'посёлок городского типа Лебяжье',\n",
       "       'городской посёлок Новоселье', 'посёлок городского типа Важины',\n",
       "       'городской посёлок Мга', 'поселок городского типа Приладожский',\n",
       "       'деревня Лесколово', 'поселок Лукаши', 'городской посёлок Виллози',\n",
       "       'Мурино', 'посёлок Бугры', 'село Русско-Высоцкое',\n",
       "       'деревня Извара', 'деревня Малые Колпаны', 'поселок Кингисеппский',\n",
       "       'деревня Мистолово', 'городской поселок Большая Ижора',\n",
       "       'деревня Пеники', 'поселок городского типа Ефимовский',\n",
       "       'посёлок Мельниково', 'деревня Аро', 'поселок Углово',\n",
       "       'посёлок городского типа Вознесенье', 'посёлок Понтонный',\n",
       "       'деревня Юкки', 'поселок городского типа Лебяжье',\n",
       "       'деревня Малое Верево', 'деревня Белогорка', 'посёлок Жилгородок',\n",
       "       'посёлок Сосново', 'посёлок Щеглово', 'посёлок Пудость',\n",
       "       'поселок Первомайское', 'посёлок Кобралово', 'деревня Вартемяги',\n",
       "       'поселок городского типа Кузьмоловский', 'деревня Зимитицы',\n",
       "       'поселок Лесное', 'поселок Барышево', 'посёлок Сапёрное',\n",
       "       'посёлок Суйда', 'городской посёлок Павлово',\n",
       "       'деревня Нижние Осельки', 'посёлок Аннино', 'поселок Глажево',\n",
       "       'поселок Перово', 'Высоцк', 'село Копорье', 'деревня Заневка',\n",
       "       'село Шум', 'поселок Петровское',\n",
       "       'посёлок городского типа Форносово', 'поселок станции Лужайка',\n",
       "       'деревня Пудомяги', 'поселок Красносельское', 'деревня Пижма',\n",
       "       'поселок Котельский', 'поселок Коробицыно', 'деревня Каськово',\n",
       "       'посёлок городского типа имени Свердлова', 'посёлок Стеклянный',\n",
       "       'деревня Терпилицы', 'деревня Глинка', 'посёлок Шугозеро',\n",
       "       'посёлок Усть-Ижора', 'городской посёлок Свирьстрой',\n",
       "       'поселок городского типа Советский', 'посёлок Высокоключевой',\n",
       "       'садовое товарищество Приладожский', 'деревня Снегирёвка',\n",
       "       'посёлок станции Громово', 'поселок городского типа Вырица',\n",
       "       'поселок городского типа Лесогорский',\n",
       "       'городской посёлок Будогощь', 'поселок Рабитицы',\n",
       "       'деревня Большое Рейзино', 'деревня Малая Романовка',\n",
       "       'поселок Елизаветино', 'деревня Гарболово', 'деревня Яльгелево',\n",
       "       'садовое товарищество Новая Ропша',\n",
       "       'посёлок городского типа Красный Бор', 'посёлок Петровское',\n",
       "       'деревня Келози', 'посёлок Новогорелово', 'поселок Заводской',\n",
       "       'деревня Иссад', 'деревня Разметелево', 'посёлок Поляны',\n",
       "       'посёлок городского типа Кузнечное', 'поселок Молодцово',\n",
       "       'поселок Ильичёво', 'деревня Колтуши', 'село Паша',\n",
       "       'деревня Чудской Бор', 'деревня Коркино', 'посёлок Гаврилово',\n",
       "       'посёлок Ильичёво', 'поселок Кобринское', 'поселок Поляны',\n",
       "       'поселок Цвылёво', 'посёлок Усть-Луга',\n",
       "       'поселок городского типа Рябово', 'посёлок городского типа Мга',\n",
       "       'посёлок Войскорово', 'посёлок Терволово',\n",
       "       'посёлок городского типа Вырица', 'поселок Стеклянный',\n",
       "       'поселок городского типа Форносово', 'городской поселок Янино-1',\n",
       "       'деревня Кальтино', 'деревня Старое Хинколово',\n",
       "       'посёлок Мичуринское', 'поселок городского типа Дружная Горка',\n",
       "       'деревня Старополье', 'поселок Новый Учхоз', 'поселок Каложицы',\n",
       "       'деревня Фалилеево', 'посёлок Белоостров', 'посёлок Песочный',\n",
       "       'деревня Парицы', 'деревня Сяськелево', 'деревня Тарасово',\n",
       "       'деревня Старые Бегуницы',\n",
       "       'посёлок при железнодорожной станции Вещево',\n",
       "       'поселок городского типа Красный Бор', 'поселок Ушаки',\n",
       "       'поселок городского типа Назия', 'деревня Старая Пустошь',\n",
       "       'деревня Разбегаево', 'посёлок городского типа Рябово',\n",
       "       'посёлок Плодовое', 'деревня Лампово', 'деревня Курковицы',\n",
       "       'посёлок Лисий Нос', 'деревня Суоранда',\n",
       "       'поселок городского типа Кондратьево',\n",
       "       'коттеджный поселок Счастье', 'поселок Усть-Луга',\n",
       "       'поселок Тельмана', 'посёлок Сапёрный', 'поселок Мичуринское',\n",
       "       'поселок Мельниково', 'деревня Бор', 'поселок Гарболово',\n",
       "       'поселок Старая Малукса', 'посёлок Торфяное', 'посёлок Ленинское',\n",
       "       'коттеджный поселок Кивеннапа Север', 'поселок Ромашки',\n",
       "       'деревня Ям-Тесово', 'деревня Раздолье', 'село Рождествено',\n",
       "       'поселок городского типа Токсово', 'деревня Выскатка',\n",
       "       'поселок Громово', 'село Старая Ладога', 'деревня Торосово',\n",
       "       'посёлок Пансионат Зелёный Бор', 'деревня Торошковичи',\n",
       "       'деревня Старосиверская', 'поселок Пансионат Зелёный Бор',\n",
       "       'посёлок Старая Малукса', 'деревня Рапполово', 'деревня Пустынка',\n",
       "       'деревня Русско', 'поселок Совхозный', 'поселок Дружноселье',\n",
       "       'поселок Глебычево', 'деревня Пикколово', 'село Путилово',\n",
       "       'поселок Терволово', 'деревня Мины', 'садовое товарищество Рахья',\n",
       "       'деревня Меньково', 'поселок Гаврилово',\n",
       "       'поселок станции Приветнинское', 'деревня Мануйлово',\n",
       "       'деревня Пчева', 'поселок Селезнёво', 'поселок Жилпосёлок',\n",
       "       'село Никольское', 'деревня Лаврики', 'посёлок Сумино',\n",
       "       'посёлок Пригородный', 'поселок Красная Долина', 'деревня Хапо-Ое',\n",
       "       'поселок Лисий Нос', 'посёлок Левашово', 'деревня Камышовка',\n",
       "       'деревня Ялгино', 'поселок Гончарово', 'поселок Почап',\n",
       "       'посёлок Платформа 69-й километр', 'деревня Пельгора',\n",
       "       'посёлок Алексеевка', 'поселок Серебрянский', 'деревня Щеглово',\n",
       "       'деревня Котлы', 'деревня Сижно', 'посёлок Форт Красная Горка',\n",
       "       'деревня Новолисино', 'поселок Коммунары', 'поселок Починок',\n",
       "       'поселок Гладкое',\n",
       "       'посёлок при железнодорожной станции Приветнинское',\n",
       "       'поселок Тёсово-4', 'посёлок Коробицыно', 'деревня Большая Вруда',\n",
       "       'городской посёлок Советский', 'поселок Кобралово',\n",
       "       'деревня Реброво', 'деревня Тойворово', 'поселок Семиозерье',\n",
       "       'поселок Любань', 'посёлок станции Свирь',\n",
       "       'деревня Большая Пустомержа', 'деревня Вахнова Кара',\n",
       "       'посёлок Перово', 'деревня Куровицы', 'посёлок Плоское',\n",
       "       'поселок Сумино', 'поселок городского типа Большая Ижора',\n",
       "       'поселок Кирпичное', 'деревня Ваганово', 'поселок Пушное',\n",
       "       'садовое товарищество Садко', 'деревня Кисельня',\n",
       "       'деревня Трубников Бор', 'поселок Калитино', 'деревня Ненимяки',\n",
       "       'посёлок Александровская', 'деревня Большой Сабск',\n",
       "       'деревня Лупполово', 'поселок Пчевжа', 'поселок Володарское',\n",
       "       'коттеджный посёлок Лесное', 'деревня Тихковицы',\n",
       "       'деревня Борисова Грива', 'поселок Возрождение', 'деревня Нижняя',\n",
       "       'посёлок Дзержинского', 'деревня Хязельки',\n",
       "       'поселок станции Корнево', 'посёлок Петро-Славянка'], dtype=object)"
      ]
     },
     "metadata": {},
     "output_type": "display_data"
    },
    {
     "data": {
      "text/plain": [
       "array(['Санкт-Петербург', 'Парголово', 'Гатчина', 'Сертолово',\n",
       "       'Фёдоровское', 'Кировск', 'Новое Девяткино', 'Шушары', 'Сиверский',\n",
       "       'Приозерск', 'Куттузи', 'Заклинье', 'Торковичи', 'Красное Село',\n",
       "       'Ломоносов', 'Всеволожск', 'Новый Свет', 'Шлиссельбург',\n",
       "       'Кингисепп', 'Сосновый Бор', 'Оржицы', 'Ивангород', 'Кириши',\n",
       "       'Луга', 'Пушкин', 'Колпино', 'Оредеж', 'Волосово', 'Янино-1',\n",
       "       'Металлострой', 'Молодёжное', 'Тихвин', 'Кронштадт', 'Победа',\n",
       "       'Нурма', 'Тосно', 'Пикалёво', 'Подпорожье', 'Сестрорецк',\n",
       "       'Токсово', 'Выборг', 'Старая', 'Кузьмоловский', 'Петергоф',\n",
       "       'Севастьяново', 'Кудрово', 'Лопухинка', 'Лесогорский', 'Лаголово',\n",
       "       'Цвелодубово', 'Волхов', 'Мурино', 'Батово', 'Приморск',\n",
       "       'Романовка', 'Сельцо', 'Новая Ладога', 'Тельмана',\n",
       "       'имени Свердлова', 'Рябово', 'Рощино', 'Сланцы', 'Бугры', 'Тайцы',\n",
       "       'Отрадное', 'Калитино', 'Ульяновка', 'Малое Карлино', 'Войсковицы',\n",
       "       'Стрельна', 'Ропша', 'Рабитицы', 'Никольский', 'Назия', 'Репино',\n",
       "       'Лодейное Поле', 'Никольское', 'Синявино', 'Запорожское',\n",
       "       'имени Морозова', 'Зимитицы', 'Коммунар', 'Зеленогорск', 'Павлово',\n",
       "       'Павловск', 'Бокситогорск', 'Светогорск', 'Любань', 'Бегуницы',\n",
       "       'Кривко', 'Агалатово', 'Кузьмолово', 'Мыза-Ивановка', 'Семрино',\n",
       "       'Житково', 'Шпаньково', 'Вещево', 'Гостилицы', 'Возрождение',\n",
       "       'Кикерино', 'Низино', 'Суходолье', 'Рахья', 'Дубровка',\n",
       "       'Большие Колпаны', 'Сясьстрой', 'Горбунки', 'Каменногорск',\n",
       "       'Кипень', 'Аннино', 'Лесная Поляна', 'Жилгородок', 'Лебяжье',\n",
       "       'Новоселье', 'Важины', 'Мга', 'Приладожский', 'Лесколово',\n",
       "       'Лукаши', 'Виллози', 'Русско-Высоцкое', 'Извара', 'Малые Колпаны',\n",
       "       'Кингисеппский', 'Мистолово', 'Большая Ижора', 'Пеники',\n",
       "       'Ефимовский', 'Мельниково', 'Аро', 'Углово', 'Вознесенье',\n",
       "       'Понтонный', 'Юкки', 'Малое Верево', 'Белогорка', 'Сосново',\n",
       "       'Щеглово', 'Пудость', 'Первомайское', 'Кобралово', 'Вартемяги',\n",
       "       'Лесное', 'Барышево', 'Сапёрное', 'Суйда', 'Нижние Осельки',\n",
       "       'Глажево', 'Перово', 'Высоцк', 'Копорье', 'Заневка', 'Шум',\n",
       "       'Петровское', 'Форносово', 'Лужайка', 'Пудомяги', 'Красносельское',\n",
       "       'Пижма', 'Котельский', 'Коробицыно', 'Каськово', 'Стеклянный',\n",
       "       'Терпилицы', 'Глинка', 'Шугозеро', 'Усть-Ижора', 'Свирьстрой',\n",
       "       'Советский', 'Высокоключевой', 'Снегирёвка', 'Громово', 'Вырица',\n",
       "       'Будогощь', 'Большое Рейзино', 'Малая Романовка', 'Елизаветино',\n",
       "       'Гарболово', 'Яльгелево', 'Новая Ропша', 'Красный Бор', 'Келози',\n",
       "       'Новогорелово', 'Заводской', 'Иссад', 'Разметелево', 'Поляны',\n",
       "       'Кузнечное', 'Молодцово', 'Ильичёво', 'Колтуши', 'Паша',\n",
       "       'Чудской Бор', 'Коркино', 'Гаврилово', 'Кобринское', 'Цвылёво',\n",
       "       'Усть-Луга', 'Войскорово', 'Терволово', 'Кальтино',\n",
       "       'Старое Хинколово', 'Мичуринское', 'Дружная Горка', 'Старополье',\n",
       "       'Новый Учхоз', 'Каложицы', 'Фалилеево', 'Белоостров', 'Песочный',\n",
       "       'Парицы', 'Сяськелево', 'Тарасово', 'Старые Бегуницы', 'Ушаки',\n",
       "       'Старая Пустошь', 'Разбегаево', 'Плодовое', 'Лампово', 'Курковицы',\n",
       "       'Лисий Нос', 'Суоранда', 'Кондратьево', 'Счастье', 'Сапёрный',\n",
       "       'Бор', 'Старая Малукса', 'Торфяное', 'Ленинское',\n",
       "       'Кивеннапа Север', 'Ромашки', 'Ям-Тесово', 'Раздолье',\n",
       "       'Рождествено', 'Выскатка', 'Старая Ладога', 'Торосово',\n",
       "       'Пансионат Зелёный Бор', 'Торошковичи', 'Старосиверская',\n",
       "       'Рапполово', 'Пустынка', 'Русско', 'Совхозный', 'Дружноселье',\n",
       "       'Глебычево', 'Пикколово', 'Путилово', 'Мины', 'Меньково',\n",
       "       'Приветнинское', 'Мануйлово', 'Пчева', 'Селезнёво', 'Жилпосёлок',\n",
       "       'Лаврики', 'Сумино', 'Пригородный', 'Красная Долина', 'Хапо-Ое',\n",
       "       'Левашово', 'Камышовка', 'Ялгино', 'Гончарово', 'Почап',\n",
       "       'Платформа 69-й километр', 'Пельгора', 'Алексеевка',\n",
       "       'Серебрянский', 'Котлы', 'Сижно', 'Форт Красная Горка',\n",
       "       'Новолисино', 'Коммунары', 'Починок', 'Гладкое', 'Тёсово-4',\n",
       "       'Большая Вруда', 'Реброво', 'Тойворово', 'Семиозерье', 'Свирь',\n",
       "       'Большая Пустомержа', 'Вахнова Кара', 'Куровицы', 'Плоское',\n",
       "       'Кирпичное', 'Ваганово', 'Пушное', 'Садко', 'Кисельня',\n",
       "       'Трубников Бор', 'Ненимяки', 'Александровская', 'Большой Сабск',\n",
       "       'Лупполово', 'Пчевжа', 'Володарское', 'Тихковицы',\n",
       "       'Борисова Грива', 'Нижняя', 'Дзержинского', 'Хязельки', 'Корнево',\n",
       "       'Петро-Славянка'], dtype=object)"
      ]
     },
     "metadata": {},
     "output_type": "display_data"
    }
   ],
   "source": [
    "print('Пропуски до:',data['locality_name'].isna().sum())#подсчет пропусков в столбце locality_name\n",
    "data = data.dropna(subset=['locality_name']) #удлляем строки с пропусками, так как их немного\n",
    "print('Пропуски после:',data['locality_name'].isna().sum())#подсчетов пропусков после\n",
    "display(data['locality_name'].unique()) #смотрим уникальные значения\n",
    "for name in ['деревня ', 'поселок ','посёлок ','посёлок городского типа ','городской ','село ','садоводческое некоммерческое товарищество ','городского типа ','садовое товарищество ','станции ','при железнодорожной ','коттеджный ']:\n",
    "    data['locality_name'] = data['locality_name'].str.replace(name, '') # так как есть разное написание в типе населенных пунктов, то удалим их из данных, оставив только название\n",
    "display(data['locality_name'].unique()) #посмотрели уникальные значения после переименования"
   ]
  },
  {
   "cell_type": "markdown",
   "metadata": {},
   "source": [
    "Пропусков в столбце locality_name мало и можем смело их удалять и это не повлияет на анализ. Выгрузив уникальные значения мы замечаем, что есть различия в написаниях типов населенных пунктов. Убираем типы, оставляем только названия"
   ]
  },
  {
   "cell_type": "code",
   "execution_count": 12,
   "metadata": {
    "scrolled": true
   },
   "outputs": [
    {
     "name": "stdout",
     "output_type": "stream",
     "text": [
      "Пропуски до: 5501\n",
      "Санкт-Петербург 12242.0\n",
      "Парголово 19311.0\n",
      "Гатчина nan\n",
      "Сертолово nan\n",
      "Фёдоровское nan\n",
      "Кировск nan\n",
      "Новое Девяткино nan\n",
      "Шушары 24212.0\n",
      "Сиверский nan\n",
      "Приозерск nan\n",
      "Куттузи nan\n",
      "Заклинье nan\n",
      "Торковичи nan\n",
      "Красное Село 29148.5\n",
      "Ломоносов 51677.0\n",
      "Всеволожск nan\n",
      "Новый Свет nan\n",
      "Шлиссельбург nan\n",
      "Кингисепп nan\n",
      "Сосновый Бор nan\n",
      "Оржицы nan\n",
      "Ивангород nan\n",
      "Кириши nan\n",
      "Луга nan\n",
      "Пушкин 27930.5\n",
      "Колпино 32018.0\n",
      "Оредеж nan\n",
      "Волосово nan\n",
      "Янино-1 nan\n",
      "Металлострой 27602.0\n",
      "Молодёжное 65764.0\n",
      "Тихвин nan\n",
      "Кронштадт 49575.0\n",
      "Победа nan\n",
      "Нурма nan\n",
      "Тосно nan\n",
      "Пикалёво nan\n",
      "Подпорожье nan\n",
      "Сестрорецк 34821.0\n"
     ]
    },
    {
     "name": "stderr",
     "output_type": "stream",
     "text": [
      "/opt/conda/lib/python3.7/site-packages/numpy/lib/nanfunctions.py:1111: RuntimeWarning: Mean of empty slice\n",
      "  return np.nanmean(a, axis, out=out, keepdims=keepdims)\n"
     ]
    },
    {
     "name": "stdout",
     "output_type": "stream",
     "text": [
      "Токсово nan\n",
      "Выборг nan\n",
      "Старая nan\n",
      "Кузьмоловский nan\n",
      "Петергоф 33771.0\n",
      "Севастьяново nan\n",
      "Кудрово nan\n",
      "Лопухинка nan\n",
      "Лесогорский nan\n",
      "Лаголово nan\n",
      "Цвелодубово nan\n",
      "Волхов nan\n",
      "Мурино nan\n",
      "Батово nan\n",
      "Приморск nan\n",
      "Романовка nan\n",
      "Сельцо nan\n",
      "Новая Ладога nan\n",
      "Тельмана nan\n",
      "имени Свердлова nan\n",
      "Рябово nan\n",
      "Рощино nan\n",
      "Сланцы nan\n",
      "Бугры nan\n",
      "Тайцы nan\n",
      "Отрадное nan\n",
      "Калитино nan\n",
      "Ульяновка nan\n",
      "Малое Карлино nan\n",
      "Войсковицы nan\n",
      "Стрельна 23506.0\n",
      "Ропша nan\n",
      "Рабитицы nan\n",
      "Никольский nan\n",
      "Назия nan\n",
      "Репино 42896.5\n",
      "Лодейное Поле nan\n",
      "Никольское nan\n",
      "Синявино nan\n",
      "Запорожское nan\n",
      "имени Морозова nan\n",
      "Зимитицы nan\n",
      "Коммунар nan\n",
      "Зеленогорск 53381.0\n",
      "Павлово nan\n",
      "Павловск 32683.0\n",
      "Бокситогорск nan\n",
      "Светогорск nan\n",
      "Любань nan\n",
      "Бегуницы nan\n",
      "Кривко nan\n",
      "Агалатово nan\n",
      "Кузьмолово nan\n",
      "Мыза-Ивановка nan\n",
      "Семрино nan\n",
      "Житково nan\n",
      "Шпаньково nan\n",
      "Вещево nan\n",
      "Гостилицы nan\n",
      "Возрождение nan\n",
      "Кикерино nan\n",
      "Низино nan\n",
      "Суходолье nan\n",
      "Рахья nan\n",
      "Дубровка nan\n",
      "Большие Колпаны nan\n",
      "Сясьстрой nan\n",
      "Горбунки nan\n",
      "Каменногорск nan\n",
      "Кипень nan\n",
      "Аннино nan\n",
      "Лесная Поляна nan\n",
      "Жилгородок nan\n",
      "Лебяжье nan\n",
      "Новоселье nan\n",
      "Важины nan\n",
      "Мга nan\n",
      "Приладожский nan\n",
      "Лесколово nan\n",
      "Лукаши nan\n",
      "Виллози nan\n",
      "Русско-Высоцкое nan\n",
      "Извара nan\n",
      "Малые Колпаны nan\n",
      "Кингисеппский nan\n",
      "Мистолово nan\n",
      "Большая Ижора nan\n",
      "Пеники nan\n",
      "Ефимовский nan\n",
      "Мельниково nan\n",
      "Аро nan\n",
      "Углово nan\n",
      "Вознесенье nan\n",
      "Понтонный 32354.0\n",
      "Юкки nan\n",
      "Малое Верево nan\n",
      "Белогорка nan\n",
      "Сосново nan\n",
      "Щеглово nan\n",
      "Пудость nan\n",
      "Первомайское nan\n",
      "Кобралово nan\n",
      "Вартемяги nan\n",
      "Лесное nan\n",
      "Барышево nan\n",
      "Сапёрное nan\n",
      "Суйда nan\n",
      "Нижние Осельки nan\n",
      "Глажево nan\n",
      "Перово nan\n",
      "Высоцк nan\n",
      "Копорье nan\n",
      "Заневка nan\n",
      "Шум nan\n",
      "Петровское nan\n",
      "Форносово nan\n",
      "Лужайка nan\n",
      "Пудомяги nan\n",
      "Красносельское nan\n",
      "Пижма nan\n",
      "Котельский nan\n",
      "Коробицыно nan\n",
      "Каськово nan\n",
      "Стеклянный nan\n",
      "Терпилицы nan\n",
      "Глинка nan\n",
      "Шугозеро nan\n",
      "Усть-Ижора 28222.5\n",
      "Свирьстрой nan\n",
      "Советский nan\n",
      "Высокоключевой nan\n",
      "Снегирёвка nan\n",
      "Громово nan\n",
      "Вырица nan\n",
      "Будогощь nan\n",
      "Большое Рейзино nan\n",
      "Малая Романовка nan\n",
      "Елизаветино nan\n",
      "Гарболово nan\n",
      "Яльгелево nan\n",
      "Новая Ропша nan\n",
      "Красный Бор nan\n",
      "Келози nan\n",
      "Новогорелово nan\n",
      "Заводской nan\n",
      "Иссад nan\n",
      "Разметелево nan\n",
      "Поляны nan\n",
      "Кузнечное nan\n",
      "Молодцово nan\n",
      "Ильичёво nan\n",
      "Колтуши nan\n",
      "Паша nan\n",
      "Чудской Бор nan\n",
      "Коркино nan\n",
      "Гаврилово nan\n",
      "Кобринское nan\n",
      "Цвылёво nan\n",
      "Усть-Луга nan\n",
      "Войскорово nan\n",
      "Терволово nan\n",
      "Кальтино nan\n",
      "Старое Хинколово nan\n",
      "Мичуринское nan\n",
      "Дружная Горка nan\n",
      "Старополье nan\n",
      "Новый Учхоз nan\n",
      "Каложицы nan\n",
      "Фалилеево nan\n",
      "Белоостров 38868.0\n",
      "Песочный 26099.5\n",
      "Парицы nan\n",
      "Сяськелево nan\n",
      "Тарасово nan\n",
      "Старые Бегуницы nan\n",
      "Ушаки nan\n",
      "Старая Пустошь nan\n",
      "Разбегаево nan\n",
      "Плодовое nan\n",
      "Лампово nan\n",
      "Курковицы nan\n",
      "Лисий Нос 28226.0\n",
      "Суоранда nan\n",
      "Кондратьево nan\n",
      "Счастье nan\n",
      "Сапёрный 35859.5\n",
      "Бор nan\n",
      "Старая Малукса nan\n",
      "Торфяное nan\n",
      "Ленинское nan\n",
      "Кивеннапа Север nan\n",
      "Ромашки nan\n",
      "Ям-Тесово nan\n",
      "Раздолье nan\n",
      "Рождествено nan\n",
      "Выскатка nan\n",
      "Старая Ладога nan\n",
      "Торосово nan\n",
      "Пансионат Зелёный Бор nan\n",
      "Торошковичи nan\n",
      "Старосиверская nan\n",
      "Рапполово nan\n",
      "Пустынка nan\n",
      "Русско nan\n",
      "Совхозный nan\n",
      "Дружноселье nan\n",
      "Глебычево nan\n",
      "Пикколово nan\n",
      "Путилово nan\n",
      "Мины nan\n",
      "Меньково nan\n",
      "Приветнинское nan\n",
      "Мануйлово nan\n",
      "Пчева nan\n",
      "Селезнёво nan\n",
      "Жилпосёлок nan\n",
      "Лаврики nan\n",
      "Сумино nan\n",
      "Пригородный nan\n",
      "Красная Долина nan\n",
      "Хапо-Ое nan\n",
      "Левашово 25727.0\n",
      "Камышовка nan\n",
      "Ялгино nan\n",
      "Гончарово nan\n",
      "Почап nan\n",
      "Платформа 69-й километр nan\n",
      "Пельгора nan\n",
      "Алексеевка nan\n",
      "Серебрянский nan\n",
      "Котлы nan\n",
      "Сижно nan\n",
      "Форт Красная Горка nan\n",
      "Новолисино nan\n",
      "Коммунары nan\n",
      "Починок nan\n",
      "Гладкое nan\n",
      "Тёсово-4 nan\n",
      "Большая Вруда nan\n",
      "Реброво nan\n",
      "Тойворово nan\n",
      "Семиозерье nan\n",
      "Свирь nan\n",
      "Большая Пустомержа nan\n",
      "Вахнова Кара nan\n",
      "Куровицы nan\n",
      "Плоское nan\n",
      "Кирпичное nan\n",
      "Ваганово nan\n",
      "Пушное nan\n",
      "Садко nan\n",
      "Кисельня nan\n",
      "Трубников Бор nan\n",
      "Ненимяки nan\n",
      "Александровская 27468.0\n",
      "Большой Сабск nan\n",
      "Лупполово nan\n",
      "Пчевжа nan\n",
      "Володарское nan\n",
      "Тихковицы nan\n",
      "Борисова Грива nan\n",
      "Нижняя nan\n",
      "Дзержинского nan\n",
      "Хязельки nan\n",
      "Корнево nan\n",
      "Петро-Славянка 27165.0\n",
      "Пропуски после: 5432\n",
      "Пропуски после: 0\n"
     ]
    }
   ],
   "source": [
    "print('Пропуски до:',data['cityCenters_nearest'].isna().sum())# подсчет пропусков в столбце cityCenters_nearest\n",
    "for name in data['locality_name'].unique(): #создаем цикл для заполнения пропусков медианными значениями с группировкой по названию населенного пункта\n",
    "    median = data.loc[data['locality_name'] == name, 'cityCenters_nearest'].median() \n",
    "    print(name, median)\n",
    "    data.loc[(data['cityCenters_nearest'].isna()) & (data['locality_name'] == name), 'cityCenters_nearest'] = median\n",
    "print('Пропуски после:',data['cityCenters_nearest'].isna().sum())# повторно считаем пропуски, они остались, так как не для всех населенных пунктов есть данные\n",
    "data.loc[data['cityCenters_nearest'].isna(),'cityCenters_nearest'] = data['cityCenters_nearest'].median() #остальное заполняем медианными значениями всего столбца\n",
    "print('Пропуски после:',data['cityCenters_nearest'].isna().sum())#подсчет пропусков после"
   ]
  },
  {
   "cell_type": "markdown",
   "metadata": {},
   "source": [
    "Пропуски в столбце cityCenters_nearest пробуем сначала заполнить медианными значениями с группировкой по названию (столбец locality_name). Часть пропусков заполнилась, остальные заполняем медианными значениями по всему набору данных столбца cityCenters_nearest."
   ]
  },
  {
   "cell_type": "code",
   "execution_count": 13,
   "metadata": {
    "scrolled": true
   },
   "outputs": [
    {
     "name": "stdout",
     "output_type": "stream",
     "text": [
      "Пропуски до: 5500\n",
      "Санкт-Петербург 0.0\n",
      "Парголово 0.0\n",
      "Гатчина nan\n",
      "Сертолово nan\n",
      "Фёдоровское nan\n",
      "Кировск nan\n",
      "Новое Девяткино nan\n",
      "Шушары 0.0\n",
      "Сиверский nan\n",
      "Приозерск nan\n",
      "Куттузи nan\n",
      "Заклинье nan\n",
      "Торковичи nan\n",
      "Красное Село 0.0\n",
      "Ломоносов 0.0\n",
      "Всеволожск nan\n",
      "Новый Свет nan\n",
      "Шлиссельбург nan\n",
      "Кингисепп nan\n",
      "Сосновый Бор nan\n",
      "Оржицы nan\n",
      "Ивангород nan\n",
      "Кириши nan\n",
      "Луга nan\n",
      "Пушкин 1.0\n",
      "Колпино 0.0\n",
      "Оредеж nan\n",
      "Волосово nan\n",
      "Янино-1 nan\n",
      "Металлострой 0.0\n",
      "Молодёжное 0.0\n",
      "Тихвин nan\n",
      "Кронштадт 2.0\n",
      "Победа nan\n",
      "Нурма nan\n",
      "Тосно nan\n",
      "Пикалёво nan\n",
      "Подпорожье nan\n",
      "Сестрорецк 0.0\n",
      "Токсово nan\n",
      "Выборг nan\n",
      "Старая nan\n",
      "Кузьмоловский nan\n",
      "Петергоф 1.0\n",
      "Севастьяново nan\n",
      "Кудрово nan\n",
      "Лопухинка nan\n",
      "Лесогорский nan\n",
      "Лаголово nan\n",
      "Цвелодубово nan\n",
      "Волхов nan\n",
      "Мурино nan\n",
      "Батово nan\n",
      "Приморск nan\n",
      "Романовка nan\n",
      "Сельцо nan\n",
      "Новая Ладога nan\n",
      "Тельмана nan\n",
      "имени Свердлова nan\n",
      "Рябово nan\n",
      "Рощино nan\n",
      "Сланцы nan\n",
      "Бугры nan\n",
      "Тайцы nan\n",
      "Отрадное nan\n",
      "Калитино nan\n",
      "Ульяновка nan\n",
      "Малое Карлино nan\n",
      "Войсковицы nan\n",
      "Стрельна 0.0\n",
      "Ропша nan\n",
      "Рабитицы nan\n",
      "Никольский nan\n",
      "Назия nan\n",
      "Репино 0.0\n",
      "Лодейное Поле nan\n",
      "Никольское nan\n",
      "Синявино nan\n",
      "Запорожское nan\n",
      "имени Морозова nan\n",
      "Зимитицы nan\n",
      "Коммунар nan\n",
      "Зеленогорск 3.0\n",
      "Павлово nan\n",
      "Павловск 2.0\n",
      "Бокситогорск nan\n",
      "Светогорск nan\n",
      "Любань nan\n",
      "Бегуницы nan\n",
      "Кривко nan\n",
      "Агалатово nan\n",
      "Кузьмолово nan\n",
      "Мыза-Ивановка nan\n",
      "Семрино nan\n",
      "Житково nan\n",
      "Шпаньково nan\n",
      "Вещево nan\n",
      "Гостилицы nan\n",
      "Возрождение nan\n",
      "Кикерино nan\n",
      "Низино nan\n",
      "Суходолье nan\n",
      "Рахья nan\n",
      "Дубровка nan\n",
      "Большие Колпаны nan\n",
      "Сясьстрой nan\n",
      "Горбунки nan\n",
      "Каменногорск nan\n",
      "Кипень nan\n",
      "Аннино nan\n",
      "Лесная Поляна nan\n",
      "Жилгородок nan\n",
      "Лебяжье nan\n",
      "Новоселье nan\n",
      "Важины nan\n",
      "Мга nan\n",
      "Приладожский nan\n",
      "Лесколово nan\n",
      "Лукаши nan\n",
      "Виллози nan\n",
      "Русско-Высоцкое nan\n",
      "Извара nan\n",
      "Малые Колпаны nan\n",
      "Кингисеппский nan\n",
      "Мистолово nan\n",
      "Большая Ижора nan\n",
      "Пеники nan\n",
      "Ефимовский nan\n",
      "Мельниково nan\n",
      "Аро nan\n",
      "Углово nan\n",
      "Вознесенье nan\n",
      "Понтонный 0.0\n",
      "Юкки nan\n",
      "Малое Верево nan\n",
      "Белогорка nan\n",
      "Сосново nan\n",
      "Щеглово nan\n",
      "Пудость nan\n",
      "Первомайское nan\n",
      "Кобралово nan\n",
      "Вартемяги nan\n",
      "Лесное nan\n",
      "Барышево nan\n",
      "Сапёрное nan\n",
      "Суйда nan\n",
      "Нижние Осельки nan\n",
      "Глажево nan\n",
      "Перово nan\n",
      "Высоцк nan\n",
      "Копорье nan\n",
      "Заневка nan\n",
      "Шум nan\n",
      "Петровское nan\n",
      "Форносово nan\n",
      "Лужайка nan\n",
      "Пудомяги nan\n",
      "Красносельское nan\n",
      "Пижма nan\n",
      "Котельский nan\n",
      "Коробицыно nan\n",
      "Каськово nan\n",
      "Стеклянный nan\n",
      "Терпилицы nan\n",
      "Глинка nan\n",
      "Шугозеро nan\n",
      "Усть-Ижора 0.0\n",
      "Свирьстрой nan\n",
      "Советский nan\n",
      "Высокоключевой nan\n",
      "Снегирёвка nan\n",
      "Громово nan\n",
      "Вырица nan\n",
      "Будогощь nan\n",
      "Большое Рейзино nan\n",
      "Малая Романовка nan\n",
      "Елизаветино nan\n",
      "Гарболово nan\n",
      "Яльгелево nan\n",
      "Новая Ропша nan\n",
      "Красный Бор nan\n",
      "Келози nan\n",
      "Новогорелово nan\n",
      "Заводской nan\n",
      "Иссад nan\n",
      "Разметелево nan\n",
      "Поляны nan\n",
      "Кузнечное nan\n",
      "Молодцово nan\n",
      "Ильичёво nan\n",
      "Колтуши nan\n",
      "Паша nan\n",
      "Чудской Бор nan\n",
      "Коркино nan\n",
      "Гаврилово nan\n",
      "Кобринское nan\n",
      "Цвылёво nan\n",
      "Усть-Луга nan\n",
      "Войскорово nan\n",
      "Терволово nan\n",
      "Кальтино nan\n",
      "Старое Хинколово nan\n",
      "Мичуринское nan\n",
      "Дружная Горка nan\n",
      "Старополье nan\n",
      "Новый Учхоз nan\n",
      "Каложицы nan\n",
      "Фалилеево nan\n",
      "Белоостров 0.0\n",
      "Песочный 0.0\n",
      "Парицы nan\n",
      "Сяськелево nan\n",
      "Тарасово nan\n",
      "Старые Бегуницы nan\n",
      "Ушаки nan\n",
      "Старая Пустошь nan\n",
      "Разбегаево nan\n",
      "Плодовое nan\n",
      "Лампово nan\n",
      "Курковицы nan\n",
      "Лисий Нос 0.0\n",
      "Суоранда nan\n",
      "Кондратьево nan\n",
      "Счастье nan\n",
      "Сапёрный 0.0\n",
      "Бор nan\n",
      "Старая Малукса nan\n",
      "Торфяное nan\n",
      "Ленинское nan\n",
      "Кивеннапа Север nan\n",
      "Ромашки nan\n",
      "Ям-Тесово nan\n",
      "Раздолье nan\n",
      "Рождествено nan\n",
      "Выскатка nan\n",
      "Старая Ладога nan\n",
      "Торосово nan\n",
      "Пансионат Зелёный Бор nan\n",
      "Торошковичи nan\n",
      "Старосиверская nan\n",
      "Рапполово nan\n",
      "Пустынка nan\n",
      "Русско nan\n",
      "Совхозный nan\n",
      "Дружноселье nan\n",
      "Глебычево nan\n",
      "Пикколово nan\n",
      "Путилово nan\n",
      "Мины nan\n",
      "Меньково nan\n",
      "Приветнинское nan\n",
      "Мануйлово nan\n",
      "Пчева nan\n",
      "Селезнёво nan\n",
      "Жилпосёлок nan\n",
      "Лаврики nan\n",
      "Сумино nan\n",
      "Пригородный nan\n",
      "Красная Долина nan\n",
      "Хапо-Ое nan\n",
      "Левашово 0.0\n",
      "Камышовка nan\n",
      "Ялгино nan\n",
      "Гончарово nan\n",
      "Почап nan\n",
      "Платформа 69-й километр nan\n",
      "Пельгора nan\n",
      "Алексеевка nan\n",
      "Серебрянский nan\n",
      "Котлы nan\n",
      "Сижно nan\n",
      "Форт Красная Горка nan\n",
      "Новолисино nan\n",
      "Коммунары nan\n",
      "Починок nan\n",
      "Гладкое nan\n",
      "Тёсово-4 nan\n",
      "Большая Вруда nan\n",
      "Реброво nan\n",
      "Тойворово nan\n",
      "Семиозерье nan\n",
      "Свирь nan\n",
      "Большая Пустомержа nan\n",
      "Вахнова Кара nan\n",
      "Куровицы nan\n",
      "Плоское nan\n",
      "Кирпичное nan\n",
      "Ваганово nan\n",
      "Пушное nan\n",
      "Садко nan\n",
      "Кисельня nan\n",
      "Трубников Бор nan\n",
      "Ненимяки nan\n",
      "Александровская 0.0\n",
      "Большой Сабск nan\n",
      "Лупполово nan\n",
      "Пчевжа nan\n",
      "Володарское nan\n",
      "Тихковицы nan\n",
      "Борисова Грива nan\n",
      "Нижняя nan\n",
      "Дзержинского nan\n",
      "Хязельки nan\n",
      "Корнево nan\n",
      "Петро-Славянка 0.0\n",
      "Пропуски после: 5432\n",
      "Пропуски после: 0\n"
     ]
    }
   ],
   "source": [
    "print('Пропуски до:',data['parks_around3000'].isna().sum())# подсчет пропусков в столбце parks_around3000\n",
    "for name in data['locality_name'].unique():#создаем цикл для заполнения пропусков медианными значениями с группировкой по названию населенного пункта\n",
    "    median = data.loc[data['locality_name'] == name, 'parks_around3000'].median()\n",
    "    print(name, median)\n",
    "    data.loc[(data['parks_around3000'].isna()) & (data['locality_name'] == name), 'parks_around3000'] = median\n",
    "print('Пропуски после:',data['parks_around3000'].isna().sum())# повторно считаем пропуски, они остались, так как не для всех населенных пунктов есть данные\n",
    "data.loc[data['parks_around3000'].isna(),'parks_around3000'] = data['parks_around3000'].median()#остальное заполняем медианными значениями всего столбца\n",
    "print('Пропуски после:',data['parks_around3000'].isna().sum())#подсчет пропусков после"
   ]
  },
  {
   "cell_type": "markdown",
   "metadata": {},
   "source": [
    "Пропуски в столбце parks_around3000 также пробуем сначала заполнить медианными значениями с группировкой по названию (столбец locality_name). Часть пропусков заполнилась, остальные заполняем медианными значениями по всему набору данных столбца parks_around3000."
   ]
  },
  {
   "cell_type": "code",
   "execution_count": 14,
   "metadata": {},
   "outputs": [
    {
     "name": "stdout",
     "output_type": "stream",
     "text": [
      "Пропуски до: 15535\n",
      "Санкт-Петербург 460.0\n",
      "Парголово 733.0\n",
      "Гатчина nan\n",
      "Сертолово nan\n",
      "Фёдоровское nan\n",
      "Кировск nan\n",
      "Новое Девяткино nan\n",
      "Шушары nan\n",
      "Сиверский nan\n",
      "Приозерск nan\n",
      "Куттузи nan\n",
      "Заклинье nan\n",
      "Торковичи nan\n",
      "Красное Село 435.0\n",
      "Ломоносов 407.0\n",
      "Всеволожск nan\n",
      "Новый Свет nan\n",
      "Шлиссельбург nan\n",
      "Кингисепп nan\n",
      "Сосновый Бор nan\n",
      "Оржицы nan\n",
      "Ивангород nan\n",
      "Кириши nan\n",
      "Луга nan\n",
      "Пушкин 399.5\n",
      "Колпино 393.0\n",
      "Оредеж nan\n",
      "Волосово nan\n",
      "Янино-1 nan\n",
      "Металлострой nan\n",
      "Молодёжное nan\n",
      "Тихвин nan\n",
      "Кронштадт 293.0\n",
      "Победа nan\n",
      "Нурма nan\n",
      "Тосно nan\n",
      "Пикалёво nan\n",
      "Подпорожье nan\n",
      "Сестрорецк 367.0\n",
      "Токсово nan\n",
      "Выборг nan\n",
      "Старая nan\n",
      "Кузьмоловский nan\n",
      "Петергоф 294.0\n",
      "Севастьяново nan\n",
      "Кудрово nan\n",
      "Лопухинка nan\n",
      "Лесогорский nan\n",
      "Лаголово nan\n"
     ]
    },
    {
     "name": "stderr",
     "output_type": "stream",
     "text": [
      "/opt/conda/lib/python3.7/site-packages/pandas/core/ops/__init__.py:1115: FutureWarning: elementwise comparison failed; returning scalar instead, but in the future will perform elementwise comparison\n",
      "  result = method(y)\n"
     ]
    },
    {
     "name": "stdout",
     "output_type": "stream",
     "text": [
      "Цвелодубово nan\n",
      "Волхов nan\n",
      "Мурино nan\n",
      "Батово nan\n",
      "Приморск nan\n",
      "Романовка nan\n",
      "Сельцо nan\n",
      "Новая Ладога nan\n",
      "Тельмана nan\n",
      "имени Свердлова nan\n",
      "Рябово nan\n",
      "Рощино nan\n",
      "Сланцы nan\n",
      "Бугры nan\n",
      "Тайцы nan\n",
      "Отрадное nan\n",
      "Калитино nan\n",
      "Ульяновка nan\n",
      "Малое Карлино nan\n",
      "Войсковицы nan\n",
      "Стрельна 700.0\n",
      "Ропша nan\n",
      "Рабитицы nan\n",
      "Никольский nan\n",
      "Назия nan\n",
      "Репино nan\n",
      "Лодейное Поле nan\n",
      "Никольское nan\n",
      "Синявино nan\n",
      "Запорожское nan\n",
      "имени Морозова nan\n",
      "Зимитицы nan\n",
      "Коммунар nan\n",
      "Зеленогорск 147.5\n",
      "Павлово nan\n",
      "Павловск 312.0\n",
      "Бокситогорск nan\n",
      "Светогорск nan\n",
      "Любань nan\n",
      "Бегуницы nan\n",
      "Кривко nan\n",
      "Агалатово nan\n",
      "Кузьмолово nan\n",
      "Мыза-Ивановка nan\n",
      "Семрино nan\n",
      "Житково nan\n",
      "Шпаньково nan\n",
      "Вещево nan\n",
      "Гостилицы nan\n",
      "Возрождение nan\n",
      "Кикерино nan\n",
      "Низино nan\n",
      "Суходолье nan\n",
      "Рахья nan\n",
      "Дубровка nan\n",
      "Большие Колпаны nan\n",
      "Сясьстрой nan\n",
      "Горбунки nan\n",
      "Каменногорск nan\n",
      "Кипень nan\n",
      "Аннино nan\n",
      "Лесная Поляна nan\n",
      "Жилгородок nan\n",
      "Лебяжье nan\n",
      "Новоселье nan\n",
      "Важины nan\n",
      "Мга nan\n",
      "Приладожский nan\n",
      "Лесколово nan\n",
      "Лукаши nan\n",
      "Виллози nan\n",
      "Русско-Высоцкое nan\n",
      "Извара nan\n",
      "Малые Колпаны nan\n",
      "Кингисеппский nan\n",
      "Мистолово nan\n",
      "Большая Ижора nan\n",
      "Пеники nan\n",
      "Ефимовский nan\n",
      "Мельниково nan\n",
      "Аро nan\n",
      "Углово nan\n",
      "Вознесенье nan\n",
      "Понтонный nan\n",
      "Юкки nan\n",
      "Малое Верево nan\n",
      "Белогорка nan\n",
      "Сосново nan\n",
      "Щеглово nan\n",
      "Пудость nan\n",
      "Первомайское nan\n",
      "Кобралово nan\n",
      "Вартемяги nan\n",
      "Лесное nan\n",
      "Барышево nan\n",
      "Сапёрное nan\n",
      "Суйда nan\n",
      "Нижние Осельки nan\n",
      "Глажево nan\n",
      "Перово nan\n",
      "Высоцк nan\n",
      "Копорье nan\n",
      "Заневка nan\n",
      "Шум nan\n",
      "Петровское nan\n",
      "Форносово nan\n",
      "Лужайка nan\n",
      "Пудомяги nan\n",
      "Красносельское nan\n",
      "Пижма nan\n",
      "Котельский nan\n",
      "Коробицыно nan\n",
      "Каськово nan\n",
      "Стеклянный nan\n",
      "Терпилицы nan\n",
      "Глинка nan\n",
      "Шугозеро nan\n",
      "Усть-Ижора nan\n",
      "Свирьстрой nan\n",
      "Советский nan\n",
      "Высокоключевой nan\n",
      "Снегирёвка nan\n",
      "Громово nan\n",
      "Вырица nan\n",
      "Будогощь nan\n",
      "Большое Рейзино nan\n",
      "Малая Романовка nan\n",
      "Елизаветино nan\n",
      "Гарболово nan\n",
      "Яльгелево nan\n",
      "Новая Ропша nan\n",
      "Красный Бор nan\n",
      "Келози nan\n",
      "Новогорелово nan\n",
      "Заводской nan\n",
      "Иссад nan\n",
      "Разметелево nan\n",
      "Поляны nan\n",
      "Кузнечное nan\n",
      "Молодцово nan\n",
      "Ильичёво nan\n",
      "Колтуши nan\n",
      "Паша nan\n",
      "Чудской Бор nan\n",
      "Коркино nan\n",
      "Гаврилово nan\n",
      "Кобринское nan\n",
      "Цвылёво nan\n",
      "Усть-Луга nan\n",
      "Войскорово nan\n",
      "Терволово nan\n",
      "Кальтино nan\n",
      "Старое Хинколово nan\n",
      "Мичуринское nan\n",
      "Дружная Горка nan\n",
      "Старополье nan\n",
      "Новый Учхоз nan\n",
      "Каложицы nan\n",
      "Фалилеево nan\n",
      "Белоостров nan\n",
      "Песочный nan\n",
      "Парицы nan\n",
      "Сяськелево nan\n",
      "Тарасово nan\n",
      "Старые Бегуницы nan\n",
      "Ушаки nan\n",
      "Старая Пустошь nan\n",
      "Разбегаево nan\n",
      "Плодовое nan\n",
      "Лампово nan\n",
      "Курковицы nan\n",
      "Лисий Нос nan\n",
      "Суоранда nan\n",
      "Кондратьево nan\n",
      "Счастье nan\n",
      "Сапёрный nan\n",
      "Бор nan\n",
      "Старая Малукса nan\n",
      "Торфяное nan\n",
      "Ленинское nan\n",
      "Кивеннапа Север nan\n",
      "Ромашки nan\n",
      "Ям-Тесово nan\n",
      "Раздолье nan\n",
      "Рождествено nan\n",
      "Выскатка nan\n",
      "Старая Ладога nan\n",
      "Торосово nan\n",
      "Пансионат Зелёный Бор nan\n",
      "Торошковичи nan\n",
      "Старосиверская nan\n",
      "Рапполово nan\n",
      "Пустынка nan\n",
      "Русско nan\n",
      "Совхозный nan\n",
      "Дружноселье nan\n",
      "Глебычево nan\n",
      "Пикколово nan\n",
      "Путилово nan\n",
      "Мины nan\n",
      "Меньково nan\n",
      "Приветнинское nan\n",
      "Мануйлово nan\n",
      "Пчева nan\n",
      "Селезнёво nan\n",
      "Жилпосёлок nan\n",
      "Лаврики nan\n",
      "Сумино nan\n",
      "Пригородный nan\n",
      "Красная Долина nan\n",
      "Хапо-Ое nan\n",
      "Левашово nan\n",
      "Камышовка nan\n",
      "Ялгино nan\n",
      "Гончарово nan\n",
      "Почап nan\n",
      "Платформа 69-й километр nan\n",
      "Пельгора nan\n",
      "Алексеевка nan\n",
      "Серебрянский nan\n",
      "Котлы nan\n",
      "Сижно nan\n",
      "Форт Красная Горка nan\n",
      "Новолисино nan\n",
      "Коммунары nan\n",
      "Починок nan\n",
      "Гладкое nan\n",
      "Тёсово-4 nan\n",
      "Большая Вруда nan\n",
      "Реброво nan\n",
      "Тойворово nan\n",
      "Семиозерье nan\n",
      "Свирь nan\n",
      "Большая Пустомержа nan\n",
      "Вахнова Кара nan\n",
      "Куровицы nan\n",
      "Плоское nan\n",
      "Кирпичное nan\n",
      "Ваганово nan\n",
      "Пушное nan\n",
      "Садко nan\n",
      "Кисельня nan\n",
      "Трубников Бор nan\n",
      "Ненимяки nan\n",
      "Александровская nan\n",
      "Большой Сабск nan\n",
      "Лупполово nan\n",
      "Пчевжа nan\n",
      "Володарское nan\n",
      "Тихковицы nan\n",
      "Борисова Грива nan\n",
      "Нижняя nan\n",
      "Дзержинского nan\n",
      "Хязельки nan\n",
      "Корнево nan\n",
      "Петро-Славянка nan\n",
      "Пропуски после: 15535\n",
      "Пропуски после: 0\n"
     ]
    }
   ],
   "source": [
    "print('Пропуски до:',data['parks_nearest'].isna().sum())# подсчет пропусков в столбце parks_nearest\n",
    "for name in data['locality_name'].unique():#создаем цикл для заполнения пропусков медианными значениями с группировкой по названию населенного пункта\n",
    "    median = data.loc[data['locality_name'] == name, 'parks_nearest'].median()\n",
    "    print(name, median)\n",
    "    data.loc[(data['parks_nearest'].isna()) & (data['parks_nearest'] == name), 'parks_nearest'] = median\n",
    "print('Пропуски после:',data['parks_nearest'].isna().sum())# повторно считаем пропуски, они остались, так как не для всех населенных пунктов есть данные\n",
    "data.loc[data['parks_nearest'].isna(),'parks_nearest'] = data['parks_nearest'].median()#остальное заполняем медианными значениями всего столбца\n",
    "print('Пропуски после:',data['parks_nearest'].isna().sum())#подсчет пропусков после"
   ]
  },
  {
   "cell_type": "markdown",
   "metadata": {},
   "source": [
    "Пропуски в столбце parks_nearest также пробуем сначала заполнить медианными значениями с группировкой по названию (столбец locality_name). Проспуски не заполнились, заполняем медианными значениями по всему набору данных столбца parks_nearest."
   ]
  },
  {
   "cell_type": "code",
   "execution_count": 15,
   "metadata": {},
   "outputs": [
    {
     "name": "stdout",
     "output_type": "stream",
     "text": [
      "Пропуски до: 14529\n",
      "Санкт-Петербург 504.0\n",
      "Парголово 593.0\n",
      "Гатчина nan\n",
      "Сертолово nan\n",
      "Фёдоровское nan\n",
      "Кировск nan\n",
      "Новое Девяткино nan\n",
      "Шушары 584.5\n",
      "Сиверский nan\n",
      "Приозерск nan\n",
      "Куттузи nan\n",
      "Заклинье nan\n",
      "Торковичи nan\n",
      "Красное Село 225.5\n",
      "Ломоносов 553.0\n",
      "Всеволожск nan\n",
      "Новый Свет nan\n",
      "Шлиссельбург nan\n",
      "Кингисепп nan\n",
      "Сосновый Бор nan\n",
      "Оржицы nan\n",
      "Ивангород nan\n",
      "Кириши nan\n",
      "Луга nan\n",
      "Пушкин 444.0\n",
      "Колпино 509.0\n",
      "Оредеж nan\n",
      "Волосово nan\n",
      "Янино-1 nan\n",
      "Металлострой nan\n",
      "Молодёжное nan\n",
      "Тихвин nan\n",
      "Кронштадт 312.0\n",
      "Победа nan\n",
      "Нурма nan\n",
      "Тосно nan\n",
      "Пикалёво nan\n",
      "Подпорожье nan\n",
      "Сестрорецк 372.0\n",
      "Токсово nan\n",
      "Выборг nan\n",
      "Старая nan\n",
      "Кузьмоловский nan\n",
      "Петергоф 474.0\n",
      "Севастьяново nan\n",
      "Кудрово nan\n",
      "Лопухинка nan\n",
      "Лесогорский nan\n",
      "Лаголово nan\n",
      "Цвелодубово nan\n",
      "Волхов nan\n",
      "Мурино nan\n",
      "Батово nan\n",
      "Приморск nan\n",
      "Романовка nan\n",
      "Сельцо nan\n",
      "Новая Ладога nan\n",
      "Тельмана nan\n",
      "имени Свердлова nan\n",
      "Рябово nan\n",
      "Рощино nan\n",
      "Сланцы nan\n",
      "Бугры nan\n",
      "Тайцы nan\n",
      "Отрадное nan\n",
      "Калитино nan\n",
      "Ульяновка nan\n",
      "Малое Карлино nan\n",
      "Войсковицы nan\n",
      "Стрельна 859.0\n",
      "Ропша nan\n",
      "Рабитицы nan\n",
      "Никольский nan\n",
      "Назия nan\n",
      "Репино nan\n",
      "Лодейное Поле nan\n",
      "Никольское nan\n",
      "Синявино nan\n",
      "Запорожское nan\n",
      "имени Морозова nan\n",
      "Зимитицы nan\n",
      "Коммунар nan\n",
      "Зеленогорск 507.0\n",
      "Павлово nan\n",
      "Павловск 458.0\n",
      "Бокситогорск nan\n",
      "Светогорск nan\n",
      "Любань nan\n",
      "Бегуницы nan\n",
      "Кривко nan\n",
      "Агалатово nan\n",
      "Кузьмолово nan\n",
      "Мыза-Ивановка nan\n",
      "Семрино nan\n",
      "Житково nan\n",
      "Шпаньково nan\n",
      "Вещево nan\n",
      "Гостилицы nan\n",
      "Возрождение nan\n",
      "Кикерино nan\n",
      "Низино nan\n",
      "Суходолье nan\n",
      "Рахья nan\n",
      "Дубровка nan\n",
      "Большие Колпаны nan\n",
      "Сясьстрой nan\n",
      "Горбунки nan\n",
      "Каменногорск nan\n",
      "Кипень nan\n",
      "Аннино nan\n",
      "Лесная Поляна nan\n",
      "Жилгородок nan\n",
      "Лебяжье nan\n",
      "Новоселье nan\n",
      "Важины nan\n",
      "Мга nan\n",
      "Приладожский nan\n",
      "Лесколово nan\n",
      "Лукаши nan\n",
      "Виллози nan\n",
      "Русско-Высоцкое nan\n",
      "Извара nan\n",
      "Малые Колпаны nan\n",
      "Кингисеппский nan\n",
      "Мистолово nan\n",
      "Большая Ижора nan\n",
      "Пеники nan\n",
      "Ефимовский nan\n",
      "Мельниково nan\n",
      "Аро nan\n",
      "Углово nan\n",
      "Вознесенье nan\n",
      "Понтонный 638.0\n",
      "Юкки nan\n",
      "Малое Верево nan\n",
      "Белогорка nan\n",
      "Сосново nan\n",
      "Щеглово nan\n",
      "Пудость nan\n",
      "Первомайское nan\n",
      "Кобралово nan\n",
      "Вартемяги nan\n",
      "Лесное nan\n",
      "Барышево nan\n",
      "Сапёрное nan\n",
      "Суйда nan\n",
      "Нижние Осельки nan\n",
      "Глажево nan\n",
      "Перово nan\n",
      "Высоцк nan\n",
      "Копорье nan\n",
      "Заневка nan\n",
      "Шум nan\n",
      "Петровское nan\n",
      "Форносово nan\n",
      "Лужайка nan\n",
      "Пудомяги nan\n",
      "Красносельское nan\n",
      "Пижма nan\n",
      "Котельский nan\n",
      "Коробицыно nan\n",
      "Каськово nan\n",
      "Стеклянный nan\n",
      "Терпилицы nan\n",
      "Глинка nan\n",
      "Шугозеро nan\n",
      "Усть-Ижора nan\n",
      "Свирьстрой nan\n",
      "Советский nan\n",
      "Высокоключевой nan\n",
      "Снегирёвка nan\n",
      "Громово nan\n",
      "Вырица nan\n",
      "Будогощь nan\n",
      "Большое Рейзино nan\n",
      "Малая Романовка nan\n",
      "Елизаветино nan\n",
      "Гарболово nan\n",
      "Яльгелево nan\n",
      "Новая Ропша nan\n",
      "Красный Бор nan\n",
      "Келози nan\n",
      "Новогорелово nan\n",
      "Заводской nan\n",
      "Иссад nan\n",
      "Разметелево nan\n",
      "Поляны nan\n",
      "Кузнечное nan\n",
      "Молодцово nan\n",
      "Ильичёво nan\n",
      "Колтуши nan\n",
      "Паша nan\n",
      "Чудской Бор nan\n",
      "Коркино nan\n",
      "Гаврилово nan\n",
      "Кобринское nan\n",
      "Цвылёво nan\n",
      "Усть-Луга nan\n",
      "Войскорово nan\n",
      "Терволово nan\n",
      "Кальтино nan\n",
      "Старое Хинколово nan\n",
      "Мичуринское nan\n",
      "Дружная Горка nan\n",
      "Старополье nan\n",
      "Новый Учхоз nan\n",
      "Каложицы nan\n",
      "Фалилеево nan\n",
      "Белоостров 320.0\n",
      "Песочный nan\n",
      "Парицы nan\n",
      "Сяськелево nan\n",
      "Тарасово nan\n",
      "Старые Бегуницы nan\n",
      "Ушаки nan\n",
      "Старая Пустошь nan\n",
      "Разбегаево nan\n",
      "Плодовое nan\n",
      "Лампово nan\n",
      "Курковицы nan\n",
      "Лисий Нос nan\n",
      "Суоранда nan\n",
      "Кондратьево nan\n",
      "Счастье nan\n",
      "Сапёрный 419.5\n",
      "Бор nan\n",
      "Старая Малукса nan\n",
      "Торфяное nan\n",
      "Ленинское nan\n",
      "Кивеннапа Север nan\n",
      "Ромашки nan\n",
      "Ям-Тесово nan\n",
      "Раздолье nan\n",
      "Рождествено nan\n",
      "Выскатка nan\n",
      "Старая Ладога nan\n",
      "Торосово nan\n",
      "Пансионат Зелёный Бор nan\n",
      "Торошковичи nan\n",
      "Старосиверская nan\n",
      "Рапполово nan\n",
      "Пустынка nan\n",
      "Русско nan\n",
      "Совхозный nan\n",
      "Дружноселье nan\n",
      "Глебычево nan\n",
      "Пикколово nan\n",
      "Путилово nan\n",
      "Мины nan\n",
      "Меньково nan\n",
      "Приветнинское nan\n",
      "Мануйлово nan\n",
      "Пчева nan\n",
      "Селезнёво nan\n",
      "Жилпосёлок nan\n",
      "Лаврики nan\n",
      "Сумино nan\n",
      "Пригородный nan\n",
      "Красная Долина nan\n",
      "Хапо-Ое nan\n",
      "Левашово nan\n",
      "Камышовка nan\n",
      "Ялгино nan\n",
      "Гончарово nan\n",
      "Почап nan\n",
      "Платформа 69-й километр nan\n",
      "Пельгора nan\n",
      "Алексеевка nan\n",
      "Серебрянский nan\n",
      "Котлы nan\n",
      "Сижно nan\n",
      "Форт Красная Горка nan\n",
      "Новолисино nan\n",
      "Коммунары nan\n",
      "Починок nan\n",
      "Гладкое nan\n",
      "Тёсово-4 nan\n",
      "Большая Вруда nan\n",
      "Реброво nan\n",
      "Тойворово nan\n",
      "Семиозерье nan\n",
      "Свирь nan\n",
      "Большая Пустомержа nan\n",
      "Вахнова Кара nan\n",
      "Куровицы nan\n",
      "Плоское nan\n",
      "Кирпичное nan\n",
      "Ваганово nan\n",
      "Пушное nan\n",
      "Садко nan\n",
      "Кисельня nan\n",
      "Трубников Бор nan\n",
      "Ненимяки nan\n",
      "Александровская 711.5\n",
      "Большой Сабск nan\n",
      "Лупполово nan\n",
      "Пчевжа nan\n",
      "Володарское nan\n",
      "Тихковицы nan\n",
      "Борисова Грива nan\n",
      "Нижняя nan\n",
      "Дзержинского nan\n",
      "Хязельки nan\n",
      "Корнево nan\n",
      "Петро-Славянка 663.0\n",
      "Пропуски после: 14529\n",
      "Пропуски после: 0\n"
     ]
    }
   ],
   "source": [
    "print('Пропуски до:',data['ponds_nearest'].isna().sum())# подсчет пропусков в столбце ponds_nearest\n",
    "for name in data['locality_name'].unique():#создаем цикл для заполнения пропусков медианными значениями с группировкой по названию населенного пункта\n",
    "    median = data.loc[data['locality_name'] == name, 'ponds_nearest'].median()\n",
    "    print(name, median)\n",
    "    data.loc[(data['ponds_nearest'].isna()) & (data['ponds_nearest'] == name), 'ponds_nearest'] = median\n",
    "print('Пропуски после:',data['ponds_nearest'].isna().sum())# повторно считаем пропуски, они остались, так как не для всех населенных пунктов есть данные\n",
    "data.loc[data['ponds_nearest'].isna(),'ponds_nearest'] = data['ponds_nearest'].median()#остальное заполняем медианными значениями всего столбца\n",
    "print('Пропуски после:',data['ponds_nearest'].isna().sum())#подсчет пропусков после"
   ]
  },
  {
   "cell_type": "markdown",
   "metadata": {},
   "source": [
    "Пропуски в столбце ponds_nearest также пробуем сначала заполнить медианными значениями с группировкой по названию (столбец locality_name). Проспуски не заполнились, заполняем медианными значениями по всему набору данных столбца ponds_nearest."
   ]
  },
  {
   "cell_type": "code",
   "execution_count": 16,
   "metadata": {
    "scrolled": true
   },
   "outputs": [
    {
     "name": "stdout",
     "output_type": "stream",
     "text": [
      "Пропуски до: 5500\n",
      "Санкт-Петербург 1.0\n",
      "Парголово 0.0\n",
      "Гатчина nan\n",
      "Сертолово nan\n",
      "Фёдоровское nan\n",
      "Кировск nan\n",
      "Новое Девяткино nan\n",
      "Шушары 0.0\n",
      "Сиверский nan\n",
      "Приозерск nan\n",
      "Куттузи nan\n",
      "Заклинье nan\n",
      "Торковичи nan\n",
      "Красное Село 0.0\n",
      "Ломоносов 1.0\n",
      "Всеволожск nan\n",
      "Новый Свет nan\n",
      "Шлиссельбург nan\n",
      "Кингисепп nan\n",
      "Сосновый Бор nan\n",
      "Оржицы nan\n",
      "Ивангород nan\n",
      "Кириши nan\n",
      "Луга nan\n",
      "Пушкин 0.0\n",
      "Колпино 1.0\n",
      "Оредеж nan\n",
      "Волосово nan\n",
      "Янино-1 nan\n",
      "Металлострой 0.0\n",
      "Молодёжное 0.0\n",
      "Тихвин nan\n",
      "Кронштадт 2.0\n",
      "Победа nan\n",
      "Нурма nan\n",
      "Тосно nan\n",
      "Пикалёво nan\n",
      "Подпорожье nan\n",
      "Сестрорецк 1.0\n",
      "Токсово nan\n",
      "Выборг nan\n",
      "Старая nan\n",
      "Кузьмоловский nan\n",
      "Петергоф 1.0\n",
      "Севастьяново nan\n",
      "Кудрово nan\n",
      "Лопухинка nan\n",
      "Лесогорский nan\n",
      "Лаголово nan\n",
      "Цвелодубово nan\n",
      "Волхов nan\n",
      "Мурино nan\n",
      "Батово nan\n",
      "Приморск nan\n",
      "Романовка nan\n",
      "Сельцо nan\n",
      "Новая Ладога nan\n",
      "Тельмана nan\n",
      "имени Свердлова nan\n",
      "Рябово nan\n",
      "Рощино nan\n",
      "Сланцы nan\n",
      "Бугры nan\n",
      "Тайцы nan\n",
      "Отрадное nan\n",
      "Калитино nan\n",
      "Ульяновка nan\n",
      "Малое Карлино nan\n",
      "Войсковицы nan\n",
      "Стрельна 1.0\n",
      "Ропша nan\n",
      "Рабитицы nan\n",
      "Никольский nan\n",
      "Назия nan\n",
      "Репино 0.0\n",
      "Лодейное Поле nan\n",
      "Никольское nan\n",
      "Синявино nan\n",
      "Запорожское nan\n",
      "имени Морозова nan\n",
      "Зимитицы nan\n",
      "Коммунар nan\n",
      "Зеленогорск 1.0\n",
      "Павлово nan\n",
      "Павловск 2.0\n",
      "Бокситогорск nan\n",
      "Светогорск nan\n",
      "Любань nan\n",
      "Бегуницы nan\n",
      "Кривко nan\n",
      "Агалатово nan\n",
      "Кузьмолово nan\n",
      "Мыза-Ивановка nan\n",
      "Семрино nan\n",
      "Житково nan\n",
      "Шпаньково nan\n",
      "Вещево nan\n",
      "Гостилицы nan\n",
      "Возрождение nan\n",
      "Кикерино nan\n",
      "Низино nan\n",
      "Суходолье nan\n",
      "Рахья nan\n",
      "Дубровка nan\n",
      "Большие Колпаны nan\n",
      "Сясьстрой nan\n",
      "Горбунки nan\n",
      "Каменногорск nan\n",
      "Кипень nan\n",
      "Аннино nan\n",
      "Лесная Поляна nan\n",
      "Жилгородок nan\n",
      "Лебяжье nan\n",
      "Новоселье nan\n",
      "Важины nan\n",
      "Мга nan\n",
      "Приладожский nan\n",
      "Лесколово nan\n",
      "Лукаши nan\n",
      "Виллози nan\n",
      "Русско-Высоцкое nan\n",
      "Извара nan\n",
      "Малые Колпаны nan\n",
      "Кингисеппский nan\n",
      "Мистолово nan\n",
      "Большая Ижора nan\n",
      "Пеники nan\n",
      "Ефимовский nan\n",
      "Мельниково nan\n",
      "Аро nan\n",
      "Углово nan\n",
      "Вознесенье nan\n",
      "Понтонный 0.0\n",
      "Юкки nan\n",
      "Малое Верево nan\n",
      "Белогорка nan\n",
      "Сосново nan\n",
      "Щеглово nan\n",
      "Пудость nan\n",
      "Первомайское nan\n",
      "Кобралово nan\n",
      "Вартемяги nan\n",
      "Лесное nan\n",
      "Барышево nan\n",
      "Сапёрное nan\n",
      "Суйда nan\n",
      "Нижние Осельки nan\n",
      "Глажево nan\n",
      "Перово nan\n",
      "Высоцк nan\n",
      "Копорье nan\n",
      "Заневка nan\n",
      "Шум nan\n",
      "Петровское nan\n",
      "Форносово nan\n",
      "Лужайка nan\n",
      "Пудомяги nan\n",
      "Красносельское nan\n",
      "Пижма nan\n",
      "Котельский nan\n",
      "Коробицыно nan\n",
      "Каськово nan\n",
      "Стеклянный nan\n",
      "Терпилицы nan\n",
      "Глинка nan\n",
      "Шугозеро nan\n",
      "Усть-Ижора 0.0\n",
      "Свирьстрой nan\n",
      "Советский nan\n",
      "Высокоключевой nan\n",
      "Снегирёвка nan\n",
      "Громово nan\n",
      "Вырица nan\n",
      "Будогощь nan\n",
      "Большое Рейзино nan\n",
      "Малая Романовка nan\n",
      "Елизаветино nan\n",
      "Гарболово nan\n",
      "Яльгелево nan\n",
      "Новая Ропша nan\n",
      "Красный Бор nan\n",
      "Келози nan\n",
      "Новогорелово nan\n",
      "Заводской nan\n",
      "Иссад nan\n",
      "Разметелево nan\n",
      "Поляны nan\n",
      "Кузнечное nan\n",
      "Молодцово nan\n",
      "Ильичёво nan\n",
      "Колтуши nan\n",
      "Паша nan\n",
      "Чудской Бор nan\n",
      "Коркино nan\n",
      "Гаврилово nan\n",
      "Кобринское nan\n",
      "Цвылёво nan\n",
      "Усть-Луга nan\n",
      "Войскорово nan\n",
      "Терволово nan\n",
      "Кальтино nan\n",
      "Старое Хинколово nan\n",
      "Мичуринское nan\n",
      "Дружная Горка nan\n",
      "Старополье nan\n",
      "Новый Учхоз nan\n",
      "Каложицы nan\n",
      "Фалилеево nan\n",
      "Белоостров 1.0\n",
      "Песочный 0.0\n",
      "Парицы nan\n",
      "Сяськелево nan\n",
      "Тарасово nan\n",
      "Старые Бегуницы nan\n",
      "Ушаки nan\n",
      "Старая Пустошь nan\n",
      "Разбегаево nan\n",
      "Плодовое nan\n",
      "Лампово nan\n",
      "Курковицы nan\n",
      "Лисий Нос 0.0\n",
      "Суоранда nan\n",
      "Кондратьево nan\n",
      "Счастье nan\n",
      "Сапёрный 1.0\n",
      "Бор nan\n",
      "Старая Малукса nan\n",
      "Торфяное nan\n",
      "Ленинское nan\n",
      "Кивеннапа Север nan\n",
      "Ромашки nan\n",
      "Ям-Тесово nan\n",
      "Раздолье nan\n",
      "Рождествено nan\n",
      "Выскатка nan\n",
      "Старая Ладога nan\n",
      "Торосово nan\n",
      "Пансионат Зелёный Бор nan\n",
      "Торошковичи nan\n",
      "Старосиверская nan\n",
      "Рапполово nan\n",
      "Пустынка nan\n",
      "Русско nan\n",
      "Совхозный nan\n",
      "Дружноселье nan\n",
      "Глебычево nan\n",
      "Пикколово nan\n",
      "Путилово nan\n",
      "Мины nan\n",
      "Меньково nan\n",
      "Приветнинское nan\n",
      "Мануйлово nan\n",
      "Пчева nan\n",
      "Селезнёво nan\n",
      "Жилпосёлок nan\n",
      "Лаврики nan\n",
      "Сумино nan\n",
      "Пригородный nan\n",
      "Красная Долина nan\n",
      "Хапо-Ое nan\n",
      "Левашово 0.0\n",
      "Камышовка nan\n",
      "Ялгино nan\n",
      "Гончарово nan\n",
      "Почап nan\n",
      "Платформа 69-й километр nan\n",
      "Пельгора nan\n",
      "Алексеевка nan\n",
      "Серебрянский nan\n",
      "Котлы nan\n",
      "Сижно nan\n",
      "Форт Красная Горка nan\n",
      "Новолисино nan\n",
      "Коммунары nan\n",
      "Починок nan\n",
      "Гладкое nan\n",
      "Тёсово-4 nan\n",
      "Большая Вруда nan\n",
      "Реброво nan\n",
      "Тойворово nan\n",
      "Семиозерье nan\n",
      "Свирь nan\n",
      "Большая Пустомержа nan\n",
      "Вахнова Кара nan\n",
      "Куровицы nan\n",
      "Плоское nan\n",
      "Кирпичное nan\n",
      "Ваганово nan\n",
      "Пушное nan\n",
      "Садко nan\n",
      "Кисельня nan\n",
      "Трубников Бор nan\n",
      "Ненимяки nan\n",
      "Александровская 1.0\n",
      "Большой Сабск nan\n",
      "Лупполово nan\n",
      "Пчевжа nan\n",
      "Володарское nan\n",
      "Тихковицы nan\n",
      "Борисова Грива nan\n",
      "Нижняя nan\n",
      "Дзержинского nan\n",
      "Хязельки nan\n",
      "Корнево nan\n",
      "Петро-Славянка 2.0\n",
      "Пропуски после: 5500\n",
      "Пропуски после: 0\n"
     ]
    }
   ],
   "source": [
    "print('Пропуски до:',data['ponds_around3000'].isna().sum())# подсчет пропусков в столбце ponds_around3000\n",
    "for name in data['locality_name'].unique():#создаем цикл для заполнения пропусков медианными значениями с группировкой по названию населенного пункта\n",
    "    median = data.loc[data['locality_name'] == name, 'ponds_around3000'].median()\n",
    "    print(name, median)\n",
    "    data.loc[(data['ponds_around3000'].isna()) & (data['ponds_around3000'] == name), 'ponds_around3000'] = median\n",
    "print('Пропуски после:',data['ponds_around3000'].isna().sum())# повторно считаем пропуски, они остались, так как не для всех населенных пунктов есть данные\n",
    "data.loc[data['ponds_around3000'].isna(),'ponds_around3000'] = data['ponds_around3000'].median()#остальное заполняем медианными значениями всего столбца\n",
    "print('Пропуски после:',data['ponds_around3000'].isna().sum())#подсчет пропусков после"
   ]
  },
  {
   "cell_type": "markdown",
   "metadata": {},
   "source": [
    "Пропуски в столбце ponds_around3000 также пробуем сначала заполнить медианными значениями с группировкой по названию (столбец locality_name). Проспуски не заполнились, заполняем медианными значениями по всему набору данных столбца ponds_around3000."
   ]
  },
  {
   "cell_type": "code",
   "execution_count": 17,
   "metadata": {},
   "outputs": [
    {
     "name": "stdout",
     "output_type": "stream",
     "text": [
      "Пропуски до: 5524\n",
      "Санкт-Петербург 26763.0\n",
      "Парголово 53426.0\n",
      "Гатчина nan\n",
      "Сертолово nan\n",
      "Фёдоровское nan\n",
      "Кировск nan\n",
      "Новое Девяткино nan\n",
      "Шушары 17427.0\n",
      "Сиверский nan\n",
      "Приозерск nan\n",
      "Куттузи nan\n",
      "Заклинье nan\n",
      "Торковичи nan\n",
      "Красное Село 25723.5\n",
      "Ломоносов 48415.5\n",
      "Всеволожск nan\n",
      "Новый Свет nan\n",
      "Шлиссельбург nan\n",
      "Кингисепп nan\n",
      "Сосновый Бор nan\n",
      "Оржицы nan\n",
      "Ивангород nan\n",
      "Кириши nan\n",
      "Луга nan\n",
      "Пушкин 15766.0\n",
      "Колпино 26232.0\n",
      "Оредеж nan\n",
      "Волосово nan\n",
      "Янино-1 nan\n",
      "Металлострой 25758.0\n",
      "Молодёжное 84665.0\n",
      "Тихвин nan\n",
      "Кронштадт 67850.0\n",
      "Победа nan\n",
      "Нурма nan\n",
      "Тосно nan\n",
      "Пикалёво nan\n",
      "Подпорожье nan\n",
      "Сестрорецк 56692.0\n",
      "Токсово nan\n",
      "Выборг nan\n",
      "Старая nan\n",
      "Кузьмоловский nan\n",
      "Петергоф 39231.0\n",
      "Севастьяново nan\n",
      "Кудрово nan\n",
      "Лопухинка nan\n",
      "Лесогорский nan\n",
      "Лаголово nan\n",
      "Цвелодубово nan\n",
      "Волхов nan\n",
      "Мурино nan\n",
      "Батово nan\n",
      "Приморск nan\n",
      "Романовка nan\n",
      "Сельцо nan\n",
      "Новая Ладога nan\n",
      "Тельмана nan\n",
      "имени Свердлова nan\n",
      "Рябово nan\n",
      "Рощино nan\n",
      "Сланцы nan\n",
      "Бугры nan\n",
      "Тайцы nan\n",
      "Отрадное nan\n",
      "Калитино nan\n",
      "Ульяновка nan\n",
      "Малое Карлино nan\n",
      "Войсковицы nan\n",
      "Стрельна 28317.0\n",
      "Ропша nan\n",
      "Рабитицы nan\n",
      "Никольский nan\n",
      "Назия nan\n",
      "Репино 61797.5\n",
      "Лодейное Поле nan\n",
      "Никольское nan\n",
      "Синявино nan\n",
      "Запорожское nan\n",
      "имени Морозова nan\n",
      "Зимитицы nan\n",
      "Коммунар nan\n",
      "Зеленогорск 72282.0\n",
      "Павлово nan\n",
      "Павловск 20529.5\n",
      "Бокситогорск nan\n",
      "Светогорск nan\n",
      "Любань nan\n",
      "Бегуницы nan\n",
      "Кривко nan\n",
      "Агалатово nan\n",
      "Кузьмолово nan\n",
      "Мыза-Ивановка nan\n",
      "Семрино nan\n",
      "Житково nan\n",
      "Шпаньково nan\n",
      "Вещево nan\n",
      "Гостилицы nan\n",
      "Возрождение nan\n",
      "Кикерино nan\n",
      "Низино nan\n",
      "Суходолье nan\n",
      "Рахья nan\n",
      "Дубровка nan\n",
      "Большие Колпаны nan\n",
      "Сясьстрой nan\n",
      "Горбунки nan\n",
      "Каменногорск nan\n",
      "Кипень nan\n",
      "Аннино nan\n",
      "Лесная Поляна nan\n",
      "Жилгородок nan\n",
      "Лебяжье nan\n",
      "Новоселье nan\n",
      "Важины nan\n",
      "Мга nan\n",
      "Приладожский nan\n",
      "Лесколово nan\n",
      "Лукаши nan\n",
      "Виллози nan\n",
      "Русско-Высоцкое nan\n",
      "Извара nan\n",
      "Малые Колпаны nan\n",
      "Кингисеппский nan\n",
      "Мистолово nan\n",
      "Большая Ижора nan\n",
      "Пеники nan\n",
      "Ефимовский nan\n",
      "Мельниково nan\n",
      "Аро nan\n",
      "Углово nan\n",
      "Вознесенье nan\n",
      "Понтонный 30642.0\n",
      "Юкки nan\n",
      "Малое Верево nan\n",
      "Белогорка nan\n",
      "Сосново nan\n",
      "Щеглово nan\n",
      "Пудость nan\n",
      "Первомайское nan\n",
      "Кобралово nan\n",
      "Вартемяги nan\n",
      "Лесное nan\n",
      "Барышево nan\n",
      "Сапёрное nan\n",
      "Суйда nan\n",
      "Нижние Осельки nan\n",
      "Глажево nan\n",
      "Перово nan\n",
      "Высоцк nan\n",
      "Копорье nan\n",
      "Заневка nan\n",
      "Шум nan\n",
      "Петровское nan\n",
      "Форносово nan\n",
      "Лужайка nan\n",
      "Пудомяги nan\n",
      "Красносельское nan\n",
      "Пижма nan\n",
      "Котельский nan\n",
      "Коробицыно nan\n",
      "Каськово nan\n",
      "Стеклянный nan\n",
      "Терпилицы nan\n",
      "Глинка nan\n",
      "Шугозеро nan\n",
      "Усть-Ижора 26510.5\n",
      "Свирьстрой nan\n",
      "Советский nan\n",
      "Высокоключевой nan\n",
      "Снегирёвка nan\n",
      "Громово nan\n",
      "Вырица nan\n",
      "Будогощь nan\n",
      "Большое Рейзино nan\n",
      "Малая Романовка nan\n",
      "Елизаветино nan\n",
      "Гарболово nan\n",
      "Яльгелево nan\n",
      "Новая Ропша nan\n",
      "Красный Бор nan\n",
      "Келози nan\n",
      "Новогорелово nan\n",
      "Заводской nan\n",
      "Иссад nan\n",
      "Разметелево nan\n",
      "Поляны nan\n",
      "Кузнечное nan\n",
      "Молодцово nan\n",
      "Ильичёво nan\n",
      "Колтуши nan\n",
      "Паша nan\n",
      "Чудской Бор nan\n",
      "Коркино nan\n",
      "Гаврилово nan\n",
      "Кобринское nan\n",
      "Цвылёво nan\n",
      "Усть-Луга nan\n",
      "Войскорово nan\n",
      "Терволово nan\n",
      "Кальтино nan\n",
      "Старое Хинколово nan\n",
      "Мичуринское nan\n",
      "Дружная Горка nan\n",
      "Старополье nan\n",
      "Новый Учхоз nan\n",
      "Каложицы nan\n",
      "Фалилеево nan\n",
      "Белоостров 57769.0\n",
      "Песочный 54831.5\n",
      "Парицы nan\n",
      "Сяськелево nan\n",
      "Тарасово nan\n",
      "Старые Бегуницы nan\n",
      "Ушаки nan\n",
      "Старая Пустошь nan\n",
      "Разбегаево nan\n",
      "Плодовое nan\n",
      "Лампово nan\n",
      "Курковицы nan\n",
      "Лисий Нос 55909.0\n",
      "Суоранда nan\n",
      "Кондратьево nan\n",
      "Счастье nan\n",
      "Сапёрный 34147.5\n",
      "Бор nan\n",
      "Старая Малукса nan\n",
      "Торфяное nan\n",
      "Ленинское nan\n",
      "Кивеннапа Север nan\n",
      "Ромашки nan\n",
      "Ям-Тесово nan\n",
      "Раздолье nan\n",
      "Рождествено nan\n",
      "Выскатка nan\n",
      "Старая Ладога nan\n",
      "Торосово nan\n",
      "Пансионат Зелёный Бор nan\n",
      "Торошковичи nan\n",
      "Старосиверская nan\n",
      "Рапполово nan\n",
      "Пустынка nan\n",
      "Русско nan\n",
      "Совхозный nan\n",
      "Дружноселье nan\n",
      "Глебычево nan\n",
      "Пикколово nan\n",
      "Путилово nan\n",
      "Мины nan\n",
      "Меньково nan\n",
      "Приветнинское nan\n",
      "Мануйлово nan\n",
      "Пчева nan\n",
      "Селезнёво nan\n",
      "Жилпосёлок nan\n",
      "Лаврики nan\n",
      "Сумино nan\n",
      "Пригородный nan\n",
      "Красная Долина nan\n",
      "Хапо-Ое nan\n",
      "Левашово 52693.0\n",
      "Камышовка nan\n",
      "Ялгино nan\n",
      "Гончарово nan\n",
      "Почап nan\n",
      "Платформа 69-й километр nan\n",
      "Пельгора nan\n",
      "Алексеевка nan\n",
      "Серебрянский nan\n",
      "Котлы nan\n",
      "Сижно nan\n",
      "Форт Красная Горка nan\n",
      "Новолисино nan\n",
      "Коммунары nan\n",
      "Починок nan\n",
      "Гладкое nan\n",
      "Тёсово-4 nan\n",
      "Большая Вруда nan\n",
      "Реброво nan\n",
      "Тойворово nan\n",
      "Семиозерье nan\n",
      "Свирь nan\n",
      "Большая Пустомержа nan\n",
      "Вахнова Кара nan\n",
      "Куровицы nan\n",
      "Плоское nan\n",
      "Кирпичное nan\n",
      "Ваганово nan\n",
      "Пушное nan\n",
      "Садко nan\n",
      "Кисельня nan\n",
      "Трубников Бор nan\n",
      "Ненимяки nan\n",
      "Александровская 12896.5\n",
      "Большой Сабск nan\n",
      "Лупполово nan\n",
      "Пчевжа nan\n",
      "Володарское nan\n",
      "Тихковицы nan\n",
      "Борисова Грива nan\n",
      "Нижняя nan\n",
      "Дзержинского nan\n",
      "Хязельки nan\n",
      "Корнево nan\n",
      "Петро-Славянка 20605.0\n",
      "Пропуски после: 5524\n",
      "Пропуски после: 0\n"
     ]
    }
   ],
   "source": [
    "print('Пропуски до:',data['airports_nearest'].isna().sum())# подсчет пропусков в столбце airports_nearest\n",
    "for name in data['locality_name'].unique():#создаем цикл для заполнения пропусков медианными значениями с группировкой по названию населенного пункта\n",
    "    median = data.loc[data['locality_name'] == name, 'airports_nearest'].median()\n",
    "    print(name, median)\n",
    "    data.loc[(data['airports_nearest'].isna()) & (data['airports_nearest'] == name), 'airports_nearest'] = median\n",
    "\n",
    "print('Пропуски после:',data['airports_nearest'].isna().sum())## повторно считаем пропуски, они остались, так как не для всех населенных пунктов есть данные\n",
    "data.loc[data['airports_nearest'].isna(),'airports_nearest'] = data['airports_nearest'].median()#остальное заполняем медианными значениями всего столбца\n",
    "print('Пропуски после:',data['airports_nearest'].isna().sum())#подсчет пропусков после"
   ]
  },
  {
   "cell_type": "markdown",
   "metadata": {},
   "source": [
    "Пропуски в столбце airports_nearest также пробуем сначала заполнить медианными значениями с группировкой по названию (столбец locality_name). Проспуски не заполнились, заполняем медианными значениями по всему набору данных столбца airports_nearest."
   ]
  },
  {
   "cell_type": "code",
   "execution_count": 18,
   "metadata": {},
   "outputs": [
    {
     "data": {
      "text/html": [
       "<div>\n",
       "<style scoped>\n",
       "    .dataframe tbody tr th:only-of-type {\n",
       "        vertical-align: middle;\n",
       "    }\n",
       "\n",
       "    .dataframe tbody tr th {\n",
       "        vertical-align: top;\n",
       "    }\n",
       "\n",
       "    .dataframe thead th {\n",
       "        text-align: right;\n",
       "    }\n",
       "</style>\n",
       "<table border=\"1\" class=\"dataframe\">\n",
       "  <thead>\n",
       "    <tr style=\"text-align: right;\">\n",
       "      <th></th>\n",
       "      <th>total_images</th>\n",
       "      <th>last_price</th>\n",
       "      <th>total_area</th>\n",
       "      <th>first_day_exposition</th>\n",
       "      <th>rooms</th>\n",
       "      <th>ceiling_height</th>\n",
       "      <th>floors_total</th>\n",
       "      <th>living_area</th>\n",
       "      <th>floor</th>\n",
       "      <th>is_apartment</th>\n",
       "      <th>studio</th>\n",
       "      <th>open_plan</th>\n",
       "      <th>kitchen_area</th>\n",
       "      <th>balcony</th>\n",
       "      <th>locality_name</th>\n",
       "      <th>airports_nearest</th>\n",
       "      <th>cityCenters_nearest</th>\n",
       "      <th>parks_around3000</th>\n",
       "      <th>parks_nearest</th>\n",
       "      <th>ponds_around3000</th>\n",
       "      <th>ponds_nearest</th>\n",
       "      <th>days_exposition</th>\n",
       "      <th>median_living_area</th>\n",
       "      <th>median_kitchen_area</th>\n",
       "      <th>days_exposition_missing</th>\n",
       "    </tr>\n",
       "  </thead>\n",
       "  <tbody>\n",
       "    <tr>\n",
       "      <td>23573</td>\n",
       "      <td>7</td>\n",
       "      <td>22160000.0</td>\n",
       "      <td>277.6</td>\n",
       "      <td>2017-08-19</td>\n",
       "      <td>7</td>\n",
       "      <td>3.80</td>\n",
       "      <td>6</td>\n",
       "      <td>211.0</td>\n",
       "      <td>3</td>\n",
       "      <td>False</td>\n",
       "      <td>False</td>\n",
       "      <td>False</td>\n",
       "      <td>17.8</td>\n",
       "      <td>0</td>\n",
       "      <td>Санкт-Петербург</td>\n",
       "      <td>25761.0</td>\n",
       "      <td>5671.0</td>\n",
       "      <td>2.0</td>\n",
       "      <td>375.0</td>\n",
       "      <td>1.0</td>\n",
       "      <td>479.0</td>\n",
       "      <td>22.0</td>\n",
       "      <td>145.00</td>\n",
       "      <td>20.00</td>\n",
       "      <td>0</td>\n",
       "    </tr>\n",
       "    <tr>\n",
       "      <td>23574</td>\n",
       "      <td>8</td>\n",
       "      <td>15000000.0</td>\n",
       "      <td>145.2</td>\n",
       "      <td>2019-03-07</td>\n",
       "      <td>7</td>\n",
       "      <td>2.65</td>\n",
       "      <td>2</td>\n",
       "      <td>115.0</td>\n",
       "      <td>2</td>\n",
       "      <td>False</td>\n",
       "      <td>False</td>\n",
       "      <td>False</td>\n",
       "      <td>15.0</td>\n",
       "      <td>0</td>\n",
       "      <td>Санкт-Петербург</td>\n",
       "      <td>26288.0</td>\n",
       "      <td>5135.0</td>\n",
       "      <td>1.0</td>\n",
       "      <td>545.0</td>\n",
       "      <td>0.0</td>\n",
       "      <td>503.0</td>\n",
       "      <td>NaN</td>\n",
       "      <td>145.00</td>\n",
       "      <td>20.00</td>\n",
       "      <td>1</td>\n",
       "    </tr>\n",
       "    <tr>\n",
       "      <td>23575</td>\n",
       "      <td>19</td>\n",
       "      <td>130000000.0</td>\n",
       "      <td>431.0</td>\n",
       "      <td>2017-10-02</td>\n",
       "      <td>7</td>\n",
       "      <td>3.70</td>\n",
       "      <td>8</td>\n",
       "      <td>220.0</td>\n",
       "      <td>5</td>\n",
       "      <td>False</td>\n",
       "      <td>False</td>\n",
       "      <td>False</td>\n",
       "      <td>20.0</td>\n",
       "      <td>5</td>\n",
       "      <td>Санкт-Петербург</td>\n",
       "      <td>26757.0</td>\n",
       "      <td>12242.0</td>\n",
       "      <td>0.0</td>\n",
       "      <td>455.0</td>\n",
       "      <td>1.0</td>\n",
       "      <td>503.0</td>\n",
       "      <td>161.0</td>\n",
       "      <td>145.00</td>\n",
       "      <td>20.00</td>\n",
       "      <td>0</td>\n",
       "    </tr>\n",
       "    <tr>\n",
       "      <td>23576</td>\n",
       "      <td>12</td>\n",
       "      <td>19500000.0</td>\n",
       "      <td>287.5</td>\n",
       "      <td>2017-12-27</td>\n",
       "      <td>7</td>\n",
       "      <td>2.65</td>\n",
       "      <td>4</td>\n",
       "      <td>183.7</td>\n",
       "      <td>3</td>\n",
       "      <td>False</td>\n",
       "      <td>False</td>\n",
       "      <td>False</td>\n",
       "      <td>26.0</td>\n",
       "      <td>0</td>\n",
       "      <td>Санкт-Петербург</td>\n",
       "      <td>21881.0</td>\n",
       "      <td>4726.0</td>\n",
       "      <td>1.0</td>\n",
       "      <td>578.0</td>\n",
       "      <td>1.0</td>\n",
       "      <td>853.0</td>\n",
       "      <td>90.0</td>\n",
       "      <td>145.00</td>\n",
       "      <td>20.00</td>\n",
       "      <td>0</td>\n",
       "    </tr>\n",
       "    <tr>\n",
       "      <td>23577</td>\n",
       "      <td>20</td>\n",
       "      <td>22000000.0</td>\n",
       "      <td>141.0</td>\n",
       "      <td>2019-01-24</td>\n",
       "      <td>7</td>\n",
       "      <td>2.65</td>\n",
       "      <td>5</td>\n",
       "      <td>84.0</td>\n",
       "      <td>2</td>\n",
       "      <td>False</td>\n",
       "      <td>False</td>\n",
       "      <td>False</td>\n",
       "      <td>25.0</td>\n",
       "      <td>0</td>\n",
       "      <td>Санкт-Петербург</td>\n",
       "      <td>20243.0</td>\n",
       "      <td>3334.0</td>\n",
       "      <td>2.0</td>\n",
       "      <td>447.0</td>\n",
       "      <td>1.0</td>\n",
       "      <td>468.0</td>\n",
       "      <td>90.0</td>\n",
       "      <td>145.00</td>\n",
       "      <td>20.00</td>\n",
       "      <td>0</td>\n",
       "    </tr>\n",
       "    <tr>\n",
       "      <td>23578</td>\n",
       "      <td>12</td>\n",
       "      <td>25000000.0</td>\n",
       "      <td>196.0</td>\n",
       "      <td>2016-11-04</td>\n",
       "      <td>7</td>\n",
       "      <td>3.50</td>\n",
       "      <td>6</td>\n",
       "      <td>145.0</td>\n",
       "      <td>5</td>\n",
       "      <td>False</td>\n",
       "      <td>False</td>\n",
       "      <td>False</td>\n",
       "      <td>17.0</td>\n",
       "      <td>1</td>\n",
       "      <td>Санкт-Петербург</td>\n",
       "      <td>25083.0</td>\n",
       "      <td>3658.0</td>\n",
       "      <td>1.0</td>\n",
       "      <td>552.0</td>\n",
       "      <td>0.0</td>\n",
       "      <td>503.0</td>\n",
       "      <td>NaN</td>\n",
       "      <td>145.00</td>\n",
       "      <td>20.00</td>\n",
       "      <td>1</td>\n",
       "    </tr>\n",
       "    <tr>\n",
       "      <td>23579</td>\n",
       "      <td>18</td>\n",
       "      <td>22900000.0</td>\n",
       "      <td>206.0</td>\n",
       "      <td>2016-04-04</td>\n",
       "      <td>7</td>\n",
       "      <td>2.65</td>\n",
       "      <td>6</td>\n",
       "      <td>142.0</td>\n",
       "      <td>2</td>\n",
       "      <td>False</td>\n",
       "      <td>False</td>\n",
       "      <td>False</td>\n",
       "      <td>16.2</td>\n",
       "      <td>0</td>\n",
       "      <td>Санкт-Петербург</td>\n",
       "      <td>25079.0</td>\n",
       "      <td>5544.0</td>\n",
       "      <td>0.0</td>\n",
       "      <td>455.0</td>\n",
       "      <td>1.0</td>\n",
       "      <td>251.0</td>\n",
       "      <td>75.0</td>\n",
       "      <td>145.00</td>\n",
       "      <td>20.00</td>\n",
       "      <td>0</td>\n",
       "    </tr>\n",
       "    <tr>\n",
       "      <td>23580</td>\n",
       "      <td>17</td>\n",
       "      <td>30000000.0</td>\n",
       "      <td>213.0</td>\n",
       "      <td>2017-09-28</td>\n",
       "      <td>7</td>\n",
       "      <td>3.40</td>\n",
       "      <td>5</td>\n",
       "      <td>151.4</td>\n",
       "      <td>5</td>\n",
       "      <td>False</td>\n",
       "      <td>False</td>\n",
       "      <td>False</td>\n",
       "      <td>30.8</td>\n",
       "      <td>0</td>\n",
       "      <td>Санкт-Петербург</td>\n",
       "      <td>21146.0</td>\n",
       "      <td>1225.0</td>\n",
       "      <td>2.0</td>\n",
       "      <td>342.0</td>\n",
       "      <td>3.0</td>\n",
       "      <td>30.0</td>\n",
       "      <td>299.0</td>\n",
       "      <td>145.00</td>\n",
       "      <td>20.00</td>\n",
       "      <td>0</td>\n",
       "    </tr>\n",
       "    <tr>\n",
       "      <td>23581</td>\n",
       "      <td>5</td>\n",
       "      <td>15350000.0</td>\n",
       "      <td>158.5</td>\n",
       "      <td>2019-03-07</td>\n",
       "      <td>7</td>\n",
       "      <td>2.95</td>\n",
       "      <td>7</td>\n",
       "      <td>57.4</td>\n",
       "      <td>7</td>\n",
       "      <td>False</td>\n",
       "      <td>False</td>\n",
       "      <td>False</td>\n",
       "      <td>12.4</td>\n",
       "      <td>1</td>\n",
       "      <td>Санкт-Петербург</td>\n",
       "      <td>23546.0</td>\n",
       "      <td>3088.0</td>\n",
       "      <td>1.0</td>\n",
       "      <td>347.0</td>\n",
       "      <td>0.0</td>\n",
       "      <td>503.0</td>\n",
       "      <td>NaN</td>\n",
       "      <td>145.00</td>\n",
       "      <td>20.00</td>\n",
       "      <td>1</td>\n",
       "    </tr>\n",
       "    <tr>\n",
       "      <td>23582</td>\n",
       "      <td>3</td>\n",
       "      <td>17500000.0</td>\n",
       "      <td>183.7</td>\n",
       "      <td>2018-07-01</td>\n",
       "      <td>11</td>\n",
       "      <td>3.40</td>\n",
       "      <td>7</td>\n",
       "      <td>138.8</td>\n",
       "      <td>7</td>\n",
       "      <td>False</td>\n",
       "      <td>False</td>\n",
       "      <td>False</td>\n",
       "      <td>13.3</td>\n",
       "      <td>0</td>\n",
       "      <td>Санкт-Петербург</td>\n",
       "      <td>23606.0</td>\n",
       "      <td>3148.0</td>\n",
       "      <td>0.0</td>\n",
       "      <td>455.0</td>\n",
       "      <td>0.0</td>\n",
       "      <td>503.0</td>\n",
       "      <td>NaN</td>\n",
       "      <td>133.90</td>\n",
       "      <td>12.60</td>\n",
       "      <td>1</td>\n",
       "    </tr>\n",
       "    <tr>\n",
       "      <td>23583</td>\n",
       "      <td>8</td>\n",
       "      <td>33000000.0</td>\n",
       "      <td>194.1</td>\n",
       "      <td>2017-02-07</td>\n",
       "      <td>11</td>\n",
       "      <td>3.43</td>\n",
       "      <td>5</td>\n",
       "      <td>129.0</td>\n",
       "      <td>2</td>\n",
       "      <td>False</td>\n",
       "      <td>False</td>\n",
       "      <td>False</td>\n",
       "      <td>11.9</td>\n",
       "      <td>0</td>\n",
       "      <td>Санкт-Петербург</td>\n",
       "      <td>21469.0</td>\n",
       "      <td>1015.0</td>\n",
       "      <td>1.0</td>\n",
       "      <td>686.0</td>\n",
       "      <td>2.0</td>\n",
       "      <td>66.0</td>\n",
       "      <td>813.0</td>\n",
       "      <td>133.90</td>\n",
       "      <td>12.60</td>\n",
       "      <td>0</td>\n",
       "    </tr>\n",
       "    <tr>\n",
       "      <td>23584</td>\n",
       "      <td>7</td>\n",
       "      <td>16500000.0</td>\n",
       "      <td>229.0</td>\n",
       "      <td>2016-02-25</td>\n",
       "      <td>8</td>\n",
       "      <td>2.65</td>\n",
       "      <td>6</td>\n",
       "      <td>160.0</td>\n",
       "      <td>5</td>\n",
       "      <td>False</td>\n",
       "      <td>False</td>\n",
       "      <td>False</td>\n",
       "      <td>25.0</td>\n",
       "      <td>0</td>\n",
       "      <td>Санкт-Петербург</td>\n",
       "      <td>23968.0</td>\n",
       "      <td>4536.0</td>\n",
       "      <td>1.0</td>\n",
       "      <td>243.0</td>\n",
       "      <td>0.0</td>\n",
       "      <td>503.0</td>\n",
       "      <td>806.0</td>\n",
       "      <td>161.00</td>\n",
       "      <td>25.00</td>\n",
       "      <td>0</td>\n",
       "    </tr>\n",
       "    <tr>\n",
       "      <td>23585</td>\n",
       "      <td>13</td>\n",
       "      <td>22190000.0</td>\n",
       "      <td>191.2</td>\n",
       "      <td>2017-12-05</td>\n",
       "      <td>8</td>\n",
       "      <td>2.90</td>\n",
       "      <td>6</td>\n",
       "      <td>115.8</td>\n",
       "      <td>1</td>\n",
       "      <td>False</td>\n",
       "      <td>False</td>\n",
       "      <td>False</td>\n",
       "      <td>5.0</td>\n",
       "      <td>0</td>\n",
       "      <td>Санкт-Петербург</td>\n",
       "      <td>21589.0</td>\n",
       "      <td>1152.0</td>\n",
       "      <td>1.0</td>\n",
       "      <td>587.0</td>\n",
       "      <td>2.0</td>\n",
       "      <td>155.0</td>\n",
       "      <td>115.0</td>\n",
       "      <td>161.00</td>\n",
       "      <td>25.00</td>\n",
       "      <td>0</td>\n",
       "    </tr>\n",
       "    <tr>\n",
       "      <td>23586</td>\n",
       "      <td>11</td>\n",
       "      <td>150000000.0</td>\n",
       "      <td>230.0</td>\n",
       "      <td>2017-10-25</td>\n",
       "      <td>8</td>\n",
       "      <td>2.65</td>\n",
       "      <td>8</td>\n",
       "      <td>220.0</td>\n",
       "      <td>8</td>\n",
       "      <td>False</td>\n",
       "      <td>False</td>\n",
       "      <td>False</td>\n",
       "      <td>25.0</td>\n",
       "      <td>0</td>\n",
       "      <td>Санкт-Петербург</td>\n",
       "      <td>25525.0</td>\n",
       "      <td>5845.0</td>\n",
       "      <td>2.0</td>\n",
       "      <td>116.0</td>\n",
       "      <td>0.0</td>\n",
       "      <td>503.0</td>\n",
       "      <td>135.0</td>\n",
       "      <td>161.00</td>\n",
       "      <td>25.00</td>\n",
       "      <td>0</td>\n",
       "    </tr>\n",
       "    <tr>\n",
       "      <td>23587</td>\n",
       "      <td>5</td>\n",
       "      <td>16100000.0</td>\n",
       "      <td>150.0</td>\n",
       "      <td>2018-07-10</td>\n",
       "      <td>8</td>\n",
       "      <td>2.92</td>\n",
       "      <td>5</td>\n",
       "      <td>107.0</td>\n",
       "      <td>1</td>\n",
       "      <td>False</td>\n",
       "      <td>False</td>\n",
       "      <td>False</td>\n",
       "      <td>7.2</td>\n",
       "      <td>0</td>\n",
       "      <td>Санкт-Петербург</td>\n",
       "      <td>26080.0</td>\n",
       "      <td>4782.0</td>\n",
       "      <td>2.0</td>\n",
       "      <td>473.0</td>\n",
       "      <td>0.0</td>\n",
       "      <td>503.0</td>\n",
       "      <td>NaN</td>\n",
       "      <td>161.00</td>\n",
       "      <td>25.00</td>\n",
       "      <td>1</td>\n",
       "    </tr>\n",
       "    <tr>\n",
       "      <td>23588</td>\n",
       "      <td>13</td>\n",
       "      <td>36900000.0</td>\n",
       "      <td>347.5</td>\n",
       "      <td>2017-09-14</td>\n",
       "      <td>8</td>\n",
       "      <td>2.65</td>\n",
       "      <td>4</td>\n",
       "      <td>160.0</td>\n",
       "      <td>1</td>\n",
       "      <td>False</td>\n",
       "      <td>False</td>\n",
       "      <td>False</td>\n",
       "      <td>40.0</td>\n",
       "      <td>0</td>\n",
       "      <td>Колпино</td>\n",
       "      <td>28346.0</td>\n",
       "      <td>34132.0</td>\n",
       "      <td>1.0</td>\n",
       "      <td>1809.0</td>\n",
       "      <td>2.0</td>\n",
       "      <td>241.0</td>\n",
       "      <td>249.0</td>\n",
       "      <td>161.00</td>\n",
       "      <td>25.00</td>\n",
       "      <td>0</td>\n",
       "    </tr>\n",
       "    <tr>\n",
       "      <td>23589</td>\n",
       "      <td>4</td>\n",
       "      <td>24000000.0</td>\n",
       "      <td>316.3</td>\n",
       "      <td>2015-03-25</td>\n",
       "      <td>8</td>\n",
       "      <td>2.65</td>\n",
       "      <td>5</td>\n",
       "      <td>187.0</td>\n",
       "      <td>5</td>\n",
       "      <td>False</td>\n",
       "      <td>False</td>\n",
       "      <td>False</td>\n",
       "      <td>25.0</td>\n",
       "      <td>0</td>\n",
       "      <td>Санкт-Петербург</td>\n",
       "      <td>24555.0</td>\n",
       "      <td>5129.0</td>\n",
       "      <td>0.0</td>\n",
       "      <td>455.0</td>\n",
       "      <td>1.0</td>\n",
       "      <td>934.0</td>\n",
       "      <td>542.0</td>\n",
       "      <td>161.00</td>\n",
       "      <td>25.00</td>\n",
       "      <td>0</td>\n",
       "    </tr>\n",
       "    <tr>\n",
       "      <td>23590</td>\n",
       "      <td>8</td>\n",
       "      <td>19900000.0</td>\n",
       "      <td>210.3</td>\n",
       "      <td>2016-04-18</td>\n",
       "      <td>8</td>\n",
       "      <td>3.30</td>\n",
       "      <td>5</td>\n",
       "      <td>144.6</td>\n",
       "      <td>2</td>\n",
       "      <td>False</td>\n",
       "      <td>False</td>\n",
       "      <td>False</td>\n",
       "      <td>23.6</td>\n",
       "      <td>0</td>\n",
       "      <td>Санкт-Петербург</td>\n",
       "      <td>24770.0</td>\n",
       "      <td>5864.0</td>\n",
       "      <td>2.0</td>\n",
       "      <td>283.0</td>\n",
       "      <td>0.0</td>\n",
       "      <td>503.0</td>\n",
       "      <td>102.0</td>\n",
       "      <td>161.00</td>\n",
       "      <td>25.00</td>\n",
       "      <td>0</td>\n",
       "    </tr>\n",
       "    <tr>\n",
       "      <td>23591</td>\n",
       "      <td>2</td>\n",
       "      <td>35300000.0</td>\n",
       "      <td>235.0</td>\n",
       "      <td>2018-11-15</td>\n",
       "      <td>8</td>\n",
       "      <td>4.00</td>\n",
       "      <td>4</td>\n",
       "      <td>162.0</td>\n",
       "      <td>3</td>\n",
       "      <td>False</td>\n",
       "      <td>False</td>\n",
       "      <td>False</td>\n",
       "      <td>26.0</td>\n",
       "      <td>0</td>\n",
       "      <td>Санкт-Петербург</td>\n",
       "      <td>19728.0</td>\n",
       "      <td>1799.0</td>\n",
       "      <td>3.0</td>\n",
       "      <td>123.0</td>\n",
       "      <td>3.0</td>\n",
       "      <td>50.0</td>\n",
       "      <td>7.0</td>\n",
       "      <td>161.00</td>\n",
       "      <td>25.00</td>\n",
       "      <td>0</td>\n",
       "    </tr>\n",
       "    <tr>\n",
       "      <td>23592</td>\n",
       "      <td>4</td>\n",
       "      <td>15800000.0</td>\n",
       "      <td>236.4</td>\n",
       "      <td>2015-02-19</td>\n",
       "      <td>8</td>\n",
       "      <td>2.65</td>\n",
       "      <td>6</td>\n",
       "      <td>176.6</td>\n",
       "      <td>6</td>\n",
       "      <td>False</td>\n",
       "      <td>False</td>\n",
       "      <td>False</td>\n",
       "      <td>22.6</td>\n",
       "      <td>0</td>\n",
       "      <td>Санкт-Петербург</td>\n",
       "      <td>20221.0</td>\n",
       "      <td>1802.0</td>\n",
       "      <td>3.0</td>\n",
       "      <td>571.0</td>\n",
       "      <td>3.0</td>\n",
       "      <td>441.0</td>\n",
       "      <td>921.0</td>\n",
       "      <td>161.00</td>\n",
       "      <td>25.00</td>\n",
       "      <td>0</td>\n",
       "    </tr>\n",
       "    <tr>\n",
       "      <td>23593</td>\n",
       "      <td>20</td>\n",
       "      <td>180000000.0</td>\n",
       "      <td>347.0</td>\n",
       "      <td>2015-01-21</td>\n",
       "      <td>8</td>\n",
       "      <td>3.90</td>\n",
       "      <td>6</td>\n",
       "      <td>260.0</td>\n",
       "      <td>3</td>\n",
       "      <td>False</td>\n",
       "      <td>False</td>\n",
       "      <td>False</td>\n",
       "      <td>45.0</td>\n",
       "      <td>0</td>\n",
       "      <td>Санкт-Петербург</td>\n",
       "      <td>23962.0</td>\n",
       "      <td>3794.0</td>\n",
       "      <td>2.0</td>\n",
       "      <td>537.0</td>\n",
       "      <td>3.0</td>\n",
       "      <td>501.0</td>\n",
       "      <td>834.0</td>\n",
       "      <td>161.00</td>\n",
       "      <td>25.00</td>\n",
       "      <td>0</td>\n",
       "    </tr>\n",
       "    <tr>\n",
       "      <td>23594</td>\n",
       "      <td>7</td>\n",
       "      <td>18000000.0</td>\n",
       "      <td>245.0</td>\n",
       "      <td>2017-04-06</td>\n",
       "      <td>8</td>\n",
       "      <td>3.54</td>\n",
       "      <td>5</td>\n",
       "      <td>155.0</td>\n",
       "      <td>2</td>\n",
       "      <td>False</td>\n",
       "      <td>False</td>\n",
       "      <td>False</td>\n",
       "      <td>25.0</td>\n",
       "      <td>0</td>\n",
       "      <td>Санкт-Петербург</td>\n",
       "      <td>22215.0</td>\n",
       "      <td>2424.0</td>\n",
       "      <td>1.0</td>\n",
       "      <td>867.0</td>\n",
       "      <td>1.0</td>\n",
       "      <td>340.0</td>\n",
       "      <td>357.0</td>\n",
       "      <td>161.00</td>\n",
       "      <td>25.00</td>\n",
       "      <td>0</td>\n",
       "    </tr>\n",
       "    <tr>\n",
       "      <td>23595</td>\n",
       "      <td>20</td>\n",
       "      <td>68000000.0</td>\n",
       "      <td>373.1</td>\n",
       "      <td>2018-09-08</td>\n",
       "      <td>8</td>\n",
       "      <td>2.65</td>\n",
       "      <td>8</td>\n",
       "      <td>176.2</td>\n",
       "      <td>8</td>\n",
       "      <td>False</td>\n",
       "      <td>False</td>\n",
       "      <td>False</td>\n",
       "      <td>29.4</td>\n",
       "      <td>0</td>\n",
       "      <td>Санкт-Петербург</td>\n",
       "      <td>37965.0</td>\n",
       "      <td>7873.0</td>\n",
       "      <td>1.0</td>\n",
       "      <td>562.0</td>\n",
       "      <td>3.0</td>\n",
       "      <td>691.0</td>\n",
       "      <td>234.0</td>\n",
       "      <td>161.00</td>\n",
       "      <td>25.00</td>\n",
       "      <td>0</td>\n",
       "    </tr>\n",
       "    <tr>\n",
       "      <td>23596</td>\n",
       "      <td>5</td>\n",
       "      <td>25000000.0</td>\n",
       "      <td>363.0</td>\n",
       "      <td>2017-12-23</td>\n",
       "      <td>14</td>\n",
       "      <td>3.16</td>\n",
       "      <td>5</td>\n",
       "      <td>222.0</td>\n",
       "      <td>4</td>\n",
       "      <td>False</td>\n",
       "      <td>False</td>\n",
       "      <td>False</td>\n",
       "      <td>16.6</td>\n",
       "      <td>0</td>\n",
       "      <td>Санкт-Петербург</td>\n",
       "      <td>38076.0</td>\n",
       "      <td>7950.0</td>\n",
       "      <td>0.0</td>\n",
       "      <td>455.0</td>\n",
       "      <td>2.0</td>\n",
       "      <td>435.0</td>\n",
       "      <td>418.0</td>\n",
       "      <td>195.15</td>\n",
       "      <td>21.25</td>\n",
       "      <td>0</td>\n",
       "    </tr>\n",
       "    <tr>\n",
       "      <td>23597</td>\n",
       "      <td>6</td>\n",
       "      <td>28659000.0</td>\n",
       "      <td>245.4</td>\n",
       "      <td>2016-03-31</td>\n",
       "      <td>14</td>\n",
       "      <td>2.65</td>\n",
       "      <td>4</td>\n",
       "      <td>168.3</td>\n",
       "      <td>2</td>\n",
       "      <td>False</td>\n",
       "      <td>False</td>\n",
       "      <td>False</td>\n",
       "      <td>25.9</td>\n",
       "      <td>0</td>\n",
       "      <td>Санкт-Петербург</td>\n",
       "      <td>21104.0</td>\n",
       "      <td>2054.0</td>\n",
       "      <td>3.0</td>\n",
       "      <td>541.0</td>\n",
       "      <td>2.0</td>\n",
       "      <td>118.0</td>\n",
       "      <td>95.0</td>\n",
       "      <td>195.15</td>\n",
       "      <td>21.25</td>\n",
       "      <td>0</td>\n",
       "    </tr>\n",
       "    <tr>\n",
       "      <td>23598</td>\n",
       "      <td>6</td>\n",
       "      <td>23000000.0</td>\n",
       "      <td>272.6</td>\n",
       "      <td>2018-01-11</td>\n",
       "      <td>10</td>\n",
       "      <td>3.14</td>\n",
       "      <td>7</td>\n",
       "      <td>145.9</td>\n",
       "      <td>7</td>\n",
       "      <td>False</td>\n",
       "      <td>False</td>\n",
       "      <td>False</td>\n",
       "      <td>18.8</td>\n",
       "      <td>1</td>\n",
       "      <td>Санкт-Петербург</td>\n",
       "      <td>10726.0</td>\n",
       "      <td>12169.0</td>\n",
       "      <td>1.0</td>\n",
       "      <td>191.0</td>\n",
       "      <td>1.0</td>\n",
       "      <td>531.0</td>\n",
       "      <td>NaN</td>\n",
       "      <td>161.40</td>\n",
       "      <td>19.80</td>\n",
       "      <td>1</td>\n",
       "    </tr>\n",
       "    <tr>\n",
       "      <td>23599</td>\n",
       "      <td>4</td>\n",
       "      <td>15500000.0</td>\n",
       "      <td>216.1</td>\n",
       "      <td>2016-07-04</td>\n",
       "      <td>10</td>\n",
       "      <td>3.15</td>\n",
       "      <td>5</td>\n",
       "      <td>161.4</td>\n",
       "      <td>2</td>\n",
       "      <td>False</td>\n",
       "      <td>False</td>\n",
       "      <td>False</td>\n",
       "      <td>19.8</td>\n",
       "      <td>0</td>\n",
       "      <td>Санкт-Петербург</td>\n",
       "      <td>24353.0</td>\n",
       "      <td>4921.0</td>\n",
       "      <td>1.0</td>\n",
       "      <td>368.0</td>\n",
       "      <td>0.0</td>\n",
       "      <td>503.0</td>\n",
       "      <td>11.0</td>\n",
       "      <td>161.40</td>\n",
       "      <td>19.80</td>\n",
       "      <td>0</td>\n",
       "    </tr>\n",
       "    <tr>\n",
       "      <td>23600</td>\n",
       "      <td>11</td>\n",
       "      <td>40000000.0</td>\n",
       "      <td>290.0</td>\n",
       "      <td>2016-06-21</td>\n",
       "      <td>10</td>\n",
       "      <td>3.50</td>\n",
       "      <td>6</td>\n",
       "      <td>189.4</td>\n",
       "      <td>6</td>\n",
       "      <td>False</td>\n",
       "      <td>False</td>\n",
       "      <td>False</td>\n",
       "      <td>30.0</td>\n",
       "      <td>1</td>\n",
       "      <td>Санкт-Петербург</td>\n",
       "      <td>26229.0</td>\n",
       "      <td>4932.0</td>\n",
       "      <td>3.0</td>\n",
       "      <td>316.0</td>\n",
       "      <td>1.0</td>\n",
       "      <td>227.0</td>\n",
       "      <td>77.0</td>\n",
       "      <td>161.40</td>\n",
       "      <td>19.80</td>\n",
       "      <td>0</td>\n",
       "    </tr>\n",
       "    <tr>\n",
       "      <td>23601</td>\n",
       "      <td>20</td>\n",
       "      <td>65000000.0</td>\n",
       "      <td>590.0</td>\n",
       "      <td>2019-02-14</td>\n",
       "      <td>15</td>\n",
       "      <td>3.50</td>\n",
       "      <td>6</td>\n",
       "      <td>409.0</td>\n",
       "      <td>3</td>\n",
       "      <td>False</td>\n",
       "      <td>False</td>\n",
       "      <td>False</td>\n",
       "      <td>100.0</td>\n",
       "      <td>0</td>\n",
       "      <td>Санкт-Петербург</td>\n",
       "      <td>24447.0</td>\n",
       "      <td>4666.0</td>\n",
       "      <td>1.0</td>\n",
       "      <td>767.0</td>\n",
       "      <td>0.0</td>\n",
       "      <td>503.0</td>\n",
       "      <td>14.0</td>\n",
       "      <td>409.00</td>\n",
       "      <td>100.00</td>\n",
       "      <td>0</td>\n",
       "    </tr>\n",
       "    <tr>\n",
       "      <td>23602</td>\n",
       "      <td>14</td>\n",
       "      <td>49968900.0</td>\n",
       "      <td>398.0</td>\n",
       "      <td>2017-07-12</td>\n",
       "      <td>9</td>\n",
       "      <td>3.00</td>\n",
       "      <td>2</td>\n",
       "      <td>160.1</td>\n",
       "      <td>1</td>\n",
       "      <td>False</td>\n",
       "      <td>False</td>\n",
       "      <td>False</td>\n",
       "      <td>41.0</td>\n",
       "      <td>0</td>\n",
       "      <td>Санкт-Петербург</td>\n",
       "      <td>17720.0</td>\n",
       "      <td>16722.0</td>\n",
       "      <td>3.0</td>\n",
       "      <td>471.0</td>\n",
       "      <td>2.0</td>\n",
       "      <td>440.0</td>\n",
       "      <td>471.0</td>\n",
       "      <td>179.20</td>\n",
       "      <td>14.30</td>\n",
       "      <td>0</td>\n",
       "    </tr>\n",
       "    <tr>\n",
       "      <td>23603</td>\n",
       "      <td>12</td>\n",
       "      <td>17000000.0</td>\n",
       "      <td>235.0</td>\n",
       "      <td>2018-07-14</td>\n",
       "      <td>9</td>\n",
       "      <td>3.00</td>\n",
       "      <td>6</td>\n",
       "      <td>179.2</td>\n",
       "      <td>3</td>\n",
       "      <td>False</td>\n",
       "      <td>False</td>\n",
       "      <td>False</td>\n",
       "      <td>14.3</td>\n",
       "      <td>0</td>\n",
       "      <td>Санкт-Петербург</td>\n",
       "      <td>24466.0</td>\n",
       "      <td>5034.0</td>\n",
       "      <td>1.0</td>\n",
       "      <td>346.0</td>\n",
       "      <td>0.0</td>\n",
       "      <td>503.0</td>\n",
       "      <td>90.0</td>\n",
       "      <td>179.20</td>\n",
       "      <td>14.30</td>\n",
       "      <td>0</td>\n",
       "    </tr>\n",
       "    <tr>\n",
       "      <td>23604</td>\n",
       "      <td>10</td>\n",
       "      <td>23500000.0</td>\n",
       "      <td>313.0</td>\n",
       "      <td>2017-02-13</td>\n",
       "      <td>9</td>\n",
       "      <td>3.20</td>\n",
       "      <td>6</td>\n",
       "      <td>179.2</td>\n",
       "      <td>5</td>\n",
       "      <td>False</td>\n",
       "      <td>False</td>\n",
       "      <td>False</td>\n",
       "      <td>13.2</td>\n",
       "      <td>0</td>\n",
       "      <td>Санкт-Петербург</td>\n",
       "      <td>38435.0</td>\n",
       "      <td>10138.0</td>\n",
       "      <td>1.0</td>\n",
       "      <td>146.0</td>\n",
       "      <td>0.0</td>\n",
       "      <td>503.0</td>\n",
       "      <td>NaN</td>\n",
       "      <td>179.20</td>\n",
       "      <td>14.30</td>\n",
       "      <td>1</td>\n",
       "    </tr>\n",
       "    <tr>\n",
       "      <td>23605</td>\n",
       "      <td>0</td>\n",
       "      <td>22250000.0</td>\n",
       "      <td>249.9</td>\n",
       "      <td>2019-04-23</td>\n",
       "      <td>9</td>\n",
       "      <td>3.20</td>\n",
       "      <td>5</td>\n",
       "      <td>157.0</td>\n",
       "      <td>5</td>\n",
       "      <td>False</td>\n",
       "      <td>False</td>\n",
       "      <td>False</td>\n",
       "      <td>12.4</td>\n",
       "      <td>0</td>\n",
       "      <td>Санкт-Петербург</td>\n",
       "      <td>10328.0</td>\n",
       "      <td>9987.0</td>\n",
       "      <td>2.0</td>\n",
       "      <td>352.0</td>\n",
       "      <td>0.0</td>\n",
       "      <td>503.0</td>\n",
       "      <td>NaN</td>\n",
       "      <td>179.20</td>\n",
       "      <td>14.30</td>\n",
       "      <td>1</td>\n",
       "    </tr>\n",
       "    <tr>\n",
       "      <td>23606</td>\n",
       "      <td>14</td>\n",
       "      <td>19500000.0</td>\n",
       "      <td>309.7</td>\n",
       "      <td>2016-02-03</td>\n",
       "      <td>9</td>\n",
       "      <td>2.65</td>\n",
       "      <td>5</td>\n",
       "      <td>199.0</td>\n",
       "      <td>5</td>\n",
       "      <td>False</td>\n",
       "      <td>False</td>\n",
       "      <td>False</td>\n",
       "      <td>14.3</td>\n",
       "      <td>0</td>\n",
       "      <td>Санкт-Петербург</td>\n",
       "      <td>10328.0</td>\n",
       "      <td>9987.0</td>\n",
       "      <td>2.0</td>\n",
       "      <td>352.0</td>\n",
       "      <td>0.0</td>\n",
       "      <td>503.0</td>\n",
       "      <td>468.0</td>\n",
       "      <td>179.20</td>\n",
       "      <td>14.30</td>\n",
       "      <td>0</td>\n",
       "    </tr>\n",
       "    <tr>\n",
       "      <td>23607</td>\n",
       "      <td>15</td>\n",
       "      <td>88000000.0</td>\n",
       "      <td>400.0</td>\n",
       "      <td>2019-03-27</td>\n",
       "      <td>9</td>\n",
       "      <td>2.50</td>\n",
       "      <td>2</td>\n",
       "      <td>250.0</td>\n",
       "      <td>1</td>\n",
       "      <td>False</td>\n",
       "      <td>False</td>\n",
       "      <td>False</td>\n",
       "      <td>50.0</td>\n",
       "      <td>0</td>\n",
       "      <td>Санкт-Петербург</td>\n",
       "      <td>24395.0</td>\n",
       "      <td>2725.0</td>\n",
       "      <td>2.0</td>\n",
       "      <td>315.0</td>\n",
       "      <td>1.0</td>\n",
       "      <td>578.0</td>\n",
       "      <td>NaN</td>\n",
       "      <td>179.20</td>\n",
       "      <td>14.30</td>\n",
       "      <td>1</td>\n",
       "    </tr>\n",
       "    <tr>\n",
       "      <td>23608</td>\n",
       "      <td>14</td>\n",
       "      <td>29000000.0</td>\n",
       "      <td>292.2</td>\n",
       "      <td>2017-01-12</td>\n",
       "      <td>9</td>\n",
       "      <td>3.35</td>\n",
       "      <td>5</td>\n",
       "      <td>225.9</td>\n",
       "      <td>4</td>\n",
       "      <td>False</td>\n",
       "      <td>False</td>\n",
       "      <td>False</td>\n",
       "      <td>32.9</td>\n",
       "      <td>1</td>\n",
       "      <td>Санкт-Петербург</td>\n",
       "      <td>24892.0</td>\n",
       "      <td>5162.0</td>\n",
       "      <td>2.0</td>\n",
       "      <td>263.0</td>\n",
       "      <td>0.0</td>\n",
       "      <td>503.0</td>\n",
       "      <td>825.0</td>\n",
       "      <td>179.20</td>\n",
       "      <td>14.30</td>\n",
       "      <td>0</td>\n",
       "    </tr>\n",
       "    <tr>\n",
       "      <td>23609</td>\n",
       "      <td>0</td>\n",
       "      <td>24000000.0</td>\n",
       "      <td>250.0</td>\n",
       "      <td>2019-04-23</td>\n",
       "      <td>9</td>\n",
       "      <td>3.20</td>\n",
       "      <td>5</td>\n",
       "      <td>160.6</td>\n",
       "      <td>3</td>\n",
       "      <td>False</td>\n",
       "      <td>False</td>\n",
       "      <td>False</td>\n",
       "      <td>11.7</td>\n",
       "      <td>0</td>\n",
       "      <td>Санкт-Петербург</td>\n",
       "      <td>10328.0</td>\n",
       "      <td>9987.0</td>\n",
       "      <td>2.0</td>\n",
       "      <td>352.0</td>\n",
       "      <td>0.0</td>\n",
       "      <td>503.0</td>\n",
       "      <td>NaN</td>\n",
       "      <td>179.20</td>\n",
       "      <td>14.30</td>\n",
       "      <td>1</td>\n",
       "    </tr>\n",
       "    <tr>\n",
       "      <td>23610</td>\n",
       "      <td>6</td>\n",
       "      <td>32250000.0</td>\n",
       "      <td>374.6</td>\n",
       "      <td>2018-06-09</td>\n",
       "      <td>19</td>\n",
       "      <td>2.65</td>\n",
       "      <td>5</td>\n",
       "      <td>264.5</td>\n",
       "      <td>2</td>\n",
       "      <td>False</td>\n",
       "      <td>False</td>\n",
       "      <td>False</td>\n",
       "      <td>27.6</td>\n",
       "      <td>0</td>\n",
       "      <td>Санкт-Петербург</td>\n",
       "      <td>19497.0</td>\n",
       "      <td>3574.0</td>\n",
       "      <td>0.0</td>\n",
       "      <td>455.0</td>\n",
       "      <td>2.0</td>\n",
       "      <td>548.0</td>\n",
       "      <td>114.0</td>\n",
       "      <td>264.50</td>\n",
       "      <td>27.60</td>\n",
       "      <td>0</td>\n",
       "    </tr>\n",
       "    <tr>\n",
       "      <td>23611</td>\n",
       "      <td>6</td>\n",
       "      <td>28500000.0</td>\n",
       "      <td>270.0</td>\n",
       "      <td>2015-03-02</td>\n",
       "      <td>16</td>\n",
       "      <td>3.00</td>\n",
       "      <td>4</td>\n",
       "      <td>180.0</td>\n",
       "      <td>4</td>\n",
       "      <td>False</td>\n",
       "      <td>False</td>\n",
       "      <td>False</td>\n",
       "      <td>13.0</td>\n",
       "      <td>1</td>\n",
       "      <td>Санкт-Петербург</td>\n",
       "      <td>23575.0</td>\n",
       "      <td>4142.0</td>\n",
       "      <td>1.0</td>\n",
       "      <td>516.0</td>\n",
       "      <td>0.0</td>\n",
       "      <td>503.0</td>\n",
       "      <td>1365.0</td>\n",
       "      <td>180.00</td>\n",
       "      <td>13.00</td>\n",
       "      <td>0</td>\n",
       "    </tr>\n",
       "    <tr>\n",
       "      <td>23612</td>\n",
       "      <td>8</td>\n",
       "      <td>420000000.0</td>\n",
       "      <td>900.0</td>\n",
       "      <td>2017-12-06</td>\n",
       "      <td>12</td>\n",
       "      <td>2.80</td>\n",
       "      <td>25</td>\n",
       "      <td>409.7</td>\n",
       "      <td>25</td>\n",
       "      <td>False</td>\n",
       "      <td>False</td>\n",
       "      <td>False</td>\n",
       "      <td>112.0</td>\n",
       "      <td>0</td>\n",
       "      <td>Санкт-Петербург</td>\n",
       "      <td>30706.0</td>\n",
       "      <td>7877.0</td>\n",
       "      <td>0.0</td>\n",
       "      <td>455.0</td>\n",
       "      <td>2.0</td>\n",
       "      <td>318.0</td>\n",
       "      <td>106.0</td>\n",
       "      <td>409.70</td>\n",
       "      <td>112.00</td>\n",
       "      <td>0</td>\n",
       "    </tr>\n",
       "  </tbody>\n",
       "</table>\n",
       "</div>"
      ],
      "text/plain": [
       "       total_images   last_price  total_area first_day_exposition  rooms  \\\n",
       "23573             7   22160000.0       277.6           2017-08-19      7   \n",
       "23574             8   15000000.0       145.2           2019-03-07      7   \n",
       "23575            19  130000000.0       431.0           2017-10-02      7   \n",
       "23576            12   19500000.0       287.5           2017-12-27      7   \n",
       "23577            20   22000000.0       141.0           2019-01-24      7   \n",
       "23578            12   25000000.0       196.0           2016-11-04      7   \n",
       "23579            18   22900000.0       206.0           2016-04-04      7   \n",
       "23580            17   30000000.0       213.0           2017-09-28      7   \n",
       "23581             5   15350000.0       158.5           2019-03-07      7   \n",
       "23582             3   17500000.0       183.7           2018-07-01     11   \n",
       "23583             8   33000000.0       194.1           2017-02-07     11   \n",
       "23584             7   16500000.0       229.0           2016-02-25      8   \n",
       "23585            13   22190000.0       191.2           2017-12-05      8   \n",
       "23586            11  150000000.0       230.0           2017-10-25      8   \n",
       "23587             5   16100000.0       150.0           2018-07-10      8   \n",
       "23588            13   36900000.0       347.5           2017-09-14      8   \n",
       "23589             4   24000000.0       316.3           2015-03-25      8   \n",
       "23590             8   19900000.0       210.3           2016-04-18      8   \n",
       "23591             2   35300000.0       235.0           2018-11-15      8   \n",
       "23592             4   15800000.0       236.4           2015-02-19      8   \n",
       "23593            20  180000000.0       347.0           2015-01-21      8   \n",
       "23594             7   18000000.0       245.0           2017-04-06      8   \n",
       "23595            20   68000000.0       373.1           2018-09-08      8   \n",
       "23596             5   25000000.0       363.0           2017-12-23     14   \n",
       "23597             6   28659000.0       245.4           2016-03-31     14   \n",
       "23598             6   23000000.0       272.6           2018-01-11     10   \n",
       "23599             4   15500000.0       216.1           2016-07-04     10   \n",
       "23600            11   40000000.0       290.0           2016-06-21     10   \n",
       "23601            20   65000000.0       590.0           2019-02-14     15   \n",
       "23602            14   49968900.0       398.0           2017-07-12      9   \n",
       "23603            12   17000000.0       235.0           2018-07-14      9   \n",
       "23604            10   23500000.0       313.0           2017-02-13      9   \n",
       "23605             0   22250000.0       249.9           2019-04-23      9   \n",
       "23606            14   19500000.0       309.7           2016-02-03      9   \n",
       "23607            15   88000000.0       400.0           2019-03-27      9   \n",
       "23608            14   29000000.0       292.2           2017-01-12      9   \n",
       "23609             0   24000000.0       250.0           2019-04-23      9   \n",
       "23610             6   32250000.0       374.6           2018-06-09     19   \n",
       "23611             6   28500000.0       270.0           2015-03-02     16   \n",
       "23612             8  420000000.0       900.0           2017-12-06     12   \n",
       "\n",
       "       ceiling_height  floors_total  living_area  floor  is_apartment  studio  \\\n",
       "23573            3.80             6        211.0      3         False   False   \n",
       "23574            2.65             2        115.0      2         False   False   \n",
       "23575            3.70             8        220.0      5         False   False   \n",
       "23576            2.65             4        183.7      3         False   False   \n",
       "23577            2.65             5         84.0      2         False   False   \n",
       "23578            3.50             6        145.0      5         False   False   \n",
       "23579            2.65             6        142.0      2         False   False   \n",
       "23580            3.40             5        151.4      5         False   False   \n",
       "23581            2.95             7         57.4      7         False   False   \n",
       "23582            3.40             7        138.8      7         False   False   \n",
       "23583            3.43             5        129.0      2         False   False   \n",
       "23584            2.65             6        160.0      5         False   False   \n",
       "23585            2.90             6        115.8      1         False   False   \n",
       "23586            2.65             8        220.0      8         False   False   \n",
       "23587            2.92             5        107.0      1         False   False   \n",
       "23588            2.65             4        160.0      1         False   False   \n",
       "23589            2.65             5        187.0      5         False   False   \n",
       "23590            3.30             5        144.6      2         False   False   \n",
       "23591            4.00             4        162.0      3         False   False   \n",
       "23592            2.65             6        176.6      6         False   False   \n",
       "23593            3.90             6        260.0      3         False   False   \n",
       "23594            3.54             5        155.0      2         False   False   \n",
       "23595            2.65             8        176.2      8         False   False   \n",
       "23596            3.16             5        222.0      4         False   False   \n",
       "23597            2.65             4        168.3      2         False   False   \n",
       "23598            3.14             7        145.9      7         False   False   \n",
       "23599            3.15             5        161.4      2         False   False   \n",
       "23600            3.50             6        189.4      6         False   False   \n",
       "23601            3.50             6        409.0      3         False   False   \n",
       "23602            3.00             2        160.1      1         False   False   \n",
       "23603            3.00             6        179.2      3         False   False   \n",
       "23604            3.20             6        179.2      5         False   False   \n",
       "23605            3.20             5        157.0      5         False   False   \n",
       "23606            2.65             5        199.0      5         False   False   \n",
       "23607            2.50             2        250.0      1         False   False   \n",
       "23608            3.35             5        225.9      4         False   False   \n",
       "23609            3.20             5        160.6      3         False   False   \n",
       "23610            2.65             5        264.5      2         False   False   \n",
       "23611            3.00             4        180.0      4         False   False   \n",
       "23612            2.80            25        409.7     25         False   False   \n",
       "\n",
       "       open_plan  kitchen_area  balcony    locality_name  airports_nearest  \\\n",
       "23573      False          17.8        0  Санкт-Петербург           25761.0   \n",
       "23574      False          15.0        0  Санкт-Петербург           26288.0   \n",
       "23575      False          20.0        5  Санкт-Петербург           26757.0   \n",
       "23576      False          26.0        0  Санкт-Петербург           21881.0   \n",
       "23577      False          25.0        0  Санкт-Петербург           20243.0   \n",
       "23578      False          17.0        1  Санкт-Петербург           25083.0   \n",
       "23579      False          16.2        0  Санкт-Петербург           25079.0   \n",
       "23580      False          30.8        0  Санкт-Петербург           21146.0   \n",
       "23581      False          12.4        1  Санкт-Петербург           23546.0   \n",
       "23582      False          13.3        0  Санкт-Петербург           23606.0   \n",
       "23583      False          11.9        0  Санкт-Петербург           21469.0   \n",
       "23584      False          25.0        0  Санкт-Петербург           23968.0   \n",
       "23585      False           5.0        0  Санкт-Петербург           21589.0   \n",
       "23586      False          25.0        0  Санкт-Петербург           25525.0   \n",
       "23587      False           7.2        0  Санкт-Петербург           26080.0   \n",
       "23588      False          40.0        0          Колпино           28346.0   \n",
       "23589      False          25.0        0  Санкт-Петербург           24555.0   \n",
       "23590      False          23.6        0  Санкт-Петербург           24770.0   \n",
       "23591      False          26.0        0  Санкт-Петербург           19728.0   \n",
       "23592      False          22.6        0  Санкт-Петербург           20221.0   \n",
       "23593      False          45.0        0  Санкт-Петербург           23962.0   \n",
       "23594      False          25.0        0  Санкт-Петербург           22215.0   \n",
       "23595      False          29.4        0  Санкт-Петербург           37965.0   \n",
       "23596      False          16.6        0  Санкт-Петербург           38076.0   \n",
       "23597      False          25.9        0  Санкт-Петербург           21104.0   \n",
       "23598      False          18.8        1  Санкт-Петербург           10726.0   \n",
       "23599      False          19.8        0  Санкт-Петербург           24353.0   \n",
       "23600      False          30.0        1  Санкт-Петербург           26229.0   \n",
       "23601      False         100.0        0  Санкт-Петербург           24447.0   \n",
       "23602      False          41.0        0  Санкт-Петербург           17720.0   \n",
       "23603      False          14.3        0  Санкт-Петербург           24466.0   \n",
       "23604      False          13.2        0  Санкт-Петербург           38435.0   \n",
       "23605      False          12.4        0  Санкт-Петербург           10328.0   \n",
       "23606      False          14.3        0  Санкт-Петербург           10328.0   \n",
       "23607      False          50.0        0  Санкт-Петербург           24395.0   \n",
       "23608      False          32.9        1  Санкт-Петербург           24892.0   \n",
       "23609      False          11.7        0  Санкт-Петербург           10328.0   \n",
       "23610      False          27.6        0  Санкт-Петербург           19497.0   \n",
       "23611      False          13.0        1  Санкт-Петербург           23575.0   \n",
       "23612      False         112.0        0  Санкт-Петербург           30706.0   \n",
       "\n",
       "       cityCenters_nearest  parks_around3000  parks_nearest  ponds_around3000  \\\n",
       "23573               5671.0               2.0          375.0               1.0   \n",
       "23574               5135.0               1.0          545.0               0.0   \n",
       "23575              12242.0               0.0          455.0               1.0   \n",
       "23576               4726.0               1.0          578.0               1.0   \n",
       "23577               3334.0               2.0          447.0               1.0   \n",
       "23578               3658.0               1.0          552.0               0.0   \n",
       "23579               5544.0               0.0          455.0               1.0   \n",
       "23580               1225.0               2.0          342.0               3.0   \n",
       "23581               3088.0               1.0          347.0               0.0   \n",
       "23582               3148.0               0.0          455.0               0.0   \n",
       "23583               1015.0               1.0          686.0               2.0   \n",
       "23584               4536.0               1.0          243.0               0.0   \n",
       "23585               1152.0               1.0          587.0               2.0   \n",
       "23586               5845.0               2.0          116.0               0.0   \n",
       "23587               4782.0               2.0          473.0               0.0   \n",
       "23588              34132.0               1.0         1809.0               2.0   \n",
       "23589               5129.0               0.0          455.0               1.0   \n",
       "23590               5864.0               2.0          283.0               0.0   \n",
       "23591               1799.0               3.0          123.0               3.0   \n",
       "23592               1802.0               3.0          571.0               3.0   \n",
       "23593               3794.0               2.0          537.0               3.0   \n",
       "23594               2424.0               1.0          867.0               1.0   \n",
       "23595               7873.0               1.0          562.0               3.0   \n",
       "23596               7950.0               0.0          455.0               2.0   \n",
       "23597               2054.0               3.0          541.0               2.0   \n",
       "23598              12169.0               1.0          191.0               1.0   \n",
       "23599               4921.0               1.0          368.0               0.0   \n",
       "23600               4932.0               3.0          316.0               1.0   \n",
       "23601               4666.0               1.0          767.0               0.0   \n",
       "23602              16722.0               3.0          471.0               2.0   \n",
       "23603               5034.0               1.0          346.0               0.0   \n",
       "23604              10138.0               1.0          146.0               0.0   \n",
       "23605               9987.0               2.0          352.0               0.0   \n",
       "23606               9987.0               2.0          352.0               0.0   \n",
       "23607               2725.0               2.0          315.0               1.0   \n",
       "23608               5162.0               2.0          263.0               0.0   \n",
       "23609               9987.0               2.0          352.0               0.0   \n",
       "23610               3574.0               0.0          455.0               2.0   \n",
       "23611               4142.0               1.0          516.0               0.0   \n",
       "23612               7877.0               0.0          455.0               2.0   \n",
       "\n",
       "       ponds_nearest  days_exposition  median_living_area  \\\n",
       "23573          479.0             22.0              145.00   \n",
       "23574          503.0              NaN              145.00   \n",
       "23575          503.0            161.0              145.00   \n",
       "23576          853.0             90.0              145.00   \n",
       "23577          468.0             90.0              145.00   \n",
       "23578          503.0              NaN              145.00   \n",
       "23579          251.0             75.0              145.00   \n",
       "23580           30.0            299.0              145.00   \n",
       "23581          503.0              NaN              145.00   \n",
       "23582          503.0              NaN              133.90   \n",
       "23583           66.0            813.0              133.90   \n",
       "23584          503.0            806.0              161.00   \n",
       "23585          155.0            115.0              161.00   \n",
       "23586          503.0            135.0              161.00   \n",
       "23587          503.0              NaN              161.00   \n",
       "23588          241.0            249.0              161.00   \n",
       "23589          934.0            542.0              161.00   \n",
       "23590          503.0            102.0              161.00   \n",
       "23591           50.0              7.0              161.00   \n",
       "23592          441.0            921.0              161.00   \n",
       "23593          501.0            834.0              161.00   \n",
       "23594          340.0            357.0              161.00   \n",
       "23595          691.0            234.0              161.00   \n",
       "23596          435.0            418.0              195.15   \n",
       "23597          118.0             95.0              195.15   \n",
       "23598          531.0              NaN              161.40   \n",
       "23599          503.0             11.0              161.40   \n",
       "23600          227.0             77.0              161.40   \n",
       "23601          503.0             14.0              409.00   \n",
       "23602          440.0            471.0              179.20   \n",
       "23603          503.0             90.0              179.20   \n",
       "23604          503.0              NaN              179.20   \n",
       "23605          503.0              NaN              179.20   \n",
       "23606          503.0            468.0              179.20   \n",
       "23607          578.0              NaN              179.20   \n",
       "23608          503.0            825.0              179.20   \n",
       "23609          503.0              NaN              179.20   \n",
       "23610          548.0            114.0              264.50   \n",
       "23611          503.0           1365.0              180.00   \n",
       "23612          318.0            106.0              409.70   \n",
       "\n",
       "       median_kitchen_area  days_exposition_missing  \n",
       "23573                20.00                        0  \n",
       "23574                20.00                        1  \n",
       "23575                20.00                        0  \n",
       "23576                20.00                        0  \n",
       "23577                20.00                        0  \n",
       "23578                20.00                        1  \n",
       "23579                20.00                        0  \n",
       "23580                20.00                        0  \n",
       "23581                20.00                        1  \n",
       "23582                12.60                        1  \n",
       "23583                12.60                        0  \n",
       "23584                25.00                        0  \n",
       "23585                25.00                        0  \n",
       "23586                25.00                        0  \n",
       "23587                25.00                        1  \n",
       "23588                25.00                        0  \n",
       "23589                25.00                        0  \n",
       "23590                25.00                        0  \n",
       "23591                25.00                        0  \n",
       "23592                25.00                        0  \n",
       "23593                25.00                        0  \n",
       "23594                25.00                        0  \n",
       "23595                25.00                        0  \n",
       "23596                21.25                        0  \n",
       "23597                21.25                        0  \n",
       "23598                19.80                        1  \n",
       "23599                19.80                        0  \n",
       "23600                19.80                        0  \n",
       "23601               100.00                        0  \n",
       "23602                14.30                        0  \n",
       "23603                14.30                        0  \n",
       "23604                14.30                        1  \n",
       "23605                14.30                        1  \n",
       "23606                14.30                        0  \n",
       "23607                14.30                        1  \n",
       "23608                14.30                        0  \n",
       "23609                14.30                        1  \n",
       "23610                27.60                        0  \n",
       "23611                13.00                        0  \n",
       "23612               112.00                        0  "
      ]
     },
     "metadata": {},
     "output_type": "display_data"
    },
    {
     "name": "stdout",
     "output_type": "stream",
     "text": [
      "<class 'pandas.core.frame.DataFrame'>\n",
      "Int64Index: 23565 entries, 0 to 23612\n",
      "Data columns (total 25 columns):\n",
      "total_images               23565 non-null int64\n",
      "last_price                 23565 non-null float64\n",
      "total_area                 23565 non-null float64\n",
      "first_day_exposition       23565 non-null datetime64[ns]\n",
      "rooms                      23565 non-null int64\n",
      "ceiling_height             23565 non-null float64\n",
      "floors_total               23565 non-null int64\n",
      "living_area                23565 non-null float64\n",
      "floor                      23565 non-null int64\n",
      "is_apartment               23565 non-null bool\n",
      "studio                     23565 non-null bool\n",
      "open_plan                  23565 non-null bool\n",
      "kitchen_area               23565 non-null float64\n",
      "balcony                    23565 non-null int64\n",
      "locality_name              23565 non-null object\n",
      "airports_nearest           23565 non-null float64\n",
      "cityCenters_nearest        23565 non-null float64\n",
      "parks_around3000           23565 non-null float64\n",
      "parks_nearest              23565 non-null float64\n",
      "ponds_around3000           23565 non-null float64\n",
      "ponds_nearest              23565 non-null float64\n",
      "days_exposition            20394 non-null float64\n",
      "median_living_area         23565 non-null float64\n",
      "median_kitchen_area        23565 non-null float64\n",
      "days_exposition_missing    23565 non-null int64\n",
      "dtypes: bool(3), datetime64[ns](1), float64(14), int64(6), object(1)\n",
      "memory usage: 4.2+ MB\n"
     ]
    }
   ],
   "source": [
    "display(data.tail(40)) #выводим последние 40 строк датафрейма для наглядной проверки\n",
    "data.info() #выводим сводную информацию о датафрейме для проверки\n"
   ]
  },
  {
   "cell_type": "markdown",
   "metadata": {},
   "source": [
    "После предобработки данных мы избавились от пропусков в датафрейме,удалив их или заполнив медианными значениями. Изменили типы данных, где это необходимо.  Пропуски остались только в столбце days_exposition, так как проанализировав мы поняли, что пропуски там неслучайны, квартиры еще не проданы на момент выгрузки данных. Данные готовы к расчетам и анализу.  "
   ]
  },
  {
   "cell_type": "markdown",
   "metadata": {},
   "source": [
    "## Расчёты и добавление результатов в таблицу"
   ]
  },
  {
   "cell_type": "markdown",
   "metadata": {},
   "source": [
    "Добавляем в таблицу день недели, месяц и год публикации объявления"
   ]
  },
  {
   "cell_type": "code",
   "execution_count": 19,
   "metadata": {},
   "outputs": [
    {
     "data": {
      "text/html": [
       "<div>\n",
       "<style scoped>\n",
       "    .dataframe tbody tr th:only-of-type {\n",
       "        vertical-align: middle;\n",
       "    }\n",
       "\n",
       "    .dataframe tbody tr th {\n",
       "        vertical-align: top;\n",
       "    }\n",
       "\n",
       "    .dataframe thead th {\n",
       "        text-align: right;\n",
       "    }\n",
       "</style>\n",
       "<table border=\"1\" class=\"dataframe\">\n",
       "  <thead>\n",
       "    <tr style=\"text-align: right;\">\n",
       "      <th></th>\n",
       "      <th>total_images</th>\n",
       "      <th>last_price</th>\n",
       "      <th>total_area</th>\n",
       "      <th>first_day_exposition</th>\n",
       "      <th>rooms</th>\n",
       "      <th>ceiling_height</th>\n",
       "      <th>floors_total</th>\n",
       "      <th>living_area</th>\n",
       "      <th>floor</th>\n",
       "      <th>is_apartment</th>\n",
       "      <th>studio</th>\n",
       "      <th>open_plan</th>\n",
       "      <th>kitchen_area</th>\n",
       "      <th>balcony</th>\n",
       "      <th>locality_name</th>\n",
       "      <th>airports_nearest</th>\n",
       "      <th>cityCenters_nearest</th>\n",
       "      <th>parks_around3000</th>\n",
       "      <th>parks_nearest</th>\n",
       "      <th>ponds_around3000</th>\n",
       "      <th>ponds_nearest</th>\n",
       "      <th>days_exposition</th>\n",
       "      <th>median_living_area</th>\n",
       "      <th>median_kitchen_area</th>\n",
       "      <th>days_exposition_missing</th>\n",
       "      <th>month</th>\n",
       "      <th>year</th>\n",
       "      <th>weekday</th>\n",
       "    </tr>\n",
       "  </thead>\n",
       "  <tbody>\n",
       "    <tr>\n",
       "      <td>0</td>\n",
       "      <td>20</td>\n",
       "      <td>13000000.0</td>\n",
       "      <td>108.0</td>\n",
       "      <td>2019-03-07</td>\n",
       "      <td>3</td>\n",
       "      <td>2.70</td>\n",
       "      <td>16</td>\n",
       "      <td>51.0</td>\n",
       "      <td>8</td>\n",
       "      <td>False</td>\n",
       "      <td>False</td>\n",
       "      <td>False</td>\n",
       "      <td>25.0</td>\n",
       "      <td>0</td>\n",
       "      <td>Санкт-Петербург</td>\n",
       "      <td>18863.0</td>\n",
       "      <td>16028.0</td>\n",
       "      <td>1.0</td>\n",
       "      <td>482.0</td>\n",
       "      <td>2.0</td>\n",
       "      <td>755.0</td>\n",
       "      <td>NaN</td>\n",
       "      <td>45.0</td>\n",
       "      <td>9.5</td>\n",
       "      <td>1</td>\n",
       "      <td>3</td>\n",
       "      <td>2019</td>\n",
       "      <td>3</td>\n",
       "    </tr>\n",
       "    <tr>\n",
       "      <td>1</td>\n",
       "      <td>0</td>\n",
       "      <td>64900000.0</td>\n",
       "      <td>159.0</td>\n",
       "      <td>2015-07-24</td>\n",
       "      <td>3</td>\n",
       "      <td>2.65</td>\n",
       "      <td>14</td>\n",
       "      <td>45.0</td>\n",
       "      <td>9</td>\n",
       "      <td>False</td>\n",
       "      <td>False</td>\n",
       "      <td>False</td>\n",
       "      <td>9.5</td>\n",
       "      <td>0</td>\n",
       "      <td>Санкт-Петербург</td>\n",
       "      <td>28098.0</td>\n",
       "      <td>6800.0</td>\n",
       "      <td>2.0</td>\n",
       "      <td>84.0</td>\n",
       "      <td>3.0</td>\n",
       "      <td>234.0</td>\n",
       "      <td>424.0</td>\n",
       "      <td>45.0</td>\n",
       "      <td>9.5</td>\n",
       "      <td>0</td>\n",
       "      <td>7</td>\n",
       "      <td>2015</td>\n",
       "      <td>4</td>\n",
       "    </tr>\n",
       "    <tr>\n",
       "      <td>2</td>\n",
       "      <td>18</td>\n",
       "      <td>5400000.0</td>\n",
       "      <td>61.0</td>\n",
       "      <td>2017-02-26</td>\n",
       "      <td>3</td>\n",
       "      <td>2.50</td>\n",
       "      <td>9</td>\n",
       "      <td>43.6</td>\n",
       "      <td>7</td>\n",
       "      <td>False</td>\n",
       "      <td>False</td>\n",
       "      <td>False</td>\n",
       "      <td>6.5</td>\n",
       "      <td>2</td>\n",
       "      <td>Санкт-Петербург</td>\n",
       "      <td>50898.0</td>\n",
       "      <td>15008.0</td>\n",
       "      <td>0.0</td>\n",
       "      <td>455.0</td>\n",
       "      <td>0.0</td>\n",
       "      <td>503.0</td>\n",
       "      <td>289.0</td>\n",
       "      <td>45.0</td>\n",
       "      <td>9.5</td>\n",
       "      <td>0</td>\n",
       "      <td>2</td>\n",
       "      <td>2017</td>\n",
       "      <td>6</td>\n",
       "    </tr>\n",
       "    <tr>\n",
       "      <td>3</td>\n",
       "      <td>11</td>\n",
       "      <td>6700000.0</td>\n",
       "      <td>82.0</td>\n",
       "      <td>2017-11-23</td>\n",
       "      <td>3</td>\n",
       "      <td>3.05</td>\n",
       "      <td>5</td>\n",
       "      <td>55.6</td>\n",
       "      <td>1</td>\n",
       "      <td>False</td>\n",
       "      <td>False</td>\n",
       "      <td>False</td>\n",
       "      <td>9.0</td>\n",
       "      <td>0</td>\n",
       "      <td>Санкт-Петербург</td>\n",
       "      <td>22108.0</td>\n",
       "      <td>10698.0</td>\n",
       "      <td>3.0</td>\n",
       "      <td>420.0</td>\n",
       "      <td>0.0</td>\n",
       "      <td>503.0</td>\n",
       "      <td>397.0</td>\n",
       "      <td>45.0</td>\n",
       "      <td>9.5</td>\n",
       "      <td>0</td>\n",
       "      <td>11</td>\n",
       "      <td>2017</td>\n",
       "      <td>3</td>\n",
       "    </tr>\n",
       "    <tr>\n",
       "      <td>4</td>\n",
       "      <td>16</td>\n",
       "      <td>14200000.0</td>\n",
       "      <td>121.0</td>\n",
       "      <td>2019-01-09</td>\n",
       "      <td>3</td>\n",
       "      <td>2.75</td>\n",
       "      <td>16</td>\n",
       "      <td>76.0</td>\n",
       "      <td>8</td>\n",
       "      <td>False</td>\n",
       "      <td>False</td>\n",
       "      <td>False</td>\n",
       "      <td>12.0</td>\n",
       "      <td>0</td>\n",
       "      <td>Санкт-Петербург</td>\n",
       "      <td>38900.0</td>\n",
       "      <td>12843.0</td>\n",
       "      <td>0.0</td>\n",
       "      <td>455.0</td>\n",
       "      <td>0.0</td>\n",
       "      <td>503.0</td>\n",
       "      <td>97.0</td>\n",
       "      <td>45.0</td>\n",
       "      <td>9.5</td>\n",
       "      <td>0</td>\n",
       "      <td>1</td>\n",
       "      <td>2019</td>\n",
       "      <td>2</td>\n",
       "    </tr>\n",
       "  </tbody>\n",
       "</table>\n",
       "</div>"
      ],
      "text/plain": [
       "   total_images  last_price  total_area first_day_exposition  rooms  \\\n",
       "0            20  13000000.0       108.0           2019-03-07      3   \n",
       "1             0  64900000.0       159.0           2015-07-24      3   \n",
       "2            18   5400000.0        61.0           2017-02-26      3   \n",
       "3            11   6700000.0        82.0           2017-11-23      3   \n",
       "4            16  14200000.0       121.0           2019-01-09      3   \n",
       "\n",
       "   ceiling_height  floors_total  living_area  floor  is_apartment  studio  \\\n",
       "0            2.70            16         51.0      8         False   False   \n",
       "1            2.65            14         45.0      9         False   False   \n",
       "2            2.50             9         43.6      7         False   False   \n",
       "3            3.05             5         55.6      1         False   False   \n",
       "4            2.75            16         76.0      8         False   False   \n",
       "\n",
       "   open_plan  kitchen_area  balcony    locality_name  airports_nearest  \\\n",
       "0      False          25.0        0  Санкт-Петербург           18863.0   \n",
       "1      False           9.5        0  Санкт-Петербург           28098.0   \n",
       "2      False           6.5        2  Санкт-Петербург           50898.0   \n",
       "3      False           9.0        0  Санкт-Петербург           22108.0   \n",
       "4      False          12.0        0  Санкт-Петербург           38900.0   \n",
       "\n",
       "   cityCenters_nearest  parks_around3000  parks_nearest  ponds_around3000  \\\n",
       "0              16028.0               1.0          482.0               2.0   \n",
       "1               6800.0               2.0           84.0               3.0   \n",
       "2              15008.0               0.0          455.0               0.0   \n",
       "3              10698.0               3.0          420.0               0.0   \n",
       "4              12843.0               0.0          455.0               0.0   \n",
       "\n",
       "   ponds_nearest  days_exposition  median_living_area  median_kitchen_area  \\\n",
       "0          755.0              NaN                45.0                  9.5   \n",
       "1          234.0            424.0                45.0                  9.5   \n",
       "2          503.0            289.0                45.0                  9.5   \n",
       "3          503.0            397.0                45.0                  9.5   \n",
       "4          503.0             97.0                45.0                  9.5   \n",
       "\n",
       "   days_exposition_missing  month  year  weekday  \n",
       "0                        1      3  2019        3  \n",
       "1                        0      7  2015        4  \n",
       "2                        0      2  2017        6  \n",
       "3                        0     11  2017        3  \n",
       "4                        0      1  2019        2  "
      ]
     },
     "execution_count": 19,
     "metadata": {},
     "output_type": "execute_result"
    }
   ],
   "source": [
    "data['month'] = pd.DatetimeIndex(data['first_day_exposition']).month #создаем столбец со значением месяца из даты столбца first_day_exposition \n",
    "data['year'] = pd.DatetimeIndex(data['first_day_exposition']).year #создаем столбец со значением года из даты столбца first_day_exposition \n",
    "data['weekday'] = pd.DatetimeIndex(data['first_day_exposition']).weekday #создаем столбец со значением дня недели из даты столбца first_day_exposition \n",
    "data.head()"
   ]
  },
  {
   "cell_type": "code",
   "execution_count": 20,
   "metadata": {},
   "outputs": [
    {
     "name": "stdout",
     "output_type": "stream",
     "text": [
      "<class 'pandas.core.frame.DataFrame'>\n",
      "Int64Index: 23565 entries, 0 to 23612\n",
      "Data columns (total 28 columns):\n",
      "total_images               23565 non-null int64\n",
      "last_price                 23565 non-null float64\n",
      "total_area                 23565 non-null float64\n",
      "first_day_exposition       23565 non-null datetime64[ns]\n",
      "rooms                      23565 non-null int64\n",
      "ceiling_height             23565 non-null float64\n",
      "floors_total               23565 non-null int64\n",
      "living_area                23565 non-null float64\n",
      "floor                      23565 non-null int64\n",
      "is_apartment               23565 non-null bool\n",
      "studio                     23565 non-null bool\n",
      "open_plan                  23565 non-null bool\n",
      "kitchen_area               23565 non-null float64\n",
      "balcony                    23565 non-null int64\n",
      "locality_name              23565 non-null object\n",
      "airports_nearest           23565 non-null float64\n",
      "cityCenters_nearest        23565 non-null float64\n",
      "parks_around3000           23565 non-null float64\n",
      "parks_nearest              23565 non-null float64\n",
      "ponds_around3000           23565 non-null float64\n",
      "ponds_nearest              23565 non-null float64\n",
      "days_exposition            20394 non-null float64\n",
      "median_living_area         23565 non-null float64\n",
      "median_kitchen_area        23565 non-null float64\n",
      "days_exposition_missing    23565 non-null int64\n",
      "month                      23565 non-null int64\n",
      "year                       23565 non-null int64\n",
      "weekday                    23565 non-null int64\n",
      "dtypes: bool(3), datetime64[ns](1), float64(14), int64(9), object(1)\n",
      "memory usage: 4.7+ MB\n"
     ]
    }
   ],
   "source": [
    "data.info()"
   ]
  },
  {
   "cell_type": "markdown",
   "metadata": {},
   "source": [
    "Присваиваем значению этажа квартиры категории — первый, последний, другой"
   ]
  },
  {
   "cell_type": "code",
   "execution_count": 21,
   "metadata": {
    "scrolled": false
   },
   "outputs": [
    {
     "data": {
      "text/html": [
       "<div>\n",
       "<style scoped>\n",
       "    .dataframe tbody tr th:only-of-type {\n",
       "        vertical-align: middle;\n",
       "    }\n",
       "\n",
       "    .dataframe tbody tr th {\n",
       "        vertical-align: top;\n",
       "    }\n",
       "\n",
       "    .dataframe thead th {\n",
       "        text-align: right;\n",
       "    }\n",
       "</style>\n",
       "<table border=\"1\" class=\"dataframe\">\n",
       "  <thead>\n",
       "    <tr style=\"text-align: right;\">\n",
       "      <th></th>\n",
       "      <th>total_images</th>\n",
       "      <th>last_price</th>\n",
       "      <th>total_area</th>\n",
       "      <th>first_day_exposition</th>\n",
       "      <th>rooms</th>\n",
       "      <th>ceiling_height</th>\n",
       "      <th>floors_total</th>\n",
       "      <th>living_area</th>\n",
       "      <th>floor</th>\n",
       "      <th>is_apartment</th>\n",
       "      <th>studio</th>\n",
       "      <th>open_plan</th>\n",
       "      <th>kitchen_area</th>\n",
       "      <th>balcony</th>\n",
       "      <th>locality_name</th>\n",
       "      <th>airports_nearest</th>\n",
       "      <th>cityCenters_nearest</th>\n",
       "      <th>parks_around3000</th>\n",
       "      <th>parks_nearest</th>\n",
       "      <th>ponds_around3000</th>\n",
       "      <th>ponds_nearest</th>\n",
       "      <th>days_exposition</th>\n",
       "      <th>median_living_area</th>\n",
       "      <th>median_kitchen_area</th>\n",
       "      <th>days_exposition_missing</th>\n",
       "      <th>month</th>\n",
       "      <th>year</th>\n",
       "      <th>weekday</th>\n",
       "      <th>floor_group</th>\n",
       "    </tr>\n",
       "  </thead>\n",
       "  <tbody>\n",
       "    <tr>\n",
       "      <td>0</td>\n",
       "      <td>20</td>\n",
       "      <td>13000000.0</td>\n",
       "      <td>108.0</td>\n",
       "      <td>2019-03-07</td>\n",
       "      <td>3</td>\n",
       "      <td>2.70</td>\n",
       "      <td>16</td>\n",
       "      <td>51.0</td>\n",
       "      <td>8</td>\n",
       "      <td>False</td>\n",
       "      <td>False</td>\n",
       "      <td>False</td>\n",
       "      <td>25.0</td>\n",
       "      <td>0</td>\n",
       "      <td>Санкт-Петербург</td>\n",
       "      <td>18863.0</td>\n",
       "      <td>16028.0</td>\n",
       "      <td>1.0</td>\n",
       "      <td>482.0</td>\n",
       "      <td>2.0</td>\n",
       "      <td>755.0</td>\n",
       "      <td>NaN</td>\n",
       "      <td>45.0</td>\n",
       "      <td>9.5</td>\n",
       "      <td>1</td>\n",
       "      <td>3</td>\n",
       "      <td>2019</td>\n",
       "      <td>3</td>\n",
       "      <td>другой</td>\n",
       "    </tr>\n",
       "    <tr>\n",
       "      <td>1</td>\n",
       "      <td>0</td>\n",
       "      <td>64900000.0</td>\n",
       "      <td>159.0</td>\n",
       "      <td>2015-07-24</td>\n",
       "      <td>3</td>\n",
       "      <td>2.65</td>\n",
       "      <td>14</td>\n",
       "      <td>45.0</td>\n",
       "      <td>9</td>\n",
       "      <td>False</td>\n",
       "      <td>False</td>\n",
       "      <td>False</td>\n",
       "      <td>9.5</td>\n",
       "      <td>0</td>\n",
       "      <td>Санкт-Петербург</td>\n",
       "      <td>28098.0</td>\n",
       "      <td>6800.0</td>\n",
       "      <td>2.0</td>\n",
       "      <td>84.0</td>\n",
       "      <td>3.0</td>\n",
       "      <td>234.0</td>\n",
       "      <td>424.0</td>\n",
       "      <td>45.0</td>\n",
       "      <td>9.5</td>\n",
       "      <td>0</td>\n",
       "      <td>7</td>\n",
       "      <td>2015</td>\n",
       "      <td>4</td>\n",
       "      <td>другой</td>\n",
       "    </tr>\n",
       "    <tr>\n",
       "      <td>2</td>\n",
       "      <td>18</td>\n",
       "      <td>5400000.0</td>\n",
       "      <td>61.0</td>\n",
       "      <td>2017-02-26</td>\n",
       "      <td>3</td>\n",
       "      <td>2.50</td>\n",
       "      <td>9</td>\n",
       "      <td>43.6</td>\n",
       "      <td>7</td>\n",
       "      <td>False</td>\n",
       "      <td>False</td>\n",
       "      <td>False</td>\n",
       "      <td>6.5</td>\n",
       "      <td>2</td>\n",
       "      <td>Санкт-Петербург</td>\n",
       "      <td>50898.0</td>\n",
       "      <td>15008.0</td>\n",
       "      <td>0.0</td>\n",
       "      <td>455.0</td>\n",
       "      <td>0.0</td>\n",
       "      <td>503.0</td>\n",
       "      <td>289.0</td>\n",
       "      <td>45.0</td>\n",
       "      <td>9.5</td>\n",
       "      <td>0</td>\n",
       "      <td>2</td>\n",
       "      <td>2017</td>\n",
       "      <td>6</td>\n",
       "      <td>другой</td>\n",
       "    </tr>\n",
       "    <tr>\n",
       "      <td>3</td>\n",
       "      <td>11</td>\n",
       "      <td>6700000.0</td>\n",
       "      <td>82.0</td>\n",
       "      <td>2017-11-23</td>\n",
       "      <td>3</td>\n",
       "      <td>3.05</td>\n",
       "      <td>5</td>\n",
       "      <td>55.6</td>\n",
       "      <td>1</td>\n",
       "      <td>False</td>\n",
       "      <td>False</td>\n",
       "      <td>False</td>\n",
       "      <td>9.0</td>\n",
       "      <td>0</td>\n",
       "      <td>Санкт-Петербург</td>\n",
       "      <td>22108.0</td>\n",
       "      <td>10698.0</td>\n",
       "      <td>3.0</td>\n",
       "      <td>420.0</td>\n",
       "      <td>0.0</td>\n",
       "      <td>503.0</td>\n",
       "      <td>397.0</td>\n",
       "      <td>45.0</td>\n",
       "      <td>9.5</td>\n",
       "      <td>0</td>\n",
       "      <td>11</td>\n",
       "      <td>2017</td>\n",
       "      <td>3</td>\n",
       "      <td>первый</td>\n",
       "    </tr>\n",
       "    <tr>\n",
       "      <td>4</td>\n",
       "      <td>16</td>\n",
       "      <td>14200000.0</td>\n",
       "      <td>121.0</td>\n",
       "      <td>2019-01-09</td>\n",
       "      <td>3</td>\n",
       "      <td>2.75</td>\n",
       "      <td>16</td>\n",
       "      <td>76.0</td>\n",
       "      <td>8</td>\n",
       "      <td>False</td>\n",
       "      <td>False</td>\n",
       "      <td>False</td>\n",
       "      <td>12.0</td>\n",
       "      <td>0</td>\n",
       "      <td>Санкт-Петербург</td>\n",
       "      <td>38900.0</td>\n",
       "      <td>12843.0</td>\n",
       "      <td>0.0</td>\n",
       "      <td>455.0</td>\n",
       "      <td>0.0</td>\n",
       "      <td>503.0</td>\n",
       "      <td>97.0</td>\n",
       "      <td>45.0</td>\n",
       "      <td>9.5</td>\n",
       "      <td>0</td>\n",
       "      <td>1</td>\n",
       "      <td>2019</td>\n",
       "      <td>2</td>\n",
       "      <td>другой</td>\n",
       "    </tr>\n",
       "    <tr>\n",
       "      <td>5</td>\n",
       "      <td>12</td>\n",
       "      <td>6120000.0</td>\n",
       "      <td>80.0</td>\n",
       "      <td>2017-09-28</td>\n",
       "      <td>3</td>\n",
       "      <td>2.70</td>\n",
       "      <td>27</td>\n",
       "      <td>48.0</td>\n",
       "      <td>11</td>\n",
       "      <td>False</td>\n",
       "      <td>False</td>\n",
       "      <td>False</td>\n",
       "      <td>12.0</td>\n",
       "      <td>2</td>\n",
       "      <td>Парголово</td>\n",
       "      <td>53134.0</td>\n",
       "      <td>19311.0</td>\n",
       "      <td>0.0</td>\n",
       "      <td>455.0</td>\n",
       "      <td>0.0</td>\n",
       "      <td>503.0</td>\n",
       "      <td>74.0</td>\n",
       "      <td>45.0</td>\n",
       "      <td>9.5</td>\n",
       "      <td>0</td>\n",
       "      <td>9</td>\n",
       "      <td>2017</td>\n",
       "      <td>3</td>\n",
       "      <td>другой</td>\n",
       "    </tr>\n",
       "    <tr>\n",
       "      <td>6</td>\n",
       "      <td>20</td>\n",
       "      <td>7100000.0</td>\n",
       "      <td>70.0</td>\n",
       "      <td>2017-05-12</td>\n",
       "      <td>3</td>\n",
       "      <td>2.60</td>\n",
       "      <td>17</td>\n",
       "      <td>49.0</td>\n",
       "      <td>11</td>\n",
       "      <td>False</td>\n",
       "      <td>False</td>\n",
       "      <td>False</td>\n",
       "      <td>9.2</td>\n",
       "      <td>0</td>\n",
       "      <td>Санкт-Петербург</td>\n",
       "      <td>29197.0</td>\n",
       "      <td>11456.0</td>\n",
       "      <td>2.0</td>\n",
       "      <td>452.0</td>\n",
       "      <td>1.0</td>\n",
       "      <td>779.0</td>\n",
       "      <td>151.0</td>\n",
       "      <td>45.0</td>\n",
       "      <td>9.5</td>\n",
       "      <td>0</td>\n",
       "      <td>5</td>\n",
       "      <td>2017</td>\n",
       "      <td>4</td>\n",
       "      <td>другой</td>\n",
       "    </tr>\n",
       "    <tr>\n",
       "      <td>7</td>\n",
       "      <td>9</td>\n",
       "      <td>8600000.0</td>\n",
       "      <td>100.0</td>\n",
       "      <td>2016-04-09</td>\n",
       "      <td>3</td>\n",
       "      <td>2.65</td>\n",
       "      <td>19</td>\n",
       "      <td>52.0</td>\n",
       "      <td>15</td>\n",
       "      <td>False</td>\n",
       "      <td>False</td>\n",
       "      <td>False</td>\n",
       "      <td>11.0</td>\n",
       "      <td>0</td>\n",
       "      <td>Санкт-Петербург</td>\n",
       "      <td>30394.0</td>\n",
       "      <td>11526.0</td>\n",
       "      <td>1.0</td>\n",
       "      <td>532.0</td>\n",
       "      <td>1.0</td>\n",
       "      <td>896.0</td>\n",
       "      <td>125.0</td>\n",
       "      <td>45.0</td>\n",
       "      <td>9.5</td>\n",
       "      <td>0</td>\n",
       "      <td>4</td>\n",
       "      <td>2016</td>\n",
       "      <td>5</td>\n",
       "      <td>другой</td>\n",
       "    </tr>\n",
       "    <tr>\n",
       "      <td>8</td>\n",
       "      <td>7</td>\n",
       "      <td>4990000.0</td>\n",
       "      <td>60.0</td>\n",
       "      <td>2016-05-22</td>\n",
       "      <td>3</td>\n",
       "      <td>2.65</td>\n",
       "      <td>5</td>\n",
       "      <td>39.0</td>\n",
       "      <td>4</td>\n",
       "      <td>False</td>\n",
       "      <td>False</td>\n",
       "      <td>False</td>\n",
       "      <td>6.0</td>\n",
       "      <td>0</td>\n",
       "      <td>Санкт-Петербург</td>\n",
       "      <td>11349.0</td>\n",
       "      <td>12889.0</td>\n",
       "      <td>0.0</td>\n",
       "      <td>455.0</td>\n",
       "      <td>1.0</td>\n",
       "      <td>426.0</td>\n",
       "      <td>224.0</td>\n",
       "      <td>45.0</td>\n",
       "      <td>9.5</td>\n",
       "      <td>0</td>\n",
       "      <td>5</td>\n",
       "      <td>2016</td>\n",
       "      <td>6</td>\n",
       "      <td>другой</td>\n",
       "    </tr>\n",
       "    <tr>\n",
       "      <td>9</td>\n",
       "      <td>16</td>\n",
       "      <td>7900000.0</td>\n",
       "      <td>74.0</td>\n",
       "      <td>2016-05-04</td>\n",
       "      <td>3</td>\n",
       "      <td>2.65</td>\n",
       "      <td>14</td>\n",
       "      <td>59.0</td>\n",
       "      <td>8</td>\n",
       "      <td>False</td>\n",
       "      <td>False</td>\n",
       "      <td>False</td>\n",
       "      <td>12.0</td>\n",
       "      <td>5</td>\n",
       "      <td>Санкт-Петербург</td>\n",
       "      <td>37715.0</td>\n",
       "      <td>12612.0</td>\n",
       "      <td>1.0</td>\n",
       "      <td>725.0</td>\n",
       "      <td>1.0</td>\n",
       "      <td>759.0</td>\n",
       "      <td>179.0</td>\n",
       "      <td>45.0</td>\n",
       "      <td>9.5</td>\n",
       "      <td>0</td>\n",
       "      <td>5</td>\n",
       "      <td>2016</td>\n",
       "      <td>2</td>\n",
       "      <td>другой</td>\n",
       "    </tr>\n",
       "  </tbody>\n",
       "</table>\n",
       "</div>"
      ],
      "text/plain": [
       "   total_images  last_price  total_area first_day_exposition  rooms  \\\n",
       "0            20  13000000.0       108.0           2019-03-07      3   \n",
       "1             0  64900000.0       159.0           2015-07-24      3   \n",
       "2            18   5400000.0        61.0           2017-02-26      3   \n",
       "3            11   6700000.0        82.0           2017-11-23      3   \n",
       "4            16  14200000.0       121.0           2019-01-09      3   \n",
       "5            12   6120000.0        80.0           2017-09-28      3   \n",
       "6            20   7100000.0        70.0           2017-05-12      3   \n",
       "7             9   8600000.0       100.0           2016-04-09      3   \n",
       "8             7   4990000.0        60.0           2016-05-22      3   \n",
       "9            16   7900000.0        74.0           2016-05-04      3   \n",
       "\n",
       "   ceiling_height  floors_total  living_area  floor  is_apartment  studio  \\\n",
       "0            2.70            16         51.0      8         False   False   \n",
       "1            2.65            14         45.0      9         False   False   \n",
       "2            2.50             9         43.6      7         False   False   \n",
       "3            3.05             5         55.6      1         False   False   \n",
       "4            2.75            16         76.0      8         False   False   \n",
       "5            2.70            27         48.0     11         False   False   \n",
       "6            2.60            17         49.0     11         False   False   \n",
       "7            2.65            19         52.0     15         False   False   \n",
       "8            2.65             5         39.0      4         False   False   \n",
       "9            2.65            14         59.0      8         False   False   \n",
       "\n",
       "   open_plan  kitchen_area  balcony    locality_name  airports_nearest  \\\n",
       "0      False          25.0        0  Санкт-Петербург           18863.0   \n",
       "1      False           9.5        0  Санкт-Петербург           28098.0   \n",
       "2      False           6.5        2  Санкт-Петербург           50898.0   \n",
       "3      False           9.0        0  Санкт-Петербург           22108.0   \n",
       "4      False          12.0        0  Санкт-Петербург           38900.0   \n",
       "5      False          12.0        2        Парголово           53134.0   \n",
       "6      False           9.2        0  Санкт-Петербург           29197.0   \n",
       "7      False          11.0        0  Санкт-Петербург           30394.0   \n",
       "8      False           6.0        0  Санкт-Петербург           11349.0   \n",
       "9      False          12.0        5  Санкт-Петербург           37715.0   \n",
       "\n",
       "   cityCenters_nearest  parks_around3000  parks_nearest  ponds_around3000  \\\n",
       "0              16028.0               1.0          482.0               2.0   \n",
       "1               6800.0               2.0           84.0               3.0   \n",
       "2              15008.0               0.0          455.0               0.0   \n",
       "3              10698.0               3.0          420.0               0.0   \n",
       "4              12843.0               0.0          455.0               0.0   \n",
       "5              19311.0               0.0          455.0               0.0   \n",
       "6              11456.0               2.0          452.0               1.0   \n",
       "7              11526.0               1.0          532.0               1.0   \n",
       "8              12889.0               0.0          455.0               1.0   \n",
       "9              12612.0               1.0          725.0               1.0   \n",
       "\n",
       "   ponds_nearest  days_exposition  median_living_area  median_kitchen_area  \\\n",
       "0          755.0              NaN                45.0                  9.5   \n",
       "1          234.0            424.0                45.0                  9.5   \n",
       "2          503.0            289.0                45.0                  9.5   \n",
       "3          503.0            397.0                45.0                  9.5   \n",
       "4          503.0             97.0                45.0                  9.5   \n",
       "5          503.0             74.0                45.0                  9.5   \n",
       "6          779.0            151.0                45.0                  9.5   \n",
       "7          896.0            125.0                45.0                  9.5   \n",
       "8          426.0            224.0                45.0                  9.5   \n",
       "9          759.0            179.0                45.0                  9.5   \n",
       "\n",
       "   days_exposition_missing  month  year  weekday floor_group  \n",
       "0                        1      3  2019        3      другой  \n",
       "1                        0      7  2015        4      другой  \n",
       "2                        0      2  2017        6      другой  \n",
       "3                        0     11  2017        3      первый  \n",
       "4                        0      1  2019        2      другой  \n",
       "5                        0      9  2017        3      другой  \n",
       "6                        0      5  2017        4      другой  \n",
       "7                        0      4  2016        5      другой  \n",
       "8                        0      5  2016        6      другой  \n",
       "9                        0      5  2016        2      другой  "
      ]
     },
     "execution_count": 21,
     "metadata": {},
     "output_type": "execute_result"
    }
   ],
   "source": [
    "def floors(row): #создаем функцию для присваивания категории этажа\n",
    "    if row['floor'] == 1:\n",
    "        return 'первый'\n",
    "    if row['floor']  == row['floors_total']:\n",
    "        return 'последний'\n",
    "    else:\n",
    "        return 'другой'\n",
    "data['floor_group'] = data.apply(floors, axis=1) #значения категории отображаем в новом столбце floor_group\n",
    "data.head(10) #выводим на экран певрые 10 строк датафрейма"
   ]
  },
  {
   "cell_type": "markdown",
   "metadata": {},
   "source": [
    "Считаем и добавляем в таблицу цену квадратного метра"
   ]
  },
  {
   "cell_type": "code",
   "execution_count": 22,
   "metadata": {},
   "outputs": [
    {
     "data": {
      "text/html": [
       "<div>\n",
       "<style scoped>\n",
       "    .dataframe tbody tr th:only-of-type {\n",
       "        vertical-align: middle;\n",
       "    }\n",
       "\n",
       "    .dataframe tbody tr th {\n",
       "        vertical-align: top;\n",
       "    }\n",
       "\n",
       "    .dataframe thead th {\n",
       "        text-align: right;\n",
       "    }\n",
       "</style>\n",
       "<table border=\"1\" class=\"dataframe\">\n",
       "  <thead>\n",
       "    <tr style=\"text-align: right;\">\n",
       "      <th></th>\n",
       "      <th>total_images</th>\n",
       "      <th>last_price</th>\n",
       "      <th>total_area</th>\n",
       "      <th>first_day_exposition</th>\n",
       "      <th>rooms</th>\n",
       "      <th>ceiling_height</th>\n",
       "      <th>floors_total</th>\n",
       "      <th>living_area</th>\n",
       "      <th>floor</th>\n",
       "      <th>is_apartment</th>\n",
       "      <th>studio</th>\n",
       "      <th>open_plan</th>\n",
       "      <th>kitchen_area</th>\n",
       "      <th>balcony</th>\n",
       "      <th>locality_name</th>\n",
       "      <th>airports_nearest</th>\n",
       "      <th>cityCenters_nearest</th>\n",
       "      <th>parks_around3000</th>\n",
       "      <th>parks_nearest</th>\n",
       "      <th>ponds_around3000</th>\n",
       "      <th>ponds_nearest</th>\n",
       "      <th>days_exposition</th>\n",
       "      <th>median_living_area</th>\n",
       "      <th>median_kitchen_area</th>\n",
       "      <th>days_exposition_missing</th>\n",
       "      <th>month</th>\n",
       "      <th>year</th>\n",
       "      <th>weekday</th>\n",
       "      <th>floor_group</th>\n",
       "      <th>price_one_metre</th>\n",
       "    </tr>\n",
       "  </thead>\n",
       "  <tbody>\n",
       "    <tr>\n",
       "      <td>0</td>\n",
       "      <td>20</td>\n",
       "      <td>13000000.0</td>\n",
       "      <td>108.0</td>\n",
       "      <td>2019-03-07</td>\n",
       "      <td>3</td>\n",
       "      <td>2.70</td>\n",
       "      <td>16</td>\n",
       "      <td>51.0</td>\n",
       "      <td>8</td>\n",
       "      <td>False</td>\n",
       "      <td>False</td>\n",
       "      <td>False</td>\n",
       "      <td>25.0</td>\n",
       "      <td>0</td>\n",
       "      <td>Санкт-Петербург</td>\n",
       "      <td>18863.0</td>\n",
       "      <td>16028.0</td>\n",
       "      <td>1.0</td>\n",
       "      <td>482.0</td>\n",
       "      <td>2.0</td>\n",
       "      <td>755.0</td>\n",
       "      <td>NaN</td>\n",
       "      <td>45.0</td>\n",
       "      <td>9.5</td>\n",
       "      <td>1</td>\n",
       "      <td>3</td>\n",
       "      <td>2019</td>\n",
       "      <td>3</td>\n",
       "      <td>другой</td>\n",
       "      <td>120370</td>\n",
       "    </tr>\n",
       "    <tr>\n",
       "      <td>1</td>\n",
       "      <td>0</td>\n",
       "      <td>64900000.0</td>\n",
       "      <td>159.0</td>\n",
       "      <td>2015-07-24</td>\n",
       "      <td>3</td>\n",
       "      <td>2.65</td>\n",
       "      <td>14</td>\n",
       "      <td>45.0</td>\n",
       "      <td>9</td>\n",
       "      <td>False</td>\n",
       "      <td>False</td>\n",
       "      <td>False</td>\n",
       "      <td>9.5</td>\n",
       "      <td>0</td>\n",
       "      <td>Санкт-Петербург</td>\n",
       "      <td>28098.0</td>\n",
       "      <td>6800.0</td>\n",
       "      <td>2.0</td>\n",
       "      <td>84.0</td>\n",
       "      <td>3.0</td>\n",
       "      <td>234.0</td>\n",
       "      <td>424.0</td>\n",
       "      <td>45.0</td>\n",
       "      <td>9.5</td>\n",
       "      <td>0</td>\n",
       "      <td>7</td>\n",
       "      <td>2015</td>\n",
       "      <td>4</td>\n",
       "      <td>другой</td>\n",
       "      <td>408176</td>\n",
       "    </tr>\n",
       "    <tr>\n",
       "      <td>2</td>\n",
       "      <td>18</td>\n",
       "      <td>5400000.0</td>\n",
       "      <td>61.0</td>\n",
       "      <td>2017-02-26</td>\n",
       "      <td>3</td>\n",
       "      <td>2.50</td>\n",
       "      <td>9</td>\n",
       "      <td>43.6</td>\n",
       "      <td>7</td>\n",
       "      <td>False</td>\n",
       "      <td>False</td>\n",
       "      <td>False</td>\n",
       "      <td>6.5</td>\n",
       "      <td>2</td>\n",
       "      <td>Санкт-Петербург</td>\n",
       "      <td>50898.0</td>\n",
       "      <td>15008.0</td>\n",
       "      <td>0.0</td>\n",
       "      <td>455.0</td>\n",
       "      <td>0.0</td>\n",
       "      <td>503.0</td>\n",
       "      <td>289.0</td>\n",
       "      <td>45.0</td>\n",
       "      <td>9.5</td>\n",
       "      <td>0</td>\n",
       "      <td>2</td>\n",
       "      <td>2017</td>\n",
       "      <td>6</td>\n",
       "      <td>другой</td>\n",
       "      <td>88524</td>\n",
       "    </tr>\n",
       "    <tr>\n",
       "      <td>3</td>\n",
       "      <td>11</td>\n",
       "      <td>6700000.0</td>\n",
       "      <td>82.0</td>\n",
       "      <td>2017-11-23</td>\n",
       "      <td>3</td>\n",
       "      <td>3.05</td>\n",
       "      <td>5</td>\n",
       "      <td>55.6</td>\n",
       "      <td>1</td>\n",
       "      <td>False</td>\n",
       "      <td>False</td>\n",
       "      <td>False</td>\n",
       "      <td>9.0</td>\n",
       "      <td>0</td>\n",
       "      <td>Санкт-Петербург</td>\n",
       "      <td>22108.0</td>\n",
       "      <td>10698.0</td>\n",
       "      <td>3.0</td>\n",
       "      <td>420.0</td>\n",
       "      <td>0.0</td>\n",
       "      <td>503.0</td>\n",
       "      <td>397.0</td>\n",
       "      <td>45.0</td>\n",
       "      <td>9.5</td>\n",
       "      <td>0</td>\n",
       "      <td>11</td>\n",
       "      <td>2017</td>\n",
       "      <td>3</td>\n",
       "      <td>первый</td>\n",
       "      <td>81707</td>\n",
       "    </tr>\n",
       "    <tr>\n",
       "      <td>4</td>\n",
       "      <td>16</td>\n",
       "      <td>14200000.0</td>\n",
       "      <td>121.0</td>\n",
       "      <td>2019-01-09</td>\n",
       "      <td>3</td>\n",
       "      <td>2.75</td>\n",
       "      <td>16</td>\n",
       "      <td>76.0</td>\n",
       "      <td>8</td>\n",
       "      <td>False</td>\n",
       "      <td>False</td>\n",
       "      <td>False</td>\n",
       "      <td>12.0</td>\n",
       "      <td>0</td>\n",
       "      <td>Санкт-Петербург</td>\n",
       "      <td>38900.0</td>\n",
       "      <td>12843.0</td>\n",
       "      <td>0.0</td>\n",
       "      <td>455.0</td>\n",
       "      <td>0.0</td>\n",
       "      <td>503.0</td>\n",
       "      <td>97.0</td>\n",
       "      <td>45.0</td>\n",
       "      <td>9.5</td>\n",
       "      <td>0</td>\n",
       "      <td>1</td>\n",
       "      <td>2019</td>\n",
       "      <td>2</td>\n",
       "      <td>другой</td>\n",
       "      <td>117355</td>\n",
       "    </tr>\n",
       "  </tbody>\n",
       "</table>\n",
       "</div>"
      ],
      "text/plain": [
       "   total_images  last_price  total_area first_day_exposition  rooms  \\\n",
       "0            20  13000000.0       108.0           2019-03-07      3   \n",
       "1             0  64900000.0       159.0           2015-07-24      3   \n",
       "2            18   5400000.0        61.0           2017-02-26      3   \n",
       "3            11   6700000.0        82.0           2017-11-23      3   \n",
       "4            16  14200000.0       121.0           2019-01-09      3   \n",
       "\n",
       "   ceiling_height  floors_total  living_area  floor  is_apartment  studio  \\\n",
       "0            2.70            16         51.0      8         False   False   \n",
       "1            2.65            14         45.0      9         False   False   \n",
       "2            2.50             9         43.6      7         False   False   \n",
       "3            3.05             5         55.6      1         False   False   \n",
       "4            2.75            16         76.0      8         False   False   \n",
       "\n",
       "   open_plan  kitchen_area  balcony    locality_name  airports_nearest  \\\n",
       "0      False          25.0        0  Санкт-Петербург           18863.0   \n",
       "1      False           9.5        0  Санкт-Петербург           28098.0   \n",
       "2      False           6.5        2  Санкт-Петербург           50898.0   \n",
       "3      False           9.0        0  Санкт-Петербург           22108.0   \n",
       "4      False          12.0        0  Санкт-Петербург           38900.0   \n",
       "\n",
       "   cityCenters_nearest  parks_around3000  parks_nearest  ponds_around3000  \\\n",
       "0              16028.0               1.0          482.0               2.0   \n",
       "1               6800.0               2.0           84.0               3.0   \n",
       "2              15008.0               0.0          455.0               0.0   \n",
       "3              10698.0               3.0          420.0               0.0   \n",
       "4              12843.0               0.0          455.0               0.0   \n",
       "\n",
       "   ponds_nearest  days_exposition  median_living_area  median_kitchen_area  \\\n",
       "0          755.0              NaN                45.0                  9.5   \n",
       "1          234.0            424.0                45.0                  9.5   \n",
       "2          503.0            289.0                45.0                  9.5   \n",
       "3          503.0            397.0                45.0                  9.5   \n",
       "4          503.0             97.0                45.0                  9.5   \n",
       "\n",
       "   days_exposition_missing  month  year  weekday floor_group  price_one_metre  \n",
       "0                        1      3  2019        3      другой           120370  \n",
       "1                        0      7  2015        4      другой           408176  \n",
       "2                        0      2  2017        6      другой            88524  \n",
       "3                        0     11  2017        3      первый            81707  \n",
       "4                        0      1  2019        2      другой           117355  "
      ]
     },
     "execution_count": 22,
     "metadata": {},
     "output_type": "execute_result"
    }
   ],
   "source": [
    "data['price_one_metre'] = data['last_price']/data['total_area'] #добавляем новый столбец price_one_metre со значением цены за кв.метр\n",
    "data['price_one_metre'] = data['price_one_metre'].astype(int) #изменяем тип данных на целое число для удобства\n",
    "data.head() #выводим первые 5 строк датафрейма"
   ]
  },
  {
   "cell_type": "markdown",
   "metadata": {},
   "source": [
    "Считаем и добавляем в таблицу соотношение жилой и общей площади, а также отношение площади кухни к общей."
   ]
  },
  {
   "cell_type": "code",
   "execution_count": 23,
   "metadata": {},
   "outputs": [
    {
     "data": {
      "text/html": [
       "<div>\n",
       "<style scoped>\n",
       "    .dataframe tbody tr th:only-of-type {\n",
       "        vertical-align: middle;\n",
       "    }\n",
       "\n",
       "    .dataframe tbody tr th {\n",
       "        vertical-align: top;\n",
       "    }\n",
       "\n",
       "    .dataframe thead th {\n",
       "        text-align: right;\n",
       "    }\n",
       "</style>\n",
       "<table border=\"1\" class=\"dataframe\">\n",
       "  <thead>\n",
       "    <tr style=\"text-align: right;\">\n",
       "      <th></th>\n",
       "      <th>total_images</th>\n",
       "      <th>last_price</th>\n",
       "      <th>total_area</th>\n",
       "      <th>first_day_exposition</th>\n",
       "      <th>rooms</th>\n",
       "      <th>ceiling_height</th>\n",
       "      <th>floors_total</th>\n",
       "      <th>living_area</th>\n",
       "      <th>floor</th>\n",
       "      <th>is_apartment</th>\n",
       "      <th>studio</th>\n",
       "      <th>open_plan</th>\n",
       "      <th>kitchen_area</th>\n",
       "      <th>balcony</th>\n",
       "      <th>locality_name</th>\n",
       "      <th>airports_nearest</th>\n",
       "      <th>cityCenters_nearest</th>\n",
       "      <th>parks_around3000</th>\n",
       "      <th>parks_nearest</th>\n",
       "      <th>ponds_around3000</th>\n",
       "      <th>ponds_nearest</th>\n",
       "      <th>days_exposition</th>\n",
       "      <th>median_living_area</th>\n",
       "      <th>median_kitchen_area</th>\n",
       "      <th>days_exposition_missing</th>\n",
       "      <th>month</th>\n",
       "      <th>year</th>\n",
       "      <th>weekday</th>\n",
       "      <th>floor_group</th>\n",
       "      <th>price_one_metre</th>\n",
       "      <th>living_ratio</th>\n",
       "      <th>kitchen_ratio</th>\n",
       "    </tr>\n",
       "  </thead>\n",
       "  <tbody>\n",
       "    <tr>\n",
       "      <td>0</td>\n",
       "      <td>20</td>\n",
       "      <td>13000000.0</td>\n",
       "      <td>108.0</td>\n",
       "      <td>2019-03-07</td>\n",
       "      <td>3</td>\n",
       "      <td>2.70</td>\n",
       "      <td>16</td>\n",
       "      <td>51.0</td>\n",
       "      <td>8</td>\n",
       "      <td>False</td>\n",
       "      <td>False</td>\n",
       "      <td>False</td>\n",
       "      <td>25.0</td>\n",
       "      <td>0</td>\n",
       "      <td>Санкт-Петербург</td>\n",
       "      <td>18863.0</td>\n",
       "      <td>16028.0</td>\n",
       "      <td>1.0</td>\n",
       "      <td>482.0</td>\n",
       "      <td>2.0</td>\n",
       "      <td>755.0</td>\n",
       "      <td>NaN</td>\n",
       "      <td>45.0</td>\n",
       "      <td>9.5</td>\n",
       "      <td>1</td>\n",
       "      <td>3</td>\n",
       "      <td>2019</td>\n",
       "      <td>3</td>\n",
       "      <td>другой</td>\n",
       "      <td>120370</td>\n",
       "      <td>47.22</td>\n",
       "      <td>23.15</td>\n",
       "    </tr>\n",
       "    <tr>\n",
       "      <td>1</td>\n",
       "      <td>0</td>\n",
       "      <td>64900000.0</td>\n",
       "      <td>159.0</td>\n",
       "      <td>2015-07-24</td>\n",
       "      <td>3</td>\n",
       "      <td>2.65</td>\n",
       "      <td>14</td>\n",
       "      <td>45.0</td>\n",
       "      <td>9</td>\n",
       "      <td>False</td>\n",
       "      <td>False</td>\n",
       "      <td>False</td>\n",
       "      <td>9.5</td>\n",
       "      <td>0</td>\n",
       "      <td>Санкт-Петербург</td>\n",
       "      <td>28098.0</td>\n",
       "      <td>6800.0</td>\n",
       "      <td>2.0</td>\n",
       "      <td>84.0</td>\n",
       "      <td>3.0</td>\n",
       "      <td>234.0</td>\n",
       "      <td>424.0</td>\n",
       "      <td>45.0</td>\n",
       "      <td>9.5</td>\n",
       "      <td>0</td>\n",
       "      <td>7</td>\n",
       "      <td>2015</td>\n",
       "      <td>4</td>\n",
       "      <td>другой</td>\n",
       "      <td>408176</td>\n",
       "      <td>28.30</td>\n",
       "      <td>5.97</td>\n",
       "    </tr>\n",
       "    <tr>\n",
       "      <td>2</td>\n",
       "      <td>18</td>\n",
       "      <td>5400000.0</td>\n",
       "      <td>61.0</td>\n",
       "      <td>2017-02-26</td>\n",
       "      <td>3</td>\n",
       "      <td>2.50</td>\n",
       "      <td>9</td>\n",
       "      <td>43.6</td>\n",
       "      <td>7</td>\n",
       "      <td>False</td>\n",
       "      <td>False</td>\n",
       "      <td>False</td>\n",
       "      <td>6.5</td>\n",
       "      <td>2</td>\n",
       "      <td>Санкт-Петербург</td>\n",
       "      <td>50898.0</td>\n",
       "      <td>15008.0</td>\n",
       "      <td>0.0</td>\n",
       "      <td>455.0</td>\n",
       "      <td>0.0</td>\n",
       "      <td>503.0</td>\n",
       "      <td>289.0</td>\n",
       "      <td>45.0</td>\n",
       "      <td>9.5</td>\n",
       "      <td>0</td>\n",
       "      <td>2</td>\n",
       "      <td>2017</td>\n",
       "      <td>6</td>\n",
       "      <td>другой</td>\n",
       "      <td>88524</td>\n",
       "      <td>71.48</td>\n",
       "      <td>10.66</td>\n",
       "    </tr>\n",
       "    <tr>\n",
       "      <td>3</td>\n",
       "      <td>11</td>\n",
       "      <td>6700000.0</td>\n",
       "      <td>82.0</td>\n",
       "      <td>2017-11-23</td>\n",
       "      <td>3</td>\n",
       "      <td>3.05</td>\n",
       "      <td>5</td>\n",
       "      <td>55.6</td>\n",
       "      <td>1</td>\n",
       "      <td>False</td>\n",
       "      <td>False</td>\n",
       "      <td>False</td>\n",
       "      <td>9.0</td>\n",
       "      <td>0</td>\n",
       "      <td>Санкт-Петербург</td>\n",
       "      <td>22108.0</td>\n",
       "      <td>10698.0</td>\n",
       "      <td>3.0</td>\n",
       "      <td>420.0</td>\n",
       "      <td>0.0</td>\n",
       "      <td>503.0</td>\n",
       "      <td>397.0</td>\n",
       "      <td>45.0</td>\n",
       "      <td>9.5</td>\n",
       "      <td>0</td>\n",
       "      <td>11</td>\n",
       "      <td>2017</td>\n",
       "      <td>3</td>\n",
       "      <td>первый</td>\n",
       "      <td>81707</td>\n",
       "      <td>67.80</td>\n",
       "      <td>10.98</td>\n",
       "    </tr>\n",
       "    <tr>\n",
       "      <td>4</td>\n",
       "      <td>16</td>\n",
       "      <td>14200000.0</td>\n",
       "      <td>121.0</td>\n",
       "      <td>2019-01-09</td>\n",
       "      <td>3</td>\n",
       "      <td>2.75</td>\n",
       "      <td>16</td>\n",
       "      <td>76.0</td>\n",
       "      <td>8</td>\n",
       "      <td>False</td>\n",
       "      <td>False</td>\n",
       "      <td>False</td>\n",
       "      <td>12.0</td>\n",
       "      <td>0</td>\n",
       "      <td>Санкт-Петербург</td>\n",
       "      <td>38900.0</td>\n",
       "      <td>12843.0</td>\n",
       "      <td>0.0</td>\n",
       "      <td>455.0</td>\n",
       "      <td>0.0</td>\n",
       "      <td>503.0</td>\n",
       "      <td>97.0</td>\n",
       "      <td>45.0</td>\n",
       "      <td>9.5</td>\n",
       "      <td>0</td>\n",
       "      <td>1</td>\n",
       "      <td>2019</td>\n",
       "      <td>2</td>\n",
       "      <td>другой</td>\n",
       "      <td>117355</td>\n",
       "      <td>62.81</td>\n",
       "      <td>9.92</td>\n",
       "    </tr>\n",
       "  </tbody>\n",
       "</table>\n",
       "</div>"
      ],
      "text/plain": [
       "   total_images  last_price  total_area first_day_exposition  rooms  \\\n",
       "0            20  13000000.0       108.0           2019-03-07      3   \n",
       "1             0  64900000.0       159.0           2015-07-24      3   \n",
       "2            18   5400000.0        61.0           2017-02-26      3   \n",
       "3            11   6700000.0        82.0           2017-11-23      3   \n",
       "4            16  14200000.0       121.0           2019-01-09      3   \n",
       "\n",
       "   ceiling_height  floors_total  living_area  floor  is_apartment  studio  \\\n",
       "0            2.70            16         51.0      8         False   False   \n",
       "1            2.65            14         45.0      9         False   False   \n",
       "2            2.50             9         43.6      7         False   False   \n",
       "3            3.05             5         55.6      1         False   False   \n",
       "4            2.75            16         76.0      8         False   False   \n",
       "\n",
       "   open_plan  kitchen_area  balcony    locality_name  airports_nearest  \\\n",
       "0      False          25.0        0  Санкт-Петербург           18863.0   \n",
       "1      False           9.5        0  Санкт-Петербург           28098.0   \n",
       "2      False           6.5        2  Санкт-Петербург           50898.0   \n",
       "3      False           9.0        0  Санкт-Петербург           22108.0   \n",
       "4      False          12.0        0  Санкт-Петербург           38900.0   \n",
       "\n",
       "   cityCenters_nearest  parks_around3000  parks_nearest  ponds_around3000  \\\n",
       "0              16028.0               1.0          482.0               2.0   \n",
       "1               6800.0               2.0           84.0               3.0   \n",
       "2              15008.0               0.0          455.0               0.0   \n",
       "3              10698.0               3.0          420.0               0.0   \n",
       "4              12843.0               0.0          455.0               0.0   \n",
       "\n",
       "   ponds_nearest  days_exposition  median_living_area  median_kitchen_area  \\\n",
       "0          755.0              NaN                45.0                  9.5   \n",
       "1          234.0            424.0                45.0                  9.5   \n",
       "2          503.0            289.0                45.0                  9.5   \n",
       "3          503.0            397.0                45.0                  9.5   \n",
       "4          503.0             97.0                45.0                  9.5   \n",
       "\n",
       "   days_exposition_missing  month  year  weekday floor_group  price_one_metre  \\\n",
       "0                        1      3  2019        3      другой           120370   \n",
       "1                        0      7  2015        4      другой           408176   \n",
       "2                        0      2  2017        6      другой            88524   \n",
       "3                        0     11  2017        3      первый            81707   \n",
       "4                        0      1  2019        2      другой           117355   \n",
       "\n",
       "   living_ratio  kitchen_ratio  \n",
       "0         47.22          23.15  \n",
       "1         28.30           5.97  \n",
       "2         71.48          10.66  \n",
       "3         67.80          10.98  \n",
       "4         62.81           9.92  "
      ]
     },
     "execution_count": 23,
     "metadata": {},
     "output_type": "execute_result"
    }
   ],
   "source": [
    "data['living_ratio'] = ((data['living_area']/data['total_area'])*100).round(2) #добавляем столбец living_ratio со значением соотношения жилой площади к обшей в %\n",
    "data['kitchen_ratio'] = ((data['kitchen_area']/data['total_area'])*100).round(2)#добавляем столбец living_ratio со значением соотношения  площади кухни к обшей в %\n",
    "data.head()#выводим первые 5 строк датафрейма"
   ]
  },
  {
   "cell_type": "markdown",
   "metadata": {},
   "source": [
    "В данной части провели необходимые расчеты для дальнейшего исследовательского анализа: посчитали цену за квадратный метр, извлекли в отдельные столбцы месяц,год и день недели даты публикации объявления, посчитали соотношение жилой площади и площади кухни к общей площади квартиры, присволи категории для столбца floor."
   ]
  },
  {
   "cell_type": "markdown",
   "metadata": {},
   "source": [
    "## Исследовательский анализ данных"
   ]
  },
  {
   "cell_type": "markdown",
   "metadata": {},
   "source": [
    "Изучаем следующие параметры: площадь, цена, число комнат, высота потолков. строим гистограммы для каждого параметра."
   ]
  },
  {
   "cell_type": "code",
   "execution_count": 24,
   "metadata": {
    "scrolled": false
   },
   "outputs": [
    {
     "data": {
      "text/plain": [
       "count    23565.000000\n",
       "mean        60.322824\n",
       "std         35.657060\n",
       "min         12.000000\n",
       "25%         40.000000\n",
       "50%         52.000000\n",
       "75%         69.700000\n",
       "max        900.000000\n",
       "Name: total_area, dtype: float64"
      ]
     },
     "metadata": {},
     "output_type": "display_data"
    },
    {
     "data": {
      "image/png": "[encoded data removed]",
      "text/plain": [
       "<Figure size 432x288 with 1 Axes>"
      ]
     },
     "metadata": {
      "needs_background": "light"
     },
     "output_type": "display_data"
    },
    {
     "data": {
      "text/plain": [
       "count    2.356500e+04\n",
       "mean     6.540058e+06\n",
       "std      1.091093e+07\n",
       "min      1.219000e+04\n",
       "25%      3.400000e+06\n",
       "50%      4.646000e+06\n",
       "75%      6.790000e+06\n",
       "max      7.630000e+08\n",
       "Name: last_price, dtype: float64"
      ]
     },
     "metadata": {},
     "output_type": "display_data"
    },
    {
     "data": {
      "image/png": "[encoded data removed]",
      "text/plain": [
       "<Figure size 432x288 with 1 Axes>"
      ]
     },
     "metadata": {
      "needs_background": "light"
     },
     "output_type": "display_data"
    },
    {
     "data": {
      "text/plain": [
       "count    23565.000000\n",
       "mean         2.070656\n",
       "std          1.078591\n",
       "min          0.000000\n",
       "25%          1.000000\n",
       "50%          2.000000\n",
       "75%          3.000000\n",
       "max         19.000000\n",
       "Name: rooms, dtype: float64"
      ]
     },
     "metadata": {},
     "output_type": "display_data"
    },
    {
     "data": {
      "image/png": "[encoded data removed]",
      "text/plain": [
       "<Figure size 432x288 with 1 Axes>"
      ]
     },
     "metadata": {
      "needs_background": "light"
     },
     "output_type": "display_data"
    },
    {
     "data": {
      "text/plain": [
       "count    23565.000000\n",
       "mean         2.724530\n",
       "std          0.991026\n",
       "min          1.000000\n",
       "25%          2.600000\n",
       "50%          2.650000\n",
       "75%          2.700000\n",
       "max        100.000000\n",
       "Name: ceiling_height, dtype: float64"
      ]
     },
     "metadata": {},
     "output_type": "display_data"
    },
    {
     "data": {
      "image/png": "[encoded data removed]",
      "text/plain": [
       "<Figure size 432x288 with 1 Axes>"
      ]
     },
     "metadata": {
      "needs_background": "light"
     },
     "output_type": "display_data"
    }
   ],
   "source": [
    "import matplotlib.pyplot as plt #импорт библиотеки для построения графиков\n",
    "columns = ['total_area','last_price','rooms','ceiling_height'] # создаем список столбцов, по которым построим гистограммы\n",
    "for column in columns: #создаем цикл\n",
    "    display(data[column].describe()) #для каждого столбца выводим числовое описание данных\n",
    "    data[column].hist(bins=100) # строим гистограммы \n",
    "    plt.show()"
   ]
  },
  {
   "cell_type": "markdown",
   "metadata": {},
   "source": [
    "По total_area,last_price,rooms,ceiling_height вывели числовое описание данных и построили диаграммы.\n",
    "По total_area видим, что большинство квартир имеют площадь почти 70 квадратных метров, что правдободно и реально. Но максимальное(900 кв.м) и минимальное(12 кв.м) значение сильно выбивается.\n",
    "По столбцу last_price сложно определить адекватность данных. будем смотреть дальше.\n",
    "По столбцу rooms  в основном квартиры имеют 3 комнаты, что реально, но есть и 0 комнат, возможно это студии или открытые планировки. Максимальное значение 19 слишклм выбивается, предполагаю, что это выброс.\n",
    "По столбцу ceiling_height мы видим в большинстве случаев адекватное значение высоты потолков, но максимальное значение (100 м) явно нереально и его надо исключить. Также минимальное значение равное единицы тоже вызывает подозрение.\n",
    "\n",
    "\n"
   ]
  },
  {
   "cell_type": "markdown",
   "metadata": {},
   "source": [
    "Для более наглядного примера и понимания, какие значения редкие и выбивающиеся, я построила диаграммы рассеивания."
   ]
  },
  {
   "cell_type": "code",
   "execution_count": 25,
   "metadata": {},
   "outputs": [
    {
     "data": {
      "text/plain": [
       "36000000.0"
      ]
     },
     "metadata": {},
     "output_type": "display_data"
    },
    {
     "data": {
      "text/plain": [
       "1000000.0"
      ]
     },
     "execution_count": 25,
     "metadata": {},
     "output_type": "execute_result"
    },
    {
     "data": {
      "image/png": "[encoded data removed]",
      "text/plain": [
       "<Figure size 432x288 with 1 Axes>"
      ]
     },
     "metadata": {
      "needs_background": "light"
     },
     "output_type": "display_data"
    }
   ],
   "source": [
    "data.boxplot(column='last_price') #строим диаграмму рассеивания\n",
    "plt.ylim(0, 15000000)\n",
    "display(data['last_price'].quantile(0.99))#рассчитываем 99% перцентиль, который примерно показывает границу верхнего уса\n",
    "data['last_price'].quantile(0.01)#рассчитываем 1% перцентиль, который примерно показывает границу нижнего уса"
   ]
  },
  {
   "cell_type": "code",
   "execution_count": 26,
   "metadata": {
    "scrolled": true
   },
   "outputs": [
    {
     "data": {
      "text/plain": [
       "5.0"
      ]
     },
     "execution_count": 26,
     "metadata": {},
     "output_type": "execute_result"
    },
    {
     "data": {
      "image/png": "[encoded data removed]",
      "text/plain": [
       "<Figure size 432x288 with 1 Axes>"
      ]
     },
     "metadata": {
      "needs_background": "light"
     },
     "output_type": "display_data"
    }
   ],
   "source": [
    "data.boxplot(column='rooms')#строим диаграмму рассеивания\n",
    "plt.ylim(0, 19)\n",
    "data['rooms'].quantile(0.99)#рассчитываем 99% перцентиль, который примерно показывает границу верхнего уса\n"
   ]
  },
  {
   "cell_type": "code",
   "execution_count": 27,
   "metadata": {},
   "outputs": [
    {
     "data": {
      "text/plain": [
       "25.319200000000002"
      ]
     },
     "execution_count": 27,
     "metadata": {},
     "output_type": "execute_result"
    },
    {
     "data": {
      "image/png": "[encoded data removed]",
      "text/plain": [
       "<Figure size 432x288 with 1 Axes>"
      ]
     },
     "metadata": {
      "needs_background": "light"
     },
     "output_type": "display_data"
    }
   ],
   "source": [
    "data.boxplot(column='total_area')#строим диаграмму рассеивания\n",
    "plt.ylim(9, 200)\n",
    "data['total_area'].quantile(0.99)#рассчитываем 99% перцентиль, который примерно показывает границу верхнего уса\n",
    "data['total_area'].quantile(0.01)#рассчитываем 1% перцентиль, который примерно показывает границу нижнего уса"
   ]
  },
  {
   "cell_type": "code",
   "execution_count": 28,
   "metadata": {
    "scrolled": true
   },
   "outputs": [
    {
     "data": {
      "text/plain": [
       "3.6"
      ]
     },
     "metadata": {},
     "output_type": "display_data"
    },
    {
     "data": {
      "text/plain": [
       "2.5"
      ]
     },
     "metadata": {},
     "output_type": "display_data"
    },
    {
     "data": {
      "image/png": "[encoded data removed]",
      "text/plain": [
       "<Figure size 432x288 with 1 Axes>"
      ]
     },
     "metadata": {
      "needs_background": "light"
     },
     "output_type": "display_data"
    }
   ],
   "source": [
    "data.boxplot(column='ceiling_height')#строим диаграмму рассеивания\n",
    "plt.ylim(1, 4)\n",
    "display(data['ceiling_height'].quantile(0.99))#рассчитываем 99% перцентиль, который примерно показывает границу верхнего уса\n",
    "display(data['ceiling_height'].quantile(0.01))#рассчитываем 1% перцентиль, который примерно показывает границу нижнего уса\n"
   ]
  },
  {
   "cell_type": "markdown",
   "metadata": {},
   "source": [
    "Наглядно мы видим все квартили по total_area,last_price,rooms,ceiling_height и посчитали 99% квартиль, то есть то, что выше этого значения - аномалии и от них надо избавиться. По столбцу ceiling_height считаю, что высота потолка не может быть 1 метр, посмотрела перцентиль 1%, можно удалять данные меньше 2.5. Также посчитали перцентиль 1% для столбцов total_area,last_price. Удалим все аномалии больше 99% перцентиль и меньше 1% перцентиль."
   ]
  },
  {
   "cell_type": "markdown",
   "metadata": {},
   "source": [
    "Изучаем время продажи квартиры. "
   ]
  },
  {
   "cell_type": "code",
   "execution_count": 29,
   "metadata": {
    "scrolled": false
   },
   "outputs": [
    {
     "data": {
      "text/plain": [
       "count    20394.000000\n",
       "mean       180.741395\n",
       "std        219.732782\n",
       "min          1.000000\n",
       "25%         45.000000\n",
       "50%         95.000000\n",
       "75%        231.000000\n",
       "max       1580.000000\n",
       "Name: days_exposition, dtype: float64"
      ]
     },
     "metadata": {},
     "output_type": "display_data"
    },
    {
     "data": {
      "image/png": "[encoded data removed]",
      "text/plain": [
       "<Figure size 432x288 with 1 Axes>"
      ]
     },
     "metadata": {
      "needs_background": "light"
     },
     "output_type": "display_data"
    },
    {
     "data": {
      "text/plain": [
       "1067.1399999999994"
      ]
     },
     "metadata": {},
     "output_type": "display_data"
    }
   ],
   "source": [
    "display(data['days_exposition'].describe())#выводим числовое описание данных\n",
    "data['days_exposition'].hist(bins=50)#строим гистограмму\n",
    "plt.show()\n",
    "display(data['days_exposition'].quantile(0.99))#рассчитываем 99% перцентиль, который примерно показывает границу верхнего уса"
   ]
  },
  {
   "cell_type": "markdown",
   "metadata": {},
   "source": [
    "По days_exposition мы видим, что чаще всего квартиры продают до 200 дней с момента публикации. В среднем 180 дней, 50% продаж (медиана) проходит за 95 дней. Минимальное значение единица, то есть есть случаи продажи квартиры за 1 день. Максимальное значение 1580 дней, это слишком выбивающиеся значение. 99% квартиль имеет значение 1067, то есть то, что выше аномалии."
   ]
  },
  {
   "cell_type": "markdown",
   "metadata": {},
   "source": [
    "Убираем редкие и выбивающиеся значения. "
   ]
  },
  {
   "cell_type": "code",
   "execution_count": 30,
   "metadata": {
    "scrolled": false
   },
   "outputs": [
    {
     "data": {
      "text/html": [
       "<div>\n",
       "<style scoped>\n",
       "    .dataframe tbody tr th:only-of-type {\n",
       "        vertical-align: middle;\n",
       "    }\n",
       "\n",
       "    .dataframe tbody tr th {\n",
       "        vertical-align: top;\n",
       "    }\n",
       "\n",
       "    .dataframe thead th {\n",
       "        text-align: right;\n",
       "    }\n",
       "</style>\n",
       "<table border=\"1\" class=\"dataframe\">\n",
       "  <thead>\n",
       "    <tr style=\"text-align: right;\">\n",
       "      <th></th>\n",
       "      <th>total_images</th>\n",
       "      <th>last_price</th>\n",
       "      <th>total_area</th>\n",
       "      <th>first_day_exposition</th>\n",
       "      <th>rooms</th>\n",
       "      <th>ceiling_height</th>\n",
       "      <th>floors_total</th>\n",
       "      <th>living_area</th>\n",
       "      <th>floor</th>\n",
       "      <th>is_apartment</th>\n",
       "      <th>studio</th>\n",
       "      <th>open_plan</th>\n",
       "      <th>kitchen_area</th>\n",
       "      <th>balcony</th>\n",
       "      <th>locality_name</th>\n",
       "      <th>airports_nearest</th>\n",
       "      <th>cityCenters_nearest</th>\n",
       "      <th>parks_around3000</th>\n",
       "      <th>parks_nearest</th>\n",
       "      <th>ponds_around3000</th>\n",
       "      <th>ponds_nearest</th>\n",
       "      <th>days_exposition</th>\n",
       "      <th>median_living_area</th>\n",
       "      <th>median_kitchen_area</th>\n",
       "      <th>days_exposition_missing</th>\n",
       "      <th>month</th>\n",
       "      <th>year</th>\n",
       "      <th>weekday</th>\n",
       "      <th>floor_group</th>\n",
       "      <th>price_one_metre</th>\n",
       "      <th>living_ratio</th>\n",
       "      <th>kitchen_ratio</th>\n",
       "    </tr>\n",
       "  </thead>\n",
       "  <tbody>\n",
       "    <tr>\n",
       "      <td>0</td>\n",
       "      <td>20</td>\n",
       "      <td>13000000.0</td>\n",
       "      <td>108.0</td>\n",
       "      <td>2019-03-07</td>\n",
       "      <td>3</td>\n",
       "      <td>2.70</td>\n",
       "      <td>16</td>\n",
       "      <td>51.00</td>\n",
       "      <td>8</td>\n",
       "      <td>False</td>\n",
       "      <td>False</td>\n",
       "      <td>False</td>\n",
       "      <td>25.00</td>\n",
       "      <td>0</td>\n",
       "      <td>Санкт-Петербург</td>\n",
       "      <td>18863.0</td>\n",
       "      <td>16028.0</td>\n",
       "      <td>1.0</td>\n",
       "      <td>482.0</td>\n",
       "      <td>2.0</td>\n",
       "      <td>755.0</td>\n",
       "      <td>NaN</td>\n",
       "      <td>45.0</td>\n",
       "      <td>9.5</td>\n",
       "      <td>1</td>\n",
       "      <td>3</td>\n",
       "      <td>2019</td>\n",
       "      <td>3</td>\n",
       "      <td>другой</td>\n",
       "      <td>120370</td>\n",
       "      <td>47.22</td>\n",
       "      <td>23.15</td>\n",
       "    </tr>\n",
       "    <tr>\n",
       "      <td>3</td>\n",
       "      <td>11</td>\n",
       "      <td>6700000.0</td>\n",
       "      <td>82.0</td>\n",
       "      <td>2017-11-23</td>\n",
       "      <td>3</td>\n",
       "      <td>3.05</td>\n",
       "      <td>5</td>\n",
       "      <td>55.60</td>\n",
       "      <td>1</td>\n",
       "      <td>False</td>\n",
       "      <td>False</td>\n",
       "      <td>False</td>\n",
       "      <td>9.00</td>\n",
       "      <td>0</td>\n",
       "      <td>Санкт-Петербург</td>\n",
       "      <td>22108.0</td>\n",
       "      <td>10698.0</td>\n",
       "      <td>3.0</td>\n",
       "      <td>420.0</td>\n",
       "      <td>0.0</td>\n",
       "      <td>503.0</td>\n",
       "      <td>397.0</td>\n",
       "      <td>45.0</td>\n",
       "      <td>9.5</td>\n",
       "      <td>0</td>\n",
       "      <td>11</td>\n",
       "      <td>2017</td>\n",
       "      <td>3</td>\n",
       "      <td>первый</td>\n",
       "      <td>81707</td>\n",
       "      <td>67.80</td>\n",
       "      <td>10.98</td>\n",
       "    </tr>\n",
       "    <tr>\n",
       "      <td>4</td>\n",
       "      <td>16</td>\n",
       "      <td>14200000.0</td>\n",
       "      <td>121.0</td>\n",
       "      <td>2019-01-09</td>\n",
       "      <td>3</td>\n",
       "      <td>2.75</td>\n",
       "      <td>16</td>\n",
       "      <td>76.00</td>\n",
       "      <td>8</td>\n",
       "      <td>False</td>\n",
       "      <td>False</td>\n",
       "      <td>False</td>\n",
       "      <td>12.00</td>\n",
       "      <td>0</td>\n",
       "      <td>Санкт-Петербург</td>\n",
       "      <td>38900.0</td>\n",
       "      <td>12843.0</td>\n",
       "      <td>0.0</td>\n",
       "      <td>455.0</td>\n",
       "      <td>0.0</td>\n",
       "      <td>503.0</td>\n",
       "      <td>97.0</td>\n",
       "      <td>45.0</td>\n",
       "      <td>9.5</td>\n",
       "      <td>0</td>\n",
       "      <td>1</td>\n",
       "      <td>2019</td>\n",
       "      <td>2</td>\n",
       "      <td>другой</td>\n",
       "      <td>117355</td>\n",
       "      <td>62.81</td>\n",
       "      <td>9.92</td>\n",
       "    </tr>\n",
       "    <tr>\n",
       "      <td>5</td>\n",
       "      <td>12</td>\n",
       "      <td>6120000.0</td>\n",
       "      <td>80.0</td>\n",
       "      <td>2017-09-28</td>\n",
       "      <td>3</td>\n",
       "      <td>2.70</td>\n",
       "      <td>27</td>\n",
       "      <td>48.00</td>\n",
       "      <td>11</td>\n",
       "      <td>False</td>\n",
       "      <td>False</td>\n",
       "      <td>False</td>\n",
       "      <td>12.00</td>\n",
       "      <td>2</td>\n",
       "      <td>Парголово</td>\n",
       "      <td>53134.0</td>\n",
       "      <td>19311.0</td>\n",
       "      <td>0.0</td>\n",
       "      <td>455.0</td>\n",
       "      <td>0.0</td>\n",
       "      <td>503.0</td>\n",
       "      <td>74.0</td>\n",
       "      <td>45.0</td>\n",
       "      <td>9.5</td>\n",
       "      <td>0</td>\n",
       "      <td>9</td>\n",
       "      <td>2017</td>\n",
       "      <td>3</td>\n",
       "      <td>другой</td>\n",
       "      <td>76500</td>\n",
       "      <td>60.00</td>\n",
       "      <td>15.00</td>\n",
       "    </tr>\n",
       "    <tr>\n",
       "      <td>6</td>\n",
       "      <td>20</td>\n",
       "      <td>7100000.0</td>\n",
       "      <td>70.0</td>\n",
       "      <td>2017-05-12</td>\n",
       "      <td>3</td>\n",
       "      <td>2.60</td>\n",
       "      <td>17</td>\n",
       "      <td>49.00</td>\n",
       "      <td>11</td>\n",
       "      <td>False</td>\n",
       "      <td>False</td>\n",
       "      <td>False</td>\n",
       "      <td>9.20</td>\n",
       "      <td>0</td>\n",
       "      <td>Санкт-Петербург</td>\n",
       "      <td>29197.0</td>\n",
       "      <td>11456.0</td>\n",
       "      <td>2.0</td>\n",
       "      <td>452.0</td>\n",
       "      <td>1.0</td>\n",
       "      <td>779.0</td>\n",
       "      <td>151.0</td>\n",
       "      <td>45.0</td>\n",
       "      <td>9.5</td>\n",
       "      <td>0</td>\n",
       "      <td>5</td>\n",
       "      <td>2017</td>\n",
       "      <td>4</td>\n",
       "      <td>другой</td>\n",
       "      <td>101428</td>\n",
       "      <td>70.00</td>\n",
       "      <td>13.14</td>\n",
       "    </tr>\n",
       "    <tr>\n",
       "      <td>7</td>\n",
       "      <td>9</td>\n",
       "      <td>8600000.0</td>\n",
       "      <td>100.0</td>\n",
       "      <td>2016-04-09</td>\n",
       "      <td>3</td>\n",
       "      <td>2.65</td>\n",
       "      <td>19</td>\n",
       "      <td>52.00</td>\n",
       "      <td>15</td>\n",
       "      <td>False</td>\n",
       "      <td>False</td>\n",
       "      <td>False</td>\n",
       "      <td>11.00</td>\n",
       "      <td>0</td>\n",
       "      <td>Санкт-Петербург</td>\n",
       "      <td>30394.0</td>\n",
       "      <td>11526.0</td>\n",
       "      <td>1.0</td>\n",
       "      <td>532.0</td>\n",
       "      <td>1.0</td>\n",
       "      <td>896.0</td>\n",
       "      <td>125.0</td>\n",
       "      <td>45.0</td>\n",
       "      <td>9.5</td>\n",
       "      <td>0</td>\n",
       "      <td>4</td>\n",
       "      <td>2016</td>\n",
       "      <td>5</td>\n",
       "      <td>другой</td>\n",
       "      <td>86000</td>\n",
       "      <td>52.00</td>\n",
       "      <td>11.00</td>\n",
       "    </tr>\n",
       "    <tr>\n",
       "      <td>8</td>\n",
       "      <td>7</td>\n",
       "      <td>4990000.0</td>\n",
       "      <td>60.0</td>\n",
       "      <td>2016-05-22</td>\n",
       "      <td>3</td>\n",
       "      <td>2.65</td>\n",
       "      <td>5</td>\n",
       "      <td>39.00</td>\n",
       "      <td>4</td>\n",
       "      <td>False</td>\n",
       "      <td>False</td>\n",
       "      <td>False</td>\n",
       "      <td>6.00</td>\n",
       "      <td>0</td>\n",
       "      <td>Санкт-Петербург</td>\n",
       "      <td>11349.0</td>\n",
       "      <td>12889.0</td>\n",
       "      <td>0.0</td>\n",
       "      <td>455.0</td>\n",
       "      <td>1.0</td>\n",
       "      <td>426.0</td>\n",
       "      <td>224.0</td>\n",
       "      <td>45.0</td>\n",
       "      <td>9.5</td>\n",
       "      <td>0</td>\n",
       "      <td>5</td>\n",
       "      <td>2016</td>\n",
       "      <td>6</td>\n",
       "      <td>другой</td>\n",
       "      <td>83166</td>\n",
       "      <td>65.00</td>\n",
       "      <td>10.00</td>\n",
       "    </tr>\n",
       "    <tr>\n",
       "      <td>9</td>\n",
       "      <td>16</td>\n",
       "      <td>7900000.0</td>\n",
       "      <td>74.0</td>\n",
       "      <td>2016-05-04</td>\n",
       "      <td>3</td>\n",
       "      <td>2.65</td>\n",
       "      <td>14</td>\n",
       "      <td>59.00</td>\n",
       "      <td>8</td>\n",
       "      <td>False</td>\n",
       "      <td>False</td>\n",
       "      <td>False</td>\n",
       "      <td>12.00</td>\n",
       "      <td>5</td>\n",
       "      <td>Санкт-Петербург</td>\n",
       "      <td>37715.0</td>\n",
       "      <td>12612.0</td>\n",
       "      <td>1.0</td>\n",
       "      <td>725.0</td>\n",
       "      <td>1.0</td>\n",
       "      <td>759.0</td>\n",
       "      <td>179.0</td>\n",
       "      <td>45.0</td>\n",
       "      <td>9.5</td>\n",
       "      <td>0</td>\n",
       "      <td>5</td>\n",
       "      <td>2016</td>\n",
       "      <td>2</td>\n",
       "      <td>другой</td>\n",
       "      <td>106756</td>\n",
       "      <td>79.73</td>\n",
       "      <td>16.22</td>\n",
       "    </tr>\n",
       "    <tr>\n",
       "      <td>10</td>\n",
       "      <td>17</td>\n",
       "      <td>3600000.0</td>\n",
       "      <td>56.1</td>\n",
       "      <td>2018-10-18</td>\n",
       "      <td>3</td>\n",
       "      <td>2.65</td>\n",
       "      <td>4</td>\n",
       "      <td>42.50</td>\n",
       "      <td>3</td>\n",
       "      <td>False</td>\n",
       "      <td>False</td>\n",
       "      <td>False</td>\n",
       "      <td>5.70</td>\n",
       "      <td>1</td>\n",
       "      <td>Гатчина</td>\n",
       "      <td>26757.0</td>\n",
       "      <td>13073.0</td>\n",
       "      <td>0.0</td>\n",
       "      <td>455.0</td>\n",
       "      <td>1.0</td>\n",
       "      <td>503.0</td>\n",
       "      <td>179.0</td>\n",
       "      <td>45.0</td>\n",
       "      <td>9.5</td>\n",
       "      <td>0</td>\n",
       "      <td>10</td>\n",
       "      <td>2018</td>\n",
       "      <td>3</td>\n",
       "      <td>другой</td>\n",
       "      <td>64171</td>\n",
       "      <td>75.76</td>\n",
       "      <td>10.16</td>\n",
       "    </tr>\n",
       "    <tr>\n",
       "      <td>12</td>\n",
       "      <td>0</td>\n",
       "      <td>4800000.0</td>\n",
       "      <td>78.6</td>\n",
       "      <td>2017-09-17</td>\n",
       "      <td>3</td>\n",
       "      <td>2.80</td>\n",
       "      <td>9</td>\n",
       "      <td>48.80</td>\n",
       "      <td>5</td>\n",
       "      <td>False</td>\n",
       "      <td>False</td>\n",
       "      <td>False</td>\n",
       "      <td>11.90</td>\n",
       "      <td>2</td>\n",
       "      <td>Сертолово</td>\n",
       "      <td>26757.0</td>\n",
       "      <td>13073.0</td>\n",
       "      <td>0.0</td>\n",
       "      <td>455.0</td>\n",
       "      <td>1.0</td>\n",
       "      <td>503.0</td>\n",
       "      <td>5.0</td>\n",
       "      <td>45.0</td>\n",
       "      <td>9.5</td>\n",
       "      <td>0</td>\n",
       "      <td>9</td>\n",
       "      <td>2017</td>\n",
       "      <td>6</td>\n",
       "      <td>другой</td>\n",
       "      <td>61068</td>\n",
       "      <td>62.09</td>\n",
       "      <td>15.14</td>\n",
       "    </tr>\n",
       "    <tr>\n",
       "      <td>13</td>\n",
       "      <td>2</td>\n",
       "      <td>20000000.0</td>\n",
       "      <td>118.0</td>\n",
       "      <td>2018-09-11</td>\n",
       "      <td>3</td>\n",
       "      <td>3.00</td>\n",
       "      <td>9</td>\n",
       "      <td>68.00</td>\n",
       "      <td>7</td>\n",
       "      <td>False</td>\n",
       "      <td>False</td>\n",
       "      <td>False</td>\n",
       "      <td>16.00</td>\n",
       "      <td>0</td>\n",
       "      <td>Санкт-Петербург</td>\n",
       "      <td>26055.0</td>\n",
       "      <td>4800.0</td>\n",
       "      <td>1.0</td>\n",
       "      <td>648.0</td>\n",
       "      <td>1.0</td>\n",
       "      <td>779.0</td>\n",
       "      <td>37.0</td>\n",
       "      <td>45.0</td>\n",
       "      <td>9.5</td>\n",
       "      <td>0</td>\n",
       "      <td>9</td>\n",
       "      <td>2018</td>\n",
       "      <td>1</td>\n",
       "      <td>другой</td>\n",
       "      <td>169491</td>\n",
       "      <td>57.63</td>\n",
       "      <td>13.56</td>\n",
       "    </tr>\n",
       "    <tr>\n",
       "      <td>15</td>\n",
       "      <td>11</td>\n",
       "      <td>4150000.0</td>\n",
       "      <td>74.0</td>\n",
       "      <td>2017-08-04</td>\n",
       "      <td>3</td>\n",
       "      <td>2.80</td>\n",
       "      <td>5</td>\n",
       "      <td>44.00</td>\n",
       "      <td>1</td>\n",
       "      <td>False</td>\n",
       "      <td>False</td>\n",
       "      <td>False</td>\n",
       "      <td>8.00</td>\n",
       "      <td>2</td>\n",
       "      <td>Фёдоровское</td>\n",
       "      <td>26757.0</td>\n",
       "      <td>13073.0</td>\n",
       "      <td>0.0</td>\n",
       "      <td>455.0</td>\n",
       "      <td>1.0</td>\n",
       "      <td>503.0</td>\n",
       "      <td>234.0</td>\n",
       "      <td>45.0</td>\n",
       "      <td>9.5</td>\n",
       "      <td>0</td>\n",
       "      <td>8</td>\n",
       "      <td>2017</td>\n",
       "      <td>4</td>\n",
       "      <td>первый</td>\n",
       "      <td>56081</td>\n",
       "      <td>59.46</td>\n",
       "      <td>10.81</td>\n",
       "    </tr>\n",
       "    <tr>\n",
       "      <td>17</td>\n",
       "      <td>10</td>\n",
       "      <td>4750000.0</td>\n",
       "      <td>73.8</td>\n",
       "      <td>2016-03-14</td>\n",
       "      <td>3</td>\n",
       "      <td>2.65</td>\n",
       "      <td>10</td>\n",
       "      <td>44.80</td>\n",
       "      <td>1</td>\n",
       "      <td>False</td>\n",
       "      <td>False</td>\n",
       "      <td>False</td>\n",
       "      <td>10.40</td>\n",
       "      <td>0</td>\n",
       "      <td>Парголово</td>\n",
       "      <td>53817.0</td>\n",
       "      <td>23742.0</td>\n",
       "      <td>0.0</td>\n",
       "      <td>455.0</td>\n",
       "      <td>3.0</td>\n",
       "      <td>631.0</td>\n",
       "      <td>166.0</td>\n",
       "      <td>45.0</td>\n",
       "      <td>9.5</td>\n",
       "      <td>0</td>\n",
       "      <td>3</td>\n",
       "      <td>2016</td>\n",
       "      <td>0</td>\n",
       "      <td>первый</td>\n",
       "      <td>64363</td>\n",
       "      <td>60.70</td>\n",
       "      <td>14.09</td>\n",
       "    </tr>\n",
       "    <tr>\n",
       "      <td>18</td>\n",
       "      <td>12</td>\n",
       "      <td>2800000.0</td>\n",
       "      <td>55.1</td>\n",
       "      <td>2016-05-14</td>\n",
       "      <td>3</td>\n",
       "      <td>2.60</td>\n",
       "      <td>5</td>\n",
       "      <td>38.40</td>\n",
       "      <td>1</td>\n",
       "      <td>False</td>\n",
       "      <td>False</td>\n",
       "      <td>False</td>\n",
       "      <td>4.90</td>\n",
       "      <td>0</td>\n",
       "      <td>Кировск</td>\n",
       "      <td>26757.0</td>\n",
       "      <td>13073.0</td>\n",
       "      <td>0.0</td>\n",
       "      <td>455.0</td>\n",
       "      <td>1.0</td>\n",
       "      <td>503.0</td>\n",
       "      <td>606.0</td>\n",
       "      <td>45.0</td>\n",
       "      <td>9.5</td>\n",
       "      <td>0</td>\n",
       "      <td>5</td>\n",
       "      <td>2016</td>\n",
       "      <td>5</td>\n",
       "      <td>первый</td>\n",
       "      <td>50816</td>\n",
       "      <td>69.69</td>\n",
       "      <td>8.89</td>\n",
       "    </tr>\n",
       "    <tr>\n",
       "      <td>19</td>\n",
       "      <td>7</td>\n",
       "      <td>4300000.0</td>\n",
       "      <td>62.1</td>\n",
       "      <td>2016-03-13</td>\n",
       "      <td>3</td>\n",
       "      <td>2.55</td>\n",
       "      <td>5</td>\n",
       "      <td>43.50</td>\n",
       "      <td>1</td>\n",
       "      <td>False</td>\n",
       "      <td>False</td>\n",
       "      <td>False</td>\n",
       "      <td>7.30</td>\n",
       "      <td>0</td>\n",
       "      <td>Санкт-Петербург</td>\n",
       "      <td>19646.0</td>\n",
       "      <td>15572.0</td>\n",
       "      <td>1.0</td>\n",
       "      <td>231.0</td>\n",
       "      <td>2.0</td>\n",
       "      <td>854.0</td>\n",
       "      <td>186.0</td>\n",
       "      <td>45.0</td>\n",
       "      <td>9.5</td>\n",
       "      <td>0</td>\n",
       "      <td>3</td>\n",
       "      <td>2016</td>\n",
       "      <td>6</td>\n",
       "      <td>первый</td>\n",
       "      <td>69243</td>\n",
       "      <td>70.05</td>\n",
       "      <td>11.76</td>\n",
       "    </tr>\n",
       "    <tr>\n",
       "      <td>21</td>\n",
       "      <td>8</td>\n",
       "      <td>4050000.0</td>\n",
       "      <td>79.1</td>\n",
       "      <td>2018-02-23</td>\n",
       "      <td>3</td>\n",
       "      <td>3.00</td>\n",
       "      <td>15</td>\n",
       "      <td>45.23</td>\n",
       "      <td>1</td>\n",
       "      <td>False</td>\n",
       "      <td>False</td>\n",
       "      <td>False</td>\n",
       "      <td>11.95</td>\n",
       "      <td>1</td>\n",
       "      <td>Новое Девяткино</td>\n",
       "      <td>26757.0</td>\n",
       "      <td>13073.0</td>\n",
       "      <td>0.0</td>\n",
       "      <td>455.0</td>\n",
       "      <td>1.0</td>\n",
       "      <td>503.0</td>\n",
       "      <td>235.0</td>\n",
       "      <td>45.0</td>\n",
       "      <td>9.5</td>\n",
       "      <td>0</td>\n",
       "      <td>2</td>\n",
       "      <td>2018</td>\n",
       "      <td>4</td>\n",
       "      <td>первый</td>\n",
       "      <td>51201</td>\n",
       "      <td>57.18</td>\n",
       "      <td>15.11</td>\n",
       "    </tr>\n",
       "    <tr>\n",
       "      <td>22</td>\n",
       "      <td>3</td>\n",
       "      <td>4500000.0</td>\n",
       "      <td>80.5</td>\n",
       "      <td>2018-01-15</td>\n",
       "      <td>3</td>\n",
       "      <td>2.65</td>\n",
       "      <td>25</td>\n",
       "      <td>45.00</td>\n",
       "      <td>16</td>\n",
       "      <td>False</td>\n",
       "      <td>False</td>\n",
       "      <td>False</td>\n",
       "      <td>9.50</td>\n",
       "      <td>0</td>\n",
       "      <td>Шушары</td>\n",
       "      <td>12430.0</td>\n",
       "      <td>18217.0</td>\n",
       "      <td>0.0</td>\n",
       "      <td>455.0</td>\n",
       "      <td>0.0</td>\n",
       "      <td>503.0</td>\n",
       "      <td>60.0</td>\n",
       "      <td>45.0</td>\n",
       "      <td>9.5</td>\n",
       "      <td>0</td>\n",
       "      <td>1</td>\n",
       "      <td>2018</td>\n",
       "      <td>0</td>\n",
       "      <td>другой</td>\n",
       "      <td>55900</td>\n",
       "      <td>55.90</td>\n",
       "      <td>11.80</td>\n",
       "    </tr>\n",
       "    <tr>\n",
       "      <td>24</td>\n",
       "      <td>9</td>\n",
       "      <td>6450000.0</td>\n",
       "      <td>67.7</td>\n",
       "      <td>2017-09-16</td>\n",
       "      <td>3</td>\n",
       "      <td>2.65</td>\n",
       "      <td>9</td>\n",
       "      <td>40.00</td>\n",
       "      <td>4</td>\n",
       "      <td>False</td>\n",
       "      <td>False</td>\n",
       "      <td>False</td>\n",
       "      <td>8.00</td>\n",
       "      <td>1</td>\n",
       "      <td>Санкт-Петербург</td>\n",
       "      <td>32668.0</td>\n",
       "      <td>13832.0</td>\n",
       "      <td>0.0</td>\n",
       "      <td>455.0</td>\n",
       "      <td>0.0</td>\n",
       "      <td>503.0</td>\n",
       "      <td>534.0</td>\n",
       "      <td>45.0</td>\n",
       "      <td>9.5</td>\n",
       "      <td>0</td>\n",
       "      <td>9</td>\n",
       "      <td>2017</td>\n",
       "      <td>5</td>\n",
       "      <td>другой</td>\n",
       "      <td>95273</td>\n",
       "      <td>59.08</td>\n",
       "      <td>11.82</td>\n",
       "    </tr>\n",
       "    <tr>\n",
       "      <td>26</td>\n",
       "      <td>11</td>\n",
       "      <td>11700000.0</td>\n",
       "      <td>80.0</td>\n",
       "      <td>2014-12-10</td>\n",
       "      <td>3</td>\n",
       "      <td>2.65</td>\n",
       "      <td>5</td>\n",
       "      <td>55.10</td>\n",
       "      <td>3</td>\n",
       "      <td>False</td>\n",
       "      <td>False</td>\n",
       "      <td>False</td>\n",
       "      <td>11.00</td>\n",
       "      <td>0</td>\n",
       "      <td>Санкт-Петербург</td>\n",
       "      <td>11248.0</td>\n",
       "      <td>8767.0</td>\n",
       "      <td>1.0</td>\n",
       "      <td>666.0</td>\n",
       "      <td>0.0</td>\n",
       "      <td>503.0</td>\n",
       "      <td>831.0</td>\n",
       "      <td>45.0</td>\n",
       "      <td>9.5</td>\n",
       "      <td>0</td>\n",
       "      <td>12</td>\n",
       "      <td>2014</td>\n",
       "      <td>2</td>\n",
       "      <td>другой</td>\n",
       "      <td>146250</td>\n",
       "      <td>68.88</td>\n",
       "      <td>13.75</td>\n",
       "    </tr>\n",
       "    <tr>\n",
       "      <td>27</td>\n",
       "      <td>9</td>\n",
       "      <td>9490000.0</td>\n",
       "      <td>80.0</td>\n",
       "      <td>2017-10-30</td>\n",
       "      <td>3</td>\n",
       "      <td>2.55</td>\n",
       "      <td>10</td>\n",
       "      <td>46.00</td>\n",
       "      <td>7</td>\n",
       "      <td>False</td>\n",
       "      <td>False</td>\n",
       "      <td>False</td>\n",
       "      <td>11.00</td>\n",
       "      <td>1</td>\n",
       "      <td>Санкт-Петербург</td>\n",
       "      <td>35958.0</td>\n",
       "      <td>9860.0</td>\n",
       "      <td>0.0</td>\n",
       "      <td>455.0</td>\n",
       "      <td>0.0</td>\n",
       "      <td>503.0</td>\n",
       "      <td>NaN</td>\n",
       "      <td>45.0</td>\n",
       "      <td>9.5</td>\n",
       "      <td>1</td>\n",
       "      <td>10</td>\n",
       "      <td>2017</td>\n",
       "      <td>0</td>\n",
       "      <td>другой</td>\n",
       "      <td>118625</td>\n",
       "      <td>57.50</td>\n",
       "      <td>13.75</td>\n",
       "    </tr>\n",
       "  </tbody>\n",
       "</table>\n",
       "</div>"
      ],
      "text/plain": [
       "    total_images  last_price  total_area first_day_exposition  rooms  \\\n",
       "0             20  13000000.0       108.0           2019-03-07      3   \n",
       "3             11   6700000.0        82.0           2017-11-23      3   \n",
       "4             16  14200000.0       121.0           2019-01-09      3   \n",
       "5             12   6120000.0        80.0           2017-09-28      3   \n",
       "6             20   7100000.0        70.0           2017-05-12      3   \n",
       "7              9   8600000.0       100.0           2016-04-09      3   \n",
       "8              7   4990000.0        60.0           2016-05-22      3   \n",
       "9             16   7900000.0        74.0           2016-05-04      3   \n",
       "10            17   3600000.0        56.1           2018-10-18      3   \n",
       "12             0   4800000.0        78.6           2017-09-17      3   \n",
       "13             2  20000000.0       118.0           2018-09-11      3   \n",
       "15            11   4150000.0        74.0           2017-08-04      3   \n",
       "17            10   4750000.0        73.8           2016-03-14      3   \n",
       "18            12   2800000.0        55.1           2016-05-14      3   \n",
       "19             7   4300000.0        62.1           2016-03-13      3   \n",
       "21             8   4050000.0        79.1           2018-02-23      3   \n",
       "22             3   4500000.0        80.5           2018-01-15      3   \n",
       "24             9   6450000.0        67.7           2017-09-16      3   \n",
       "26            11  11700000.0        80.0           2014-12-10      3   \n",
       "27             9   9490000.0        80.0           2017-10-30      3   \n",
       "\n",
       "    ceiling_height  floors_total  living_area  floor  is_apartment  studio  \\\n",
       "0             2.70            16        51.00      8         False   False   \n",
       "3             3.05             5        55.60      1         False   False   \n",
       "4             2.75            16        76.00      8         False   False   \n",
       "5             2.70            27        48.00     11         False   False   \n",
       "6             2.60            17        49.00     11         False   False   \n",
       "7             2.65            19        52.00     15         False   False   \n",
       "8             2.65             5        39.00      4         False   False   \n",
       "9             2.65            14        59.00      8         False   False   \n",
       "10            2.65             4        42.50      3         False   False   \n",
       "12            2.80             9        48.80      5         False   False   \n",
       "13            3.00             9        68.00      7         False   False   \n",
       "15            2.80             5        44.00      1         False   False   \n",
       "17            2.65            10        44.80      1         False   False   \n",
       "18            2.60             5        38.40      1         False   False   \n",
       "19            2.55             5        43.50      1         False   False   \n",
       "21            3.00            15        45.23      1         False   False   \n",
       "22            2.65            25        45.00     16         False   False   \n",
       "24            2.65             9        40.00      4         False   False   \n",
       "26            2.65             5        55.10      3         False   False   \n",
       "27            2.55            10        46.00      7         False   False   \n",
       "\n",
       "    open_plan  kitchen_area  balcony    locality_name  airports_nearest  \\\n",
       "0       False         25.00        0  Санкт-Петербург           18863.0   \n",
       "3       False          9.00        0  Санкт-Петербург           22108.0   \n",
       "4       False         12.00        0  Санкт-Петербург           38900.0   \n",
       "5       False         12.00        2        Парголово           53134.0   \n",
       "6       False          9.20        0  Санкт-Петербург           29197.0   \n",
       "7       False         11.00        0  Санкт-Петербург           30394.0   \n",
       "8       False          6.00        0  Санкт-Петербург           11349.0   \n",
       "9       False         12.00        5  Санкт-Петербург           37715.0   \n",
       "10      False          5.70        1          Гатчина           26757.0   \n",
       "12      False         11.90        2        Сертолово           26757.0   \n",
       "13      False         16.00        0  Санкт-Петербург           26055.0   \n",
       "15      False          8.00        2      Фёдоровское           26757.0   \n",
       "17      False         10.40        0        Парголово           53817.0   \n",
       "18      False          4.90        0          Кировск           26757.0   \n",
       "19      False          7.30        0  Санкт-Петербург           19646.0   \n",
       "21      False         11.95        1  Новое Девяткино           26757.0   \n",
       "22      False          9.50        0           Шушары           12430.0   \n",
       "24      False          8.00        1  Санкт-Петербург           32668.0   \n",
       "26      False         11.00        0  Санкт-Петербург           11248.0   \n",
       "27      False         11.00        1  Санкт-Петербург           35958.0   \n",
       "\n",
       "    cityCenters_nearest  parks_around3000  parks_nearest  ponds_around3000  \\\n",
       "0               16028.0               1.0          482.0               2.0   \n",
       "3               10698.0               3.0          420.0               0.0   \n",
       "4               12843.0               0.0          455.0               0.0   \n",
       "5               19311.0               0.0          455.0               0.0   \n",
       "6               11456.0               2.0          452.0               1.0   \n",
       "7               11526.0               1.0          532.0               1.0   \n",
       "8               12889.0               0.0          455.0               1.0   \n",
       "9               12612.0               1.0          725.0               1.0   \n",
       "10              13073.0               0.0          455.0               1.0   \n",
       "12              13073.0               0.0          455.0               1.0   \n",
       "13               4800.0               1.0          648.0               1.0   \n",
       "15              13073.0               0.0          455.0               1.0   \n",
       "17              23742.0               0.0          455.0               3.0   \n",
       "18              13073.0               0.0          455.0               1.0   \n",
       "19              15572.0               1.0          231.0               2.0   \n",
       "21              13073.0               0.0          455.0               1.0   \n",
       "22              18217.0               0.0          455.0               0.0   \n",
       "24              13832.0               0.0          455.0               0.0   \n",
       "26               8767.0               1.0          666.0               0.0   \n",
       "27               9860.0               0.0          455.0               0.0   \n",
       "\n",
       "    ponds_nearest  days_exposition  median_living_area  median_kitchen_area  \\\n",
       "0           755.0              NaN                45.0                  9.5   \n",
       "3           503.0            397.0                45.0                  9.5   \n",
       "4           503.0             97.0                45.0                  9.5   \n",
       "5           503.0             74.0                45.0                  9.5   \n",
       "6           779.0            151.0                45.0                  9.5   \n",
       "7           896.0            125.0                45.0                  9.5   \n",
       "8           426.0            224.0                45.0                  9.5   \n",
       "9           759.0            179.0                45.0                  9.5   \n",
       "10          503.0            179.0                45.0                  9.5   \n",
       "12          503.0              5.0                45.0                  9.5   \n",
       "13          779.0             37.0                45.0                  9.5   \n",
       "15          503.0            234.0                45.0                  9.5   \n",
       "17          631.0            166.0                45.0                  9.5   \n",
       "18          503.0            606.0                45.0                  9.5   \n",
       "19          854.0            186.0                45.0                  9.5   \n",
       "21          503.0            235.0                45.0                  9.5   \n",
       "22          503.0             60.0                45.0                  9.5   \n",
       "24          503.0            534.0                45.0                  9.5   \n",
       "26          503.0            831.0                45.0                  9.5   \n",
       "27          503.0              NaN                45.0                  9.5   \n",
       "\n",
       "    days_exposition_missing  month  year  weekday floor_group  \\\n",
       "0                         1      3  2019        3      другой   \n",
       "3                         0     11  2017        3      первый   \n",
       "4                         0      1  2019        2      другой   \n",
       "5                         0      9  2017        3      другой   \n",
       "6                         0      5  2017        4      другой   \n",
       "7                         0      4  2016        5      другой   \n",
       "8                         0      5  2016        6      другой   \n",
       "9                         0      5  2016        2      другой   \n",
       "10                        0     10  2018        3      другой   \n",
       "12                        0      9  2017        6      другой   \n",
       "13                        0      9  2018        1      другой   \n",
       "15                        0      8  2017        4      первый   \n",
       "17                        0      3  2016        0      первый   \n",
       "18                        0      5  2016        5      первый   \n",
       "19                        0      3  2016        6      первый   \n",
       "21                        0      2  2018        4      первый   \n",
       "22                        0      1  2018        0      другой   \n",
       "24                        0      9  2017        5      другой   \n",
       "26                        0     12  2014        2      другой   \n",
       "27                        1     10  2017        0      другой   \n",
       "\n",
       "    price_one_metre  living_ratio  kitchen_ratio  \n",
       "0            120370         47.22          23.15  \n",
       "3             81707         67.80          10.98  \n",
       "4            117355         62.81           9.92  \n",
       "5             76500         60.00          15.00  \n",
       "6            101428         70.00          13.14  \n",
       "7             86000         52.00          11.00  \n",
       "8             83166         65.00          10.00  \n",
       "9            106756         79.73          16.22  \n",
       "10            64171         75.76          10.16  \n",
       "12            61068         62.09          15.14  \n",
       "13           169491         57.63          13.56  \n",
       "15            56081         59.46          10.81  \n",
       "17            64363         60.70          14.09  \n",
       "18            50816         69.69           8.89  \n",
       "19            69243         70.05          11.76  \n",
       "21            51201         57.18          15.11  \n",
       "22            55900         55.90          11.80  \n",
       "24            95273         59.08          11.82  \n",
       "26           146250         68.88          13.75  \n",
       "27           118625         57.50          13.75  "
      ]
     },
     "metadata": {},
     "output_type": "display_data"
    },
    {
     "name": "stdout",
     "output_type": "stream",
     "text": [
      "<class 'pandas.core.frame.DataFrame'>\n",
      "Int64Index: 18757 entries, 0 to 23522\n",
      "Data columns (total 32 columns):\n",
      "total_images               18757 non-null int64\n",
      "last_price                 18757 non-null float64\n",
      "total_area                 18757 non-null float64\n",
      "first_day_exposition       18757 non-null datetime64[ns]\n",
      "rooms                      18757 non-null int64\n",
      "ceiling_height             18757 non-null float64\n",
      "floors_total               18757 non-null int64\n",
      "living_area                18757 non-null float64\n",
      "floor                      18757 non-null int64\n",
      "is_apartment               18757 non-null bool\n",
      "studio                     18757 non-null bool\n",
      "open_plan                  18757 non-null bool\n",
      "kitchen_area               18757 non-null float64\n",
      "balcony                    18757 non-null int64\n",
      "locality_name              18757 non-null object\n",
      "airports_nearest           18757 non-null float64\n",
      "cityCenters_nearest        18757 non-null float64\n",
      "parks_around3000           18757 non-null float64\n",
      "parks_nearest              18757 non-null float64\n",
      "ponds_around3000           18757 non-null float64\n",
      "ponds_nearest              18757 non-null float64\n",
      "days_exposition            16434 non-null float64\n",
      "median_living_area         18757 non-null float64\n",
      "median_kitchen_area        18757 non-null float64\n",
      "days_exposition_missing    18757 non-null int64\n",
      "month                      18757 non-null int64\n",
      "year                       18757 non-null int64\n",
      "weekday                    18757 non-null int64\n",
      "floor_group                18757 non-null object\n",
      "price_one_metre            18757 non-null int64\n",
      "living_ratio               18757 non-null float64\n",
      "kitchen_ratio              18757 non-null float64\n",
      "dtypes: bool(3), datetime64[ns](1), float64(16), int64(10), object(2)\n",
      "memory usage: 4.3+ MB\n"
     ]
    }
   ],
   "source": [
    "data_new = data[(data['days_exposition']<1067) | (data['days_exposition'].isna())] #фильтруем даныые по столбцу  days_exposition\n",
    "data_new = data_new.query('rooms<6 and 1000000<last_price<36000000 and 2.5<ceiling_height<3.6 and 25<total_area<197') #фильтруем данные по столбцам rooms, last_price,ceiling_height,total_area\n",
    "display(data_new.head(20))#выводим первые 20 строк отфильтрованного датафрейма\n",
    "data_new.info() #выводим сводную таблицу отфильтрованного датафрейма "
   ]
  },
  {
   "cell_type": "markdown",
   "metadata": {},
   "source": [
    "На основании полученных графиков и расчетов избавляемся от аномалий и выбивающихся значений в датафрейме через фильтр. Таких значений было не очень много, в таблице осталось 18757 строк."
   ]
  },
  {
   "cell_type": "markdown",
   "metadata": {},
   "source": [
    "Изучаем: Какие факторы больше всего влияют на стоимость квартиры? "
   ]
  },
  {
   "cell_type": "code",
   "execution_count": 31,
   "metadata": {
    "scrolled": false
   },
   "outputs": [
    {
     "name": "stdout",
     "output_type": "stream",
     "text": [
      "Корреляция между стоимостью за квадратный метр и total_area\n",
      "0.17\n",
      "Корреляция между стоимостью за квадратный метр и rooms\n",
      "-0.05\n",
      "Корреляция между стоимостью за квадратный метр и cityCenters_nearest\n",
      "-0.28\n",
      "Корреляция между стоимостью за квадратный метр и month\n",
      "-0.01\n",
      "Корреляция между стоимостью за квадратный метр и year\n",
      "0.07\n",
      "Корреляция между стоимостью за квадратный метр и weekday\n",
      "-0.02\n",
      "Корреляция между стоимостью за квадратный метр и ceiling_height\n",
      "0.27\n"
     ]
    },
    {
     "data": {
      "image/png": "[encoded data removed]",
      "text/plain": [
       "<Figure size 432x288 with 1 Axes>"
      ]
     },
     "metadata": {
      "needs_background": "light"
     },
     "output_type": "display_data"
    },
    {
     "data": {
      "image/png": "[encoded data removed]",
      "text/plain": [
       "<Figure size 432x288 with 1 Axes>"
      ]
     },
     "metadata": {
      "needs_background": "light"
     },
     "output_type": "display_data"
    },
    {
     "data": {
      "image/png": "[encoded data removed]",
      "text/plain": [
       "<Figure size 432x288 with 1 Axes>"
      ]
     },
     "metadata": {
      "needs_background": "light"
     },
     "output_type": "display_data"
    },
    {
     "data": {
      "image/png": "[encoded data removed]",
      "text/plain": [
       "<Figure size 432x288 with 1 Axes>"
      ]
     },
     "metadata": {
      "needs_background": "light"
     },
     "output_type": "display_data"
    },
    {
     "data": {
      "image/png": "[encoded data removed]",
      "text/plain": [
       "<Figure size 432x288 with 1 Axes>"
      ]
     },
     "metadata": {
      "needs_background": "light"
     },
     "output_type": "display_data"
    },
    {
     "data": {
      "image/png": "[encoded data removed]",
      "text/plain": [
       "<Figure size 432x288 with 1 Axes>"
      ]
     },
     "metadata": {
      "needs_background": "light"
     },
     "output_type": "display_data"
    },
    {
     "data": {
      "image/png": "[encoded data removed]",
      "text/plain": [
       "<Figure size 432x288 with 1 Axes>"
      ]
     },
     "metadata": {
      "needs_background": "light"
     },
     "output_type": "display_data"
    }
   ],
   "source": [
    "factor_price = ['total_area','rooms','cityCenters_nearest','month','year','weekday','ceiling_height'] #создали список столбцов, значение которых изучаем\n",
    "for factor in factor_price: #через цикл считаем корреляцию и строим графики\n",
    "    print(f'Корреляция между стоимостью за квадратный метр и {factor}')\n",
    "    print((data_new['price_one_metre'].corr(data_new[factor])).round(2))\n",
    "    data_new.plot(x=factor,y='price_one_metre',kind='scatter',alpha=0.1,grid=True)\n",
    "    "
   ]
  },
  {
   "cell_type": "markdown",
   "metadata": {},
   "source": [
    "На основе расчета коээфициента корреляции и графиков мы отметить, что сильной зависимости от цены квадратного метра и площади квартиры, количества комнат, удаленности от центра, даты публикации объявления, высоты потолков - нет."
   ]
  },
  {
   "cell_type": "code",
   "execution_count": 32,
   "metadata": {
    "scrolled": false
   },
   "outputs": [
    {
     "name": "stderr",
     "output_type": "stream",
     "text": [
      "/opt/conda/lib/python3.7/site-packages/numpy/core/_asarray.py:83: VisibleDeprecationWarning: Creating an ndarray from ragged nested sequences (which is a list-or-tuple of lists-or-tuples-or ndarrays with different lengths or shapes) is deprecated. If you meant to do this, you must specify 'dtype=object' when creating the ndarray\n",
      "  return array(a, dtype, copy=False, order=order)\n"
     ]
    },
    {
     "data": {
      "text/plain": [
       "(1, 250000)"
      ]
     },
     "execution_count": 32,
     "metadata": {},
     "output_type": "execute_result"
    },
    {
     "data": {
      "image/png": "[encoded data removed]",
      "text/plain": [
       "<Figure size 432x288 with 1 Axes>"
      ]
     },
     "metadata": {
      "needs_background": "light"
     },
     "output_type": "display_data"
    }
   ],
   "source": [
    "data_new.boxplot(column='price_one_metre',by='floor_group') #строим диаграмму размаха\n",
    "plt.ylim(1,250000)"
   ]
  },
  {
   "cell_type": "markdown",
   "metadata": {},
   "source": [
    "Сильной разница цены за квадратный метр от этажа не наблюдается. Чуть меньше цена у первого этажа и чуть дороже у квартир на  другом этаже(50% квартир на другом этаже стоят 100000 за кв.метр). В жизни так и есть, цены за первый этаж всегда ниже."
   ]
  },
  {
   "cell_type": "markdown",
   "metadata": {},
   "source": [
    "Изучаем 10 населённых пунктов с наибольшим числом объявлений"
   ]
  },
  {
   "cell_type": "code",
   "execution_count": 33,
   "metadata": {
    "scrolled": true
   },
   "outputs": [
    {
     "data": {
      "text/html": [
       "<div>\n",
       "<style scoped>\n",
       "    .dataframe tbody tr th:only-of-type {\n",
       "        vertical-align: middle;\n",
       "    }\n",
       "\n",
       "    .dataframe tbody tr th {\n",
       "        vertical-align: top;\n",
       "    }\n",
       "\n",
       "    .dataframe thead th {\n",
       "        text-align: right;\n",
       "    }\n",
       "</style>\n",
       "<table border=\"1\" class=\"dataframe\">\n",
       "  <thead>\n",
       "    <tr style=\"text-align: right;\">\n",
       "      <th></th>\n",
       "      <th>total</th>\n",
       "      <th>average</th>\n",
       "    </tr>\n",
       "    <tr>\n",
       "      <th>locality_name</th>\n",
       "      <th></th>\n",
       "      <th></th>\n",
       "    </tr>\n",
       "  </thead>\n",
       "  <tbody>\n",
       "    <tr>\n",
       "      <td>Санкт-Петербург</td>\n",
       "      <td>15651</td>\n",
       "      <td>114868.433902</td>\n",
       "    </tr>\n",
       "    <tr>\n",
       "      <td>Мурино</td>\n",
       "      <td>586</td>\n",
       "      <td>86040.658703</td>\n",
       "    </tr>\n",
       "    <tr>\n",
       "      <td>Кудрово</td>\n",
       "      <td>470</td>\n",
       "      <td>95260.393617</td>\n",
       "    </tr>\n",
       "    <tr>\n",
       "      <td>Шушары</td>\n",
       "      <td>439</td>\n",
       "      <td>78550.883827</td>\n",
       "    </tr>\n",
       "    <tr>\n",
       "      <td>Всеволожск</td>\n",
       "      <td>398</td>\n",
       "      <td>68654.007538</td>\n",
       "    </tr>\n",
       "    <tr>\n",
       "      <td>Пушкин</td>\n",
       "      <td>369</td>\n",
       "      <td>103125.373984</td>\n",
       "    </tr>\n",
       "    <tr>\n",
       "      <td>Колпино</td>\n",
       "      <td>338</td>\n",
       "      <td>75424.150888</td>\n",
       "    </tr>\n",
       "    <tr>\n",
       "      <td>Парголово</td>\n",
       "      <td>327</td>\n",
       "      <td>90175.489297</td>\n",
       "    </tr>\n",
       "    <tr>\n",
       "      <td>Гатчина</td>\n",
       "      <td>307</td>\n",
       "      <td>68745.693811</td>\n",
       "    </tr>\n",
       "    <tr>\n",
       "      <td>Выборг</td>\n",
       "      <td>237</td>\n",
       "      <td>58141.489451</td>\n",
       "    </tr>\n",
       "  </tbody>\n",
       "</table>\n",
       "</div>"
      ],
      "text/plain": [
       "                 total        average\n",
       "locality_name                        \n",
       "Санкт-Петербург  15651  114868.433902\n",
       "Мурино             586   86040.658703\n",
       "Кудрово            470   95260.393617\n",
       "Шушары             439   78550.883827\n",
       "Всеволожск         398   68654.007538\n",
       "Пушкин             369  103125.373984\n",
       "Колпино            338   75424.150888\n",
       "Парголово          327   90175.489297\n",
       "Гатчина            307   68745.693811\n",
       "Выборг             237   58141.489451"
      ]
     },
     "metadata": {},
     "output_type": "display_data"
    }
   ],
   "source": [
    "data_new_pivot = data.pivot_table(index = ['locality_name'], values = 'price_one_metre', aggfunc = ['count','mean']) #группируем по названию и считает среднюю цену за метр кв\n",
    "data_new_pivot .columns = ['total','average']\n",
    "data_new_pivot  = data_new_pivot.sort_values(by = ['total'], ascending=False) #сортируем по убыванию количества объяявлений\n",
    "display(data_new_pivot.head(10)) #выводим 10 первых\n"
   ]
  },
  {
   "cell_type": "markdown",
   "metadata": {},
   "source": [
    "С помощью сводной таблицы посчитали среднюю цену за квадратной метр в 10 населённых пунктов с наибольшим числом объявлений. Максимальная цена за квадратной метр в Санкт-Петербурге, минимальная - Выборге. Разница в цене в 2 раза!"
   ]
  },
  {
   "cell_type": "markdown",
   "metadata": {},
   "source": [
    "Изучаем квартиры в Санкт-Петербурге,выясняем, какая область входит в центр"
   ]
  },
  {
   "cell_type": "code",
   "execution_count": 34,
   "metadata": {},
   "outputs": [
    {
     "data": {
      "text/html": [
       "<div>\n",
       "<style scoped>\n",
       "    .dataframe tbody tr th:only-of-type {\n",
       "        vertical-align: middle;\n",
       "    }\n",
       "\n",
       "    .dataframe tbody tr th {\n",
       "        vertical-align: top;\n",
       "    }\n",
       "\n",
       "    .dataframe thead th {\n",
       "        text-align: right;\n",
       "    }\n",
       "</style>\n",
       "<table border=\"1\" class=\"dataframe\">\n",
       "  <thead>\n",
       "    <tr style=\"text-align: right;\">\n",
       "      <th></th>\n",
       "      <th>total_images</th>\n",
       "      <th>last_price</th>\n",
       "      <th>total_area</th>\n",
       "      <th>first_day_exposition</th>\n",
       "      <th>rooms</th>\n",
       "      <th>ceiling_height</th>\n",
       "      <th>floors_total</th>\n",
       "      <th>living_area</th>\n",
       "      <th>floor</th>\n",
       "      <th>is_apartment</th>\n",
       "      <th>studio</th>\n",
       "      <th>open_plan</th>\n",
       "      <th>kitchen_area</th>\n",
       "      <th>balcony</th>\n",
       "      <th>locality_name</th>\n",
       "      <th>airports_nearest</th>\n",
       "      <th>cityCenters_nearest</th>\n",
       "      <th>parks_around3000</th>\n",
       "      <th>parks_nearest</th>\n",
       "      <th>ponds_around3000</th>\n",
       "      <th>ponds_nearest</th>\n",
       "      <th>days_exposition</th>\n",
       "      <th>median_living_area</th>\n",
       "      <th>median_kitchen_area</th>\n",
       "      <th>days_exposition_missing</th>\n",
       "      <th>month</th>\n",
       "      <th>year</th>\n",
       "      <th>weekday</th>\n",
       "      <th>floor_group</th>\n",
       "      <th>price_one_metre</th>\n",
       "      <th>living_ratio</th>\n",
       "      <th>kitchen_ratio</th>\n",
       "    </tr>\n",
       "  </thead>\n",
       "  <tbody>\n",
       "    <tr>\n",
       "      <td>0</td>\n",
       "      <td>20</td>\n",
       "      <td>13000000.0</td>\n",
       "      <td>108.0</td>\n",
       "      <td>2019-03-07</td>\n",
       "      <td>3</td>\n",
       "      <td>2.70</td>\n",
       "      <td>16</td>\n",
       "      <td>51.0</td>\n",
       "      <td>8</td>\n",
       "      <td>False</td>\n",
       "      <td>False</td>\n",
       "      <td>False</td>\n",
       "      <td>25.0</td>\n",
       "      <td>0</td>\n",
       "      <td>Санкт-Петербург</td>\n",
       "      <td>18863.0</td>\n",
       "      <td>16028.0</td>\n",
       "      <td>1.0</td>\n",
       "      <td>482.0</td>\n",
       "      <td>2.0</td>\n",
       "      <td>755.0</td>\n",
       "      <td>NaN</td>\n",
       "      <td>45.0</td>\n",
       "      <td>9.5</td>\n",
       "      <td>1</td>\n",
       "      <td>3</td>\n",
       "      <td>2019</td>\n",
       "      <td>3</td>\n",
       "      <td>другой</td>\n",
       "      <td>120370</td>\n",
       "      <td>47.22</td>\n",
       "      <td>23.15</td>\n",
       "    </tr>\n",
       "    <tr>\n",
       "      <td>3</td>\n",
       "      <td>11</td>\n",
       "      <td>6700000.0</td>\n",
       "      <td>82.0</td>\n",
       "      <td>2017-11-23</td>\n",
       "      <td>3</td>\n",
       "      <td>3.05</td>\n",
       "      <td>5</td>\n",
       "      <td>55.6</td>\n",
       "      <td>1</td>\n",
       "      <td>False</td>\n",
       "      <td>False</td>\n",
       "      <td>False</td>\n",
       "      <td>9.0</td>\n",
       "      <td>0</td>\n",
       "      <td>Санкт-Петербург</td>\n",
       "      <td>22108.0</td>\n",
       "      <td>10698.0</td>\n",
       "      <td>3.0</td>\n",
       "      <td>420.0</td>\n",
       "      <td>0.0</td>\n",
       "      <td>503.0</td>\n",
       "      <td>397.0</td>\n",
       "      <td>45.0</td>\n",
       "      <td>9.5</td>\n",
       "      <td>0</td>\n",
       "      <td>11</td>\n",
       "      <td>2017</td>\n",
       "      <td>3</td>\n",
       "      <td>первый</td>\n",
       "      <td>81707</td>\n",
       "      <td>67.80</td>\n",
       "      <td>10.98</td>\n",
       "    </tr>\n",
       "    <tr>\n",
       "      <td>4</td>\n",
       "      <td>16</td>\n",
       "      <td>14200000.0</td>\n",
       "      <td>121.0</td>\n",
       "      <td>2019-01-09</td>\n",
       "      <td>3</td>\n",
       "      <td>2.75</td>\n",
       "      <td>16</td>\n",
       "      <td>76.0</td>\n",
       "      <td>8</td>\n",
       "      <td>False</td>\n",
       "      <td>False</td>\n",
       "      <td>False</td>\n",
       "      <td>12.0</td>\n",
       "      <td>0</td>\n",
       "      <td>Санкт-Петербург</td>\n",
       "      <td>38900.0</td>\n",
       "      <td>12843.0</td>\n",
       "      <td>0.0</td>\n",
       "      <td>455.0</td>\n",
       "      <td>0.0</td>\n",
       "      <td>503.0</td>\n",
       "      <td>97.0</td>\n",
       "      <td>45.0</td>\n",
       "      <td>9.5</td>\n",
       "      <td>0</td>\n",
       "      <td>1</td>\n",
       "      <td>2019</td>\n",
       "      <td>2</td>\n",
       "      <td>другой</td>\n",
       "      <td>117355</td>\n",
       "      <td>62.81</td>\n",
       "      <td>9.92</td>\n",
       "    </tr>\n",
       "    <tr>\n",
       "      <td>6</td>\n",
       "      <td>20</td>\n",
       "      <td>7100000.0</td>\n",
       "      <td>70.0</td>\n",
       "      <td>2017-05-12</td>\n",
       "      <td>3</td>\n",
       "      <td>2.60</td>\n",
       "      <td>17</td>\n",
       "      <td>49.0</td>\n",
       "      <td>11</td>\n",
       "      <td>False</td>\n",
       "      <td>False</td>\n",
       "      <td>False</td>\n",
       "      <td>9.2</td>\n",
       "      <td>0</td>\n",
       "      <td>Санкт-Петербург</td>\n",
       "      <td>29197.0</td>\n",
       "      <td>11456.0</td>\n",
       "      <td>2.0</td>\n",
       "      <td>452.0</td>\n",
       "      <td>1.0</td>\n",
       "      <td>779.0</td>\n",
       "      <td>151.0</td>\n",
       "      <td>45.0</td>\n",
       "      <td>9.5</td>\n",
       "      <td>0</td>\n",
       "      <td>5</td>\n",
       "      <td>2017</td>\n",
       "      <td>4</td>\n",
       "      <td>другой</td>\n",
       "      <td>101428</td>\n",
       "      <td>70.00</td>\n",
       "      <td>13.14</td>\n",
       "    </tr>\n",
       "    <tr>\n",
       "      <td>7</td>\n",
       "      <td>9</td>\n",
       "      <td>8600000.0</td>\n",
       "      <td>100.0</td>\n",
       "      <td>2016-04-09</td>\n",
       "      <td>3</td>\n",
       "      <td>2.65</td>\n",
       "      <td>19</td>\n",
       "      <td>52.0</td>\n",
       "      <td>15</td>\n",
       "      <td>False</td>\n",
       "      <td>False</td>\n",
       "      <td>False</td>\n",
       "      <td>11.0</td>\n",
       "      <td>0</td>\n",
       "      <td>Санкт-Петербург</td>\n",
       "      <td>30394.0</td>\n",
       "      <td>11526.0</td>\n",
       "      <td>1.0</td>\n",
       "      <td>532.0</td>\n",
       "      <td>1.0</td>\n",
       "      <td>896.0</td>\n",
       "      <td>125.0</td>\n",
       "      <td>45.0</td>\n",
       "      <td>9.5</td>\n",
       "      <td>0</td>\n",
       "      <td>4</td>\n",
       "      <td>2016</td>\n",
       "      <td>5</td>\n",
       "      <td>другой</td>\n",
       "      <td>86000</td>\n",
       "      <td>52.00</td>\n",
       "      <td>11.00</td>\n",
       "    </tr>\n",
       "  </tbody>\n",
       "</table>\n",
       "</div>"
      ],
      "text/plain": [
       "   total_images  last_price  total_area first_day_exposition  rooms  \\\n",
       "0            20  13000000.0       108.0           2019-03-07      3   \n",
       "3            11   6700000.0        82.0           2017-11-23      3   \n",
       "4            16  14200000.0       121.0           2019-01-09      3   \n",
       "6            20   7100000.0        70.0           2017-05-12      3   \n",
       "7             9   8600000.0       100.0           2016-04-09      3   \n",
       "\n",
       "   ceiling_height  floors_total  living_area  floor  is_apartment  studio  \\\n",
       "0            2.70            16         51.0      8         False   False   \n",
       "3            3.05             5         55.6      1         False   False   \n",
       "4            2.75            16         76.0      8         False   False   \n",
       "6            2.60            17         49.0     11         False   False   \n",
       "7            2.65            19         52.0     15         False   False   \n",
       "\n",
       "   open_plan  kitchen_area  balcony    locality_name  airports_nearest  \\\n",
       "0      False          25.0        0  Санкт-Петербург           18863.0   \n",
       "3      False           9.0        0  Санкт-Петербург           22108.0   \n",
       "4      False          12.0        0  Санкт-Петербург           38900.0   \n",
       "6      False           9.2        0  Санкт-Петербург           29197.0   \n",
       "7      False          11.0        0  Санкт-Петербург           30394.0   \n",
       "\n",
       "   cityCenters_nearest  parks_around3000  parks_nearest  ponds_around3000  \\\n",
       "0              16028.0               1.0          482.0               2.0   \n",
       "3              10698.0               3.0          420.0               0.0   \n",
       "4              12843.0               0.0          455.0               0.0   \n",
       "6              11456.0               2.0          452.0               1.0   \n",
       "7              11526.0               1.0          532.0               1.0   \n",
       "\n",
       "   ponds_nearest  days_exposition  median_living_area  median_kitchen_area  \\\n",
       "0          755.0              NaN                45.0                  9.5   \n",
       "3          503.0            397.0                45.0                  9.5   \n",
       "4          503.0             97.0                45.0                  9.5   \n",
       "6          779.0            151.0                45.0                  9.5   \n",
       "7          896.0            125.0                45.0                  9.5   \n",
       "\n",
       "   days_exposition_missing  month  year  weekday floor_group  price_one_metre  \\\n",
       "0                        1      3  2019        3      другой           120370   \n",
       "3                        0     11  2017        3      первый            81707   \n",
       "4                        0      1  2019        2      другой           117355   \n",
       "6                        0      5  2017        4      другой           101428   \n",
       "7                        0      4  2016        5      другой            86000   \n",
       "\n",
       "   living_ratio  kitchen_ratio  \n",
       "0         47.22          23.15  \n",
       "3         67.80          10.98  \n",
       "4         62.81           9.92  \n",
       "6         70.00          13.14  \n",
       "7         52.00          11.00  "
      ]
     },
     "metadata": {},
     "output_type": "display_data"
    },
    {
     "name": "stderr",
     "output_type": "stream",
     "text": [
      "/opt/conda/lib/python3.7/site-packages/ipykernel_launcher.py:3: SettingWithCopyWarning: \n",
      "A value is trying to be set on a copy of a slice from a DataFrame.\n",
      "Try using .loc[row_indexer,col_indexer] = value instead\n",
      "\n",
      "See the caveats in the documentation: http://pandas.pydata.org/pandas-docs/stable/user_guide/indexing.html#returning-a-view-versus-a-copy\n",
      "  This is separate from the ipykernel package so we can avoid doing imports until\n"
     ]
    },
    {
     "data": {
      "text/html": [
       "<div>\n",
       "<style scoped>\n",
       "    .dataframe tbody tr th:only-of-type {\n",
       "        vertical-align: middle;\n",
       "    }\n",
       "\n",
       "    .dataframe tbody tr th {\n",
       "        vertical-align: top;\n",
       "    }\n",
       "\n",
       "    .dataframe thead th {\n",
       "        text-align: right;\n",
       "    }\n",
       "</style>\n",
       "<table border=\"1\" class=\"dataframe\">\n",
       "  <thead>\n",
       "    <tr style=\"text-align: right;\">\n",
       "      <th></th>\n",
       "      <th>total_images</th>\n",
       "      <th>last_price</th>\n",
       "      <th>total_area</th>\n",
       "      <th>first_day_exposition</th>\n",
       "      <th>rooms</th>\n",
       "      <th>ceiling_height</th>\n",
       "      <th>floors_total</th>\n",
       "      <th>living_area</th>\n",
       "      <th>floor</th>\n",
       "      <th>is_apartment</th>\n",
       "      <th>studio</th>\n",
       "      <th>open_plan</th>\n",
       "      <th>kitchen_area</th>\n",
       "      <th>balcony</th>\n",
       "      <th>locality_name</th>\n",
       "      <th>airports_nearest</th>\n",
       "      <th>cityCenters_nearest</th>\n",
       "      <th>parks_around3000</th>\n",
       "      <th>parks_nearest</th>\n",
       "      <th>ponds_around3000</th>\n",
       "      <th>ponds_nearest</th>\n",
       "      <th>days_exposition</th>\n",
       "      <th>median_living_area</th>\n",
       "      <th>median_kitchen_area</th>\n",
       "      <th>days_exposition_missing</th>\n",
       "      <th>month</th>\n",
       "      <th>year</th>\n",
       "      <th>weekday</th>\n",
       "      <th>floor_group</th>\n",
       "      <th>price_one_metre</th>\n",
       "      <th>living_ratio</th>\n",
       "      <th>kitchen_ratio</th>\n",
       "      <th>cityCenters_nearest_km</th>\n",
       "    </tr>\n",
       "  </thead>\n",
       "  <tbody>\n",
       "    <tr>\n",
       "      <td>0</td>\n",
       "      <td>20</td>\n",
       "      <td>13000000.0</td>\n",
       "      <td>108.0</td>\n",
       "      <td>2019-03-07</td>\n",
       "      <td>3</td>\n",
       "      <td>2.70</td>\n",
       "      <td>16</td>\n",
       "      <td>51.0</td>\n",
       "      <td>8</td>\n",
       "      <td>False</td>\n",
       "      <td>False</td>\n",
       "      <td>False</td>\n",
       "      <td>25.0</td>\n",
       "      <td>0</td>\n",
       "      <td>Санкт-Петербург</td>\n",
       "      <td>18863.0</td>\n",
       "      <td>16028.0</td>\n",
       "      <td>1.0</td>\n",
       "      <td>482.0</td>\n",
       "      <td>2.0</td>\n",
       "      <td>755.0</td>\n",
       "      <td>NaN</td>\n",
       "      <td>45.0</td>\n",
       "      <td>9.5</td>\n",
       "      <td>1</td>\n",
       "      <td>3</td>\n",
       "      <td>2019</td>\n",
       "      <td>3</td>\n",
       "      <td>другой</td>\n",
       "      <td>120370</td>\n",
       "      <td>47.22</td>\n",
       "      <td>23.15</td>\n",
       "      <td>16</td>\n",
       "    </tr>\n",
       "    <tr>\n",
       "      <td>3</td>\n",
       "      <td>11</td>\n",
       "      <td>6700000.0</td>\n",
       "      <td>82.0</td>\n",
       "      <td>2017-11-23</td>\n",
       "      <td>3</td>\n",
       "      <td>3.05</td>\n",
       "      <td>5</td>\n",
       "      <td>55.6</td>\n",
       "      <td>1</td>\n",
       "      <td>False</td>\n",
       "      <td>False</td>\n",
       "      <td>False</td>\n",
       "      <td>9.0</td>\n",
       "      <td>0</td>\n",
       "      <td>Санкт-Петербург</td>\n",
       "      <td>22108.0</td>\n",
       "      <td>10698.0</td>\n",
       "      <td>3.0</td>\n",
       "      <td>420.0</td>\n",
       "      <td>0.0</td>\n",
       "      <td>503.0</td>\n",
       "      <td>397.0</td>\n",
       "      <td>45.0</td>\n",
       "      <td>9.5</td>\n",
       "      <td>0</td>\n",
       "      <td>11</td>\n",
       "      <td>2017</td>\n",
       "      <td>3</td>\n",
       "      <td>первый</td>\n",
       "      <td>81707</td>\n",
       "      <td>67.80</td>\n",
       "      <td>10.98</td>\n",
       "      <td>10</td>\n",
       "    </tr>\n",
       "    <tr>\n",
       "      <td>4</td>\n",
       "      <td>16</td>\n",
       "      <td>14200000.0</td>\n",
       "      <td>121.0</td>\n",
       "      <td>2019-01-09</td>\n",
       "      <td>3</td>\n",
       "      <td>2.75</td>\n",
       "      <td>16</td>\n",
       "      <td>76.0</td>\n",
       "      <td>8</td>\n",
       "      <td>False</td>\n",
       "      <td>False</td>\n",
       "      <td>False</td>\n",
       "      <td>12.0</td>\n",
       "      <td>0</td>\n",
       "      <td>Санкт-Петербург</td>\n",
       "      <td>38900.0</td>\n",
       "      <td>12843.0</td>\n",
       "      <td>0.0</td>\n",
       "      <td>455.0</td>\n",
       "      <td>0.0</td>\n",
       "      <td>503.0</td>\n",
       "      <td>97.0</td>\n",
       "      <td>45.0</td>\n",
       "      <td>9.5</td>\n",
       "      <td>0</td>\n",
       "      <td>1</td>\n",
       "      <td>2019</td>\n",
       "      <td>2</td>\n",
       "      <td>другой</td>\n",
       "      <td>117355</td>\n",
       "      <td>62.81</td>\n",
       "      <td>9.92</td>\n",
       "      <td>12</td>\n",
       "    </tr>\n",
       "    <tr>\n",
       "      <td>6</td>\n",
       "      <td>20</td>\n",
       "      <td>7100000.0</td>\n",
       "      <td>70.0</td>\n",
       "      <td>2017-05-12</td>\n",
       "      <td>3</td>\n",
       "      <td>2.60</td>\n",
       "      <td>17</td>\n",
       "      <td>49.0</td>\n",
       "      <td>11</td>\n",
       "      <td>False</td>\n",
       "      <td>False</td>\n",
       "      <td>False</td>\n",
       "      <td>9.2</td>\n",
       "      <td>0</td>\n",
       "      <td>Санкт-Петербург</td>\n",
       "      <td>29197.0</td>\n",
       "      <td>11456.0</td>\n",
       "      <td>2.0</td>\n",
       "      <td>452.0</td>\n",
       "      <td>1.0</td>\n",
       "      <td>779.0</td>\n",
       "      <td>151.0</td>\n",
       "      <td>45.0</td>\n",
       "      <td>9.5</td>\n",
       "      <td>0</td>\n",
       "      <td>5</td>\n",
       "      <td>2017</td>\n",
       "      <td>4</td>\n",
       "      <td>другой</td>\n",
       "      <td>101428</td>\n",
       "      <td>70.00</td>\n",
       "      <td>13.14</td>\n",
       "      <td>11</td>\n",
       "    </tr>\n",
       "    <tr>\n",
       "      <td>7</td>\n",
       "      <td>9</td>\n",
       "      <td>8600000.0</td>\n",
       "      <td>100.0</td>\n",
       "      <td>2016-04-09</td>\n",
       "      <td>3</td>\n",
       "      <td>2.65</td>\n",
       "      <td>19</td>\n",
       "      <td>52.0</td>\n",
       "      <td>15</td>\n",
       "      <td>False</td>\n",
       "      <td>False</td>\n",
       "      <td>False</td>\n",
       "      <td>11.0</td>\n",
       "      <td>0</td>\n",
       "      <td>Санкт-Петербург</td>\n",
       "      <td>30394.0</td>\n",
       "      <td>11526.0</td>\n",
       "      <td>1.0</td>\n",
       "      <td>532.0</td>\n",
       "      <td>1.0</td>\n",
       "      <td>896.0</td>\n",
       "      <td>125.0</td>\n",
       "      <td>45.0</td>\n",
       "      <td>9.5</td>\n",
       "      <td>0</td>\n",
       "      <td>4</td>\n",
       "      <td>2016</td>\n",
       "      <td>5</td>\n",
       "      <td>другой</td>\n",
       "      <td>86000</td>\n",
       "      <td>52.00</td>\n",
       "      <td>11.00</td>\n",
       "      <td>11</td>\n",
       "    </tr>\n",
       "  </tbody>\n",
       "</table>\n",
       "</div>"
      ],
      "text/plain": [
       "   total_images  last_price  total_area first_day_exposition  rooms  \\\n",
       "0            20  13000000.0       108.0           2019-03-07      3   \n",
       "3            11   6700000.0        82.0           2017-11-23      3   \n",
       "4            16  14200000.0       121.0           2019-01-09      3   \n",
       "6            20   7100000.0        70.0           2017-05-12      3   \n",
       "7             9   8600000.0       100.0           2016-04-09      3   \n",
       "\n",
       "   ceiling_height  floors_total  living_area  floor  is_apartment  studio  \\\n",
       "0            2.70            16         51.0      8         False   False   \n",
       "3            3.05             5         55.6      1         False   False   \n",
       "4            2.75            16         76.0      8         False   False   \n",
       "6            2.60            17         49.0     11         False   False   \n",
       "7            2.65            19         52.0     15         False   False   \n",
       "\n",
       "   open_plan  kitchen_area  balcony    locality_name  airports_nearest  \\\n",
       "0      False          25.0        0  Санкт-Петербург           18863.0   \n",
       "3      False           9.0        0  Санкт-Петербург           22108.0   \n",
       "4      False          12.0        0  Санкт-Петербург           38900.0   \n",
       "6      False           9.2        0  Санкт-Петербург           29197.0   \n",
       "7      False          11.0        0  Санкт-Петербург           30394.0   \n",
       "\n",
       "   cityCenters_nearest  parks_around3000  parks_nearest  ponds_around3000  \\\n",
       "0              16028.0               1.0          482.0               2.0   \n",
       "3              10698.0               3.0          420.0               0.0   \n",
       "4              12843.0               0.0          455.0               0.0   \n",
       "6              11456.0               2.0          452.0               1.0   \n",
       "7              11526.0               1.0          532.0               1.0   \n",
       "\n",
       "   ponds_nearest  days_exposition  median_living_area  median_kitchen_area  \\\n",
       "0          755.0              NaN                45.0                  9.5   \n",
       "3          503.0            397.0                45.0                  9.5   \n",
       "4          503.0             97.0                45.0                  9.5   \n",
       "6          779.0            151.0                45.0                  9.5   \n",
       "7          896.0            125.0                45.0                  9.5   \n",
       "\n",
       "   days_exposition_missing  month  year  weekday floor_group  price_one_metre  \\\n",
       "0                        1      3  2019        3      другой           120370   \n",
       "3                        0     11  2017        3      первый            81707   \n",
       "4                        0      1  2019        2      другой           117355   \n",
       "6                        0      5  2017        4      другой           101428   \n",
       "7                        0      4  2016        5      другой            86000   \n",
       "\n",
       "   living_ratio  kitchen_ratio  cityCenters_nearest_km  \n",
       "0         47.22          23.15                      16  \n",
       "3         67.80          10.98                      10  \n",
       "4         62.81           9.92                      12  \n",
       "6         70.00          13.14                      11  \n",
       "7         52.00          11.00                      11  "
      ]
     },
     "metadata": {},
     "output_type": "display_data"
    }
   ],
   "source": [
    "data_new_spb = data_new.query('locality_name in \"Санкт-Петербург\"') #срезаем данные по Санкт-Петербургу\n",
    "display(data_new_spb.head())\n",
    "data_new_spb['cityCenters_nearest_km'] = (data_new_spb['cityCenters_nearest']/1000).astype(int) #переводим расстояние до центра в километры, округляем до целых\n",
    "display(data_new_spb.head())"
   ]
  },
  {
   "cell_type": "code",
   "execution_count": 35,
   "metadata": {},
   "outputs": [
    {
     "name": "stdout",
     "output_type": "stream",
     "text": [
      "                        price_one_metre\n",
      "cityCenters_nearest_km                 \n",
      "0                         128389.781818\n",
      "1                         140178.563953\n",
      "2                         121234.575893\n",
      "3                         120080.313364\n",
      "4                         132410.529491\n",
      "5                         135952.650327\n",
      "6                         135586.022959\n",
      "7                         131959.596386\n",
      "8                         120843.966490\n",
      "9                         111611.063177\n",
      "10                        112406.104828\n",
      "11                        106800.101651\n",
      "12                        110035.591821\n",
      "13                        107971.888889\n",
      "14                        105837.861600\n",
      "15                        103482.055504\n",
      "16                        102000.190887\n",
      "17                         96337.690176\n",
      "18                         96550.512195\n",
      "19                         94620.758065\n",
      "20                        107621.095890\n",
      "21                         91330.311111\n",
      "22                         88651.325581\n",
      "23                         90203.043478\n",
      "24                         82439.909091\n",
      "25                         90444.426230\n",
      "26                         55118.500000\n",
      "27                        132115.000000\n",
      "28                         82056.888889\n",
      "29                         65459.500000\n"
     ]
    }
   ],
   "source": [
    "data_new_spb_pivot = data_new_spb.pivot_table(index = 'cityCenters_nearest_km', values = 'price_one_metre', aggfunc = 'mean') #считаем среднюю цену для каждого километра.\n",
    "print(data_new_spb_pivot)"
   ]
  },
  {
   "cell_type": "code",
   "execution_count": 36,
   "metadata": {
    "scrolled": false
   },
   "outputs": [
    {
     "data": {
      "text/plain": [
       "<matplotlib.axes._subplots.AxesSubplot at 0x7f348d0bcdd0>"
      ]
     },
     "execution_count": 36,
     "metadata": {},
     "output_type": "execute_result"
    },
    {
     "data": {
      "image/png": "[encoded data removed]",
      "text/plain": [
       "<Figure size 1080x720 with 1 Axes>"
      ]
     },
     "metadata": {
      "needs_background": "light"
     },
     "output_type": "display_data"
    }
   ],
   "source": [
    "data_new_spb_pivot.plot(kind='bar',grid=True,figsize=(15,10)) #рисуем столбчатую диаграмм зависимости цены от удалённости от центра"
   ]
  },
  {
   "cell_type": "markdown",
   "metadata": {},
   "source": [
    "Самые дорогие квартиры на первом километре от центра Петербурга. Оно и понятно, это исторический центр.  Также выделяется 4-7 километр, возможно это новостройки, ближайшие к центру. Также выделяется 27 километр, могу предположить, что это какой-то элитный поселок в Ленинградской области."
   ]
  },
  {
   "cell_type": "markdown",
   "metadata": {},
   "source": [
    "Выделяем сегмент квартир в центре"
   ]
  },
  {
   "cell_type": "code",
   "execution_count": 37,
   "metadata": {},
   "outputs": [
    {
     "data": {
      "text/html": [
       "<div>\n",
       "<style scoped>\n",
       "    .dataframe tbody tr th:only-of-type {\n",
       "        vertical-align: middle;\n",
       "    }\n",
       "\n",
       "    .dataframe tbody tr th {\n",
       "        vertical-align: top;\n",
       "    }\n",
       "\n",
       "    .dataframe thead th {\n",
       "        text-align: right;\n",
       "    }\n",
       "</style>\n",
       "<table border=\"1\" class=\"dataframe\">\n",
       "  <thead>\n",
       "    <tr style=\"text-align: right;\">\n",
       "      <th></th>\n",
       "      <th>total_images</th>\n",
       "      <th>last_price</th>\n",
       "      <th>total_area</th>\n",
       "      <th>first_day_exposition</th>\n",
       "      <th>rooms</th>\n",
       "      <th>ceiling_height</th>\n",
       "      <th>floors_total</th>\n",
       "      <th>living_area</th>\n",
       "      <th>floor</th>\n",
       "      <th>is_apartment</th>\n",
       "      <th>studio</th>\n",
       "      <th>open_plan</th>\n",
       "      <th>kitchen_area</th>\n",
       "      <th>balcony</th>\n",
       "      <th>locality_name</th>\n",
       "      <th>airports_nearest</th>\n",
       "      <th>cityCenters_nearest</th>\n",
       "      <th>parks_around3000</th>\n",
       "      <th>parks_nearest</th>\n",
       "      <th>ponds_around3000</th>\n",
       "      <th>ponds_nearest</th>\n",
       "      <th>days_exposition</th>\n",
       "      <th>median_living_area</th>\n",
       "      <th>median_kitchen_area</th>\n",
       "      <th>days_exposition_missing</th>\n",
       "      <th>month</th>\n",
       "      <th>year</th>\n",
       "      <th>weekday</th>\n",
       "      <th>floor_group</th>\n",
       "      <th>price_one_metre</th>\n",
       "      <th>living_ratio</th>\n",
       "      <th>kitchen_ratio</th>\n",
       "      <th>cityCenters_nearest_km</th>\n",
       "    </tr>\n",
       "  </thead>\n",
       "  <tbody>\n",
       "    <tr>\n",
       "      <td>48</td>\n",
       "      <td>2</td>\n",
       "      <td>7900000.0</td>\n",
       "      <td>71.8</td>\n",
       "      <td>2017-08-23</td>\n",
       "      <td>3</td>\n",
       "      <td>3.00</td>\n",
       "      <td>5</td>\n",
       "      <td>38.7</td>\n",
       "      <td>1</td>\n",
       "      <td>False</td>\n",
       "      <td>False</td>\n",
       "      <td>False</td>\n",
       "      <td>12.0</td>\n",
       "      <td>0</td>\n",
       "      <td>Санкт-Петербург</td>\n",
       "      <td>22036.0</td>\n",
       "      <td>3301.0</td>\n",
       "      <td>0.0</td>\n",
       "      <td>455.0</td>\n",
       "      <td>1.0</td>\n",
       "      <td>585.0</td>\n",
       "      <td>NaN</td>\n",
       "      <td>45.000</td>\n",
       "      <td>9.50</td>\n",
       "      <td>1</td>\n",
       "      <td>8</td>\n",
       "      <td>2017</td>\n",
       "      <td>2</td>\n",
       "      <td>первый</td>\n",
       "      <td>110027</td>\n",
       "      <td>53.90</td>\n",
       "      <td>16.71</td>\n",
       "      <td>3</td>\n",
       "    </tr>\n",
       "    <tr>\n",
       "      <td>63</td>\n",
       "      <td>16</td>\n",
       "      <td>22000000.0</td>\n",
       "      <td>119.0</td>\n",
       "      <td>2017-02-16</td>\n",
       "      <td>3</td>\n",
       "      <td>3.50</td>\n",
       "      <td>5</td>\n",
       "      <td>56.0</td>\n",
       "      <td>3</td>\n",
       "      <td>False</td>\n",
       "      <td>False</td>\n",
       "      <td>False</td>\n",
       "      <td>35.0</td>\n",
       "      <td>0</td>\n",
       "      <td>Санкт-Петербург</td>\n",
       "      <td>21698.0</td>\n",
       "      <td>2004.0</td>\n",
       "      <td>1.0</td>\n",
       "      <td>688.0</td>\n",
       "      <td>1.0</td>\n",
       "      <td>86.0</td>\n",
       "      <td>77.0</td>\n",
       "      <td>45.000</td>\n",
       "      <td>9.50</td>\n",
       "      <td>0</td>\n",
       "      <td>2</td>\n",
       "      <td>2017</td>\n",
       "      <td>3</td>\n",
       "      <td>другой</td>\n",
       "      <td>184873</td>\n",
       "      <td>47.06</td>\n",
       "      <td>29.41</td>\n",
       "      <td>2</td>\n",
       "    </tr>\n",
       "    <tr>\n",
       "      <td>84</td>\n",
       "      <td>16</td>\n",
       "      <td>7100000.0</td>\n",
       "      <td>50.0</td>\n",
       "      <td>2016-04-20</td>\n",
       "      <td>3</td>\n",
       "      <td>2.65</td>\n",
       "      <td>5</td>\n",
       "      <td>31.5</td>\n",
       "      <td>1</td>\n",
       "      <td>False</td>\n",
       "      <td>False</td>\n",
       "      <td>False</td>\n",
       "      <td>5.0</td>\n",
       "      <td>0</td>\n",
       "      <td>Санкт-Петербург</td>\n",
       "      <td>21341.0</td>\n",
       "      <td>2043.0</td>\n",
       "      <td>2.0</td>\n",
       "      <td>377.0</td>\n",
       "      <td>1.0</td>\n",
       "      <td>411.0</td>\n",
       "      <td>900.0</td>\n",
       "      <td>45.000</td>\n",
       "      <td>9.50</td>\n",
       "      <td>0</td>\n",
       "      <td>4</td>\n",
       "      <td>2016</td>\n",
       "      <td>2</td>\n",
       "      <td>первый</td>\n",
       "      <td>142000</td>\n",
       "      <td>63.00</td>\n",
       "      <td>10.00</td>\n",
       "      <td>2</td>\n",
       "    </tr>\n",
       "    <tr>\n",
       "      <td>100</td>\n",
       "      <td>2</td>\n",
       "      <td>11400000.0</td>\n",
       "      <td>81.2</td>\n",
       "      <td>2016-04-27</td>\n",
       "      <td>3</td>\n",
       "      <td>2.65</td>\n",
       "      <td>3</td>\n",
       "      <td>45.7</td>\n",
       "      <td>2</td>\n",
       "      <td>False</td>\n",
       "      <td>False</td>\n",
       "      <td>False</td>\n",
       "      <td>14.3</td>\n",
       "      <td>0</td>\n",
       "      <td>Санкт-Петербург</td>\n",
       "      <td>23128.0</td>\n",
       "      <td>2669.0</td>\n",
       "      <td>0.0</td>\n",
       "      <td>455.0</td>\n",
       "      <td>3.0</td>\n",
       "      <td>611.0</td>\n",
       "      <td>89.0</td>\n",
       "      <td>45.000</td>\n",
       "      <td>9.50</td>\n",
       "      <td>0</td>\n",
       "      <td>4</td>\n",
       "      <td>2016</td>\n",
       "      <td>2</td>\n",
       "      <td>другой</td>\n",
       "      <td>140394</td>\n",
       "      <td>56.28</td>\n",
       "      <td>17.61</td>\n",
       "      <td>2</td>\n",
       "    </tr>\n",
       "    <tr>\n",
       "      <td>109</td>\n",
       "      <td>11</td>\n",
       "      <td>6950000.0</td>\n",
       "      <td>77.0</td>\n",
       "      <td>2018-02-01</td>\n",
       "      <td>3</td>\n",
       "      <td>2.65</td>\n",
       "      <td>5</td>\n",
       "      <td>40.0</td>\n",
       "      <td>3</td>\n",
       "      <td>False</td>\n",
       "      <td>False</td>\n",
       "      <td>False</td>\n",
       "      <td>13.3</td>\n",
       "      <td>0</td>\n",
       "      <td>Санкт-Петербург</td>\n",
       "      <td>25019.0</td>\n",
       "      <td>3349.0</td>\n",
       "      <td>2.0</td>\n",
       "      <td>471.0</td>\n",
       "      <td>0.0</td>\n",
       "      <td>503.0</td>\n",
       "      <td>134.0</td>\n",
       "      <td>45.000</td>\n",
       "      <td>9.50</td>\n",
       "      <td>0</td>\n",
       "      <td>2</td>\n",
       "      <td>2018</td>\n",
       "      <td>3</td>\n",
       "      <td>другой</td>\n",
       "      <td>90259</td>\n",
       "      <td>51.95</td>\n",
       "      <td>17.27</td>\n",
       "      <td>3</td>\n",
       "    </tr>\n",
       "    <tr>\n",
       "      <td>...</td>\n",
       "      <td>...</td>\n",
       "      <td>...</td>\n",
       "      <td>...</td>\n",
       "      <td>...</td>\n",
       "      <td>...</td>\n",
       "      <td>...</td>\n",
       "      <td>...</td>\n",
       "      <td>...</td>\n",
       "      <td>...</td>\n",
       "      <td>...</td>\n",
       "      <td>...</td>\n",
       "      <td>...</td>\n",
       "      <td>...</td>\n",
       "      <td>...</td>\n",
       "      <td>...</td>\n",
       "      <td>...</td>\n",
       "      <td>...</td>\n",
       "      <td>...</td>\n",
       "      <td>...</td>\n",
       "      <td>...</td>\n",
       "      <td>...</td>\n",
       "      <td>...</td>\n",
       "      <td>...</td>\n",
       "      <td>...</td>\n",
       "      <td>...</td>\n",
       "      <td>...</td>\n",
       "      <td>...</td>\n",
       "      <td>...</td>\n",
       "      <td>...</td>\n",
       "      <td>...</td>\n",
       "      <td>...</td>\n",
       "      <td>...</td>\n",
       "      <td>...</td>\n",
       "    </tr>\n",
       "    <tr>\n",
       "      <td>23199</td>\n",
       "      <td>11</td>\n",
       "      <td>19500000.0</td>\n",
       "      <td>126.2</td>\n",
       "      <td>2018-02-01</td>\n",
       "      <td>5</td>\n",
       "      <td>2.65</td>\n",
       "      <td>4</td>\n",
       "      <td>91.8</td>\n",
       "      <td>4</td>\n",
       "      <td>False</td>\n",
       "      <td>False</td>\n",
       "      <td>False</td>\n",
       "      <td>13.0</td>\n",
       "      <td>0</td>\n",
       "      <td>Санкт-Петербург</td>\n",
       "      <td>22779.0</td>\n",
       "      <td>1698.0</td>\n",
       "      <td>2.0</td>\n",
       "      <td>368.0</td>\n",
       "      <td>3.0</td>\n",
       "      <td>270.0</td>\n",
       "      <td>64.0</td>\n",
       "      <td>91.785</td>\n",
       "      <td>15.05</td>\n",
       "      <td>0</td>\n",
       "      <td>2</td>\n",
       "      <td>2018</td>\n",
       "      <td>3</td>\n",
       "      <td>последний</td>\n",
       "      <td>154516</td>\n",
       "      <td>72.74</td>\n",
       "      <td>10.30</td>\n",
       "      <td>1</td>\n",
       "    </tr>\n",
       "    <tr>\n",
       "      <td>23200</td>\n",
       "      <td>19</td>\n",
       "      <td>15490000.0</td>\n",
       "      <td>148.0</td>\n",
       "      <td>2018-01-20</td>\n",
       "      <td>5</td>\n",
       "      <td>2.65</td>\n",
       "      <td>5</td>\n",
       "      <td>96.0</td>\n",
       "      <td>3</td>\n",
       "      <td>False</td>\n",
       "      <td>False</td>\n",
       "      <td>False</td>\n",
       "      <td>20.0</td>\n",
       "      <td>0</td>\n",
       "      <td>Санкт-Петербург</td>\n",
       "      <td>21563.0</td>\n",
       "      <td>2439.0</td>\n",
       "      <td>1.0</td>\n",
       "      <td>199.0</td>\n",
       "      <td>1.0</td>\n",
       "      <td>802.0</td>\n",
       "      <td>252.0</td>\n",
       "      <td>91.785</td>\n",
       "      <td>15.05</td>\n",
       "      <td>0</td>\n",
       "      <td>1</td>\n",
       "      <td>2018</td>\n",
       "      <td>5</td>\n",
       "      <td>другой</td>\n",
       "      <td>104662</td>\n",
       "      <td>64.86</td>\n",
       "      <td>13.51</td>\n",
       "      <td>2</td>\n",
       "    </tr>\n",
       "    <tr>\n",
       "      <td>23203</td>\n",
       "      <td>15</td>\n",
       "      <td>9850000.0</td>\n",
       "      <td>96.0</td>\n",
       "      <td>2018-07-13</td>\n",
       "      <td>5</td>\n",
       "      <td>3.00</td>\n",
       "      <td>7</td>\n",
       "      <td>68.0</td>\n",
       "      <td>1</td>\n",
       "      <td>False</td>\n",
       "      <td>False</td>\n",
       "      <td>False</td>\n",
       "      <td>7.0</td>\n",
       "      <td>0</td>\n",
       "      <td>Санкт-Петербург</td>\n",
       "      <td>21934.0</td>\n",
       "      <td>1483.0</td>\n",
       "      <td>0.0</td>\n",
       "      <td>455.0</td>\n",
       "      <td>2.0</td>\n",
       "      <td>539.0</td>\n",
       "      <td>87.0</td>\n",
       "      <td>91.785</td>\n",
       "      <td>15.05</td>\n",
       "      <td>0</td>\n",
       "      <td>7</td>\n",
       "      <td>2018</td>\n",
       "      <td>4</td>\n",
       "      <td>первый</td>\n",
       "      <td>102604</td>\n",
       "      <td>70.83</td>\n",
       "      <td>7.29</td>\n",
       "      <td>1</td>\n",
       "    </tr>\n",
       "    <tr>\n",
       "      <td>23208</td>\n",
       "      <td>15</td>\n",
       "      <td>14000000.0</td>\n",
       "      <td>155.0</td>\n",
       "      <td>2015-04-03</td>\n",
       "      <td>5</td>\n",
       "      <td>2.65</td>\n",
       "      <td>6</td>\n",
       "      <td>100.0</td>\n",
       "      <td>4</td>\n",
       "      <td>False</td>\n",
       "      <td>False</td>\n",
       "      <td>False</td>\n",
       "      <td>20.0</td>\n",
       "      <td>0</td>\n",
       "      <td>Санкт-Петербург</td>\n",
       "      <td>23585.0</td>\n",
       "      <td>3126.0</td>\n",
       "      <td>1.0</td>\n",
       "      <td>329.0</td>\n",
       "      <td>1.0</td>\n",
       "      <td>848.0</td>\n",
       "      <td>947.0</td>\n",
       "      <td>91.785</td>\n",
       "      <td>15.05</td>\n",
       "      <td>0</td>\n",
       "      <td>4</td>\n",
       "      <td>2015</td>\n",
       "      <td>4</td>\n",
       "      <td>другой</td>\n",
       "      <td>90322</td>\n",
       "      <td>64.52</td>\n",
       "      <td>12.90</td>\n",
       "      <td>3</td>\n",
       "    </tr>\n",
       "    <tr>\n",
       "      <td>23222</td>\n",
       "      <td>10</td>\n",
       "      <td>7600000.0</td>\n",
       "      <td>104.0</td>\n",
       "      <td>2017-11-28</td>\n",
       "      <td>5</td>\n",
       "      <td>2.87</td>\n",
       "      <td>7</td>\n",
       "      <td>69.0</td>\n",
       "      <td>7</td>\n",
       "      <td>False</td>\n",
       "      <td>False</td>\n",
       "      <td>False</td>\n",
       "      <td>13.9</td>\n",
       "      <td>0</td>\n",
       "      <td>Санкт-Петербург</td>\n",
       "      <td>23631.0</td>\n",
       "      <td>3764.0</td>\n",
       "      <td>1.0</td>\n",
       "      <td>261.0</td>\n",
       "      <td>1.0</td>\n",
       "      <td>569.0</td>\n",
       "      <td>74.0</td>\n",
       "      <td>91.785</td>\n",
       "      <td>15.05</td>\n",
       "      <td>0</td>\n",
       "      <td>11</td>\n",
       "      <td>2017</td>\n",
       "      <td>1</td>\n",
       "      <td>последний</td>\n",
       "      <td>73076</td>\n",
       "      <td>66.35</td>\n",
       "      <td>13.37</td>\n",
       "      <td>3</td>\n",
       "    </tr>\n",
       "  </tbody>\n",
       "</table>\n",
       "<p>885 rows × 33 columns</p>\n",
       "</div>"
      ],
      "text/plain": [
       "       total_images  last_price  total_area first_day_exposition  rooms  \\\n",
       "48                2   7900000.0        71.8           2017-08-23      3   \n",
       "63               16  22000000.0       119.0           2017-02-16      3   \n",
       "84               16   7100000.0        50.0           2016-04-20      3   \n",
       "100               2  11400000.0        81.2           2016-04-27      3   \n",
       "109              11   6950000.0        77.0           2018-02-01      3   \n",
       "...             ...         ...         ...                  ...    ...   \n",
       "23199            11  19500000.0       126.2           2018-02-01      5   \n",
       "23200            19  15490000.0       148.0           2018-01-20      5   \n",
       "23203            15   9850000.0        96.0           2018-07-13      5   \n",
       "23208            15  14000000.0       155.0           2015-04-03      5   \n",
       "23222            10   7600000.0       104.0           2017-11-28      5   \n",
       "\n",
       "       ceiling_height  floors_total  living_area  floor  is_apartment  studio  \\\n",
       "48               3.00             5         38.7      1         False   False   \n",
       "63               3.50             5         56.0      3         False   False   \n",
       "84               2.65             5         31.5      1         False   False   \n",
       "100              2.65             3         45.7      2         False   False   \n",
       "109              2.65             5         40.0      3         False   False   \n",
       "...               ...           ...          ...    ...           ...     ...   \n",
       "23199            2.65             4         91.8      4         False   False   \n",
       "23200            2.65             5         96.0      3         False   False   \n",
       "23203            3.00             7         68.0      1         False   False   \n",
       "23208            2.65             6        100.0      4         False   False   \n",
       "23222            2.87             7         69.0      7         False   False   \n",
       "\n",
       "       open_plan  kitchen_area  balcony    locality_name  airports_nearest  \\\n",
       "48         False          12.0        0  Санкт-Петербург           22036.0   \n",
       "63         False          35.0        0  Санкт-Петербург           21698.0   \n",
       "84         False           5.0        0  Санкт-Петербург           21341.0   \n",
       "100        False          14.3        0  Санкт-Петербург           23128.0   \n",
       "109        False          13.3        0  Санкт-Петербург           25019.0   \n",
       "...          ...           ...      ...              ...               ...   \n",
       "23199      False          13.0        0  Санкт-Петербург           22779.0   \n",
       "23200      False          20.0        0  Санкт-Петербург           21563.0   \n",
       "23203      False           7.0        0  Санкт-Петербург           21934.0   \n",
       "23208      False          20.0        0  Санкт-Петербург           23585.0   \n",
       "23222      False          13.9        0  Санкт-Петербург           23631.0   \n",
       "\n",
       "       cityCenters_nearest  parks_around3000  parks_nearest  ponds_around3000  \\\n",
       "48                  3301.0               0.0          455.0               1.0   \n",
       "63                  2004.0               1.0          688.0               1.0   \n",
       "84                  2043.0               2.0          377.0               1.0   \n",
       "100                 2669.0               0.0          455.0               3.0   \n",
       "109                 3349.0               2.0          471.0               0.0   \n",
       "...                    ...               ...            ...               ...   \n",
       "23199               1698.0               2.0          368.0               3.0   \n",
       "23200               2439.0               1.0          199.0               1.0   \n",
       "23203               1483.0               0.0          455.0               2.0   \n",
       "23208               3126.0               1.0          329.0               1.0   \n",
       "23222               3764.0               1.0          261.0               1.0   \n",
       "\n",
       "       ponds_nearest  days_exposition  median_living_area  \\\n",
       "48             585.0              NaN              45.000   \n",
       "63              86.0             77.0              45.000   \n",
       "84             411.0            900.0              45.000   \n",
       "100            611.0             89.0              45.000   \n",
       "109            503.0            134.0              45.000   \n",
       "...              ...              ...                 ...   \n",
       "23199          270.0             64.0              91.785   \n",
       "23200          802.0            252.0              91.785   \n",
       "23203          539.0             87.0              91.785   \n",
       "23208          848.0            947.0              91.785   \n",
       "23222          569.0             74.0              91.785   \n",
       "\n",
       "       median_kitchen_area  days_exposition_missing  month  year  weekday  \\\n",
       "48                    9.50                        1      8  2017        2   \n",
       "63                    9.50                        0      2  2017        3   \n",
       "84                    9.50                        0      4  2016        2   \n",
       "100                   9.50                        0      4  2016        2   \n",
       "109                   9.50                        0      2  2018        3   \n",
       "...                    ...                      ...    ...   ...      ...   \n",
       "23199                15.05                        0      2  2018        3   \n",
       "23200                15.05                        0      1  2018        5   \n",
       "23203                15.05                        0      7  2018        4   \n",
       "23208                15.05                        0      4  2015        4   \n",
       "23222                15.05                        0     11  2017        1   \n",
       "\n",
       "      floor_group  price_one_metre  living_ratio  kitchen_ratio  \\\n",
       "48         первый           110027         53.90          16.71   \n",
       "63         другой           184873         47.06          29.41   \n",
       "84         первый           142000         63.00          10.00   \n",
       "100        другой           140394         56.28          17.61   \n",
       "109        другой            90259         51.95          17.27   \n",
       "...           ...              ...           ...            ...   \n",
       "23199   последний           154516         72.74          10.30   \n",
       "23200      другой           104662         64.86          13.51   \n",
       "23203      первый           102604         70.83           7.29   \n",
       "23208      другой            90322         64.52          12.90   \n",
       "23222   последний            73076         66.35          13.37   \n",
       "\n",
       "       cityCenters_nearest_km  \n",
       "48                          3  \n",
       "63                          2  \n",
       "84                          2  \n",
       "100                         2  \n",
       "109                         3  \n",
       "...                       ...  \n",
       "23199                       1  \n",
       "23200                       2  \n",
       "23203                       1  \n",
       "23208                       3  \n",
       "23222                       3  \n",
       "\n",
       "[885 rows x 33 columns]"
      ]
     },
     "metadata": {},
     "output_type": "display_data"
    }
   ],
   "source": [
    "data_new_spb_center = data_new_spb.query('cityCenters_nearest_km<=3') #выделяем центральную зону Саанкт-Петербурга\n",
    "display(data_new_spb_center)   "
   ]
  },
  {
   "cell_type": "code",
   "execution_count": 38,
   "metadata": {
    "scrolled": false
   },
   "outputs": [
    {
     "name": "stdout",
     "output_type": "stream",
     "text": [
      "Корреляция между стоимостью за квадратный метр в центре и total_area\n",
      "-0.14\n",
      "Корреляция между стоимостью за квадратный метр в центре и rooms\n",
      "-0.24\n",
      "Корреляция между стоимостью за квадратный метр в центре и cityCenters_nearest_km\n",
      "-0.11\n",
      "Корреляция между стоимостью за квадратный метр в центре и month\n",
      "-0.06\n",
      "Корреляция между стоимостью за квадратный метр в центре и year\n",
      "0.13\n",
      "Корреляция между стоимостью за квадратный метр в центре и weekday\n",
      "-0.04\n",
      "Корреляция между стоимостью за квадратный метр в центре и ceiling_height\n",
      "0.1\n"
     ]
    },
    {
     "data": {
      "image/png": "[encoded data removed]",
      "text/plain": [
       "<Figure size 432x288 with 1 Axes>"
      ]
     },
     "metadata": {
      "needs_background": "light"
     },
     "output_type": "display_data"
    },
    {
     "data": {
      "image/png": "[encoded data removed]",
      "text/plain": [
       "<Figure size 432x288 with 1 Axes>"
      ]
     },
     "metadata": {
      "needs_background": "light"
     },
     "output_type": "display_data"
    },
    {
     "data": {
      "image/png": "[encoded data removed]",
      "text/plain": [
       "<Figure size 432x288 with 1 Axes>"
      ]
     },
     "metadata": {
      "needs_background": "light"
     },
     "output_type": "display_data"
    },
    {
     "data": {
      "image/png": "[encoded data removed]",
      "text/plain": [
       "<Figure size 432x288 with 1 Axes>"
      ]
     },
     "metadata": {
      "needs_background": "light"
     },
     "output_type": "display_data"
    },
    {
     "data": {
      "image/png": "[encoded data removed]",
      "text/plain": [
       "<Figure size 432x288 with 1 Axes>"
      ]
     },
     "metadata": {
      "needs_background": "light"
     },
     "output_type": "display_data"
    },
    {
     "data": {
      "image/png": "[encoded data removed]",
      "text/plain": [
       "<Figure size 432x288 with 1 Axes>"
      ]
     },
     "metadata": {
      "needs_background": "light"
     },
     "output_type": "display_data"
    },
    {
     "data": {
      "image/png": "[encoded data removed]",
      "text/plain": [
       "<Figure size 432x288 with 1 Axes>"
      ]
     },
     "metadata": {
      "needs_background": "light"
     },
     "output_type": "display_data"
    }
   ],
   "source": [
    "factor_price = ['total_area','rooms','cityCenters_nearest_km','month','year','weekday','ceiling_height']#создали список столбцов, значение которых изучаем\n",
    "for factor in factor_price: #через цикл строим график и считаем корреляцию\n",
    "    print(f'Корреляция между стоимостью за квадратный метр в центре и {factor}')\n",
    "    print((data_new_spb_center['price_one_metre'].corr(data_new_spb_center[factor])).round(2))\n",
    "    data_new_spb_center.plot(x=factor,y='price_one_metre',kind='scatter',alpha=0.1,grid=True)"
   ]
  },
  {
   "cell_type": "markdown",
   "metadata": {},
   "source": [
    "В центральной части Санкт-Петербурга мы тоже не наблюдаем зависимости цены квадратного метра от площали квартиры, количества комнат, расстояния от центра, даты публикации объявления и высоты потолков."
   ]
  },
  {
   "cell_type": "code",
   "execution_count": 39,
   "metadata": {},
   "outputs": [
    {
     "name": "stderr",
     "output_type": "stream",
     "text": [
      "/opt/conda/lib/python3.7/site-packages/numpy/core/_asarray.py:83: VisibleDeprecationWarning: Creating an ndarray from ragged nested sequences (which is a list-or-tuple of lists-or-tuples-or ndarrays with different lengths or shapes) is deprecated. If you meant to do this, you must specify 'dtype=object' when creating the ndarray\n",
      "  return array(a, dtype, copy=False, order=order)\n"
     ]
    },
    {
     "data": {
      "text/plain": [
       "(1, 250000)"
      ]
     },
     "execution_count": 39,
     "metadata": {},
     "output_type": "execute_result"
    },
    {
     "data": {
      "image/png": "[encoded data removed]",
      "text/plain": [
       "<Figure size 432x288 with 1 Axes>"
      ]
     },
     "metadata": {
      "needs_background": "light"
     },
     "output_type": "display_data"
    }
   ],
   "source": [
    "data_new_spb_center.boxplot(column='price_one_metre',by='floor_group')#строим диаграмму рассеивания \n",
    "plt.ylim(1,250000)"
   ]
  },
  {
   "cell_type": "markdown",
   "metadata": {},
   "source": [
    "В центре Петерубурга также квартиры на первом этаже стоят чуть дешевле, чем на других этажах. Но цены уже чуть дороже, чем в остальных районах Петербурга."
   ]
  },
  {
   "cell_type": "markdown",
   "metadata": {},
   "source": [
    "## Общий вывод"
   ]
  },
  {
   "cell_type": "markdown",
   "metadata": {},
   "source": [
    "В ходе анализа на основе предоставленных данных можно сделать вывод, что максимальная цена за квадратный метр квартиры в Санкт-Петербурге. Цены в центре города выше, чем в других районах. Но на цену квадратного метра не влияют такие факторы, как площадь квартиры, число комнат, удалённости от центра,этаж,дата публикации. Это касается, как центральной части Санкт-Петербурга, так и других районов города. "
   ]
  }
 ],
 "metadata": {
  "ExecuteTimeLog": [
   {
    "duration": 91,
    "start_time": "2021-12-22T17:13:52.357Z"
   },
   {
    "duration": 130,
    "start_time": "2021-12-22T17:18:38.038Z"
   },
   {
    "duration": 98,
    "start_time": "2021-12-22T17:21:20.840Z"
   },
   {
    "duration": 135,
    "start_time": "2021-12-22T17:21:31.784Z"
   },
   {
    "duration": 105,
    "start_time": "2021-12-22T17:31:40.405Z"
   },
   {
    "duration": 253,
    "start_time": "2021-12-23T11:57:02.497Z"
   },
   {
    "duration": 673,
    "start_time": "2021-12-23T11:57:17.370Z"
   },
   {
    "duration": 72,
    "start_time": "2021-12-23T11:57:18.045Z"
   },
   {
    "duration": 509,
    "start_time": "2021-12-23T11:57:18.118Z"
   },
   {
    "duration": 194,
    "start_time": "2021-12-23T11:57:29.717Z"
   },
   {
    "duration": 144,
    "start_time": "2021-12-23T12:12:49.376Z"
   },
   {
    "duration": 213,
    "start_time": "2021-12-23T12:13:58.823Z"
   },
   {
    "duration": 1390,
    "start_time": "2021-12-23T12:18:57.418Z"
   },
   {
    "duration": 1613,
    "start_time": "2021-12-23T12:22:06.200Z"
   },
   {
    "duration": 1507,
    "start_time": "2021-12-23T12:23:28.889Z"
   },
   {
    "duration": 27,
    "start_time": "2021-12-23T12:23:53.871Z"
   },
   {
    "duration": 208,
    "start_time": "2021-12-23T12:26:28.516Z"
   },
   {
    "duration": 4895,
    "start_time": "2021-12-23T12:27:30.067Z"
   },
   {
    "duration": 5340,
    "start_time": "2021-12-23T12:28:05.074Z"
   },
   {
    "duration": -19184,
    "start_time": "2021-12-23T12:28:50.802Z"
   },
   {
    "duration": 5564,
    "start_time": "2021-12-23T12:28:40.742Z"
   },
   {
    "duration": 4,
    "start_time": "2021-12-23T12:28:58.032Z"
   },
   {
    "duration": 4,
    "start_time": "2021-12-23T12:29:45.507Z"
   },
   {
    "duration": 5,
    "start_time": "2021-12-23T12:30:33.769Z"
   },
   {
    "duration": 5,
    "start_time": "2021-12-23T12:31:44.133Z"
   },
   {
    "duration": 5,
    "start_time": "2021-12-23T12:32:36.302Z"
   },
   {
    "duration": 7,
    "start_time": "2021-12-23T12:33:32.739Z"
   },
   {
    "duration": -18624,
    "start_time": "2021-12-23T12:40:36.976Z"
   },
   {
    "duration": 203,
    "start_time": "2021-12-23T12:41:37.262Z"
   },
   {
    "duration": 209,
    "start_time": "2021-12-23T12:47:55.526Z"
   },
   {
    "duration": 2948,
    "start_time": "2021-12-23T12:48:56.878Z"
   },
   {
    "duration": 2756,
    "start_time": "2021-12-23T12:49:34.837Z"
   },
   {
    "duration": 2649,
    "start_time": "2021-12-23T12:49:38.233Z"
   },
   {
    "duration": 1152,
    "start_time": "2021-12-23T12:56:32.566Z"
   },
   {
    "duration": 958,
    "start_time": "2021-12-23T12:57:26.664Z"
   },
   {
    "duration": 363,
    "start_time": "2021-12-24T15:28:01.661Z"
   },
   {
    "duration": 964,
    "start_time": "2021-12-24T15:28:11.063Z"
   },
   {
    "duration": 138,
    "start_time": "2021-12-24T15:28:12.030Z"
   },
   {
    "duration": 43,
    "start_time": "2021-12-24T15:28:12.172Z"
   },
   {
    "duration": 57,
    "start_time": "2021-12-24T15:28:12.218Z"
   },
   {
    "duration": 8,
    "start_time": "2021-12-24T15:28:12.278Z"
   },
   {
    "duration": 423,
    "start_time": "2021-12-24T15:28:12.289Z"
   },
   {
    "duration": -19479,
    "start_time": "2021-12-24T15:28:32.193Z"
   },
   {
    "duration": -19488,
    "start_time": "2021-12-24T15:28:32.204Z"
   },
   {
    "duration": -19553,
    "start_time": "2021-12-24T15:28:32.270Z"
   },
   {
    "duration": -19559,
    "start_time": "2021-12-24T15:28:32.278Z"
   },
   {
    "duration": 22,
    "start_time": "2021-12-24T15:28:35.360Z"
   },
   {
    "duration": 23,
    "start_time": "2021-12-24T15:31:48.868Z"
   },
   {
    "duration": 11,
    "start_time": "2021-12-24T15:35:30.327Z"
   },
   {
    "duration": 24,
    "start_time": "2021-12-24T15:35:42.808Z"
   },
   {
    "duration": 357,
    "start_time": "2021-12-24T15:41:06.953Z"
   },
   {
    "duration": 10,
    "start_time": "2021-12-24T15:41:31.872Z"
   },
   {
    "duration": 14,
    "start_time": "2021-12-24T15:45:13.090Z"
   },
   {
    "duration": 28,
    "start_time": "2021-12-24T15:45:36.236Z"
   },
   {
    "duration": 955,
    "start_time": "2021-12-24T15:45:51.332Z"
   },
   {
    "duration": 137,
    "start_time": "2021-12-24T15:45:52.289Z"
   },
   {
    "duration": 61,
    "start_time": "2021-12-24T15:45:52.429Z"
   },
   {
    "duration": 9,
    "start_time": "2021-12-24T15:45:52.494Z"
   },
   {
    "duration": 14,
    "start_time": "2021-12-24T15:45:52.507Z"
   },
   {
    "duration": 75,
    "start_time": "2021-12-24T15:45:52.524Z"
   },
   {
    "duration": 5,
    "start_time": "2021-12-24T15:45:52.602Z"
   },
   {
    "duration": 5,
    "start_time": "2021-12-24T15:45:52.610Z"
   },
   {
    "duration": 55,
    "start_time": "2021-12-24T15:45:52.617Z"
   },
   {
    "duration": 1712,
    "start_time": "2021-12-24T15:45:52.674Z"
   },
   {
    "duration": 4181,
    "start_time": "2021-12-24T15:47:07.292Z"
   },
   {
    "duration": 935,
    "start_time": "2021-12-24T15:57:53.556Z"
   },
   {
    "duration": 130,
    "start_time": "2021-12-24T15:57:54.494Z"
   },
   {
    "duration": 57,
    "start_time": "2021-12-24T15:57:54.627Z"
   },
   {
    "duration": 4185,
    "start_time": "2021-12-24T15:57:54.687Z"
   },
   {
    "duration": -18810,
    "start_time": "2021-12-24T15:58:17.686Z"
   },
   {
    "duration": -18816,
    "start_time": "2021-12-24T15:58:17.694Z"
   },
   {
    "duration": -18820,
    "start_time": "2021-12-24T15:58:17.700Z"
   },
   {
    "duration": -18821,
    "start_time": "2021-12-24T15:58:17.703Z"
   },
   {
    "duration": -18826,
    "start_time": "2021-12-24T15:58:17.710Z"
   },
   {
    "duration": -18828,
    "start_time": "2021-12-24T15:58:17.714Z"
   },
   {
    "duration": 116,
    "start_time": "2021-12-24T18:27:59.064Z"
   },
   {
    "duration": 863,
    "start_time": "2021-12-24T18:28:13.444Z"
   },
   {
    "duration": 102,
    "start_time": "2021-12-24T18:28:14.310Z"
   },
   {
    "duration": 40,
    "start_time": "2021-12-24T18:28:14.424Z"
   },
   {
    "duration": 14,
    "start_time": "2021-12-24T18:28:14.466Z"
   },
   {
    "duration": 48,
    "start_time": "2021-12-24T18:28:14.483Z"
   },
   {
    "duration": 31,
    "start_time": "2021-12-24T18:28:14.534Z"
   },
   {
    "duration": 5,
    "start_time": "2021-12-24T18:28:14.567Z"
   },
   {
    "duration": 6,
    "start_time": "2021-12-24T18:28:14.576Z"
   },
   {
    "duration": 9,
    "start_time": "2021-12-24T18:28:14.624Z"
   },
   {
    "duration": 1554,
    "start_time": "2021-12-24T18:28:14.636Z"
   },
   {
    "duration": 33,
    "start_time": "2021-12-24T19:01:57.448Z"
   },
   {
    "duration": 1065,
    "start_time": "2021-12-24T19:02:08.398Z"
   },
   {
    "duration": 122,
    "start_time": "2021-12-24T19:02:09.466Z"
   },
   {
    "duration": 54,
    "start_time": "2021-12-24T19:02:09.591Z"
   },
   {
    "duration": 13,
    "start_time": "2021-12-24T19:02:09.648Z"
   },
   {
    "duration": 11,
    "start_time": "2021-12-24T19:02:09.663Z"
   },
   {
    "duration": 72,
    "start_time": "2021-12-24T19:02:09.676Z"
   },
   {
    "duration": 5,
    "start_time": "2021-12-24T19:02:09.750Z"
   },
   {
    "duration": 6,
    "start_time": "2021-12-24T19:02:09.758Z"
   },
   {
    "duration": 56,
    "start_time": "2021-12-24T19:02:09.767Z"
   },
   {
    "duration": 1539,
    "start_time": "2021-12-24T19:02:09.825Z"
   },
   {
    "duration": 32,
    "start_time": "2021-12-24T19:03:46.693Z"
   },
   {
    "duration": 917,
    "start_time": "2021-12-24T19:03:58.615Z"
   },
   {
    "duration": 122,
    "start_time": "2021-12-24T19:03:59.535Z"
   },
   {
    "duration": 63,
    "start_time": "2021-12-24T19:03:59.661Z"
   },
   {
    "duration": 16,
    "start_time": "2021-12-24T19:03:59.728Z"
   },
   {
    "duration": 29,
    "start_time": "2021-12-24T19:03:59.747Z"
   },
   {
    "duration": 61,
    "start_time": "2021-12-24T19:03:59.778Z"
   },
   {
    "duration": 5,
    "start_time": "2021-12-24T19:03:59.842Z"
   },
   {
    "duration": 31,
    "start_time": "2021-12-24T19:03:59.852Z"
   },
   {
    "duration": 39,
    "start_time": "2021-12-24T19:03:59.886Z"
   },
   {
    "duration": 1937,
    "start_time": "2021-12-24T19:03:59.928Z"
   },
   {
    "duration": 47,
    "start_time": "2021-12-24T19:04:29.140Z"
   },
   {
    "duration": 921,
    "start_time": "2021-12-24T19:04:42.489Z"
   },
   {
    "duration": 120,
    "start_time": "2021-12-24T19:04:43.413Z"
   },
   {
    "duration": 39,
    "start_time": "2021-12-24T19:04:43.535Z"
   },
   {
    "duration": 14,
    "start_time": "2021-12-24T19:04:43.577Z"
   },
   {
    "duration": 10,
    "start_time": "2021-12-24T19:04:43.624Z"
   },
   {
    "duration": 51,
    "start_time": "2021-12-24T19:04:43.637Z"
   },
   {
    "duration": 33,
    "start_time": "2021-12-24T19:04:43.690Z"
   },
   {
    "duration": 6,
    "start_time": "2021-12-24T19:04:43.726Z"
   },
   {
    "duration": 10,
    "start_time": "2021-12-24T19:04:43.734Z"
   },
   {
    "duration": 1620,
    "start_time": "2021-12-24T19:04:43.746Z"
   },
   {
    "duration": 50,
    "start_time": "2021-12-24T19:06:35.301Z"
   },
   {
    "duration": 955,
    "start_time": "2021-12-24T19:06:46.848Z"
   },
   {
    "duration": 127,
    "start_time": "2021-12-24T19:06:47.806Z"
   },
   {
    "duration": 39,
    "start_time": "2021-12-24T19:06:47.936Z"
   },
   {
    "duration": 16,
    "start_time": "2021-12-24T19:06:47.978Z"
   },
   {
    "duration": 45,
    "start_time": "2021-12-24T19:06:48.024Z"
   },
   {
    "duration": 82,
    "start_time": "2021-12-24T19:06:48.072Z"
   },
   {
    "duration": 5,
    "start_time": "2021-12-24T19:06:48.157Z"
   },
   {
    "duration": 26,
    "start_time": "2021-12-24T19:06:48.166Z"
   },
   {
    "duration": 35,
    "start_time": "2021-12-24T19:06:48.195Z"
   },
   {
    "duration": 2603,
    "start_time": "2021-12-24T19:06:48.233Z"
   },
   {
    "duration": 91,
    "start_time": "2021-12-24T19:09:35.508Z"
   },
   {
    "duration": 413,
    "start_time": "2021-12-24T19:13:42.961Z"
   },
   {
    "duration": 342,
    "start_time": "2021-12-24T19:14:09.547Z"
   },
   {
    "duration": 916,
    "start_time": "2021-12-24T19:15:01.409Z"
   },
   {
    "duration": 119,
    "start_time": "2021-12-24T19:15:02.328Z"
   },
   {
    "duration": 43,
    "start_time": "2021-12-24T19:15:02.450Z"
   },
   {
    "duration": 39,
    "start_time": "2021-12-24T19:15:02.496Z"
   },
   {
    "duration": 40,
    "start_time": "2021-12-24T19:15:02.538Z"
   },
   {
    "duration": 111,
    "start_time": "2021-12-24T19:15:02.580Z"
   },
   {
    "duration": 31,
    "start_time": "2021-12-24T19:15:02.694Z"
   },
   {
    "duration": 9,
    "start_time": "2021-12-24T19:15:02.728Z"
   },
   {
    "duration": 11,
    "start_time": "2021-12-24T19:15:02.740Z"
   },
   {
    "duration": 1495,
    "start_time": "2021-12-24T19:15:02.753Z"
   },
   {
    "duration": 7,
    "start_time": "2021-12-24T19:26:28.299Z"
   },
   {
    "duration": 9,
    "start_time": "2021-12-24T19:26:58.650Z"
   },
   {
    "duration": 107,
    "start_time": "2021-12-24T20:32:36.673Z"
   },
   {
    "duration": 130,
    "start_time": "2021-12-24T20:33:25.819Z"
   },
   {
    "duration": 132,
    "start_time": "2021-12-24T20:33:39.648Z"
   },
   {
    "duration": 884,
    "start_time": "2021-12-24T20:34:20.988Z"
   },
   {
    "duration": 114,
    "start_time": "2021-12-24T20:34:21.875Z"
   },
   {
    "duration": 47,
    "start_time": "2021-12-24T20:34:21.992Z"
   },
   {
    "duration": 14,
    "start_time": "2021-12-24T20:34:22.042Z"
   },
   {
    "duration": 81,
    "start_time": "2021-12-24T20:34:22.059Z"
   },
   {
    "duration": 102,
    "start_time": "2021-12-24T20:34:22.143Z"
   },
   {
    "duration": 6,
    "start_time": "2021-12-24T20:34:22.248Z"
   },
   {
    "duration": 7,
    "start_time": "2021-12-24T20:34:22.256Z"
   },
   {
    "duration": 9,
    "start_time": "2021-12-24T20:34:22.265Z"
   },
   {
    "duration": 48,
    "start_time": "2021-12-24T20:34:22.277Z"
   },
   {
    "duration": 1570,
    "start_time": "2021-12-24T20:34:22.328Z"
   },
   {
    "duration": 13,
    "start_time": "2021-12-24T20:38:37.216Z"
   },
   {
    "duration": -19281,
    "start_time": "2021-12-24T20:40:48.594Z"
   },
   {
    "duration": 842,
    "start_time": "2021-12-24T20:40:39.182Z"
   },
   {
    "duration": 106,
    "start_time": "2021-12-24T20:40:40.027Z"
   },
   {
    "duration": 35,
    "start_time": "2021-12-24T20:40:40.136Z"
   },
   {
    "duration": 15,
    "start_time": "2021-12-24T20:40:40.174Z"
   },
   {
    "duration": 75,
    "start_time": "2021-12-24T20:40:40.191Z"
   },
   {
    "duration": 117,
    "start_time": "2021-12-24T20:40:40.270Z"
   },
   {
    "duration": 35,
    "start_time": "2021-12-24T20:40:40.389Z"
   },
   {
    "duration": 8423,
    "start_time": "2021-12-24T20:40:40.428Z"
   },
   {
    "duration": -19288,
    "start_time": "2021-12-24T20:41:08.142Z"
   },
   {
    "duration": -19292,
    "start_time": "2021-12-24T20:41:08.148Z"
   },
   {
    "duration": -19294,
    "start_time": "2021-12-24T20:41:08.152Z"
   },
   {
    "duration": -19297,
    "start_time": "2021-12-24T20:41:08.156Z"
   },
   {
    "duration": 9671,
    "start_time": "2021-12-24T20:41:38.193Z"
   },
   {
    "duration": 16,
    "start_time": "2021-12-24T20:41:57.138Z"
   },
   {
    "duration": 11,
    "start_time": "2021-12-24T20:43:56.411Z"
   },
   {
    "duration": 6,
    "start_time": "2021-12-24T20:44:43.575Z"
   },
   {
    "duration": 6,
    "start_time": "2021-12-24T21:05:26.212Z"
   },
   {
    "duration": 6,
    "start_time": "2021-12-24T21:05:53.792Z"
   },
   {
    "duration": 5,
    "start_time": "2021-12-24T21:06:21.215Z"
   },
   {
    "duration": 7,
    "start_time": "2021-12-24T21:07:02.856Z"
   },
   {
    "duration": 11,
    "start_time": "2021-12-24T21:07:10.790Z"
   },
   {
    "duration": 8,
    "start_time": "2021-12-24T21:07:14.718Z"
   },
   {
    "duration": 8,
    "start_time": "2021-12-24T21:08:33.033Z"
   },
   {
    "duration": 98,
    "start_time": "2021-12-24T21:19:05.414Z"
   },
   {
    "duration": 9372,
    "start_time": "2021-12-24T21:19:24.316Z"
   },
   {
    "duration": 14,
    "start_time": "2021-12-24T21:19:52.261Z"
   },
   {
    "duration": 19,
    "start_time": "2021-12-24T21:20:57.406Z"
   },
   {
    "duration": 16,
    "start_time": "2021-12-24T21:21:08.476Z"
   },
   {
    "duration": 258,
    "start_time": "2021-12-25T10:09:07.785Z"
   },
   {
    "duration": 774,
    "start_time": "2021-12-25T10:09:17.273Z"
   },
   {
    "duration": 88,
    "start_time": "2021-12-25T10:09:18.049Z"
   },
   {
    "duration": 38,
    "start_time": "2021-12-25T10:09:18.139Z"
   },
   {
    "duration": 12,
    "start_time": "2021-12-25T10:09:18.179Z"
   },
   {
    "duration": 39,
    "start_time": "2021-12-25T10:09:18.193Z"
   },
   {
    "duration": 104,
    "start_time": "2021-12-25T10:09:18.233Z"
   },
   {
    "duration": 27,
    "start_time": "2021-12-25T10:09:18.339Z"
   },
   {
    "duration": 19,
    "start_time": "2021-12-25T10:09:18.370Z"
   },
   {
    "duration": 21,
    "start_time": "2021-12-25T10:09:18.392Z"
   },
   {
    "duration": 10,
    "start_time": "2021-12-25T10:09:18.415Z"
   },
   {
    "duration": 35,
    "start_time": "2021-12-25T10:09:18.427Z"
   },
   {
    "duration": 5,
    "start_time": "2021-12-25T10:09:18.465Z"
   },
   {
    "duration": 14,
    "start_time": "2021-12-25T10:09:18.472Z"
   },
   {
    "duration": 28,
    "start_time": "2021-12-25T10:09:18.488Z"
   },
   {
    "duration": 11,
    "start_time": "2021-12-25T10:09:18.518Z"
   },
   {
    "duration": 8,
    "start_time": "2021-12-25T10:09:18.531Z"
   },
   {
    "duration": 1068,
    "start_time": "2021-12-25T10:09:18.561Z"
   },
   {
    "duration": 19,
    "start_time": "2021-12-25T10:12:13.223Z"
   },
   {
    "duration": 226,
    "start_time": "2021-12-25T10:23:05.034Z"
   },
   {
    "duration": 704,
    "start_time": "2021-12-25T10:23:29.958Z"
   },
   {
    "duration": 68,
    "start_time": "2021-12-25T10:23:30.664Z"
   },
   {
    "duration": 43,
    "start_time": "2021-12-25T10:23:30.735Z"
   },
   {
    "duration": 20,
    "start_time": "2021-12-25T10:23:30.780Z"
   },
   {
    "duration": 33,
    "start_time": "2021-12-25T10:23:30.802Z"
   },
   {
    "duration": 78,
    "start_time": "2021-12-25T10:23:30.837Z"
   },
   {
    "duration": 44,
    "start_time": "2021-12-25T10:23:30.917Z"
   },
   {
    "duration": 14,
    "start_time": "2021-12-25T10:23:30.964Z"
   },
   {
    "duration": 12,
    "start_time": "2021-12-25T10:23:30.980Z"
   },
   {
    "duration": 22,
    "start_time": "2021-12-25T10:23:30.994Z"
   },
   {
    "duration": 183,
    "start_time": "2021-12-25T10:23:31.018Z"
   },
   {
    "duration": 4,
    "start_time": "2021-12-25T10:23:31.202Z"
   },
   {
    "duration": 7,
    "start_time": "2021-12-25T10:23:31.208Z"
   },
   {
    "duration": 5,
    "start_time": "2021-12-25T10:23:31.216Z"
   },
   {
    "duration": 7,
    "start_time": "2021-12-25T10:23:31.223Z"
   },
   {
    "duration": 33,
    "start_time": "2021-12-25T10:23:31.231Z"
   },
   {
    "duration": 1025,
    "start_time": "2021-12-25T10:23:31.266Z"
   },
   {
    "duration": 157,
    "start_time": "2021-12-25T10:26:02.992Z"
   },
   {
    "duration": 918,
    "start_time": "2021-12-25T10:26:53.221Z"
   },
   {
    "duration": 122,
    "start_time": "2021-12-25T10:26:54.143Z"
   },
   {
    "duration": 25,
    "start_time": "2021-12-25T10:26:54.268Z"
   },
   {
    "duration": 10,
    "start_time": "2021-12-25T10:26:54.295Z"
   },
   {
    "duration": 76,
    "start_time": "2021-12-25T10:26:54.307Z"
   },
   {
    "duration": 107,
    "start_time": "2021-12-25T10:26:54.385Z"
   },
   {
    "duration": 13,
    "start_time": "2021-12-25T10:26:54.495Z"
   },
   {
    "duration": 16,
    "start_time": "2021-12-25T10:26:54.511Z"
   },
   {
    "duration": 41,
    "start_time": "2021-12-25T10:26:54.529Z"
   },
   {
    "duration": 17,
    "start_time": "2021-12-25T10:26:54.572Z"
   },
   {
    "duration": 324,
    "start_time": "2021-12-25T10:26:54.592Z"
   },
   {
    "duration": 5,
    "start_time": "2021-12-25T10:26:54.918Z"
   },
   {
    "duration": 5,
    "start_time": "2021-12-25T10:26:54.925Z"
   },
   {
    "duration": 5,
    "start_time": "2021-12-25T10:26:54.932Z"
   },
   {
    "duration": 5,
    "start_time": "2021-12-25T10:26:54.986Z"
   },
   {
    "duration": 11,
    "start_time": "2021-12-25T10:26:54.994Z"
   },
   {
    "duration": 1365,
    "start_time": "2021-12-25T10:26:55.007Z"
   },
   {
    "duration": 185,
    "start_time": "2021-12-25T10:29:53.483Z"
   },
   {
    "duration": 758,
    "start_time": "2021-12-25T10:30:12.277Z"
   },
   {
    "duration": 87,
    "start_time": "2021-12-25T10:30:13.036Z"
   },
   {
    "duration": 48,
    "start_time": "2021-12-25T10:30:13.127Z"
   },
   {
    "duration": 14,
    "start_time": "2021-12-25T10:30:13.177Z"
   },
   {
    "duration": 30,
    "start_time": "2021-12-25T10:30:13.192Z"
   },
   {
    "duration": 95,
    "start_time": "2021-12-25T10:30:13.224Z"
   },
   {
    "duration": 8,
    "start_time": "2021-12-25T10:30:13.321Z"
   },
   {
    "duration": 50,
    "start_time": "2021-12-25T10:30:13.331Z"
   },
   {
    "duration": 11,
    "start_time": "2021-12-25T10:30:13.383Z"
   },
   {
    "duration": 13,
    "start_time": "2021-12-25T10:30:13.396Z"
   },
   {
    "duration": 254,
    "start_time": "2021-12-25T10:30:13.411Z"
   },
   {
    "duration": 7,
    "start_time": "2021-12-25T10:30:13.668Z"
   },
   {
    "duration": 16,
    "start_time": "2021-12-25T10:30:13.678Z"
   },
   {
    "duration": 10,
    "start_time": "2021-12-25T10:30:13.696Z"
   },
   {
    "duration": 5,
    "start_time": "2021-12-25T10:30:13.708Z"
   },
   {
    "duration": 8,
    "start_time": "2021-12-25T10:30:13.714Z"
   },
   {
    "duration": 1073,
    "start_time": "2021-12-25T10:30:13.724Z"
   },
   {
    "duration": 740,
    "start_time": "2021-12-25T10:32:34.567Z"
   },
   {
    "duration": 81,
    "start_time": "2021-12-25T10:32:35.309Z"
   },
   {
    "duration": 24,
    "start_time": "2021-12-25T10:32:35.392Z"
   },
   {
    "duration": 10,
    "start_time": "2021-12-25T10:32:35.418Z"
   },
   {
    "duration": 63,
    "start_time": "2021-12-25T10:32:35.429Z"
   },
   {
    "duration": 86,
    "start_time": "2021-12-25T10:32:35.494Z"
   },
   {
    "duration": 8,
    "start_time": "2021-12-25T10:32:35.582Z"
   },
   {
    "duration": 10,
    "start_time": "2021-12-25T10:32:35.592Z"
   },
   {
    "duration": 7,
    "start_time": "2021-12-25T10:32:35.605Z"
   },
   {
    "duration": 47,
    "start_time": "2021-12-25T10:32:35.614Z"
   },
   {
    "duration": 221,
    "start_time": "2021-12-25T10:32:35.664Z"
   },
   {
    "duration": 5,
    "start_time": "2021-12-25T10:32:35.888Z"
   },
   {
    "duration": 7,
    "start_time": "2021-12-25T10:32:35.894Z"
   },
   {
    "duration": 5,
    "start_time": "2021-12-25T10:32:35.903Z"
   },
   {
    "duration": 5,
    "start_time": "2021-12-25T10:32:35.910Z"
   },
   {
    "duration": 46,
    "start_time": "2021-12-25T10:32:35.917Z"
   },
   {
    "duration": 1048,
    "start_time": "2021-12-25T10:32:35.965Z"
   },
   {
    "duration": 185,
    "start_time": "2021-12-25T10:33:08.823Z"
   },
   {
    "duration": 715,
    "start_time": "2021-12-25T10:34:31.617Z"
   },
   {
    "duration": 81,
    "start_time": "2021-12-25T10:34:32.335Z"
   },
   {
    "duration": 23,
    "start_time": "2021-12-25T10:34:32.418Z"
   },
   {
    "duration": 27,
    "start_time": "2021-12-25T10:34:32.444Z"
   },
   {
    "duration": 53,
    "start_time": "2021-12-25T10:34:32.474Z"
   },
   {
    "duration": 93,
    "start_time": "2021-12-25T10:34:32.529Z"
   },
   {
    "duration": 10,
    "start_time": "2021-12-25T10:34:32.624Z"
   },
   {
    "duration": 41,
    "start_time": "2021-12-25T10:34:32.637Z"
   },
   {
    "duration": 16,
    "start_time": "2021-12-25T10:34:32.680Z"
   },
   {
    "duration": 13,
    "start_time": "2021-12-25T10:34:32.698Z"
   },
   {
    "duration": 220,
    "start_time": "2021-12-25T10:34:32.712Z"
   },
   {
    "duration": 4,
    "start_time": "2021-12-25T10:34:32.934Z"
   },
   {
    "duration": 22,
    "start_time": "2021-12-25T10:34:32.940Z"
   },
   {
    "duration": 22,
    "start_time": "2021-12-25T10:34:32.965Z"
   },
   {
    "duration": 8,
    "start_time": "2021-12-25T10:34:32.989Z"
   },
   {
    "duration": 11,
    "start_time": "2021-12-25T10:34:32.999Z"
   },
   {
    "duration": 1049,
    "start_time": "2021-12-25T10:34:33.012Z"
   },
   {
    "duration": 753,
    "start_time": "2021-12-25T10:35:34.456Z"
   },
   {
    "duration": 82,
    "start_time": "2021-12-25T10:35:35.211Z"
   },
   {
    "duration": 24,
    "start_time": "2021-12-25T10:35:35.295Z"
   },
   {
    "duration": 15,
    "start_time": "2021-12-25T10:35:35.321Z"
   },
   {
    "duration": 64,
    "start_time": "2021-12-25T10:35:35.338Z"
   },
   {
    "duration": 95,
    "start_time": "2021-12-25T10:35:35.404Z"
   },
   {
    "duration": 8,
    "start_time": "2021-12-25T10:35:35.500Z"
   },
   {
    "duration": 14,
    "start_time": "2021-12-25T10:35:35.510Z"
   },
   {
    "duration": 40,
    "start_time": "2021-12-25T10:35:35.525Z"
   },
   {
    "duration": 25,
    "start_time": "2021-12-25T10:35:35.568Z"
   },
   {
    "duration": 203,
    "start_time": "2021-12-25T10:35:35.595Z"
   },
   {
    "duration": 4,
    "start_time": "2021-12-25T10:35:35.800Z"
   },
   {
    "duration": 8,
    "start_time": "2021-12-25T10:35:35.805Z"
   },
   {
    "duration": 7,
    "start_time": "2021-12-25T10:35:35.814Z"
   },
   {
    "duration": 5,
    "start_time": "2021-12-25T10:35:35.822Z"
   },
   {
    "duration": 11,
    "start_time": "2021-12-25T10:35:35.860Z"
   },
   {
    "duration": 1185,
    "start_time": "2021-12-25T10:35:35.873Z"
   },
   {
    "duration": 187,
    "start_time": "2021-12-25T10:36:24.112Z"
   },
   {
    "duration": 785,
    "start_time": "2021-12-25T10:36:32.486Z"
   },
   {
    "duration": 121,
    "start_time": "2021-12-25T10:36:33.276Z"
   },
   {
    "duration": 24,
    "start_time": "2021-12-25T10:36:33.399Z"
   },
   {
    "duration": 19,
    "start_time": "2021-12-25T10:36:33.425Z"
   },
   {
    "duration": 54,
    "start_time": "2021-12-25T10:36:33.446Z"
   },
   {
    "duration": 117,
    "start_time": "2021-12-25T10:36:33.502Z"
   },
   {
    "duration": 10,
    "start_time": "2021-12-25T10:36:33.621Z"
   },
   {
    "duration": 40,
    "start_time": "2021-12-25T10:36:33.634Z"
   },
   {
    "duration": 13,
    "start_time": "2021-12-25T10:36:33.677Z"
   },
   {
    "duration": 25,
    "start_time": "2021-12-25T10:36:33.692Z"
   },
   {
    "duration": 225,
    "start_time": "2021-12-25T10:36:33.720Z"
   },
   {
    "duration": 19,
    "start_time": "2021-12-25T10:36:33.948Z"
   },
   {
    "duration": 16,
    "start_time": "2021-12-25T10:36:33.970Z"
   },
   {
    "duration": 5,
    "start_time": "2021-12-25T10:36:33.988Z"
   },
   {
    "duration": 6,
    "start_time": "2021-12-25T10:36:33.994Z"
   },
   {
    "duration": 8,
    "start_time": "2021-12-25T10:36:34.002Z"
   },
   {
    "duration": 1127,
    "start_time": "2021-12-25T10:36:34.012Z"
   },
   {
    "duration": 754,
    "start_time": "2021-12-25T10:37:23.554Z"
   },
   {
    "duration": 84,
    "start_time": "2021-12-25T10:37:24.310Z"
   },
   {
    "duration": 26,
    "start_time": "2021-12-25T10:37:24.396Z"
   },
   {
    "duration": 38,
    "start_time": "2021-12-25T10:37:24.425Z"
   },
   {
    "duration": 42,
    "start_time": "2021-12-25T10:37:24.467Z"
   },
   {
    "duration": 95,
    "start_time": "2021-12-25T10:37:24.510Z"
   },
   {
    "duration": 11,
    "start_time": "2021-12-25T10:37:24.607Z"
   },
   {
    "duration": 41,
    "start_time": "2021-12-25T10:37:24.621Z"
   },
   {
    "duration": 12,
    "start_time": "2021-12-25T10:37:24.664Z"
   },
   {
    "duration": 12,
    "start_time": "2021-12-25T10:37:24.679Z"
   },
   {
    "duration": 199,
    "start_time": "2021-12-25T10:37:24.693Z"
   },
   {
    "duration": 4,
    "start_time": "2021-12-25T10:37:24.894Z"
   },
   {
    "duration": 7,
    "start_time": "2021-12-25T10:37:24.900Z"
   },
   {
    "duration": 5,
    "start_time": "2021-12-25T10:37:24.909Z"
   },
   {
    "duration": 8,
    "start_time": "2021-12-25T10:37:24.916Z"
   },
   {
    "duration": 41,
    "start_time": "2021-12-25T10:37:24.925Z"
   },
   {
    "duration": 1058,
    "start_time": "2021-12-25T10:37:24.969Z"
   },
   {
    "duration": 5635,
    "start_time": "2021-12-25T10:39:51.851Z"
   },
   {
    "duration": 5726,
    "start_time": "2021-12-25T10:40:32.576Z"
   },
   {
    "duration": 9121,
    "start_time": "2021-12-25T10:40:58.433Z"
   },
   {
    "duration": 5203,
    "start_time": "2021-12-25T10:43:23.291Z"
   },
   {
    "duration": 5,
    "start_time": "2021-12-25T10:43:36.172Z"
   },
   {
    "duration": 6,
    "start_time": "2021-12-25T10:43:47.807Z"
   },
   {
    "duration": 718,
    "start_time": "2021-12-25T10:43:59.576Z"
   },
   {
    "duration": 90,
    "start_time": "2021-12-25T10:44:00.296Z"
   },
   {
    "duration": 25,
    "start_time": "2021-12-25T10:44:00.391Z"
   },
   {
    "duration": 11,
    "start_time": "2021-12-25T10:44:00.417Z"
   },
   {
    "duration": 69,
    "start_time": "2021-12-25T10:44:00.430Z"
   },
   {
    "duration": 91,
    "start_time": "2021-12-25T10:44:00.501Z"
   },
   {
    "duration": 8,
    "start_time": "2021-12-25T10:44:00.595Z"
   },
   {
    "duration": 26,
    "start_time": "2021-12-25T10:44:00.605Z"
   },
   {
    "duration": 11,
    "start_time": "2021-12-25T10:44:00.632Z"
   },
   {
    "duration": 30,
    "start_time": "2021-12-25T10:44:00.644Z"
   },
   {
    "duration": 178,
    "start_time": "2021-12-25T10:44:00.676Z"
   },
   {
    "duration": 7,
    "start_time": "2021-12-25T10:44:00.860Z"
   },
   {
    "duration": -20362,
    "start_time": "2021-12-25T10:44:21.234Z"
   },
   {
    "duration": -20369,
    "start_time": "2021-12-25T10:44:21.244Z"
   },
   {
    "duration": -20372,
    "start_time": "2021-12-25T10:44:21.249Z"
   },
   {
    "duration": -20378,
    "start_time": "2021-12-25T10:44:21.257Z"
   },
   {
    "duration": -20384,
    "start_time": "2021-12-25T10:44:21.264Z"
   },
   {
    "duration": 5910,
    "start_time": "2021-12-25T10:47:14.811Z"
   },
   {
    "duration": 5428,
    "start_time": "2021-12-25T10:47:20.846Z"
   },
   {
    "duration": 6066,
    "start_time": "2021-12-25T10:48:53.034Z"
   },
   {
    "duration": 7264,
    "start_time": "2021-12-25T10:49:43.558Z"
   },
   {
    "duration": 78,
    "start_time": "2021-12-25T10:50:13.107Z"
   },
   {
    "duration": 1701,
    "start_time": "2021-12-25T10:50:24.774Z"
   },
   {
    "duration": 709,
    "start_time": "2021-12-25T10:51:04.616Z"
   },
   {
    "duration": 93,
    "start_time": "2021-12-25T10:51:05.327Z"
   },
   {
    "duration": 24,
    "start_time": "2021-12-25T10:51:05.422Z"
   },
   {
    "duration": 25,
    "start_time": "2021-12-25T10:51:05.448Z"
   },
   {
    "duration": 42,
    "start_time": "2021-12-25T10:51:05.476Z"
   },
   {
    "duration": 97,
    "start_time": "2021-12-25T10:51:05.521Z"
   },
   {
    "duration": 8,
    "start_time": "2021-12-25T10:51:05.620Z"
   },
   {
    "duration": 31,
    "start_time": "2021-12-25T10:51:05.630Z"
   },
   {
    "duration": 12,
    "start_time": "2021-12-25T10:51:05.664Z"
   },
   {
    "duration": 15,
    "start_time": "2021-12-25T10:51:05.679Z"
   },
   {
    "duration": 204,
    "start_time": "2021-12-25T10:51:05.696Z"
   },
   {
    "duration": 1794,
    "start_time": "2021-12-25T10:51:05.902Z"
   },
   {
    "duration": 4,
    "start_time": "2021-12-25T10:51:07.697Z"
   },
   {
    "duration": 8,
    "start_time": "2021-12-25T10:51:07.703Z"
   },
   {
    "duration": 19,
    "start_time": "2021-12-25T10:51:07.712Z"
   },
   {
    "duration": 31,
    "start_time": "2021-12-25T10:51:07.733Z"
   },
   {
    "duration": 1270,
    "start_time": "2021-12-25T10:51:07.766Z"
   },
   {
    "duration": 1804,
    "start_time": "2021-12-25T10:51:35.470Z"
   },
   {
    "duration": 1673,
    "start_time": "2021-12-25T10:52:43.767Z"
   },
   {
    "duration": 1704,
    "start_time": "2021-12-25T10:53:30.331Z"
   },
   {
    "duration": 1397,
    "start_time": "2021-12-25T10:54:54.441Z"
   },
   {
    "duration": 1489,
    "start_time": "2021-12-25T10:56:17.446Z"
   },
   {
    "duration": 1383,
    "start_time": "2021-12-25T10:58:08.100Z"
   },
   {
    "duration": 1362,
    "start_time": "2021-12-25T10:58:35.675Z"
   },
   {
    "duration": 13,
    "start_time": "2021-12-25T10:59:37.953Z"
   },
   {
    "duration": 47,
    "start_time": "2021-12-25T10:59:54.043Z"
   },
   {
    "duration": 1444,
    "start_time": "2021-12-25T11:04:04.906Z"
   },
   {
    "duration": 49,
    "start_time": "2021-12-25T11:04:16.360Z"
   },
   {
    "duration": 51,
    "start_time": "2021-12-25T11:08:49.987Z"
   },
   {
    "duration": 51,
    "start_time": "2021-12-25T11:09:57.390Z"
   },
   {
    "duration": 54,
    "start_time": "2021-12-25T11:10:20.130Z"
   },
   {
    "duration": 47,
    "start_time": "2021-12-25T11:10:36.998Z"
   },
   {
    "duration": 14,
    "start_time": "2021-12-25T11:14:41.907Z"
   },
   {
    "duration": 10,
    "start_time": "2021-12-25T11:15:14.671Z"
   },
   {
    "duration": 739,
    "start_time": "2021-12-25T11:16:29.474Z"
   },
   {
    "duration": 82,
    "start_time": "2021-12-25T11:16:30.215Z"
   },
   {
    "duration": 26,
    "start_time": "2021-12-25T11:16:30.299Z"
   },
   {
    "duration": 13,
    "start_time": "2021-12-25T11:16:30.327Z"
   },
   {
    "duration": 48,
    "start_time": "2021-12-25T11:16:30.364Z"
   },
   {
    "duration": 86,
    "start_time": "2021-12-25T11:16:30.414Z"
   },
   {
    "duration": 9,
    "start_time": "2021-12-25T11:16:30.502Z"
   },
   {
    "duration": 19,
    "start_time": "2021-12-25T11:16:30.513Z"
   },
   {
    "duration": 36,
    "start_time": "2021-12-25T11:16:30.534Z"
   },
   {
    "duration": 16,
    "start_time": "2021-12-25T11:16:30.573Z"
   },
   {
    "duration": 185,
    "start_time": "2021-12-25T11:16:30.591Z"
   },
   {
    "duration": 1903,
    "start_time": "2021-12-25T11:16:30.778Z"
   },
   {
    "duration": 1802,
    "start_time": "2021-12-25T11:16:32.682Z"
   },
   {
    "duration": 1491,
    "start_time": "2021-12-25T11:16:34.486Z"
   },
   {
    "duration": 1541,
    "start_time": "2021-12-25T11:16:35.979Z"
   },
   {
    "duration": 1563,
    "start_time": "2021-12-25T11:16:37.522Z"
   },
   {
    "duration": 1610,
    "start_time": "2021-12-25T11:16:39.087Z"
   },
   {
    "duration": 67,
    "start_time": "2021-12-25T11:16:40.699Z"
   },
   {
    "duration": 1169,
    "start_time": "2021-12-25T11:16:40.771Z"
   },
   {
    "duration": 2983,
    "start_time": "2021-12-25T11:43:10.837Z"
   },
   {
    "duration": 3,
    "start_time": "2021-12-25T11:48:01.528Z"
   },
   {
    "duration": 609,
    "start_time": "2021-12-25T11:48:29.074Z"
   },
   {
    "duration": 676,
    "start_time": "2021-12-25T11:48:49.797Z"
   },
   {
    "duration": 3258,
    "start_time": "2021-12-25T12:03:41.876Z"
   },
   {
    "duration": 2987,
    "start_time": "2021-12-25T12:03:55.281Z"
   },
   {
    "duration": 711,
    "start_time": "2021-12-25T12:04:49.022Z"
   },
   {
    "duration": 96,
    "start_time": "2021-12-25T12:04:49.735Z"
   },
   {
    "duration": 41,
    "start_time": "2021-12-25T12:04:49.833Z"
   },
   {
    "duration": 17,
    "start_time": "2021-12-25T12:04:49.876Z"
   },
   {
    "duration": 36,
    "start_time": "2021-12-25T12:04:49.895Z"
   },
   {
    "duration": 70,
    "start_time": "2021-12-25T12:04:49.961Z"
   },
   {
    "duration": 36,
    "start_time": "2021-12-25T12:04:50.033Z"
   },
   {
    "duration": 14,
    "start_time": "2021-12-25T12:04:50.074Z"
   },
   {
    "duration": 10,
    "start_time": "2021-12-25T12:04:50.090Z"
   },
   {
    "duration": 12,
    "start_time": "2021-12-25T12:04:50.101Z"
   },
   {
    "duration": 204,
    "start_time": "2021-12-25T12:04:50.114Z"
   },
   {
    "duration": 1767,
    "start_time": "2021-12-25T12:04:50.320Z"
   },
   {
    "duration": 1754,
    "start_time": "2021-12-25T12:04:52.089Z"
   },
   {
    "duration": 1477,
    "start_time": "2021-12-25T12:04:53.845Z"
   },
   {
    "duration": 1509,
    "start_time": "2021-12-25T12:04:55.324Z"
   },
   {
    "duration": 1549,
    "start_time": "2021-12-25T12:04:56.835Z"
   },
   {
    "duration": 1651,
    "start_time": "2021-12-25T12:04:58.386Z"
   },
   {
    "duration": 71,
    "start_time": "2021-12-25T12:05:00.039Z"
   },
   {
    "duration": 739,
    "start_time": "2021-12-25T12:21:38.492Z"
   },
   {
    "duration": 91,
    "start_time": "2021-12-25T12:21:39.233Z"
   },
   {
    "duration": 41,
    "start_time": "2021-12-25T12:21:39.327Z"
   },
   {
    "duration": 14,
    "start_time": "2021-12-25T12:21:39.372Z"
   },
   {
    "duration": 36,
    "start_time": "2021-12-25T12:21:39.389Z"
   },
   {
    "duration": 93,
    "start_time": "2021-12-25T12:21:39.427Z"
   },
   {
    "duration": 9,
    "start_time": "2021-12-25T12:21:39.522Z"
   },
   {
    "duration": 43,
    "start_time": "2021-12-25T12:21:39.534Z"
   },
   {
    "duration": 14,
    "start_time": "2021-12-25T12:21:39.579Z"
   },
   {
    "duration": 18,
    "start_time": "2021-12-25T12:21:39.595Z"
   },
   {
    "duration": 214,
    "start_time": "2021-12-25T12:21:39.616Z"
   },
   {
    "duration": 1702,
    "start_time": "2021-12-25T12:21:39.832Z"
   },
   {
    "duration": 1706,
    "start_time": "2021-12-25T12:21:41.536Z"
   },
   {
    "duration": 1497,
    "start_time": "2021-12-25T12:21:43.244Z"
   },
   {
    "duration": 1547,
    "start_time": "2021-12-25T12:21:44.742Z"
   },
   {
    "duration": 1638,
    "start_time": "2021-12-25T12:21:46.291Z"
   },
   {
    "duration": 1580,
    "start_time": "2021-12-25T12:21:47.931Z"
   },
   {
    "duration": 64,
    "start_time": "2021-12-25T12:21:49.512Z"
   },
   {
    "duration": 22,
    "start_time": "2021-12-25T12:21:49.579Z"
   },
   {
    "duration": 689,
    "start_time": "2021-12-25T12:23:59.893Z"
   },
   {
    "duration": 78,
    "start_time": "2021-12-25T12:24:00.584Z"
   },
   {
    "duration": 29,
    "start_time": "2021-12-25T12:24:00.665Z"
   },
   {
    "duration": 13,
    "start_time": "2021-12-25T12:24:00.696Z"
   },
   {
    "duration": 72,
    "start_time": "2021-12-25T12:24:00.710Z"
   },
   {
    "duration": 78,
    "start_time": "2021-12-25T12:24:00.783Z"
   },
   {
    "duration": 17,
    "start_time": "2021-12-25T12:24:00.863Z"
   },
   {
    "duration": 22,
    "start_time": "2021-12-25T12:24:00.883Z"
   },
   {
    "duration": 11,
    "start_time": "2021-12-25T12:24:00.907Z"
   },
   {
    "duration": 19,
    "start_time": "2021-12-25T12:24:00.919Z"
   },
   {
    "duration": 189,
    "start_time": "2021-12-25T12:24:00.962Z"
   },
   {
    "duration": 1946,
    "start_time": "2021-12-25T12:24:01.153Z"
   },
   {
    "duration": 1838,
    "start_time": "2021-12-25T12:24:03.101Z"
   },
   {
    "duration": 1505,
    "start_time": "2021-12-25T12:24:04.942Z"
   },
   {
    "duration": 1511,
    "start_time": "2021-12-25T12:24:06.449Z"
   },
   {
    "duration": 1528,
    "start_time": "2021-12-25T12:24:07.963Z"
   },
   {
    "duration": 1527,
    "start_time": "2021-12-25T12:24:09.493Z"
   },
   {
    "duration": 76,
    "start_time": "2021-12-25T12:24:11.023Z"
   },
   {
    "duration": 24,
    "start_time": "2021-12-25T12:24:11.101Z"
   },
   {
    "duration": 723,
    "start_time": "2021-12-25T12:24:53.422Z"
   },
   {
    "duration": 80,
    "start_time": "2021-12-25T12:24:54.150Z"
   },
   {
    "duration": 44,
    "start_time": "2021-12-25T12:24:54.232Z"
   },
   {
    "duration": 15,
    "start_time": "2021-12-25T12:24:54.280Z"
   },
   {
    "duration": 34,
    "start_time": "2021-12-25T12:24:54.297Z"
   },
   {
    "duration": 89,
    "start_time": "2021-12-25T12:24:54.333Z"
   },
   {
    "duration": 40,
    "start_time": "2021-12-25T12:24:54.425Z"
   },
   {
    "duration": 13,
    "start_time": "2021-12-25T12:24:54.469Z"
   },
   {
    "duration": 10,
    "start_time": "2021-12-25T12:24:54.484Z"
   },
   {
    "duration": 13,
    "start_time": "2021-12-25T12:24:54.496Z"
   },
   {
    "duration": 221,
    "start_time": "2021-12-25T12:24:54.511Z"
   },
   {
    "duration": 1692,
    "start_time": "2021-12-25T12:24:54.734Z"
   },
   {
    "duration": 1773,
    "start_time": "2021-12-25T12:24:56.428Z"
   },
   {
    "duration": 1527,
    "start_time": "2021-12-25T12:24:58.203Z"
   },
   {
    "duration": 1669,
    "start_time": "2021-12-25T12:24:59.732Z"
   },
   {
    "duration": 1681,
    "start_time": "2021-12-25T12:25:01.403Z"
   },
   {
    "duration": 1630,
    "start_time": "2021-12-25T12:25:03.086Z"
   },
   {
    "duration": 64,
    "start_time": "2021-12-25T12:25:04.718Z"
   },
   {
    "duration": 39,
    "start_time": "2021-12-25T12:25:04.784Z"
   },
   {
    "duration": 712,
    "start_time": "2021-12-25T12:25:58.612Z"
   },
   {
    "duration": 89,
    "start_time": "2021-12-25T12:25:59.326Z"
   },
   {
    "duration": 24,
    "start_time": "2021-12-25T12:25:59.417Z"
   },
   {
    "duration": 36,
    "start_time": "2021-12-25T12:25:59.443Z"
   },
   {
    "duration": 34,
    "start_time": "2021-12-25T12:25:59.481Z"
   },
   {
    "duration": 100,
    "start_time": "2021-12-25T12:25:59.517Z"
   },
   {
    "duration": 8,
    "start_time": "2021-12-25T12:25:59.619Z"
   },
   {
    "duration": 33,
    "start_time": "2021-12-25T12:25:59.630Z"
   },
   {
    "duration": 18,
    "start_time": "2021-12-25T12:25:59.666Z"
   },
   {
    "duration": 14,
    "start_time": "2021-12-25T12:25:59.686Z"
   },
   {
    "duration": 212,
    "start_time": "2021-12-25T12:25:59.703Z"
   },
   {
    "duration": 1832,
    "start_time": "2021-12-25T12:25:59.917Z"
   },
   {
    "duration": 1832,
    "start_time": "2021-12-25T12:26:01.751Z"
   },
   {
    "duration": 1480,
    "start_time": "2021-12-25T12:26:03.584Z"
   },
   {
    "duration": 1466,
    "start_time": "2021-12-25T12:26:05.066Z"
   },
   {
    "duration": 1472,
    "start_time": "2021-12-25T12:26:06.534Z"
   },
   {
    "duration": 1457,
    "start_time": "2021-12-25T12:26:08.008Z"
   },
   {
    "duration": 45,
    "start_time": "2021-12-25T12:26:09.468Z"
   },
   {
    "duration": 60,
    "start_time": "2021-12-25T12:26:09.515Z"
   },
   {
    "duration": 653,
    "start_time": "2021-12-25T12:26:09.578Z"
   },
   {
    "duration": 698,
    "start_time": "2021-12-25T12:52:11.092Z"
   },
   {
    "duration": 83,
    "start_time": "2021-12-25T12:52:11.793Z"
   },
   {
    "duration": 37,
    "start_time": "2021-12-25T12:52:11.878Z"
   },
   {
    "duration": 30,
    "start_time": "2021-12-25T12:52:11.917Z"
   },
   {
    "duration": 40,
    "start_time": "2021-12-25T12:52:11.960Z"
   },
   {
    "duration": 82,
    "start_time": "2021-12-25T12:52:12.001Z"
   },
   {
    "duration": 8,
    "start_time": "2021-12-25T12:52:12.085Z"
   },
   {
    "duration": 27,
    "start_time": "2021-12-25T12:52:12.096Z"
   },
   {
    "duration": 27,
    "start_time": "2021-12-25T12:52:12.125Z"
   },
   {
    "duration": 17,
    "start_time": "2021-12-25T12:52:12.153Z"
   },
   {
    "duration": 163,
    "start_time": "2021-12-25T12:52:12.171Z"
   },
   {
    "duration": 1676,
    "start_time": "2021-12-25T12:52:12.335Z"
   },
   {
    "duration": 1751,
    "start_time": "2021-12-25T12:52:14.013Z"
   },
   {
    "duration": 1410,
    "start_time": "2021-12-25T12:52:15.766Z"
   },
   {
    "duration": 1419,
    "start_time": "2021-12-25T12:52:17.178Z"
   },
   {
    "duration": 1420,
    "start_time": "2021-12-25T12:52:18.599Z"
   },
   {
    "duration": 1460,
    "start_time": "2021-12-25T12:52:20.020Z"
   },
   {
    "duration": 43,
    "start_time": "2021-12-25T12:52:21.482Z"
   },
   {
    "duration": 53,
    "start_time": "2021-12-25T12:52:21.528Z"
   },
   {
    "duration": 706,
    "start_time": "2021-12-25T12:52:21.583Z"
   },
   {
    "duration": 31,
    "start_time": "2021-12-25T12:52:22.291Z"
   },
   {
    "duration": 31,
    "start_time": "2021-12-25T12:53:31.865Z"
   },
   {
    "duration": 26,
    "start_time": "2021-12-25T12:56:41.645Z"
   },
   {
    "duration": 25,
    "start_time": "2021-12-25T12:58:32.833Z"
   },
   {
    "duration": 76,
    "start_time": "2021-12-25T12:58:57.830Z"
   },
   {
    "duration": 25,
    "start_time": "2021-12-25T12:59:05.862Z"
   },
   {
    "duration": 587,
    "start_time": "2021-12-25T14:43:52.344Z"
   },
   {
    "duration": 1044,
    "start_time": "2021-12-25T14:44:29.363Z"
   },
   {
    "duration": 1365,
    "start_time": "2021-12-25T14:47:22.662Z"
   },
   {
    "duration": 1268,
    "start_time": "2021-12-25T14:49:48.581Z"
   },
   {
    "duration": 1420,
    "start_time": "2021-12-25T14:50:04.375Z"
   },
   {
    "duration": 215,
    "start_time": "2021-12-25T14:52:14.177Z"
   },
   {
    "duration": 293,
    "start_time": "2021-12-25T14:52:24.766Z"
   },
   {
    "duration": 712,
    "start_time": "2021-12-25T14:52:45.462Z"
   },
   {
    "duration": 335,
    "start_time": "2021-12-25T14:56:56.756Z"
   },
   {
    "duration": 517,
    "start_time": "2021-12-25T14:57:08.834Z"
   },
   {
    "duration": 243,
    "start_time": "2021-12-25T14:57:17.937Z"
   },
   {
    "duration": 809,
    "start_time": "2021-12-25T14:57:49.457Z"
   },
   {
    "duration": 1034,
    "start_time": "2021-12-25T14:57:58.783Z"
   },
   {
    "duration": 8,
    "start_time": "2021-12-25T15:13:32.789Z"
   },
   {
    "duration": 244,
    "start_time": "2021-12-25T15:14:47.880Z"
   },
   {
    "duration": 1306,
    "start_time": "2021-12-25T15:31:16.136Z"
   },
   {
    "duration": 270,
    "start_time": "2021-12-25T15:44:38.037Z"
   },
   {
    "duration": 142,
    "start_time": "2021-12-25T15:46:47.641Z"
   },
   {
    "duration": 202,
    "start_time": "2021-12-25T15:46:57.644Z"
   },
   {
    "duration": 141,
    "start_time": "2021-12-25T15:47:03.292Z"
   },
   {
    "duration": 188,
    "start_time": "2021-12-25T15:47:07.429Z"
   },
   {
    "duration": 144,
    "start_time": "2021-12-25T15:47:27.668Z"
   },
   {
    "duration": 356,
    "start_time": "2021-12-25T15:50:25.655Z"
   },
   {
    "duration": 192,
    "start_time": "2021-12-25T15:50:31.903Z"
   },
   {
    "duration": 241,
    "start_time": "2021-12-25T16:27:25.928Z"
   },
   {
    "duration": 434,
    "start_time": "2021-12-25T16:27:40.287Z"
   },
   {
    "duration": 1721,
    "start_time": "2021-12-25T17:13:08.825Z"
   },
   {
    "duration": 777,
    "start_time": "2021-12-25T17:13:50.948Z"
   },
   {
    "duration": 90,
    "start_time": "2021-12-25T17:13:51.727Z"
   },
   {
    "duration": 45,
    "start_time": "2021-12-25T17:13:51.819Z"
   },
   {
    "duration": 22,
    "start_time": "2021-12-25T17:13:51.866Z"
   },
   {
    "duration": 50,
    "start_time": "2021-12-25T17:13:51.890Z"
   },
   {
    "duration": 80,
    "start_time": "2021-12-25T17:13:51.942Z"
   },
   {
    "duration": 8,
    "start_time": "2021-12-25T17:13:52.024Z"
   },
   {
    "duration": 50,
    "start_time": "2021-12-25T17:13:52.034Z"
   },
   {
    "duration": 15,
    "start_time": "2021-12-25T17:13:52.086Z"
   },
   {
    "duration": 14,
    "start_time": "2021-12-25T17:13:52.103Z"
   },
   {
    "duration": 195,
    "start_time": "2021-12-25T17:13:52.118Z"
   },
   {
    "duration": 1795,
    "start_time": "2021-12-25T17:13:52.314Z"
   },
   {
    "duration": 1883,
    "start_time": "2021-12-25T17:13:54.110Z"
   },
   {
    "duration": 1606,
    "start_time": "2021-12-25T17:13:55.995Z"
   },
   {
    "duration": 1703,
    "start_time": "2021-12-25T17:13:57.603Z"
   },
   {
    "duration": 1708,
    "start_time": "2021-12-25T17:13:59.311Z"
   },
   {
    "duration": 1709,
    "start_time": "2021-12-25T17:14:01.021Z"
   },
   {
    "duration": 80,
    "start_time": "2021-12-25T17:14:02.732Z"
   },
   {
    "duration": 53,
    "start_time": "2021-12-25T17:14:02.814Z"
   },
   {
    "duration": 656,
    "start_time": "2021-12-25T17:14:02.874Z"
   },
   {
    "duration": 48,
    "start_time": "2021-12-25T17:14:03.532Z"
   },
   {
    "duration": 27,
    "start_time": "2021-12-25T17:14:03.584Z"
   },
   {
    "duration": 1561,
    "start_time": "2021-12-25T17:14:03.614Z"
   },
   {
    "duration": 156,
    "start_time": "2021-12-25T17:14:05.177Z"
   },
   {
    "duration": 448,
    "start_time": "2021-12-25T17:14:05.335Z"
   },
   {
    "duration": 66,
    "start_time": "2021-12-25T17:20:41.458Z"
   },
   {
    "duration": 72,
    "start_time": "2021-12-25T17:21:33.557Z"
   },
   {
    "duration": 734,
    "start_time": "2021-12-25T17:30:13.827Z"
   },
   {
    "duration": 99,
    "start_time": "2021-12-25T17:30:14.563Z"
   },
   {
    "duration": 42,
    "start_time": "2021-12-25T17:30:14.666Z"
   },
   {
    "duration": 18,
    "start_time": "2021-12-25T17:30:14.711Z"
   },
   {
    "duration": 69,
    "start_time": "2021-12-25T17:30:14.731Z"
   },
   {
    "duration": 97,
    "start_time": "2021-12-25T17:30:14.802Z"
   },
   {
    "duration": 8,
    "start_time": "2021-12-25T17:30:14.901Z"
   },
   {
    "duration": 22,
    "start_time": "2021-12-25T17:30:14.912Z"
   },
   {
    "duration": 28,
    "start_time": "2021-12-25T17:30:14.936Z"
   },
   {
    "duration": 17,
    "start_time": "2021-12-25T17:30:14.968Z"
   },
   {
    "duration": 227,
    "start_time": "2021-12-25T17:30:14.995Z"
   },
   {
    "duration": 1978,
    "start_time": "2021-12-25T17:30:15.224Z"
   },
   {
    "duration": 1928,
    "start_time": "2021-12-25T17:30:17.204Z"
   },
   {
    "duration": 1733,
    "start_time": "2021-12-25T17:30:19.134Z"
   },
   {
    "duration": 1557,
    "start_time": "2021-12-25T17:30:20.873Z"
   },
   {
    "duration": 1637,
    "start_time": "2021-12-25T17:30:22.432Z"
   },
   {
    "duration": 1552,
    "start_time": "2021-12-25T17:30:24.075Z"
   },
   {
    "duration": 73,
    "start_time": "2021-12-25T17:30:25.629Z"
   },
   {
    "duration": 31,
    "start_time": "2021-12-25T17:30:25.704Z"
   },
   {
    "duration": 740,
    "start_time": "2021-12-25T17:30:25.737Z"
   },
   {
    "duration": 27,
    "start_time": "2021-12-25T17:30:26.480Z"
   },
   {
    "duration": 25,
    "start_time": "2021-12-25T17:30:26.509Z"
   },
   {
    "duration": 1589,
    "start_time": "2021-12-25T17:30:26.537Z"
   },
   {
    "duration": 178,
    "start_time": "2021-12-25T17:30:28.129Z"
   },
   {
    "duration": 444,
    "start_time": "2021-12-25T17:30:28.309Z"
   },
   {
    "duration": 1491,
    "start_time": "2021-12-25T17:38:52.098Z"
   },
   {
    "duration": 1442,
    "start_time": "2021-12-25T17:39:06.678Z"
   },
   {
    "duration": 1410,
    "start_time": "2021-12-25T17:39:27.812Z"
   },
   {
    "duration": 736,
    "start_time": "2021-12-25T17:39:46.869Z"
   },
   {
    "duration": 84,
    "start_time": "2021-12-25T17:39:47.607Z"
   },
   {
    "duration": 25,
    "start_time": "2021-12-25T17:39:47.694Z"
   },
   {
    "duration": 42,
    "start_time": "2021-12-25T17:39:47.721Z"
   },
   {
    "duration": 38,
    "start_time": "2021-12-25T17:39:47.767Z"
   },
   {
    "duration": 78,
    "start_time": "2021-12-25T17:39:47.807Z"
   },
   {
    "duration": 8,
    "start_time": "2021-12-25T17:39:47.887Z"
   },
   {
    "duration": 10,
    "start_time": "2021-12-25T17:39:47.898Z"
   },
   {
    "duration": 9,
    "start_time": "2021-12-25T17:39:47.910Z"
   },
   {
    "duration": 48,
    "start_time": "2021-12-25T17:39:47.921Z"
   },
   {
    "duration": 185,
    "start_time": "2021-12-25T17:39:47.972Z"
   },
   {
    "duration": 1847,
    "start_time": "2021-12-25T17:39:48.159Z"
   },
   {
    "duration": 1860,
    "start_time": "2021-12-25T17:39:50.008Z"
   },
   {
    "duration": 1519,
    "start_time": "2021-12-25T17:39:51.870Z"
   },
   {
    "duration": 1542,
    "start_time": "2021-12-25T17:39:53.391Z"
   },
   {
    "duration": 1577,
    "start_time": "2021-12-25T17:39:54.935Z"
   },
   {
    "duration": 1636,
    "start_time": "2021-12-25T17:39:56.515Z"
   },
   {
    "duration": 66,
    "start_time": "2021-12-25T17:39:58.152Z"
   },
   {
    "duration": 63,
    "start_time": "2021-12-25T17:39:58.221Z"
   },
   {
    "duration": 662,
    "start_time": "2021-12-25T17:39:58.286Z"
   },
   {
    "duration": 33,
    "start_time": "2021-12-25T17:39:58.950Z"
   },
   {
    "duration": 26,
    "start_time": "2021-12-25T17:39:58.984Z"
   },
   {
    "duration": 1599,
    "start_time": "2021-12-25T17:39:59.013Z"
   },
   {
    "duration": 185,
    "start_time": "2021-12-25T17:40:00.614Z"
   },
   {
    "duration": 478,
    "start_time": "2021-12-25T17:40:00.801Z"
   },
   {
    "duration": 1512,
    "start_time": "2021-12-25T17:40:17.509Z"
   },
   {
    "duration": 1462,
    "start_time": "2021-12-25T17:40:56.835Z"
   },
   {
    "duration": 1418,
    "start_time": "2021-12-25T17:41:35.722Z"
   },
   {
    "duration": 70,
    "start_time": "2021-12-25T17:41:47.038Z"
   },
   {
    "duration": 378,
    "start_time": "2021-12-25T19:05:12.933Z"
   },
   {
    "duration": 6,
    "start_time": "2021-12-25T19:07:36.606Z"
   },
   {
    "duration": 6,
    "start_time": "2021-12-25T19:07:46.314Z"
   },
   {
    "duration": 652,
    "start_time": "2021-12-25T19:07:53.508Z"
   },
   {
    "duration": 66,
    "start_time": "2021-12-25T19:07:54.162Z"
   },
   {
    "duration": 41,
    "start_time": "2021-12-25T19:07:54.231Z"
   },
   {
    "duration": 18,
    "start_time": "2021-12-25T19:07:54.273Z"
   },
   {
    "duration": 33,
    "start_time": "2021-12-25T19:07:54.292Z"
   },
   {
    "duration": 81,
    "start_time": "2021-12-25T19:07:54.327Z"
   },
   {
    "duration": 8,
    "start_time": "2021-12-25T19:07:54.410Z"
   },
   {
    "duration": 44,
    "start_time": "2021-12-25T19:07:54.420Z"
   },
   {
    "duration": 9,
    "start_time": "2021-12-25T19:07:54.467Z"
   },
   {
    "duration": 13,
    "start_time": "2021-12-25T19:07:54.478Z"
   },
   {
    "duration": 180,
    "start_time": "2021-12-25T19:07:54.493Z"
   },
   {
    "duration": 1731,
    "start_time": "2021-12-25T19:07:54.674Z"
   },
   {
    "duration": 1834,
    "start_time": "2021-12-25T19:07:56.407Z"
   },
   {
    "duration": 1445,
    "start_time": "2021-12-25T19:07:58.243Z"
   },
   {
    "duration": 1499,
    "start_time": "2021-12-25T19:07:59.690Z"
   },
   {
    "duration": 1601,
    "start_time": "2021-12-25T19:08:01.191Z"
   },
   {
    "duration": 1509,
    "start_time": "2021-12-25T19:08:02.794Z"
   },
   {
    "duration": 60,
    "start_time": "2021-12-25T19:08:04.304Z"
   },
   {
    "duration": 29,
    "start_time": "2021-12-25T19:08:04.365Z"
   },
   {
    "duration": 642,
    "start_time": "2021-12-25T19:08:04.396Z"
   },
   {
    "duration": 32,
    "start_time": "2021-12-25T19:08:05.040Z"
   },
   {
    "duration": 26,
    "start_time": "2021-12-25T19:08:05.074Z"
   },
   {
    "duration": 1460,
    "start_time": "2021-12-25T19:08:05.103Z"
   },
   {
    "duration": 169,
    "start_time": "2021-12-25T19:08:06.564Z"
   },
   {
    "duration": 413,
    "start_time": "2021-12-25T19:08:06.736Z"
   },
   {
    "duration": 11,
    "start_time": "2021-12-25T19:08:07.151Z"
   },
   {
    "duration": 8,
    "start_time": "2021-12-25T19:08:23.194Z"
   },
   {
    "duration": 8,
    "start_time": "2021-12-25T19:08:51.143Z"
   },
   {
    "duration": 229,
    "start_time": "2021-12-25T19:15:29.254Z"
   },
   {
    "duration": 127,
    "start_time": "2021-12-25T19:15:43.170Z"
   },
   {
    "duration": 132,
    "start_time": "2021-12-25T19:16:11.121Z"
   },
   {
    "duration": 264,
    "start_time": "2021-12-25T19:22:03.389Z"
   },
   {
    "duration": 2789,
    "start_time": "2021-12-25T19:23:50.924Z"
   },
   {
    "duration": 3157,
    "start_time": "2021-12-25T19:23:54.024Z"
   },
   {
    "duration": 682,
    "start_time": "2021-12-25T19:23:59.221Z"
   },
   {
    "duration": 80,
    "start_time": "2021-12-25T19:23:59.906Z"
   },
   {
    "duration": 26,
    "start_time": "2021-12-25T19:23:59.988Z"
   },
   {
    "duration": 18,
    "start_time": "2021-12-25T19:24:00.016Z"
   },
   {
    "duration": 58,
    "start_time": "2021-12-25T19:24:00.036Z"
   },
   {
    "duration": 89,
    "start_time": "2021-12-25T19:24:00.096Z"
   },
   {
    "duration": 11,
    "start_time": "2021-12-25T19:24:00.187Z"
   },
   {
    "duration": 18,
    "start_time": "2021-12-25T19:24:00.202Z"
   },
   {
    "duration": 42,
    "start_time": "2021-12-25T19:24:00.223Z"
   },
   {
    "duration": 15,
    "start_time": "2021-12-25T19:24:00.267Z"
   },
   {
    "duration": 185,
    "start_time": "2021-12-25T19:24:00.284Z"
   },
   {
    "duration": 1734,
    "start_time": "2021-12-25T19:24:00.471Z"
   },
   {
    "duration": 1765,
    "start_time": "2021-12-25T19:24:02.207Z"
   },
   {
    "duration": 1403,
    "start_time": "2021-12-25T19:24:03.974Z"
   },
   {
    "duration": 1483,
    "start_time": "2021-12-25T19:24:05.379Z"
   },
   {
    "duration": 1452,
    "start_time": "2021-12-25T19:24:06.864Z"
   },
   {
    "duration": 1462,
    "start_time": "2021-12-25T19:24:08.318Z"
   },
   {
    "duration": 42,
    "start_time": "2021-12-25T19:24:09.782Z"
   },
   {
    "duration": 55,
    "start_time": "2021-12-25T19:24:09.826Z"
   },
   {
    "duration": 628,
    "start_time": "2021-12-25T19:24:09.882Z"
   },
   {
    "duration": 25,
    "start_time": "2021-12-25T19:24:10.512Z"
   },
   {
    "duration": 48,
    "start_time": "2021-12-25T19:24:10.539Z"
   },
   {
    "duration": 1534,
    "start_time": "2021-12-25T19:24:10.591Z"
   },
   {
    "duration": 162,
    "start_time": "2021-12-25T19:24:12.127Z"
   },
   {
    "duration": 143,
    "start_time": "2021-12-25T19:24:12.291Z"
   },
   {
    "duration": 489,
    "start_time": "2021-12-25T19:24:12.436Z"
   },
   {
    "duration": 284,
    "start_time": "2021-12-25T19:24:12.928Z"
   },
   {
    "duration": -19034,
    "start_time": "2021-12-25T19:24:32.249Z"
   },
   {
    "duration": 68,
    "start_time": "2021-12-25T19:27:10.604Z"
   },
   {
    "duration": 20,
    "start_time": "2021-12-25T19:27:17.210Z"
   },
   {
    "duration": 42,
    "start_time": "2021-12-25T19:27:34.080Z"
   },
   {
    "duration": 38,
    "start_time": "2021-12-25T19:28:48.001Z"
   },
   {
    "duration": 41,
    "start_time": "2021-12-25T19:28:59.363Z"
   },
   {
    "duration": 480,
    "start_time": "2021-12-26T13:12:37.073Z"
   },
   {
    "duration": 1304,
    "start_time": "2021-12-26T13:12:54.230Z"
   },
   {
    "duration": 185,
    "start_time": "2021-12-26T13:12:55.538Z"
   },
   {
    "duration": 39,
    "start_time": "2021-12-26T13:12:55.727Z"
   },
   {
    "duration": 57,
    "start_time": "2021-12-26T13:12:55.769Z"
   },
   {
    "duration": 43,
    "start_time": "2021-12-26T13:12:55.828Z"
   },
   {
    "duration": 121,
    "start_time": "2021-12-26T13:12:55.874Z"
   },
   {
    "duration": 36,
    "start_time": "2021-12-26T13:12:56.000Z"
   },
   {
    "duration": 38,
    "start_time": "2021-12-26T13:12:56.040Z"
   },
   {
    "duration": 40,
    "start_time": "2021-12-26T13:12:56.083Z"
   },
   {
    "duration": 557,
    "start_time": "2021-12-26T13:12:56.127Z"
   },
   {
    "duration": -19860,
    "start_time": "2021-12-26T13:13:16.549Z"
   },
   {
    "duration": -19897,
    "start_time": "2021-12-26T13:13:16.588Z"
   },
   {
    "duration": -19920,
    "start_time": "2021-12-26T13:13:16.613Z"
   },
   {
    "duration": -19958,
    "start_time": "2021-12-26T13:13:16.653Z"
   },
   {
    "duration": -19985,
    "start_time": "2021-12-26T13:13:16.682Z"
   },
   {
    "duration": -20011,
    "start_time": "2021-12-26T13:13:16.711Z"
   },
   {
    "duration": -20039,
    "start_time": "2021-12-26T13:13:16.741Z"
   },
   {
    "duration": -20074,
    "start_time": "2021-12-26T13:13:16.778Z"
   },
   {
    "duration": -20096,
    "start_time": "2021-12-26T13:13:16.802Z"
   },
   {
    "duration": -20146,
    "start_time": "2021-12-26T13:13:16.855Z"
   },
   {
    "duration": -20176,
    "start_time": "2021-12-26T13:13:16.887Z"
   },
   {
    "duration": -20209,
    "start_time": "2021-12-26T13:13:16.922Z"
   },
   {
    "duration": -20231,
    "start_time": "2021-12-26T13:13:16.945Z"
   },
   {
    "duration": -20271,
    "start_time": "2021-12-26T13:13:16.987Z"
   },
   {
    "duration": -20277,
    "start_time": "2021-12-26T13:13:16.994Z"
   },
   {
    "duration": -20279,
    "start_time": "2021-12-26T13:13:17.002Z"
   },
   {
    "duration": -20283,
    "start_time": "2021-12-26T13:13:17.008Z"
   },
   {
    "duration": -20290,
    "start_time": "2021-12-26T13:13:17.016Z"
   },
   {
    "duration": 7,
    "start_time": "2021-12-26T13:16:12.328Z"
   },
   {
    "duration": 949,
    "start_time": "2021-12-26T13:16:52.431Z"
   },
   {
    "duration": 126,
    "start_time": "2021-12-26T13:16:53.384Z"
   },
   {
    "duration": 42,
    "start_time": "2021-12-26T13:16:53.522Z"
   },
   {
    "duration": 58,
    "start_time": "2021-12-26T13:16:53.568Z"
   },
   {
    "duration": 44,
    "start_time": "2021-12-26T13:16:53.629Z"
   },
   {
    "duration": 111,
    "start_time": "2021-12-26T13:16:53.675Z"
   },
   {
    "duration": 35,
    "start_time": "2021-12-26T13:16:53.788Z"
   },
   {
    "duration": 19,
    "start_time": "2021-12-26T13:16:53.830Z"
   },
   {
    "duration": 17,
    "start_time": "2021-12-26T13:16:53.853Z"
   },
   {
    "duration": 54,
    "start_time": "2021-12-26T13:16:53.874Z"
   },
   {
    "duration": 265,
    "start_time": "2021-12-26T13:16:53.931Z"
   },
   {
    "duration": 2411,
    "start_time": "2021-12-26T13:16:54.199Z"
   },
   {
    "duration": 2527,
    "start_time": "2021-12-26T13:16:56.612Z"
   },
   {
    "duration": 2095,
    "start_time": "2021-12-26T13:16:59.142Z"
   },
   {
    "duration": 2214,
    "start_time": "2021-12-26T13:17:01.239Z"
   },
   {
    "duration": 2199,
    "start_time": "2021-12-26T13:17:03.456Z"
   },
   {
    "duration": 2389,
    "start_time": "2021-12-26T13:17:05.657Z"
   },
   {
    "duration": 92,
    "start_time": "2021-12-26T13:17:08.049Z"
   },
   {
    "duration": 48,
    "start_time": "2021-12-26T13:17:08.144Z"
   },
   {
    "duration": 1349,
    "start_time": "2021-12-26T13:17:08.195Z"
   },
   {
    "duration": 43,
    "start_time": "2021-12-26T13:17:09.548Z"
   },
   {
    "duration": 72,
    "start_time": "2021-12-26T13:17:09.594Z"
   },
   {
    "duration": 2383,
    "start_time": "2021-12-26T13:17:09.672Z"
   },
   {
    "duration": 252,
    "start_time": "2021-12-26T13:17:12.058Z"
   },
   {
    "duration": 249,
    "start_time": "2021-12-26T13:17:12.313Z"
   },
   {
    "duration": 863,
    "start_time": "2021-12-26T13:17:12.565Z"
   },
   {
    "duration": 118,
    "start_time": "2021-12-26T13:17:13.432Z"
   },
   {
    "duration": -19615,
    "start_time": "2021-12-26T13:17:33.167Z"
   },
   {
    "duration": 370,
    "start_time": "2021-12-26T13:33:05.909Z"
   },
   {
    "duration": 1309,
    "start_time": "2021-12-26T13:38:33.109Z"
   },
   {
    "duration": 153,
    "start_time": "2021-12-26T13:38:34.424Z"
   },
   {
    "duration": 73,
    "start_time": "2021-12-26T13:38:34.581Z"
   },
   {
    "duration": 22,
    "start_time": "2021-12-26T13:38:34.657Z"
   },
   {
    "duration": 71,
    "start_time": "2021-12-26T13:38:34.682Z"
   },
   {
    "duration": 119,
    "start_time": "2021-12-26T13:38:34.755Z"
   },
   {
    "duration": 47,
    "start_time": "2021-12-26T13:38:34.876Z"
   },
   {
    "duration": 17,
    "start_time": "2021-12-26T13:38:34.941Z"
   },
   {
    "duration": 16,
    "start_time": "2021-12-26T13:38:34.961Z"
   },
   {
    "duration": 946,
    "start_time": "2021-12-26T13:38:34.980Z"
   },
   {
    "duration": -19601,
    "start_time": "2021-12-26T13:38:55.530Z"
   },
   {
    "duration": -19604,
    "start_time": "2021-12-26T13:38:55.536Z"
   },
   {
    "duration": -19607,
    "start_time": "2021-12-26T13:38:55.541Z"
   },
   {
    "duration": -19614,
    "start_time": "2021-12-26T13:38:55.550Z"
   },
   {
    "duration": -19619,
    "start_time": "2021-12-26T13:38:55.558Z"
   },
   {
    "duration": -19627,
    "start_time": "2021-12-26T13:38:55.568Z"
   },
   {
    "duration": -19652,
    "start_time": "2021-12-26T13:38:55.596Z"
   },
   {
    "duration": -19662,
    "start_time": "2021-12-26T13:38:55.608Z"
   },
   {
    "duration": -19670,
    "start_time": "2021-12-26T13:38:55.618Z"
   },
   {
    "duration": -19675,
    "start_time": "2021-12-26T13:38:55.625Z"
   },
   {
    "duration": -19679,
    "start_time": "2021-12-26T13:38:55.632Z"
   },
   {
    "duration": -19683,
    "start_time": "2021-12-26T13:38:55.639Z"
   },
   {
    "duration": -19688,
    "start_time": "2021-12-26T13:38:55.647Z"
   },
   {
    "duration": -19724,
    "start_time": "2021-12-26T13:38:55.685Z"
   },
   {
    "duration": -19730,
    "start_time": "2021-12-26T13:38:55.693Z"
   },
   {
    "duration": -19690,
    "start_time": "2021-12-26T13:38:55.712Z"
   },
   {
    "duration": -19743,
    "start_time": "2021-12-26T13:38:55.768Z"
   },
   {
    "duration": -19751,
    "start_time": "2021-12-26T13:38:55.779Z"
   },
   {
    "duration": 709,
    "start_time": "2021-12-26T13:39:32.433Z"
   },
   {
    "duration": 697,
    "start_time": "2021-12-26T13:41:20.231Z"
   },
   {
    "duration": 407,
    "start_time": "2021-12-26T13:41:26.056Z"
   },
   {
    "duration": 804,
    "start_time": "2021-12-26T13:41:33.095Z"
   },
   {
    "duration": 370,
    "start_time": "2021-12-26T13:41:41.585Z"
   },
   {
    "duration": 768,
    "start_time": "2021-12-26T13:43:41.487Z"
   },
   {
    "duration": 671,
    "start_time": "2021-12-26T13:44:08.704Z"
   },
   {
    "duration": 609,
    "start_time": "2021-12-26T13:44:20.408Z"
   },
   {
    "duration": 684,
    "start_time": "2021-12-26T13:44:33.431Z"
   },
   {
    "duration": 381,
    "start_time": "2021-12-26T13:46:42.058Z"
   },
   {
    "duration": 367,
    "start_time": "2021-12-26T13:47:35.207Z"
   },
   {
    "duration": 973,
    "start_time": "2021-12-26T13:47:42.360Z"
   },
   {
    "duration": 148,
    "start_time": "2021-12-26T13:47:43.336Z"
   },
   {
    "duration": 53,
    "start_time": "2021-12-26T13:47:43.487Z"
   },
   {
    "duration": 22,
    "start_time": "2021-12-26T13:47:43.543Z"
   },
   {
    "duration": 82,
    "start_time": "2021-12-26T13:47:43.568Z"
   },
   {
    "duration": 123,
    "start_time": "2021-12-26T13:47:43.653Z"
   },
   {
    "duration": 12,
    "start_time": "2021-12-26T13:47:43.779Z"
   },
   {
    "duration": 44,
    "start_time": "2021-12-26T13:47:43.826Z"
   },
   {
    "duration": 23,
    "start_time": "2021-12-26T13:47:43.873Z"
   },
   {
    "duration": 485,
    "start_time": "2021-12-26T13:47:43.899Z"
   },
   {
    "duration": 257,
    "start_time": "2021-12-26T13:47:44.387Z"
   },
   {
    "duration": 2643,
    "start_time": "2021-12-26T13:47:44.646Z"
   },
   {
    "duration": 3096,
    "start_time": "2021-12-26T13:47:47.292Z"
   },
   {
    "duration": 2078,
    "start_time": "2021-12-26T13:47:50.391Z"
   },
   {
    "duration": 2220,
    "start_time": "2021-12-26T13:47:52.473Z"
   },
   {
    "duration": 2151,
    "start_time": "2021-12-26T13:47:54.696Z"
   },
   {
    "duration": 2428,
    "start_time": "2021-12-26T13:47:56.850Z"
   },
   {
    "duration": 80,
    "start_time": "2021-12-26T13:47:59.281Z"
   },
   {
    "duration": 82,
    "start_time": "2021-12-26T13:47:59.363Z"
   },
   {
    "duration": 1031,
    "start_time": "2021-12-26T13:47:59.448Z"
   },
   {
    "duration": 54,
    "start_time": "2021-12-26T13:48:00.482Z"
   },
   {
    "duration": 43,
    "start_time": "2021-12-26T13:48:00.538Z"
   },
   {
    "duration": 2254,
    "start_time": "2021-12-26T13:48:00.585Z"
   },
   {
    "duration": 261,
    "start_time": "2021-12-26T13:48:02.843Z"
   },
   {
    "duration": 242,
    "start_time": "2021-12-26T13:48:03.107Z"
   },
   {
    "duration": 756,
    "start_time": "2021-12-26T13:48:03.352Z"
   },
   {
    "duration": 175,
    "start_time": "2021-12-26T13:48:04.112Z"
   },
   {
    "duration": -19594,
    "start_time": "2021-12-26T13:48:23.884Z"
   },
   {
    "duration": 414,
    "start_time": "2021-12-26T14:05:42.588Z"
   },
   {
    "duration": 233,
    "start_time": "2021-12-26T14:06:56.502Z"
   },
   {
    "duration": 214,
    "start_time": "2021-12-26T14:07:13.781Z"
   },
   {
    "duration": 253,
    "start_time": "2021-12-26T14:07:33.461Z"
   },
   {
    "duration": 210,
    "start_time": "2021-12-26T14:07:42.556Z"
   },
   {
    "duration": 215,
    "start_time": "2021-12-26T14:08:29.513Z"
   },
   {
    "duration": 237,
    "start_time": "2021-12-26T14:09:32.606Z"
   },
   {
    "duration": 233,
    "start_time": "2021-12-26T14:09:42.839Z"
   },
   {
    "duration": 289,
    "start_time": "2021-12-26T14:09:51.299Z"
   },
   {
    "duration": 213,
    "start_time": "2021-12-26T14:10:00.945Z"
   },
   {
    "duration": 223,
    "start_time": "2021-12-26T14:10:05.435Z"
   },
   {
    "duration": 222,
    "start_time": "2021-12-26T14:29:50.159Z"
   },
   {
    "duration": 226,
    "start_time": "2021-12-26T14:30:12.933Z"
   },
   {
    "duration": 225,
    "start_time": "2021-12-26T14:30:45.249Z"
   },
   {
    "duration": 213,
    "start_time": "2021-12-26T14:31:08.612Z"
   },
   {
    "duration": 473,
    "start_time": "2021-12-26T14:31:40.961Z"
   },
   {
    "duration": 64,
    "start_time": "2021-12-26T15:05:47.737Z"
   },
   {
    "duration": 75,
    "start_time": "2021-12-26T15:06:07.311Z"
   },
   {
    "duration": 63,
    "start_time": "2021-12-26T15:06:28.523Z"
   },
   {
    "duration": 416,
    "start_time": "2021-12-26T15:07:08.894Z"
   },
   {
    "duration": 8,
    "start_time": "2021-12-26T15:07:15.169Z"
   },
   {
    "duration": 66,
    "start_time": "2021-12-26T15:23:13.650Z"
   },
   {
    "duration": 11,
    "start_time": "2021-12-26T15:23:29.419Z"
   },
   {
    "duration": 222,
    "start_time": "2021-12-26T15:23:53.327Z"
   },
   {
    "duration": 218,
    "start_time": "2021-12-26T15:25:44.401Z"
   },
   {
    "duration": 604,
    "start_time": "2021-12-26T15:26:50.494Z"
   },
   {
    "duration": 630,
    "start_time": "2021-12-26T15:27:13.083Z"
   },
   {
    "duration": 544,
    "start_time": "2021-12-26T15:27:25.789Z"
   },
   {
    "duration": 549,
    "start_time": "2021-12-26T15:29:14.415Z"
   },
   {
    "duration": 551,
    "start_time": "2021-12-26T15:30:21.591Z"
   },
   {
    "duration": 287,
    "start_time": "2021-12-26T15:30:38.963Z"
   },
   {
    "duration": 242,
    "start_time": "2021-12-26T15:30:47.227Z"
   },
   {
    "duration": 536,
    "start_time": "2021-12-26T15:31:18.475Z"
   },
   {
    "duration": 233,
    "start_time": "2021-12-26T15:31:25.881Z"
   },
   {
    "duration": 248,
    "start_time": "2021-12-26T15:32:01.398Z"
   },
   {
    "duration": 224,
    "start_time": "2021-12-26T15:32:30.152Z"
   },
   {
    "duration": 66,
    "start_time": "2021-12-26T15:32:45.433Z"
   },
   {
    "duration": 361,
    "start_time": "2021-12-26T16:08:10.582Z"
   },
   {
    "duration": 343,
    "start_time": "2021-12-26T16:08:30.023Z"
   },
   {
    "duration": 112,
    "start_time": "2021-12-26T16:08:45.013Z"
   },
   {
    "duration": 11942,
    "start_time": "2021-12-26T16:08:58.490Z"
   },
   {
    "duration": 10790,
    "start_time": "2021-12-26T16:09:27.407Z"
   },
   {
    "duration": 10800,
    "start_time": "2021-12-26T16:10:06.204Z"
   },
   {
    "duration": 3954,
    "start_time": "2021-12-26T16:10:31.521Z"
   },
   {
    "duration": 28,
    "start_time": "2021-12-26T16:10:46.689Z"
   },
   {
    "duration": 29,
    "start_time": "2021-12-26T16:10:56.882Z"
   },
   {
    "duration": 5231,
    "start_time": "2021-12-26T16:11:41.398Z"
   },
   {
    "duration": 4131,
    "start_time": "2021-12-26T16:12:07.915Z"
   },
   {
    "duration": 4437,
    "start_time": "2021-12-26T16:14:00.260Z"
   },
   {
    "duration": 339,
    "start_time": "2021-12-26T16:20:16.310Z"
   },
   {
    "duration": 243,
    "start_time": "2021-12-26T16:20:48.434Z"
   },
   {
    "duration": 287,
    "start_time": "2021-12-26T16:21:13.408Z"
   },
   {
    "duration": 227,
    "start_time": "2021-12-26T16:21:44.591Z"
   },
   {
    "duration": 309,
    "start_time": "2021-12-26T16:22:31.058Z"
   },
   {
    "duration": 633,
    "start_time": "2021-12-26T16:23:05.902Z"
   },
   {
    "duration": 245,
    "start_time": "2021-12-26T16:23:14.906Z"
   },
   {
    "duration": 495,
    "start_time": "2021-12-26T16:24:23.077Z"
   },
   {
    "duration": 239,
    "start_time": "2021-12-26T16:24:31.103Z"
   },
   {
    "duration": 564,
    "start_time": "2021-12-26T16:24:40.788Z"
   },
   {
    "duration": 608,
    "start_time": "2021-12-26T16:24:59.198Z"
   },
   {
    "duration": 298,
    "start_time": "2021-12-26T16:26:52.614Z"
   },
   {
    "duration": 250,
    "start_time": "2021-12-26T16:27:27.027Z"
   },
   {
    "duration": 454,
    "start_time": "2021-12-26T16:29:47.733Z"
   },
   {
    "duration": 365,
    "start_time": "2021-12-26T16:30:07.129Z"
   },
   {
    "duration": 229,
    "start_time": "2021-12-26T16:32:30.756Z"
   },
   {
    "duration": 235,
    "start_time": "2021-12-26T16:32:40.361Z"
   },
   {
    "duration": 349,
    "start_time": "2021-12-26T16:32:59.164Z"
   },
   {
    "duration": 438,
    "start_time": "2021-12-26T16:33:19.738Z"
   },
   {
    "duration": 465,
    "start_time": "2021-12-26T16:33:28.675Z"
   },
   {
    "duration": 394,
    "start_time": "2021-12-26T16:38:39.827Z"
   },
   {
    "duration": 107,
    "start_time": "2021-12-26T16:38:53.030Z"
   },
   {
    "duration": 121,
    "start_time": "2021-12-26T16:39:01.071Z"
   },
   {
    "duration": 122,
    "start_time": "2021-12-26T16:39:40.957Z"
   },
   {
    "duration": 26,
    "start_time": "2021-12-26T16:44:15.474Z"
   },
   {
    "duration": 40,
    "start_time": "2021-12-26T16:44:34.882Z"
   },
   {
    "duration": 225,
    "start_time": "2021-12-26T16:44:46.262Z"
   },
   {
    "duration": 269,
    "start_time": "2021-12-26T16:45:34.342Z"
   },
   {
    "duration": 415,
    "start_time": "2021-12-26T16:45:38.363Z"
   },
   {
    "duration": 37,
    "start_time": "2021-12-26T16:45:47.815Z"
   },
   {
    "duration": 79,
    "start_time": "2021-12-26T16:46:09.728Z"
   },
   {
    "duration": 40,
    "start_time": "2021-12-26T16:46:51.928Z"
   },
   {
    "duration": 76,
    "start_time": "2021-12-26T16:50:14.542Z"
   },
   {
    "duration": 904,
    "start_time": "2021-12-26T16:51:33.079Z"
   },
   {
    "duration": 3635,
    "start_time": "2021-12-26T16:51:38.804Z"
   },
   {
    "duration": 3689,
    "start_time": "2021-12-26T16:51:49.124Z"
   },
   {
    "duration": 3618,
    "start_time": "2021-12-26T16:52:28.776Z"
   },
   {
    "duration": 213,
    "start_time": "2021-12-26T17:00:09.086Z"
   },
   {
    "duration": 1829,
    "start_time": "2021-12-26T17:00:22.081Z"
   },
   {
    "duration": 344,
    "start_time": "2021-12-26T17:04:09.048Z"
   },
   {
    "duration": 286,
    "start_time": "2021-12-26T17:04:21.169Z"
   },
   {
    "duration": 42,
    "start_time": "2021-12-26T18:09:21.576Z"
   },
   {
    "duration": 39,
    "start_time": "2021-12-26T18:10:32.187Z"
   },
   {
    "duration": 41,
    "start_time": "2021-12-26T18:10:42.873Z"
   },
   {
    "duration": 37,
    "start_time": "2021-12-26T18:12:47.081Z"
   },
   {
    "duration": 48,
    "start_time": "2021-12-26T18:13:26.570Z"
   },
   {
    "duration": 12959,
    "start_time": "2021-12-26T18:14:10.985Z"
   },
   {
    "duration": -19691,
    "start_time": "2021-12-26T18:15:53.707Z"
   },
   {
    "duration": 35,
    "start_time": "2021-12-26T18:15:45.876Z"
   },
   {
    "duration": 16813,
    "start_time": "2021-12-26T18:19:02.396Z"
   },
   {
    "duration": 35,
    "start_time": "2021-12-26T18:21:24.532Z"
   },
   {
    "duration": 625,
    "start_time": "2021-12-26T18:31:43.339Z"
   },
   {
    "duration": 350,
    "start_time": "2021-12-26T18:32:12.799Z"
   },
   {
    "duration": 63,
    "start_time": "2021-12-26T18:33:31.962Z"
   },
   {
    "duration": 153,
    "start_time": "2021-12-26T18:35:24.628Z"
   },
   {
    "duration": 78,
    "start_time": "2021-12-26T18:35:33.719Z"
   },
   {
    "duration": 21,
    "start_time": "2021-12-26T18:40:00.651Z"
   },
   {
    "duration": 531,
    "start_time": "2021-12-26T18:41:52.795Z"
   },
   {
    "duration": 567,
    "start_time": "2021-12-26T18:42:17.611Z"
   },
   {
    "duration": 645,
    "start_time": "2021-12-26T18:42:24.617Z"
   },
   {
    "duration": 530,
    "start_time": "2021-12-26T18:43:45.735Z"
   },
   {
    "duration": 660,
    "start_time": "2021-12-26T18:43:56.033Z"
   },
   {
    "duration": 731,
    "start_time": "2021-12-26T18:44:05.279Z"
   },
   {
    "duration": 132,
    "start_time": "2021-12-26T19:29:21.944Z"
   },
   {
    "duration": 69,
    "start_time": "2021-12-26T19:29:27.556Z"
   },
   {
    "duration": 66,
    "start_time": "2021-12-26T19:29:38.038Z"
   },
   {
    "duration": 14912,
    "start_time": "2021-12-26T19:33:04.611Z"
   },
   {
    "duration": 4384,
    "start_time": "2021-12-26T19:33:32.432Z"
   },
   {
    "duration": 3017,
    "start_time": "2021-12-26T19:35:00.920Z"
   },
   {
    "duration": 282,
    "start_time": "2021-12-26T19:37:49.273Z"
   },
   {
    "duration": 171,
    "start_time": "2021-12-27T14:41:24.804Z"
   },
   {
    "duration": 670,
    "start_time": "2021-12-27T14:41:32.742Z"
   },
   {
    "duration": 85,
    "start_time": "2021-12-27T14:41:33.414Z"
   },
   {
    "duration": 26,
    "start_time": "2021-12-27T14:41:33.502Z"
   },
   {
    "duration": 33,
    "start_time": "2021-12-27T14:41:33.530Z"
   },
   {
    "duration": 44,
    "start_time": "2021-12-27T14:41:33.566Z"
   },
   {
    "duration": 85,
    "start_time": "2021-12-27T14:41:33.612Z"
   },
   {
    "duration": 12,
    "start_time": "2021-12-27T14:41:33.699Z"
   },
   {
    "duration": 29,
    "start_time": "2021-12-27T14:41:33.715Z"
   },
   {
    "duration": 14,
    "start_time": "2021-12-27T14:41:33.748Z"
   },
   {
    "duration": 335,
    "start_time": "2021-12-27T14:41:33.792Z"
   },
   {
    "duration": 180,
    "start_time": "2021-12-27T14:41:34.129Z"
   },
   {
    "duration": 1669,
    "start_time": "2021-12-27T14:41:34.311Z"
   },
   {
    "duration": 1588,
    "start_time": "2021-12-27T14:41:35.982Z"
   },
   {
    "duration": 1343,
    "start_time": "2021-12-27T14:41:37.572Z"
   },
   {
    "duration": 1340,
    "start_time": "2021-12-27T14:41:38.918Z"
   },
   {
    "duration": 1361,
    "start_time": "2021-12-27T14:41:40.260Z"
   },
   {
    "duration": 1401,
    "start_time": "2021-12-27T14:41:41.623Z"
   },
   {
    "duration": 69,
    "start_time": "2021-12-27T14:41:43.027Z"
   },
   {
    "duration": 31,
    "start_time": "2021-12-27T14:41:43.098Z"
   },
   {
    "duration": 636,
    "start_time": "2021-12-27T14:41:43.131Z"
   },
   {
    "duration": 37,
    "start_time": "2021-12-27T14:41:43.769Z"
   },
   {
    "duration": 26,
    "start_time": "2021-12-27T14:41:43.816Z"
   },
   {
    "duration": 1386,
    "start_time": "2021-12-27T14:41:43.845Z"
   },
   {
    "duration": 183,
    "start_time": "2021-12-27T14:41:45.234Z"
   },
   {
    "duration": 166,
    "start_time": "2021-12-27T14:41:45.419Z"
   },
   {
    "duration": 230,
    "start_time": "2021-12-27T14:41:45.587Z"
   },
   {
    "duration": 176,
    "start_time": "2021-12-27T14:41:45.819Z"
   },
   {
    "duration": 295,
    "start_time": "2021-12-27T14:41:45.997Z"
   },
   {
    "duration": 211,
    "start_time": "2021-12-27T14:41:46.294Z"
   },
   {
    "duration": -19385,
    "start_time": "2021-12-27T14:42:05.892Z"
   },
   {
    "duration": -19446,
    "start_time": "2021-12-27T14:42:05.954Z"
   },
   {
    "duration": -19455,
    "start_time": "2021-12-27T14:42:05.964Z"
   },
   {
    "duration": -19504,
    "start_time": "2021-12-27T14:42:06.014Z"
   },
   {
    "duration": -19512,
    "start_time": "2021-12-27T14:42:06.023Z"
   },
   {
    "duration": -19522,
    "start_time": "2021-12-27T14:42:06.034Z"
   },
   {
    "duration": -19531,
    "start_time": "2021-12-27T14:42:06.044Z"
   },
   {
    "duration": -19539,
    "start_time": "2021-12-27T14:42:06.053Z"
   },
   {
    "duration": -19550,
    "start_time": "2021-12-27T14:42:06.065Z"
   },
   {
    "duration": 48,
    "start_time": "2021-12-27T14:46:32.644Z"
   },
   {
    "duration": 507,
    "start_time": "2021-12-27T14:46:53.274Z"
   },
   {
    "duration": 523,
    "start_time": "2021-12-27T14:51:09.683Z"
   },
   {
    "duration": 671,
    "start_time": "2021-12-27T14:52:32.135Z"
   },
   {
    "duration": 173,
    "start_time": "2021-12-27T14:54:36.784Z"
   },
   {
    "duration": 530,
    "start_time": "2021-12-27T14:54:47.620Z"
   },
   {
    "duration": 153,
    "start_time": "2021-12-27T14:55:01.474Z"
   },
   {
    "duration": 141,
    "start_time": "2021-12-27T14:55:24.891Z"
   },
   {
    "duration": 24,
    "start_time": "2021-12-27T14:55:53.375Z"
   },
   {
    "duration": 54,
    "start_time": "2021-12-27T14:56:16.488Z"
   },
   {
    "duration": 625,
    "start_time": "2021-12-27T14:57:16.931Z"
   },
   {
    "duration": 81,
    "start_time": "2021-12-27T14:57:17.560Z"
   },
   {
    "duration": 24,
    "start_time": "2021-12-27T14:57:17.643Z"
   },
   {
    "duration": 32,
    "start_time": "2021-12-27T14:57:17.668Z"
   },
   {
    "duration": 25,
    "start_time": "2021-12-27T14:57:17.702Z"
   },
   {
    "duration": 83,
    "start_time": "2021-12-27T14:57:17.729Z"
   },
   {
    "duration": 9,
    "start_time": "2021-12-27T14:57:17.815Z"
   },
   {
    "duration": 22,
    "start_time": "2021-12-27T14:57:17.827Z"
   },
   {
    "duration": 16,
    "start_time": "2021-12-27T14:57:17.851Z"
   },
   {
    "duration": 303,
    "start_time": "2021-12-27T14:57:17.891Z"
   },
   {
    "duration": 166,
    "start_time": "2021-12-27T14:57:18.196Z"
   },
   {
    "duration": 1595,
    "start_time": "2021-12-27T14:57:18.364Z"
   },
   {
    "duration": 1755,
    "start_time": "2021-12-27T14:57:19.966Z"
   },
   {
    "duration": 1345,
    "start_time": "2021-12-27T14:57:21.722Z"
   },
   {
    "duration": 1383,
    "start_time": "2021-12-27T14:57:23.069Z"
   },
   {
    "duration": 1449,
    "start_time": "2021-12-27T14:57:24.454Z"
   },
   {
    "duration": 1605,
    "start_time": "2021-12-27T14:57:25.905Z"
   },
   {
    "duration": 59,
    "start_time": "2021-12-27T14:57:27.512Z"
   },
   {
    "duration": 34,
    "start_time": "2021-12-27T14:57:27.591Z"
   },
   {
    "duration": 656,
    "start_time": "2021-12-27T14:57:27.627Z"
   },
   {
    "duration": 25,
    "start_time": "2021-12-27T14:57:28.284Z"
   },
   {
    "duration": 26,
    "start_time": "2021-12-27T14:57:28.312Z"
   },
   {
    "duration": 1388,
    "start_time": "2021-12-27T14:57:28.340Z"
   },
   {
    "duration": 167,
    "start_time": "2021-12-27T14:57:29.730Z"
   },
   {
    "duration": 160,
    "start_time": "2021-12-27T14:57:29.899Z"
   },
   {
    "duration": 232,
    "start_time": "2021-12-27T14:57:30.061Z"
   },
   {
    "duration": 167,
    "start_time": "2021-12-27T14:57:30.294Z"
   },
   {
    "duration": 285,
    "start_time": "2021-12-27T14:57:30.463Z"
   },
   {
    "duration": 66,
    "start_time": "2021-12-27T14:57:30.750Z"
   },
   {
    "duration": 3375,
    "start_time": "2021-12-27T14:57:30.818Z"
   },
   {
    "duration": 213,
    "start_time": "2021-12-27T14:57:34.195Z"
   },
   {
    "duration": 26,
    "start_time": "2021-12-27T14:57:34.410Z"
   },
   {
    "duration": 78,
    "start_time": "2021-12-27T14:57:34.438Z"
   },
   {
    "duration": 14,
    "start_time": "2021-12-27T14:57:34.518Z"
   },
   {
    "duration": 481,
    "start_time": "2021-12-27T14:57:34.534Z"
   },
   {
    "duration": 120,
    "start_time": "2021-12-27T14:57:35.016Z"
   },
   {
    "duration": 2073,
    "start_time": "2021-12-27T14:57:35.137Z"
   },
   {
    "duration": 221,
    "start_time": "2021-12-27T14:57:37.213Z"
   },
   {
    "duration": 2095,
    "start_time": "2021-12-27T15:58:36.374Z"
   },
   {
    "duration": 77,
    "start_time": "2021-12-27T15:58:38.471Z"
   },
   {
    "duration": 41,
    "start_time": "2021-12-27T15:58:38.551Z"
   },
   {
    "duration": 12,
    "start_time": "2021-12-27T15:58:38.594Z"
   },
   {
    "duration": 44,
    "start_time": "2021-12-27T15:58:38.608Z"
   },
   {
    "duration": 72,
    "start_time": "2021-12-27T15:58:38.654Z"
   },
   {
    "duration": 8,
    "start_time": "2021-12-27T15:58:38.728Z"
   },
   {
    "duration": 31,
    "start_time": "2021-12-27T15:58:38.738Z"
   },
   {
    "duration": 30,
    "start_time": "2021-12-27T15:58:38.772Z"
   },
   {
    "duration": 311,
    "start_time": "2021-12-27T15:58:38.804Z"
   },
   {
    "duration": 158,
    "start_time": "2021-12-27T15:58:39.116Z"
   },
   {
    "duration": 1589,
    "start_time": "2021-12-27T15:58:39.275Z"
   },
   {
    "duration": 1614,
    "start_time": "2021-12-27T15:58:40.866Z"
   },
   {
    "duration": 1315,
    "start_time": "2021-12-27T15:58:42.482Z"
   },
   {
    "duration": 1326,
    "start_time": "2021-12-27T15:58:43.798Z"
   },
   {
    "duration": 1388,
    "start_time": "2021-12-27T15:58:45.126Z"
   },
   {
    "duration": 1412,
    "start_time": "2021-12-27T15:58:46.515Z"
   },
   {
    "duration": 69,
    "start_time": "2021-12-27T15:58:47.928Z"
   },
   {
    "duration": 30,
    "start_time": "2021-12-27T15:58:47.999Z"
   },
   {
    "duration": 634,
    "start_time": "2021-12-27T15:58:48.031Z"
   },
   {
    "duration": 36,
    "start_time": "2021-12-27T15:58:48.667Z"
   },
   {
    "duration": 26,
    "start_time": "2021-12-27T15:58:48.705Z"
   },
   {
    "duration": 1400,
    "start_time": "2021-12-27T15:58:48.734Z"
   },
   {
    "duration": 177,
    "start_time": "2021-12-27T15:58:50.136Z"
   },
   {
    "duration": 159,
    "start_time": "2021-12-27T15:58:50.315Z"
   },
   {
    "duration": 227,
    "start_time": "2021-12-27T15:58:50.475Z"
   },
   {
    "duration": 169,
    "start_time": "2021-12-27T15:58:50.704Z"
   },
   {
    "duration": 290,
    "start_time": "2021-12-27T15:58:50.875Z"
   },
   {
    "duration": 69,
    "start_time": "2021-12-27T15:58:51.167Z"
   },
   {
    "duration": 3353,
    "start_time": "2021-12-27T15:58:51.238Z"
   },
   {
    "duration": 204,
    "start_time": "2021-12-27T15:58:54.593Z"
   },
   {
    "duration": 23,
    "start_time": "2021-12-27T15:58:54.799Z"
   },
   {
    "duration": 74,
    "start_time": "2021-12-27T15:58:54.824Z"
   },
   {
    "duration": 12,
    "start_time": "2021-12-27T15:58:54.900Z"
   },
   {
    "duration": 487,
    "start_time": "2021-12-27T15:58:54.914Z"
   },
   {
    "duration": 121,
    "start_time": "2021-12-27T15:58:55.403Z"
   },
   {
    "duration": 2015,
    "start_time": "2021-12-27T15:58:55.526Z"
   },
   {
    "duration": 203,
    "start_time": "2021-12-27T15:58:57.542Z"
   },
   {
    "duration": 42,
    "start_time": "2021-12-27T16:13:17.401Z"
   },
   {
    "duration": 2082,
    "start_time": "2021-12-27T16:13:23.994Z"
   },
   {
    "duration": 646,
    "start_time": "2021-12-28T13:09:12.035Z"
   },
   {
    "duration": 73,
    "start_time": "2021-12-28T13:09:12.691Z"
   },
   {
    "duration": 35,
    "start_time": "2021-12-28T13:09:12.766Z"
   },
   {
    "duration": 14,
    "start_time": "2021-12-28T13:09:12.802Z"
   },
   {
    "duration": 29,
    "start_time": "2021-12-28T13:09:12.818Z"
   },
   {
    "duration": 75,
    "start_time": "2021-12-28T13:09:12.849Z"
   },
   {
    "duration": 8,
    "start_time": "2021-12-28T13:09:12.926Z"
   },
   {
    "duration": 13,
    "start_time": "2021-12-28T13:09:12.936Z"
   },
   {
    "duration": 8,
    "start_time": "2021-12-28T13:09:12.951Z"
   },
   {
    "duration": 337,
    "start_time": "2021-12-28T13:09:12.961Z"
   },
   {
    "duration": 159,
    "start_time": "2021-12-28T13:09:13.300Z"
   },
   {
    "duration": 1601,
    "start_time": "2021-12-28T13:09:13.461Z"
   },
   {
    "duration": 1599,
    "start_time": "2021-12-28T13:09:15.063Z"
   },
   {
    "duration": 1349,
    "start_time": "2021-12-28T13:09:16.664Z"
   },
   {
    "duration": 1386,
    "start_time": "2021-12-28T13:09:18.015Z"
   },
   {
    "duration": 1426,
    "start_time": "2021-12-28T13:09:19.403Z"
   },
   {
    "duration": 1386,
    "start_time": "2021-12-28T13:09:20.831Z"
   },
   {
    "duration": 50,
    "start_time": "2021-12-28T13:09:22.218Z"
   },
   {
    "duration": 51,
    "start_time": "2021-12-28T13:09:22.270Z"
   },
   {
    "duration": 653,
    "start_time": "2021-12-28T13:09:22.323Z"
   },
   {
    "duration": 33,
    "start_time": "2021-12-28T13:09:22.978Z"
   },
   {
    "duration": 26,
    "start_time": "2021-12-28T13:09:23.012Z"
   },
   {
    "duration": 1394,
    "start_time": "2021-12-28T13:09:23.041Z"
   },
   {
    "duration": 166,
    "start_time": "2021-12-28T13:09:24.437Z"
   },
   {
    "duration": 154,
    "start_time": "2021-12-28T13:09:24.604Z"
   },
   {
    "duration": 231,
    "start_time": "2021-12-28T13:09:24.760Z"
   },
   {
    "duration": 169,
    "start_time": "2021-12-28T13:09:24.992Z"
   },
   {
    "duration": 281,
    "start_time": "2021-12-28T13:09:25.163Z"
   },
   {
    "duration": 68,
    "start_time": "2021-12-28T13:09:25.446Z"
   },
   {
    "duration": 3257,
    "start_time": "2021-12-28T13:09:25.516Z"
   },
   {
    "duration": 193,
    "start_time": "2021-12-28T13:09:28.774Z"
   },
   {
    "duration": 38,
    "start_time": "2021-12-28T13:09:28.968Z"
   },
   {
    "duration": 51,
    "start_time": "2021-12-28T13:09:29.007Z"
   },
   {
    "duration": 13,
    "start_time": "2021-12-28T13:09:29.060Z"
   },
   {
    "duration": 489,
    "start_time": "2021-12-28T13:09:29.074Z"
   },
   {
    "duration": 116,
    "start_time": "2021-12-28T13:09:29.565Z"
   },
   {
    "duration": 2109,
    "start_time": "2021-12-28T13:09:29.682Z"
   },
   {
    "duration": 198,
    "start_time": "2021-12-28T13:09:31.793Z"
   },
   {
    "duration": 94,
    "start_time": "2022-01-10T11:30:11.565Z"
   },
   {
    "duration": 107,
    "start_time": "2022-01-10T11:31:00.196Z"
   },
   {
    "duration": 92,
    "start_time": "2022-01-10T11:31:10.036Z"
   },
   {
    "duration": 90,
    "start_time": "2022-01-10T11:31:38.566Z"
   },
   {
    "duration": 96,
    "start_time": "2022-01-10T11:31:42.877Z"
   },
   {
    "duration": 131,
    "start_time": "2022-01-10T11:31:46.211Z"
   },
   {
    "duration": 92,
    "start_time": "2022-01-10T11:32:11.376Z"
   },
   {
    "duration": 89,
    "start_time": "2022-01-10T11:33:23.414Z"
   },
   {
    "duration": 290,
    "start_time": "2022-01-19T18:48:24.857Z"
   },
   {
    "duration": 655,
    "start_time": "2022-01-19T18:48:30.330Z"
   },
   {
    "duration": 77,
    "start_time": "2022-01-19T18:48:30.987Z"
   },
   {
    "duration": 25,
    "start_time": "2022-01-19T18:48:31.065Z"
   },
   {
    "duration": 24,
    "start_time": "2022-01-19T18:48:31.091Z"
   },
   {
    "duration": 29,
    "start_time": "2022-01-19T18:48:31.117Z"
   },
   {
    "duration": 83,
    "start_time": "2022-01-19T18:48:31.148Z"
   },
   {
    "duration": 8,
    "start_time": "2022-01-19T18:48:31.233Z"
   },
   {
    "duration": 11,
    "start_time": "2022-01-19T18:48:31.243Z"
   },
   {
    "duration": 9,
    "start_time": "2022-01-19T18:48:31.256Z"
   },
   {
    "duration": 326,
    "start_time": "2022-01-19T18:48:31.267Z"
   },
   {
    "duration": 148,
    "start_time": "2022-01-19T18:48:31.595Z"
   },
   {
    "duration": 1508,
    "start_time": "2022-01-19T18:48:31.745Z"
   },
   {
    "duration": 1538,
    "start_time": "2022-01-19T18:48:33.254Z"
   },
   {
    "duration": 1259,
    "start_time": "2022-01-19T18:48:34.793Z"
   },
   {
    "duration": 1325,
    "start_time": "2022-01-19T18:48:36.054Z"
   },
   {
    "duration": 1293,
    "start_time": "2022-01-19T18:48:37.380Z"
   },
   {
    "duration": 1346,
    "start_time": "2022-01-19T18:48:38.674Z"
   },
   {
    "duration": 45,
    "start_time": "2022-01-19T18:48:40.022Z"
   },
   {
    "duration": 49,
    "start_time": "2022-01-19T18:48:40.068Z"
   },
   {
    "duration": 10,
    "start_time": "2022-01-19T18:48:40.119Z"
   },
   {
    "duration": 651,
    "start_time": "2022-01-19T18:48:40.130Z"
   },
   {
    "duration": 22,
    "start_time": "2022-01-19T18:48:40.783Z"
   },
   {
    "duration": 24,
    "start_time": "2022-01-19T18:48:40.814Z"
   },
   {
    "duration": 1376,
    "start_time": "2022-01-19T18:48:40.840Z"
   },
   {
    "duration": 162,
    "start_time": "2022-01-19T18:48:42.218Z"
   },
   {
    "duration": 152,
    "start_time": "2022-01-19T18:48:42.382Z"
   },
   {
    "duration": 213,
    "start_time": "2022-01-19T18:48:42.535Z"
   },
   {
    "duration": 147,
    "start_time": "2022-01-19T18:48:42.749Z"
   },
   {
    "duration": 283,
    "start_time": "2022-01-19T18:48:42.898Z"
   },
   {
    "duration": 64,
    "start_time": "2022-01-19T18:48:43.182Z"
   },
   {
    "duration": 3080,
    "start_time": "2022-01-19T18:48:43.248Z"
   },
   {
    "duration": 170,
    "start_time": "2022-01-19T18:48:46.330Z"
   },
   {
    "duration": 29,
    "start_time": "2022-01-19T18:48:46.501Z"
   },
   {
    "duration": 42,
    "start_time": "2022-01-19T18:48:46.532Z"
   },
   {
    "duration": 11,
    "start_time": "2022-01-19T18:48:46.575Z"
   },
   {
    "duration": 409,
    "start_time": "2022-01-19T18:48:46.587Z"
   },
   {
    "duration": 92,
    "start_time": "2022-01-19T18:48:46.997Z"
   },
   {
    "duration": 1718,
    "start_time": "2022-01-19T18:48:47.090Z"
   },
   {
    "duration": 163,
    "start_time": "2022-01-19T18:48:48.812Z"
   }
  ],
  "kernelspec": {
   "display_name": "Python 3 (ipykernel)",
   "language": "python",
   "name": "python3"
  },
  "language_info": {
   "codemirror_mode": {
    "name": "ipython",
    "version": 3
   },
   "file_extension": ".py",
   "mimetype": "text/x-python",
   "name": "python",
   "nbconvert_exporter": "python",
   "pygments_lexer": "ipython3",
   "version": "3.9.7"
  },
  "toc": {
   "base_numbering": 1,
   "nav_menu": {},
   "number_sections": true,
   "sideBar": true,
   "skip_h1_title": true,
   "title_cell": "Содержание",
   "title_sidebar": "Contents",
   "toc_cell": true,
   "toc_position": {
    "height": "calc(100% - 180px)",
    "left": "10px",
    "top": "150px",
    "width": "165px"
   },
   "toc_section_display": true,
   "toc_window_display": false
  }
 },
 "nbformat": 4,
 "nbformat_minor": 2
}
